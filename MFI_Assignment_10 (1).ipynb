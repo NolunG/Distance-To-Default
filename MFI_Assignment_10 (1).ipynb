{
 "cells": [
  {
   "cell_type": "markdown",
   "metadata": {},
   "source": [
    "# MFI Assignment 10: Distance To Default Calculation"
   ]
  },
  {
   "cell_type": "markdown",
   "metadata": {},
   "source": [
    "#### Importing Libraries"
   ]
  },
  {
   "cell_type": "code",
   "execution_count": 30,
   "metadata": {},
   "outputs": [],
   "source": [
    "import pandas as pd\n",
    "import warnings\n",
    "import numpy as np\n",
    "import plotly.graph_objects as go\n",
    "import plotly.io as pio\n",
    "from scipy.optimize import fsolve\n",
    "import scipy.stats as stat\n",
    "from plotly.subplots import make_subplots\n"
   ]
  },
  {
   "cell_type": "markdown",
   "metadata": {},
   "source": [
    "#### Importing FRED Datasets\n",
    "BAFFM dataset, NBER Recession Data, CFSI Stress Index and Risk Free Rate from DTB3. All supplementary datasets are imported here first and then used subsequently when needed"
   ]
  },
  {
   "cell_type": "code",
   "execution_count": 81,
   "metadata": {},
   "outputs": [
    {
     "data": {
      "text/html": [
       "<div>\n",
       "<style scoped>\n",
       "    .dataframe tbody tr th:only-of-type {\n",
       "        vertical-align: middle;\n",
       "    }\n",
       "\n",
       "    .dataframe tbody tr th {\n",
       "        vertical-align: top;\n",
       "    }\n",
       "\n",
       "    .dataframe thead th {\n",
       "        text-align: right;\n",
       "    }\n",
       "</style>\n",
       "<table border=\"1\" class=\"dataframe\">\n",
       "  <thead>\n",
       "    <tr style=\"text-align: right;\">\n",
       "      <th></th>\n",
       "      <th>fyear</th>\n",
       "      <th>BAAFFM</th>\n",
       "    </tr>\n",
       "  </thead>\n",
       "  <tbody>\n",
       "    <tr>\n",
       "      <th>0</th>\n",
       "      <td>1954</td>\n",
       "      <td>2.463333</td>\n",
       "    </tr>\n",
       "    <tr>\n",
       "      <th>1</th>\n",
       "      <td>1955</td>\n",
       "      <td>1.745000</td>\n",
       "    </tr>\n",
       "    <tr>\n",
       "      <th>2</th>\n",
       "      <td>1956</td>\n",
       "      <td>1.149167</td>\n",
       "    </tr>\n",
       "    <tr>\n",
       "      <th>3</th>\n",
       "      <td>1957</td>\n",
       "      <td>1.609167</td>\n",
       "    </tr>\n",
       "    <tr>\n",
       "      <th>4</th>\n",
       "      <td>1958</td>\n",
       "      <td>3.154167</td>\n",
       "    </tr>\n",
       "  </tbody>\n",
       "</table>\n",
       "</div>"
      ],
      "text/plain": [
       "   fyear    BAAFFM\n",
       "0   1954  2.463333\n",
       "1   1955  1.745000\n",
       "2   1956  1.149167\n",
       "3   1957  1.609167\n",
       "4   1958  3.154167"
      ]
     },
     "execution_count": 81,
     "metadata": {},
     "output_type": "execute_result"
    }
   ],
   "source": [
    "## Reading BAAFFM Data\n",
    "warnings.filterwarnings(\"ignore\")\n",
    "\n",
    "path = \"D:/Data/\"\n",
    "fred_baaffm = pd.read_csv(path+'BAAFFM.csv', header = 0)\n",
    "\n",
    "fred_baaffm['DATE'] = pd.to_datetime(fred_baaffm['DATE'])\n",
    "fred_baaffm['DATE'] = pd.DatetimeIndex(fred_baaffm['DATE']).year\n",
    "fred_baaffm = (fred_baaffm.groupby(['DATE'], as_index=False).mean().groupby('DATE')['BAAFFM'].mean())\n",
    "fred_baaffm = fred_baaffm.reset_index()\n",
    "fred_baaffm = fred_baaffm.rename(columns= {\"DATE\":\"fyear\"})\n",
    "fred_baaffm.head()"
   ]
  },
  {
   "cell_type": "code",
   "execution_count": 84,
   "metadata": {},
   "outputs": [
    {
     "data": {
      "text/html": [
       "<div>\n",
       "<style scoped>\n",
       "    .dataframe tbody tr th:only-of-type {\n",
       "        vertical-align: middle;\n",
       "    }\n",
       "\n",
       "    .dataframe tbody tr th {\n",
       "        vertical-align: top;\n",
       "    }\n",
       "\n",
       "    .dataframe thead th {\n",
       "        text-align: right;\n",
       "    }\n",
       "</style>\n",
       "<table border=\"1\" class=\"dataframe\">\n",
       "  <thead>\n",
       "    <tr style=\"text-align: right;\">\n",
       "      <th></th>\n",
       "      <th>fyear</th>\n",
       "      <th>CFSI</th>\n",
       "    </tr>\n",
       "  </thead>\n",
       "  <tbody>\n",
       "    <tr>\n",
       "      <th>0</th>\n",
       "      <td>2011</td>\n",
       "      <td>1.256971</td>\n",
       "    </tr>\n",
       "    <tr>\n",
       "      <th>1</th>\n",
       "      <td>2012</td>\n",
       "      <td>0.960191</td>\n",
       "    </tr>\n",
       "    <tr>\n",
       "      <th>2</th>\n",
       "      <td>2013</td>\n",
       "      <td>-0.649726</td>\n",
       "    </tr>\n",
       "    <tr>\n",
       "      <th>3</th>\n",
       "      <td>2014</td>\n",
       "      <td>-0.989452</td>\n",
       "    </tr>\n",
       "    <tr>\n",
       "      <th>4</th>\n",
       "      <td>2015</td>\n",
       "      <td>0.173452</td>\n",
       "    </tr>\n",
       "  </tbody>\n",
       "</table>\n",
       "</div>"
      ],
      "text/plain": [
       "   fyear      CFSI\n",
       "0   2011  1.256971\n",
       "1   2012  0.960191\n",
       "2   2013 -0.649726\n",
       "3   2014 -0.989452\n",
       "4   2015  0.173452"
      ]
     },
     "execution_count": 84,
     "metadata": {},
     "output_type": "execute_result"
    }
   ],
   "source": [
    "## Readinog CFSI data\n",
    "\n",
    "fred_cfsi = pd.read_csv(path+'CFSI.csv', header = 0)\n",
    "\n",
    "fred_cfsi['DATE'] = pd.to_datetime(fred_cfsi['DATE'])\n",
    "fred_cfsi['DATE'] = pd.DatetimeIndex(fred_cfsi['DATE']).year\n",
    "fred_cfsi = (fred_cfsi.groupby(['DATE'], as_index=False).mean().groupby('DATE')['CFSI'].mean())\n",
    "fred_cfsi = fred_cfsi.reset_index()\n",
    "fred_cfsi = fred_cfsi.rename(columns= {\"DATE\":\"fyear\"})\n",
    "fred_cfsi.head()"
   ]
  },
  {
   "cell_type": "code",
   "execution_count": 20,
   "metadata": {},
   "outputs": [
    {
     "data": {
      "text/plain": [
       "fyear\n",
       "1970    0.076220\n",
       "1971    0.047742\n",
       "1972    0.036235\n",
       "1973    0.050883\n",
       "1974    0.072507\n",
       "Name: r, dtype: float64"
      ]
     },
     "execution_count": 20,
     "metadata": {},
     "output_type": "execute_result"
    }
   ],
   "source": [
    "##Reading the interest rate data\n",
    "\n",
    "rf_daily = pd.read_csv(path+\"DTB3.csv\")\n",
    "\n",
    "rf_daily.columns = rf_daily.columns.str.strip().str.lower()\n",
    "rf_daily[\"date\"] = pd.to_datetime(rf_daily[\"date\"])\n",
    "rf_daily[\"dtb3\"] = pd.to_numeric(rf_daily[\"dtb3\"], errors='coerce')\n",
    "rf_daily = rf_daily.dropna(subset = [\"date\",\"dtb3\"]).reset_index(drop = True)\n",
    "rf_daily[\"fyear\"] = rf_daily[\"date\"].dt.year\n",
    "rf_daily[\"r\"] = np.log(1+rf_daily[\"dtb3\"]/100.0) \n",
    "rf_yearly = rf_daily.groupby(by = \"fyear\")[\"r\"].first()\n",
    "rf_yearly.head()\n"
   ]
  },
  {
   "cell_type": "code",
   "execution_count": 12,
   "metadata": {},
   "outputs": [],
   "source": [
    "## NBER Recession Data \n",
    "nber_data =  pd.read_csv(path+'USREC.csv', header = 0)\n",
    "\n",
    "nber_data['DATE'] = pd.to_datetime(nber_data['DATE'])\n",
    "nber_data['fyear'] = pd.DatetimeIndex(nber_data['DATE']).year\n",
    "nber_data = nber_data.iloc[1:]\n",
    "nber_approx = nber_data.groupby('fyear').mean().round()\n",
    "nber_approx.head()"
   ]
  },
  {
   "cell_type": "markdown",
   "metadata": {},
   "source": [
    "#### Reading and Tidying up COMPUSTAT Data"
   ]
  },
  {
   "cell_type": "code",
   "execution_count": 9,
   "metadata": {},
   "outputs": [],
   "source": [
    "cols = [\"cusip\",\"fyear\",\"dlc\",\"dltt\",\"indfmt\",\"datafmt\",\"popsrc\",\"fic\",\"consol\"]\n",
    "funda_data = pd.read_csv(path+\"funda.csv\")\n",
    "funda_data = funda_data[cols]\n",
    "\n",
    "funda_data_filtered = funda_data[(funda_data[\"indfmt\"]==\"INDL\")&\n",
    "                                 (funda_data[\"datafmt\"]==\"STD\")&\n",
    "                                 (funda_data[\"popsrc\"]==\"D\")&\n",
    "                                 (funda_data[\"fic\"]==\"USA\")&\n",
    "                                 (funda_data[\"consol\"]==\"C\")&\n",
    "                                 (funda_data[\"fyear\"]>=1970)&\n",
    "                                 (funda_data[\"fyear\"]<=2020)]\n",
    "funda_data_filtered['cusip'] = funda_data_filtered['cusip'].str[0:6]\n",
    "funda_data_filtered[\"date\"] =  pd.to_datetime(funda_data_filtered['fyear'],format = \"%Y\")\n",
    "funda_data_filtered['fyear'] = funda_data_filtered[\"date\"].dt.year\n",
    "funda_data_filtered['dlc'] = funda_data_filtered['dlc']*1000000\n",
    "funda_data_filtered['dltt'] = funda_data_filtered['dltt']*1000000\n",
    "funda_data_filtered = funda_data_filtered.sort_values(\"fyear\").reset_index(drop = True)\n",
    "funda_data_filtered[\"f\"] = funda_data_filtered[\"dlc\"] + funda_data_filtered[\"dltt\"]*0.5\n",
    "funda_data_filtered[\"f_lagged\"] = funda_data_filtered.groupby(by = [\"cusip\"])[\"f\"].shift()\n",
    "del funda_data\n"
   ]
  },
  {
   "cell_type": "code",
   "execution_count": 11,
   "metadata": {},
   "outputs": [
    {
     "data": {
      "text/html": [
       "<div>\n",
       "<style scoped>\n",
       "    .dataframe tbody tr th:only-of-type {\n",
       "        vertical-align: middle;\n",
       "    }\n",
       "\n",
       "    .dataframe tbody tr th {\n",
       "        vertical-align: top;\n",
       "    }\n",
       "\n",
       "    .dataframe thead th {\n",
       "        text-align: right;\n",
       "    }\n",
       "</style>\n",
       "<table border=\"1\" class=\"dataframe\">\n",
       "  <thead>\n",
       "    <tr style=\"text-align: right;\">\n",
       "      <th></th>\n",
       "      <th>cusip</th>\n",
       "      <th>fyear</th>\n",
       "      <th>dlc</th>\n",
       "      <th>dltt</th>\n",
       "      <th>indfmt</th>\n",
       "      <th>datafmt</th>\n",
       "      <th>popsrc</th>\n",
       "      <th>fic</th>\n",
       "      <th>consol</th>\n",
       "      <th>date</th>\n",
       "      <th>f</th>\n",
       "      <th>f_lagged</th>\n",
       "    </tr>\n",
       "  </thead>\n",
       "  <tbody>\n",
       "    <tr>\n",
       "      <th>0</th>\n",
       "      <td>000032</td>\n",
       "      <td>1970</td>\n",
       "      <td>12378000.0</td>\n",
       "      <td>917000.0</td>\n",
       "      <td>INDL</td>\n",
       "      <td>STD</td>\n",
       "      <td>D</td>\n",
       "      <td>USA</td>\n",
       "      <td>C</td>\n",
       "      <td>1970-01-01</td>\n",
       "      <td>12836500.0</td>\n",
       "      <td>NaN</td>\n",
       "    </tr>\n",
       "    <tr>\n",
       "      <th>1</th>\n",
       "      <td>108055</td>\n",
       "      <td>1970</td>\n",
       "      <td>289000.0</td>\n",
       "      <td>464000.0</td>\n",
       "      <td>INDL</td>\n",
       "      <td>STD</td>\n",
       "      <td>D</td>\n",
       "      <td>USA</td>\n",
       "      <td>C</td>\n",
       "      <td>1970-01-01</td>\n",
       "      <td>521000.0</td>\n",
       "      <td>NaN</td>\n",
       "    </tr>\n",
       "    <tr>\n",
       "      <th>2</th>\n",
       "      <td>597715</td>\n",
       "      <td>1970</td>\n",
       "      <td>5609000.0</td>\n",
       "      <td>46870000.0</td>\n",
       "      <td>INDL</td>\n",
       "      <td>STD</td>\n",
       "      <td>D</td>\n",
       "      <td>USA</td>\n",
       "      <td>C</td>\n",
       "      <td>1970-01-01</td>\n",
       "      <td>29044000.0</td>\n",
       "      <td>NaN</td>\n",
       "    </tr>\n",
       "    <tr>\n",
       "      <th>3</th>\n",
       "      <td>771010</td>\n",
       "      <td>1970</td>\n",
       "      <td>635000.0</td>\n",
       "      <td>1042000.0</td>\n",
       "      <td>INDL</td>\n",
       "      <td>STD</td>\n",
       "      <td>D</td>\n",
       "      <td>USA</td>\n",
       "      <td>C</td>\n",
       "      <td>1970-01-01</td>\n",
       "      <td>1156000.0</td>\n",
       "      <td>NaN</td>\n",
       "    </tr>\n",
       "    <tr>\n",
       "      <th>4</th>\n",
       "      <td>461097</td>\n",
       "      <td>1970</td>\n",
       "      <td>1219000.0</td>\n",
       "      <td>71878000.0</td>\n",
       "      <td>INDL</td>\n",
       "      <td>STD</td>\n",
       "      <td>D</td>\n",
       "      <td>USA</td>\n",
       "      <td>C</td>\n",
       "      <td>1970-01-01</td>\n",
       "      <td>37158000.0</td>\n",
       "      <td>NaN</td>\n",
       "    </tr>\n",
       "  </tbody>\n",
       "</table>\n",
       "</div>"
      ],
      "text/plain": [
       "    cusip  fyear         dlc        dltt indfmt datafmt popsrc  fic consol  \\\n",
       "0  000032   1970  12378000.0    917000.0   INDL     STD      D  USA      C   \n",
       "1  108055   1970    289000.0    464000.0   INDL     STD      D  USA      C   \n",
       "2  597715   1970   5609000.0  46870000.0   INDL     STD      D  USA      C   \n",
       "3  771010   1970    635000.0   1042000.0   INDL     STD      D  USA      C   \n",
       "4  461097   1970   1219000.0  71878000.0   INDL     STD      D  USA      C   \n",
       "\n",
       "        date           f  f_lagged  \n",
       "0 1970-01-01  12836500.0       NaN  \n",
       "1 1970-01-01    521000.0       NaN  \n",
       "2 1970-01-01  29044000.0       NaN  \n",
       "3 1970-01-01   1156000.0       NaN  \n",
       "4 1970-01-01  37158000.0       NaN  "
      ]
     },
     "execution_count": 11,
     "metadata": {},
     "output_type": "execute_result"
    }
   ],
   "source": [
    "funda_data_filtered.head()"
   ]
  },
  {
   "cell_type": "markdown",
   "metadata": {},
   "source": [
    "#### Reading Daily CSRP Data\n",
    "CSRP data is loaded once, then converted to yearly to use it with COMPUSTAT. \n",
    "However, we will need more granular data in Method 3, where we will use the data at monthly level, so I have ran this cell once and saved the monthly data as csv to avoid multiple processing. That's why the last 3 lines of the cell are commented. We will make use of the monthly data later in method 3"
   ]
  },
  {
   "cell_type": "code",
   "execution_count": 15,
   "metadata": {},
   "outputs": [],
   "source": [
    "##Reading the CRSP daily data\n",
    "## The following code is run once and then  saved monthly data to use in 3rd part\n",
    "daily_data = pd.read_csv(path+\"dsf_new.csv\",usecols = [\"DATE\",\"CUSIP\",\"PRC\",\"RET\",\"SHROUT\"],dtype = {\"CUSIP\":\"object\"},nrows=10000000)\n",
    "daily_data.columns = daily_data.columns.str.strip().str.lower()\n",
    "daily_data = daily_data[daily_data[\"date\"]>=19700101]\n",
    "daily_data[\"date\"] = pd.to_datetime(daily_data[\"date\"],format = \"%Y%m%d\")\n",
    "daily_data[\"fyear\"] = daily_data[\"date\"].dt.year\n",
    "daily_data = daily_data.dropna(subset=[\"prc\"])\n",
    "daily_data = daily_data.dropna(subset=[\"ret\"])\n",
    "daily_data[\"prc\"] = abs(daily_data[\"prc\"])\n",
    "daily_data[\"cusip\"] = daily_data['cusip'].str[0:6]\n",
    "daily_data[\"equity_value\"] = abs(daily_data[\"prc\"]*daily_data[\"shrout\"])\n",
    "daily_data = daily_data.sort_values(\"date\").reset_index(drop = True)\n",
    "daily_data[\"ret\"] = pd.to_numeric(daily_data[\"ret\"], errors='coerce')\n",
    "#monthly_data = daily_data.groupby(\"cusip\").resample('M', on='date').first().reset_index(drop =True)\n",
    "#monthly_data.to_csv(path+\"monthly_data.csv\")\n",
    "#del monthly_data"
   ]
  },
  {
   "cell_type": "code",
   "execution_count": 16,
   "metadata": {},
   "outputs": [
    {
     "data": {
      "text/html": [
       "<div>\n",
       "<style scoped>\n",
       "    .dataframe tbody tr th:only-of-type {\n",
       "        vertical-align: middle;\n",
       "    }\n",
       "\n",
       "    .dataframe tbody tr th {\n",
       "        vertical-align: top;\n",
       "    }\n",
       "\n",
       "    .dataframe thead th {\n",
       "        text-align: right;\n",
       "    }\n",
       "</style>\n",
       "<table border=\"1\" class=\"dataframe\">\n",
       "  <thead>\n",
       "    <tr style=\"text-align: right;\">\n",
       "      <th></th>\n",
       "      <th>date</th>\n",
       "      <th>cusip</th>\n",
       "      <th>prc</th>\n",
       "      <th>ret</th>\n",
       "      <th>shrout</th>\n",
       "      <th>fyear</th>\n",
       "      <th>equity_value</th>\n",
       "    </tr>\n",
       "  </thead>\n",
       "  <tbody>\n",
       "    <tr>\n",
       "      <th>0</th>\n",
       "      <td>1970-01-02</td>\n",
       "      <td>556139</td>\n",
       "      <td>34.125</td>\n",
       "      <td>-0.052083</td>\n",
       "      <td>9327.0</td>\n",
       "      <td>1970</td>\n",
       "      <td>318283.875</td>\n",
       "    </tr>\n",
       "    <tr>\n",
       "      <th>1</th>\n",
       "      <td>1970-01-02</td>\n",
       "      <td>843673</td>\n",
       "      <td>46.750</td>\n",
       "      <td>0.008086</td>\n",
       "      <td>6809.0</td>\n",
       "      <td>1970</td>\n",
       "      <td>318320.750</td>\n",
       "    </tr>\n",
       "    <tr>\n",
       "      <th>2</th>\n",
       "      <td>1970-01-02</td>\n",
       "      <td>386532</td>\n",
       "      <td>25.375</td>\n",
       "      <td>0.004950</td>\n",
       "      <td>6433.0</td>\n",
       "      <td>1970</td>\n",
       "      <td>163237.375</td>\n",
       "    </tr>\n",
       "    <tr>\n",
       "      <th>3</th>\n",
       "      <td>1970-01-02</td>\n",
       "      <td>081689</td>\n",
       "      <td>33.750</td>\n",
       "      <td>0.015038</td>\n",
       "      <td>12493.0</td>\n",
       "      <td>1970</td>\n",
       "      <td>421638.750</td>\n",
       "    </tr>\n",
       "    <tr>\n",
       "      <th>4</th>\n",
       "      <td>1970-01-02</td>\n",
       "      <td>78375P</td>\n",
       "      <td>27.750</td>\n",
       "      <td>0.027778</td>\n",
       "      <td>18249.0</td>\n",
       "      <td>1970</td>\n",
       "      <td>506409.750</td>\n",
       "    </tr>\n",
       "  </tbody>\n",
       "</table>\n",
       "</div>"
      ],
      "text/plain": [
       "        date   cusip     prc       ret   shrout  fyear  equity_value\n",
       "0 1970-01-02  556139  34.125 -0.052083   9327.0   1970    318283.875\n",
       "1 1970-01-02  843673  46.750  0.008086   6809.0   1970    318320.750\n",
       "2 1970-01-02  386532  25.375  0.004950   6433.0   1970    163237.375\n",
       "3 1970-01-02  081689  33.750  0.015038  12493.0   1970    421638.750\n",
       "4 1970-01-02  78375P  27.750  0.027778  18249.0   1970    506409.750"
      ]
     },
     "execution_count": 16,
     "metadata": {},
     "output_type": "execute_result"
    }
   ],
   "source": [
    "daily_data.head()"
   ]
  },
  {
   "cell_type": "markdown",
   "metadata": {},
   "source": [
    "#### Calculate Annual Returns"
   ]
  },
  {
   "cell_type": "code",
   "execution_count": 17,
   "metadata": {},
   "outputs": [
    {
     "data": {
      "text/html": [
       "<div>\n",
       "<style scoped>\n",
       "    .dataframe tbody tr th:only-of-type {\n",
       "        vertical-align: middle;\n",
       "    }\n",
       "\n",
       "    .dataframe tbody tr th {\n",
       "        vertical-align: top;\n",
       "    }\n",
       "\n",
       "    .dataframe thead th {\n",
       "        text-align: right;\n",
       "    }\n",
       "</style>\n",
       "<table border=\"1\" class=\"dataframe\">\n",
       "  <thead>\n",
       "    <tr style=\"text-align: right;\">\n",
       "      <th></th>\n",
       "      <th></th>\n",
       "      <th>cum_return</th>\n",
       "    </tr>\n",
       "    <tr>\n",
       "      <th>cusip</th>\n",
       "      <th>fyear</th>\n",
       "      <th></th>\n",
       "    </tr>\n",
       "  </thead>\n",
       "  <tbody>\n",
       "    <tr>\n",
       "      <th rowspan=\"4\" valign=\"top\">000165</th>\n",
       "      <th>1983</th>\n",
       "      <td>NaN</td>\n",
       "    </tr>\n",
       "    <tr>\n",
       "      <th>1984</th>\n",
       "      <td>1.142857</td>\n",
       "    </tr>\n",
       "    <tr>\n",
       "      <th>1985</th>\n",
       "      <td>0.508332</td>\n",
       "    </tr>\n",
       "    <tr>\n",
       "      <th>1986</th>\n",
       "      <td>2.655739</td>\n",
       "    </tr>\n",
       "    <tr>\n",
       "      <th>000209</th>\n",
       "      <th>1987</th>\n",
       "      <td>NaN</td>\n",
       "    </tr>\n",
       "  </tbody>\n",
       "</table>\n",
       "</div>"
      ],
      "text/plain": [
       "              cum_return\n",
       "cusip  fyear            \n",
       "000165 1983          NaN\n",
       "       1984     1.142857\n",
       "       1985     0.508332\n",
       "       1986     2.655739\n",
       "000209 1987          NaN"
      ]
     },
     "execution_count": 17,
     "metadata": {},
     "output_type": "execute_result"
    }
   ],
   "source": [
    "annual_returns = pd.DataFrame(daily_data.groupby(by=['cusip','fyear']).apply(lambda x:\n",
    "                                                       np.exp(np.sum(np.log(1+x['ret'])))))\n",
    "annual_returns = annual_returns.rename(columns = {0:\"cum_return\"})\n",
    "annual_returns = pd.DataFrame(annual_returns.groupby(by=['cusip'])[\"cum_return\"].shift())\n",
    "annual_returns.head()"
   ]
  },
  {
   "cell_type": "markdown",
   "metadata": {},
   "source": [
    "#### Preparing Quantities to Run Methods 1 and 2\n",
    "Calcuating Volatility of equity value, equity value,  merging COMPUSTAT and CSRP"
   ]
  },
  {
   "cell_type": "code",
   "execution_count": 21,
   "metadata": {},
   "outputs": [
    {
     "data": {
      "text/html": [
       "<div>\n",
       "<style scoped>\n",
       "    .dataframe tbody tr th:only-of-type {\n",
       "        vertical-align: middle;\n",
       "    }\n",
       "\n",
       "    .dataframe tbody tr th {\n",
       "        vertical-align: top;\n",
       "    }\n",
       "\n",
       "    .dataframe thead th {\n",
       "        text-align: right;\n",
       "    }\n",
       "</style>\n",
       "<table border=\"1\" class=\"dataframe\">\n",
       "  <thead>\n",
       "    <tr style=\"text-align: right;\">\n",
       "      <th></th>\n",
       "      <th>cusip</th>\n",
       "      <th>fyear</th>\n",
       "      <th>cum_return</th>\n",
       "      <th>sigma_e</th>\n",
       "      <th>f_lagged</th>\n",
       "      <th>r</th>\n",
       "      <th>equity_value</th>\n",
       "    </tr>\n",
       "  </thead>\n",
       "  <tbody>\n",
       "    <tr>\n",
       "      <th>38283</th>\n",
       "      <td>84857L</td>\n",
       "      <td>1971</td>\n",
       "      <td>1.262320</td>\n",
       "      <td>0.205302</td>\n",
       "      <td>51941000.0</td>\n",
       "      <td>0.047742</td>\n",
       "      <td>98372.500</td>\n",
       "    </tr>\n",
       "    <tr>\n",
       "      <th>38284</th>\n",
       "      <td>859264</td>\n",
       "      <td>1971</td>\n",
       "      <td>0.967228</td>\n",
       "      <td>0.335493</td>\n",
       "      <td>18478000.0</td>\n",
       "      <td>0.047742</td>\n",
       "      <td>1462096.625</td>\n",
       "    </tr>\n",
       "    <tr>\n",
       "      <th>38285</th>\n",
       "      <td>860486</td>\n",
       "      <td>1971</td>\n",
       "      <td>0.876571</td>\n",
       "      <td>0.287926</td>\n",
       "      <td>0.0</td>\n",
       "      <td>0.047742</td>\n",
       "      <td>122160.000</td>\n",
       "    </tr>\n",
       "    <tr>\n",
       "      <th>38286</th>\n",
       "      <td>86764P</td>\n",
       "      <td>1971</td>\n",
       "      <td>1.180111</td>\n",
       "      <td>0.210535</td>\n",
       "      <td>302828000.0</td>\n",
       "      <td>0.047742</td>\n",
       "      <td>1409372.250</td>\n",
       "    </tr>\n",
       "    <tr>\n",
       "      <th>38287</th>\n",
       "      <td>909214</td>\n",
       "      <td>1971</td>\n",
       "      <td>0.697896</td>\n",
       "      <td>0.391353</td>\n",
       "      <td>452412500.0</td>\n",
       "      <td>0.047742</td>\n",
       "      <td>1994155.000</td>\n",
       "    </tr>\n",
       "  </tbody>\n",
       "</table>\n",
       "</div>"
      ],
      "text/plain": [
       "        cusip  fyear  cum_return   sigma_e     f_lagged         r  \\\n",
       "38283  84857L   1971    1.262320  0.205302   51941000.0  0.047742   \n",
       "38284  859264   1971    0.967228  0.335493   18478000.0  0.047742   \n",
       "38285  860486   1971    0.876571  0.287926          0.0  0.047742   \n",
       "38286  86764P   1971    1.180111  0.210535  302828000.0  0.047742   \n",
       "38287  909214   1971    0.697896  0.391353  452412500.0  0.047742   \n",
       "\n",
       "       equity_value  \n",
       "38283     98372.500  \n",
       "38284   1462096.625  \n",
       "38285    122160.000  \n",
       "38286   1409372.250  \n",
       "38287   1994155.000  "
      ]
     },
     "execution_count": 21,
     "metadata": {},
     "output_type": "execute_result"
    }
   ],
   "source": [
    "sigma_e = pd.DataFrame(daily_data.groupby(by=['cusip','fyear'])['ret'].std()*np.sqrt(250))\n",
    "sigma_e = sigma_e.rename(columns = {\"ret\":\"sigma_e\"})\n",
    "sigma_e =  pd.DataFrame(sigma_e.groupby(by = [\"cusip\"])[\"sigma_e\"].shift())\n",
    "sigma_e.head()\n",
    "equity_value = pd.DataFrame(daily_data.groupby(by=['cusip','fyear'])['equity_value'].first())\n",
    "final = pd.merge(annual_returns,sigma_e, on = [\"cusip\",\"fyear\"],how = \"inner\")\n",
    "final = final.merge(funda_data_filtered[[\"cusip\",\"fyear\",\"f_lagged\"]],on = [\"cusip\",\"fyear\"],how = \"inner\")\n",
    "final.head()\n",
    "final = final.merge(rf_yearly,on = \"fyear\",how = \"inner\")\n",
    "final = final.merge(equity_value,on = [\"cusip\",\"fyear\"],how = \"inner\")\n",
    "final.sort_values(\"fyear\").reset_index(drop  = True, inplace=True)\n",
    "final.tail()"
   ]
  },
  {
   "cell_type": "markdown",
   "metadata": {},
   "source": [
    "### Naive Method 1\n",
    "Note: I am not sampling 1000 companies in method 1 and method 2 as it is not extremely computation intensive and I want to re use the calculated values in method 3 to initialize sigma_v, and to have an initial estimate of any random 250 set of companies, I safe side calculate all of them to avoid any problems "
   ]
  },
  {
   "cell_type": "code",
   "execution_count": 106,
   "metadata": {},
   "outputs": [],
   "source": [
    "## DD and PD Supporting Functions\n",
    "def distance_to_default(df,col_name,v,sigmav):\n",
    "    df[col_name] = (np.log(df[v]/df[\"f_lagged\"])+(df[\"r\"]-df[sigmav]**2/2))/df[sigmav]\n",
    "\n",
    "##Method 1 for Distance to Default\n",
    "def naive_method(df,intercept,beta,keepVariables):\n",
    "    sigma_d = df[\"sigma_e\"]*beta + intercept\n",
    "    df[\"v\"] = df[\"equity_value\"] + df[\"f_lagged\"]\n",
    "    df[\"sigma_v\"] = (df[\"equity_value\"]*df[\"sigma_e\"]/df[\"v\"]) + (df[\"f_lagged\"]*sigma_d/df[\"v\"])\n",
    "    distance_to_default(df,\"dd_naive\"+\"_\"+str(intercept)+\"_\"+str(beta),\"v\",\"sigma_v\")\n",
    "    if keepVariables:\n",
    "        return\n",
    "    else:\n",
    "        del df[\"v\"]\n",
    "        del df[\"sigma_v\"]\n",
    "        return        "
   ]
  },
  {
   "cell_type": "code",
   "execution_count": 27,
   "metadata": {},
   "outputs": [],
   "source": [
    "naive_method(final,0.05,0.25,False)\n",
    "naive_method(final,0.05,0.5,False)\n",
    "naive_method(final,0,0.25,True)"
   ]
  },
  {
   "cell_type": "code",
   "execution_count": 97,
   "metadata": {},
   "outputs": [
    {
     "data": {
      "text/html": [
       "<div>\n",
       "<style scoped>\n",
       "    .dataframe tbody tr th:only-of-type {\n",
       "        vertical-align: middle;\n",
       "    }\n",
       "\n",
       "    .dataframe tbody tr th {\n",
       "        vertical-align: top;\n",
       "    }\n",
       "\n",
       "    .dataframe thead th {\n",
       "        text-align: right;\n",
       "    }\n",
       "</style>\n",
       "<table border=\"1\" class=\"dataframe\">\n",
       "  <thead>\n",
       "    <tr style=\"text-align: right;\">\n",
       "      <th></th>\n",
       "      <th>cusip</th>\n",
       "      <th>fyear</th>\n",
       "      <th>cum_return</th>\n",
       "      <th>sigma_e</th>\n",
       "      <th>f_lagged</th>\n",
       "      <th>r</th>\n",
       "      <th>equity_value</th>\n",
       "      <th>dd_naive_0.05_0.25</th>\n",
       "      <th>dd_naive_0.05_0.5</th>\n",
       "      <th>v</th>\n",
       "      <th>sigma_v</th>\n",
       "      <th>dd_naive_0_0.25</th>\n",
       "      <th>v_method_2</th>\n",
       "      <th>sigma_v_method_2</th>\n",
       "      <th>dd_method_2</th>\n",
       "      <th>pd_naive_0.05_0.25</th>\n",
       "      <th>pd_naive_0.05_0.5</th>\n",
       "      <th>pd_naive_0_0.25</th>\n",
       "      <th>pd_method_2</th>\n",
       "    </tr>\n",
       "  </thead>\n",
       "  <tbody>\n",
       "    <tr>\n",
       "      <th>0</th>\n",
       "      <td>000781</td>\n",
       "      <td>1983</td>\n",
       "      <td>0.485713</td>\n",
       "      <td>0.408360</td>\n",
       "      <td>16950000.0</td>\n",
       "      <td>0.07622</td>\n",
       "      <td>1861.50</td>\n",
       "      <td>0.425721</td>\n",
       "      <td>0.173180</td>\n",
       "      <td>16951861.50</td>\n",
       "      <td>0.102124</td>\n",
       "      <td>0.696364</td>\n",
       "      <td>1.570257e+07</td>\n",
       "      <td>0.000531</td>\n",
       "      <td>-0.421166</td>\n",
       "      <td>0.335156</td>\n",
       "      <td>0.431255</td>\n",
       "      <td>0.243100</td>\n",
       "      <td>6.631832e-01</td>\n",
       "    </tr>\n",
       "    <tr>\n",
       "      <th>1</th>\n",
       "      <td>000874</td>\n",
       "      <td>1983</td>\n",
       "      <td>1.133339</td>\n",
       "      <td>0.404174</td>\n",
       "      <td>1498000.0</td>\n",
       "      <td>0.07622</td>\n",
       "      <td>2822.00</td>\n",
       "      <td>0.439699</td>\n",
       "      <td>0.183284</td>\n",
       "      <td>1500822.00</td>\n",
       "      <td>0.101613</td>\n",
       "      <td>0.717813</td>\n",
       "      <td>1.390885e+06</td>\n",
       "      <td>0.000826</td>\n",
       "      <td>2.456667</td>\n",
       "      <td>0.330077</td>\n",
       "      <td>0.427287</td>\n",
       "      <td>0.236436</td>\n",
       "      <td>7.011629e-03</td>\n",
       "    </tr>\n",
       "    <tr>\n",
       "      <th>2</th>\n",
       "      <td>001015</td>\n",
       "      <td>1983</td>\n",
       "      <td>0.951955</td>\n",
       "      <td>0.367341</td>\n",
       "      <td>4505000.0</td>\n",
       "      <td>0.07622</td>\n",
       "      <td>6307.75</td>\n",
       "      <td>0.474960</td>\n",
       "      <td>0.214980</td>\n",
       "      <td>4511307.75</td>\n",
       "      <td>0.092220</td>\n",
       "      <td>0.795560</td>\n",
       "      <td>4.180694e+06</td>\n",
       "      <td>0.000556</td>\n",
       "      <td>2.713991</td>\n",
       "      <td>0.317408</td>\n",
       "      <td>0.414892</td>\n",
       "      <td>0.213144</td>\n",
       "      <td>3.323899e-03</td>\n",
       "    </tr>\n",
       "    <tr>\n",
       "      <th>3</th>\n",
       "      <td>001030</td>\n",
       "      <td>1983</td>\n",
       "      <td>1.510999</td>\n",
       "      <td>0.397504</td>\n",
       "      <td>6924000.0</td>\n",
       "      <td>0.07622</td>\n",
       "      <td>29138.00</td>\n",
       "      <td>0.459439</td>\n",
       "      <td>0.197796</td>\n",
       "      <td>6953138.00</td>\n",
       "      <td>0.100625</td>\n",
       "      <td>0.748883</td>\n",
       "      <td>6.444979e+06</td>\n",
       "      <td>0.001808</td>\n",
       "      <td>2.503069</td>\n",
       "      <td>0.322959</td>\n",
       "      <td>0.421603</td>\n",
       "      <td>0.226964</td>\n",
       "      <td>6.156084e-03</td>\n",
       "    </tr>\n",
       "    <tr>\n",
       "      <th>4</th>\n",
       "      <td>001038</td>\n",
       "      <td>1983</td>\n",
       "      <td>2.786490</td>\n",
       "      <td>0.196910</td>\n",
       "      <td>199500.0</td>\n",
       "      <td>0.07622</td>\n",
       "      <td>11338.25</td>\n",
       "      <td>1.206339</td>\n",
       "      <td>0.794961</td>\n",
       "      <td>210838.25</td>\n",
       "      <td>0.057169</td>\n",
       "      <td>2.271547</td>\n",
       "      <td>1.961974e+05</td>\n",
       "      <td>0.011379</td>\n",
       "      <td>5.225431</td>\n",
       "      <td>0.113843</td>\n",
       "      <td>0.213318</td>\n",
       "      <td>0.011557</td>\n",
       "      <td>8.687493e-08</td>\n",
       "    </tr>\n",
       "  </tbody>\n",
       "</table>\n",
       "</div>"
      ],
      "text/plain": [
       "    cusip  fyear  cum_return   sigma_e    f_lagged        r  equity_value  \\\n",
       "0  000781   1983    0.485713  0.408360  16950000.0  0.07622       1861.50   \n",
       "1  000874   1983    1.133339  0.404174   1498000.0  0.07622       2822.00   \n",
       "2  001015   1983    0.951955  0.367341   4505000.0  0.07622       6307.75   \n",
       "3  001030   1983    1.510999  0.397504   6924000.0  0.07622      29138.00   \n",
       "4  001038   1983    2.786490  0.196910    199500.0  0.07622      11338.25   \n",
       "\n",
       "   dd_naive_0.05_0.25  dd_naive_0.05_0.5            v   sigma_v  \\\n",
       "0            0.425721           0.173180  16951861.50  0.102124   \n",
       "1            0.439699           0.183284   1500822.00  0.101613   \n",
       "2            0.474960           0.214980   4511307.75  0.092220   \n",
       "3            0.459439           0.197796   6953138.00  0.100625   \n",
       "4            1.206339           0.794961    210838.25  0.057169   \n",
       "\n",
       "   dd_naive_0_0.25    v_method_2  sigma_v_method_2  dd_method_2  \\\n",
       "0         0.696364  1.570257e+07          0.000531    -0.421166   \n",
       "1         0.717813  1.390885e+06          0.000826     2.456667   \n",
       "2         0.795560  4.180694e+06          0.000556     2.713991   \n",
       "3         0.748883  6.444979e+06          0.001808     2.503069   \n",
       "4         2.271547  1.961974e+05          0.011379     5.225431   \n",
       "\n",
       "   pd_naive_0.05_0.25  pd_naive_0.05_0.5  pd_naive_0_0.25   pd_method_2  \n",
       "0            0.335156           0.431255         0.243100  6.631832e-01  \n",
       "1            0.330077           0.427287         0.236436  7.011629e-03  \n",
       "2            0.317408           0.414892         0.213144  3.323899e-03  \n",
       "3            0.322959           0.421603         0.226964  6.156084e-03  \n",
       "4            0.113843           0.213318         0.011557  8.687493e-08  "
      ]
     },
     "execution_count": 97,
     "metadata": {},
     "output_type": "execute_result"
    }
   ],
   "source": [
    "final.head()"
   ]
  },
  {
   "cell_type": "markdown",
   "metadata": {},
   "source": [
    "### Equation Solver Method 2"
   ]
  },
  {
   "cell_type": "code",
   "execution_count": 87,
   "metadata": {},
   "outputs": [
    {
     "data": {
      "text/html": [
       "<div>\n",
       "<style scoped>\n",
       "    .dataframe tbody tr th:only-of-type {\n",
       "        vertical-align: middle;\n",
       "    }\n",
       "\n",
       "    .dataframe tbody tr th {\n",
       "        vertical-align: top;\n",
       "    }\n",
       "\n",
       "    .dataframe thead th {\n",
       "        text-align: right;\n",
       "    }\n",
       "</style>\n",
       "<table border=\"1\" class=\"dataframe\">\n",
       "  <thead>\n",
       "    <tr style=\"text-align: right;\">\n",
       "      <th></th>\n",
       "      <th>cusip</th>\n",
       "      <th>fyear</th>\n",
       "      <th>cum_return</th>\n",
       "      <th>sigma_e</th>\n",
       "      <th>f_lagged</th>\n",
       "      <th>r</th>\n",
       "      <th>equity_value</th>\n",
       "      <th>dd_naive_0.05_0.25</th>\n",
       "      <th>dd_naive_0.05_0.5</th>\n",
       "      <th>v</th>\n",
       "      <th>sigma_v</th>\n",
       "      <th>dd_naive_0_0.25</th>\n",
       "      <th>v_method_2</th>\n",
       "      <th>sigma_v_method_2</th>\n",
       "      <th>dd_method_2</th>\n",
       "      <th>pd_naive_0.05_0.25</th>\n",
       "      <th>pd_naive_0.05_0.5</th>\n",
       "      <th>pd_naive_0_0.25</th>\n",
       "      <th>pd_method_2</th>\n",
       "    </tr>\n",
       "  </thead>\n",
       "  <tbody>\n",
       "    <tr>\n",
       "      <th>0</th>\n",
       "      <td>000781</td>\n",
       "      <td>1983</td>\n",
       "      <td>0.485713</td>\n",
       "      <td>0.408360</td>\n",
       "      <td>16950000.0</td>\n",
       "      <td>0.07622</td>\n",
       "      <td>1861.50</td>\n",
       "      <td>0.425721</td>\n",
       "      <td>0.173180</td>\n",
       "      <td>16951861.50</td>\n",
       "      <td>0.102124</td>\n",
       "      <td>0.696364</td>\n",
       "      <td>1.570257e+07</td>\n",
       "      <td>0.000531</td>\n",
       "      <td>-0.421166</td>\n",
       "      <td>0.335156</td>\n",
       "      <td>0.431255</td>\n",
       "      <td>0.243100</td>\n",
       "      <td>6.631832e-01</td>\n",
       "    </tr>\n",
       "    <tr>\n",
       "      <th>1</th>\n",
       "      <td>000874</td>\n",
       "      <td>1983</td>\n",
       "      <td>1.133339</td>\n",
       "      <td>0.404174</td>\n",
       "      <td>1498000.0</td>\n",
       "      <td>0.07622</td>\n",
       "      <td>2822.00</td>\n",
       "      <td>0.439699</td>\n",
       "      <td>0.183284</td>\n",
       "      <td>1500822.00</td>\n",
       "      <td>0.101613</td>\n",
       "      <td>0.717813</td>\n",
       "      <td>1.390885e+06</td>\n",
       "      <td>0.000826</td>\n",
       "      <td>2.456667</td>\n",
       "      <td>0.330077</td>\n",
       "      <td>0.427287</td>\n",
       "      <td>0.236436</td>\n",
       "      <td>7.011629e-03</td>\n",
       "    </tr>\n",
       "    <tr>\n",
       "      <th>2</th>\n",
       "      <td>001015</td>\n",
       "      <td>1983</td>\n",
       "      <td>0.951955</td>\n",
       "      <td>0.367341</td>\n",
       "      <td>4505000.0</td>\n",
       "      <td>0.07622</td>\n",
       "      <td>6307.75</td>\n",
       "      <td>0.474960</td>\n",
       "      <td>0.214980</td>\n",
       "      <td>4511307.75</td>\n",
       "      <td>0.092220</td>\n",
       "      <td>0.795560</td>\n",
       "      <td>4.180694e+06</td>\n",
       "      <td>0.000556</td>\n",
       "      <td>2.713991</td>\n",
       "      <td>0.317408</td>\n",
       "      <td>0.414892</td>\n",
       "      <td>0.213144</td>\n",
       "      <td>3.323899e-03</td>\n",
       "    </tr>\n",
       "    <tr>\n",
       "      <th>3</th>\n",
       "      <td>001030</td>\n",
       "      <td>1983</td>\n",
       "      <td>1.510999</td>\n",
       "      <td>0.397504</td>\n",
       "      <td>6924000.0</td>\n",
       "      <td>0.07622</td>\n",
       "      <td>29138.00</td>\n",
       "      <td>0.459439</td>\n",
       "      <td>0.197796</td>\n",
       "      <td>6953138.00</td>\n",
       "      <td>0.100625</td>\n",
       "      <td>0.748883</td>\n",
       "      <td>6.444979e+06</td>\n",
       "      <td>0.001808</td>\n",
       "      <td>2.503069</td>\n",
       "      <td>0.322959</td>\n",
       "      <td>0.421603</td>\n",
       "      <td>0.226964</td>\n",
       "      <td>6.156084e-03</td>\n",
       "    </tr>\n",
       "    <tr>\n",
       "      <th>4</th>\n",
       "      <td>001038</td>\n",
       "      <td>1983</td>\n",
       "      <td>2.786490</td>\n",
       "      <td>0.196910</td>\n",
       "      <td>199500.0</td>\n",
       "      <td>0.07622</td>\n",
       "      <td>11338.25</td>\n",
       "      <td>1.206339</td>\n",
       "      <td>0.794961</td>\n",
       "      <td>210838.25</td>\n",
       "      <td>0.057169</td>\n",
       "      <td>2.271547</td>\n",
       "      <td>1.961974e+05</td>\n",
       "      <td>0.011379</td>\n",
       "      <td>5.225431</td>\n",
       "      <td>0.113843</td>\n",
       "      <td>0.213318</td>\n",
       "      <td>0.011557</td>\n",
       "      <td>8.687493e-08</td>\n",
       "    </tr>\n",
       "  </tbody>\n",
       "</table>\n",
       "</div>"
      ],
      "text/plain": [
       "    cusip  fyear  cum_return   sigma_e    f_lagged        r  equity_value  \\\n",
       "0  000781   1983    0.485713  0.408360  16950000.0  0.07622       1861.50   \n",
       "1  000874   1983    1.133339  0.404174   1498000.0  0.07622       2822.00   \n",
       "2  001015   1983    0.951955  0.367341   4505000.0  0.07622       6307.75   \n",
       "3  001030   1983    1.510999  0.397504   6924000.0  0.07622      29138.00   \n",
       "4  001038   1983    2.786490  0.196910    199500.0  0.07622      11338.25   \n",
       "\n",
       "   dd_naive_0.05_0.25  dd_naive_0.05_0.5            v   sigma_v  \\\n",
       "0            0.425721           0.173180  16951861.50  0.102124   \n",
       "1            0.439699           0.183284   1500822.00  0.101613   \n",
       "2            0.474960           0.214980   4511307.75  0.092220   \n",
       "3            0.459439           0.197796   6953138.00  0.100625   \n",
       "4            1.206339           0.794961    210838.25  0.057169   \n",
       "\n",
       "   dd_naive_0_0.25    v_method_2  sigma_v_method_2  dd_method_2  \\\n",
       "0         0.696364  1.570257e+07          0.000531    -0.421166   \n",
       "1         0.717813  1.390885e+06          0.000826     2.456667   \n",
       "2         0.795560  4.180694e+06          0.000556     2.713991   \n",
       "3         0.748883  6.444979e+06          0.001808     2.503069   \n",
       "4         2.271547  1.961974e+05          0.011379     5.225431   \n",
       "\n",
       "   pd_naive_0.05_0.25  pd_naive_0.05_0.5  pd_naive_0_0.25   pd_method_2  \n",
       "0            0.335156           0.431255         0.243100  6.631832e-01  \n",
       "1            0.330077           0.427287         0.236436  7.011629e-03  \n",
       "2            0.317408           0.414892         0.213144  3.323899e-03  \n",
       "3            0.322959           0.421603         0.226964  6.156084e-03  \n",
       "4            0.113843           0.213318         0.011557  8.687493e-08  "
      ]
     },
     "execution_count": 87,
     "metadata": {},
     "output_type": "execute_result"
    }
   ],
   "source": [
    "#Required Equations To SOlve for Method 2\n",
    "def equations(variables,*constants) :\n",
    "    (v,sigma_v) = variables\n",
    "    (firm_value,r,e, sigma_e) = constants\n",
    "    d1 = (np.log(v/firm_value) +(r+0.5*sigma_v**2))/sigma_v \n",
    "    d2 = d1-sigma_v\n",
    "    eq1 = e - v*stat.norm.cdf(d1, 0.0, 1.0) + np.exp(-r)*firm_value*stat.norm.cdf(d2, 0.0, 1.0)\n",
    "    eq2 = sigma_e - (v*stat.norm.cdf(d1, 0.0, 1.0)*sigma_v)/e\n",
    "    return (eq1, eq2)\n",
    "\n",
    "## Method 2 \n",
    "def equation_solver_method(data):\n",
    "    data[\"v_method_2\"] = 0\n",
    "    data[\"sigma_v_method_2\"] = 0\n",
    "    data[\"dd_method_2\"] = 0\n",
    "    for i in range(len(data)):\n",
    "        if(df.loc[i,:].isnull().values.any()):\n",
    "            continue\n",
    "        f_lagged = data.loc[i,\"f_lagged\"]\n",
    "        r = data.loc[i,\"r\"]\n",
    "        e = data.loc[i,\"equity_value\"]\n",
    "        sigmae = data.loc[i,\"sigma_e\"]\n",
    "        initial = (f_lagged,r, e,sigmae)\n",
    "        data.loc[i,[\"v_method_2\",\"sigma_v_method_2\"]] = fsolve(equations,((e+f_lagged),0.10),args = initial)\n",
    "    distance_to_default(data,\"dd_method_2\",\"v_method_2\",\"sigma_v_method_2\")\n",
    "\n",
    "final.reset_index(drop  = True, inplace=True)\n",
    "equation_solver_method(final)\n",
    "final.head()"
   ]
  },
  {
   "cell_type": "markdown",
   "metadata": {},
   "source": [
    "### KMV Model: Method 3"
   ]
  },
  {
   "cell_type": "code",
   "execution_count": 201,
   "metadata": {},
   "outputs": [],
   "source": [
    "def equation_method_3(variables,*args) :\n",
    "    (v) = variables\n",
    "    (f_lagged,r,e,sigmav) = args\n",
    "    d1 = (np.log(v/f_lagged) +(r+0.5*sigmav**2))/(sigmav*np) \n",
    "    d2 = d1-sigmav\n",
    "    eq1 = e - v*si.norm.cdf(d1, 0.0, 1.0) + np.exp(-r)*f_lagged*si.norm.cdf(d2, 0.0, 1.0)\n",
    "    return (eq1)\n",
    "\n",
    "def KMV_model_method(data, monthly_data):\n",
    "    \n",
    "    data[\"v_iterate\"] = 0\n",
    "    data[\"sigmav_iterate\"] = 0\n",
    "    i = 0\n",
    "    while (i <len(data)):\n",
    "        if(data.loc[i,:].isnull().values.any()):\n",
    "            i += 1\n",
    "            continue\n",
    "        start_year = data.loc[i,\"fyear\"]\n",
    "        cusip_id = data.loc[i,\"cusip\"]\n",
    "        r = data.loc[i,\"r\"]\n",
    "        e = data.loc[i,\"equity_value\"]\n",
    "        error = 1000000\n",
    "        time_steps = len(data[(data[\"fyear\"]==start_year)\n",
    "                              &(data[\"cusip\"]==cusip_id)])\n",
    "        \n",
    "        ## Bring out the firm vinitial variables from the monthly data that we created\n",
    "        f_lagged = monthly_data.loc[(monthly_data[\"fyear\"]==(start_year+1))&\n",
    "                                  (monthly_data[\"cusip\"]==cusip_id),\n",
    "                                  \"f_lagged\"].iloc[0]\n",
    "        sigmav = data.loc[(data[\"fyear\"]==(start_year+1))\n",
    "                          &(data[\"cusip\"]==cusip_id),\"sigmav_solver\"].iloc[0]\n",
    "        \n",
    "        if(sigmav == 0 or np.isnan(sigmav) or f_lagged== 0 or np.isnan(f_lagged)):\n",
    "            ## We could not find information about this firm, so skip this firm from calculation\n",
    "            i += time_steps\n",
    "            continue\n",
    "            \n",
    "        monthly_values = monthly_data.loc[(monthly_data[\"fyear\"]==(start_year))\n",
    "                               &(monthly_data[\"cusip\"]==cusip_id)].reset_index(drop = True)\n",
    "        while(error > 0.01):\n",
    "            value_time_series = []\n",
    "            for j in range(time_steps):\n",
    "                e = monthly_values.loc[j,\"equity_value\"]\n",
    "                initial = (f_lagged,r,e,sigmav,1)\n",
    "                value_time_series.append(fsolve(equation_method_3,(e+f_lagged),args = initial)[0])\n",
    "            sigmav_n = (np.std(pd.DataFrame(value_time_series).pct_change())*np.sqrt(12)).iloc[0]\n",
    "            error = abs(sigmav_n - sigmav)\n",
    "            sigmav = sigmav_n\n",
    "        initial = (f_lagged,r, e,sigmav,1)\n",
    "        data.loc[(i+time_steps),[\"v_mthod_3\",\"sigmav_method_3\"]] = (fsolve(equation_v,(e+f_lagged),args = initial),sigmav_n)\n",
    "        i += time_steps\n",
    "    "
   ]
  },
  {
   "cell_type": "markdown",
   "metadata": {},
   "source": [
    "#### Reading back monthly data"
   ]
  },
  {
   "cell_type": "code",
   "execution_count": 202,
   "metadata": {},
   "outputs": [
    {
     "data": {
      "text/html": [
       "<div>\n",
       "<style scoped>\n",
       "    .dataframe tbody tr th:only-of-type {\n",
       "        vertical-align: middle;\n",
       "    }\n",
       "\n",
       "    .dataframe tbody tr th {\n",
       "        vertical-align: top;\n",
       "    }\n",
       "\n",
       "    .dataframe thead th {\n",
       "        text-align: right;\n",
       "    }\n",
       "</style>\n",
       "<table border=\"1\" class=\"dataframe\">\n",
       "  <thead>\n",
       "    <tr style=\"text-align: right;\">\n",
       "      <th></th>\n",
       "      <th>Unnamed: 0</th>\n",
       "      <th>date</th>\n",
       "      <th>cusip</th>\n",
       "      <th>prc</th>\n",
       "      <th>ret</th>\n",
       "      <th>shrout</th>\n",
       "      <th>fyear</th>\n",
       "      <th>equity_value</th>\n",
       "    </tr>\n",
       "  </thead>\n",
       "  <tbody>\n",
       "    <tr>\n",
       "      <th>0</th>\n",
       "      <td>0</td>\n",
       "      <td>20-08-1990</td>\n",
       "      <td>21</td>\n",
       "      <td>-3.3750</td>\n",
       "      <td>-0.055556</td>\n",
       "      <td>6369.0</td>\n",
       "      <td>1990.0</td>\n",
       "      <td>21495375.0</td>\n",
       "    </tr>\n",
       "    <tr>\n",
       "      <th>1</th>\n",
       "      <td>1</td>\n",
       "      <td>04-09-1990</td>\n",
       "      <td>21</td>\n",
       "      <td>-3.0625</td>\n",
       "      <td>-0.020000</td>\n",
       "      <td>6369.0</td>\n",
       "      <td>1990.0</td>\n",
       "      <td>19505062.5</td>\n",
       "    </tr>\n",
       "    <tr>\n",
       "      <th>2</th>\n",
       "      <td>2</td>\n",
       "      <td>01-10-1990</td>\n",
       "      <td>21</td>\n",
       "      <td>-2.8750</td>\n",
       "      <td>0.000000</td>\n",
       "      <td>6369.0</td>\n",
       "      <td>1990.0</td>\n",
       "      <td>18310875.0</td>\n",
       "    </tr>\n",
       "    <tr>\n",
       "      <th>3</th>\n",
       "      <td>3</td>\n",
       "      <td>01-11-1990</td>\n",
       "      <td>21</td>\n",
       "      <td>-2.8125</td>\n",
       "      <td>-0.010989</td>\n",
       "      <td>6369.0</td>\n",
       "      <td>1990.0</td>\n",
       "      <td>17912812.5</td>\n",
       "    </tr>\n",
       "    <tr>\n",
       "      <th>4</th>\n",
       "      <td>4</td>\n",
       "      <td>03-12-1990</td>\n",
       "      <td>21</td>\n",
       "      <td>-2.6250</td>\n",
       "      <td>0.000000</td>\n",
       "      <td>6369.0</td>\n",
       "      <td>1990.0</td>\n",
       "      <td>16718625.0</td>\n",
       "    </tr>\n",
       "  </tbody>\n",
       "</table>\n",
       "</div>"
      ],
      "text/plain": [
       "   Unnamed: 0        date cusip     prc       ret  shrout   fyear  \\\n",
       "0           0  20-08-1990    21 -3.3750 -0.055556  6369.0  1990.0   \n",
       "1           1  04-09-1990    21 -3.0625 -0.020000  6369.0  1990.0   \n",
       "2           2  01-10-1990    21 -2.8750  0.000000  6369.0  1990.0   \n",
       "3           3  01-11-1990    21 -2.8125 -0.010989  6369.0  1990.0   \n",
       "4           4  03-12-1990    21 -2.6250  0.000000  6369.0  1990.0   \n",
       "\n",
       "   equity_value  \n",
       "0    21495375.0  \n",
       "1    19505062.5  \n",
       "2    18310875.0  \n",
       "3    17912812.5  \n",
       "4    16718625.0  "
      ]
     },
     "execution_count": 202,
     "metadata": {},
     "output_type": "execute_result"
    }
   ],
   "source": [
    "monthly_data = pd.read_csv(path+\"monthly_data.csv\")\n",
    "monthly_data.head()"
   ]
  },
  {
   "cell_type": "markdown",
   "metadata": {},
   "source": [
    "#### Sample and Prepare Data for Method 3\n",
    "Note: We will use stored monthly data(to take firm value on each time series), all results from method 1 or 2 (to initialize) and sample 250 firms every year to carry out the calculations"
   ]
  },
  {
   "cell_type": "code",
   "execution_count": 203,
   "metadata": {},
   "outputs": [
    {
     "data": {
      "text/html": [
       "<div>\n",
       "<style scoped>\n",
       "    .dataframe tbody tr th:only-of-type {\n",
       "        vertical-align: middle;\n",
       "    }\n",
       "\n",
       "    .dataframe tbody tr th {\n",
       "        vertical-align: top;\n",
       "    }\n",
       "\n",
       "    .dataframe thead th {\n",
       "        text-align: right;\n",
       "    }\n",
       "</style>\n",
       "<table border=\"1\" class=\"dataframe\">\n",
       "  <thead>\n",
       "    <tr style=\"text-align: right;\">\n",
       "      <th></th>\n",
       "      <th>date</th>\n",
       "      <th>fyear</th>\n",
       "      <th>cusip</th>\n",
       "      <th>equity_value</th>\n",
       "      <th>cum_return</th>\n",
       "      <th>sigma_e</th>\n",
       "      <th>r</th>\n",
       "      <th>dd_naive_0.05_0.25</th>\n",
       "      <th>dd_naive_0.05_0.5</th>\n",
       "      <th>dd_naive_0_0.25</th>\n",
       "      <th>pd_naive_0.05_0.25</th>\n",
       "      <th>pd_naive_0.05_0.5</th>\n",
       "      <th>pd_naive_0_0.25</th>\n",
       "      <th>dd_method_2</th>\n",
       "      <th>dd_method_2</th>\n",
       "      <th>sigma_v_method_2</th>\n",
       "    </tr>\n",
       "  </thead>\n",
       "  <tbody>\n",
       "    <tr>\n",
       "      <th>0</th>\n",
       "      <td>04-01-1971</td>\n",
       "      <td>1971.0</td>\n",
       "      <td>02209S</td>\n",
       "      <td>1.108135e+09</td>\n",
       "      <td>1.422493</td>\n",
       "      <td>0.271185</td>\n",
       "      <td>0.047742</td>\n",
       "      <td>0.369715</td>\n",
       "      <td>0.179941</td>\n",
       "      <td>0.707195</td>\n",
       "      <td>0.355797</td>\n",
       "      <td>0.428599</td>\n",
       "      <td>0.239723</td>\n",
       "      <td>1.442869</td>\n",
       "      <td>1.442869</td>\n",
       "      <td>0.002108</td>\n",
       "    </tr>\n",
       "    <tr>\n",
       "      <th>1</th>\n",
       "      <td>01-02-1971</td>\n",
       "      <td>1971.0</td>\n",
       "      <td>02209S</td>\n",
       "      <td>1.209902e+09</td>\n",
       "      <td>1.422493</td>\n",
       "      <td>0.271185</td>\n",
       "      <td>0.047742</td>\n",
       "      <td>0.369715</td>\n",
       "      <td>0.179941</td>\n",
       "      <td>0.707195</td>\n",
       "      <td>0.355797</td>\n",
       "      <td>0.428599</td>\n",
       "      <td>0.239723</td>\n",
       "      <td>1.442869</td>\n",
       "      <td>1.442869</td>\n",
       "      <td>0.002108</td>\n",
       "    </tr>\n",
       "    <tr>\n",
       "      <th>2</th>\n",
       "      <td>01-03-1971</td>\n",
       "      <td>1971.0</td>\n",
       "      <td>02209S</td>\n",
       "      <td>1.215556e+09</td>\n",
       "      <td>1.422493</td>\n",
       "      <td>0.271185</td>\n",
       "      <td>0.047742</td>\n",
       "      <td>0.369715</td>\n",
       "      <td>0.179941</td>\n",
       "      <td>0.707195</td>\n",
       "      <td>0.355797</td>\n",
       "      <td>0.428599</td>\n",
       "      <td>0.239723</td>\n",
       "      <td>1.442869</td>\n",
       "      <td>1.442869</td>\n",
       "      <td>0.002108</td>\n",
       "    </tr>\n",
       "    <tr>\n",
       "      <th>3</th>\n",
       "      <td>01-04-1971</td>\n",
       "      <td>1971.0</td>\n",
       "      <td>02209S</td>\n",
       "      <td>1.356900e+09</td>\n",
       "      <td>1.422493</td>\n",
       "      <td>0.271185</td>\n",
       "      <td>0.047742</td>\n",
       "      <td>0.369715</td>\n",
       "      <td>0.179941</td>\n",
       "      <td>0.707195</td>\n",
       "      <td>0.355797</td>\n",
       "      <td>0.428599</td>\n",
       "      <td>0.239723</td>\n",
       "      <td>1.442869</td>\n",
       "      <td>1.442869</td>\n",
       "      <td>0.002108</td>\n",
       "    </tr>\n",
       "    <tr>\n",
       "      <th>4</th>\n",
       "      <td>03-05-1971</td>\n",
       "      <td>1971.0</td>\n",
       "      <td>02209S</td>\n",
       "      <td>1.501071e+09</td>\n",
       "      <td>1.422493</td>\n",
       "      <td>0.271185</td>\n",
       "      <td>0.047742</td>\n",
       "      <td>0.369715</td>\n",
       "      <td>0.179941</td>\n",
       "      <td>0.707195</td>\n",
       "      <td>0.355797</td>\n",
       "      <td>0.428599</td>\n",
       "      <td>0.239723</td>\n",
       "      <td>1.442869</td>\n",
       "      <td>1.442869</td>\n",
       "      <td>0.002108</td>\n",
       "    </tr>\n",
       "  </tbody>\n",
       "</table>\n",
       "</div>"
      ],
      "text/plain": [
       "         date   fyear   cusip  equity_value  cum_return   sigma_e         r  \\\n",
       "0  04-01-1971  1971.0  02209S  1.108135e+09    1.422493  0.271185  0.047742   \n",
       "1  01-02-1971  1971.0  02209S  1.209902e+09    1.422493  0.271185  0.047742   \n",
       "2  01-03-1971  1971.0  02209S  1.215556e+09    1.422493  0.271185  0.047742   \n",
       "3  01-04-1971  1971.0  02209S  1.356900e+09    1.422493  0.271185  0.047742   \n",
       "4  03-05-1971  1971.0  02209S  1.501071e+09    1.422493  0.271185  0.047742   \n",
       "\n",
       "   dd_naive_0.05_0.25  dd_naive_0.05_0.5  dd_naive_0_0.25  pd_naive_0.05_0.25  \\\n",
       "0            0.369715           0.179941         0.707195            0.355797   \n",
       "1            0.369715           0.179941         0.707195            0.355797   \n",
       "2            0.369715           0.179941         0.707195            0.355797   \n",
       "3            0.369715           0.179941         0.707195            0.355797   \n",
       "4            0.369715           0.179941         0.707195            0.355797   \n",
       "\n",
       "   pd_naive_0.05_0.5  pd_naive_0_0.25  dd_method_2  dd_method_2  \\\n",
       "0           0.428599         0.239723     1.442869     1.442869   \n",
       "1           0.428599         0.239723     1.442869     1.442869   \n",
       "2           0.428599         0.239723     1.442869     1.442869   \n",
       "3           0.428599         0.239723     1.442869     1.442869   \n",
       "4           0.428599         0.239723     1.442869     1.442869   \n",
       "\n",
       "   sigma_v_method_2  \n",
       "0          0.002108  \n",
       "1          0.002108  \n",
       "2          0.002108  \n",
       "3          0.002108  \n",
       "4          0.002108  "
      ]
     },
     "execution_count": 203,
     "metadata": {},
     "output_type": "execute_result"
    }
   ],
   "source": [
    "monthly_data = monthly_data.merge(funda_data_filtered[[\"cusip\",\"fyear\",\"f_lagged\"]],on = [\"cusip\",\"fyear\"],how = \"left\")\n",
    "cols_taken = [\"cusip\",\"fyear\",\"cum_return\",\"sigma_e\",\"r\",\"dd_naive_0.05_0.25\"\n",
    "              ,\"dd_naive_0.05_0.5\",\"dd_naive_0_0.25\",\"pd_naive_0.05_0.25\",\"pd_naive_0.05_0.5\",\n",
    "              \"pd_naive_0_0.25\",\"dd_method_2\",\"dd_method_2\",\"sigma_v_method_2\"]\n",
    "method_3_data = pd.merge(monthly_data[[\"date\",\"fyear\",\"cusip\",\"equity_value\",\"f_lagged\"]],final[cols_taken],on = [\"cusip\",\"fyear\"],how = \"inner\")\n",
    "method_3_data.sort_values(\"date\").reset_index(drop  = True, inplace=True)\n",
    "method_3_data = method_3_data[method_3_data.replace([np.inf, -np.inf], np.nan).notnull().all(axis=1)] \n",
    "companies_to_sample_from = pd.DataFrame(final.groupby(\"fyear\")[\"cusip\"].unique()).reset_index()\n",
    "sample_250 = pd.DataFrame()\n",
    "\n",
    "for i in range(len(companies_to_sample_from)):\n",
    "    df1 = method_3_data[method_3_data[\"cusip\"].isin(np.random.choice(k.loc[i,\"cusip\"],250)) & (method_3_data[\"fyear\"]==k.loc[i,\"fyear\"])]\n",
    "    sample_250 = sample_250.append(df1)\n",
    "sample_250 = sample_250.loc[:,sample_250.columns!=\"f_lagged\"].reset_index(drop = True)\n",
    "monthly_data = monthly_data.dropna().reset_index(drop = True)\n",
    "monthly_data = pd.merge(sample_250[sub_sample_1.columns[~sample_250.columns.isin([\"fyear\",\"equity_value\",\"f_lagged\"])]],monthly_data[[\"date\",\"fyear\",\"cusip\",\"equity_value\",\"f_lagged\"]],on = [\"date\",\"cusip\"],how= \"right\")\n",
    "sample_250.head()"
   ]
  },
  {
   "cell_type": "code",
   "execution_count": 204,
   "metadata": {},
   "outputs": [
    {
     "data": {
      "text/html": [
       "<div>\n",
       "<style scoped>\n",
       "    .dataframe tbody tr th:only-of-type {\n",
       "        vertical-align: middle;\n",
       "    }\n",
       "\n",
       "    .dataframe tbody tr th {\n",
       "        vertical-align: top;\n",
       "    }\n",
       "\n",
       "    .dataframe thead th {\n",
       "        text-align: right;\n",
       "    }\n",
       "</style>\n",
       "<table border=\"1\" class=\"dataframe\">\n",
       "  <thead>\n",
       "    <tr style=\"text-align: right;\">\n",
       "      <th></th>\n",
       "      <th>date</th>\n",
       "      <th>fyear</th>\n",
       "      <th>cusip</th>\n",
       "      <th>dd_method_3</th>\n",
       "      <th>pd_method_3</th>\n",
       "      <th>v_method_3</th>\n",
       "      <th>sigmav_method_3</th>\n",
       "    </tr>\n",
       "  </thead>\n",
       "  <tbody>\n",
       "    <tr>\n",
       "      <th>0</th>\n",
       "      <td>1987-01-02</td>\n",
       "      <td>1987.0</td>\n",
       "      <td>000872</td>\n",
       "      <td>1.869065</td>\n",
       "      <td>0.030807</td>\n",
       "      <td>6.112028e+06</td>\n",
       "      <td>0.955322</td>\n",
       "    </tr>\n",
       "    <tr>\n",
       "      <th>1</th>\n",
       "      <td>2014-01-02</td>\n",
       "      <td>2014.0</td>\n",
       "      <td>00123Q</td>\n",
       "      <td>2.043682</td>\n",
       "      <td>0.020492</td>\n",
       "      <td>6.941002e+10</td>\n",
       "      <td>0.056337</td>\n",
       "    </tr>\n",
       "    <tr>\n",
       "      <th>2</th>\n",
       "      <td>2020-01-02</td>\n",
       "      <td>2020.0</td>\n",
       "      <td>00164V</td>\n",
       "      <td>4.032863</td>\n",
       "      <td>0.000028</td>\n",
       "      <td>3.327452e+09</td>\n",
       "      <td>0.164601</td>\n",
       "    </tr>\n",
       "    <tr>\n",
       "      <th>3</th>\n",
       "      <td>2002-01-02</td>\n",
       "      <td>2002.0</td>\n",
       "      <td>004308</td>\n",
       "      <td>4.358460</td>\n",
       "      <td>0.000007</td>\n",
       "      <td>1.199040e+08</td>\n",
       "      <td>0.211512</td>\n",
       "    </tr>\n",
       "    <tr>\n",
       "      <th>4</th>\n",
       "      <td>2002-01-02</td>\n",
       "      <td>2002.0</td>\n",
       "      <td>005094</td>\n",
       "      <td>-0.400551</td>\n",
       "      <td>0.655624</td>\n",
       "      <td>4.291978e+08</td>\n",
       "      <td>1.535766</td>\n",
       "    </tr>\n",
       "  </tbody>\n",
       "</table>\n",
       "</div>"
      ],
      "text/plain": [
       "         date   fyear   cusip  dd_method_3  pd_method_3    v_method_3  \\\n",
       "0  1987-01-02  1987.0  000872     1.869065     0.030807  6.112028e+06   \n",
       "1  2014-01-02  2014.0  00123Q     2.043682     0.020492  6.941002e+10   \n",
       "2  2020-01-02  2020.0  00164V     4.032863     0.000028  3.327452e+09   \n",
       "3  2002-01-02  2002.0  004308     4.358460     0.000007  1.199040e+08   \n",
       "4  2002-01-02  2002.0  005094    -0.400551     0.655624  4.291978e+08   \n",
       "\n",
       "   sigmav_method_3  \n",
       "0         0.955322  \n",
       "1         0.056337  \n",
       "2         0.164601  \n",
       "3         0.211512  \n",
       "4         1.535766  "
      ]
     },
     "execution_count": 204,
     "metadata": {},
     "output_type": "execute_result"
    }
   ],
   "source": [
    "KMV_model_method(sample_250,monthly_data) \n",
    "sample_250 = sample_250[sample_250.replace([np.inf, -np.inf], np.nan).notnull().all(axis=1)] \n",
    "method_3_final = sample_250.merge(monthly_data[[\"cusip\",\"date\",\"f_lagged\"]],on = [\"cusip\",\"date\"],how = \"left\")\n",
    "distance_default(method_3_final,\"dd_method_3\",\"v_method_3\",\"sigmav_method_3\")\n",
    "probability_default(method_3_final,\"pd_method_3\",\"dd_iterate\")\n",
    "cols_method_3 = [\"date\",\"fyear\",\"cusip\",\"dd_method_3\",\"pd_method_3\",\"v_method_3\",\"sigmav_method_3\"]\n",
    "method_3 = method_3[cols_method_3]\n",
    "method_3_final.head(5)"
   ]
  },
  {
   "cell_type": "code",
   "execution_count": 205,
   "metadata": {},
   "outputs": [
    {
     "data": {
      "text/html": [
       "<div>\n",
       "<style scoped>\n",
       "    .dataframe tbody tr th:only-of-type {\n",
       "        vertical-align: middle;\n",
       "    }\n",
       "\n",
       "    .dataframe tbody tr th {\n",
       "        vertical-align: top;\n",
       "    }\n",
       "\n",
       "    .dataframe thead th {\n",
       "        text-align: right;\n",
       "    }\n",
       "</style>\n",
       "<table border=\"1\" class=\"dataframe\">\n",
       "  <thead>\n",
       "    <tr style=\"text-align: right;\">\n",
       "      <th></th>\n",
       "      <th>date</th>\n",
       "      <th>fyear</th>\n",
       "      <th>cusip</th>\n",
       "      <th>dd_method_3</th>\n",
       "      <th>pd_method_3</th>\n",
       "      <th>v_method_3</th>\n",
       "      <th>sigmav_method_3</th>\n",
       "    </tr>\n",
       "  </thead>\n",
       "  <tbody>\n",
       "    <tr>\n",
       "      <th>0</th>\n",
       "      <td>1987-01-02</td>\n",
       "      <td>1987.0</td>\n",
       "      <td>000872</td>\n",
       "      <td>1.869065</td>\n",
       "      <td>0.030807</td>\n",
       "      <td>6.112028e+06</td>\n",
       "      <td>0.955322</td>\n",
       "    </tr>\n",
       "    <tr>\n",
       "      <th>1</th>\n",
       "      <td>2014-01-02</td>\n",
       "      <td>2014.0</td>\n",
       "      <td>00123Q</td>\n",
       "      <td>2.043682</td>\n",
       "      <td>0.020492</td>\n",
       "      <td>6.941002e+10</td>\n",
       "      <td>0.056337</td>\n",
       "    </tr>\n",
       "    <tr>\n",
       "      <th>2</th>\n",
       "      <td>2020-01-02</td>\n",
       "      <td>2020.0</td>\n",
       "      <td>00164V</td>\n",
       "      <td>4.032863</td>\n",
       "      <td>0.000028</td>\n",
       "      <td>3.327452e+09</td>\n",
       "      <td>0.164601</td>\n",
       "    </tr>\n",
       "    <tr>\n",
       "      <th>3</th>\n",
       "      <td>2002-01-02</td>\n",
       "      <td>2002.0</td>\n",
       "      <td>004308</td>\n",
       "      <td>4.358460</td>\n",
       "      <td>0.000007</td>\n",
       "      <td>1.199040e+08</td>\n",
       "      <td>0.211512</td>\n",
       "    </tr>\n",
       "    <tr>\n",
       "      <th>4</th>\n",
       "      <td>2002-01-02</td>\n",
       "      <td>2002.0</td>\n",
       "      <td>005094</td>\n",
       "      <td>-0.400551</td>\n",
       "      <td>0.655624</td>\n",
       "      <td>4.291978e+08</td>\n",
       "      <td>1.535766</td>\n",
       "    </tr>\n",
       "  </tbody>\n",
       "</table>\n",
       "</div>"
      ],
      "text/plain": [
       "         date   fyear   cusip  dd_method_3  pd_method_3    v_method_3  \\\n",
       "0  1987-01-02  1987.0  000872     1.869065     0.030807  6.112028e+06   \n",
       "1  2014-01-02  2014.0  00123Q     2.043682     0.020492  6.941002e+10   \n",
       "2  2020-01-02  2020.0  00164V     4.032863     0.000028  3.327452e+09   \n",
       "3  2002-01-02  2002.0  004308     4.358460     0.000007  1.199040e+08   \n",
       "4  2002-01-02  2002.0  005094    -0.400551     0.655624  4.291978e+08   \n",
       "\n",
       "   sigmav_method_3  \n",
       "0         0.955322  \n",
       "1         0.056337  \n",
       "2         0.164601  \n",
       "3         0.211512  \n",
       "4         1.535766  "
      ]
     },
     "execution_count": 205,
     "metadata": {},
     "output_type": "execute_result"
    }
   ],
   "source": [
    "method_3_cols = [\"date\",\"fyear\",\"cusip\",\"dd_iterate\",\"pd_iterate\",\"v_iterate\",\"sigmav_iterate\"]\n",
    "method_3_final = pd.read_csv(path+\"file.csv\")\n",
    "method_3_final = method_3_final[method_3_cols]\n",
    "method_3_final = method_3_final.rename(columns = {\"pd_iterate\":\"pd_method_3\",\"dd_iterate\":\"dd_method_3\",\"v_iterate\":\"v_method_3\",\"sigmav_iterate\":\"sigmav_method_3\"})\n",
    "method_3_final.head()\n",
    "#final_method_3 = final_method_3.merge(final_data[[\"cusip\",\"date\",\"f_lagged\"]],on = [\"cusip\",\"date\"],how = \"left\")"
   ]
  },
  {
   "cell_type": "code",
   "execution_count": 206,
   "metadata": {},
   "outputs": [],
   "source": [
    "all_metrics = pd.merge(method_3_final, final, on = [\"fyear\",\"cusip\"])"
   ]
  },
  {
   "cell_type": "markdown",
   "metadata": {},
   "source": [
    "### Calculate Probability of Default for all calculated DDs"
   ]
  },
  {
   "cell_type": "code",
   "execution_count": 64,
   "metadata": {},
   "outputs": [
    {
     "data": {
      "text/html": [
       "<div>\n",
       "<style scoped>\n",
       "    .dataframe tbody tr th:only-of-type {\n",
       "        vertical-align: middle;\n",
       "    }\n",
       "\n",
       "    .dataframe tbody tr th {\n",
       "        vertical-align: top;\n",
       "    }\n",
       "\n",
       "    .dataframe thead th {\n",
       "        text-align: right;\n",
       "    }\n",
       "</style>\n",
       "<table border=\"1\" class=\"dataframe\">\n",
       "  <thead>\n",
       "    <tr style=\"text-align: right;\">\n",
       "      <th></th>\n",
       "      <th>cusip</th>\n",
       "      <th>fyear</th>\n",
       "      <th>cum_return</th>\n",
       "      <th>sigma_e</th>\n",
       "      <th>f_lagged</th>\n",
       "      <th>r</th>\n",
       "      <th>equity_value</th>\n",
       "      <th>dd_naive_0.05_0.25</th>\n",
       "      <th>dd_naive_0.05_0.5</th>\n",
       "      <th>v</th>\n",
       "      <th>sigma_v</th>\n",
       "      <th>dd_naive_0_0.25</th>\n",
       "      <th>v_method_2</th>\n",
       "      <th>sigma_v_method_2</th>\n",
       "      <th>dd_method_2</th>\n",
       "      <th>pd_naive_0.05_0.25</th>\n",
       "      <th>pd_naive_0.05_0.5</th>\n",
       "      <th>pd_naive_0_0.25</th>\n",
       "      <th>pd_method_2</th>\n",
       "    </tr>\n",
       "  </thead>\n",
       "  <tbody>\n",
       "    <tr>\n",
       "      <th>3</th>\n",
       "      <td>000781</td>\n",
       "      <td>1983</td>\n",
       "      <td>0.485713</td>\n",
       "      <td>0.408360</td>\n",
       "      <td>16950000.0</td>\n",
       "      <td>0.07622</td>\n",
       "      <td>1861.50</td>\n",
       "      <td>0.425721</td>\n",
       "      <td>0.173180</td>\n",
       "      <td>16951861.50</td>\n",
       "      <td>0.102124</td>\n",
       "      <td>0.696364</td>\n",
       "      <td>1.570257e+07</td>\n",
       "      <td>0.000531</td>\n",
       "      <td>-0.421166</td>\n",
       "      <td>0.335156</td>\n",
       "      <td>0.431255</td>\n",
       "      <td>0.243100</td>\n",
       "      <td>6.631832e-01</td>\n",
       "    </tr>\n",
       "    <tr>\n",
       "      <th>5</th>\n",
       "      <td>000874</td>\n",
       "      <td>1983</td>\n",
       "      <td>1.133339</td>\n",
       "      <td>0.404174</td>\n",
       "      <td>1498000.0</td>\n",
       "      <td>0.07622</td>\n",
       "      <td>2822.00</td>\n",
       "      <td>0.439699</td>\n",
       "      <td>0.183284</td>\n",
       "      <td>1500822.00</td>\n",
       "      <td>0.101613</td>\n",
       "      <td>0.717813</td>\n",
       "      <td>1.390885e+06</td>\n",
       "      <td>0.000826</td>\n",
       "      <td>2.456667</td>\n",
       "      <td>0.330077</td>\n",
       "      <td>0.427287</td>\n",
       "      <td>0.236436</td>\n",
       "      <td>7.011629e-03</td>\n",
       "    </tr>\n",
       "    <tr>\n",
       "      <th>6</th>\n",
       "      <td>001015</td>\n",
       "      <td>1983</td>\n",
       "      <td>0.951955</td>\n",
       "      <td>0.367341</td>\n",
       "      <td>4505000.0</td>\n",
       "      <td>0.07622</td>\n",
       "      <td>6307.75</td>\n",
       "      <td>0.474960</td>\n",
       "      <td>0.214980</td>\n",
       "      <td>4511307.75</td>\n",
       "      <td>0.092220</td>\n",
       "      <td>0.795560</td>\n",
       "      <td>4.180694e+06</td>\n",
       "      <td>0.000556</td>\n",
       "      <td>2.713991</td>\n",
       "      <td>0.317408</td>\n",
       "      <td>0.414892</td>\n",
       "      <td>0.213144</td>\n",
       "      <td>3.323899e-03</td>\n",
       "    </tr>\n",
       "    <tr>\n",
       "      <th>7</th>\n",
       "      <td>001030</td>\n",
       "      <td>1983</td>\n",
       "      <td>1.510999</td>\n",
       "      <td>0.397504</td>\n",
       "      <td>6924000.0</td>\n",
       "      <td>0.07622</td>\n",
       "      <td>29138.00</td>\n",
       "      <td>0.459439</td>\n",
       "      <td>0.197796</td>\n",
       "      <td>6953138.00</td>\n",
       "      <td>0.100625</td>\n",
       "      <td>0.748883</td>\n",
       "      <td>6.444979e+06</td>\n",
       "      <td>0.001808</td>\n",
       "      <td>2.503069</td>\n",
       "      <td>0.322959</td>\n",
       "      <td>0.421603</td>\n",
       "      <td>0.226964</td>\n",
       "      <td>6.156084e-03</td>\n",
       "    </tr>\n",
       "    <tr>\n",
       "      <th>8</th>\n",
       "      <td>001038</td>\n",
       "      <td>1983</td>\n",
       "      <td>2.786490</td>\n",
       "      <td>0.196910</td>\n",
       "      <td>199500.0</td>\n",
       "      <td>0.07622</td>\n",
       "      <td>11338.25</td>\n",
       "      <td>1.206339</td>\n",
       "      <td>0.794961</td>\n",
       "      <td>210838.25</td>\n",
       "      <td>0.057169</td>\n",
       "      <td>2.271547</td>\n",
       "      <td>1.961974e+05</td>\n",
       "      <td>0.011379</td>\n",
       "      <td>5.225431</td>\n",
       "      <td>0.113843</td>\n",
       "      <td>0.213318</td>\n",
       "      <td>0.011557</td>\n",
       "      <td>8.687493e-08</td>\n",
       "    </tr>\n",
       "  </tbody>\n",
       "</table>\n",
       "</div>"
      ],
      "text/plain": [
       "    cusip  fyear  cum_return   sigma_e    f_lagged        r  equity_value  \\\n",
       "3  000781   1983    0.485713  0.408360  16950000.0  0.07622       1861.50   \n",
       "5  000874   1983    1.133339  0.404174   1498000.0  0.07622       2822.00   \n",
       "6  001015   1983    0.951955  0.367341   4505000.0  0.07622       6307.75   \n",
       "7  001030   1983    1.510999  0.397504   6924000.0  0.07622      29138.00   \n",
       "8  001038   1983    2.786490  0.196910    199500.0  0.07622      11338.25   \n",
       "\n",
       "   dd_naive_0.05_0.25  dd_naive_0.05_0.5            v   sigma_v  \\\n",
       "3            0.425721           0.173180  16951861.50  0.102124   \n",
       "5            0.439699           0.183284   1500822.00  0.101613   \n",
       "6            0.474960           0.214980   4511307.75  0.092220   \n",
       "7            0.459439           0.197796   6953138.00  0.100625   \n",
       "8            1.206339           0.794961    210838.25  0.057169   \n",
       "\n",
       "   dd_naive_0_0.25    v_method_2  sigma_v_method_2  dd_method_2  \\\n",
       "3         0.696364  1.570257e+07          0.000531    -0.421166   \n",
       "5         0.717813  1.390885e+06          0.000826     2.456667   \n",
       "6         0.795560  4.180694e+06          0.000556     2.713991   \n",
       "7         0.748883  6.444979e+06          0.001808     2.503069   \n",
       "8         2.271547  1.961974e+05          0.011379     5.225431   \n",
       "\n",
       "   pd_naive_0.05_0.25  pd_naive_0.05_0.5  pd_naive_0_0.25   pd_method_2  \n",
       "3            0.335156           0.431255         0.243100  6.631832e-01  \n",
       "5            0.330077           0.427287         0.236436  7.011629e-03  \n",
       "6            0.317408           0.414892         0.213144  3.323899e-03  \n",
       "7            0.322959           0.421603         0.226964  6.156084e-03  \n",
       "8            0.113843           0.213318         0.011557  8.687493e-08  "
      ]
     },
     "execution_count": 64,
     "metadata": {},
     "output_type": "execute_result"
    }
   ],
   "source": [
    "final[\"pd_naive_0.05_0.25\"] = stat.norm.cdf(-final[\"dd_naive_0.05_0.25\"], 0.0, 1.0)\n",
    "final[\"pd_naive_0.05_0.5\"] = stat.norm.cdf(-final[\"dd_naive_0.05_0.5\"], 0.0, 1.0)\n",
    "final[\"pd_naive_0_0.25\"] = stat.norm.cdf(-final[\"dd_naive_0_0.25\"], 0.0, 1.0)\n",
    "final[\"pd_method_2\"] = stat.norm.cdf(-final[\"dd_method_2\"], 0.0, 1.0)\n",
    "final.head()"
   ]
  },
  {
   "cell_type": "markdown",
   "metadata": {},
   "source": [
    "#### Supporting Generalized Plotting Functions\n",
    "These are directly taken from our the momentum assignment submission from Finance and Investments class"
   ]
  },
  {
   "cell_type": "code",
   "execution_count": 79,
   "metadata": {},
   "outputs": [],
   "source": [
    "def plot_chart(df,title_name,y1_name,date_column):\n",
    "    x = df[\"fyear\"].values\n",
    "    fig = make_subplots(specs=[[{\"secondary_y\": True}]])\n",
    "    for i in range(len(df.columns)-1):\n",
    "        fig.add_trace(go.Scatter(name=df.columns[i+1],x=x, y=df.iloc[:,i+1]),secondary_y=False)\n",
    "    fig.update_yaxes(title_text=\"\"+str(y1_name), secondary_y=False)   \n",
    "    fig.update_layout(barmode='relative',showlegend = True, title_text=\"Title:\"+title_name)\n",
    "    fig.show()\n",
    "    \n",
    "def plot_chart_with_macro(df,title_name,y1_name,date_column):\n",
    "    x = df[\"fyear\"].values\n",
    "    fig = make_subplots(specs=[[{\"secondary_y\": True}]])\n",
    "    for i in range(len(df.columns)-2):\n",
    "        fig.add_trace(go.Scatter(name=df.columns[i+1],x=x, y=df.iloc[:,i+1]),secondary_y=False)\n",
    "    fig.update_yaxes(title_text=\"\"+str(y1_name), secondary_y=False)\n",
    "    fig.add_trace(go.Scatter(name=df.columns[-1],x=x, y=df.iloc[:,-1]), secondary_y=True)\n",
    "    fig.update_yaxes(title_text=\"Economic Indicator in %\", secondary_y=True)      \n",
    "    fig.update_layout(barmode='relative',showlegend = True, title_text=\"Title:\"+title_name)\n",
    "    fig.show()"
   ]
  },
  {
   "cell_type": "markdown",
   "metadata": {},
   "source": [
    "### Descriptive Stats - Both PD,DD for first 2 methods\n",
    "Note: Most of the plots and descriptive stats comparisons we will divide in 2 parts: All firms for method1 and 2, sampled 250 firms for all 3 methods "
   ]
  },
  {
   "cell_type": "code",
   "execution_count": 55,
   "metadata": {},
   "outputs": [
    {
     "data": {
      "text/html": [
       "<div>\n",
       "<style scoped>\n",
       "    .dataframe tbody tr th:only-of-type {\n",
       "        vertical-align: middle;\n",
       "    }\n",
       "\n",
       "    .dataframe tbody tr th {\n",
       "        vertical-align: top;\n",
       "    }\n",
       "\n",
       "    .dataframe thead th {\n",
       "        text-align: right;\n",
       "    }\n",
       "</style>\n",
       "<table border=\"1\" class=\"dataframe\">\n",
       "  <thead>\n",
       "    <tr style=\"text-align: right;\">\n",
       "      <th></th>\n",
       "      <th>dd_naive_0.05_0.25</th>\n",
       "      <th>dd_naive_0.05_0.5</th>\n",
       "      <th>dd_naive_0_0.25</th>\n",
       "      <th>pd_naive_0.05_0.25</th>\n",
       "      <th>pd_naive_0.05_0.5</th>\n",
       "      <th>pd_naive_0_0.25</th>\n",
       "      <th>dd_method_2</th>\n",
       "      <th>pd_method_2</th>\n",
       "    </tr>\n",
       "  </thead>\n",
       "  <tbody>\n",
       "    <tr>\n",
       "      <th>count</th>\n",
       "      <td>19117.000000</td>\n",
       "      <td>19117.000000</td>\n",
       "      <td>19117.000000</td>\n",
       "      <td>1.911700e+04</td>\n",
       "      <td>1.911700e+04</td>\n",
       "      <td>19117.000000</td>\n",
       "      <td>19117.000000</td>\n",
       "      <td>19117.000000</td>\n",
       "    </tr>\n",
       "    <tr>\n",
       "      <th>mean</th>\n",
       "      <td>0.296359</td>\n",
       "      <td>0.103027</td>\n",
       "      <td>0.496746</td>\n",
       "      <td>4.065582e-01</td>\n",
       "      <td>4.760141e-01</td>\n",
       "      <td>0.351377</td>\n",
       "      <td>0.795708</td>\n",
       "      <td>0.220248</td>\n",
       "    </tr>\n",
       "    <tr>\n",
       "      <th>std</th>\n",
       "      <td>0.610558</td>\n",
       "      <td>0.575487</td>\n",
       "      <td>1.041700</td>\n",
       "      <td>1.193059e-01</td>\n",
       "      <td>1.146522e-01</td>\n",
       "      <td>0.144493</td>\n",
       "      <td>14.066862</td>\n",
       "      <td>0.292871</td>\n",
       "    </tr>\n",
       "    <tr>\n",
       "      <th>min</th>\n",
       "      <td>-2.091015</td>\n",
       "      <td>-4.172309</td>\n",
       "      <td>-2.065872</td>\n",
       "      <td>5.040511e-56</td>\n",
       "      <td>6.276758e-54</td>\n",
       "      <td>0.000000</td>\n",
       "      <td>-1169.038577</td>\n",
       "      <td>0.000000</td>\n",
       "    </tr>\n",
       "    <tr>\n",
       "      <th>25%</th>\n",
       "      <td>0.017897</td>\n",
       "      <td>-0.097752</td>\n",
       "      <td>0.085516</td>\n",
       "      <td>3.551141e-01</td>\n",
       "      <td>4.388981e-01</td>\n",
       "      <td>0.266782</td>\n",
       "      <td>0.372311</td>\n",
       "      <td>0.003945</td>\n",
       "    </tr>\n",
       "    <tr>\n",
       "      <th>50%</th>\n",
       "      <td>0.167460</td>\n",
       "      <td>0.001423</td>\n",
       "      <td>0.298310</td>\n",
       "      <td>4.335040e-01</td>\n",
       "      <td>4.994323e-01</td>\n",
       "      <td>0.382733</td>\n",
       "      <td>1.472137</td>\n",
       "      <td>0.070492</td>\n",
       "    </tr>\n",
       "    <tr>\n",
       "      <th>75%</th>\n",
       "      <td>0.371550</td>\n",
       "      <td>0.153764</td>\n",
       "      <td>0.622575</td>\n",
       "      <td>4.928603e-01</td>\n",
       "      <td>5.389353e-01</td>\n",
       "      <td>0.465925</td>\n",
       "      <td>2.656703</td>\n",
       "      <td>0.354831</td>\n",
       "    </tr>\n",
       "    <tr>\n",
       "      <th>max</th>\n",
       "      <td>15.725713</td>\n",
       "      <td>15.417144</td>\n",
       "      <td>97.426810</td>\n",
       "      <td>9.817366e-01</td>\n",
       "      <td>9.999849e-01</td>\n",
       "      <td>0.980580</td>\n",
       "      <td>395.918008</td>\n",
       "      <td>1.000000</td>\n",
       "    </tr>\n",
       "  </tbody>\n",
       "</table>\n",
       "</div>"
      ],
      "text/plain": [
       "       dd_naive_0.05_0.25  dd_naive_0.05_0.5  dd_naive_0_0.25  \\\n",
       "count        19117.000000       19117.000000     19117.000000   \n",
       "mean             0.296359           0.103027         0.496746   \n",
       "std              0.610558           0.575487         1.041700   \n",
       "min             -2.091015          -4.172309        -2.065872   \n",
       "25%              0.017897          -0.097752         0.085516   \n",
       "50%              0.167460           0.001423         0.298310   \n",
       "75%              0.371550           0.153764         0.622575   \n",
       "max             15.725713          15.417144        97.426810   \n",
       "\n",
       "       pd_naive_0.05_0.25  pd_naive_0.05_0.5  pd_naive_0_0.25   dd_method_2  \\\n",
       "count        1.911700e+04       1.911700e+04     19117.000000  19117.000000   \n",
       "mean         4.065582e-01       4.760141e-01         0.351377      0.795708   \n",
       "std          1.193059e-01       1.146522e-01         0.144493     14.066862   \n",
       "min          5.040511e-56       6.276758e-54         0.000000  -1169.038577   \n",
       "25%          3.551141e-01       4.388981e-01         0.266782      0.372311   \n",
       "50%          4.335040e-01       4.994323e-01         0.382733      1.472137   \n",
       "75%          4.928603e-01       5.389353e-01         0.465925      2.656703   \n",
       "max          9.817366e-01       9.999849e-01         0.980580    395.918008   \n",
       "\n",
       "        pd_method_2  \n",
       "count  19117.000000  \n",
       "mean       0.220248  \n",
       "std        0.292871  \n",
       "min        0.000000  \n",
       "25%        0.003945  \n",
       "50%        0.070492  \n",
       "75%        0.354831  \n",
       "max        1.000000  "
      ]
     },
     "execution_count": 55,
     "metadata": {},
     "output_type": "execute_result"
    }
   ],
   "source": [
    "all_pd_results = [\"pd_naive_0.05_0.25\",\"pd_naive_0.05_0.5\",\"pd_naive_0_0.25\",\"pd_method_2\"]\n",
    "all_dd_results = [\"dd_naive_0.05_0.25\",\"dd_naive_0.05_0.5\",\"dd_naive_0_0.25\",\"dd_method_2\"]\n",
    "all_results = [\"dd_naive_0.05_0.25\",\"dd_naive_0.05_0.5\",\"dd_naive_0_0.25\",\"pd_naive_0.05_0.25\",\"pd_naive_0.05_0.5\",\n",
    "              \"pd_naive_0_0.25\",\"dd_method_2\",\"pd_method_2\"]\n",
    "\n",
    "final = final[final.replace([np.inf, -np.inf], np.nan).notnull().all(axis=1)] \n",
    "descriptive_stats_all = final[all_results].describe()\n",
    "descriptive_stats_all"
   ]
  },
  {
   "cell_type": "code",
   "execution_count": 169,
   "metadata": {},
   "outputs": [
    {
     "data": {
      "text/html": [
       "<div>\n",
       "<style scoped>\n",
       "    .dataframe tbody tr th:only-of-type {\n",
       "        vertical-align: middle;\n",
       "    }\n",
       "\n",
       "    .dataframe tbody tr th {\n",
       "        vertical-align: top;\n",
       "    }\n",
       "\n",
       "    .dataframe thead th {\n",
       "        text-align: right;\n",
       "    }\n",
       "</style>\n",
       "<table border=\"1\" class=\"dataframe\">\n",
       "  <thead>\n",
       "    <tr style=\"text-align: right;\">\n",
       "      <th></th>\n",
       "      <th>dd_naive_0.05_0.25</th>\n",
       "      <th>dd_naive_0.05_0.5</th>\n",
       "      <th>dd_naive_0_0.25</th>\n",
       "      <th>pd_naive_0.05_0.25</th>\n",
       "      <th>pd_naive_0.05_0.5</th>\n",
       "      <th>pd_naive_0_0.25</th>\n",
       "      <th>dd_method_2</th>\n",
       "      <th>pd_method_2</th>\n",
       "      <th>dd_method_3</th>\n",
       "      <th>pd_method_3</th>\n",
       "    </tr>\n",
       "  </thead>\n",
       "  <tbody>\n",
       "    <tr>\n",
       "      <th>count</th>\n",
       "      <td>75.000000</td>\n",
       "      <td>75.000000</td>\n",
       "      <td>75.000000</td>\n",
       "      <td>7.500000e+01</td>\n",
       "      <td>7.500000e+01</td>\n",
       "      <td>7.500000e+01</td>\n",
       "      <td>75.000000</td>\n",
       "      <td>7.500000e+01</td>\n",
       "      <td>75.000000</td>\n",
       "      <td>7.500000e+01</td>\n",
       "    </tr>\n",
       "    <tr>\n",
       "      <th>mean</th>\n",
       "      <td>0.220401</td>\n",
       "      <td>0.080022</td>\n",
       "      <td>0.382226</td>\n",
       "      <td>4.355391e-01</td>\n",
       "      <td>4.877580e-01</td>\n",
       "      <td>3.810256e-01</td>\n",
       "      <td>2.519319</td>\n",
       "      <td>1.344826e-01</td>\n",
       "      <td>8.485280</td>\n",
       "      <td>8.411022e-03</td>\n",
       "    </tr>\n",
       "    <tr>\n",
       "      <th>std</th>\n",
       "      <td>0.608239</td>\n",
       "      <td>0.591691</td>\n",
       "      <td>0.656810</td>\n",
       "      <td>1.045895e-01</td>\n",
       "      <td>9.330314e-02</td>\n",
       "      <td>1.271863e-01</td>\n",
       "      <td>3.364662</td>\n",
       "      <td>2.659072e-01</td>\n",
       "      <td>4.534682</td>\n",
       "      <td>4.395942e-02</td>\n",
       "    </tr>\n",
       "    <tr>\n",
       "      <th>min</th>\n",
       "      <td>-0.224523</td>\n",
       "      <td>-0.549658</td>\n",
       "      <td>-0.192005</td>\n",
       "      <td>4.012989e-07</td>\n",
       "      <td>5.818710e-07</td>\n",
       "      <td>3.524167e-07</td>\n",
       "      <td>-11.801363</td>\n",
       "      <td>2.829750e-15</td>\n",
       "      <td>0.377109</td>\n",
       "      <td>1.744215e-100</td>\n",
       "    </tr>\n",
       "    <tr>\n",
       "      <th>25%</th>\n",
       "      <td>0.000923</td>\n",
       "      <td>-0.058974</td>\n",
       "      <td>0.077877</td>\n",
       "      <td>4.315294e-01</td>\n",
       "      <td>4.770671e-01</td>\n",
       "      <td>3.483099e-01</td>\n",
       "      <td>1.176165</td>\n",
       "      <td>1.565619e-06</td>\n",
       "      <td>5.438588</td>\n",
       "      <td>1.212835e-26</td>\n",
       "    </tr>\n",
       "    <tr>\n",
       "      <th>50%</th>\n",
       "      <td>0.087332</td>\n",
       "      <td>0.005618</td>\n",
       "      <td>0.227178</td>\n",
       "      <td>4.652037e-01</td>\n",
       "      <td>4.977587e-01</td>\n",
       "      <td>4.101428e-01</td>\n",
       "      <td>3.131010</td>\n",
       "      <td>8.710299e-04</td>\n",
       "      <td>8.268415</td>\n",
       "      <td>6.787609e-17</td>\n",
       "    </tr>\n",
       "    <tr>\n",
       "      <th>75%</th>\n",
       "      <td>0.172506</td>\n",
       "      <td>0.057516</td>\n",
       "      <td>0.389992</td>\n",
       "      <td>4.996319e-01</td>\n",
       "      <td>5.235136e-01</td>\n",
       "      <td>4.689629e-01</td>\n",
       "      <td>4.668752</td>\n",
       "      <td>1.210451e-01</td>\n",
       "      <td>10.619225</td>\n",
       "      <td>3.395650e-08</td>\n",
       "    </tr>\n",
       "    <tr>\n",
       "      <th>max</th>\n",
       "      <td>4.934735</td>\n",
       "      <td>4.861713</td>\n",
       "      <td>4.960027</td>\n",
       "      <td>5.888247e-01</td>\n",
       "      <td>7.087229e-01</td>\n",
       "      <td>5.761308e-01</td>\n",
       "      <td>7.811314</td>\n",
       "      <td>1.000000e+00</td>\n",
       "      <td>21.247345</td>\n",
       "      <td>3.530464e-01</td>\n",
       "    </tr>\n",
       "  </tbody>\n",
       "</table>\n",
       "</div>"
      ],
      "text/plain": [
       "       dd_naive_0.05_0.25  dd_naive_0.05_0.5  dd_naive_0_0.25  \\\n",
       "count           75.000000          75.000000        75.000000   \n",
       "mean             0.220401           0.080022         0.382226   \n",
       "std              0.608239           0.591691         0.656810   \n",
       "min             -0.224523          -0.549658        -0.192005   \n",
       "25%              0.000923          -0.058974         0.077877   \n",
       "50%              0.087332           0.005618         0.227178   \n",
       "75%              0.172506           0.057516         0.389992   \n",
       "max              4.934735           4.861713         4.960027   \n",
       "\n",
       "       pd_naive_0.05_0.25  pd_naive_0.05_0.5  pd_naive_0_0.25  dd_method_2  \\\n",
       "count        7.500000e+01       7.500000e+01     7.500000e+01    75.000000   \n",
       "mean         4.355391e-01       4.877580e-01     3.810256e-01     2.519319   \n",
       "std          1.045895e-01       9.330314e-02     1.271863e-01     3.364662   \n",
       "min          4.012989e-07       5.818710e-07     3.524167e-07   -11.801363   \n",
       "25%          4.315294e-01       4.770671e-01     3.483099e-01     1.176165   \n",
       "50%          4.652037e-01       4.977587e-01     4.101428e-01     3.131010   \n",
       "75%          4.996319e-01       5.235136e-01     4.689629e-01     4.668752   \n",
       "max          5.888247e-01       7.087229e-01     5.761308e-01     7.811314   \n",
       "\n",
       "        pd_method_2  dd_method_3    pd_method_3  \n",
       "count  7.500000e+01    75.000000   7.500000e+01  \n",
       "mean   1.344826e-01     8.485280   8.411022e-03  \n",
       "std    2.659072e-01     4.534682   4.395942e-02  \n",
       "min    2.829750e-15     0.377109  1.744215e-100  \n",
       "25%    1.565619e-06     5.438588   1.212835e-26  \n",
       "50%    8.710299e-04     8.268415   6.787609e-17  \n",
       "75%    1.210451e-01    10.619225   3.395650e-08  \n",
       "max    1.000000e+00    21.247345   3.530464e-01  "
      ]
     },
     "execution_count": 169,
     "metadata": {},
     "output_type": "execute_result"
    }
   ],
   "source": [
    "all_results_250 = all_results + [\"dd_method_3\",\"pd_method_3\"]\n",
    "descriptive_stats_250 = all_metrics[all_results_250].describe()\n",
    "descriptive_stats_250"
   ]
  },
  {
   "cell_type": "markdown",
   "metadata": {},
   "source": [
    "### Descriptive Stats Each Year (Both PD,DD for 2 methods)"
   ]
  },
  {
   "cell_type": "code",
   "execution_count": 65,
   "metadata": {},
   "outputs": [
    {
     "data": {
      "text/html": [
       "<div>\n",
       "<style scoped>\n",
       "    .dataframe tbody tr th:only-of-type {\n",
       "        vertical-align: middle;\n",
       "    }\n",
       "\n",
       "    .dataframe tbody tr th {\n",
       "        vertical-align: top;\n",
       "    }\n",
       "\n",
       "    .dataframe thead th {\n",
       "        text-align: right;\n",
       "    }\n",
       "</style>\n",
       "<table border=\"1\" class=\"dataframe\">\n",
       "  <thead>\n",
       "    <tr style=\"text-align: right;\">\n",
       "      <th></th>\n",
       "      <th>fyear</th>\n",
       "      <th>dd_naive_0.05_0.25_count</th>\n",
       "      <th>dd_naive_0.05_0.25_mean</th>\n",
       "      <th>dd_naive_0.05_0.25_std</th>\n",
       "      <th>dd_naive_0.05_0.25_min</th>\n",
       "      <th>dd_naive_0.05_0.25_25%</th>\n",
       "      <th>dd_naive_0.05_0.25_50%</th>\n",
       "      <th>dd_naive_0.05_0.25_75%</th>\n",
       "      <th>dd_naive_0.05_0.25_max</th>\n",
       "      <th>dd_naive_0.05_0.5_count</th>\n",
       "      <th>...</th>\n",
       "      <th>dd_method_2_75%</th>\n",
       "      <th>dd_method_2_max</th>\n",
       "      <th>pd_method_2_count</th>\n",
       "      <th>pd_method_2_mean</th>\n",
       "      <th>pd_method_2_std</th>\n",
       "      <th>pd_method_2_min</th>\n",
       "      <th>pd_method_2_25%</th>\n",
       "      <th>pd_method_2_50%</th>\n",
       "      <th>pd_method_2_75%</th>\n",
       "      <th>pd_method_2_max</th>\n",
       "    </tr>\n",
       "  </thead>\n",
       "  <tbody>\n",
       "    <tr>\n",
       "      <th>40</th>\n",
       "      <td>2011</td>\n",
       "      <td>240.0</td>\n",
       "      <td>0.113531</td>\n",
       "      <td>0.517695</td>\n",
       "      <td>-0.198325</td>\n",
       "      <td>-0.051425</td>\n",
       "      <td>-0.013735</td>\n",
       "      <td>0.077012</td>\n",
       "      <td>5.380599</td>\n",
       "      <td>240.0</td>\n",
       "      <td>...</td>\n",
       "      <td>2.320974</td>\n",
       "      <td>9.293560</td>\n",
       "      <td>240.0</td>\n",
       "      <td>0.370386</td>\n",
       "      <td>0.400793</td>\n",
       "      <td>7.460591e-21</td>\n",
       "      <td>0.010145</td>\n",
       "      <td>0.178197</td>\n",
       "      <td>0.736055</td>\n",
       "      <td>1.0</td>\n",
       "    </tr>\n",
       "    <tr>\n",
       "      <th>41</th>\n",
       "      <td>2012</td>\n",
       "      <td>337.0</td>\n",
       "      <td>0.136919</td>\n",
       "      <td>0.809678</td>\n",
       "      <td>-0.242440</td>\n",
       "      <td>-0.070442</td>\n",
       "      <td>-0.044968</td>\n",
       "      <td>0.024391</td>\n",
       "      <td>10.334314</td>\n",
       "      <td>337.0</td>\n",
       "      <td>...</td>\n",
       "      <td>1.923572</td>\n",
       "      <td>11.769535</td>\n",
       "      <td>337.0</td>\n",
       "      <td>0.346460</td>\n",
       "      <td>0.346103</td>\n",
       "      <td>2.801614e-32</td>\n",
       "      <td>0.027204</td>\n",
       "      <td>0.266457</td>\n",
       "      <td>0.536130</td>\n",
       "      <td>1.0</td>\n",
       "    </tr>\n",
       "    <tr>\n",
       "      <th>42</th>\n",
       "      <td>2013</td>\n",
       "      <td>445.0</td>\n",
       "      <td>0.153109</td>\n",
       "      <td>0.722260</td>\n",
       "      <td>-0.545031</td>\n",
       "      <td>-0.047788</td>\n",
       "      <td>-0.019713</td>\n",
       "      <td>0.049154</td>\n",
       "      <td>8.036456</td>\n",
       "      <td>445.0</td>\n",
       "      <td>...</td>\n",
       "      <td>2.457304</td>\n",
       "      <td>27.065443</td>\n",
       "      <td>445.0</td>\n",
       "      <td>0.360259</td>\n",
       "      <td>0.394936</td>\n",
       "      <td>1.256765e-161</td>\n",
       "      <td>0.006999</td>\n",
       "      <td>0.192574</td>\n",
       "      <td>0.717812</td>\n",
       "      <td>1.0</td>\n",
       "    </tr>\n",
       "    <tr>\n",
       "      <th>43</th>\n",
       "      <td>2014</td>\n",
       "      <td>624.0</td>\n",
       "      <td>0.173846</td>\n",
       "      <td>0.735511</td>\n",
       "      <td>-0.910587</td>\n",
       "      <td>-0.041789</td>\n",
       "      <td>-0.009783</td>\n",
       "      <td>0.063505</td>\n",
       "      <td>11.556776</td>\n",
       "      <td>624.0</td>\n",
       "      <td>...</td>\n",
       "      <td>2.473544</td>\n",
       "      <td>29.414189</td>\n",
       "      <td>624.0</td>\n",
       "      <td>0.377463</td>\n",
       "      <td>0.401006</td>\n",
       "      <td>1.808233e-190</td>\n",
       "      <td>0.006689</td>\n",
       "      <td>0.217016</td>\n",
       "      <td>0.838110</td>\n",
       "      <td>1.0</td>\n",
       "    </tr>\n",
       "    <tr>\n",
       "      <th>44</th>\n",
       "      <td>2015</td>\n",
       "      <td>709.0</td>\n",
       "      <td>0.158086</td>\n",
       "      <td>0.788941</td>\n",
       "      <td>-0.765232</td>\n",
       "      <td>-0.052471</td>\n",
       "      <td>-0.025200</td>\n",
       "      <td>0.033050</td>\n",
       "      <td>10.869925</td>\n",
       "      <td>709.0</td>\n",
       "      <td>...</td>\n",
       "      <td>2.436242</td>\n",
       "      <td>21.351114</td>\n",
       "      <td>709.0</td>\n",
       "      <td>0.349291</td>\n",
       "      <td>0.382240</td>\n",
       "      <td>1.903777e-101</td>\n",
       "      <td>0.007420</td>\n",
       "      <td>0.168700</td>\n",
       "      <td>0.593069</td>\n",
       "      <td>1.0</td>\n",
       "    </tr>\n",
       "    <tr>\n",
       "      <th>45</th>\n",
       "      <td>2016</td>\n",
       "      <td>671.0</td>\n",
       "      <td>0.086423</td>\n",
       "      <td>0.565923</td>\n",
       "      <td>-1.706348</td>\n",
       "      <td>-0.050277</td>\n",
       "      <td>-0.019030</td>\n",
       "      <td>0.023084</td>\n",
       "      <td>5.975354</td>\n",
       "      <td>671.0</td>\n",
       "      <td>...</td>\n",
       "      <td>2.317129</td>\n",
       "      <td>18.013288</td>\n",
       "      <td>671.0</td>\n",
       "      <td>0.341643</td>\n",
       "      <td>0.355882</td>\n",
       "      <td>7.662445e-73</td>\n",
       "      <td>0.010249</td>\n",
       "      <td>0.240880</td>\n",
       "      <td>0.546293</td>\n",
       "      <td>1.0</td>\n",
       "    </tr>\n",
       "    <tr>\n",
       "      <th>46</th>\n",
       "      <td>2017</td>\n",
       "      <td>615.0</td>\n",
       "      <td>0.115048</td>\n",
       "      <td>0.709227</td>\n",
       "      <td>-0.503426</td>\n",
       "      <td>-0.036448</td>\n",
       "      <td>0.004964</td>\n",
       "      <td>0.046003</td>\n",
       "      <td>8.291220</td>\n",
       "      <td>615.0</td>\n",
       "      <td>...</td>\n",
       "      <td>2.393362</td>\n",
       "      <td>9.881615</td>\n",
       "      <td>615.0</td>\n",
       "      <td>0.307716</td>\n",
       "      <td>0.351254</td>\n",
       "      <td>2.501004e-23</td>\n",
       "      <td>0.008347</td>\n",
       "      <td>0.165403</td>\n",
       "      <td>0.492694</td>\n",
       "      <td>1.0</td>\n",
       "    </tr>\n",
       "    <tr>\n",
       "      <th>47</th>\n",
       "      <td>2018</td>\n",
       "      <td>574.0</td>\n",
       "      <td>0.268095</td>\n",
       "      <td>1.064354</td>\n",
       "      <td>-0.411284</td>\n",
       "      <td>0.042693</td>\n",
       "      <td>0.097219</td>\n",
       "      <td>0.159661</td>\n",
       "      <td>15.725713</td>\n",
       "      <td>574.0</td>\n",
       "      <td>...</td>\n",
       "      <td>3.540563</td>\n",
       "      <td>16.417974</td>\n",
       "      <td>574.0</td>\n",
       "      <td>0.235553</td>\n",
       "      <td>0.344742</td>\n",
       "      <td>7.111842e-61</td>\n",
       "      <td>0.000200</td>\n",
       "      <td>0.029142</td>\n",
       "      <td>0.363326</td>\n",
       "      <td>1.0</td>\n",
       "    </tr>\n",
       "    <tr>\n",
       "      <th>48</th>\n",
       "      <td>2019</td>\n",
       "      <td>549.0</td>\n",
       "      <td>0.258673</td>\n",
       "      <td>0.611606</td>\n",
       "      <td>-0.847152</td>\n",
       "      <td>0.081032</td>\n",
       "      <td>0.159162</td>\n",
       "      <td>0.211225</td>\n",
       "      <td>8.184791</td>\n",
       "      <td>549.0</td>\n",
       "      <td>...</td>\n",
       "      <td>3.655054</td>\n",
       "      <td>9.179056</td>\n",
       "      <td>549.0</td>\n",
       "      <td>0.128844</td>\n",
       "      <td>0.243908</td>\n",
       "      <td>2.174427e-20</td>\n",
       "      <td>0.000129</td>\n",
       "      <td>0.007876</td>\n",
       "      <td>0.124713</td>\n",
       "      <td>1.0</td>\n",
       "    </tr>\n",
       "    <tr>\n",
       "      <th>49</th>\n",
       "      <td>2020</td>\n",
       "      <td>590.0</td>\n",
       "      <td>0.193230</td>\n",
       "      <td>0.622358</td>\n",
       "      <td>-0.682902</td>\n",
       "      <td>0.025411</td>\n",
       "      <td>0.099142</td>\n",
       "      <td>0.160161</td>\n",
       "      <td>7.803129</td>\n",
       "      <td>590.0</td>\n",
       "      <td>...</td>\n",
       "      <td>3.309975</td>\n",
       "      <td>72.797891</td>\n",
       "      <td>590.0</td>\n",
       "      <td>0.217547</td>\n",
       "      <td>0.321022</td>\n",
       "      <td>0.000000e+00</td>\n",
       "      <td>0.000467</td>\n",
       "      <td>0.033259</td>\n",
       "      <td>0.330682</td>\n",
       "      <td>1.0</td>\n",
       "    </tr>\n",
       "  </tbody>\n",
       "</table>\n",
       "<p>10 rows × 65 columns</p>\n",
       "</div>"
      ],
      "text/plain": [
       "    fyear  dd_naive_0.05_0.25_count  dd_naive_0.05_0.25_mean  \\\n",
       "40   2011                     240.0                 0.113531   \n",
       "41   2012                     337.0                 0.136919   \n",
       "42   2013                     445.0                 0.153109   \n",
       "43   2014                     624.0                 0.173846   \n",
       "44   2015                     709.0                 0.158086   \n",
       "45   2016                     671.0                 0.086423   \n",
       "46   2017                     615.0                 0.115048   \n",
       "47   2018                     574.0                 0.268095   \n",
       "48   2019                     549.0                 0.258673   \n",
       "49   2020                     590.0                 0.193230   \n",
       "\n",
       "    dd_naive_0.05_0.25_std  dd_naive_0.05_0.25_min  dd_naive_0.05_0.25_25%  \\\n",
       "40                0.517695               -0.198325               -0.051425   \n",
       "41                0.809678               -0.242440               -0.070442   \n",
       "42                0.722260               -0.545031               -0.047788   \n",
       "43                0.735511               -0.910587               -0.041789   \n",
       "44                0.788941               -0.765232               -0.052471   \n",
       "45                0.565923               -1.706348               -0.050277   \n",
       "46                0.709227               -0.503426               -0.036448   \n",
       "47                1.064354               -0.411284                0.042693   \n",
       "48                0.611606               -0.847152                0.081032   \n",
       "49                0.622358               -0.682902                0.025411   \n",
       "\n",
       "    dd_naive_0.05_0.25_50%  dd_naive_0.05_0.25_75%  dd_naive_0.05_0.25_max  \\\n",
       "40               -0.013735                0.077012                5.380599   \n",
       "41               -0.044968                0.024391               10.334314   \n",
       "42               -0.019713                0.049154                8.036456   \n",
       "43               -0.009783                0.063505               11.556776   \n",
       "44               -0.025200                0.033050               10.869925   \n",
       "45               -0.019030                0.023084                5.975354   \n",
       "46                0.004964                0.046003                8.291220   \n",
       "47                0.097219                0.159661               15.725713   \n",
       "48                0.159162                0.211225                8.184791   \n",
       "49                0.099142                0.160161                7.803129   \n",
       "\n",
       "    dd_naive_0.05_0.5_count  ...  dd_method_2_75%  dd_method_2_max  \\\n",
       "40                    240.0  ...         2.320974         9.293560   \n",
       "41                    337.0  ...         1.923572        11.769535   \n",
       "42                    445.0  ...         2.457304        27.065443   \n",
       "43                    624.0  ...         2.473544        29.414189   \n",
       "44                    709.0  ...         2.436242        21.351114   \n",
       "45                    671.0  ...         2.317129        18.013288   \n",
       "46                    615.0  ...         2.393362         9.881615   \n",
       "47                    574.0  ...         3.540563        16.417974   \n",
       "48                    549.0  ...         3.655054         9.179056   \n",
       "49                    590.0  ...         3.309975        72.797891   \n",
       "\n",
       "    pd_method_2_count  pd_method_2_mean  pd_method_2_std  pd_method_2_min  \\\n",
       "40              240.0          0.370386         0.400793     7.460591e-21   \n",
       "41              337.0          0.346460         0.346103     2.801614e-32   \n",
       "42              445.0          0.360259         0.394936    1.256765e-161   \n",
       "43              624.0          0.377463         0.401006    1.808233e-190   \n",
       "44              709.0          0.349291         0.382240    1.903777e-101   \n",
       "45              671.0          0.341643         0.355882     7.662445e-73   \n",
       "46              615.0          0.307716         0.351254     2.501004e-23   \n",
       "47              574.0          0.235553         0.344742     7.111842e-61   \n",
       "48              549.0          0.128844         0.243908     2.174427e-20   \n",
       "49              590.0          0.217547         0.321022     0.000000e+00   \n",
       "\n",
       "    pd_method_2_25%  pd_method_2_50%  pd_method_2_75%  pd_method_2_max  \n",
       "40         0.010145         0.178197         0.736055              1.0  \n",
       "41         0.027204         0.266457         0.536130              1.0  \n",
       "42         0.006999         0.192574         0.717812              1.0  \n",
       "43         0.006689         0.217016         0.838110              1.0  \n",
       "44         0.007420         0.168700         0.593069              1.0  \n",
       "45         0.010249         0.240880         0.546293              1.0  \n",
       "46         0.008347         0.165403         0.492694              1.0  \n",
       "47         0.000200         0.029142         0.363326              1.0  \n",
       "48         0.000129         0.007876         0.124713              1.0  \n",
       "49         0.000467         0.033259         0.330682              1.0  \n",
       "\n",
       "[10 rows x 65 columns]"
      ]
     },
     "execution_count": 65,
     "metadata": {},
     "output_type": "execute_result"
    }
   ],
   "source": [
    "descriptive_stats_across_time = final[[\"fyear\"]+all_results].groupby(\"fyear\").describe()\n",
    "descriptive_stats_across_time.columns = descriptive_stats_across_time.columns.map('{0[0]}_{0[1]}'.format)\n",
    "descriptive_stats_across_time = descriptive_stats_across_time.reset_index()\n",
    "descriptive_stats_across_time.tail(10)"
   ]
  },
  {
   "cell_type": "markdown",
   "metadata": {},
   "source": [
    "### Descriptive Stats Each Year (Both PD,DD for 3 methods, 250 firms)"
   ]
  },
  {
   "cell_type": "code",
   "execution_count": 170,
   "metadata": {},
   "outputs": [
    {
     "data": {
      "text/html": [
       "<div>\n",
       "<style scoped>\n",
       "    .dataframe tbody tr th:only-of-type {\n",
       "        vertical-align: middle;\n",
       "    }\n",
       "\n",
       "    .dataframe tbody tr th {\n",
       "        vertical-align: top;\n",
       "    }\n",
       "\n",
       "    .dataframe thead th {\n",
       "        text-align: right;\n",
       "    }\n",
       "</style>\n",
       "<table border=\"1\" class=\"dataframe\">\n",
       "  <thead>\n",
       "    <tr style=\"text-align: right;\">\n",
       "      <th></th>\n",
       "      <th>fyear</th>\n",
       "      <th>dd_naive_0.05_0.25_count</th>\n",
       "      <th>dd_naive_0.05_0.25_mean</th>\n",
       "      <th>dd_naive_0.05_0.25_std</th>\n",
       "      <th>dd_naive_0.05_0.25_min</th>\n",
       "      <th>dd_naive_0.05_0.25_25%</th>\n",
       "      <th>dd_naive_0.05_0.25_50%</th>\n",
       "      <th>dd_naive_0.05_0.25_75%</th>\n",
       "      <th>dd_naive_0.05_0.25_max</th>\n",
       "      <th>dd_naive_0.05_0.5_count</th>\n",
       "      <th>...</th>\n",
       "      <th>dd_method_3_75%</th>\n",
       "      <th>dd_method_3_max</th>\n",
       "      <th>pd_method_3_count</th>\n",
       "      <th>pd_method_3_mean</th>\n",
       "      <th>pd_method_3_std</th>\n",
       "      <th>pd_method_3_min</th>\n",
       "      <th>pd_method_3_25%</th>\n",
       "      <th>pd_method_3_50%</th>\n",
       "      <th>pd_method_3_75%</th>\n",
       "      <th>pd_method_3_max</th>\n",
       "    </tr>\n",
       "  </thead>\n",
       "  <tbody>\n",
       "    <tr>\n",
       "      <th>19</th>\n",
       "      <td>2008.0</td>\n",
       "      <td>1.0</td>\n",
       "      <td>0.234313</td>\n",
       "      <td>NaN</td>\n",
       "      <td>0.234313</td>\n",
       "      <td>0.234313</td>\n",
       "      <td>0.234313</td>\n",
       "      <td>0.234313</td>\n",
       "      <td>0.234313</td>\n",
       "      <td>1.0</td>\n",
       "      <td>...</td>\n",
       "      <td>8.002705</td>\n",
       "      <td>8.002705</td>\n",
       "      <td>1.0</td>\n",
       "      <td>6.085780e-16</td>\n",
       "      <td>NaN</td>\n",
       "      <td>6.085780e-16</td>\n",
       "      <td>6.085780e-16</td>\n",
       "      <td>6.085780e-16</td>\n",
       "      <td>6.085780e-16</td>\n",
       "      <td>6.085780e-16</td>\n",
       "    </tr>\n",
       "    <tr>\n",
       "      <th>20</th>\n",
       "      <td>2009.0</td>\n",
       "      <td>1.0</td>\n",
       "      <td>4.934735</td>\n",
       "      <td>NaN</td>\n",
       "      <td>4.934735</td>\n",
       "      <td>4.934735</td>\n",
       "      <td>4.934735</td>\n",
       "      <td>4.934735</td>\n",
       "      <td>4.934735</td>\n",
       "      <td>1.0</td>\n",
       "      <td>...</td>\n",
       "      <td>21.247345</td>\n",
       "      <td>21.247345</td>\n",
       "      <td>1.0</td>\n",
       "      <td>1.744215e-100</td>\n",
       "      <td>NaN</td>\n",
       "      <td>1.744215e-100</td>\n",
       "      <td>1.744215e-100</td>\n",
       "      <td>1.744215e-100</td>\n",
       "      <td>1.744215e-100</td>\n",
       "      <td>1.744215e-100</td>\n",
       "    </tr>\n",
       "    <tr>\n",
       "      <th>21</th>\n",
       "      <td>2013.0</td>\n",
       "      <td>2.0</td>\n",
       "      <td>0.039255</td>\n",
       "      <td>0.078806</td>\n",
       "      <td>-0.016469</td>\n",
       "      <td>0.011393</td>\n",
       "      <td>0.039255</td>\n",
       "      <td>0.067117</td>\n",
       "      <td>0.094979</td>\n",
       "      <td>2.0</td>\n",
       "      <td>...</td>\n",
       "      <td>8.493288</td>\n",
       "      <td>8.612047</td>\n",
       "      <td>2.0</td>\n",
       "      <td>1.030846e-16</td>\n",
       "      <td>1.407089e-16</td>\n",
       "      <td>3.588363e-18</td>\n",
       "      <td>5.333646e-17</td>\n",
       "      <td>1.030846e-16</td>\n",
       "      <td>1.528327e-16</td>\n",
       "      <td>2.025808e-16</td>\n",
       "    </tr>\n",
       "    <tr>\n",
       "      <th>22</th>\n",
       "      <td>2014.0</td>\n",
       "      <td>1.0</td>\n",
       "      <td>-0.113114</td>\n",
       "      <td>NaN</td>\n",
       "      <td>-0.113114</td>\n",
       "      <td>-0.113114</td>\n",
       "      <td>-0.113114</td>\n",
       "      <td>-0.113114</td>\n",
       "      <td>-0.113114</td>\n",
       "      <td>1.0</td>\n",
       "      <td>...</td>\n",
       "      <td>2.455816</td>\n",
       "      <td>2.455816</td>\n",
       "      <td>1.0</td>\n",
       "      <td>7.028265e-03</td>\n",
       "      <td>NaN</td>\n",
       "      <td>7.028265e-03</td>\n",
       "      <td>7.028265e-03</td>\n",
       "      <td>7.028265e-03</td>\n",
       "      <td>7.028265e-03</td>\n",
       "      <td>7.028265e-03</td>\n",
       "    </tr>\n",
       "    <tr>\n",
       "      <th>23</th>\n",
       "      <td>2015.0</td>\n",
       "      <td>1.0</td>\n",
       "      <td>-0.034277</td>\n",
       "      <td>NaN</td>\n",
       "      <td>-0.034277</td>\n",
       "      <td>-0.034277</td>\n",
       "      <td>-0.034277</td>\n",
       "      <td>-0.034277</td>\n",
       "      <td>-0.034277</td>\n",
       "      <td>1.0</td>\n",
       "      <td>...</td>\n",
       "      <td>12.225126</td>\n",
       "      <td>12.225126</td>\n",
       "      <td>1.0</td>\n",
       "      <td>1.141142e-34</td>\n",
       "      <td>NaN</td>\n",
       "      <td>1.141142e-34</td>\n",
       "      <td>1.141142e-34</td>\n",
       "      <td>1.141142e-34</td>\n",
       "      <td>1.141142e-34</td>\n",
       "      <td>1.141142e-34</td>\n",
       "    </tr>\n",
       "    <tr>\n",
       "      <th>24</th>\n",
       "      <td>2016.0</td>\n",
       "      <td>12.0</td>\n",
       "      <td>-0.010523</td>\n",
       "      <td>0.021029</td>\n",
       "      <td>-0.067198</td>\n",
       "      <td>-0.013286</td>\n",
       "      <td>0.000175</td>\n",
       "      <td>0.000923</td>\n",
       "      <td>0.000923</td>\n",
       "      <td>12.0</td>\n",
       "      <td>...</td>\n",
       "      <td>16.422705</td>\n",
       "      <td>16.422705</td>\n",
       "      <td>12.0</td>\n",
       "      <td>2.988250e-03</td>\n",
       "      <td>8.178583e-03</td>\n",
       "      <td>6.578438e-61</td>\n",
       "      <td>6.578438e-61</td>\n",
       "      <td>3.553076e-58</td>\n",
       "      <td>1.144897e-22</td>\n",
       "      <td>2.792958e-02</td>\n",
       "    </tr>\n",
       "    <tr>\n",
       "      <th>25</th>\n",
       "      <td>2017.0</td>\n",
       "      <td>3.0</td>\n",
       "      <td>0.023644</td>\n",
       "      <td>0.009867</td>\n",
       "      <td>0.013155</td>\n",
       "      <td>0.019095</td>\n",
       "      <td>0.025035</td>\n",
       "      <td>0.028889</td>\n",
       "      <td>0.032742</td>\n",
       "      <td>3.0</td>\n",
       "      <td>...</td>\n",
       "      <td>8.448709</td>\n",
       "      <td>9.192430</td>\n",
       "      <td>3.0</td>\n",
       "      <td>4.298095e-09</td>\n",
       "      <td>7.444512e-09</td>\n",
       "      <td>1.920331e-20</td>\n",
       "      <td>3.271394e-15</td>\n",
       "      <td>6.542770e-15</td>\n",
       "      <td>6.447142e-09</td>\n",
       "      <td>1.289428e-08</td>\n",
       "    </tr>\n",
       "    <tr>\n",
       "      <th>26</th>\n",
       "      <td>2018.0</td>\n",
       "      <td>3.0</td>\n",
       "      <td>0.070796</td>\n",
       "      <td>0.052864</td>\n",
       "      <td>0.032651</td>\n",
       "      <td>0.040623</td>\n",
       "      <td>0.048596</td>\n",
       "      <td>0.089868</td>\n",
       "      <td>0.131140</td>\n",
       "      <td>3.0</td>\n",
       "      <td>...</td>\n",
       "      <td>10.359521</td>\n",
       "      <td>10.888958</td>\n",
       "      <td>3.0</td>\n",
       "      <td>2.370132e-14</td>\n",
       "      <td>4.105188e-14</td>\n",
       "      <td>6.505996e-28</td>\n",
       "      <td>2.088770e-23</td>\n",
       "      <td>4.177475e-23</td>\n",
       "      <td>3.555197e-14</td>\n",
       "      <td>7.110395e-14</td>\n",
       "    </tr>\n",
       "    <tr>\n",
       "      <th>27</th>\n",
       "      <td>2019.0</td>\n",
       "      <td>3.0</td>\n",
       "      <td>0.085137</td>\n",
       "      <td>0.116026</td>\n",
       "      <td>-0.039862</td>\n",
       "      <td>0.033011</td>\n",
       "      <td>0.105883</td>\n",
       "      <td>0.147637</td>\n",
       "      <td>0.189391</td>\n",
       "      <td>3.0</td>\n",
       "      <td>...</td>\n",
       "      <td>6.110137</td>\n",
       "      <td>6.910958</td>\n",
       "      <td>3.0</td>\n",
       "      <td>3.299475e-03</td>\n",
       "      <td>5.714811e-03</td>\n",
       "      <td>2.406955e-12</td>\n",
       "      <td>2.751057e-08</td>\n",
       "      <td>5.501872e-08</td>\n",
       "      <td>4.949213e-03</td>\n",
       "      <td>9.898371e-03</td>\n",
       "    </tr>\n",
       "    <tr>\n",
       "      <th>28</th>\n",
       "      <td>2020.0</td>\n",
       "      <td>21.0</td>\n",
       "      <td>0.111771</td>\n",
       "      <td>0.039127</td>\n",
       "      <td>0.017384</td>\n",
       "      <td>0.086140</td>\n",
       "      <td>0.123615</td>\n",
       "      <td>0.134607</td>\n",
       "      <td>0.209151</td>\n",
       "      <td>21.0</td>\n",
       "      <td>...</td>\n",
       "      <td>10.058350</td>\n",
       "      <td>11.622757</td>\n",
       "      <td>21.0</td>\n",
       "      <td>2.964490e-05</td>\n",
       "      <td>1.296725e-04</td>\n",
       "      <td>1.578884e-31</td>\n",
       "      <td>4.220033e-24</td>\n",
       "      <td>6.787609e-17</td>\n",
       "      <td>4.300581e-09</td>\n",
       "      <td>5.949750e-04</td>\n",
       "    </tr>\n",
       "  </tbody>\n",
       "</table>\n",
       "<p>10 rows × 81 columns</p>\n",
       "</div>"
      ],
      "text/plain": [
       "     fyear  dd_naive_0.05_0.25_count  dd_naive_0.05_0.25_mean  \\\n",
       "19  2008.0                       1.0                 0.234313   \n",
       "20  2009.0                       1.0                 4.934735   \n",
       "21  2013.0                       2.0                 0.039255   \n",
       "22  2014.0                       1.0                -0.113114   \n",
       "23  2015.0                       1.0                -0.034277   \n",
       "24  2016.0                      12.0                -0.010523   \n",
       "25  2017.0                       3.0                 0.023644   \n",
       "26  2018.0                       3.0                 0.070796   \n",
       "27  2019.0                       3.0                 0.085137   \n",
       "28  2020.0                      21.0                 0.111771   \n",
       "\n",
       "    dd_naive_0.05_0.25_std  dd_naive_0.05_0.25_min  dd_naive_0.05_0.25_25%  \\\n",
       "19                     NaN                0.234313                0.234313   \n",
       "20                     NaN                4.934735                4.934735   \n",
       "21                0.078806               -0.016469                0.011393   \n",
       "22                     NaN               -0.113114               -0.113114   \n",
       "23                     NaN               -0.034277               -0.034277   \n",
       "24                0.021029               -0.067198               -0.013286   \n",
       "25                0.009867                0.013155                0.019095   \n",
       "26                0.052864                0.032651                0.040623   \n",
       "27                0.116026               -0.039862                0.033011   \n",
       "28                0.039127                0.017384                0.086140   \n",
       "\n",
       "    dd_naive_0.05_0.25_50%  dd_naive_0.05_0.25_75%  dd_naive_0.05_0.25_max  \\\n",
       "19                0.234313                0.234313                0.234313   \n",
       "20                4.934735                4.934735                4.934735   \n",
       "21                0.039255                0.067117                0.094979   \n",
       "22               -0.113114               -0.113114               -0.113114   \n",
       "23               -0.034277               -0.034277               -0.034277   \n",
       "24                0.000175                0.000923                0.000923   \n",
       "25                0.025035                0.028889                0.032742   \n",
       "26                0.048596                0.089868                0.131140   \n",
       "27                0.105883                0.147637                0.189391   \n",
       "28                0.123615                0.134607                0.209151   \n",
       "\n",
       "    dd_naive_0.05_0.5_count  ...  dd_method_3_75%  dd_method_3_max  \\\n",
       "19                      1.0  ...         8.002705         8.002705   \n",
       "20                      1.0  ...        21.247345        21.247345   \n",
       "21                      2.0  ...         8.493288         8.612047   \n",
       "22                      1.0  ...         2.455816         2.455816   \n",
       "23                      1.0  ...        12.225126        12.225126   \n",
       "24                     12.0  ...        16.422705        16.422705   \n",
       "25                      3.0  ...         8.448709         9.192430   \n",
       "26                      3.0  ...        10.359521        10.888958   \n",
       "27                      3.0  ...         6.110137         6.910958   \n",
       "28                     21.0  ...        10.058350        11.622757   \n",
       "\n",
       "    pd_method_3_count  pd_method_3_mean  pd_method_3_std  pd_method_3_min  \\\n",
       "19                1.0      6.085780e-16              NaN     6.085780e-16   \n",
       "20                1.0     1.744215e-100              NaN    1.744215e-100   \n",
       "21                2.0      1.030846e-16     1.407089e-16     3.588363e-18   \n",
       "22                1.0      7.028265e-03              NaN     7.028265e-03   \n",
       "23                1.0      1.141142e-34              NaN     1.141142e-34   \n",
       "24               12.0      2.988250e-03     8.178583e-03     6.578438e-61   \n",
       "25                3.0      4.298095e-09     7.444512e-09     1.920331e-20   \n",
       "26                3.0      2.370132e-14     4.105188e-14     6.505996e-28   \n",
       "27                3.0      3.299475e-03     5.714811e-03     2.406955e-12   \n",
       "28               21.0      2.964490e-05     1.296725e-04     1.578884e-31   \n",
       "\n",
       "    pd_method_3_25%  pd_method_3_50%  pd_method_3_75%  pd_method_3_max  \n",
       "19     6.085780e-16     6.085780e-16     6.085780e-16     6.085780e-16  \n",
       "20    1.744215e-100    1.744215e-100    1.744215e-100    1.744215e-100  \n",
       "21     5.333646e-17     1.030846e-16     1.528327e-16     2.025808e-16  \n",
       "22     7.028265e-03     7.028265e-03     7.028265e-03     7.028265e-03  \n",
       "23     1.141142e-34     1.141142e-34     1.141142e-34     1.141142e-34  \n",
       "24     6.578438e-61     3.553076e-58     1.144897e-22     2.792958e-02  \n",
       "25     3.271394e-15     6.542770e-15     6.447142e-09     1.289428e-08  \n",
       "26     2.088770e-23     4.177475e-23     3.555197e-14     7.110395e-14  \n",
       "27     2.751057e-08     5.501872e-08     4.949213e-03     9.898371e-03  \n",
       "28     4.220033e-24     6.787609e-17     4.300581e-09     5.949750e-04  \n",
       "\n",
       "[10 rows x 81 columns]"
      ]
     },
     "execution_count": 170,
     "metadata": {},
     "output_type": "execute_result"
    }
   ],
   "source": [
    "descriptive_stats_across_time_250 = all_metrics[[\"fyear\"]+all_results_250].groupby(\"fyear\").describe()\n",
    "descriptive_stats_across_time_250.columns = descriptive_stats_across_time_250.columns.map('{0[0]}_{0[1]}'.format)\n",
    "descriptive_stats_across_time_250 = descriptive_stats_across_time_250.reset_index()\n",
    "descriptive_stats_across_time_250.tail(10)"
   ]
  },
  {
   "cell_type": "markdown",
   "metadata": {},
   "source": [
    "### Correlations PD"
   ]
  },
  {
   "cell_type": "code",
   "execution_count": 46,
   "metadata": {},
   "outputs": [
    {
     "data": {
      "text/html": [
       "<div>\n",
       "<style scoped>\n",
       "    .dataframe tbody tr th:only-of-type {\n",
       "        vertical-align: middle;\n",
       "    }\n",
       "\n",
       "    .dataframe tbody tr th {\n",
       "        vertical-align: top;\n",
       "    }\n",
       "\n",
       "    .dataframe thead th {\n",
       "        text-align: right;\n",
       "    }\n",
       "</style>\n",
       "<table border=\"1\" class=\"dataframe\">\n",
       "  <thead>\n",
       "    <tr style=\"text-align: right;\">\n",
       "      <th></th>\n",
       "      <th>pd_naive_0.05_0.25</th>\n",
       "      <th>pd_naive_0.05_0.5</th>\n",
       "      <th>pd_naive_0_0.25</th>\n",
       "      <th>pd_method_2</th>\n",
       "    </tr>\n",
       "  </thead>\n",
       "  <tbody>\n",
       "    <tr>\n",
       "      <th>pd_naive_0.05_0.25</th>\n",
       "      <td>1.000000</td>\n",
       "      <td>0.969126</td>\n",
       "      <td>0.967208</td>\n",
       "      <td>0.407482</td>\n",
       "    </tr>\n",
       "    <tr>\n",
       "      <th>pd_naive_0.05_0.5</th>\n",
       "      <td>0.969126</td>\n",
       "      <td>1.000000</td>\n",
       "      <td>0.922613</td>\n",
       "      <td>0.400314</td>\n",
       "    </tr>\n",
       "    <tr>\n",
       "      <th>pd_naive_0_0.25</th>\n",
       "      <td>0.967208</td>\n",
       "      <td>0.922613</td>\n",
       "      <td>1.000000</td>\n",
       "      <td>0.418632</td>\n",
       "    </tr>\n",
       "    <tr>\n",
       "      <th>pd_method_2</th>\n",
       "      <td>0.407482</td>\n",
       "      <td>0.400314</td>\n",
       "      <td>0.418632</td>\n",
       "      <td>1.000000</td>\n",
       "    </tr>\n",
       "  </tbody>\n",
       "</table>\n",
       "</div>"
      ],
      "text/plain": [
       "                    pd_naive_0.05_0.25  pd_naive_0.05_0.5  pd_naive_0_0.25  \\\n",
       "pd_naive_0.05_0.25            1.000000           0.969126         0.967208   \n",
       "pd_naive_0.05_0.5             0.969126           1.000000         0.922613   \n",
       "pd_naive_0_0.25               0.967208           0.922613         1.000000   \n",
       "pd_method_2                   0.407482           0.400314         0.418632   \n",
       "\n",
       "                    pd_method_2  \n",
       "pd_naive_0.05_0.25     0.407482  \n",
       "pd_naive_0.05_0.5      0.400314  \n",
       "pd_naive_0_0.25        0.418632  \n",
       "pd_method_2            1.000000  "
      ]
     },
     "execution_count": 46,
     "metadata": {},
     "output_type": "execute_result"
    }
   ],
   "source": [
    "correlation_table_PD = final[all_pd_results].corr()\n",
    "correlation_table_PD"
   ]
  },
  {
   "cell_type": "markdown",
   "metadata": {},
   "source": [
    "### Correlations DD"
   ]
  },
  {
   "cell_type": "code",
   "execution_count": 48,
   "metadata": {},
   "outputs": [
    {
     "data": {
      "text/html": [
       "<div>\n",
       "<style scoped>\n",
       "    .dataframe tbody tr th:only-of-type {\n",
       "        vertical-align: middle;\n",
       "    }\n",
       "\n",
       "    .dataframe tbody tr th {\n",
       "        vertical-align: top;\n",
       "    }\n",
       "\n",
       "    .dataframe thead th {\n",
       "        text-align: right;\n",
       "    }\n",
       "</style>\n",
       "<table border=\"1\" class=\"dataframe\">\n",
       "  <thead>\n",
       "    <tr style=\"text-align: right;\">\n",
       "      <th></th>\n",
       "      <th>dd_naive_0.05_0.25</th>\n",
       "      <th>dd_naive_0.05_0.5</th>\n",
       "      <th>dd_naive_0_0.25</th>\n",
       "      <th>dd_method_2</th>\n",
       "    </tr>\n",
       "  </thead>\n",
       "  <tbody>\n",
       "    <tr>\n",
       "      <th>dd_naive_0.05_0.25</th>\n",
       "      <td>1.000000</td>\n",
       "      <td>0.988821</td>\n",
       "      <td>0.715913</td>\n",
       "      <td>0.090189</td>\n",
       "    </tr>\n",
       "    <tr>\n",
       "      <th>dd_naive_0.05_0.5</th>\n",
       "      <td>0.988821</td>\n",
       "      <td>1.000000</td>\n",
       "      <td>0.698910</td>\n",
       "      <td>0.079310</td>\n",
       "    </tr>\n",
       "    <tr>\n",
       "      <th>dd_naive_0_0.25</th>\n",
       "      <td>0.715913</td>\n",
       "      <td>0.698910</td>\n",
       "      <td>1.000000</td>\n",
       "      <td>0.141255</td>\n",
       "    </tr>\n",
       "    <tr>\n",
       "      <th>dd_method_2</th>\n",
       "      <td>0.090189</td>\n",
       "      <td>0.079310</td>\n",
       "      <td>0.141255</td>\n",
       "      <td>1.000000</td>\n",
       "    </tr>\n",
       "  </tbody>\n",
       "</table>\n",
       "</div>"
      ],
      "text/plain": [
       "                    dd_naive_0.05_0.25  dd_naive_0.05_0.5  dd_naive_0_0.25  \\\n",
       "dd_naive_0.05_0.25            1.000000           0.988821         0.715913   \n",
       "dd_naive_0.05_0.5             0.988821           1.000000         0.698910   \n",
       "dd_naive_0_0.25               0.715913           0.698910         1.000000   \n",
       "dd_method_2                   0.090189           0.079310         0.141255   \n",
       "\n",
       "                    dd_method_2  \n",
       "dd_naive_0.05_0.25     0.090189  \n",
       "dd_naive_0.05_0.5      0.079310  \n",
       "dd_naive_0_0.25        0.141255  \n",
       "dd_method_2            1.000000  "
      ]
     },
     "execution_count": 48,
     "metadata": {},
     "output_type": "execute_result"
    }
   ],
   "source": [
    "correlation_table_DD = final[all_dd_results].corr()\n",
    "correlation_table_DD"
   ]
  },
  {
   "cell_type": "markdown",
   "metadata": {},
   "source": [
    "### Correlations DD All 3"
   ]
  },
  {
   "cell_type": "code",
   "execution_count": 211,
   "metadata": {},
   "outputs": [
    {
     "data": {
      "text/html": [
       "<div>\n",
       "<style scoped>\n",
       "    .dataframe tbody tr th:only-of-type {\n",
       "        vertical-align: middle;\n",
       "    }\n",
       "\n",
       "    .dataframe tbody tr th {\n",
       "        vertical-align: top;\n",
       "    }\n",
       "\n",
       "    .dataframe thead th {\n",
       "        text-align: right;\n",
       "    }\n",
       "</style>\n",
       "<table border=\"1\" class=\"dataframe\">\n",
       "  <thead>\n",
       "    <tr style=\"text-align: right;\">\n",
       "      <th></th>\n",
       "      <th>dd_naive_0.05_0.25</th>\n",
       "      <th>dd_naive_0.05_0.5</th>\n",
       "      <th>dd_naive_0_0.25</th>\n",
       "      <th>dd_method_2</th>\n",
       "      <th>dd_method_3</th>\n",
       "    </tr>\n",
       "  </thead>\n",
       "  <tbody>\n",
       "    <tr>\n",
       "      <th>dd_naive_0.05_0.25</th>\n",
       "      <td>1.000000</td>\n",
       "      <td>0.986234</td>\n",
       "      <td>0.977140</td>\n",
       "      <td>0.104263</td>\n",
       "      <td>0.348398</td>\n",
       "    </tr>\n",
       "    <tr>\n",
       "      <th>dd_naive_0.05_0.5</th>\n",
       "      <td>0.986234</td>\n",
       "      <td>1.000000</td>\n",
       "      <td>0.946201</td>\n",
       "      <td>0.145331</td>\n",
       "      <td>0.415777</td>\n",
       "    </tr>\n",
       "    <tr>\n",
       "      <th>dd_naive_0_0.25</th>\n",
       "      <td>0.977140</td>\n",
       "      <td>0.946201</td>\n",
       "      <td>1.000000</td>\n",
       "      <td>0.139482</td>\n",
       "      <td>0.350939</td>\n",
       "    </tr>\n",
       "    <tr>\n",
       "      <th>dd_method_2</th>\n",
       "      <td>0.104263</td>\n",
       "      <td>0.145331</td>\n",
       "      <td>0.139482</td>\n",
       "      <td>1.000000</td>\n",
       "      <td>0.406475</td>\n",
       "    </tr>\n",
       "    <tr>\n",
       "      <th>dd_method_3</th>\n",
       "      <td>0.348398</td>\n",
       "      <td>0.415777</td>\n",
       "      <td>0.350939</td>\n",
       "      <td>0.406475</td>\n",
       "      <td>1.000000</td>\n",
       "    </tr>\n",
       "  </tbody>\n",
       "</table>\n",
       "</div>"
      ],
      "text/plain": [
       "                    dd_naive_0.05_0.25  dd_naive_0.05_0.5  dd_naive_0_0.25  \\\n",
       "dd_naive_0.05_0.25            1.000000           0.986234         0.977140   \n",
       "dd_naive_0.05_0.5             0.986234           1.000000         0.946201   \n",
       "dd_naive_0_0.25               0.977140           0.946201         1.000000   \n",
       "dd_method_2                   0.104263           0.145331         0.139482   \n",
       "dd_method_3                   0.348398           0.415777         0.350939   \n",
       "\n",
       "                    dd_method_2  dd_method_3  \n",
       "dd_naive_0.05_0.25     0.104263     0.348398  \n",
       "dd_naive_0.05_0.5      0.145331     0.415777  \n",
       "dd_naive_0_0.25        0.139482     0.350939  \n",
       "dd_method_2            1.000000     0.406475  \n",
       "dd_method_3            0.406475     1.000000  "
      ]
     },
     "execution_count": 211,
     "metadata": {},
     "output_type": "execute_result"
    }
   ],
   "source": [
    "correlation_table_DD_250 = all_metrics[all_dd_results+[\"dd_method_3\"]].corr()\n",
    "correlation_table_DD_250"
   ]
  },
  {
   "cell_type": "markdown",
   "metadata": {},
   "source": [
    "### Mean DD First 2 Methods vs BAAFM"
   ]
  },
  {
   "cell_type": "code",
   "execution_count": 218,
   "metadata": {},
   "outputs": [
    {
     "data": {
      "application/vnd.plotly.v1+json": {
       "config": {
        "plotlyServerURL": "https://plot.ly"
       },
       "data": [
        {
         "name": "dd_naive_0.05_0.25_mean",
         "type": "scatter",
         "x": [
          1971,
          1972,
          1973,
          1974,
          1975,
          1976,
          1977,
          1978,
          1979,
          1980,
          1981,
          1982,
          1983,
          1984,
          1985,
          1986,
          1987,
          1988,
          1989,
          1990,
          1991,
          1992,
          1993,
          1994,
          1995,
          1996,
          1997,
          1998,
          1999,
          2000,
          2001,
          2002,
          2003,
          2004,
          2005,
          2006,
          2007,
          2008,
          2009,
          2010,
          2011,
          2012,
          2013,
          2014,
          2015,
          2016,
          2017,
          2018,
          2019,
          2020
         ],
         "xaxis": "x",
         "y": [
          0.3903777702790568,
          0.3564357008983727,
          0.5649614422571451,
          0.5466558013895363,
          0.39223013054680966,
          0.30047722946122324,
          0.323621752094402,
          0.5154663148494029,
          0.6701293920925965,
          0.8819497663952902,
          0.962278649928678,
          0.8718235686933784,
          0.6182635265823405,
          0.7652102429775739,
          0.6813486425044014,
          0.5723379224900095,
          0.4741116000247794,
          0.2591465249218219,
          0.457366379358127,
          0.4472585077853093,
          0.29778342903357236,
          0.19843360933430654,
          0.13729194359555988,
          0.17968783913015018,
          0.30669551044360377,
          0.32023125509664274,
          0.3075015604641068,
          0.2938553408659994,
          0.21421462949723805,
          0.31924796992359195,
          0.23521859267277154,
          0.09803735139664121,
          0.09097891237953723,
          0.21413341116227969,
          0.29097930447473824,
          0.4223409684046818,
          0.5697761878136159,
          0.38919784195974794,
          0.0747556082463933,
          0.05484278484584397,
          0.11353056445210138,
          0.13691914645100164,
          0.15310888592026453,
          0.17384627844750872,
          0.15808550868916796,
          0.08642277467874593,
          0.115047942389824,
          0.2680946096200687,
          0.2586733971560779,
          0.19323019429921784
         ],
         "yaxis": "y"
        },
        {
         "name": "dd_naive_0.05_0.5_mean",
         "type": "scatter",
         "x": [
          1971,
          1972,
          1973,
          1974,
          1975,
          1976,
          1977,
          1978,
          1979,
          1980,
          1981,
          1982,
          1983,
          1984,
          1985,
          1986,
          1987,
          1988,
          1989,
          1990,
          1991,
          1992,
          1993,
          1994,
          1995,
          1996,
          1997,
          1998,
          1999,
          2000,
          2001,
          2002,
          2003,
          2004,
          2005,
          2006,
          2007,
          2008,
          2009,
          2010,
          2011,
          2012,
          2013,
          2014,
          2015,
          2016,
          2017,
          2018,
          2019,
          2020
         ],
         "xaxis": "x",
         "y": [
          0.18443589458661472,
          0.18030966854929179,
          0.3384587081295218,
          0.2834025052452292,
          0.15154377813817532,
          0.09661612762948969,
          0.13509430423368574,
          0.27774921952917603,
          0.354815194288695,
          0.4975860303425324,
          0.5362202788839058,
          0.5028476277984182,
          0.3357471226420297,
          0.4432402317260038,
          0.3875052293196467,
          0.307240545767426,
          0.234480734399197,
          0.02699868390814494,
          0.18041604964810984,
          0.17970149978661498,
          0.05694097973790775,
          -0.0017258041109423962,
          -0.05514143341231225,
          -0.006023482168420886,
          0.0781075220002168,
          0.10145563009622167,
          0.08871054474034931,
          0.07696856801201918,
          0.012277563296665255,
          0.10358669417944757,
          0.012652400447376443,
          -0.04820693833498381,
          -0.03615483582059866,
          0.09613026694164829,
          0.13858565995612326,
          0.22439666778224845,
          0.34857586420756026,
          0.21624128112065524,
          -0.04638858858404154,
          -0.0656633541546798,
          0.011198380639423631,
          0.03464054275788171,
          0.052287565757626414,
          0.0695945929227273,
          0.06408619663850552,
          -0.008664245910527939,
          0.009956782508622055,
          0.1428871852489285,
          0.10890873233960595,
          0.055802496875454535
         ],
         "yaxis": "y"
        },
        {
         "name": "dd_naive_0_0.25_mean",
         "type": "scatter",
         "x": [
          1971,
          1972,
          1973,
          1974,
          1975,
          1976,
          1977,
          1978,
          1979,
          1980,
          1981,
          1982,
          1983,
          1984,
          1985,
          1986,
          1987,
          1988,
          1989,
          1990,
          1991,
          1992,
          1993,
          1994,
          1995,
          1996,
          1997,
          1998,
          1999,
          2000,
          2001,
          2002,
          2003,
          2004,
          2005,
          2006,
          2007,
          2008,
          2009,
          2010,
          2011,
          2012,
          2013,
          2014,
          2015,
          2016,
          2017,
          2018,
          2019,
          2020
         ],
         "xaxis": "x",
         "y": [
          0.6950829844745622,
          0.6820337893946206,
          1.2573725042860864,
          1.5760404885528445,
          0.6942055073968452,
          0.5489432396360283,
          0.6422164278445678,
          1.0386607709239077,
          1.2553838085203821,
          1.6467051868310276,
          1.6565547998646892,
          1.5059920965572122,
          1.1118250481021614,
          1.2645356613052707,
          1.2339490552568366,
          0.9906300474789764,
          0.7464349656388971,
          0.3970921765970015,
          0.7047417169066078,
          0.697662086697892,
          0.4694477313113842,
          0.31699092134113677,
          0.24402929942402984,
          0.29448583058831423,
          0.48872375970164145,
          0.5134995869294694,
          0.5104491883336003,
          0.4852888208348446,
          0.3514609943815275,
          0.48539754495534376,
          0.38022387775038086,
          0.18458927957298674,
          0.17038476247931955,
          0.3162069706617342,
          0.47731335382085377,
          0.7124093681224432,
          0.9479844196864735,
          0.5997141980852179,
          0.1164409436505246,
          0.10934528576553364,
          0.2035223054872974,
          0.20392139457563463,
          0.2471053168495513,
          0.26849597454828117,
          0.23663960734098924,
          0.1587556103984201,
          0.20008456602611138,
          0.4344002477403712,
          0.4286526869024037,
          0.33972993844126276
         ],
         "yaxis": "y"
        },
        {
         "name": "dd_method_2_mean",
         "type": "scatter",
         "x": [
          1971,
          1972,
          1973,
          1974,
          1975,
          1976,
          1977,
          1978,
          1979,
          1980,
          1981,
          1982,
          1983,
          1984,
          1985,
          1986,
          1987,
          1988,
          1989,
          1990,
          1991,
          1992,
          1993,
          1994,
          1995,
          1996,
          1997,
          1998,
          1999,
          2000,
          2001,
          2002,
          2003,
          2004,
          2005,
          2006,
          2007,
          2008,
          2009,
          2010,
          2011,
          2012,
          2013,
          2014,
          2015,
          2016,
          2017,
          2018,
          2019,
          2020
         ],
         "xaxis": "x",
         "y": [
          2.919804448100851,
          3.67469032563487,
          4.371909490419414,
          3.46207323777451,
          1.7748112056081715,
          2.2377759395463537,
          3.034414533650131,
          3.4932222253231666,
          2.370401712986859,
          2.128228808853177,
          1.4244559970341253,
          2.118903359881823,
          2.6769545720804646,
          2.5926994446972205,
          2.982635864957352,
          2.607965960128886,
          2.318917439369532,
          1.275780461233537,
          1.5514094829246994,
          1.615661935003056,
          1.1739560726286944,
          1.2725343867252685,
          1.2489175375479835,
          1.9632340773563681,
          1.4726954896276434,
          1.6713127176293334,
          1.7448399026599601,
          1.7890157515700305,
          1.3872366268611243,
          1.3680972269222733,
          0.9602629442979727,
          1.0204986867056542,
          0.8229377293610436,
          -0.7892825522044531,
          2.1683966764793494,
          2.895533845028754,
          3.2879603561510433,
          2.2898868231965452,
          -0.12223203505985936,
          -1.1315299964451069,
          -5.083596854983976,
          -3.345065072779006,
          -5.137017978140914,
          -4.0059932856560545,
          -2.3675008424615323,
          -0.7524594707103968,
          -1.1448065003065628,
          0.7910869582577802,
          2.2172534419237366,
          0.9510985698526081
         ],
         "yaxis": "y"
        }
       ],
       "layout": {
        "barmode": "relative",
        "showlegend": true,
        "template": {
         "data": {
          "bar": [
           {
            "error_x": {
             "color": "#2a3f5f"
            },
            "error_y": {
             "color": "#2a3f5f"
            },
            "marker": {
             "line": {
              "color": "#E5ECF6",
              "width": 0.5
             },
             "pattern": {
              "fillmode": "overlay",
              "size": 10,
              "solidity": 0.2
             }
            },
            "type": "bar"
           }
          ],
          "barpolar": [
           {
            "marker": {
             "line": {
              "color": "#E5ECF6",
              "width": 0.5
             },
             "pattern": {
              "fillmode": "overlay",
              "size": 10,
              "solidity": 0.2
             }
            },
            "type": "barpolar"
           }
          ],
          "carpet": [
           {
            "aaxis": {
             "endlinecolor": "#2a3f5f",
             "gridcolor": "white",
             "linecolor": "white",
             "minorgridcolor": "white",
             "startlinecolor": "#2a3f5f"
            },
            "baxis": {
             "endlinecolor": "#2a3f5f",
             "gridcolor": "white",
             "linecolor": "white",
             "minorgridcolor": "white",
             "startlinecolor": "#2a3f5f"
            },
            "type": "carpet"
           }
          ],
          "choropleth": [
           {
            "colorbar": {
             "outlinewidth": 0,
             "ticks": ""
            },
            "type": "choropleth"
           }
          ],
          "contour": [
           {
            "colorbar": {
             "outlinewidth": 0,
             "ticks": ""
            },
            "colorscale": [
             [
              0,
              "#0d0887"
             ],
             [
              0.1111111111111111,
              "#46039f"
             ],
             [
              0.2222222222222222,
              "#7201a8"
             ],
             [
              0.3333333333333333,
              "#9c179e"
             ],
             [
              0.4444444444444444,
              "#bd3786"
             ],
             [
              0.5555555555555556,
              "#d8576b"
             ],
             [
              0.6666666666666666,
              "#ed7953"
             ],
             [
              0.7777777777777778,
              "#fb9f3a"
             ],
             [
              0.8888888888888888,
              "#fdca26"
             ],
             [
              1,
              "#f0f921"
             ]
            ],
            "type": "contour"
           }
          ],
          "contourcarpet": [
           {
            "colorbar": {
             "outlinewidth": 0,
             "ticks": ""
            },
            "type": "contourcarpet"
           }
          ],
          "heatmap": [
           {
            "colorbar": {
             "outlinewidth": 0,
             "ticks": ""
            },
            "colorscale": [
             [
              0,
              "#0d0887"
             ],
             [
              0.1111111111111111,
              "#46039f"
             ],
             [
              0.2222222222222222,
              "#7201a8"
             ],
             [
              0.3333333333333333,
              "#9c179e"
             ],
             [
              0.4444444444444444,
              "#bd3786"
             ],
             [
              0.5555555555555556,
              "#d8576b"
             ],
             [
              0.6666666666666666,
              "#ed7953"
             ],
             [
              0.7777777777777778,
              "#fb9f3a"
             ],
             [
              0.8888888888888888,
              "#fdca26"
             ],
             [
              1,
              "#f0f921"
             ]
            ],
            "type": "heatmap"
           }
          ],
          "heatmapgl": [
           {
            "colorbar": {
             "outlinewidth": 0,
             "ticks": ""
            },
            "colorscale": [
             [
              0,
              "#0d0887"
             ],
             [
              0.1111111111111111,
              "#46039f"
             ],
             [
              0.2222222222222222,
              "#7201a8"
             ],
             [
              0.3333333333333333,
              "#9c179e"
             ],
             [
              0.4444444444444444,
              "#bd3786"
             ],
             [
              0.5555555555555556,
              "#d8576b"
             ],
             [
              0.6666666666666666,
              "#ed7953"
             ],
             [
              0.7777777777777778,
              "#fb9f3a"
             ],
             [
              0.8888888888888888,
              "#fdca26"
             ],
             [
              1,
              "#f0f921"
             ]
            ],
            "type": "heatmapgl"
           }
          ],
          "histogram": [
           {
            "marker": {
             "pattern": {
              "fillmode": "overlay",
              "size": 10,
              "solidity": 0.2
             }
            },
            "type": "histogram"
           }
          ],
          "histogram2d": [
           {
            "colorbar": {
             "outlinewidth": 0,
             "ticks": ""
            },
            "colorscale": [
             [
              0,
              "#0d0887"
             ],
             [
              0.1111111111111111,
              "#46039f"
             ],
             [
              0.2222222222222222,
              "#7201a8"
             ],
             [
              0.3333333333333333,
              "#9c179e"
             ],
             [
              0.4444444444444444,
              "#bd3786"
             ],
             [
              0.5555555555555556,
              "#d8576b"
             ],
             [
              0.6666666666666666,
              "#ed7953"
             ],
             [
              0.7777777777777778,
              "#fb9f3a"
             ],
             [
              0.8888888888888888,
              "#fdca26"
             ],
             [
              1,
              "#f0f921"
             ]
            ],
            "type": "histogram2d"
           }
          ],
          "histogram2dcontour": [
           {
            "colorbar": {
             "outlinewidth": 0,
             "ticks": ""
            },
            "colorscale": [
             [
              0,
              "#0d0887"
             ],
             [
              0.1111111111111111,
              "#46039f"
             ],
             [
              0.2222222222222222,
              "#7201a8"
             ],
             [
              0.3333333333333333,
              "#9c179e"
             ],
             [
              0.4444444444444444,
              "#bd3786"
             ],
             [
              0.5555555555555556,
              "#d8576b"
             ],
             [
              0.6666666666666666,
              "#ed7953"
             ],
             [
              0.7777777777777778,
              "#fb9f3a"
             ],
             [
              0.8888888888888888,
              "#fdca26"
             ],
             [
              1,
              "#f0f921"
             ]
            ],
            "type": "histogram2dcontour"
           }
          ],
          "mesh3d": [
           {
            "colorbar": {
             "outlinewidth": 0,
             "ticks": ""
            },
            "type": "mesh3d"
           }
          ],
          "parcoords": [
           {
            "line": {
             "colorbar": {
              "outlinewidth": 0,
              "ticks": ""
             }
            },
            "type": "parcoords"
           }
          ],
          "pie": [
           {
            "automargin": true,
            "type": "pie"
           }
          ],
          "scatter": [
           {
            "marker": {
             "colorbar": {
              "outlinewidth": 0,
              "ticks": ""
             }
            },
            "type": "scatter"
           }
          ],
          "scatter3d": [
           {
            "line": {
             "colorbar": {
              "outlinewidth": 0,
              "ticks": ""
             }
            },
            "marker": {
             "colorbar": {
              "outlinewidth": 0,
              "ticks": ""
             }
            },
            "type": "scatter3d"
           }
          ],
          "scattercarpet": [
           {
            "marker": {
             "colorbar": {
              "outlinewidth": 0,
              "ticks": ""
             }
            },
            "type": "scattercarpet"
           }
          ],
          "scattergeo": [
           {
            "marker": {
             "colorbar": {
              "outlinewidth": 0,
              "ticks": ""
             }
            },
            "type": "scattergeo"
           }
          ],
          "scattergl": [
           {
            "marker": {
             "colorbar": {
              "outlinewidth": 0,
              "ticks": ""
             }
            },
            "type": "scattergl"
           }
          ],
          "scattermapbox": [
           {
            "marker": {
             "colorbar": {
              "outlinewidth": 0,
              "ticks": ""
             }
            },
            "type": "scattermapbox"
           }
          ],
          "scatterpolar": [
           {
            "marker": {
             "colorbar": {
              "outlinewidth": 0,
              "ticks": ""
             }
            },
            "type": "scatterpolar"
           }
          ],
          "scatterpolargl": [
           {
            "marker": {
             "colorbar": {
              "outlinewidth": 0,
              "ticks": ""
             }
            },
            "type": "scatterpolargl"
           }
          ],
          "scatterternary": [
           {
            "marker": {
             "colorbar": {
              "outlinewidth": 0,
              "ticks": ""
             }
            },
            "type": "scatterternary"
           }
          ],
          "surface": [
           {
            "colorbar": {
             "outlinewidth": 0,
             "ticks": ""
            },
            "colorscale": [
             [
              0,
              "#0d0887"
             ],
             [
              0.1111111111111111,
              "#46039f"
             ],
             [
              0.2222222222222222,
              "#7201a8"
             ],
             [
              0.3333333333333333,
              "#9c179e"
             ],
             [
              0.4444444444444444,
              "#bd3786"
             ],
             [
              0.5555555555555556,
              "#d8576b"
             ],
             [
              0.6666666666666666,
              "#ed7953"
             ],
             [
              0.7777777777777778,
              "#fb9f3a"
             ],
             [
              0.8888888888888888,
              "#fdca26"
             ],
             [
              1,
              "#f0f921"
             ]
            ],
            "type": "surface"
           }
          ],
          "table": [
           {
            "cells": {
             "fill": {
              "color": "#EBF0F8"
             },
             "line": {
              "color": "white"
             }
            },
            "header": {
             "fill": {
              "color": "#C8D4E3"
             },
             "line": {
              "color": "white"
             }
            },
            "type": "table"
           }
          ]
         },
         "layout": {
          "annotationdefaults": {
           "arrowcolor": "#2a3f5f",
           "arrowhead": 0,
           "arrowwidth": 1
          },
          "autotypenumbers": "strict",
          "coloraxis": {
           "colorbar": {
            "outlinewidth": 0,
            "ticks": ""
           }
          },
          "colorscale": {
           "diverging": [
            [
             0,
             "#8e0152"
            ],
            [
             0.1,
             "#c51b7d"
            ],
            [
             0.2,
             "#de77ae"
            ],
            [
             0.3,
             "#f1b6da"
            ],
            [
             0.4,
             "#fde0ef"
            ],
            [
             0.5,
             "#f7f7f7"
            ],
            [
             0.6,
             "#e6f5d0"
            ],
            [
             0.7,
             "#b8e186"
            ],
            [
             0.8,
             "#7fbc41"
            ],
            [
             0.9,
             "#4d9221"
            ],
            [
             1,
             "#276419"
            ]
           ],
           "sequential": [
            [
             0,
             "#0d0887"
            ],
            [
             0.1111111111111111,
             "#46039f"
            ],
            [
             0.2222222222222222,
             "#7201a8"
            ],
            [
             0.3333333333333333,
             "#9c179e"
            ],
            [
             0.4444444444444444,
             "#bd3786"
            ],
            [
             0.5555555555555556,
             "#d8576b"
            ],
            [
             0.6666666666666666,
             "#ed7953"
            ],
            [
             0.7777777777777778,
             "#fb9f3a"
            ],
            [
             0.8888888888888888,
             "#fdca26"
            ],
            [
             1,
             "#f0f921"
            ]
           ],
           "sequentialminus": [
            [
             0,
             "#0d0887"
            ],
            [
             0.1111111111111111,
             "#46039f"
            ],
            [
             0.2222222222222222,
             "#7201a8"
            ],
            [
             0.3333333333333333,
             "#9c179e"
            ],
            [
             0.4444444444444444,
             "#bd3786"
            ],
            [
             0.5555555555555556,
             "#d8576b"
            ],
            [
             0.6666666666666666,
             "#ed7953"
            ],
            [
             0.7777777777777778,
             "#fb9f3a"
            ],
            [
             0.8888888888888888,
             "#fdca26"
            ],
            [
             1,
             "#f0f921"
            ]
           ]
          },
          "colorway": [
           "#636efa",
           "#EF553B",
           "#00cc96",
           "#ab63fa",
           "#FFA15A",
           "#19d3f3",
           "#FF6692",
           "#B6E880",
           "#FF97FF",
           "#FECB52"
          ],
          "font": {
           "color": "#2a3f5f"
          },
          "geo": {
           "bgcolor": "white",
           "lakecolor": "white",
           "landcolor": "#E5ECF6",
           "showlakes": true,
           "showland": true,
           "subunitcolor": "white"
          },
          "hoverlabel": {
           "align": "left"
          },
          "hovermode": "closest",
          "mapbox": {
           "style": "light"
          },
          "paper_bgcolor": "white",
          "plot_bgcolor": "#E5ECF6",
          "polar": {
           "angularaxis": {
            "gridcolor": "white",
            "linecolor": "white",
            "ticks": ""
           },
           "bgcolor": "#E5ECF6",
           "radialaxis": {
            "gridcolor": "white",
            "linecolor": "white",
            "ticks": ""
           }
          },
          "scene": {
           "xaxis": {
            "backgroundcolor": "#E5ECF6",
            "gridcolor": "white",
            "gridwidth": 2,
            "linecolor": "white",
            "showbackground": true,
            "ticks": "",
            "zerolinecolor": "white"
           },
           "yaxis": {
            "backgroundcolor": "#E5ECF6",
            "gridcolor": "white",
            "gridwidth": 2,
            "linecolor": "white",
            "showbackground": true,
            "ticks": "",
            "zerolinecolor": "white"
           },
           "zaxis": {
            "backgroundcolor": "#E5ECF6",
            "gridcolor": "white",
            "gridwidth": 2,
            "linecolor": "white",
            "showbackground": true,
            "ticks": "",
            "zerolinecolor": "white"
           }
          },
          "shapedefaults": {
           "line": {
            "color": "#2a3f5f"
           }
          },
          "ternary": {
           "aaxis": {
            "gridcolor": "white",
            "linecolor": "white",
            "ticks": ""
           },
           "baxis": {
            "gridcolor": "white",
            "linecolor": "white",
            "ticks": ""
           },
           "bgcolor": "#E5ECF6",
           "caxis": {
            "gridcolor": "white",
            "linecolor": "white",
            "ticks": ""
           }
          },
          "title": {
           "x": 0.05
          },
          "xaxis": {
           "automargin": true,
           "gridcolor": "white",
           "linecolor": "white",
           "ticks": "",
           "title": {
            "standoff": 15
           },
           "zerolinecolor": "white",
           "zerolinewidth": 2
          },
          "yaxis": {
           "automargin": true,
           "gridcolor": "white",
           "linecolor": "white",
           "ticks": "",
           "title": {
            "standoff": 15
           },
           "zerolinecolor": "white",
           "zerolinewidth": 2
          }
         }
        },
        "title": {
         "text": "Title:Distance to default 2 methods"
        },
        "xaxis": {
         "anchor": "y",
         "domain": [
          0,
          0.94
         ]
        },
        "yaxis": {
         "anchor": "x",
         "domain": [
          0,
          1
         ],
         "title": {
          "text": "DD in Years"
         }
        },
        "yaxis2": {
         "anchor": "x",
         "overlaying": "y",
         "side": "right"
        }
       }
      },
      "text/html": [
       "<div>                            <div id=\"ed90320f-d567-4fc2-a289-996a1a1506e1\" class=\"plotly-graph-div\" style=\"height:525px; width:100%;\"></div>            <script type=\"text/javascript\">                require([\"plotly\"], function(Plotly) {                    window.PLOTLYENV=window.PLOTLYENV || {};                                    if (document.getElementById(\"ed90320f-d567-4fc2-a289-996a1a1506e1\")) {                    Plotly.newPlot(                        \"ed90320f-d567-4fc2-a289-996a1a1506e1\",                        [{\"name\":\"dd_naive_0.05_0.25_mean\",\"x\":[1971,1972,1973,1974,1975,1976,1977,1978,1979,1980,1981,1982,1983,1984,1985,1986,1987,1988,1989,1990,1991,1992,1993,1994,1995,1996,1997,1998,1999,2000,2001,2002,2003,2004,2005,2006,2007,2008,2009,2010,2011,2012,2013,2014,2015,2016,2017,2018,2019,2020],\"y\":[0.3903777702790568,0.3564357008983727,0.5649614422571451,0.5466558013895363,0.39223013054680966,0.30047722946122324,0.323621752094402,0.5154663148494029,0.6701293920925965,0.8819497663952902,0.962278649928678,0.8718235686933784,0.6182635265823405,0.7652102429775739,0.6813486425044014,0.5723379224900095,0.4741116000247794,0.2591465249218219,0.457366379358127,0.4472585077853093,0.29778342903357236,0.19843360933430654,0.13729194359555988,0.17968783913015018,0.30669551044360377,0.32023125509664274,0.3075015604641068,0.2938553408659994,0.21421462949723805,0.31924796992359195,0.23521859267277154,0.09803735139664121,0.09097891237953723,0.21413341116227969,0.29097930447473824,0.4223409684046818,0.5697761878136159,0.38919784195974794,0.0747556082463933,0.05484278484584397,0.11353056445210138,0.13691914645100164,0.15310888592026453,0.17384627844750872,0.15808550868916796,0.08642277467874593,0.115047942389824,0.2680946096200687,0.2586733971560779,0.19323019429921784],\"type\":\"scatter\",\"xaxis\":\"x\",\"yaxis\":\"y\"},{\"name\":\"dd_naive_0.05_0.5_mean\",\"x\":[1971,1972,1973,1974,1975,1976,1977,1978,1979,1980,1981,1982,1983,1984,1985,1986,1987,1988,1989,1990,1991,1992,1993,1994,1995,1996,1997,1998,1999,2000,2001,2002,2003,2004,2005,2006,2007,2008,2009,2010,2011,2012,2013,2014,2015,2016,2017,2018,2019,2020],\"y\":[0.18443589458661472,0.18030966854929179,0.3384587081295218,0.2834025052452292,0.15154377813817532,0.09661612762948969,0.13509430423368574,0.27774921952917603,0.354815194288695,0.4975860303425324,0.5362202788839058,0.5028476277984182,0.3357471226420297,0.4432402317260038,0.3875052293196467,0.307240545767426,0.234480734399197,0.02699868390814494,0.18041604964810984,0.17970149978661498,0.05694097973790775,-0.0017258041109423962,-0.05514143341231225,-0.006023482168420886,0.0781075220002168,0.10145563009622167,0.08871054474034931,0.07696856801201918,0.012277563296665255,0.10358669417944757,0.012652400447376443,-0.04820693833498381,-0.03615483582059866,0.09613026694164829,0.13858565995612326,0.22439666778224845,0.34857586420756026,0.21624128112065524,-0.04638858858404154,-0.0656633541546798,0.011198380639423631,0.03464054275788171,0.052287565757626414,0.0695945929227273,0.06408619663850552,-0.008664245910527939,0.009956782508622055,0.1428871852489285,0.10890873233960595,0.055802496875454535],\"type\":\"scatter\",\"xaxis\":\"x\",\"yaxis\":\"y\"},{\"name\":\"dd_naive_0_0.25_mean\",\"x\":[1971,1972,1973,1974,1975,1976,1977,1978,1979,1980,1981,1982,1983,1984,1985,1986,1987,1988,1989,1990,1991,1992,1993,1994,1995,1996,1997,1998,1999,2000,2001,2002,2003,2004,2005,2006,2007,2008,2009,2010,2011,2012,2013,2014,2015,2016,2017,2018,2019,2020],\"y\":[0.6950829844745622,0.6820337893946206,1.2573725042860864,1.5760404885528445,0.6942055073968452,0.5489432396360283,0.6422164278445678,1.0386607709239077,1.2553838085203821,1.6467051868310276,1.6565547998646892,1.5059920965572122,1.1118250481021614,1.2645356613052707,1.2339490552568366,0.9906300474789764,0.7464349656388971,0.3970921765970015,0.7047417169066078,0.697662086697892,0.4694477313113842,0.31699092134113677,0.24402929942402984,0.29448583058831423,0.48872375970164145,0.5134995869294694,0.5104491883336003,0.4852888208348446,0.3514609943815275,0.48539754495534376,0.38022387775038086,0.18458927957298674,0.17038476247931955,0.3162069706617342,0.47731335382085377,0.7124093681224432,0.9479844196864735,0.5997141980852179,0.1164409436505246,0.10934528576553364,0.2035223054872974,0.20392139457563463,0.2471053168495513,0.26849597454828117,0.23663960734098924,0.1587556103984201,0.20008456602611138,0.4344002477403712,0.4286526869024037,0.33972993844126276],\"type\":\"scatter\",\"xaxis\":\"x\",\"yaxis\":\"y\"},{\"name\":\"dd_method_2_mean\",\"x\":[1971,1972,1973,1974,1975,1976,1977,1978,1979,1980,1981,1982,1983,1984,1985,1986,1987,1988,1989,1990,1991,1992,1993,1994,1995,1996,1997,1998,1999,2000,2001,2002,2003,2004,2005,2006,2007,2008,2009,2010,2011,2012,2013,2014,2015,2016,2017,2018,2019,2020],\"y\":[2.919804448100851,3.67469032563487,4.371909490419414,3.46207323777451,1.7748112056081715,2.2377759395463537,3.034414533650131,3.4932222253231666,2.370401712986859,2.128228808853177,1.4244559970341253,2.118903359881823,2.6769545720804646,2.5926994446972205,2.982635864957352,2.607965960128886,2.318917439369532,1.275780461233537,1.5514094829246994,1.615661935003056,1.1739560726286944,1.2725343867252685,1.2489175375479835,1.9632340773563681,1.4726954896276434,1.6713127176293334,1.7448399026599601,1.7890157515700305,1.3872366268611243,1.3680972269222733,0.9602629442979727,1.0204986867056542,0.8229377293610436,-0.7892825522044531,2.1683966764793494,2.895533845028754,3.2879603561510433,2.2898868231965452,-0.12223203505985936,-1.1315299964451069,-5.083596854983976,-3.345065072779006,-5.137017978140914,-4.0059932856560545,-2.3675008424615323,-0.7524594707103968,-1.1448065003065628,0.7910869582577802,2.2172534419237366,0.9510985698526081],\"type\":\"scatter\",\"xaxis\":\"x\",\"yaxis\":\"y\"}],                        {\"template\":{\"data\":{\"bar\":[{\"error_x\":{\"color\":\"#2a3f5f\"},\"error_y\":{\"color\":\"#2a3f5f\"},\"marker\":{\"line\":{\"color\":\"#E5ECF6\",\"width\":0.5},\"pattern\":{\"fillmode\":\"overlay\",\"size\":10,\"solidity\":0.2}},\"type\":\"bar\"}],\"barpolar\":[{\"marker\":{\"line\":{\"color\":\"#E5ECF6\",\"width\":0.5},\"pattern\":{\"fillmode\":\"overlay\",\"size\":10,\"solidity\":0.2}},\"type\":\"barpolar\"}],\"carpet\":[{\"aaxis\":{\"endlinecolor\":\"#2a3f5f\",\"gridcolor\":\"white\",\"linecolor\":\"white\",\"minorgridcolor\":\"white\",\"startlinecolor\":\"#2a3f5f\"},\"baxis\":{\"endlinecolor\":\"#2a3f5f\",\"gridcolor\":\"white\",\"linecolor\":\"white\",\"minorgridcolor\":\"white\",\"startlinecolor\":\"#2a3f5f\"},\"type\":\"carpet\"}],\"choropleth\":[{\"colorbar\":{\"outlinewidth\":0,\"ticks\":\"\"},\"type\":\"choropleth\"}],\"contour\":[{\"colorbar\":{\"outlinewidth\":0,\"ticks\":\"\"},\"colorscale\":[[0.0,\"#0d0887\"],[0.1111111111111111,\"#46039f\"],[0.2222222222222222,\"#7201a8\"],[0.3333333333333333,\"#9c179e\"],[0.4444444444444444,\"#bd3786\"],[0.5555555555555556,\"#d8576b\"],[0.6666666666666666,\"#ed7953\"],[0.7777777777777778,\"#fb9f3a\"],[0.8888888888888888,\"#fdca26\"],[1.0,\"#f0f921\"]],\"type\":\"contour\"}],\"contourcarpet\":[{\"colorbar\":{\"outlinewidth\":0,\"ticks\":\"\"},\"type\":\"contourcarpet\"}],\"heatmap\":[{\"colorbar\":{\"outlinewidth\":0,\"ticks\":\"\"},\"colorscale\":[[0.0,\"#0d0887\"],[0.1111111111111111,\"#46039f\"],[0.2222222222222222,\"#7201a8\"],[0.3333333333333333,\"#9c179e\"],[0.4444444444444444,\"#bd3786\"],[0.5555555555555556,\"#d8576b\"],[0.6666666666666666,\"#ed7953\"],[0.7777777777777778,\"#fb9f3a\"],[0.8888888888888888,\"#fdca26\"],[1.0,\"#f0f921\"]],\"type\":\"heatmap\"}],\"heatmapgl\":[{\"colorbar\":{\"outlinewidth\":0,\"ticks\":\"\"},\"colorscale\":[[0.0,\"#0d0887\"],[0.1111111111111111,\"#46039f\"],[0.2222222222222222,\"#7201a8\"],[0.3333333333333333,\"#9c179e\"],[0.4444444444444444,\"#bd3786\"],[0.5555555555555556,\"#d8576b\"],[0.6666666666666666,\"#ed7953\"],[0.7777777777777778,\"#fb9f3a\"],[0.8888888888888888,\"#fdca26\"],[1.0,\"#f0f921\"]],\"type\":\"heatmapgl\"}],\"histogram\":[{\"marker\":{\"pattern\":{\"fillmode\":\"overlay\",\"size\":10,\"solidity\":0.2}},\"type\":\"histogram\"}],\"histogram2d\":[{\"colorbar\":{\"outlinewidth\":0,\"ticks\":\"\"},\"colorscale\":[[0.0,\"#0d0887\"],[0.1111111111111111,\"#46039f\"],[0.2222222222222222,\"#7201a8\"],[0.3333333333333333,\"#9c179e\"],[0.4444444444444444,\"#bd3786\"],[0.5555555555555556,\"#d8576b\"],[0.6666666666666666,\"#ed7953\"],[0.7777777777777778,\"#fb9f3a\"],[0.8888888888888888,\"#fdca26\"],[1.0,\"#f0f921\"]],\"type\":\"histogram2d\"}],\"histogram2dcontour\":[{\"colorbar\":{\"outlinewidth\":0,\"ticks\":\"\"},\"colorscale\":[[0.0,\"#0d0887\"],[0.1111111111111111,\"#46039f\"],[0.2222222222222222,\"#7201a8\"],[0.3333333333333333,\"#9c179e\"],[0.4444444444444444,\"#bd3786\"],[0.5555555555555556,\"#d8576b\"],[0.6666666666666666,\"#ed7953\"],[0.7777777777777778,\"#fb9f3a\"],[0.8888888888888888,\"#fdca26\"],[1.0,\"#f0f921\"]],\"type\":\"histogram2dcontour\"}],\"mesh3d\":[{\"colorbar\":{\"outlinewidth\":0,\"ticks\":\"\"},\"type\":\"mesh3d\"}],\"parcoords\":[{\"line\":{\"colorbar\":{\"outlinewidth\":0,\"ticks\":\"\"}},\"type\":\"parcoords\"}],\"pie\":[{\"automargin\":true,\"type\":\"pie\"}],\"scatter\":[{\"marker\":{\"colorbar\":{\"outlinewidth\":0,\"ticks\":\"\"}},\"type\":\"scatter\"}],\"scatter3d\":[{\"line\":{\"colorbar\":{\"outlinewidth\":0,\"ticks\":\"\"}},\"marker\":{\"colorbar\":{\"outlinewidth\":0,\"ticks\":\"\"}},\"type\":\"scatter3d\"}],\"scattercarpet\":[{\"marker\":{\"colorbar\":{\"outlinewidth\":0,\"ticks\":\"\"}},\"type\":\"scattercarpet\"}],\"scattergeo\":[{\"marker\":{\"colorbar\":{\"outlinewidth\":0,\"ticks\":\"\"}},\"type\":\"scattergeo\"}],\"scattergl\":[{\"marker\":{\"colorbar\":{\"outlinewidth\":0,\"ticks\":\"\"}},\"type\":\"scattergl\"}],\"scattermapbox\":[{\"marker\":{\"colorbar\":{\"outlinewidth\":0,\"ticks\":\"\"}},\"type\":\"scattermapbox\"}],\"scatterpolar\":[{\"marker\":{\"colorbar\":{\"outlinewidth\":0,\"ticks\":\"\"}},\"type\":\"scatterpolar\"}],\"scatterpolargl\":[{\"marker\":{\"colorbar\":{\"outlinewidth\":0,\"ticks\":\"\"}},\"type\":\"scatterpolargl\"}],\"scatterternary\":[{\"marker\":{\"colorbar\":{\"outlinewidth\":0,\"ticks\":\"\"}},\"type\":\"scatterternary\"}],\"surface\":[{\"colorbar\":{\"outlinewidth\":0,\"ticks\":\"\"},\"colorscale\":[[0.0,\"#0d0887\"],[0.1111111111111111,\"#46039f\"],[0.2222222222222222,\"#7201a8\"],[0.3333333333333333,\"#9c179e\"],[0.4444444444444444,\"#bd3786\"],[0.5555555555555556,\"#d8576b\"],[0.6666666666666666,\"#ed7953\"],[0.7777777777777778,\"#fb9f3a\"],[0.8888888888888888,\"#fdca26\"],[1.0,\"#f0f921\"]],\"type\":\"surface\"}],\"table\":[{\"cells\":{\"fill\":{\"color\":\"#EBF0F8\"},\"line\":{\"color\":\"white\"}},\"header\":{\"fill\":{\"color\":\"#C8D4E3\"},\"line\":{\"color\":\"white\"}},\"type\":\"table\"}]},\"layout\":{\"annotationdefaults\":{\"arrowcolor\":\"#2a3f5f\",\"arrowhead\":0,\"arrowwidth\":1},\"autotypenumbers\":\"strict\",\"coloraxis\":{\"colorbar\":{\"outlinewidth\":0,\"ticks\":\"\"}},\"colorscale\":{\"diverging\":[[0,\"#8e0152\"],[0.1,\"#c51b7d\"],[0.2,\"#de77ae\"],[0.3,\"#f1b6da\"],[0.4,\"#fde0ef\"],[0.5,\"#f7f7f7\"],[0.6,\"#e6f5d0\"],[0.7,\"#b8e186\"],[0.8,\"#7fbc41\"],[0.9,\"#4d9221\"],[1,\"#276419\"]],\"sequential\":[[0.0,\"#0d0887\"],[0.1111111111111111,\"#46039f\"],[0.2222222222222222,\"#7201a8\"],[0.3333333333333333,\"#9c179e\"],[0.4444444444444444,\"#bd3786\"],[0.5555555555555556,\"#d8576b\"],[0.6666666666666666,\"#ed7953\"],[0.7777777777777778,\"#fb9f3a\"],[0.8888888888888888,\"#fdca26\"],[1.0,\"#f0f921\"]],\"sequentialminus\":[[0.0,\"#0d0887\"],[0.1111111111111111,\"#46039f\"],[0.2222222222222222,\"#7201a8\"],[0.3333333333333333,\"#9c179e\"],[0.4444444444444444,\"#bd3786\"],[0.5555555555555556,\"#d8576b\"],[0.6666666666666666,\"#ed7953\"],[0.7777777777777778,\"#fb9f3a\"],[0.8888888888888888,\"#fdca26\"],[1.0,\"#f0f921\"]]},\"colorway\":[\"#636efa\",\"#EF553B\",\"#00cc96\",\"#ab63fa\",\"#FFA15A\",\"#19d3f3\",\"#FF6692\",\"#B6E880\",\"#FF97FF\",\"#FECB52\"],\"font\":{\"color\":\"#2a3f5f\"},\"geo\":{\"bgcolor\":\"white\",\"lakecolor\":\"white\",\"landcolor\":\"#E5ECF6\",\"showlakes\":true,\"showland\":true,\"subunitcolor\":\"white\"},\"hoverlabel\":{\"align\":\"left\"},\"hovermode\":\"closest\",\"mapbox\":{\"style\":\"light\"},\"paper_bgcolor\":\"white\",\"plot_bgcolor\":\"#E5ECF6\",\"polar\":{\"angularaxis\":{\"gridcolor\":\"white\",\"linecolor\":\"white\",\"ticks\":\"\"},\"bgcolor\":\"#E5ECF6\",\"radialaxis\":{\"gridcolor\":\"white\",\"linecolor\":\"white\",\"ticks\":\"\"}},\"scene\":{\"xaxis\":{\"backgroundcolor\":\"#E5ECF6\",\"gridcolor\":\"white\",\"gridwidth\":2,\"linecolor\":\"white\",\"showbackground\":true,\"ticks\":\"\",\"zerolinecolor\":\"white\"},\"yaxis\":{\"backgroundcolor\":\"#E5ECF6\",\"gridcolor\":\"white\",\"gridwidth\":2,\"linecolor\":\"white\",\"showbackground\":true,\"ticks\":\"\",\"zerolinecolor\":\"white\"},\"zaxis\":{\"backgroundcolor\":\"#E5ECF6\",\"gridcolor\":\"white\",\"gridwidth\":2,\"linecolor\":\"white\",\"showbackground\":true,\"ticks\":\"\",\"zerolinecolor\":\"white\"}},\"shapedefaults\":{\"line\":{\"color\":\"#2a3f5f\"}},\"ternary\":{\"aaxis\":{\"gridcolor\":\"white\",\"linecolor\":\"white\",\"ticks\":\"\"},\"baxis\":{\"gridcolor\":\"white\",\"linecolor\":\"white\",\"ticks\":\"\"},\"bgcolor\":\"#E5ECF6\",\"caxis\":{\"gridcolor\":\"white\",\"linecolor\":\"white\",\"ticks\":\"\"}},\"title\":{\"x\":0.05},\"xaxis\":{\"automargin\":true,\"gridcolor\":\"white\",\"linecolor\":\"white\",\"ticks\":\"\",\"title\":{\"standoff\":15},\"zerolinecolor\":\"white\",\"zerolinewidth\":2},\"yaxis\":{\"automargin\":true,\"gridcolor\":\"white\",\"linecolor\":\"white\",\"ticks\":\"\",\"title\":{\"standoff\":15},\"zerolinecolor\":\"white\",\"zerolinewidth\":2}}},\"xaxis\":{\"anchor\":\"y\",\"domain\":[0.0,0.94]},\"yaxis\":{\"anchor\":\"x\",\"domain\":[0.0,1.0],\"title\":{\"text\":\"DD in Years\"}},\"yaxis2\":{\"anchor\":\"x\",\"overlaying\":\"y\",\"side\":\"right\"},\"title\":{\"text\":\"Title:Distance to default 2 methods\"},\"barmode\":\"relative\",\"showlegend\":true},                        {\"responsive\": true}                    ).then(function(){\n",
       "                            \n",
       "var gd = document.getElementById('ed90320f-d567-4fc2-a289-996a1a1506e1');\n",
       "var x = new MutationObserver(function (mutations, observer) {{\n",
       "        var display = window.getComputedStyle(gd).display;\n",
       "        if (!display || display === 'none') {{\n",
       "            console.log([gd, 'removed!']);\n",
       "            Plotly.purge(gd);\n",
       "            observer.disconnect();\n",
       "        }}\n",
       "}});\n",
       "\n",
       "// Listen for the removal of the full notebook cells\n",
       "var notebookContainer = gd.closest('#notebook-container');\n",
       "if (notebookContainer) {{\n",
       "    x.observe(notebookContainer, {childList: true});\n",
       "}}\n",
       "\n",
       "// Listen for the clearing of the current output cell\n",
       "var outputEl = gd.closest('.output');\n",
       "if (outputEl) {{\n",
       "    x.observe(outputEl, {childList: true});\n",
       "}}\n",
       "\n",
       "                        })                };                });            </script>        </div>"
      ]
     },
     "metadata": {},
     "output_type": "display_data"
    },
    {
     "data": {
      "application/vnd.plotly.v1+json": {
       "config": {
        "plotlyServerURL": "https://plot.ly"
       },
       "data": [
        {
         "name": "dd_naive_0.05_0.25_mean",
         "type": "scatter",
         "x": [
          1971,
          1972,
          1973,
          1974,
          1975,
          1976,
          1977,
          1978,
          1979,
          1980,
          1981,
          1982,
          1983,
          1984,
          1985,
          1986,
          1987,
          1988,
          1989,
          1990,
          1991,
          1992,
          1993,
          1994,
          1995,
          1996,
          1997,
          1998,
          1999,
          2000,
          2001,
          2002,
          2003,
          2004,
          2005,
          2006,
          2007,
          2008,
          2009,
          2010,
          2011,
          2012,
          2013,
          2014,
          2015,
          2016,
          2017,
          2018,
          2019,
          2020
         ],
         "xaxis": "x",
         "y": [
          0.3903777702790568,
          0.3564357008983727,
          0.5649614422571451,
          0.5466558013895363,
          0.39223013054680966,
          0.30047722946122324,
          0.323621752094402,
          0.5154663148494029,
          0.6701293920925965,
          0.8819497663952902,
          0.962278649928678,
          0.8718235686933784,
          0.6182635265823405,
          0.7652102429775739,
          0.6813486425044014,
          0.5723379224900095,
          0.4741116000247794,
          0.2591465249218219,
          0.457366379358127,
          0.4472585077853093,
          0.29778342903357236,
          0.19843360933430654,
          0.13729194359555988,
          0.17968783913015018,
          0.30669551044360377,
          0.32023125509664274,
          0.3075015604641068,
          0.2938553408659994,
          0.21421462949723805,
          0.31924796992359195,
          0.23521859267277154,
          0.09803735139664121,
          0.09097891237953723,
          0.21413341116227969,
          0.29097930447473824,
          0.4223409684046818,
          0.5697761878136159,
          0.38919784195974794,
          0.0747556082463933,
          0.05484278484584397,
          0.11353056445210138,
          0.13691914645100164,
          0.15310888592026453,
          0.17384627844750872,
          0.15808550868916796,
          0.08642277467874593,
          0.115047942389824,
          0.2680946096200687,
          0.2586733971560779,
          0.19323019429921784
         ],
         "yaxis": "y"
        },
        {
         "name": "dd_naive_0.05_0.5_mean",
         "type": "scatter",
         "x": [
          1971,
          1972,
          1973,
          1974,
          1975,
          1976,
          1977,
          1978,
          1979,
          1980,
          1981,
          1982,
          1983,
          1984,
          1985,
          1986,
          1987,
          1988,
          1989,
          1990,
          1991,
          1992,
          1993,
          1994,
          1995,
          1996,
          1997,
          1998,
          1999,
          2000,
          2001,
          2002,
          2003,
          2004,
          2005,
          2006,
          2007,
          2008,
          2009,
          2010,
          2011,
          2012,
          2013,
          2014,
          2015,
          2016,
          2017,
          2018,
          2019,
          2020
         ],
         "xaxis": "x",
         "y": [
          0.18443589458661472,
          0.18030966854929179,
          0.3384587081295218,
          0.2834025052452292,
          0.15154377813817532,
          0.09661612762948969,
          0.13509430423368574,
          0.27774921952917603,
          0.354815194288695,
          0.4975860303425324,
          0.5362202788839058,
          0.5028476277984182,
          0.3357471226420297,
          0.4432402317260038,
          0.3875052293196467,
          0.307240545767426,
          0.234480734399197,
          0.02699868390814494,
          0.18041604964810984,
          0.17970149978661498,
          0.05694097973790775,
          -0.0017258041109423962,
          -0.05514143341231225,
          -0.006023482168420886,
          0.0781075220002168,
          0.10145563009622167,
          0.08871054474034931,
          0.07696856801201918,
          0.012277563296665255,
          0.10358669417944757,
          0.012652400447376443,
          -0.04820693833498381,
          -0.03615483582059866,
          0.09613026694164829,
          0.13858565995612326,
          0.22439666778224845,
          0.34857586420756026,
          0.21624128112065524,
          -0.04638858858404154,
          -0.0656633541546798,
          0.011198380639423631,
          0.03464054275788171,
          0.052287565757626414,
          0.0695945929227273,
          0.06408619663850552,
          -0.008664245910527939,
          0.009956782508622055,
          0.1428871852489285,
          0.10890873233960595,
          0.055802496875454535
         ],
         "yaxis": "y"
        },
        {
         "name": "dd_naive_0_0.25_mean",
         "type": "scatter",
         "x": [
          1971,
          1972,
          1973,
          1974,
          1975,
          1976,
          1977,
          1978,
          1979,
          1980,
          1981,
          1982,
          1983,
          1984,
          1985,
          1986,
          1987,
          1988,
          1989,
          1990,
          1991,
          1992,
          1993,
          1994,
          1995,
          1996,
          1997,
          1998,
          1999,
          2000,
          2001,
          2002,
          2003,
          2004,
          2005,
          2006,
          2007,
          2008,
          2009,
          2010,
          2011,
          2012,
          2013,
          2014,
          2015,
          2016,
          2017,
          2018,
          2019,
          2020
         ],
         "xaxis": "x",
         "y": [
          0.6950829844745622,
          0.6820337893946206,
          1.2573725042860864,
          1.5760404885528445,
          0.6942055073968452,
          0.5489432396360283,
          0.6422164278445678,
          1.0386607709239077,
          1.2553838085203821,
          1.6467051868310276,
          1.6565547998646892,
          1.5059920965572122,
          1.1118250481021614,
          1.2645356613052707,
          1.2339490552568366,
          0.9906300474789764,
          0.7464349656388971,
          0.3970921765970015,
          0.7047417169066078,
          0.697662086697892,
          0.4694477313113842,
          0.31699092134113677,
          0.24402929942402984,
          0.29448583058831423,
          0.48872375970164145,
          0.5134995869294694,
          0.5104491883336003,
          0.4852888208348446,
          0.3514609943815275,
          0.48539754495534376,
          0.38022387775038086,
          0.18458927957298674,
          0.17038476247931955,
          0.3162069706617342,
          0.47731335382085377,
          0.7124093681224432,
          0.9479844196864735,
          0.5997141980852179,
          0.1164409436505246,
          0.10934528576553364,
          0.2035223054872974,
          0.20392139457563463,
          0.2471053168495513,
          0.26849597454828117,
          0.23663960734098924,
          0.1587556103984201,
          0.20008456602611138,
          0.4344002477403712,
          0.4286526869024037,
          0.33972993844126276
         ],
         "yaxis": "y"
        },
        {
         "name": "dd_method_2_mean",
         "type": "scatter",
         "x": [
          1971,
          1972,
          1973,
          1974,
          1975,
          1976,
          1977,
          1978,
          1979,
          1980,
          1981,
          1982,
          1983,
          1984,
          1985,
          1986,
          1987,
          1988,
          1989,
          1990,
          1991,
          1992,
          1993,
          1994,
          1995,
          1996,
          1997,
          1998,
          1999,
          2000,
          2001,
          2002,
          2003,
          2004,
          2005,
          2006,
          2007,
          2008,
          2009,
          2010,
          2011,
          2012,
          2013,
          2014,
          2015,
          2016,
          2017,
          2018,
          2019,
          2020
         ],
         "xaxis": "x",
         "y": [
          2.919804448100851,
          3.67469032563487,
          4.371909490419414,
          3.46207323777451,
          1.7748112056081715,
          2.2377759395463537,
          3.034414533650131,
          3.4932222253231666,
          2.370401712986859,
          2.128228808853177,
          1.4244559970341253,
          2.118903359881823,
          2.6769545720804646,
          2.5926994446972205,
          2.982635864957352,
          2.607965960128886,
          2.318917439369532,
          1.275780461233537,
          1.5514094829246994,
          1.615661935003056,
          1.1739560726286944,
          1.2725343867252685,
          1.2489175375479835,
          1.9632340773563681,
          1.4726954896276434,
          1.6713127176293334,
          1.7448399026599601,
          1.7890157515700305,
          1.3872366268611243,
          1.3680972269222733,
          0.9602629442979727,
          1.0204986867056542,
          0.8229377293610436,
          -0.7892825522044531,
          2.1683966764793494,
          2.895533845028754,
          3.2879603561510433,
          2.2898868231965452,
          -0.12223203505985936,
          -1.1315299964451069,
          -5.083596854983976,
          -3.345065072779006,
          -5.137017978140914,
          -4.0059932856560545,
          -2.3675008424615323,
          -0.7524594707103968,
          -1.1448065003065628,
          0.7910869582577802,
          2.2172534419237366,
          0.9510985698526081
         ],
         "yaxis": "y"
        },
        {
         "name": "BAAFFM",
         "type": "scatter",
         "x": [
          1971,
          1972,
          1973,
          1974,
          1975,
          1976,
          1977,
          1978,
          1979,
          1980,
          1981,
          1982,
          1983,
          1984,
          1985,
          1986,
          1987,
          1988,
          1989,
          1990,
          1991,
          1992,
          1993,
          1994,
          1995,
          1996,
          1997,
          1998,
          1999,
          2000,
          2001,
          2002,
          2003,
          2004,
          2005,
          2006,
          2007,
          2008,
          2009,
          2010,
          2011,
          2012,
          2013,
          2014,
          2015,
          2016,
          2017,
          2018,
          2019,
          2020
         ],
         "xaxis": "x",
         "y": [
          3.9025000000000003,
          3.724166666666667,
          -0.4866666666666668,
          -1.0058333333333331,
          4.785833333333333,
          4.701666666666667,
          3.4316666666666666,
          1.5574999999999999,
          -0.5041666666666667,
          0.31249999999999994,
          -0.3341666666666668,
          3.855,
          4.4675,
          3.965,
          4.614166666666667,
          3.5858333333333334,
          3.918333333333333,
          3.2616666666666667,
          0.9608333333333334,
          2.2558333333333334,
          4.114166666666667,
          5.454999999999999,
          4.9075,
          4.4208333333333325,
          2.3641666666666663,
          2.7558333333333334,
          2.4025000000000003,
          1.8675,
          2.9008333333333334,
          2.1283333333333334,
          4.06,
          6.134999999999999,
          5.638333333333333,
          5.0441666666666665,
          2.8508333333333327,
          1.515,
          1.4633333333333336,
          5.519166666666667,
          7.135833333333334,
          5.863333333333333,
          5.5625,
          4.795000000000001,
          4.994166666666667,
          4.765,
          4.866666666666667,
          4.322499999999999,
          3.438333333333334,
          2.9683333333333333,
          2.2175,
          3.2291666666666665
         ],
         "yaxis": "y2"
        }
       ],
       "layout": {
        "barmode": "relative",
        "showlegend": true,
        "template": {
         "data": {
          "bar": [
           {
            "error_x": {
             "color": "#2a3f5f"
            },
            "error_y": {
             "color": "#2a3f5f"
            },
            "marker": {
             "line": {
              "color": "#E5ECF6",
              "width": 0.5
             },
             "pattern": {
              "fillmode": "overlay",
              "size": 10,
              "solidity": 0.2
             }
            },
            "type": "bar"
           }
          ],
          "barpolar": [
           {
            "marker": {
             "line": {
              "color": "#E5ECF6",
              "width": 0.5
             },
             "pattern": {
              "fillmode": "overlay",
              "size": 10,
              "solidity": 0.2
             }
            },
            "type": "barpolar"
           }
          ],
          "carpet": [
           {
            "aaxis": {
             "endlinecolor": "#2a3f5f",
             "gridcolor": "white",
             "linecolor": "white",
             "minorgridcolor": "white",
             "startlinecolor": "#2a3f5f"
            },
            "baxis": {
             "endlinecolor": "#2a3f5f",
             "gridcolor": "white",
             "linecolor": "white",
             "minorgridcolor": "white",
             "startlinecolor": "#2a3f5f"
            },
            "type": "carpet"
           }
          ],
          "choropleth": [
           {
            "colorbar": {
             "outlinewidth": 0,
             "ticks": ""
            },
            "type": "choropleth"
           }
          ],
          "contour": [
           {
            "colorbar": {
             "outlinewidth": 0,
             "ticks": ""
            },
            "colorscale": [
             [
              0,
              "#0d0887"
             ],
             [
              0.1111111111111111,
              "#46039f"
             ],
             [
              0.2222222222222222,
              "#7201a8"
             ],
             [
              0.3333333333333333,
              "#9c179e"
             ],
             [
              0.4444444444444444,
              "#bd3786"
             ],
             [
              0.5555555555555556,
              "#d8576b"
             ],
             [
              0.6666666666666666,
              "#ed7953"
             ],
             [
              0.7777777777777778,
              "#fb9f3a"
             ],
             [
              0.8888888888888888,
              "#fdca26"
             ],
             [
              1,
              "#f0f921"
             ]
            ],
            "type": "contour"
           }
          ],
          "contourcarpet": [
           {
            "colorbar": {
             "outlinewidth": 0,
             "ticks": ""
            },
            "type": "contourcarpet"
           }
          ],
          "heatmap": [
           {
            "colorbar": {
             "outlinewidth": 0,
             "ticks": ""
            },
            "colorscale": [
             [
              0,
              "#0d0887"
             ],
             [
              0.1111111111111111,
              "#46039f"
             ],
             [
              0.2222222222222222,
              "#7201a8"
             ],
             [
              0.3333333333333333,
              "#9c179e"
             ],
             [
              0.4444444444444444,
              "#bd3786"
             ],
             [
              0.5555555555555556,
              "#d8576b"
             ],
             [
              0.6666666666666666,
              "#ed7953"
             ],
             [
              0.7777777777777778,
              "#fb9f3a"
             ],
             [
              0.8888888888888888,
              "#fdca26"
             ],
             [
              1,
              "#f0f921"
             ]
            ],
            "type": "heatmap"
           }
          ],
          "heatmapgl": [
           {
            "colorbar": {
             "outlinewidth": 0,
             "ticks": ""
            },
            "colorscale": [
             [
              0,
              "#0d0887"
             ],
             [
              0.1111111111111111,
              "#46039f"
             ],
             [
              0.2222222222222222,
              "#7201a8"
             ],
             [
              0.3333333333333333,
              "#9c179e"
             ],
             [
              0.4444444444444444,
              "#bd3786"
             ],
             [
              0.5555555555555556,
              "#d8576b"
             ],
             [
              0.6666666666666666,
              "#ed7953"
             ],
             [
              0.7777777777777778,
              "#fb9f3a"
             ],
             [
              0.8888888888888888,
              "#fdca26"
             ],
             [
              1,
              "#f0f921"
             ]
            ],
            "type": "heatmapgl"
           }
          ],
          "histogram": [
           {
            "marker": {
             "pattern": {
              "fillmode": "overlay",
              "size": 10,
              "solidity": 0.2
             }
            },
            "type": "histogram"
           }
          ],
          "histogram2d": [
           {
            "colorbar": {
             "outlinewidth": 0,
             "ticks": ""
            },
            "colorscale": [
             [
              0,
              "#0d0887"
             ],
             [
              0.1111111111111111,
              "#46039f"
             ],
             [
              0.2222222222222222,
              "#7201a8"
             ],
             [
              0.3333333333333333,
              "#9c179e"
             ],
             [
              0.4444444444444444,
              "#bd3786"
             ],
             [
              0.5555555555555556,
              "#d8576b"
             ],
             [
              0.6666666666666666,
              "#ed7953"
             ],
             [
              0.7777777777777778,
              "#fb9f3a"
             ],
             [
              0.8888888888888888,
              "#fdca26"
             ],
             [
              1,
              "#f0f921"
             ]
            ],
            "type": "histogram2d"
           }
          ],
          "histogram2dcontour": [
           {
            "colorbar": {
             "outlinewidth": 0,
             "ticks": ""
            },
            "colorscale": [
             [
              0,
              "#0d0887"
             ],
             [
              0.1111111111111111,
              "#46039f"
             ],
             [
              0.2222222222222222,
              "#7201a8"
             ],
             [
              0.3333333333333333,
              "#9c179e"
             ],
             [
              0.4444444444444444,
              "#bd3786"
             ],
             [
              0.5555555555555556,
              "#d8576b"
             ],
             [
              0.6666666666666666,
              "#ed7953"
             ],
             [
              0.7777777777777778,
              "#fb9f3a"
             ],
             [
              0.8888888888888888,
              "#fdca26"
             ],
             [
              1,
              "#f0f921"
             ]
            ],
            "type": "histogram2dcontour"
           }
          ],
          "mesh3d": [
           {
            "colorbar": {
             "outlinewidth": 0,
             "ticks": ""
            },
            "type": "mesh3d"
           }
          ],
          "parcoords": [
           {
            "line": {
             "colorbar": {
              "outlinewidth": 0,
              "ticks": ""
             }
            },
            "type": "parcoords"
           }
          ],
          "pie": [
           {
            "automargin": true,
            "type": "pie"
           }
          ],
          "scatter": [
           {
            "marker": {
             "colorbar": {
              "outlinewidth": 0,
              "ticks": ""
             }
            },
            "type": "scatter"
           }
          ],
          "scatter3d": [
           {
            "line": {
             "colorbar": {
              "outlinewidth": 0,
              "ticks": ""
             }
            },
            "marker": {
             "colorbar": {
              "outlinewidth": 0,
              "ticks": ""
             }
            },
            "type": "scatter3d"
           }
          ],
          "scattercarpet": [
           {
            "marker": {
             "colorbar": {
              "outlinewidth": 0,
              "ticks": ""
             }
            },
            "type": "scattercarpet"
           }
          ],
          "scattergeo": [
           {
            "marker": {
             "colorbar": {
              "outlinewidth": 0,
              "ticks": ""
             }
            },
            "type": "scattergeo"
           }
          ],
          "scattergl": [
           {
            "marker": {
             "colorbar": {
              "outlinewidth": 0,
              "ticks": ""
             }
            },
            "type": "scattergl"
           }
          ],
          "scattermapbox": [
           {
            "marker": {
             "colorbar": {
              "outlinewidth": 0,
              "ticks": ""
             }
            },
            "type": "scattermapbox"
           }
          ],
          "scatterpolar": [
           {
            "marker": {
             "colorbar": {
              "outlinewidth": 0,
              "ticks": ""
             }
            },
            "type": "scatterpolar"
           }
          ],
          "scatterpolargl": [
           {
            "marker": {
             "colorbar": {
              "outlinewidth": 0,
              "ticks": ""
             }
            },
            "type": "scatterpolargl"
           }
          ],
          "scatterternary": [
           {
            "marker": {
             "colorbar": {
              "outlinewidth": 0,
              "ticks": ""
             }
            },
            "type": "scatterternary"
           }
          ],
          "surface": [
           {
            "colorbar": {
             "outlinewidth": 0,
             "ticks": ""
            },
            "colorscale": [
             [
              0,
              "#0d0887"
             ],
             [
              0.1111111111111111,
              "#46039f"
             ],
             [
              0.2222222222222222,
              "#7201a8"
             ],
             [
              0.3333333333333333,
              "#9c179e"
             ],
             [
              0.4444444444444444,
              "#bd3786"
             ],
             [
              0.5555555555555556,
              "#d8576b"
             ],
             [
              0.6666666666666666,
              "#ed7953"
             ],
             [
              0.7777777777777778,
              "#fb9f3a"
             ],
             [
              0.8888888888888888,
              "#fdca26"
             ],
             [
              1,
              "#f0f921"
             ]
            ],
            "type": "surface"
           }
          ],
          "table": [
           {
            "cells": {
             "fill": {
              "color": "#EBF0F8"
             },
             "line": {
              "color": "white"
             }
            },
            "header": {
             "fill": {
              "color": "#C8D4E3"
             },
             "line": {
              "color": "white"
             }
            },
            "type": "table"
           }
          ]
         },
         "layout": {
          "annotationdefaults": {
           "arrowcolor": "#2a3f5f",
           "arrowhead": 0,
           "arrowwidth": 1
          },
          "autotypenumbers": "strict",
          "coloraxis": {
           "colorbar": {
            "outlinewidth": 0,
            "ticks": ""
           }
          },
          "colorscale": {
           "diverging": [
            [
             0,
             "#8e0152"
            ],
            [
             0.1,
             "#c51b7d"
            ],
            [
             0.2,
             "#de77ae"
            ],
            [
             0.3,
             "#f1b6da"
            ],
            [
             0.4,
             "#fde0ef"
            ],
            [
             0.5,
             "#f7f7f7"
            ],
            [
             0.6,
             "#e6f5d0"
            ],
            [
             0.7,
             "#b8e186"
            ],
            [
             0.8,
             "#7fbc41"
            ],
            [
             0.9,
             "#4d9221"
            ],
            [
             1,
             "#276419"
            ]
           ],
           "sequential": [
            [
             0,
             "#0d0887"
            ],
            [
             0.1111111111111111,
             "#46039f"
            ],
            [
             0.2222222222222222,
             "#7201a8"
            ],
            [
             0.3333333333333333,
             "#9c179e"
            ],
            [
             0.4444444444444444,
             "#bd3786"
            ],
            [
             0.5555555555555556,
             "#d8576b"
            ],
            [
             0.6666666666666666,
             "#ed7953"
            ],
            [
             0.7777777777777778,
             "#fb9f3a"
            ],
            [
             0.8888888888888888,
             "#fdca26"
            ],
            [
             1,
             "#f0f921"
            ]
           ],
           "sequentialminus": [
            [
             0,
             "#0d0887"
            ],
            [
             0.1111111111111111,
             "#46039f"
            ],
            [
             0.2222222222222222,
             "#7201a8"
            ],
            [
             0.3333333333333333,
             "#9c179e"
            ],
            [
             0.4444444444444444,
             "#bd3786"
            ],
            [
             0.5555555555555556,
             "#d8576b"
            ],
            [
             0.6666666666666666,
             "#ed7953"
            ],
            [
             0.7777777777777778,
             "#fb9f3a"
            ],
            [
             0.8888888888888888,
             "#fdca26"
            ],
            [
             1,
             "#f0f921"
            ]
           ]
          },
          "colorway": [
           "#636efa",
           "#EF553B",
           "#00cc96",
           "#ab63fa",
           "#FFA15A",
           "#19d3f3",
           "#FF6692",
           "#B6E880",
           "#FF97FF",
           "#FECB52"
          ],
          "font": {
           "color": "#2a3f5f"
          },
          "geo": {
           "bgcolor": "white",
           "lakecolor": "white",
           "landcolor": "#E5ECF6",
           "showlakes": true,
           "showland": true,
           "subunitcolor": "white"
          },
          "hoverlabel": {
           "align": "left"
          },
          "hovermode": "closest",
          "mapbox": {
           "style": "light"
          },
          "paper_bgcolor": "white",
          "plot_bgcolor": "#E5ECF6",
          "polar": {
           "angularaxis": {
            "gridcolor": "white",
            "linecolor": "white",
            "ticks": ""
           },
           "bgcolor": "#E5ECF6",
           "radialaxis": {
            "gridcolor": "white",
            "linecolor": "white",
            "ticks": ""
           }
          },
          "scene": {
           "xaxis": {
            "backgroundcolor": "#E5ECF6",
            "gridcolor": "white",
            "gridwidth": 2,
            "linecolor": "white",
            "showbackground": true,
            "ticks": "",
            "zerolinecolor": "white"
           },
           "yaxis": {
            "backgroundcolor": "#E5ECF6",
            "gridcolor": "white",
            "gridwidth": 2,
            "linecolor": "white",
            "showbackground": true,
            "ticks": "",
            "zerolinecolor": "white"
           },
           "zaxis": {
            "backgroundcolor": "#E5ECF6",
            "gridcolor": "white",
            "gridwidth": 2,
            "linecolor": "white",
            "showbackground": true,
            "ticks": "",
            "zerolinecolor": "white"
           }
          },
          "shapedefaults": {
           "line": {
            "color": "#2a3f5f"
           }
          },
          "ternary": {
           "aaxis": {
            "gridcolor": "white",
            "linecolor": "white",
            "ticks": ""
           },
           "baxis": {
            "gridcolor": "white",
            "linecolor": "white",
            "ticks": ""
           },
           "bgcolor": "#E5ECF6",
           "caxis": {
            "gridcolor": "white",
            "linecolor": "white",
            "ticks": ""
           }
          },
          "title": {
           "x": 0.05
          },
          "xaxis": {
           "automargin": true,
           "gridcolor": "white",
           "linecolor": "white",
           "ticks": "",
           "title": {
            "standoff": 15
           },
           "zerolinecolor": "white",
           "zerolinewidth": 2
          },
          "yaxis": {
           "automargin": true,
           "gridcolor": "white",
           "linecolor": "white",
           "ticks": "",
           "title": {
            "standoff": 15
           },
           "zerolinecolor": "white",
           "zerolinewidth": 2
          }
         }
        },
        "title": {
         "text": "Title:Distance to default 2 methods vs BAAFFM"
        },
        "xaxis": {
         "anchor": "y",
         "domain": [
          0,
          0.94
         ]
        },
        "yaxis": {
         "anchor": "x",
         "domain": [
          0,
          1
         ],
         "title": {
          "text": "DD in Years"
         }
        },
        "yaxis2": {
         "anchor": "x",
         "overlaying": "y",
         "side": "right",
         "title": {
          "text": "Economic Indicator in %"
         }
        }
       }
      },
      "text/html": [
       "<div>                            <div id=\"5927f1f1-e590-48b2-b2c4-e25c6ae5e691\" class=\"plotly-graph-div\" style=\"height:525px; width:100%;\"></div>            <script type=\"text/javascript\">                require([\"plotly\"], function(Plotly) {                    window.PLOTLYENV=window.PLOTLYENV || {};                                    if (document.getElementById(\"5927f1f1-e590-48b2-b2c4-e25c6ae5e691\")) {                    Plotly.newPlot(                        \"5927f1f1-e590-48b2-b2c4-e25c6ae5e691\",                        [{\"name\":\"dd_naive_0.05_0.25_mean\",\"x\":[1971,1972,1973,1974,1975,1976,1977,1978,1979,1980,1981,1982,1983,1984,1985,1986,1987,1988,1989,1990,1991,1992,1993,1994,1995,1996,1997,1998,1999,2000,2001,2002,2003,2004,2005,2006,2007,2008,2009,2010,2011,2012,2013,2014,2015,2016,2017,2018,2019,2020],\"y\":[0.3903777702790568,0.3564357008983727,0.5649614422571451,0.5466558013895363,0.39223013054680966,0.30047722946122324,0.323621752094402,0.5154663148494029,0.6701293920925965,0.8819497663952902,0.962278649928678,0.8718235686933784,0.6182635265823405,0.7652102429775739,0.6813486425044014,0.5723379224900095,0.4741116000247794,0.2591465249218219,0.457366379358127,0.4472585077853093,0.29778342903357236,0.19843360933430654,0.13729194359555988,0.17968783913015018,0.30669551044360377,0.32023125509664274,0.3075015604641068,0.2938553408659994,0.21421462949723805,0.31924796992359195,0.23521859267277154,0.09803735139664121,0.09097891237953723,0.21413341116227969,0.29097930447473824,0.4223409684046818,0.5697761878136159,0.38919784195974794,0.0747556082463933,0.05484278484584397,0.11353056445210138,0.13691914645100164,0.15310888592026453,0.17384627844750872,0.15808550868916796,0.08642277467874593,0.115047942389824,0.2680946096200687,0.2586733971560779,0.19323019429921784],\"type\":\"scatter\",\"xaxis\":\"x\",\"yaxis\":\"y\"},{\"name\":\"dd_naive_0.05_0.5_mean\",\"x\":[1971,1972,1973,1974,1975,1976,1977,1978,1979,1980,1981,1982,1983,1984,1985,1986,1987,1988,1989,1990,1991,1992,1993,1994,1995,1996,1997,1998,1999,2000,2001,2002,2003,2004,2005,2006,2007,2008,2009,2010,2011,2012,2013,2014,2015,2016,2017,2018,2019,2020],\"y\":[0.18443589458661472,0.18030966854929179,0.3384587081295218,0.2834025052452292,0.15154377813817532,0.09661612762948969,0.13509430423368574,0.27774921952917603,0.354815194288695,0.4975860303425324,0.5362202788839058,0.5028476277984182,0.3357471226420297,0.4432402317260038,0.3875052293196467,0.307240545767426,0.234480734399197,0.02699868390814494,0.18041604964810984,0.17970149978661498,0.05694097973790775,-0.0017258041109423962,-0.05514143341231225,-0.006023482168420886,0.0781075220002168,0.10145563009622167,0.08871054474034931,0.07696856801201918,0.012277563296665255,0.10358669417944757,0.012652400447376443,-0.04820693833498381,-0.03615483582059866,0.09613026694164829,0.13858565995612326,0.22439666778224845,0.34857586420756026,0.21624128112065524,-0.04638858858404154,-0.0656633541546798,0.011198380639423631,0.03464054275788171,0.052287565757626414,0.0695945929227273,0.06408619663850552,-0.008664245910527939,0.009956782508622055,0.1428871852489285,0.10890873233960595,0.055802496875454535],\"type\":\"scatter\",\"xaxis\":\"x\",\"yaxis\":\"y\"},{\"name\":\"dd_naive_0_0.25_mean\",\"x\":[1971,1972,1973,1974,1975,1976,1977,1978,1979,1980,1981,1982,1983,1984,1985,1986,1987,1988,1989,1990,1991,1992,1993,1994,1995,1996,1997,1998,1999,2000,2001,2002,2003,2004,2005,2006,2007,2008,2009,2010,2011,2012,2013,2014,2015,2016,2017,2018,2019,2020],\"y\":[0.6950829844745622,0.6820337893946206,1.2573725042860864,1.5760404885528445,0.6942055073968452,0.5489432396360283,0.6422164278445678,1.0386607709239077,1.2553838085203821,1.6467051868310276,1.6565547998646892,1.5059920965572122,1.1118250481021614,1.2645356613052707,1.2339490552568366,0.9906300474789764,0.7464349656388971,0.3970921765970015,0.7047417169066078,0.697662086697892,0.4694477313113842,0.31699092134113677,0.24402929942402984,0.29448583058831423,0.48872375970164145,0.5134995869294694,0.5104491883336003,0.4852888208348446,0.3514609943815275,0.48539754495534376,0.38022387775038086,0.18458927957298674,0.17038476247931955,0.3162069706617342,0.47731335382085377,0.7124093681224432,0.9479844196864735,0.5997141980852179,0.1164409436505246,0.10934528576553364,0.2035223054872974,0.20392139457563463,0.2471053168495513,0.26849597454828117,0.23663960734098924,0.1587556103984201,0.20008456602611138,0.4344002477403712,0.4286526869024037,0.33972993844126276],\"type\":\"scatter\",\"xaxis\":\"x\",\"yaxis\":\"y\"},{\"name\":\"dd_method_2_mean\",\"x\":[1971,1972,1973,1974,1975,1976,1977,1978,1979,1980,1981,1982,1983,1984,1985,1986,1987,1988,1989,1990,1991,1992,1993,1994,1995,1996,1997,1998,1999,2000,2001,2002,2003,2004,2005,2006,2007,2008,2009,2010,2011,2012,2013,2014,2015,2016,2017,2018,2019,2020],\"y\":[2.919804448100851,3.67469032563487,4.371909490419414,3.46207323777451,1.7748112056081715,2.2377759395463537,3.034414533650131,3.4932222253231666,2.370401712986859,2.128228808853177,1.4244559970341253,2.118903359881823,2.6769545720804646,2.5926994446972205,2.982635864957352,2.607965960128886,2.318917439369532,1.275780461233537,1.5514094829246994,1.615661935003056,1.1739560726286944,1.2725343867252685,1.2489175375479835,1.9632340773563681,1.4726954896276434,1.6713127176293334,1.7448399026599601,1.7890157515700305,1.3872366268611243,1.3680972269222733,0.9602629442979727,1.0204986867056542,0.8229377293610436,-0.7892825522044531,2.1683966764793494,2.895533845028754,3.2879603561510433,2.2898868231965452,-0.12223203505985936,-1.1315299964451069,-5.083596854983976,-3.345065072779006,-5.137017978140914,-4.0059932856560545,-2.3675008424615323,-0.7524594707103968,-1.1448065003065628,0.7910869582577802,2.2172534419237366,0.9510985698526081],\"type\":\"scatter\",\"xaxis\":\"x\",\"yaxis\":\"y\"},{\"name\":\"BAAFFM\",\"x\":[1971,1972,1973,1974,1975,1976,1977,1978,1979,1980,1981,1982,1983,1984,1985,1986,1987,1988,1989,1990,1991,1992,1993,1994,1995,1996,1997,1998,1999,2000,2001,2002,2003,2004,2005,2006,2007,2008,2009,2010,2011,2012,2013,2014,2015,2016,2017,2018,2019,2020],\"y\":[3.9025000000000003,3.724166666666667,-0.4866666666666668,-1.0058333333333331,4.785833333333333,4.701666666666667,3.4316666666666666,1.5574999999999999,-0.5041666666666667,0.31249999999999994,-0.3341666666666668,3.855,4.4675,3.965,4.614166666666667,3.5858333333333334,3.918333333333333,3.2616666666666667,0.9608333333333334,2.2558333333333334,4.114166666666667,5.454999999999999,4.9075,4.4208333333333325,2.3641666666666663,2.7558333333333334,2.4025000000000003,1.8675,2.9008333333333334,2.1283333333333334,4.06,6.134999999999999,5.638333333333333,5.0441666666666665,2.8508333333333327,1.515,1.4633333333333336,5.519166666666667,7.135833333333334,5.863333333333333,5.5625,4.795000000000001,4.994166666666667,4.765,4.866666666666667,4.322499999999999,3.438333333333334,2.9683333333333333,2.2175,3.2291666666666665],\"type\":\"scatter\",\"xaxis\":\"x\",\"yaxis\":\"y2\"}],                        {\"template\":{\"data\":{\"bar\":[{\"error_x\":{\"color\":\"#2a3f5f\"},\"error_y\":{\"color\":\"#2a3f5f\"},\"marker\":{\"line\":{\"color\":\"#E5ECF6\",\"width\":0.5},\"pattern\":{\"fillmode\":\"overlay\",\"size\":10,\"solidity\":0.2}},\"type\":\"bar\"}],\"barpolar\":[{\"marker\":{\"line\":{\"color\":\"#E5ECF6\",\"width\":0.5},\"pattern\":{\"fillmode\":\"overlay\",\"size\":10,\"solidity\":0.2}},\"type\":\"barpolar\"}],\"carpet\":[{\"aaxis\":{\"endlinecolor\":\"#2a3f5f\",\"gridcolor\":\"white\",\"linecolor\":\"white\",\"minorgridcolor\":\"white\",\"startlinecolor\":\"#2a3f5f\"},\"baxis\":{\"endlinecolor\":\"#2a3f5f\",\"gridcolor\":\"white\",\"linecolor\":\"white\",\"minorgridcolor\":\"white\",\"startlinecolor\":\"#2a3f5f\"},\"type\":\"carpet\"}],\"choropleth\":[{\"colorbar\":{\"outlinewidth\":0,\"ticks\":\"\"},\"type\":\"choropleth\"}],\"contour\":[{\"colorbar\":{\"outlinewidth\":0,\"ticks\":\"\"},\"colorscale\":[[0.0,\"#0d0887\"],[0.1111111111111111,\"#46039f\"],[0.2222222222222222,\"#7201a8\"],[0.3333333333333333,\"#9c179e\"],[0.4444444444444444,\"#bd3786\"],[0.5555555555555556,\"#d8576b\"],[0.6666666666666666,\"#ed7953\"],[0.7777777777777778,\"#fb9f3a\"],[0.8888888888888888,\"#fdca26\"],[1.0,\"#f0f921\"]],\"type\":\"contour\"}],\"contourcarpet\":[{\"colorbar\":{\"outlinewidth\":0,\"ticks\":\"\"},\"type\":\"contourcarpet\"}],\"heatmap\":[{\"colorbar\":{\"outlinewidth\":0,\"ticks\":\"\"},\"colorscale\":[[0.0,\"#0d0887\"],[0.1111111111111111,\"#46039f\"],[0.2222222222222222,\"#7201a8\"],[0.3333333333333333,\"#9c179e\"],[0.4444444444444444,\"#bd3786\"],[0.5555555555555556,\"#d8576b\"],[0.6666666666666666,\"#ed7953\"],[0.7777777777777778,\"#fb9f3a\"],[0.8888888888888888,\"#fdca26\"],[1.0,\"#f0f921\"]],\"type\":\"heatmap\"}],\"heatmapgl\":[{\"colorbar\":{\"outlinewidth\":0,\"ticks\":\"\"},\"colorscale\":[[0.0,\"#0d0887\"],[0.1111111111111111,\"#46039f\"],[0.2222222222222222,\"#7201a8\"],[0.3333333333333333,\"#9c179e\"],[0.4444444444444444,\"#bd3786\"],[0.5555555555555556,\"#d8576b\"],[0.6666666666666666,\"#ed7953\"],[0.7777777777777778,\"#fb9f3a\"],[0.8888888888888888,\"#fdca26\"],[1.0,\"#f0f921\"]],\"type\":\"heatmapgl\"}],\"histogram\":[{\"marker\":{\"pattern\":{\"fillmode\":\"overlay\",\"size\":10,\"solidity\":0.2}},\"type\":\"histogram\"}],\"histogram2d\":[{\"colorbar\":{\"outlinewidth\":0,\"ticks\":\"\"},\"colorscale\":[[0.0,\"#0d0887\"],[0.1111111111111111,\"#46039f\"],[0.2222222222222222,\"#7201a8\"],[0.3333333333333333,\"#9c179e\"],[0.4444444444444444,\"#bd3786\"],[0.5555555555555556,\"#d8576b\"],[0.6666666666666666,\"#ed7953\"],[0.7777777777777778,\"#fb9f3a\"],[0.8888888888888888,\"#fdca26\"],[1.0,\"#f0f921\"]],\"type\":\"histogram2d\"}],\"histogram2dcontour\":[{\"colorbar\":{\"outlinewidth\":0,\"ticks\":\"\"},\"colorscale\":[[0.0,\"#0d0887\"],[0.1111111111111111,\"#46039f\"],[0.2222222222222222,\"#7201a8\"],[0.3333333333333333,\"#9c179e\"],[0.4444444444444444,\"#bd3786\"],[0.5555555555555556,\"#d8576b\"],[0.6666666666666666,\"#ed7953\"],[0.7777777777777778,\"#fb9f3a\"],[0.8888888888888888,\"#fdca26\"],[1.0,\"#f0f921\"]],\"type\":\"histogram2dcontour\"}],\"mesh3d\":[{\"colorbar\":{\"outlinewidth\":0,\"ticks\":\"\"},\"type\":\"mesh3d\"}],\"parcoords\":[{\"line\":{\"colorbar\":{\"outlinewidth\":0,\"ticks\":\"\"}},\"type\":\"parcoords\"}],\"pie\":[{\"automargin\":true,\"type\":\"pie\"}],\"scatter\":[{\"marker\":{\"colorbar\":{\"outlinewidth\":0,\"ticks\":\"\"}},\"type\":\"scatter\"}],\"scatter3d\":[{\"line\":{\"colorbar\":{\"outlinewidth\":0,\"ticks\":\"\"}},\"marker\":{\"colorbar\":{\"outlinewidth\":0,\"ticks\":\"\"}},\"type\":\"scatter3d\"}],\"scattercarpet\":[{\"marker\":{\"colorbar\":{\"outlinewidth\":0,\"ticks\":\"\"}},\"type\":\"scattercarpet\"}],\"scattergeo\":[{\"marker\":{\"colorbar\":{\"outlinewidth\":0,\"ticks\":\"\"}},\"type\":\"scattergeo\"}],\"scattergl\":[{\"marker\":{\"colorbar\":{\"outlinewidth\":0,\"ticks\":\"\"}},\"type\":\"scattergl\"}],\"scattermapbox\":[{\"marker\":{\"colorbar\":{\"outlinewidth\":0,\"ticks\":\"\"}},\"type\":\"scattermapbox\"}],\"scatterpolar\":[{\"marker\":{\"colorbar\":{\"outlinewidth\":0,\"ticks\":\"\"}},\"type\":\"scatterpolar\"}],\"scatterpolargl\":[{\"marker\":{\"colorbar\":{\"outlinewidth\":0,\"ticks\":\"\"}},\"type\":\"scatterpolargl\"}],\"scatterternary\":[{\"marker\":{\"colorbar\":{\"outlinewidth\":0,\"ticks\":\"\"}},\"type\":\"scatterternary\"}],\"surface\":[{\"colorbar\":{\"outlinewidth\":0,\"ticks\":\"\"},\"colorscale\":[[0.0,\"#0d0887\"],[0.1111111111111111,\"#46039f\"],[0.2222222222222222,\"#7201a8\"],[0.3333333333333333,\"#9c179e\"],[0.4444444444444444,\"#bd3786\"],[0.5555555555555556,\"#d8576b\"],[0.6666666666666666,\"#ed7953\"],[0.7777777777777778,\"#fb9f3a\"],[0.8888888888888888,\"#fdca26\"],[1.0,\"#f0f921\"]],\"type\":\"surface\"}],\"table\":[{\"cells\":{\"fill\":{\"color\":\"#EBF0F8\"},\"line\":{\"color\":\"white\"}},\"header\":{\"fill\":{\"color\":\"#C8D4E3\"},\"line\":{\"color\":\"white\"}},\"type\":\"table\"}]},\"layout\":{\"annotationdefaults\":{\"arrowcolor\":\"#2a3f5f\",\"arrowhead\":0,\"arrowwidth\":1},\"autotypenumbers\":\"strict\",\"coloraxis\":{\"colorbar\":{\"outlinewidth\":0,\"ticks\":\"\"}},\"colorscale\":{\"diverging\":[[0,\"#8e0152\"],[0.1,\"#c51b7d\"],[0.2,\"#de77ae\"],[0.3,\"#f1b6da\"],[0.4,\"#fde0ef\"],[0.5,\"#f7f7f7\"],[0.6,\"#e6f5d0\"],[0.7,\"#b8e186\"],[0.8,\"#7fbc41\"],[0.9,\"#4d9221\"],[1,\"#276419\"]],\"sequential\":[[0.0,\"#0d0887\"],[0.1111111111111111,\"#46039f\"],[0.2222222222222222,\"#7201a8\"],[0.3333333333333333,\"#9c179e\"],[0.4444444444444444,\"#bd3786\"],[0.5555555555555556,\"#d8576b\"],[0.6666666666666666,\"#ed7953\"],[0.7777777777777778,\"#fb9f3a\"],[0.8888888888888888,\"#fdca26\"],[1.0,\"#f0f921\"]],\"sequentialminus\":[[0.0,\"#0d0887\"],[0.1111111111111111,\"#46039f\"],[0.2222222222222222,\"#7201a8\"],[0.3333333333333333,\"#9c179e\"],[0.4444444444444444,\"#bd3786\"],[0.5555555555555556,\"#d8576b\"],[0.6666666666666666,\"#ed7953\"],[0.7777777777777778,\"#fb9f3a\"],[0.8888888888888888,\"#fdca26\"],[1.0,\"#f0f921\"]]},\"colorway\":[\"#636efa\",\"#EF553B\",\"#00cc96\",\"#ab63fa\",\"#FFA15A\",\"#19d3f3\",\"#FF6692\",\"#B6E880\",\"#FF97FF\",\"#FECB52\"],\"font\":{\"color\":\"#2a3f5f\"},\"geo\":{\"bgcolor\":\"white\",\"lakecolor\":\"white\",\"landcolor\":\"#E5ECF6\",\"showlakes\":true,\"showland\":true,\"subunitcolor\":\"white\"},\"hoverlabel\":{\"align\":\"left\"},\"hovermode\":\"closest\",\"mapbox\":{\"style\":\"light\"},\"paper_bgcolor\":\"white\",\"plot_bgcolor\":\"#E5ECF6\",\"polar\":{\"angularaxis\":{\"gridcolor\":\"white\",\"linecolor\":\"white\",\"ticks\":\"\"},\"bgcolor\":\"#E5ECF6\",\"radialaxis\":{\"gridcolor\":\"white\",\"linecolor\":\"white\",\"ticks\":\"\"}},\"scene\":{\"xaxis\":{\"backgroundcolor\":\"#E5ECF6\",\"gridcolor\":\"white\",\"gridwidth\":2,\"linecolor\":\"white\",\"showbackground\":true,\"ticks\":\"\",\"zerolinecolor\":\"white\"},\"yaxis\":{\"backgroundcolor\":\"#E5ECF6\",\"gridcolor\":\"white\",\"gridwidth\":2,\"linecolor\":\"white\",\"showbackground\":true,\"ticks\":\"\",\"zerolinecolor\":\"white\"},\"zaxis\":{\"backgroundcolor\":\"#E5ECF6\",\"gridcolor\":\"white\",\"gridwidth\":2,\"linecolor\":\"white\",\"showbackground\":true,\"ticks\":\"\",\"zerolinecolor\":\"white\"}},\"shapedefaults\":{\"line\":{\"color\":\"#2a3f5f\"}},\"ternary\":{\"aaxis\":{\"gridcolor\":\"white\",\"linecolor\":\"white\",\"ticks\":\"\"},\"baxis\":{\"gridcolor\":\"white\",\"linecolor\":\"white\",\"ticks\":\"\"},\"bgcolor\":\"#E5ECF6\",\"caxis\":{\"gridcolor\":\"white\",\"linecolor\":\"white\",\"ticks\":\"\"}},\"title\":{\"x\":0.05},\"xaxis\":{\"automargin\":true,\"gridcolor\":\"white\",\"linecolor\":\"white\",\"ticks\":\"\",\"title\":{\"standoff\":15},\"zerolinecolor\":\"white\",\"zerolinewidth\":2},\"yaxis\":{\"automargin\":true,\"gridcolor\":\"white\",\"linecolor\":\"white\",\"ticks\":\"\",\"title\":{\"standoff\":15},\"zerolinecolor\":\"white\",\"zerolinewidth\":2}}},\"xaxis\":{\"anchor\":\"y\",\"domain\":[0.0,0.94]},\"yaxis\":{\"anchor\":\"x\",\"domain\":[0.0,1.0],\"title\":{\"text\":\"DD in Years\"}},\"yaxis2\":{\"anchor\":\"x\",\"overlaying\":\"y\",\"side\":\"right\",\"title\":{\"text\":\"Economic Indicator in %\"}},\"title\":{\"text\":\"Title:Distance to default 2 methods vs BAAFFM\"},\"barmode\":\"relative\",\"showlegend\":true},                        {\"responsive\": true}                    ).then(function(){\n",
       "                            \n",
       "var gd = document.getElementById('5927f1f1-e590-48b2-b2c4-e25c6ae5e691');\n",
       "var x = new MutationObserver(function (mutations, observer) {{\n",
       "        var display = window.getComputedStyle(gd).display;\n",
       "        if (!display || display === 'none') {{\n",
       "            console.log([gd, 'removed!']);\n",
       "            Plotly.purge(gd);\n",
       "            observer.disconnect();\n",
       "        }}\n",
       "}});\n",
       "\n",
       "// Listen for the removal of the full notebook cells\n",
       "var notebookContainer = gd.closest('#notebook-container');\n",
       "if (notebookContainer) {{\n",
       "    x.observe(notebookContainer, {childList: true});\n",
       "}}\n",
       "\n",
       "// Listen for the clearing of the current output cell\n",
       "var outputEl = gd.closest('.output');\n",
       "if (outputEl) {{\n",
       "    x.observe(outputEl, {childList: true});\n",
       "}}\n",
       "\n",
       "                        })                };                });            </script>        </div>"
      ]
     },
     "metadata": {},
     "output_type": "display_data"
    }
   ],
   "source": [
    "mean_all_columns = [\"fyear\",\"dd_naive_0.05_0.25_mean\", \"dd_naive_0.05_0.5_mean\", \"dd_naive_0_0.25_mean\",\"dd_method_2_mean\"]\n",
    "mean_all_methods = descriptive_stats_across_time[mean_all_columns]\n",
    "plot_chart(mean_all_methods,\"Distance to default 2 methods\",\"DD in Years\", \"fyear\")\n",
    "\n",
    "mean_plot = pd.merge(mean_all_methods,fred_baaffm,on=\"fyear\",how=\"inner\")\n",
    "plot_chart_with_macro(mean_plot,\"Distance to default 2 methods vs BAAFFM\",\"DD in Years\", \"fyear\")"
   ]
  },
  {
   "cell_type": "markdown",
   "metadata": {},
   "source": [
    "### Mean all 3 methods vs BAAFM"
   ]
  },
  {
   "cell_type": "code",
   "execution_count": 171,
   "metadata": {},
   "outputs": [
    {
     "data": {
      "application/vnd.plotly.v1+json": {
       "config": {
        "plotlyServerURL": "https://plot.ly"
       },
       "data": [
        {
         "name": "dd_naive_0.05_0.25_mean",
         "type": "scatter",
         "x": [
          1972,
          1976,
          1979,
          1980,
          1981,
          1982,
          1983,
          1985,
          1987,
          1989,
          1992,
          1993,
          1994,
          1995,
          1996,
          1997,
          2000,
          2002,
          2005,
          2008,
          2009,
          2013,
          2014,
          2015,
          2016,
          2017,
          2018,
          2019,
          2020
         ],
         "xaxis": "x",
         "y": [
          0.41259374045453373,
          0.34839352704302756,
          0.7132707275878187,
          0.5888423754707046,
          0.861787826776933,
          0.9059330256078865,
          0.466650602182053,
          0.837438215958134,
          0.1183395428678647,
          0.34915644495783854,
          0.007739311885611356,
          -0.05954305346678682,
          0.15771584190412288,
          0.419142416771671,
          0.25201325358450527,
          0.10026814102381731,
          0.10194710492151174,
          0.09070828992746867,
          0.14259466812113625,
          0.2343130338939268,
          4.93473470220759,
          0.039255109609355014,
          -0.11311407603186494,
          -0.03427684640156784,
          -0.010522876674839818,
          0.02364402953015277,
          0.07079561692732737,
          0.08513748419695079,
          0.11177086321365572
         ],
         "yaxis": "y"
        },
        {
         "name": "dd_naive_0.05_0.5_mean",
         "type": "scatter",
         "x": [
          1972,
          1976,
          1979,
          1980,
          1981,
          1982,
          1983,
          1985,
          1987,
          1989,
          1992,
          1993,
          1994,
          1995,
          1996,
          1997,
          2000,
          2002,
          2005,
          2008,
          2009,
          2013,
          2014,
          2015,
          2016,
          2017,
          2018,
          2019,
          2020
         ],
         "xaxis": "x",
         "y": [
          0.2693702806223014,
          0.12876310813049238,
          0.3951350990789913,
          0.2465105988674882,
          0.4415132329754232,
          0.5079966268006993,
          0.2059175466571011,
          0.5006591877798336,
          -0.08570509988099503,
          0.057031347880098684,
          -0.17651566728059476,
          -0.24355902849558822,
          -0.06918405424329799,
          0.20625584769770763,
          0.06093692239426439,
          -0.08976644807951809,
          -0.2007661624750272,
          -0.06011026898867606,
          0.037211315167037816,
          0.06922625933421003,
          4.861713112595868,
          -0.05207062153046787,
          -0.20716280217977576,
          -0.05662810925700155,
          -0.051326136037847914,
          -0.05996643101706078,
          -0.04212843721820881,
          -0.04769700928610063,
          0.025721437745115826
         ],
         "yaxis": "y"
        },
        {
         "name": "dd_naive_0_0.25_mean",
         "type": "scatter",
         "x": [
          1972,
          1976,
          1979,
          1980,
          1981,
          1982,
          1983,
          1985,
          1987,
          1989,
          1992,
          1993,
          1994,
          1995,
          1996,
          1997,
          2000,
          2002,
          2005,
          2008,
          2009,
          2013,
          2014,
          2015,
          2016,
          2017,
          2018,
          2019,
          2020
         ],
         "xaxis": "x",
         "y": [
          1.1430937313070122,
          0.5633996812300225,
          1.2860273612146969,
          0.87868006462122,
          1.3756902087323981,
          1.4800036253876916,
          0.7706908672944845,
          1.1320301770232246,
          0.20352290350656313,
          0.4682880185858244,
          0.0681803339832972,
          -0.014965227360593586,
          0.3272215471809322,
          0.7705068392499312,
          0.4218148328607716,
          0.18298849774848178,
          0.19400970156342584,
          0.17567714792827527,
          0.3198111986392794,
          0.41440924806496143,
          4.960027107081275,
          0.11937650469746476,
          -0.0869870969594878,
          0.0036912579999542282,
          0.057900822209171504,
          0.09908396319960082,
          0.1844954664052425,
          0.2199728455119582,
          0.2880726613658747
         ],
         "yaxis": "y"
        },
        {
         "name": "dd_method_2_mean",
         "type": "scatter",
         "x": [
          1972,
          1976,
          1979,
          1980,
          1981,
          1982,
          1983,
          1985,
          1987,
          1989,
          1992,
          1993,
          1994,
          1995,
          1996,
          1997,
          2000,
          2002,
          2005,
          2008,
          2009,
          2013,
          2014,
          2015,
          2016,
          2017,
          2018,
          2019,
          2020
         ],
         "xaxis": "x",
         "y": [
          7.811313612398311,
          2.376930980626507,
          3.5898557418943704,
          1.9368081259702812,
          1.6462388990693777,
          3.1295762964828846,
          2.60362551863306,
          2.462319844585536,
          0.9838940882116443,
          0.9526131075090495,
          0.6796793778895642,
          0.29749012481536213,
          1.3564515459584863,
          3.476294807758202,
          2.194370671655762,
          1.0716832881309677,
          0.0003277832038417472,
          1.6102025349082372,
          0.10790987124211379,
          2.672170519408565,
          5.035287816827971,
          -4.447300457087572,
          -0.6106205417325143,
          6.474289504842764,
          3.4623504717151854,
          2.86641254774303,
          2.7628846210719034,
          2.534611616064506,
          3.4535814300709524
         ],
         "yaxis": "y"
        },
        {
         "name": "dd_method_3_mean",
         "type": "scatter",
         "x": [
          1972,
          1976,
          1979,
          1980,
          1981,
          1982,
          1983,
          1985,
          1987,
          1989,
          1992,
          1993,
          1994,
          1995,
          1996,
          1997,
          2000,
          2002,
          2005,
          2008,
          2009,
          2013,
          2014,
          2015,
          2016,
          2017,
          2018,
          2019,
          2020
         ],
         "xaxis": "x",
         "y": [
          12.383164244301915,
          6.592556347277294,
          9.27834190749083,
          4.011010935330808,
          5.641581603146554,
          11.474280908915516,
          5.850408677112843,
          10.405718765915118,
          1.8690654272243683,
          4.274982819041741,
          4.073838370945452,
          4.393968460243619,
          7.723218951253957,
          8.055599768946486,
          6.73138327125508,
          3.4629091236045624,
          7.177702651065628,
          5.961160166800633,
          10.065519366067504,
          8.002704703230577,
          21.247344823450003,
          8.374528278152006,
          2.4558155349708617,
          12.225125710057993,
          13.209151995119568,
          7.4884262967233015,
          9.371097517797367,
          4.8501507099576635,
          8.322232413081199
         ],
         "yaxis": "y"
        },
        {
         "name": "dd_method_3_mean",
         "type": "scatter",
         "x": [
          1972,
          1976,
          1979,
          1980,
          1981,
          1982,
          1983,
          1985,
          1987,
          1989,
          1992,
          1993,
          1994,
          1995,
          1996,
          1997,
          2000,
          2002,
          2005,
          2008,
          2009,
          2013,
          2014,
          2015,
          2016,
          2017,
          2018,
          2019,
          2020
         ],
         "xaxis": "x",
         "y": [
          12.383164244301915,
          6.592556347277294,
          9.27834190749083,
          4.011010935330808,
          5.641581603146554,
          11.474280908915516,
          5.850408677112843,
          10.405718765915118,
          1.8690654272243683,
          4.274982819041741,
          4.073838370945452,
          4.393968460243619,
          7.723218951253957,
          8.055599768946486,
          6.73138327125508,
          3.4629091236045624,
          7.177702651065628,
          5.961160166800633,
          10.065519366067504,
          8.002704703230577,
          21.247344823450003,
          8.374528278152006,
          2.4558155349708617,
          12.225125710057993,
          13.209151995119568,
          7.4884262967233015,
          9.371097517797367,
          4.8501507099576635,
          8.322232413081199
         ],
         "yaxis": "y"
        }
       ],
       "layout": {
        "barmode": "relative",
        "showlegend": true,
        "template": {
         "data": {
          "bar": [
           {
            "error_x": {
             "color": "#2a3f5f"
            },
            "error_y": {
             "color": "#2a3f5f"
            },
            "marker": {
             "line": {
              "color": "#E5ECF6",
              "width": 0.5
             },
             "pattern": {
              "fillmode": "overlay",
              "size": 10,
              "solidity": 0.2
             }
            },
            "type": "bar"
           }
          ],
          "barpolar": [
           {
            "marker": {
             "line": {
              "color": "#E5ECF6",
              "width": 0.5
             },
             "pattern": {
              "fillmode": "overlay",
              "size": 10,
              "solidity": 0.2
             }
            },
            "type": "barpolar"
           }
          ],
          "carpet": [
           {
            "aaxis": {
             "endlinecolor": "#2a3f5f",
             "gridcolor": "white",
             "linecolor": "white",
             "minorgridcolor": "white",
             "startlinecolor": "#2a3f5f"
            },
            "baxis": {
             "endlinecolor": "#2a3f5f",
             "gridcolor": "white",
             "linecolor": "white",
             "minorgridcolor": "white",
             "startlinecolor": "#2a3f5f"
            },
            "type": "carpet"
           }
          ],
          "choropleth": [
           {
            "colorbar": {
             "outlinewidth": 0,
             "ticks": ""
            },
            "type": "choropleth"
           }
          ],
          "contour": [
           {
            "colorbar": {
             "outlinewidth": 0,
             "ticks": ""
            },
            "colorscale": [
             [
              0,
              "#0d0887"
             ],
             [
              0.1111111111111111,
              "#46039f"
             ],
             [
              0.2222222222222222,
              "#7201a8"
             ],
             [
              0.3333333333333333,
              "#9c179e"
             ],
             [
              0.4444444444444444,
              "#bd3786"
             ],
             [
              0.5555555555555556,
              "#d8576b"
             ],
             [
              0.6666666666666666,
              "#ed7953"
             ],
             [
              0.7777777777777778,
              "#fb9f3a"
             ],
             [
              0.8888888888888888,
              "#fdca26"
             ],
             [
              1,
              "#f0f921"
             ]
            ],
            "type": "contour"
           }
          ],
          "contourcarpet": [
           {
            "colorbar": {
             "outlinewidth": 0,
             "ticks": ""
            },
            "type": "contourcarpet"
           }
          ],
          "heatmap": [
           {
            "colorbar": {
             "outlinewidth": 0,
             "ticks": ""
            },
            "colorscale": [
             [
              0,
              "#0d0887"
             ],
             [
              0.1111111111111111,
              "#46039f"
             ],
             [
              0.2222222222222222,
              "#7201a8"
             ],
             [
              0.3333333333333333,
              "#9c179e"
             ],
             [
              0.4444444444444444,
              "#bd3786"
             ],
             [
              0.5555555555555556,
              "#d8576b"
             ],
             [
              0.6666666666666666,
              "#ed7953"
             ],
             [
              0.7777777777777778,
              "#fb9f3a"
             ],
             [
              0.8888888888888888,
              "#fdca26"
             ],
             [
              1,
              "#f0f921"
             ]
            ],
            "type": "heatmap"
           }
          ],
          "heatmapgl": [
           {
            "colorbar": {
             "outlinewidth": 0,
             "ticks": ""
            },
            "colorscale": [
             [
              0,
              "#0d0887"
             ],
             [
              0.1111111111111111,
              "#46039f"
             ],
             [
              0.2222222222222222,
              "#7201a8"
             ],
             [
              0.3333333333333333,
              "#9c179e"
             ],
             [
              0.4444444444444444,
              "#bd3786"
             ],
             [
              0.5555555555555556,
              "#d8576b"
             ],
             [
              0.6666666666666666,
              "#ed7953"
             ],
             [
              0.7777777777777778,
              "#fb9f3a"
             ],
             [
              0.8888888888888888,
              "#fdca26"
             ],
             [
              1,
              "#f0f921"
             ]
            ],
            "type": "heatmapgl"
           }
          ],
          "histogram": [
           {
            "marker": {
             "pattern": {
              "fillmode": "overlay",
              "size": 10,
              "solidity": 0.2
             }
            },
            "type": "histogram"
           }
          ],
          "histogram2d": [
           {
            "colorbar": {
             "outlinewidth": 0,
             "ticks": ""
            },
            "colorscale": [
             [
              0,
              "#0d0887"
             ],
             [
              0.1111111111111111,
              "#46039f"
             ],
             [
              0.2222222222222222,
              "#7201a8"
             ],
             [
              0.3333333333333333,
              "#9c179e"
             ],
             [
              0.4444444444444444,
              "#bd3786"
             ],
             [
              0.5555555555555556,
              "#d8576b"
             ],
             [
              0.6666666666666666,
              "#ed7953"
             ],
             [
              0.7777777777777778,
              "#fb9f3a"
             ],
             [
              0.8888888888888888,
              "#fdca26"
             ],
             [
              1,
              "#f0f921"
             ]
            ],
            "type": "histogram2d"
           }
          ],
          "histogram2dcontour": [
           {
            "colorbar": {
             "outlinewidth": 0,
             "ticks": ""
            },
            "colorscale": [
             [
              0,
              "#0d0887"
             ],
             [
              0.1111111111111111,
              "#46039f"
             ],
             [
              0.2222222222222222,
              "#7201a8"
             ],
             [
              0.3333333333333333,
              "#9c179e"
             ],
             [
              0.4444444444444444,
              "#bd3786"
             ],
             [
              0.5555555555555556,
              "#d8576b"
             ],
             [
              0.6666666666666666,
              "#ed7953"
             ],
             [
              0.7777777777777778,
              "#fb9f3a"
             ],
             [
              0.8888888888888888,
              "#fdca26"
             ],
             [
              1,
              "#f0f921"
             ]
            ],
            "type": "histogram2dcontour"
           }
          ],
          "mesh3d": [
           {
            "colorbar": {
             "outlinewidth": 0,
             "ticks": ""
            },
            "type": "mesh3d"
           }
          ],
          "parcoords": [
           {
            "line": {
             "colorbar": {
              "outlinewidth": 0,
              "ticks": ""
             }
            },
            "type": "parcoords"
           }
          ],
          "pie": [
           {
            "automargin": true,
            "type": "pie"
           }
          ],
          "scatter": [
           {
            "marker": {
             "colorbar": {
              "outlinewidth": 0,
              "ticks": ""
             }
            },
            "type": "scatter"
           }
          ],
          "scatter3d": [
           {
            "line": {
             "colorbar": {
              "outlinewidth": 0,
              "ticks": ""
             }
            },
            "marker": {
             "colorbar": {
              "outlinewidth": 0,
              "ticks": ""
             }
            },
            "type": "scatter3d"
           }
          ],
          "scattercarpet": [
           {
            "marker": {
             "colorbar": {
              "outlinewidth": 0,
              "ticks": ""
             }
            },
            "type": "scattercarpet"
           }
          ],
          "scattergeo": [
           {
            "marker": {
             "colorbar": {
              "outlinewidth": 0,
              "ticks": ""
             }
            },
            "type": "scattergeo"
           }
          ],
          "scattergl": [
           {
            "marker": {
             "colorbar": {
              "outlinewidth": 0,
              "ticks": ""
             }
            },
            "type": "scattergl"
           }
          ],
          "scattermapbox": [
           {
            "marker": {
             "colorbar": {
              "outlinewidth": 0,
              "ticks": ""
             }
            },
            "type": "scattermapbox"
           }
          ],
          "scatterpolar": [
           {
            "marker": {
             "colorbar": {
              "outlinewidth": 0,
              "ticks": ""
             }
            },
            "type": "scatterpolar"
           }
          ],
          "scatterpolargl": [
           {
            "marker": {
             "colorbar": {
              "outlinewidth": 0,
              "ticks": ""
             }
            },
            "type": "scatterpolargl"
           }
          ],
          "scatterternary": [
           {
            "marker": {
             "colorbar": {
              "outlinewidth": 0,
              "ticks": ""
             }
            },
            "type": "scatterternary"
           }
          ],
          "surface": [
           {
            "colorbar": {
             "outlinewidth": 0,
             "ticks": ""
            },
            "colorscale": [
             [
              0,
              "#0d0887"
             ],
             [
              0.1111111111111111,
              "#46039f"
             ],
             [
              0.2222222222222222,
              "#7201a8"
             ],
             [
              0.3333333333333333,
              "#9c179e"
             ],
             [
              0.4444444444444444,
              "#bd3786"
             ],
             [
              0.5555555555555556,
              "#d8576b"
             ],
             [
              0.6666666666666666,
              "#ed7953"
             ],
             [
              0.7777777777777778,
              "#fb9f3a"
             ],
             [
              0.8888888888888888,
              "#fdca26"
             ],
             [
              1,
              "#f0f921"
             ]
            ],
            "type": "surface"
           }
          ],
          "table": [
           {
            "cells": {
             "fill": {
              "color": "#EBF0F8"
             },
             "line": {
              "color": "white"
             }
            },
            "header": {
             "fill": {
              "color": "#C8D4E3"
             },
             "line": {
              "color": "white"
             }
            },
            "type": "table"
           }
          ]
         },
         "layout": {
          "annotationdefaults": {
           "arrowcolor": "#2a3f5f",
           "arrowhead": 0,
           "arrowwidth": 1
          },
          "autotypenumbers": "strict",
          "coloraxis": {
           "colorbar": {
            "outlinewidth": 0,
            "ticks": ""
           }
          },
          "colorscale": {
           "diverging": [
            [
             0,
             "#8e0152"
            ],
            [
             0.1,
             "#c51b7d"
            ],
            [
             0.2,
             "#de77ae"
            ],
            [
             0.3,
             "#f1b6da"
            ],
            [
             0.4,
             "#fde0ef"
            ],
            [
             0.5,
             "#f7f7f7"
            ],
            [
             0.6,
             "#e6f5d0"
            ],
            [
             0.7,
             "#b8e186"
            ],
            [
             0.8,
             "#7fbc41"
            ],
            [
             0.9,
             "#4d9221"
            ],
            [
             1,
             "#276419"
            ]
           ],
           "sequential": [
            [
             0,
             "#0d0887"
            ],
            [
             0.1111111111111111,
             "#46039f"
            ],
            [
             0.2222222222222222,
             "#7201a8"
            ],
            [
             0.3333333333333333,
             "#9c179e"
            ],
            [
             0.4444444444444444,
             "#bd3786"
            ],
            [
             0.5555555555555556,
             "#d8576b"
            ],
            [
             0.6666666666666666,
             "#ed7953"
            ],
            [
             0.7777777777777778,
             "#fb9f3a"
            ],
            [
             0.8888888888888888,
             "#fdca26"
            ],
            [
             1,
             "#f0f921"
            ]
           ],
           "sequentialminus": [
            [
             0,
             "#0d0887"
            ],
            [
             0.1111111111111111,
             "#46039f"
            ],
            [
             0.2222222222222222,
             "#7201a8"
            ],
            [
             0.3333333333333333,
             "#9c179e"
            ],
            [
             0.4444444444444444,
             "#bd3786"
            ],
            [
             0.5555555555555556,
             "#d8576b"
            ],
            [
             0.6666666666666666,
             "#ed7953"
            ],
            [
             0.7777777777777778,
             "#fb9f3a"
            ],
            [
             0.8888888888888888,
             "#fdca26"
            ],
            [
             1,
             "#f0f921"
            ]
           ]
          },
          "colorway": [
           "#636efa",
           "#EF553B",
           "#00cc96",
           "#ab63fa",
           "#FFA15A",
           "#19d3f3",
           "#FF6692",
           "#B6E880",
           "#FF97FF",
           "#FECB52"
          ],
          "font": {
           "color": "#2a3f5f"
          },
          "geo": {
           "bgcolor": "white",
           "lakecolor": "white",
           "landcolor": "#E5ECF6",
           "showlakes": true,
           "showland": true,
           "subunitcolor": "white"
          },
          "hoverlabel": {
           "align": "left"
          },
          "hovermode": "closest",
          "mapbox": {
           "style": "light"
          },
          "paper_bgcolor": "white",
          "plot_bgcolor": "#E5ECF6",
          "polar": {
           "angularaxis": {
            "gridcolor": "white",
            "linecolor": "white",
            "ticks": ""
           },
           "bgcolor": "#E5ECF6",
           "radialaxis": {
            "gridcolor": "white",
            "linecolor": "white",
            "ticks": ""
           }
          },
          "scene": {
           "xaxis": {
            "backgroundcolor": "#E5ECF6",
            "gridcolor": "white",
            "gridwidth": 2,
            "linecolor": "white",
            "showbackground": true,
            "ticks": "",
            "zerolinecolor": "white"
           },
           "yaxis": {
            "backgroundcolor": "#E5ECF6",
            "gridcolor": "white",
            "gridwidth": 2,
            "linecolor": "white",
            "showbackground": true,
            "ticks": "",
            "zerolinecolor": "white"
           },
           "zaxis": {
            "backgroundcolor": "#E5ECF6",
            "gridcolor": "white",
            "gridwidth": 2,
            "linecolor": "white",
            "showbackground": true,
            "ticks": "",
            "zerolinecolor": "white"
           }
          },
          "shapedefaults": {
           "line": {
            "color": "#2a3f5f"
           }
          },
          "ternary": {
           "aaxis": {
            "gridcolor": "white",
            "linecolor": "white",
            "ticks": ""
           },
           "baxis": {
            "gridcolor": "white",
            "linecolor": "white",
            "ticks": ""
           },
           "bgcolor": "#E5ECF6",
           "caxis": {
            "gridcolor": "white",
            "linecolor": "white",
            "ticks": ""
           }
          },
          "title": {
           "x": 0.05
          },
          "xaxis": {
           "automargin": true,
           "gridcolor": "white",
           "linecolor": "white",
           "ticks": "",
           "title": {
            "standoff": 15
           },
           "zerolinecolor": "white",
           "zerolinewidth": 2
          },
          "yaxis": {
           "automargin": true,
           "gridcolor": "white",
           "linecolor": "white",
           "ticks": "",
           "title": {
            "standoff": 15
           },
           "zerolinecolor": "white",
           "zerolinewidth": 2
          }
         }
        },
        "title": {
         "text": "Title:Distance to default all methods"
        },
        "xaxis": {
         "anchor": "y",
         "domain": [
          0,
          0.94
         ]
        },
        "yaxis": {
         "anchor": "x",
         "domain": [
          0,
          1
         ],
         "title": {
          "text": "DD in Years"
         }
        },
        "yaxis2": {
         "anchor": "x",
         "overlaying": "y",
         "side": "right"
        }
       }
      },
      "text/html": [
       "<div>                            <div id=\"4a3b6e51-75b1-4d3e-9c26-41f57ed07e4c\" class=\"plotly-graph-div\" style=\"height:525px; width:100%;\"></div>            <script type=\"text/javascript\">                require([\"plotly\"], function(Plotly) {                    window.PLOTLYENV=window.PLOTLYENV || {};                                    if (document.getElementById(\"4a3b6e51-75b1-4d3e-9c26-41f57ed07e4c\")) {                    Plotly.newPlot(                        \"4a3b6e51-75b1-4d3e-9c26-41f57ed07e4c\",                        [{\"name\":\"dd_naive_0.05_0.25_mean\",\"x\":[1972.0,1976.0,1979.0,1980.0,1981.0,1982.0,1983.0,1985.0,1987.0,1989.0,1992.0,1993.0,1994.0,1995.0,1996.0,1997.0,2000.0,2002.0,2005.0,2008.0,2009.0,2013.0,2014.0,2015.0,2016.0,2017.0,2018.0,2019.0,2020.0],\"y\":[0.41259374045453373,0.34839352704302756,0.7132707275878187,0.5888423754707046,0.861787826776933,0.9059330256078865,0.466650602182053,0.837438215958134,0.1183395428678647,0.34915644495783854,0.007739311885611356,-0.05954305346678682,0.15771584190412288,0.419142416771671,0.25201325358450527,0.10026814102381731,0.10194710492151174,0.09070828992746867,0.14259466812113625,0.2343130338939268,4.93473470220759,0.039255109609355014,-0.11311407603186494,-0.03427684640156784,-0.010522876674839818,0.02364402953015277,0.07079561692732737,0.08513748419695079,0.11177086321365572],\"type\":\"scatter\",\"xaxis\":\"x\",\"yaxis\":\"y\"},{\"name\":\"dd_naive_0.05_0.5_mean\",\"x\":[1972.0,1976.0,1979.0,1980.0,1981.0,1982.0,1983.0,1985.0,1987.0,1989.0,1992.0,1993.0,1994.0,1995.0,1996.0,1997.0,2000.0,2002.0,2005.0,2008.0,2009.0,2013.0,2014.0,2015.0,2016.0,2017.0,2018.0,2019.0,2020.0],\"y\":[0.2693702806223014,0.12876310813049238,0.3951350990789913,0.2465105988674882,0.4415132329754232,0.5079966268006993,0.2059175466571011,0.5006591877798336,-0.08570509988099503,0.057031347880098684,-0.17651566728059476,-0.24355902849558822,-0.06918405424329799,0.20625584769770763,0.06093692239426439,-0.08976644807951809,-0.2007661624750272,-0.06011026898867606,0.037211315167037816,0.06922625933421003,4.861713112595868,-0.05207062153046787,-0.20716280217977576,-0.05662810925700155,-0.051326136037847914,-0.05996643101706078,-0.04212843721820881,-0.04769700928610063,0.025721437745115826],\"type\":\"scatter\",\"xaxis\":\"x\",\"yaxis\":\"y\"},{\"name\":\"dd_naive_0_0.25_mean\",\"x\":[1972.0,1976.0,1979.0,1980.0,1981.0,1982.0,1983.0,1985.0,1987.0,1989.0,1992.0,1993.0,1994.0,1995.0,1996.0,1997.0,2000.0,2002.0,2005.0,2008.0,2009.0,2013.0,2014.0,2015.0,2016.0,2017.0,2018.0,2019.0,2020.0],\"y\":[1.1430937313070122,0.5633996812300225,1.2860273612146969,0.87868006462122,1.3756902087323981,1.4800036253876916,0.7706908672944845,1.1320301770232246,0.20352290350656313,0.4682880185858244,0.0681803339832972,-0.014965227360593586,0.3272215471809322,0.7705068392499312,0.4218148328607716,0.18298849774848178,0.19400970156342584,0.17567714792827527,0.3198111986392794,0.41440924806496143,4.960027107081275,0.11937650469746476,-0.0869870969594878,0.0036912579999542282,0.057900822209171504,0.09908396319960082,0.1844954664052425,0.2199728455119582,0.2880726613658747],\"type\":\"scatter\",\"xaxis\":\"x\",\"yaxis\":\"y\"},{\"name\":\"dd_method_2_mean\",\"x\":[1972.0,1976.0,1979.0,1980.0,1981.0,1982.0,1983.0,1985.0,1987.0,1989.0,1992.0,1993.0,1994.0,1995.0,1996.0,1997.0,2000.0,2002.0,2005.0,2008.0,2009.0,2013.0,2014.0,2015.0,2016.0,2017.0,2018.0,2019.0,2020.0],\"y\":[7.811313612398311,2.376930980626507,3.5898557418943704,1.9368081259702812,1.6462388990693777,3.1295762964828846,2.60362551863306,2.462319844585536,0.9838940882116443,0.9526131075090495,0.6796793778895642,0.29749012481536213,1.3564515459584863,3.476294807758202,2.194370671655762,1.0716832881309677,0.0003277832038417472,1.6102025349082372,0.10790987124211379,2.672170519408565,5.035287816827971,-4.447300457087572,-0.6106205417325143,6.474289504842764,3.4623504717151854,2.86641254774303,2.7628846210719034,2.534611616064506,3.4535814300709524],\"type\":\"scatter\",\"xaxis\":\"x\",\"yaxis\":\"y\"},{\"name\":\"dd_method_3_mean\",\"x\":[1972.0,1976.0,1979.0,1980.0,1981.0,1982.0,1983.0,1985.0,1987.0,1989.0,1992.0,1993.0,1994.0,1995.0,1996.0,1997.0,2000.0,2002.0,2005.0,2008.0,2009.0,2013.0,2014.0,2015.0,2016.0,2017.0,2018.0,2019.0,2020.0],\"y\":[12.383164244301915,6.592556347277294,9.27834190749083,4.011010935330808,5.641581603146554,11.474280908915516,5.850408677112843,10.405718765915118,1.8690654272243683,4.274982819041741,4.073838370945452,4.393968460243619,7.723218951253957,8.055599768946486,6.73138327125508,3.4629091236045624,7.177702651065628,5.961160166800633,10.065519366067504,8.002704703230577,21.247344823450003,8.374528278152006,2.4558155349708617,12.225125710057993,13.209151995119568,7.4884262967233015,9.371097517797367,4.8501507099576635,8.322232413081199],\"type\":\"scatter\",\"xaxis\":\"x\",\"yaxis\":\"y\"},{\"name\":\"dd_method_3_mean\",\"x\":[1972.0,1976.0,1979.0,1980.0,1981.0,1982.0,1983.0,1985.0,1987.0,1989.0,1992.0,1993.0,1994.0,1995.0,1996.0,1997.0,2000.0,2002.0,2005.0,2008.0,2009.0,2013.0,2014.0,2015.0,2016.0,2017.0,2018.0,2019.0,2020.0],\"y\":[12.383164244301915,6.592556347277294,9.27834190749083,4.011010935330808,5.641581603146554,11.474280908915516,5.850408677112843,10.405718765915118,1.8690654272243683,4.274982819041741,4.073838370945452,4.393968460243619,7.723218951253957,8.055599768946486,6.73138327125508,3.4629091236045624,7.177702651065628,5.961160166800633,10.065519366067504,8.002704703230577,21.247344823450003,8.374528278152006,2.4558155349708617,12.225125710057993,13.209151995119568,7.4884262967233015,9.371097517797367,4.8501507099576635,8.322232413081199],\"type\":\"scatter\",\"xaxis\":\"x\",\"yaxis\":\"y\"}],                        {\"template\":{\"data\":{\"bar\":[{\"error_x\":{\"color\":\"#2a3f5f\"},\"error_y\":{\"color\":\"#2a3f5f\"},\"marker\":{\"line\":{\"color\":\"#E5ECF6\",\"width\":0.5},\"pattern\":{\"fillmode\":\"overlay\",\"size\":10,\"solidity\":0.2}},\"type\":\"bar\"}],\"barpolar\":[{\"marker\":{\"line\":{\"color\":\"#E5ECF6\",\"width\":0.5},\"pattern\":{\"fillmode\":\"overlay\",\"size\":10,\"solidity\":0.2}},\"type\":\"barpolar\"}],\"carpet\":[{\"aaxis\":{\"endlinecolor\":\"#2a3f5f\",\"gridcolor\":\"white\",\"linecolor\":\"white\",\"minorgridcolor\":\"white\",\"startlinecolor\":\"#2a3f5f\"},\"baxis\":{\"endlinecolor\":\"#2a3f5f\",\"gridcolor\":\"white\",\"linecolor\":\"white\",\"minorgridcolor\":\"white\",\"startlinecolor\":\"#2a3f5f\"},\"type\":\"carpet\"}],\"choropleth\":[{\"colorbar\":{\"outlinewidth\":0,\"ticks\":\"\"},\"type\":\"choropleth\"}],\"contour\":[{\"colorbar\":{\"outlinewidth\":0,\"ticks\":\"\"},\"colorscale\":[[0.0,\"#0d0887\"],[0.1111111111111111,\"#46039f\"],[0.2222222222222222,\"#7201a8\"],[0.3333333333333333,\"#9c179e\"],[0.4444444444444444,\"#bd3786\"],[0.5555555555555556,\"#d8576b\"],[0.6666666666666666,\"#ed7953\"],[0.7777777777777778,\"#fb9f3a\"],[0.8888888888888888,\"#fdca26\"],[1.0,\"#f0f921\"]],\"type\":\"contour\"}],\"contourcarpet\":[{\"colorbar\":{\"outlinewidth\":0,\"ticks\":\"\"},\"type\":\"contourcarpet\"}],\"heatmap\":[{\"colorbar\":{\"outlinewidth\":0,\"ticks\":\"\"},\"colorscale\":[[0.0,\"#0d0887\"],[0.1111111111111111,\"#46039f\"],[0.2222222222222222,\"#7201a8\"],[0.3333333333333333,\"#9c179e\"],[0.4444444444444444,\"#bd3786\"],[0.5555555555555556,\"#d8576b\"],[0.6666666666666666,\"#ed7953\"],[0.7777777777777778,\"#fb9f3a\"],[0.8888888888888888,\"#fdca26\"],[1.0,\"#f0f921\"]],\"type\":\"heatmap\"}],\"heatmapgl\":[{\"colorbar\":{\"outlinewidth\":0,\"ticks\":\"\"},\"colorscale\":[[0.0,\"#0d0887\"],[0.1111111111111111,\"#46039f\"],[0.2222222222222222,\"#7201a8\"],[0.3333333333333333,\"#9c179e\"],[0.4444444444444444,\"#bd3786\"],[0.5555555555555556,\"#d8576b\"],[0.6666666666666666,\"#ed7953\"],[0.7777777777777778,\"#fb9f3a\"],[0.8888888888888888,\"#fdca26\"],[1.0,\"#f0f921\"]],\"type\":\"heatmapgl\"}],\"histogram\":[{\"marker\":{\"pattern\":{\"fillmode\":\"overlay\",\"size\":10,\"solidity\":0.2}},\"type\":\"histogram\"}],\"histogram2d\":[{\"colorbar\":{\"outlinewidth\":0,\"ticks\":\"\"},\"colorscale\":[[0.0,\"#0d0887\"],[0.1111111111111111,\"#46039f\"],[0.2222222222222222,\"#7201a8\"],[0.3333333333333333,\"#9c179e\"],[0.4444444444444444,\"#bd3786\"],[0.5555555555555556,\"#d8576b\"],[0.6666666666666666,\"#ed7953\"],[0.7777777777777778,\"#fb9f3a\"],[0.8888888888888888,\"#fdca26\"],[1.0,\"#f0f921\"]],\"type\":\"histogram2d\"}],\"histogram2dcontour\":[{\"colorbar\":{\"outlinewidth\":0,\"ticks\":\"\"},\"colorscale\":[[0.0,\"#0d0887\"],[0.1111111111111111,\"#46039f\"],[0.2222222222222222,\"#7201a8\"],[0.3333333333333333,\"#9c179e\"],[0.4444444444444444,\"#bd3786\"],[0.5555555555555556,\"#d8576b\"],[0.6666666666666666,\"#ed7953\"],[0.7777777777777778,\"#fb9f3a\"],[0.8888888888888888,\"#fdca26\"],[1.0,\"#f0f921\"]],\"type\":\"histogram2dcontour\"}],\"mesh3d\":[{\"colorbar\":{\"outlinewidth\":0,\"ticks\":\"\"},\"type\":\"mesh3d\"}],\"parcoords\":[{\"line\":{\"colorbar\":{\"outlinewidth\":0,\"ticks\":\"\"}},\"type\":\"parcoords\"}],\"pie\":[{\"automargin\":true,\"type\":\"pie\"}],\"scatter\":[{\"marker\":{\"colorbar\":{\"outlinewidth\":0,\"ticks\":\"\"}},\"type\":\"scatter\"}],\"scatter3d\":[{\"line\":{\"colorbar\":{\"outlinewidth\":0,\"ticks\":\"\"}},\"marker\":{\"colorbar\":{\"outlinewidth\":0,\"ticks\":\"\"}},\"type\":\"scatter3d\"}],\"scattercarpet\":[{\"marker\":{\"colorbar\":{\"outlinewidth\":0,\"ticks\":\"\"}},\"type\":\"scattercarpet\"}],\"scattergeo\":[{\"marker\":{\"colorbar\":{\"outlinewidth\":0,\"ticks\":\"\"}},\"type\":\"scattergeo\"}],\"scattergl\":[{\"marker\":{\"colorbar\":{\"outlinewidth\":0,\"ticks\":\"\"}},\"type\":\"scattergl\"}],\"scattermapbox\":[{\"marker\":{\"colorbar\":{\"outlinewidth\":0,\"ticks\":\"\"}},\"type\":\"scattermapbox\"}],\"scatterpolar\":[{\"marker\":{\"colorbar\":{\"outlinewidth\":0,\"ticks\":\"\"}},\"type\":\"scatterpolar\"}],\"scatterpolargl\":[{\"marker\":{\"colorbar\":{\"outlinewidth\":0,\"ticks\":\"\"}},\"type\":\"scatterpolargl\"}],\"scatterternary\":[{\"marker\":{\"colorbar\":{\"outlinewidth\":0,\"ticks\":\"\"}},\"type\":\"scatterternary\"}],\"surface\":[{\"colorbar\":{\"outlinewidth\":0,\"ticks\":\"\"},\"colorscale\":[[0.0,\"#0d0887\"],[0.1111111111111111,\"#46039f\"],[0.2222222222222222,\"#7201a8\"],[0.3333333333333333,\"#9c179e\"],[0.4444444444444444,\"#bd3786\"],[0.5555555555555556,\"#d8576b\"],[0.6666666666666666,\"#ed7953\"],[0.7777777777777778,\"#fb9f3a\"],[0.8888888888888888,\"#fdca26\"],[1.0,\"#f0f921\"]],\"type\":\"surface\"}],\"table\":[{\"cells\":{\"fill\":{\"color\":\"#EBF0F8\"},\"line\":{\"color\":\"white\"}},\"header\":{\"fill\":{\"color\":\"#C8D4E3\"},\"line\":{\"color\":\"white\"}},\"type\":\"table\"}]},\"layout\":{\"annotationdefaults\":{\"arrowcolor\":\"#2a3f5f\",\"arrowhead\":0,\"arrowwidth\":1},\"autotypenumbers\":\"strict\",\"coloraxis\":{\"colorbar\":{\"outlinewidth\":0,\"ticks\":\"\"}},\"colorscale\":{\"diverging\":[[0,\"#8e0152\"],[0.1,\"#c51b7d\"],[0.2,\"#de77ae\"],[0.3,\"#f1b6da\"],[0.4,\"#fde0ef\"],[0.5,\"#f7f7f7\"],[0.6,\"#e6f5d0\"],[0.7,\"#b8e186\"],[0.8,\"#7fbc41\"],[0.9,\"#4d9221\"],[1,\"#276419\"]],\"sequential\":[[0.0,\"#0d0887\"],[0.1111111111111111,\"#46039f\"],[0.2222222222222222,\"#7201a8\"],[0.3333333333333333,\"#9c179e\"],[0.4444444444444444,\"#bd3786\"],[0.5555555555555556,\"#d8576b\"],[0.6666666666666666,\"#ed7953\"],[0.7777777777777778,\"#fb9f3a\"],[0.8888888888888888,\"#fdca26\"],[1.0,\"#f0f921\"]],\"sequentialminus\":[[0.0,\"#0d0887\"],[0.1111111111111111,\"#46039f\"],[0.2222222222222222,\"#7201a8\"],[0.3333333333333333,\"#9c179e\"],[0.4444444444444444,\"#bd3786\"],[0.5555555555555556,\"#d8576b\"],[0.6666666666666666,\"#ed7953\"],[0.7777777777777778,\"#fb9f3a\"],[0.8888888888888888,\"#fdca26\"],[1.0,\"#f0f921\"]]},\"colorway\":[\"#636efa\",\"#EF553B\",\"#00cc96\",\"#ab63fa\",\"#FFA15A\",\"#19d3f3\",\"#FF6692\",\"#B6E880\",\"#FF97FF\",\"#FECB52\"],\"font\":{\"color\":\"#2a3f5f\"},\"geo\":{\"bgcolor\":\"white\",\"lakecolor\":\"white\",\"landcolor\":\"#E5ECF6\",\"showlakes\":true,\"showland\":true,\"subunitcolor\":\"white\"},\"hoverlabel\":{\"align\":\"left\"},\"hovermode\":\"closest\",\"mapbox\":{\"style\":\"light\"},\"paper_bgcolor\":\"white\",\"plot_bgcolor\":\"#E5ECF6\",\"polar\":{\"angularaxis\":{\"gridcolor\":\"white\",\"linecolor\":\"white\",\"ticks\":\"\"},\"bgcolor\":\"#E5ECF6\",\"radialaxis\":{\"gridcolor\":\"white\",\"linecolor\":\"white\",\"ticks\":\"\"}},\"scene\":{\"xaxis\":{\"backgroundcolor\":\"#E5ECF6\",\"gridcolor\":\"white\",\"gridwidth\":2,\"linecolor\":\"white\",\"showbackground\":true,\"ticks\":\"\",\"zerolinecolor\":\"white\"},\"yaxis\":{\"backgroundcolor\":\"#E5ECF6\",\"gridcolor\":\"white\",\"gridwidth\":2,\"linecolor\":\"white\",\"showbackground\":true,\"ticks\":\"\",\"zerolinecolor\":\"white\"},\"zaxis\":{\"backgroundcolor\":\"#E5ECF6\",\"gridcolor\":\"white\",\"gridwidth\":2,\"linecolor\":\"white\",\"showbackground\":true,\"ticks\":\"\",\"zerolinecolor\":\"white\"}},\"shapedefaults\":{\"line\":{\"color\":\"#2a3f5f\"}},\"ternary\":{\"aaxis\":{\"gridcolor\":\"white\",\"linecolor\":\"white\",\"ticks\":\"\"},\"baxis\":{\"gridcolor\":\"white\",\"linecolor\":\"white\",\"ticks\":\"\"},\"bgcolor\":\"#E5ECF6\",\"caxis\":{\"gridcolor\":\"white\",\"linecolor\":\"white\",\"ticks\":\"\"}},\"title\":{\"x\":0.05},\"xaxis\":{\"automargin\":true,\"gridcolor\":\"white\",\"linecolor\":\"white\",\"ticks\":\"\",\"title\":{\"standoff\":15},\"zerolinecolor\":\"white\",\"zerolinewidth\":2},\"yaxis\":{\"automargin\":true,\"gridcolor\":\"white\",\"linecolor\":\"white\",\"ticks\":\"\",\"title\":{\"standoff\":15},\"zerolinecolor\":\"white\",\"zerolinewidth\":2}}},\"xaxis\":{\"anchor\":\"y\",\"domain\":[0.0,0.94]},\"yaxis\":{\"anchor\":\"x\",\"domain\":[0.0,1.0],\"title\":{\"text\":\"DD in Years\"}},\"yaxis2\":{\"anchor\":\"x\",\"overlaying\":\"y\",\"side\":\"right\"},\"title\":{\"text\":\"Title:Distance to default all methods\"},\"barmode\":\"relative\",\"showlegend\":true},                        {\"responsive\": true}                    ).then(function(){\n",
       "                            \n",
       "var gd = document.getElementById('4a3b6e51-75b1-4d3e-9c26-41f57ed07e4c');\n",
       "var x = new MutationObserver(function (mutations, observer) {{\n",
       "        var display = window.getComputedStyle(gd).display;\n",
       "        if (!display || display === 'none') {{\n",
       "            console.log([gd, 'removed!']);\n",
       "            Plotly.purge(gd);\n",
       "            observer.disconnect();\n",
       "        }}\n",
       "}});\n",
       "\n",
       "// Listen for the removal of the full notebook cells\n",
       "var notebookContainer = gd.closest('#notebook-container');\n",
       "if (notebookContainer) {{\n",
       "    x.observe(notebookContainer, {childList: true});\n",
       "}}\n",
       "\n",
       "// Listen for the clearing of the current output cell\n",
       "var outputEl = gd.closest('.output');\n",
       "if (outputEl) {{\n",
       "    x.observe(outputEl, {childList: true});\n",
       "}}\n",
       "\n",
       "                        })                };                });            </script>        </div>"
      ]
     },
     "metadata": {},
     "output_type": "display_data"
    },
    {
     "data": {
      "application/vnd.plotly.v1+json": {
       "config": {
        "plotlyServerURL": "https://plot.ly"
       },
       "data": [
        {
         "name": "dd_naive_0.05_0.25_mean",
         "type": "scatter",
         "x": [
          1972,
          1976,
          1979,
          1980,
          1981,
          1982,
          1983,
          1985,
          1987,
          1989,
          1992,
          1993,
          1994,
          1995,
          1996,
          1997,
          2000,
          2002,
          2005,
          2008,
          2009,
          2013,
          2014,
          2015,
          2016,
          2017,
          2018,
          2019,
          2020
         ],
         "xaxis": "x",
         "y": [
          0.41259374045453373,
          0.34839352704302756,
          0.7132707275878187,
          0.5888423754707046,
          0.861787826776933,
          0.9059330256078865,
          0.466650602182053,
          0.837438215958134,
          0.1183395428678647,
          0.34915644495783854,
          0.007739311885611356,
          -0.05954305346678682,
          0.15771584190412288,
          0.419142416771671,
          0.25201325358450527,
          0.10026814102381731,
          0.10194710492151174,
          0.09070828992746867,
          0.14259466812113625,
          0.2343130338939268,
          4.93473470220759,
          0.039255109609355014,
          -0.11311407603186494,
          -0.03427684640156784,
          -0.010522876674839818,
          0.02364402953015277,
          0.07079561692732737,
          0.08513748419695079,
          0.11177086321365572
         ],
         "yaxis": "y"
        },
        {
         "name": "dd_naive_0.05_0.5_mean",
         "type": "scatter",
         "x": [
          1972,
          1976,
          1979,
          1980,
          1981,
          1982,
          1983,
          1985,
          1987,
          1989,
          1992,
          1993,
          1994,
          1995,
          1996,
          1997,
          2000,
          2002,
          2005,
          2008,
          2009,
          2013,
          2014,
          2015,
          2016,
          2017,
          2018,
          2019,
          2020
         ],
         "xaxis": "x",
         "y": [
          0.2693702806223014,
          0.12876310813049238,
          0.3951350990789913,
          0.2465105988674882,
          0.4415132329754232,
          0.5079966268006993,
          0.2059175466571011,
          0.5006591877798336,
          -0.08570509988099503,
          0.057031347880098684,
          -0.17651566728059476,
          -0.24355902849558822,
          -0.06918405424329799,
          0.20625584769770763,
          0.06093692239426439,
          -0.08976644807951809,
          -0.2007661624750272,
          -0.06011026898867606,
          0.037211315167037816,
          0.06922625933421003,
          4.861713112595868,
          -0.05207062153046787,
          -0.20716280217977576,
          -0.05662810925700155,
          -0.051326136037847914,
          -0.05996643101706078,
          -0.04212843721820881,
          -0.04769700928610063,
          0.025721437745115826
         ],
         "yaxis": "y"
        },
        {
         "name": "dd_naive_0_0.25_mean",
         "type": "scatter",
         "x": [
          1972,
          1976,
          1979,
          1980,
          1981,
          1982,
          1983,
          1985,
          1987,
          1989,
          1992,
          1993,
          1994,
          1995,
          1996,
          1997,
          2000,
          2002,
          2005,
          2008,
          2009,
          2013,
          2014,
          2015,
          2016,
          2017,
          2018,
          2019,
          2020
         ],
         "xaxis": "x",
         "y": [
          1.1430937313070122,
          0.5633996812300225,
          1.2860273612146969,
          0.87868006462122,
          1.3756902087323981,
          1.4800036253876916,
          0.7706908672944845,
          1.1320301770232246,
          0.20352290350656313,
          0.4682880185858244,
          0.0681803339832972,
          -0.014965227360593586,
          0.3272215471809322,
          0.7705068392499312,
          0.4218148328607716,
          0.18298849774848178,
          0.19400970156342584,
          0.17567714792827527,
          0.3198111986392794,
          0.41440924806496143,
          4.960027107081275,
          0.11937650469746476,
          -0.0869870969594878,
          0.0036912579999542282,
          0.057900822209171504,
          0.09908396319960082,
          0.1844954664052425,
          0.2199728455119582,
          0.2880726613658747
         ],
         "yaxis": "y"
        },
        {
         "name": "dd_method_2_mean",
         "type": "scatter",
         "x": [
          1972,
          1976,
          1979,
          1980,
          1981,
          1982,
          1983,
          1985,
          1987,
          1989,
          1992,
          1993,
          1994,
          1995,
          1996,
          1997,
          2000,
          2002,
          2005,
          2008,
          2009,
          2013,
          2014,
          2015,
          2016,
          2017,
          2018,
          2019,
          2020
         ],
         "xaxis": "x",
         "y": [
          7.811313612398311,
          2.376930980626507,
          3.5898557418943704,
          1.9368081259702812,
          1.6462388990693777,
          3.1295762964828846,
          2.60362551863306,
          2.462319844585536,
          0.9838940882116443,
          0.9526131075090495,
          0.6796793778895642,
          0.29749012481536213,
          1.3564515459584863,
          3.476294807758202,
          2.194370671655762,
          1.0716832881309677,
          0.0003277832038417472,
          1.6102025349082372,
          0.10790987124211379,
          2.672170519408565,
          5.035287816827971,
          -4.447300457087572,
          -0.6106205417325143,
          6.474289504842764,
          3.4623504717151854,
          2.86641254774303,
          2.7628846210719034,
          2.534611616064506,
          3.4535814300709524
         ],
         "yaxis": "y"
        },
        {
         "name": "dd_method_3_mean",
         "type": "scatter",
         "x": [
          1972,
          1976,
          1979,
          1980,
          1981,
          1982,
          1983,
          1985,
          1987,
          1989,
          1992,
          1993,
          1994,
          1995,
          1996,
          1997,
          2000,
          2002,
          2005,
          2008,
          2009,
          2013,
          2014,
          2015,
          2016,
          2017,
          2018,
          2019,
          2020
         ],
         "xaxis": "x",
         "y": [
          12.383164244301915,
          6.592556347277294,
          9.27834190749083,
          4.011010935330808,
          5.641581603146554,
          11.474280908915516,
          5.850408677112843,
          10.405718765915118,
          1.8690654272243683,
          4.274982819041741,
          4.073838370945452,
          4.393968460243619,
          7.723218951253957,
          8.055599768946486,
          6.73138327125508,
          3.4629091236045624,
          7.177702651065628,
          5.961160166800633,
          10.065519366067504,
          8.002704703230577,
          21.247344823450003,
          8.374528278152006,
          2.4558155349708617,
          12.225125710057993,
          13.209151995119568,
          7.4884262967233015,
          9.371097517797367,
          4.8501507099576635,
          8.322232413081199
         ],
         "yaxis": "y"
        },
        {
         "name": "dd_method_3_mean",
         "type": "scatter",
         "x": [
          1972,
          1976,
          1979,
          1980,
          1981,
          1982,
          1983,
          1985,
          1987,
          1989,
          1992,
          1993,
          1994,
          1995,
          1996,
          1997,
          2000,
          2002,
          2005,
          2008,
          2009,
          2013,
          2014,
          2015,
          2016,
          2017,
          2018,
          2019,
          2020
         ],
         "xaxis": "x",
         "y": [
          12.383164244301915,
          6.592556347277294,
          9.27834190749083,
          4.011010935330808,
          5.641581603146554,
          11.474280908915516,
          5.850408677112843,
          10.405718765915118,
          1.8690654272243683,
          4.274982819041741,
          4.073838370945452,
          4.393968460243619,
          7.723218951253957,
          8.055599768946486,
          6.73138327125508,
          3.4629091236045624,
          7.177702651065628,
          5.961160166800633,
          10.065519366067504,
          8.002704703230577,
          21.247344823450003,
          8.374528278152006,
          2.4558155349708617,
          12.225125710057993,
          13.209151995119568,
          7.4884262967233015,
          9.371097517797367,
          4.8501507099576635,
          8.322232413081199
         ],
         "yaxis": "y"
        },
        {
         "name": "BAAFFM",
         "type": "scatter",
         "x": [
          1972,
          1976,
          1979,
          1980,
          1981,
          1982,
          1983,
          1985,
          1987,
          1989,
          1992,
          1993,
          1994,
          1995,
          1996,
          1997,
          2000,
          2002,
          2005,
          2008,
          2009,
          2013,
          2014,
          2015,
          2016,
          2017,
          2018,
          2019,
          2020
         ],
         "xaxis": "x",
         "y": [
          3.724166666666667,
          4.701666666666667,
          -0.5041666666666667,
          0.31249999999999994,
          -0.3341666666666668,
          3.855,
          4.4675,
          4.614166666666667,
          3.918333333333333,
          0.9608333333333334,
          5.454999999999999,
          4.9075,
          4.4208333333333325,
          2.3641666666666663,
          2.7558333333333334,
          2.4025000000000003,
          2.1283333333333334,
          6.134999999999999,
          2.8508333333333327,
          5.519166666666667,
          7.135833333333334,
          4.994166666666667,
          4.765,
          4.866666666666667,
          4.322499999999999,
          3.438333333333334,
          2.9683333333333333,
          2.2175,
          3.2291666666666665
         ],
         "yaxis": "y2"
        }
       ],
       "layout": {
        "barmode": "relative",
        "showlegend": true,
        "template": {
         "data": {
          "bar": [
           {
            "error_x": {
             "color": "#2a3f5f"
            },
            "error_y": {
             "color": "#2a3f5f"
            },
            "marker": {
             "line": {
              "color": "#E5ECF6",
              "width": 0.5
             },
             "pattern": {
              "fillmode": "overlay",
              "size": 10,
              "solidity": 0.2
             }
            },
            "type": "bar"
           }
          ],
          "barpolar": [
           {
            "marker": {
             "line": {
              "color": "#E5ECF6",
              "width": 0.5
             },
             "pattern": {
              "fillmode": "overlay",
              "size": 10,
              "solidity": 0.2
             }
            },
            "type": "barpolar"
           }
          ],
          "carpet": [
           {
            "aaxis": {
             "endlinecolor": "#2a3f5f",
             "gridcolor": "white",
             "linecolor": "white",
             "minorgridcolor": "white",
             "startlinecolor": "#2a3f5f"
            },
            "baxis": {
             "endlinecolor": "#2a3f5f",
             "gridcolor": "white",
             "linecolor": "white",
             "minorgridcolor": "white",
             "startlinecolor": "#2a3f5f"
            },
            "type": "carpet"
           }
          ],
          "choropleth": [
           {
            "colorbar": {
             "outlinewidth": 0,
             "ticks": ""
            },
            "type": "choropleth"
           }
          ],
          "contour": [
           {
            "colorbar": {
             "outlinewidth": 0,
             "ticks": ""
            },
            "colorscale": [
             [
              0,
              "#0d0887"
             ],
             [
              0.1111111111111111,
              "#46039f"
             ],
             [
              0.2222222222222222,
              "#7201a8"
             ],
             [
              0.3333333333333333,
              "#9c179e"
             ],
             [
              0.4444444444444444,
              "#bd3786"
             ],
             [
              0.5555555555555556,
              "#d8576b"
             ],
             [
              0.6666666666666666,
              "#ed7953"
             ],
             [
              0.7777777777777778,
              "#fb9f3a"
             ],
             [
              0.8888888888888888,
              "#fdca26"
             ],
             [
              1,
              "#f0f921"
             ]
            ],
            "type": "contour"
           }
          ],
          "contourcarpet": [
           {
            "colorbar": {
             "outlinewidth": 0,
             "ticks": ""
            },
            "type": "contourcarpet"
           }
          ],
          "heatmap": [
           {
            "colorbar": {
             "outlinewidth": 0,
             "ticks": ""
            },
            "colorscale": [
             [
              0,
              "#0d0887"
             ],
             [
              0.1111111111111111,
              "#46039f"
             ],
             [
              0.2222222222222222,
              "#7201a8"
             ],
             [
              0.3333333333333333,
              "#9c179e"
             ],
             [
              0.4444444444444444,
              "#bd3786"
             ],
             [
              0.5555555555555556,
              "#d8576b"
             ],
             [
              0.6666666666666666,
              "#ed7953"
             ],
             [
              0.7777777777777778,
              "#fb9f3a"
             ],
             [
              0.8888888888888888,
              "#fdca26"
             ],
             [
              1,
              "#f0f921"
             ]
            ],
            "type": "heatmap"
           }
          ],
          "heatmapgl": [
           {
            "colorbar": {
             "outlinewidth": 0,
             "ticks": ""
            },
            "colorscale": [
             [
              0,
              "#0d0887"
             ],
             [
              0.1111111111111111,
              "#46039f"
             ],
             [
              0.2222222222222222,
              "#7201a8"
             ],
             [
              0.3333333333333333,
              "#9c179e"
             ],
             [
              0.4444444444444444,
              "#bd3786"
             ],
             [
              0.5555555555555556,
              "#d8576b"
             ],
             [
              0.6666666666666666,
              "#ed7953"
             ],
             [
              0.7777777777777778,
              "#fb9f3a"
             ],
             [
              0.8888888888888888,
              "#fdca26"
             ],
             [
              1,
              "#f0f921"
             ]
            ],
            "type": "heatmapgl"
           }
          ],
          "histogram": [
           {
            "marker": {
             "pattern": {
              "fillmode": "overlay",
              "size": 10,
              "solidity": 0.2
             }
            },
            "type": "histogram"
           }
          ],
          "histogram2d": [
           {
            "colorbar": {
             "outlinewidth": 0,
             "ticks": ""
            },
            "colorscale": [
             [
              0,
              "#0d0887"
             ],
             [
              0.1111111111111111,
              "#46039f"
             ],
             [
              0.2222222222222222,
              "#7201a8"
             ],
             [
              0.3333333333333333,
              "#9c179e"
             ],
             [
              0.4444444444444444,
              "#bd3786"
             ],
             [
              0.5555555555555556,
              "#d8576b"
             ],
             [
              0.6666666666666666,
              "#ed7953"
             ],
             [
              0.7777777777777778,
              "#fb9f3a"
             ],
             [
              0.8888888888888888,
              "#fdca26"
             ],
             [
              1,
              "#f0f921"
             ]
            ],
            "type": "histogram2d"
           }
          ],
          "histogram2dcontour": [
           {
            "colorbar": {
             "outlinewidth": 0,
             "ticks": ""
            },
            "colorscale": [
             [
              0,
              "#0d0887"
             ],
             [
              0.1111111111111111,
              "#46039f"
             ],
             [
              0.2222222222222222,
              "#7201a8"
             ],
             [
              0.3333333333333333,
              "#9c179e"
             ],
             [
              0.4444444444444444,
              "#bd3786"
             ],
             [
              0.5555555555555556,
              "#d8576b"
             ],
             [
              0.6666666666666666,
              "#ed7953"
             ],
             [
              0.7777777777777778,
              "#fb9f3a"
             ],
             [
              0.8888888888888888,
              "#fdca26"
             ],
             [
              1,
              "#f0f921"
             ]
            ],
            "type": "histogram2dcontour"
           }
          ],
          "mesh3d": [
           {
            "colorbar": {
             "outlinewidth": 0,
             "ticks": ""
            },
            "type": "mesh3d"
           }
          ],
          "parcoords": [
           {
            "line": {
             "colorbar": {
              "outlinewidth": 0,
              "ticks": ""
             }
            },
            "type": "parcoords"
           }
          ],
          "pie": [
           {
            "automargin": true,
            "type": "pie"
           }
          ],
          "scatter": [
           {
            "marker": {
             "colorbar": {
              "outlinewidth": 0,
              "ticks": ""
             }
            },
            "type": "scatter"
           }
          ],
          "scatter3d": [
           {
            "line": {
             "colorbar": {
              "outlinewidth": 0,
              "ticks": ""
             }
            },
            "marker": {
             "colorbar": {
              "outlinewidth": 0,
              "ticks": ""
             }
            },
            "type": "scatter3d"
           }
          ],
          "scattercarpet": [
           {
            "marker": {
             "colorbar": {
              "outlinewidth": 0,
              "ticks": ""
             }
            },
            "type": "scattercarpet"
           }
          ],
          "scattergeo": [
           {
            "marker": {
             "colorbar": {
              "outlinewidth": 0,
              "ticks": ""
             }
            },
            "type": "scattergeo"
           }
          ],
          "scattergl": [
           {
            "marker": {
             "colorbar": {
              "outlinewidth": 0,
              "ticks": ""
             }
            },
            "type": "scattergl"
           }
          ],
          "scattermapbox": [
           {
            "marker": {
             "colorbar": {
              "outlinewidth": 0,
              "ticks": ""
             }
            },
            "type": "scattermapbox"
           }
          ],
          "scatterpolar": [
           {
            "marker": {
             "colorbar": {
              "outlinewidth": 0,
              "ticks": ""
             }
            },
            "type": "scatterpolar"
           }
          ],
          "scatterpolargl": [
           {
            "marker": {
             "colorbar": {
              "outlinewidth": 0,
              "ticks": ""
             }
            },
            "type": "scatterpolargl"
           }
          ],
          "scatterternary": [
           {
            "marker": {
             "colorbar": {
              "outlinewidth": 0,
              "ticks": ""
             }
            },
            "type": "scatterternary"
           }
          ],
          "surface": [
           {
            "colorbar": {
             "outlinewidth": 0,
             "ticks": ""
            },
            "colorscale": [
             [
              0,
              "#0d0887"
             ],
             [
              0.1111111111111111,
              "#46039f"
             ],
             [
              0.2222222222222222,
              "#7201a8"
             ],
             [
              0.3333333333333333,
              "#9c179e"
             ],
             [
              0.4444444444444444,
              "#bd3786"
             ],
             [
              0.5555555555555556,
              "#d8576b"
             ],
             [
              0.6666666666666666,
              "#ed7953"
             ],
             [
              0.7777777777777778,
              "#fb9f3a"
             ],
             [
              0.8888888888888888,
              "#fdca26"
             ],
             [
              1,
              "#f0f921"
             ]
            ],
            "type": "surface"
           }
          ],
          "table": [
           {
            "cells": {
             "fill": {
              "color": "#EBF0F8"
             },
             "line": {
              "color": "white"
             }
            },
            "header": {
             "fill": {
              "color": "#C8D4E3"
             },
             "line": {
              "color": "white"
             }
            },
            "type": "table"
           }
          ]
         },
         "layout": {
          "annotationdefaults": {
           "arrowcolor": "#2a3f5f",
           "arrowhead": 0,
           "arrowwidth": 1
          },
          "autotypenumbers": "strict",
          "coloraxis": {
           "colorbar": {
            "outlinewidth": 0,
            "ticks": ""
           }
          },
          "colorscale": {
           "diverging": [
            [
             0,
             "#8e0152"
            ],
            [
             0.1,
             "#c51b7d"
            ],
            [
             0.2,
             "#de77ae"
            ],
            [
             0.3,
             "#f1b6da"
            ],
            [
             0.4,
             "#fde0ef"
            ],
            [
             0.5,
             "#f7f7f7"
            ],
            [
             0.6,
             "#e6f5d0"
            ],
            [
             0.7,
             "#b8e186"
            ],
            [
             0.8,
             "#7fbc41"
            ],
            [
             0.9,
             "#4d9221"
            ],
            [
             1,
             "#276419"
            ]
           ],
           "sequential": [
            [
             0,
             "#0d0887"
            ],
            [
             0.1111111111111111,
             "#46039f"
            ],
            [
             0.2222222222222222,
             "#7201a8"
            ],
            [
             0.3333333333333333,
             "#9c179e"
            ],
            [
             0.4444444444444444,
             "#bd3786"
            ],
            [
             0.5555555555555556,
             "#d8576b"
            ],
            [
             0.6666666666666666,
             "#ed7953"
            ],
            [
             0.7777777777777778,
             "#fb9f3a"
            ],
            [
             0.8888888888888888,
             "#fdca26"
            ],
            [
             1,
             "#f0f921"
            ]
           ],
           "sequentialminus": [
            [
             0,
             "#0d0887"
            ],
            [
             0.1111111111111111,
             "#46039f"
            ],
            [
             0.2222222222222222,
             "#7201a8"
            ],
            [
             0.3333333333333333,
             "#9c179e"
            ],
            [
             0.4444444444444444,
             "#bd3786"
            ],
            [
             0.5555555555555556,
             "#d8576b"
            ],
            [
             0.6666666666666666,
             "#ed7953"
            ],
            [
             0.7777777777777778,
             "#fb9f3a"
            ],
            [
             0.8888888888888888,
             "#fdca26"
            ],
            [
             1,
             "#f0f921"
            ]
           ]
          },
          "colorway": [
           "#636efa",
           "#EF553B",
           "#00cc96",
           "#ab63fa",
           "#FFA15A",
           "#19d3f3",
           "#FF6692",
           "#B6E880",
           "#FF97FF",
           "#FECB52"
          ],
          "font": {
           "color": "#2a3f5f"
          },
          "geo": {
           "bgcolor": "white",
           "lakecolor": "white",
           "landcolor": "#E5ECF6",
           "showlakes": true,
           "showland": true,
           "subunitcolor": "white"
          },
          "hoverlabel": {
           "align": "left"
          },
          "hovermode": "closest",
          "mapbox": {
           "style": "light"
          },
          "paper_bgcolor": "white",
          "plot_bgcolor": "#E5ECF6",
          "polar": {
           "angularaxis": {
            "gridcolor": "white",
            "linecolor": "white",
            "ticks": ""
           },
           "bgcolor": "#E5ECF6",
           "radialaxis": {
            "gridcolor": "white",
            "linecolor": "white",
            "ticks": ""
           }
          },
          "scene": {
           "xaxis": {
            "backgroundcolor": "#E5ECF6",
            "gridcolor": "white",
            "gridwidth": 2,
            "linecolor": "white",
            "showbackground": true,
            "ticks": "",
            "zerolinecolor": "white"
           },
           "yaxis": {
            "backgroundcolor": "#E5ECF6",
            "gridcolor": "white",
            "gridwidth": 2,
            "linecolor": "white",
            "showbackground": true,
            "ticks": "",
            "zerolinecolor": "white"
           },
           "zaxis": {
            "backgroundcolor": "#E5ECF6",
            "gridcolor": "white",
            "gridwidth": 2,
            "linecolor": "white",
            "showbackground": true,
            "ticks": "",
            "zerolinecolor": "white"
           }
          },
          "shapedefaults": {
           "line": {
            "color": "#2a3f5f"
           }
          },
          "ternary": {
           "aaxis": {
            "gridcolor": "white",
            "linecolor": "white",
            "ticks": ""
           },
           "baxis": {
            "gridcolor": "white",
            "linecolor": "white",
            "ticks": ""
           },
           "bgcolor": "#E5ECF6",
           "caxis": {
            "gridcolor": "white",
            "linecolor": "white",
            "ticks": ""
           }
          },
          "title": {
           "x": 0.05
          },
          "xaxis": {
           "automargin": true,
           "gridcolor": "white",
           "linecolor": "white",
           "ticks": "",
           "title": {
            "standoff": 15
           },
           "zerolinecolor": "white",
           "zerolinewidth": 2
          },
          "yaxis": {
           "automargin": true,
           "gridcolor": "white",
           "linecolor": "white",
           "ticks": "",
           "title": {
            "standoff": 15
           },
           "zerolinecolor": "white",
           "zerolinewidth": 2
          }
         }
        },
        "title": {
         "text": "Title:Distance to default all methods vs BAAFFM"
        },
        "xaxis": {
         "anchor": "y",
         "domain": [
          0,
          0.94
         ]
        },
        "yaxis": {
         "anchor": "x",
         "domain": [
          0,
          1
         ],
         "title": {
          "text": "DD in Years"
         }
        },
        "yaxis2": {
         "anchor": "x",
         "overlaying": "y",
         "side": "right",
         "title": {
          "text": "Economic Indicator in %"
         }
        }
       }
      },
      "text/html": [
       "<div>                            <div id=\"0d78c883-5a42-416a-b498-6422e365589d\" class=\"plotly-graph-div\" style=\"height:525px; width:100%;\"></div>            <script type=\"text/javascript\">                require([\"plotly\"], function(Plotly) {                    window.PLOTLYENV=window.PLOTLYENV || {};                                    if (document.getElementById(\"0d78c883-5a42-416a-b498-6422e365589d\")) {                    Plotly.newPlot(                        \"0d78c883-5a42-416a-b498-6422e365589d\",                        [{\"name\":\"dd_naive_0.05_0.25_mean\",\"x\":[1972.0,1976.0,1979.0,1980.0,1981.0,1982.0,1983.0,1985.0,1987.0,1989.0,1992.0,1993.0,1994.0,1995.0,1996.0,1997.0,2000.0,2002.0,2005.0,2008.0,2009.0,2013.0,2014.0,2015.0,2016.0,2017.0,2018.0,2019.0,2020.0],\"y\":[0.41259374045453373,0.34839352704302756,0.7132707275878187,0.5888423754707046,0.861787826776933,0.9059330256078865,0.466650602182053,0.837438215958134,0.1183395428678647,0.34915644495783854,0.007739311885611356,-0.05954305346678682,0.15771584190412288,0.419142416771671,0.25201325358450527,0.10026814102381731,0.10194710492151174,0.09070828992746867,0.14259466812113625,0.2343130338939268,4.93473470220759,0.039255109609355014,-0.11311407603186494,-0.03427684640156784,-0.010522876674839818,0.02364402953015277,0.07079561692732737,0.08513748419695079,0.11177086321365572],\"type\":\"scatter\",\"xaxis\":\"x\",\"yaxis\":\"y\"},{\"name\":\"dd_naive_0.05_0.5_mean\",\"x\":[1972.0,1976.0,1979.0,1980.0,1981.0,1982.0,1983.0,1985.0,1987.0,1989.0,1992.0,1993.0,1994.0,1995.0,1996.0,1997.0,2000.0,2002.0,2005.0,2008.0,2009.0,2013.0,2014.0,2015.0,2016.0,2017.0,2018.0,2019.0,2020.0],\"y\":[0.2693702806223014,0.12876310813049238,0.3951350990789913,0.2465105988674882,0.4415132329754232,0.5079966268006993,0.2059175466571011,0.5006591877798336,-0.08570509988099503,0.057031347880098684,-0.17651566728059476,-0.24355902849558822,-0.06918405424329799,0.20625584769770763,0.06093692239426439,-0.08976644807951809,-0.2007661624750272,-0.06011026898867606,0.037211315167037816,0.06922625933421003,4.861713112595868,-0.05207062153046787,-0.20716280217977576,-0.05662810925700155,-0.051326136037847914,-0.05996643101706078,-0.04212843721820881,-0.04769700928610063,0.025721437745115826],\"type\":\"scatter\",\"xaxis\":\"x\",\"yaxis\":\"y\"},{\"name\":\"dd_naive_0_0.25_mean\",\"x\":[1972.0,1976.0,1979.0,1980.0,1981.0,1982.0,1983.0,1985.0,1987.0,1989.0,1992.0,1993.0,1994.0,1995.0,1996.0,1997.0,2000.0,2002.0,2005.0,2008.0,2009.0,2013.0,2014.0,2015.0,2016.0,2017.0,2018.0,2019.0,2020.0],\"y\":[1.1430937313070122,0.5633996812300225,1.2860273612146969,0.87868006462122,1.3756902087323981,1.4800036253876916,0.7706908672944845,1.1320301770232246,0.20352290350656313,0.4682880185858244,0.0681803339832972,-0.014965227360593586,0.3272215471809322,0.7705068392499312,0.4218148328607716,0.18298849774848178,0.19400970156342584,0.17567714792827527,0.3198111986392794,0.41440924806496143,4.960027107081275,0.11937650469746476,-0.0869870969594878,0.0036912579999542282,0.057900822209171504,0.09908396319960082,0.1844954664052425,0.2199728455119582,0.2880726613658747],\"type\":\"scatter\",\"xaxis\":\"x\",\"yaxis\":\"y\"},{\"name\":\"dd_method_2_mean\",\"x\":[1972.0,1976.0,1979.0,1980.0,1981.0,1982.0,1983.0,1985.0,1987.0,1989.0,1992.0,1993.0,1994.0,1995.0,1996.0,1997.0,2000.0,2002.0,2005.0,2008.0,2009.0,2013.0,2014.0,2015.0,2016.0,2017.0,2018.0,2019.0,2020.0],\"y\":[7.811313612398311,2.376930980626507,3.5898557418943704,1.9368081259702812,1.6462388990693777,3.1295762964828846,2.60362551863306,2.462319844585536,0.9838940882116443,0.9526131075090495,0.6796793778895642,0.29749012481536213,1.3564515459584863,3.476294807758202,2.194370671655762,1.0716832881309677,0.0003277832038417472,1.6102025349082372,0.10790987124211379,2.672170519408565,5.035287816827971,-4.447300457087572,-0.6106205417325143,6.474289504842764,3.4623504717151854,2.86641254774303,2.7628846210719034,2.534611616064506,3.4535814300709524],\"type\":\"scatter\",\"xaxis\":\"x\",\"yaxis\":\"y\"},{\"name\":\"dd_method_3_mean\",\"x\":[1972.0,1976.0,1979.0,1980.0,1981.0,1982.0,1983.0,1985.0,1987.0,1989.0,1992.0,1993.0,1994.0,1995.0,1996.0,1997.0,2000.0,2002.0,2005.0,2008.0,2009.0,2013.0,2014.0,2015.0,2016.0,2017.0,2018.0,2019.0,2020.0],\"y\":[12.383164244301915,6.592556347277294,9.27834190749083,4.011010935330808,5.641581603146554,11.474280908915516,5.850408677112843,10.405718765915118,1.8690654272243683,4.274982819041741,4.073838370945452,4.393968460243619,7.723218951253957,8.055599768946486,6.73138327125508,3.4629091236045624,7.177702651065628,5.961160166800633,10.065519366067504,8.002704703230577,21.247344823450003,8.374528278152006,2.4558155349708617,12.225125710057993,13.209151995119568,7.4884262967233015,9.371097517797367,4.8501507099576635,8.322232413081199],\"type\":\"scatter\",\"xaxis\":\"x\",\"yaxis\":\"y\"},{\"name\":\"dd_method_3_mean\",\"x\":[1972.0,1976.0,1979.0,1980.0,1981.0,1982.0,1983.0,1985.0,1987.0,1989.0,1992.0,1993.0,1994.0,1995.0,1996.0,1997.0,2000.0,2002.0,2005.0,2008.0,2009.0,2013.0,2014.0,2015.0,2016.0,2017.0,2018.0,2019.0,2020.0],\"y\":[12.383164244301915,6.592556347277294,9.27834190749083,4.011010935330808,5.641581603146554,11.474280908915516,5.850408677112843,10.405718765915118,1.8690654272243683,4.274982819041741,4.073838370945452,4.393968460243619,7.723218951253957,8.055599768946486,6.73138327125508,3.4629091236045624,7.177702651065628,5.961160166800633,10.065519366067504,8.002704703230577,21.247344823450003,8.374528278152006,2.4558155349708617,12.225125710057993,13.209151995119568,7.4884262967233015,9.371097517797367,4.8501507099576635,8.322232413081199],\"type\":\"scatter\",\"xaxis\":\"x\",\"yaxis\":\"y\"},{\"name\":\"BAAFFM\",\"x\":[1972.0,1976.0,1979.0,1980.0,1981.0,1982.0,1983.0,1985.0,1987.0,1989.0,1992.0,1993.0,1994.0,1995.0,1996.0,1997.0,2000.0,2002.0,2005.0,2008.0,2009.0,2013.0,2014.0,2015.0,2016.0,2017.0,2018.0,2019.0,2020.0],\"y\":[3.724166666666667,4.701666666666667,-0.5041666666666667,0.31249999999999994,-0.3341666666666668,3.855,4.4675,4.614166666666667,3.918333333333333,0.9608333333333334,5.454999999999999,4.9075,4.4208333333333325,2.3641666666666663,2.7558333333333334,2.4025000000000003,2.1283333333333334,6.134999999999999,2.8508333333333327,5.519166666666667,7.135833333333334,4.994166666666667,4.765,4.866666666666667,4.322499999999999,3.438333333333334,2.9683333333333333,2.2175,3.2291666666666665],\"type\":\"scatter\",\"xaxis\":\"x\",\"yaxis\":\"y2\"}],                        {\"template\":{\"data\":{\"bar\":[{\"error_x\":{\"color\":\"#2a3f5f\"},\"error_y\":{\"color\":\"#2a3f5f\"},\"marker\":{\"line\":{\"color\":\"#E5ECF6\",\"width\":0.5},\"pattern\":{\"fillmode\":\"overlay\",\"size\":10,\"solidity\":0.2}},\"type\":\"bar\"}],\"barpolar\":[{\"marker\":{\"line\":{\"color\":\"#E5ECF6\",\"width\":0.5},\"pattern\":{\"fillmode\":\"overlay\",\"size\":10,\"solidity\":0.2}},\"type\":\"barpolar\"}],\"carpet\":[{\"aaxis\":{\"endlinecolor\":\"#2a3f5f\",\"gridcolor\":\"white\",\"linecolor\":\"white\",\"minorgridcolor\":\"white\",\"startlinecolor\":\"#2a3f5f\"},\"baxis\":{\"endlinecolor\":\"#2a3f5f\",\"gridcolor\":\"white\",\"linecolor\":\"white\",\"minorgridcolor\":\"white\",\"startlinecolor\":\"#2a3f5f\"},\"type\":\"carpet\"}],\"choropleth\":[{\"colorbar\":{\"outlinewidth\":0,\"ticks\":\"\"},\"type\":\"choropleth\"}],\"contour\":[{\"colorbar\":{\"outlinewidth\":0,\"ticks\":\"\"},\"colorscale\":[[0.0,\"#0d0887\"],[0.1111111111111111,\"#46039f\"],[0.2222222222222222,\"#7201a8\"],[0.3333333333333333,\"#9c179e\"],[0.4444444444444444,\"#bd3786\"],[0.5555555555555556,\"#d8576b\"],[0.6666666666666666,\"#ed7953\"],[0.7777777777777778,\"#fb9f3a\"],[0.8888888888888888,\"#fdca26\"],[1.0,\"#f0f921\"]],\"type\":\"contour\"}],\"contourcarpet\":[{\"colorbar\":{\"outlinewidth\":0,\"ticks\":\"\"},\"type\":\"contourcarpet\"}],\"heatmap\":[{\"colorbar\":{\"outlinewidth\":0,\"ticks\":\"\"},\"colorscale\":[[0.0,\"#0d0887\"],[0.1111111111111111,\"#46039f\"],[0.2222222222222222,\"#7201a8\"],[0.3333333333333333,\"#9c179e\"],[0.4444444444444444,\"#bd3786\"],[0.5555555555555556,\"#d8576b\"],[0.6666666666666666,\"#ed7953\"],[0.7777777777777778,\"#fb9f3a\"],[0.8888888888888888,\"#fdca26\"],[1.0,\"#f0f921\"]],\"type\":\"heatmap\"}],\"heatmapgl\":[{\"colorbar\":{\"outlinewidth\":0,\"ticks\":\"\"},\"colorscale\":[[0.0,\"#0d0887\"],[0.1111111111111111,\"#46039f\"],[0.2222222222222222,\"#7201a8\"],[0.3333333333333333,\"#9c179e\"],[0.4444444444444444,\"#bd3786\"],[0.5555555555555556,\"#d8576b\"],[0.6666666666666666,\"#ed7953\"],[0.7777777777777778,\"#fb9f3a\"],[0.8888888888888888,\"#fdca26\"],[1.0,\"#f0f921\"]],\"type\":\"heatmapgl\"}],\"histogram\":[{\"marker\":{\"pattern\":{\"fillmode\":\"overlay\",\"size\":10,\"solidity\":0.2}},\"type\":\"histogram\"}],\"histogram2d\":[{\"colorbar\":{\"outlinewidth\":0,\"ticks\":\"\"},\"colorscale\":[[0.0,\"#0d0887\"],[0.1111111111111111,\"#46039f\"],[0.2222222222222222,\"#7201a8\"],[0.3333333333333333,\"#9c179e\"],[0.4444444444444444,\"#bd3786\"],[0.5555555555555556,\"#d8576b\"],[0.6666666666666666,\"#ed7953\"],[0.7777777777777778,\"#fb9f3a\"],[0.8888888888888888,\"#fdca26\"],[1.0,\"#f0f921\"]],\"type\":\"histogram2d\"}],\"histogram2dcontour\":[{\"colorbar\":{\"outlinewidth\":0,\"ticks\":\"\"},\"colorscale\":[[0.0,\"#0d0887\"],[0.1111111111111111,\"#46039f\"],[0.2222222222222222,\"#7201a8\"],[0.3333333333333333,\"#9c179e\"],[0.4444444444444444,\"#bd3786\"],[0.5555555555555556,\"#d8576b\"],[0.6666666666666666,\"#ed7953\"],[0.7777777777777778,\"#fb9f3a\"],[0.8888888888888888,\"#fdca26\"],[1.0,\"#f0f921\"]],\"type\":\"histogram2dcontour\"}],\"mesh3d\":[{\"colorbar\":{\"outlinewidth\":0,\"ticks\":\"\"},\"type\":\"mesh3d\"}],\"parcoords\":[{\"line\":{\"colorbar\":{\"outlinewidth\":0,\"ticks\":\"\"}},\"type\":\"parcoords\"}],\"pie\":[{\"automargin\":true,\"type\":\"pie\"}],\"scatter\":[{\"marker\":{\"colorbar\":{\"outlinewidth\":0,\"ticks\":\"\"}},\"type\":\"scatter\"}],\"scatter3d\":[{\"line\":{\"colorbar\":{\"outlinewidth\":0,\"ticks\":\"\"}},\"marker\":{\"colorbar\":{\"outlinewidth\":0,\"ticks\":\"\"}},\"type\":\"scatter3d\"}],\"scattercarpet\":[{\"marker\":{\"colorbar\":{\"outlinewidth\":0,\"ticks\":\"\"}},\"type\":\"scattercarpet\"}],\"scattergeo\":[{\"marker\":{\"colorbar\":{\"outlinewidth\":0,\"ticks\":\"\"}},\"type\":\"scattergeo\"}],\"scattergl\":[{\"marker\":{\"colorbar\":{\"outlinewidth\":0,\"ticks\":\"\"}},\"type\":\"scattergl\"}],\"scattermapbox\":[{\"marker\":{\"colorbar\":{\"outlinewidth\":0,\"ticks\":\"\"}},\"type\":\"scattermapbox\"}],\"scatterpolar\":[{\"marker\":{\"colorbar\":{\"outlinewidth\":0,\"ticks\":\"\"}},\"type\":\"scatterpolar\"}],\"scatterpolargl\":[{\"marker\":{\"colorbar\":{\"outlinewidth\":0,\"ticks\":\"\"}},\"type\":\"scatterpolargl\"}],\"scatterternary\":[{\"marker\":{\"colorbar\":{\"outlinewidth\":0,\"ticks\":\"\"}},\"type\":\"scatterternary\"}],\"surface\":[{\"colorbar\":{\"outlinewidth\":0,\"ticks\":\"\"},\"colorscale\":[[0.0,\"#0d0887\"],[0.1111111111111111,\"#46039f\"],[0.2222222222222222,\"#7201a8\"],[0.3333333333333333,\"#9c179e\"],[0.4444444444444444,\"#bd3786\"],[0.5555555555555556,\"#d8576b\"],[0.6666666666666666,\"#ed7953\"],[0.7777777777777778,\"#fb9f3a\"],[0.8888888888888888,\"#fdca26\"],[1.0,\"#f0f921\"]],\"type\":\"surface\"}],\"table\":[{\"cells\":{\"fill\":{\"color\":\"#EBF0F8\"},\"line\":{\"color\":\"white\"}},\"header\":{\"fill\":{\"color\":\"#C8D4E3\"},\"line\":{\"color\":\"white\"}},\"type\":\"table\"}]},\"layout\":{\"annotationdefaults\":{\"arrowcolor\":\"#2a3f5f\",\"arrowhead\":0,\"arrowwidth\":1},\"autotypenumbers\":\"strict\",\"coloraxis\":{\"colorbar\":{\"outlinewidth\":0,\"ticks\":\"\"}},\"colorscale\":{\"diverging\":[[0,\"#8e0152\"],[0.1,\"#c51b7d\"],[0.2,\"#de77ae\"],[0.3,\"#f1b6da\"],[0.4,\"#fde0ef\"],[0.5,\"#f7f7f7\"],[0.6,\"#e6f5d0\"],[0.7,\"#b8e186\"],[0.8,\"#7fbc41\"],[0.9,\"#4d9221\"],[1,\"#276419\"]],\"sequential\":[[0.0,\"#0d0887\"],[0.1111111111111111,\"#46039f\"],[0.2222222222222222,\"#7201a8\"],[0.3333333333333333,\"#9c179e\"],[0.4444444444444444,\"#bd3786\"],[0.5555555555555556,\"#d8576b\"],[0.6666666666666666,\"#ed7953\"],[0.7777777777777778,\"#fb9f3a\"],[0.8888888888888888,\"#fdca26\"],[1.0,\"#f0f921\"]],\"sequentialminus\":[[0.0,\"#0d0887\"],[0.1111111111111111,\"#46039f\"],[0.2222222222222222,\"#7201a8\"],[0.3333333333333333,\"#9c179e\"],[0.4444444444444444,\"#bd3786\"],[0.5555555555555556,\"#d8576b\"],[0.6666666666666666,\"#ed7953\"],[0.7777777777777778,\"#fb9f3a\"],[0.8888888888888888,\"#fdca26\"],[1.0,\"#f0f921\"]]},\"colorway\":[\"#636efa\",\"#EF553B\",\"#00cc96\",\"#ab63fa\",\"#FFA15A\",\"#19d3f3\",\"#FF6692\",\"#B6E880\",\"#FF97FF\",\"#FECB52\"],\"font\":{\"color\":\"#2a3f5f\"},\"geo\":{\"bgcolor\":\"white\",\"lakecolor\":\"white\",\"landcolor\":\"#E5ECF6\",\"showlakes\":true,\"showland\":true,\"subunitcolor\":\"white\"},\"hoverlabel\":{\"align\":\"left\"},\"hovermode\":\"closest\",\"mapbox\":{\"style\":\"light\"},\"paper_bgcolor\":\"white\",\"plot_bgcolor\":\"#E5ECF6\",\"polar\":{\"angularaxis\":{\"gridcolor\":\"white\",\"linecolor\":\"white\",\"ticks\":\"\"},\"bgcolor\":\"#E5ECF6\",\"radialaxis\":{\"gridcolor\":\"white\",\"linecolor\":\"white\",\"ticks\":\"\"}},\"scene\":{\"xaxis\":{\"backgroundcolor\":\"#E5ECF6\",\"gridcolor\":\"white\",\"gridwidth\":2,\"linecolor\":\"white\",\"showbackground\":true,\"ticks\":\"\",\"zerolinecolor\":\"white\"},\"yaxis\":{\"backgroundcolor\":\"#E5ECF6\",\"gridcolor\":\"white\",\"gridwidth\":2,\"linecolor\":\"white\",\"showbackground\":true,\"ticks\":\"\",\"zerolinecolor\":\"white\"},\"zaxis\":{\"backgroundcolor\":\"#E5ECF6\",\"gridcolor\":\"white\",\"gridwidth\":2,\"linecolor\":\"white\",\"showbackground\":true,\"ticks\":\"\",\"zerolinecolor\":\"white\"}},\"shapedefaults\":{\"line\":{\"color\":\"#2a3f5f\"}},\"ternary\":{\"aaxis\":{\"gridcolor\":\"white\",\"linecolor\":\"white\",\"ticks\":\"\"},\"baxis\":{\"gridcolor\":\"white\",\"linecolor\":\"white\",\"ticks\":\"\"},\"bgcolor\":\"#E5ECF6\",\"caxis\":{\"gridcolor\":\"white\",\"linecolor\":\"white\",\"ticks\":\"\"}},\"title\":{\"x\":0.05},\"xaxis\":{\"automargin\":true,\"gridcolor\":\"white\",\"linecolor\":\"white\",\"ticks\":\"\",\"title\":{\"standoff\":15},\"zerolinecolor\":\"white\",\"zerolinewidth\":2},\"yaxis\":{\"automargin\":true,\"gridcolor\":\"white\",\"linecolor\":\"white\",\"ticks\":\"\",\"title\":{\"standoff\":15},\"zerolinecolor\":\"white\",\"zerolinewidth\":2}}},\"xaxis\":{\"anchor\":\"y\",\"domain\":[0.0,0.94]},\"yaxis\":{\"anchor\":\"x\",\"domain\":[0.0,1.0],\"title\":{\"text\":\"DD in Years\"}},\"yaxis2\":{\"anchor\":\"x\",\"overlaying\":\"y\",\"side\":\"right\",\"title\":{\"text\":\"Economic Indicator in %\"}},\"title\":{\"text\":\"Title:Distance to default all methods vs BAAFFM\"},\"barmode\":\"relative\",\"showlegend\":true},                        {\"responsive\": true}                    ).then(function(){\n",
       "                            \n",
       "var gd = document.getElementById('0d78c883-5a42-416a-b498-6422e365589d');\n",
       "var x = new MutationObserver(function (mutations, observer) {{\n",
       "        var display = window.getComputedStyle(gd).display;\n",
       "        if (!display || display === 'none') {{\n",
       "            console.log([gd, 'removed!']);\n",
       "            Plotly.purge(gd);\n",
       "            observer.disconnect();\n",
       "        }}\n",
       "}});\n",
       "\n",
       "// Listen for the removal of the full notebook cells\n",
       "var notebookContainer = gd.closest('#notebook-container');\n",
       "if (notebookContainer) {{\n",
       "    x.observe(notebookContainer, {childList: true});\n",
       "}}\n",
       "\n",
       "// Listen for the clearing of the current output cell\n",
       "var outputEl = gd.closest('.output');\n",
       "if (outputEl) {{\n",
       "    x.observe(outputEl, {childList: true});\n",
       "}}\n",
       "\n",
       "                        })                };                });            </script>        </div>"
      ]
     },
     "metadata": {},
     "output_type": "display_data"
    }
   ],
   "source": [
    "mean_all3_columns = [\"fyear\",\"dd_naive_0.05_0.25_mean\", \"dd_naive_0.05_0.5_mean\", \"dd_naive_0_0.25_mean\",\"dd_method_2_mean\",\"dd_method_3_mean\",\"dd_method_3_mean\"]\n",
    "mean_all3_methods = descriptive_stats_across_time_250[mean_all3_columns]\n",
    "plot_chart(mean_all3_methods,\"Distance to default all methods\",\"DD in Years\", \"fyear\")\n",
    "\n",
    "mean_plot_all3 = pd.merge(mean_all3_methods,fred_baaffm,on=\"fyear\",how=\"inner\")\n",
    "plot_chart_with_macro(mean_plot_all3,\"Distance to default all methods vs BAAFFM\",\"DD in Years\", \"fyear\")"
   ]
  },
  {
   "cell_type": "markdown",
   "metadata": {},
   "source": [
    "### Mean PD 2 methods vs BAAFM"
   ]
  },
  {
   "cell_type": "code",
   "execution_count": 219,
   "metadata": {},
   "outputs": [
    {
     "data": {
      "application/vnd.plotly.v1+json": {
       "config": {
        "plotlyServerURL": "https://plot.ly"
       },
       "data": [
        {
         "name": "pd_naive_0.05_0.25_mean",
         "type": "scatter",
         "x": [
          1971,
          1972,
          1973,
          1974,
          1975,
          1976,
          1977,
          1978,
          1979,
          1980,
          1981,
          1982,
          1983,
          1984,
          1985,
          1986,
          1987,
          1988,
          1989,
          1990,
          1991,
          1992,
          1993,
          1994,
          1995,
          1996,
          1997,
          1998,
          1999,
          2000,
          2001,
          2002,
          2003,
          2004,
          2005,
          2006,
          2007,
          2008,
          2009,
          2010,
          2011,
          2012,
          2013,
          2014,
          2015,
          2016,
          2017,
          2018,
          2019,
          2020
         ],
         "xaxis": "x",
         "y": [
          0.35490506657794535,
          0.37157535012857934,
          0.3149919774896243,
          0.31297775774009234,
          0.352063834573166,
          0.3851726776884225,
          0.37812070599748104,
          0.3138302421447268,
          0.26364841663860267,
          0.20767929755045422,
          0.19011666173927533,
          0.22006510485039696,
          0.2882855996694874,
          0.2526865270512431,
          0.28159544555636723,
          0.3123069155024722,
          0.34682144910716395,
          0.40809462871579305,
          0.34064272506854093,
          0.3447712734557184,
          0.39583501457013975,
          0.43382259841233484,
          0.4539525372252281,
          0.4470965573865166,
          0.3957517457656331,
          0.39555289749447964,
          0.39279979508087115,
          0.39370982946430005,
          0.42430348412426117,
          0.39968419032540103,
          0.4182325198169806,
          0.4745599992186198,
          0.47847357852219424,
          0.455648885021958,
          0.4129111522141456,
          0.35523386258260614,
          0.32519309481196385,
          0.3895426719435786,
          0.5087569616150917,
          0.5066609420309105,
          0.4726883183262071,
          0.4799543353690769,
          0.46903247153490996,
          0.46110836570554636,
          0.4719477984225415,
          0.48515410156062283,
          0.4790861225200176,
          0.43904628541799584,
          0.42304759975535056,
          0.44469041548689653
         ],
         "yaxis": "y"
        },
        {
         "name": "pd_naive_0.05_0.5_mean",
         "type": "scatter",
         "x": [
          1971,
          1972,
          1973,
          1974,
          1975,
          1976,
          1977,
          1978,
          1979,
          1980,
          1981,
          1982,
          1983,
          1984,
          1985,
          1986,
          1987,
          1988,
          1989,
          1990,
          1991,
          1992,
          1993,
          1994,
          1995,
          1996,
          1997,
          1998,
          1999,
          2000,
          2001,
          2002,
          2003,
          2004,
          2005,
          2006,
          2007,
          2008,
          2009,
          2010,
          2011,
          2012,
          2013,
          2014,
          2015,
          2016,
          2017,
          2018,
          2019,
          2020
         ],
         "xaxis": "x",
         "y": [
          0.42988095648927027,
          0.4341897020187115,
          0.38956313405352866,
          0.4058180743663179,
          0.4419741918624336,
          0.462574769782831,
          0.4483540800794165,
          0.39723722369464226,
          0.3678143568393752,
          0.32182713419635944,
          0.3139477084478793,
          0.33120719822170536,
          0.38433445222020785,
          0.3529736230093248,
          0.3749462095289734,
          0.40430414265284503,
          0.4312773614707082,
          0.49567360718295,
          0.4408103067935459,
          0.4408559678620168,
          0.4856421893516876,
          0.509079491324675,
          0.5263966510255208,
          0.5165138093099364,
          0.47934445394427305,
          0.4762690489838378,
          0.47401203660503305,
          0.4749789623049884,
          0.5001102575348685,
          0.48053678628822816,
          0.5028965756123305,
          0.529562975208343,
          0.527140918751863,
          0.4986645319711877,
          0.4687259447168352,
          0.42489087347455384,
          0.4005261285824598,
          0.45027020375768956,
          0.5539002852157956,
          0.5506432012284544,
          0.5083319763794025,
          0.5160077684691228,
          0.5035747888414625,
          0.4963646142708083,
          0.5040892034560787,
          0.5200172327187705,
          0.5181468302397271,
          0.48337635250857625,
          0.4768202495153575,
          0.49460839636682785
         ],
         "yaxis": "y"
        },
        {
         "name": "pd_naive_0_0.25_mean",
         "type": "scatter",
         "x": [
          1971,
          1972,
          1973,
          1974,
          1975,
          1976,
          1977,
          1978,
          1979,
          1980,
          1981,
          1982,
          1983,
          1984,
          1985,
          1986,
          1987,
          1988,
          1989,
          1990,
          1991,
          1992,
          1993,
          1994,
          1995,
          1996,
          1997,
          1998,
          1999,
          2000,
          2001,
          2002,
          2003,
          2004,
          2005,
          2006,
          2007,
          2008,
          2009,
          2010,
          2011,
          2012,
          2013,
          2014,
          2015,
          2016,
          2017,
          2018,
          2019,
          2020
         ],
         "xaxis": "x",
         "y": [
          0.25958537080070765,
          0.27185747738018623,
          0.19475598228116855,
          0.21399792266605663,
          0.26801283277657106,
          0.3040720494414848,
          0.28099275540179086,
          0.18868766352300437,
          0.15714742739959991,
          0.11202890929176407,
          0.10524500339895103,
          0.1245463171771926,
          0.18850466775268224,
          0.15807636070871542,
          0.18437127129446623,
          0.21245661638078894,
          0.2739208183510222,
          0.36227255987903184,
          0.2730840725169305,
          0.2750844712721467,
          0.3417648793470503,
          0.3919933421664867,
          0.4158912374741807,
          0.4063416223532727,
          0.33640819723250065,
          0.33313946528604804,
          0.32737141141796783,
          0.3298575325311629,
          0.37573002010843637,
          0.34311859043672105,
          0.3691614220789625,
          0.4427831782978619,
          0.44809939741879246,
          0.41903507149925173,
          0.34789541279439945,
          0.26536423746885013,
          0.2214141486444676,
          0.3207224661804273,
          0.4935016399565367,
          0.48734619219527703,
          0.44266485179526627,
          0.4574455374815508,
          0.4407343192208937,
          0.43154722041605154,
          0.4461967319957858,
          0.45924657087875087,
          0.44833992861874045,
          0.3821607195174208,
          0.36327920256941876,
          0.39292939832826534
         ],
         "yaxis": "y"
        },
        {
         "name": "pd_method_2_mean",
         "type": "scatter",
         "x": [
          1971,
          1972,
          1973,
          1974,
          1975,
          1976,
          1977,
          1978,
          1979,
          1980,
          1981,
          1982,
          1983,
          1984,
          1985,
          1986,
          1987,
          1988,
          1989,
          1990,
          1991,
          1992,
          1993,
          1994,
          1995,
          1996,
          1997,
          1998,
          1999,
          2000,
          2001,
          2002,
          2003,
          2004,
          2005,
          2006,
          2007,
          2008,
          2009,
          2010,
          2011,
          2012,
          2013,
          2014,
          2015,
          2016,
          2017,
          2018,
          2019,
          2020
         ],
         "xaxis": "x",
         "y": [
          0.04534536824990028,
          0.017804027191112973,
          0.04076918790399936,
          0.14557682687842774,
          0.19504734598955556,
          0.11974539775333248,
          0.07869066160607735,
          0.06575549686289311,
          0.1492150525554082,
          0.22809955245077082,
          0.2653388702251512,
          0.22167732272073795,
          0.11371551991791082,
          0.09777336654159806,
          0.10397780286072852,
          0.12232684290673504,
          0.09649525995757828,
          0.21091427280480285,
          0.18594779889543261,
          0.18344757683332769,
          0.25911744378598284,
          0.2297703257955053,
          0.24109017892595294,
          0.21116765873039642,
          0.20616404745015973,
          0.1889527489634825,
          0.176960311617884,
          0.15043292858854934,
          0.20170960578819766,
          0.22643778036946927,
          0.29013993529237697,
          0.22624516340951847,
          0.2404696056552978,
          0.2497053764801075,
          0.12527193911702666,
          0.0582473563819442,
          0.05439272963186461,
          0.09823959576543834,
          0.32849730174919084,
          0.3930519405499861,
          0.37038625328577834,
          0.34646019653011834,
          0.36025944025889534,
          0.3774630563670733,
          0.34929121364834137,
          0.34164254535083205,
          0.30771561938810077,
          0.23555271736484484,
          0.12884376040224974,
          0.21754669115181788
         ],
         "yaxis": "y"
        }
       ],
       "layout": {
        "barmode": "relative",
        "showlegend": true,
        "template": {
         "data": {
          "bar": [
           {
            "error_x": {
             "color": "#2a3f5f"
            },
            "error_y": {
             "color": "#2a3f5f"
            },
            "marker": {
             "line": {
              "color": "#E5ECF6",
              "width": 0.5
             },
             "pattern": {
              "fillmode": "overlay",
              "size": 10,
              "solidity": 0.2
             }
            },
            "type": "bar"
           }
          ],
          "barpolar": [
           {
            "marker": {
             "line": {
              "color": "#E5ECF6",
              "width": 0.5
             },
             "pattern": {
              "fillmode": "overlay",
              "size": 10,
              "solidity": 0.2
             }
            },
            "type": "barpolar"
           }
          ],
          "carpet": [
           {
            "aaxis": {
             "endlinecolor": "#2a3f5f",
             "gridcolor": "white",
             "linecolor": "white",
             "minorgridcolor": "white",
             "startlinecolor": "#2a3f5f"
            },
            "baxis": {
             "endlinecolor": "#2a3f5f",
             "gridcolor": "white",
             "linecolor": "white",
             "minorgridcolor": "white",
             "startlinecolor": "#2a3f5f"
            },
            "type": "carpet"
           }
          ],
          "choropleth": [
           {
            "colorbar": {
             "outlinewidth": 0,
             "ticks": ""
            },
            "type": "choropleth"
           }
          ],
          "contour": [
           {
            "colorbar": {
             "outlinewidth": 0,
             "ticks": ""
            },
            "colorscale": [
             [
              0,
              "#0d0887"
             ],
             [
              0.1111111111111111,
              "#46039f"
             ],
             [
              0.2222222222222222,
              "#7201a8"
             ],
             [
              0.3333333333333333,
              "#9c179e"
             ],
             [
              0.4444444444444444,
              "#bd3786"
             ],
             [
              0.5555555555555556,
              "#d8576b"
             ],
             [
              0.6666666666666666,
              "#ed7953"
             ],
             [
              0.7777777777777778,
              "#fb9f3a"
             ],
             [
              0.8888888888888888,
              "#fdca26"
             ],
             [
              1,
              "#f0f921"
             ]
            ],
            "type": "contour"
           }
          ],
          "contourcarpet": [
           {
            "colorbar": {
             "outlinewidth": 0,
             "ticks": ""
            },
            "type": "contourcarpet"
           }
          ],
          "heatmap": [
           {
            "colorbar": {
             "outlinewidth": 0,
             "ticks": ""
            },
            "colorscale": [
             [
              0,
              "#0d0887"
             ],
             [
              0.1111111111111111,
              "#46039f"
             ],
             [
              0.2222222222222222,
              "#7201a8"
             ],
             [
              0.3333333333333333,
              "#9c179e"
             ],
             [
              0.4444444444444444,
              "#bd3786"
             ],
             [
              0.5555555555555556,
              "#d8576b"
             ],
             [
              0.6666666666666666,
              "#ed7953"
             ],
             [
              0.7777777777777778,
              "#fb9f3a"
             ],
             [
              0.8888888888888888,
              "#fdca26"
             ],
             [
              1,
              "#f0f921"
             ]
            ],
            "type": "heatmap"
           }
          ],
          "heatmapgl": [
           {
            "colorbar": {
             "outlinewidth": 0,
             "ticks": ""
            },
            "colorscale": [
             [
              0,
              "#0d0887"
             ],
             [
              0.1111111111111111,
              "#46039f"
             ],
             [
              0.2222222222222222,
              "#7201a8"
             ],
             [
              0.3333333333333333,
              "#9c179e"
             ],
             [
              0.4444444444444444,
              "#bd3786"
             ],
             [
              0.5555555555555556,
              "#d8576b"
             ],
             [
              0.6666666666666666,
              "#ed7953"
             ],
             [
              0.7777777777777778,
              "#fb9f3a"
             ],
             [
              0.8888888888888888,
              "#fdca26"
             ],
             [
              1,
              "#f0f921"
             ]
            ],
            "type": "heatmapgl"
           }
          ],
          "histogram": [
           {
            "marker": {
             "pattern": {
              "fillmode": "overlay",
              "size": 10,
              "solidity": 0.2
             }
            },
            "type": "histogram"
           }
          ],
          "histogram2d": [
           {
            "colorbar": {
             "outlinewidth": 0,
             "ticks": ""
            },
            "colorscale": [
             [
              0,
              "#0d0887"
             ],
             [
              0.1111111111111111,
              "#46039f"
             ],
             [
              0.2222222222222222,
              "#7201a8"
             ],
             [
              0.3333333333333333,
              "#9c179e"
             ],
             [
              0.4444444444444444,
              "#bd3786"
             ],
             [
              0.5555555555555556,
              "#d8576b"
             ],
             [
              0.6666666666666666,
              "#ed7953"
             ],
             [
              0.7777777777777778,
              "#fb9f3a"
             ],
             [
              0.8888888888888888,
              "#fdca26"
             ],
             [
              1,
              "#f0f921"
             ]
            ],
            "type": "histogram2d"
           }
          ],
          "histogram2dcontour": [
           {
            "colorbar": {
             "outlinewidth": 0,
             "ticks": ""
            },
            "colorscale": [
             [
              0,
              "#0d0887"
             ],
             [
              0.1111111111111111,
              "#46039f"
             ],
             [
              0.2222222222222222,
              "#7201a8"
             ],
             [
              0.3333333333333333,
              "#9c179e"
             ],
             [
              0.4444444444444444,
              "#bd3786"
             ],
             [
              0.5555555555555556,
              "#d8576b"
             ],
             [
              0.6666666666666666,
              "#ed7953"
             ],
             [
              0.7777777777777778,
              "#fb9f3a"
             ],
             [
              0.8888888888888888,
              "#fdca26"
             ],
             [
              1,
              "#f0f921"
             ]
            ],
            "type": "histogram2dcontour"
           }
          ],
          "mesh3d": [
           {
            "colorbar": {
             "outlinewidth": 0,
             "ticks": ""
            },
            "type": "mesh3d"
           }
          ],
          "parcoords": [
           {
            "line": {
             "colorbar": {
              "outlinewidth": 0,
              "ticks": ""
             }
            },
            "type": "parcoords"
           }
          ],
          "pie": [
           {
            "automargin": true,
            "type": "pie"
           }
          ],
          "scatter": [
           {
            "marker": {
             "colorbar": {
              "outlinewidth": 0,
              "ticks": ""
             }
            },
            "type": "scatter"
           }
          ],
          "scatter3d": [
           {
            "line": {
             "colorbar": {
              "outlinewidth": 0,
              "ticks": ""
             }
            },
            "marker": {
             "colorbar": {
              "outlinewidth": 0,
              "ticks": ""
             }
            },
            "type": "scatter3d"
           }
          ],
          "scattercarpet": [
           {
            "marker": {
             "colorbar": {
              "outlinewidth": 0,
              "ticks": ""
             }
            },
            "type": "scattercarpet"
           }
          ],
          "scattergeo": [
           {
            "marker": {
             "colorbar": {
              "outlinewidth": 0,
              "ticks": ""
             }
            },
            "type": "scattergeo"
           }
          ],
          "scattergl": [
           {
            "marker": {
             "colorbar": {
              "outlinewidth": 0,
              "ticks": ""
             }
            },
            "type": "scattergl"
           }
          ],
          "scattermapbox": [
           {
            "marker": {
             "colorbar": {
              "outlinewidth": 0,
              "ticks": ""
             }
            },
            "type": "scattermapbox"
           }
          ],
          "scatterpolar": [
           {
            "marker": {
             "colorbar": {
              "outlinewidth": 0,
              "ticks": ""
             }
            },
            "type": "scatterpolar"
           }
          ],
          "scatterpolargl": [
           {
            "marker": {
             "colorbar": {
              "outlinewidth": 0,
              "ticks": ""
             }
            },
            "type": "scatterpolargl"
           }
          ],
          "scatterternary": [
           {
            "marker": {
             "colorbar": {
              "outlinewidth": 0,
              "ticks": ""
             }
            },
            "type": "scatterternary"
           }
          ],
          "surface": [
           {
            "colorbar": {
             "outlinewidth": 0,
             "ticks": ""
            },
            "colorscale": [
             [
              0,
              "#0d0887"
             ],
             [
              0.1111111111111111,
              "#46039f"
             ],
             [
              0.2222222222222222,
              "#7201a8"
             ],
             [
              0.3333333333333333,
              "#9c179e"
             ],
             [
              0.4444444444444444,
              "#bd3786"
             ],
             [
              0.5555555555555556,
              "#d8576b"
             ],
             [
              0.6666666666666666,
              "#ed7953"
             ],
             [
              0.7777777777777778,
              "#fb9f3a"
             ],
             [
              0.8888888888888888,
              "#fdca26"
             ],
             [
              1,
              "#f0f921"
             ]
            ],
            "type": "surface"
           }
          ],
          "table": [
           {
            "cells": {
             "fill": {
              "color": "#EBF0F8"
             },
             "line": {
              "color": "white"
             }
            },
            "header": {
             "fill": {
              "color": "#C8D4E3"
             },
             "line": {
              "color": "white"
             }
            },
            "type": "table"
           }
          ]
         },
         "layout": {
          "annotationdefaults": {
           "arrowcolor": "#2a3f5f",
           "arrowhead": 0,
           "arrowwidth": 1
          },
          "autotypenumbers": "strict",
          "coloraxis": {
           "colorbar": {
            "outlinewidth": 0,
            "ticks": ""
           }
          },
          "colorscale": {
           "diverging": [
            [
             0,
             "#8e0152"
            ],
            [
             0.1,
             "#c51b7d"
            ],
            [
             0.2,
             "#de77ae"
            ],
            [
             0.3,
             "#f1b6da"
            ],
            [
             0.4,
             "#fde0ef"
            ],
            [
             0.5,
             "#f7f7f7"
            ],
            [
             0.6,
             "#e6f5d0"
            ],
            [
             0.7,
             "#b8e186"
            ],
            [
             0.8,
             "#7fbc41"
            ],
            [
             0.9,
             "#4d9221"
            ],
            [
             1,
             "#276419"
            ]
           ],
           "sequential": [
            [
             0,
             "#0d0887"
            ],
            [
             0.1111111111111111,
             "#46039f"
            ],
            [
             0.2222222222222222,
             "#7201a8"
            ],
            [
             0.3333333333333333,
             "#9c179e"
            ],
            [
             0.4444444444444444,
             "#bd3786"
            ],
            [
             0.5555555555555556,
             "#d8576b"
            ],
            [
             0.6666666666666666,
             "#ed7953"
            ],
            [
             0.7777777777777778,
             "#fb9f3a"
            ],
            [
             0.8888888888888888,
             "#fdca26"
            ],
            [
             1,
             "#f0f921"
            ]
           ],
           "sequentialminus": [
            [
             0,
             "#0d0887"
            ],
            [
             0.1111111111111111,
             "#46039f"
            ],
            [
             0.2222222222222222,
             "#7201a8"
            ],
            [
             0.3333333333333333,
             "#9c179e"
            ],
            [
             0.4444444444444444,
             "#bd3786"
            ],
            [
             0.5555555555555556,
             "#d8576b"
            ],
            [
             0.6666666666666666,
             "#ed7953"
            ],
            [
             0.7777777777777778,
             "#fb9f3a"
            ],
            [
             0.8888888888888888,
             "#fdca26"
            ],
            [
             1,
             "#f0f921"
            ]
           ]
          },
          "colorway": [
           "#636efa",
           "#EF553B",
           "#00cc96",
           "#ab63fa",
           "#FFA15A",
           "#19d3f3",
           "#FF6692",
           "#B6E880",
           "#FF97FF",
           "#FECB52"
          ],
          "font": {
           "color": "#2a3f5f"
          },
          "geo": {
           "bgcolor": "white",
           "lakecolor": "white",
           "landcolor": "#E5ECF6",
           "showlakes": true,
           "showland": true,
           "subunitcolor": "white"
          },
          "hoverlabel": {
           "align": "left"
          },
          "hovermode": "closest",
          "mapbox": {
           "style": "light"
          },
          "paper_bgcolor": "white",
          "plot_bgcolor": "#E5ECF6",
          "polar": {
           "angularaxis": {
            "gridcolor": "white",
            "linecolor": "white",
            "ticks": ""
           },
           "bgcolor": "#E5ECF6",
           "radialaxis": {
            "gridcolor": "white",
            "linecolor": "white",
            "ticks": ""
           }
          },
          "scene": {
           "xaxis": {
            "backgroundcolor": "#E5ECF6",
            "gridcolor": "white",
            "gridwidth": 2,
            "linecolor": "white",
            "showbackground": true,
            "ticks": "",
            "zerolinecolor": "white"
           },
           "yaxis": {
            "backgroundcolor": "#E5ECF6",
            "gridcolor": "white",
            "gridwidth": 2,
            "linecolor": "white",
            "showbackground": true,
            "ticks": "",
            "zerolinecolor": "white"
           },
           "zaxis": {
            "backgroundcolor": "#E5ECF6",
            "gridcolor": "white",
            "gridwidth": 2,
            "linecolor": "white",
            "showbackground": true,
            "ticks": "",
            "zerolinecolor": "white"
           }
          },
          "shapedefaults": {
           "line": {
            "color": "#2a3f5f"
           }
          },
          "ternary": {
           "aaxis": {
            "gridcolor": "white",
            "linecolor": "white",
            "ticks": ""
           },
           "baxis": {
            "gridcolor": "white",
            "linecolor": "white",
            "ticks": ""
           },
           "bgcolor": "#E5ECF6",
           "caxis": {
            "gridcolor": "white",
            "linecolor": "white",
            "ticks": ""
           }
          },
          "title": {
           "x": 0.05
          },
          "xaxis": {
           "automargin": true,
           "gridcolor": "white",
           "linecolor": "white",
           "ticks": "",
           "title": {
            "standoff": 15
           },
           "zerolinecolor": "white",
           "zerolinewidth": 2
          },
          "yaxis": {
           "automargin": true,
           "gridcolor": "white",
           "linecolor": "white",
           "ticks": "",
           "title": {
            "standoff": 15
           },
           "zerolinecolor": "white",
           "zerolinewidth": 2
          }
         }
        },
        "title": {
         "text": "Title:2 Methods vs BAAFFM"
        },
        "xaxis": {
         "anchor": "y",
         "domain": [
          0,
          0.94
         ]
        },
        "yaxis": {
         "anchor": "x",
         "domain": [
          0,
          1
         ],
         "title": {
          "text": "Probability of Default"
         }
        },
        "yaxis2": {
         "anchor": "x",
         "overlaying": "y",
         "side": "right"
        }
       }
      },
      "text/html": [
       "<div>                            <div id=\"cab4fd68-6aca-455b-963a-412c0d095153\" class=\"plotly-graph-div\" style=\"height:525px; width:100%;\"></div>            <script type=\"text/javascript\">                require([\"plotly\"], function(Plotly) {                    window.PLOTLYENV=window.PLOTLYENV || {};                                    if (document.getElementById(\"cab4fd68-6aca-455b-963a-412c0d095153\")) {                    Plotly.newPlot(                        \"cab4fd68-6aca-455b-963a-412c0d095153\",                        [{\"name\":\"pd_naive_0.05_0.25_mean\",\"x\":[1971,1972,1973,1974,1975,1976,1977,1978,1979,1980,1981,1982,1983,1984,1985,1986,1987,1988,1989,1990,1991,1992,1993,1994,1995,1996,1997,1998,1999,2000,2001,2002,2003,2004,2005,2006,2007,2008,2009,2010,2011,2012,2013,2014,2015,2016,2017,2018,2019,2020],\"y\":[0.35490506657794535,0.37157535012857934,0.3149919774896243,0.31297775774009234,0.352063834573166,0.3851726776884225,0.37812070599748104,0.3138302421447268,0.26364841663860267,0.20767929755045422,0.19011666173927533,0.22006510485039696,0.2882855996694874,0.2526865270512431,0.28159544555636723,0.3123069155024722,0.34682144910716395,0.40809462871579305,0.34064272506854093,0.3447712734557184,0.39583501457013975,0.43382259841233484,0.4539525372252281,0.4470965573865166,0.3957517457656331,0.39555289749447964,0.39279979508087115,0.39370982946430005,0.42430348412426117,0.39968419032540103,0.4182325198169806,0.4745599992186198,0.47847357852219424,0.455648885021958,0.4129111522141456,0.35523386258260614,0.32519309481196385,0.3895426719435786,0.5087569616150917,0.5066609420309105,0.4726883183262071,0.4799543353690769,0.46903247153490996,0.46110836570554636,0.4719477984225415,0.48515410156062283,0.4790861225200176,0.43904628541799584,0.42304759975535056,0.44469041548689653],\"type\":\"scatter\",\"xaxis\":\"x\",\"yaxis\":\"y\"},{\"name\":\"pd_naive_0.05_0.5_mean\",\"x\":[1971,1972,1973,1974,1975,1976,1977,1978,1979,1980,1981,1982,1983,1984,1985,1986,1987,1988,1989,1990,1991,1992,1993,1994,1995,1996,1997,1998,1999,2000,2001,2002,2003,2004,2005,2006,2007,2008,2009,2010,2011,2012,2013,2014,2015,2016,2017,2018,2019,2020],\"y\":[0.42988095648927027,0.4341897020187115,0.38956313405352866,0.4058180743663179,0.4419741918624336,0.462574769782831,0.4483540800794165,0.39723722369464226,0.3678143568393752,0.32182713419635944,0.3139477084478793,0.33120719822170536,0.38433445222020785,0.3529736230093248,0.3749462095289734,0.40430414265284503,0.4312773614707082,0.49567360718295,0.4408103067935459,0.4408559678620168,0.4856421893516876,0.509079491324675,0.5263966510255208,0.5165138093099364,0.47934445394427305,0.4762690489838378,0.47401203660503305,0.4749789623049884,0.5001102575348685,0.48053678628822816,0.5028965756123305,0.529562975208343,0.527140918751863,0.4986645319711877,0.4687259447168352,0.42489087347455384,0.4005261285824598,0.45027020375768956,0.5539002852157956,0.5506432012284544,0.5083319763794025,0.5160077684691228,0.5035747888414625,0.4963646142708083,0.5040892034560787,0.5200172327187705,0.5181468302397271,0.48337635250857625,0.4768202495153575,0.49460839636682785],\"type\":\"scatter\",\"xaxis\":\"x\",\"yaxis\":\"y\"},{\"name\":\"pd_naive_0_0.25_mean\",\"x\":[1971,1972,1973,1974,1975,1976,1977,1978,1979,1980,1981,1982,1983,1984,1985,1986,1987,1988,1989,1990,1991,1992,1993,1994,1995,1996,1997,1998,1999,2000,2001,2002,2003,2004,2005,2006,2007,2008,2009,2010,2011,2012,2013,2014,2015,2016,2017,2018,2019,2020],\"y\":[0.25958537080070765,0.27185747738018623,0.19475598228116855,0.21399792266605663,0.26801283277657106,0.3040720494414848,0.28099275540179086,0.18868766352300437,0.15714742739959991,0.11202890929176407,0.10524500339895103,0.1245463171771926,0.18850466775268224,0.15807636070871542,0.18437127129446623,0.21245661638078894,0.2739208183510222,0.36227255987903184,0.2730840725169305,0.2750844712721467,0.3417648793470503,0.3919933421664867,0.4158912374741807,0.4063416223532727,0.33640819723250065,0.33313946528604804,0.32737141141796783,0.3298575325311629,0.37573002010843637,0.34311859043672105,0.3691614220789625,0.4427831782978619,0.44809939741879246,0.41903507149925173,0.34789541279439945,0.26536423746885013,0.2214141486444676,0.3207224661804273,0.4935016399565367,0.48734619219527703,0.44266485179526627,0.4574455374815508,0.4407343192208937,0.43154722041605154,0.4461967319957858,0.45924657087875087,0.44833992861874045,0.3821607195174208,0.36327920256941876,0.39292939832826534],\"type\":\"scatter\",\"xaxis\":\"x\",\"yaxis\":\"y\"},{\"name\":\"pd_method_2_mean\",\"x\":[1971,1972,1973,1974,1975,1976,1977,1978,1979,1980,1981,1982,1983,1984,1985,1986,1987,1988,1989,1990,1991,1992,1993,1994,1995,1996,1997,1998,1999,2000,2001,2002,2003,2004,2005,2006,2007,2008,2009,2010,2011,2012,2013,2014,2015,2016,2017,2018,2019,2020],\"y\":[0.04534536824990028,0.017804027191112973,0.04076918790399936,0.14557682687842774,0.19504734598955556,0.11974539775333248,0.07869066160607735,0.06575549686289311,0.1492150525554082,0.22809955245077082,0.2653388702251512,0.22167732272073795,0.11371551991791082,0.09777336654159806,0.10397780286072852,0.12232684290673504,0.09649525995757828,0.21091427280480285,0.18594779889543261,0.18344757683332769,0.25911744378598284,0.2297703257955053,0.24109017892595294,0.21116765873039642,0.20616404745015973,0.1889527489634825,0.176960311617884,0.15043292858854934,0.20170960578819766,0.22643778036946927,0.29013993529237697,0.22624516340951847,0.2404696056552978,0.2497053764801075,0.12527193911702666,0.0582473563819442,0.05439272963186461,0.09823959576543834,0.32849730174919084,0.3930519405499861,0.37038625328577834,0.34646019653011834,0.36025944025889534,0.3774630563670733,0.34929121364834137,0.34164254535083205,0.30771561938810077,0.23555271736484484,0.12884376040224974,0.21754669115181788],\"type\":\"scatter\",\"xaxis\":\"x\",\"yaxis\":\"y\"}],                        {\"template\":{\"data\":{\"bar\":[{\"error_x\":{\"color\":\"#2a3f5f\"},\"error_y\":{\"color\":\"#2a3f5f\"},\"marker\":{\"line\":{\"color\":\"#E5ECF6\",\"width\":0.5},\"pattern\":{\"fillmode\":\"overlay\",\"size\":10,\"solidity\":0.2}},\"type\":\"bar\"}],\"barpolar\":[{\"marker\":{\"line\":{\"color\":\"#E5ECF6\",\"width\":0.5},\"pattern\":{\"fillmode\":\"overlay\",\"size\":10,\"solidity\":0.2}},\"type\":\"barpolar\"}],\"carpet\":[{\"aaxis\":{\"endlinecolor\":\"#2a3f5f\",\"gridcolor\":\"white\",\"linecolor\":\"white\",\"minorgridcolor\":\"white\",\"startlinecolor\":\"#2a3f5f\"},\"baxis\":{\"endlinecolor\":\"#2a3f5f\",\"gridcolor\":\"white\",\"linecolor\":\"white\",\"minorgridcolor\":\"white\",\"startlinecolor\":\"#2a3f5f\"},\"type\":\"carpet\"}],\"choropleth\":[{\"colorbar\":{\"outlinewidth\":0,\"ticks\":\"\"},\"type\":\"choropleth\"}],\"contour\":[{\"colorbar\":{\"outlinewidth\":0,\"ticks\":\"\"},\"colorscale\":[[0.0,\"#0d0887\"],[0.1111111111111111,\"#46039f\"],[0.2222222222222222,\"#7201a8\"],[0.3333333333333333,\"#9c179e\"],[0.4444444444444444,\"#bd3786\"],[0.5555555555555556,\"#d8576b\"],[0.6666666666666666,\"#ed7953\"],[0.7777777777777778,\"#fb9f3a\"],[0.8888888888888888,\"#fdca26\"],[1.0,\"#f0f921\"]],\"type\":\"contour\"}],\"contourcarpet\":[{\"colorbar\":{\"outlinewidth\":0,\"ticks\":\"\"},\"type\":\"contourcarpet\"}],\"heatmap\":[{\"colorbar\":{\"outlinewidth\":0,\"ticks\":\"\"},\"colorscale\":[[0.0,\"#0d0887\"],[0.1111111111111111,\"#46039f\"],[0.2222222222222222,\"#7201a8\"],[0.3333333333333333,\"#9c179e\"],[0.4444444444444444,\"#bd3786\"],[0.5555555555555556,\"#d8576b\"],[0.6666666666666666,\"#ed7953\"],[0.7777777777777778,\"#fb9f3a\"],[0.8888888888888888,\"#fdca26\"],[1.0,\"#f0f921\"]],\"type\":\"heatmap\"}],\"heatmapgl\":[{\"colorbar\":{\"outlinewidth\":0,\"ticks\":\"\"},\"colorscale\":[[0.0,\"#0d0887\"],[0.1111111111111111,\"#46039f\"],[0.2222222222222222,\"#7201a8\"],[0.3333333333333333,\"#9c179e\"],[0.4444444444444444,\"#bd3786\"],[0.5555555555555556,\"#d8576b\"],[0.6666666666666666,\"#ed7953\"],[0.7777777777777778,\"#fb9f3a\"],[0.8888888888888888,\"#fdca26\"],[1.0,\"#f0f921\"]],\"type\":\"heatmapgl\"}],\"histogram\":[{\"marker\":{\"pattern\":{\"fillmode\":\"overlay\",\"size\":10,\"solidity\":0.2}},\"type\":\"histogram\"}],\"histogram2d\":[{\"colorbar\":{\"outlinewidth\":0,\"ticks\":\"\"},\"colorscale\":[[0.0,\"#0d0887\"],[0.1111111111111111,\"#46039f\"],[0.2222222222222222,\"#7201a8\"],[0.3333333333333333,\"#9c179e\"],[0.4444444444444444,\"#bd3786\"],[0.5555555555555556,\"#d8576b\"],[0.6666666666666666,\"#ed7953\"],[0.7777777777777778,\"#fb9f3a\"],[0.8888888888888888,\"#fdca26\"],[1.0,\"#f0f921\"]],\"type\":\"histogram2d\"}],\"histogram2dcontour\":[{\"colorbar\":{\"outlinewidth\":0,\"ticks\":\"\"},\"colorscale\":[[0.0,\"#0d0887\"],[0.1111111111111111,\"#46039f\"],[0.2222222222222222,\"#7201a8\"],[0.3333333333333333,\"#9c179e\"],[0.4444444444444444,\"#bd3786\"],[0.5555555555555556,\"#d8576b\"],[0.6666666666666666,\"#ed7953\"],[0.7777777777777778,\"#fb9f3a\"],[0.8888888888888888,\"#fdca26\"],[1.0,\"#f0f921\"]],\"type\":\"histogram2dcontour\"}],\"mesh3d\":[{\"colorbar\":{\"outlinewidth\":0,\"ticks\":\"\"},\"type\":\"mesh3d\"}],\"parcoords\":[{\"line\":{\"colorbar\":{\"outlinewidth\":0,\"ticks\":\"\"}},\"type\":\"parcoords\"}],\"pie\":[{\"automargin\":true,\"type\":\"pie\"}],\"scatter\":[{\"marker\":{\"colorbar\":{\"outlinewidth\":0,\"ticks\":\"\"}},\"type\":\"scatter\"}],\"scatter3d\":[{\"line\":{\"colorbar\":{\"outlinewidth\":0,\"ticks\":\"\"}},\"marker\":{\"colorbar\":{\"outlinewidth\":0,\"ticks\":\"\"}},\"type\":\"scatter3d\"}],\"scattercarpet\":[{\"marker\":{\"colorbar\":{\"outlinewidth\":0,\"ticks\":\"\"}},\"type\":\"scattercarpet\"}],\"scattergeo\":[{\"marker\":{\"colorbar\":{\"outlinewidth\":0,\"ticks\":\"\"}},\"type\":\"scattergeo\"}],\"scattergl\":[{\"marker\":{\"colorbar\":{\"outlinewidth\":0,\"ticks\":\"\"}},\"type\":\"scattergl\"}],\"scattermapbox\":[{\"marker\":{\"colorbar\":{\"outlinewidth\":0,\"ticks\":\"\"}},\"type\":\"scattermapbox\"}],\"scatterpolar\":[{\"marker\":{\"colorbar\":{\"outlinewidth\":0,\"ticks\":\"\"}},\"type\":\"scatterpolar\"}],\"scatterpolargl\":[{\"marker\":{\"colorbar\":{\"outlinewidth\":0,\"ticks\":\"\"}},\"type\":\"scatterpolargl\"}],\"scatterternary\":[{\"marker\":{\"colorbar\":{\"outlinewidth\":0,\"ticks\":\"\"}},\"type\":\"scatterternary\"}],\"surface\":[{\"colorbar\":{\"outlinewidth\":0,\"ticks\":\"\"},\"colorscale\":[[0.0,\"#0d0887\"],[0.1111111111111111,\"#46039f\"],[0.2222222222222222,\"#7201a8\"],[0.3333333333333333,\"#9c179e\"],[0.4444444444444444,\"#bd3786\"],[0.5555555555555556,\"#d8576b\"],[0.6666666666666666,\"#ed7953\"],[0.7777777777777778,\"#fb9f3a\"],[0.8888888888888888,\"#fdca26\"],[1.0,\"#f0f921\"]],\"type\":\"surface\"}],\"table\":[{\"cells\":{\"fill\":{\"color\":\"#EBF0F8\"},\"line\":{\"color\":\"white\"}},\"header\":{\"fill\":{\"color\":\"#C8D4E3\"},\"line\":{\"color\":\"white\"}},\"type\":\"table\"}]},\"layout\":{\"annotationdefaults\":{\"arrowcolor\":\"#2a3f5f\",\"arrowhead\":0,\"arrowwidth\":1},\"autotypenumbers\":\"strict\",\"coloraxis\":{\"colorbar\":{\"outlinewidth\":0,\"ticks\":\"\"}},\"colorscale\":{\"diverging\":[[0,\"#8e0152\"],[0.1,\"#c51b7d\"],[0.2,\"#de77ae\"],[0.3,\"#f1b6da\"],[0.4,\"#fde0ef\"],[0.5,\"#f7f7f7\"],[0.6,\"#e6f5d0\"],[0.7,\"#b8e186\"],[0.8,\"#7fbc41\"],[0.9,\"#4d9221\"],[1,\"#276419\"]],\"sequential\":[[0.0,\"#0d0887\"],[0.1111111111111111,\"#46039f\"],[0.2222222222222222,\"#7201a8\"],[0.3333333333333333,\"#9c179e\"],[0.4444444444444444,\"#bd3786\"],[0.5555555555555556,\"#d8576b\"],[0.6666666666666666,\"#ed7953\"],[0.7777777777777778,\"#fb9f3a\"],[0.8888888888888888,\"#fdca26\"],[1.0,\"#f0f921\"]],\"sequentialminus\":[[0.0,\"#0d0887\"],[0.1111111111111111,\"#46039f\"],[0.2222222222222222,\"#7201a8\"],[0.3333333333333333,\"#9c179e\"],[0.4444444444444444,\"#bd3786\"],[0.5555555555555556,\"#d8576b\"],[0.6666666666666666,\"#ed7953\"],[0.7777777777777778,\"#fb9f3a\"],[0.8888888888888888,\"#fdca26\"],[1.0,\"#f0f921\"]]},\"colorway\":[\"#636efa\",\"#EF553B\",\"#00cc96\",\"#ab63fa\",\"#FFA15A\",\"#19d3f3\",\"#FF6692\",\"#B6E880\",\"#FF97FF\",\"#FECB52\"],\"font\":{\"color\":\"#2a3f5f\"},\"geo\":{\"bgcolor\":\"white\",\"lakecolor\":\"white\",\"landcolor\":\"#E5ECF6\",\"showlakes\":true,\"showland\":true,\"subunitcolor\":\"white\"},\"hoverlabel\":{\"align\":\"left\"},\"hovermode\":\"closest\",\"mapbox\":{\"style\":\"light\"},\"paper_bgcolor\":\"white\",\"plot_bgcolor\":\"#E5ECF6\",\"polar\":{\"angularaxis\":{\"gridcolor\":\"white\",\"linecolor\":\"white\",\"ticks\":\"\"},\"bgcolor\":\"#E5ECF6\",\"radialaxis\":{\"gridcolor\":\"white\",\"linecolor\":\"white\",\"ticks\":\"\"}},\"scene\":{\"xaxis\":{\"backgroundcolor\":\"#E5ECF6\",\"gridcolor\":\"white\",\"gridwidth\":2,\"linecolor\":\"white\",\"showbackground\":true,\"ticks\":\"\",\"zerolinecolor\":\"white\"},\"yaxis\":{\"backgroundcolor\":\"#E5ECF6\",\"gridcolor\":\"white\",\"gridwidth\":2,\"linecolor\":\"white\",\"showbackground\":true,\"ticks\":\"\",\"zerolinecolor\":\"white\"},\"zaxis\":{\"backgroundcolor\":\"#E5ECF6\",\"gridcolor\":\"white\",\"gridwidth\":2,\"linecolor\":\"white\",\"showbackground\":true,\"ticks\":\"\",\"zerolinecolor\":\"white\"}},\"shapedefaults\":{\"line\":{\"color\":\"#2a3f5f\"}},\"ternary\":{\"aaxis\":{\"gridcolor\":\"white\",\"linecolor\":\"white\",\"ticks\":\"\"},\"baxis\":{\"gridcolor\":\"white\",\"linecolor\":\"white\",\"ticks\":\"\"},\"bgcolor\":\"#E5ECF6\",\"caxis\":{\"gridcolor\":\"white\",\"linecolor\":\"white\",\"ticks\":\"\"}},\"title\":{\"x\":0.05},\"xaxis\":{\"automargin\":true,\"gridcolor\":\"white\",\"linecolor\":\"white\",\"ticks\":\"\",\"title\":{\"standoff\":15},\"zerolinecolor\":\"white\",\"zerolinewidth\":2},\"yaxis\":{\"automargin\":true,\"gridcolor\":\"white\",\"linecolor\":\"white\",\"ticks\":\"\",\"title\":{\"standoff\":15},\"zerolinecolor\":\"white\",\"zerolinewidth\":2}}},\"xaxis\":{\"anchor\":\"y\",\"domain\":[0.0,0.94]},\"yaxis\":{\"anchor\":\"x\",\"domain\":[0.0,1.0],\"title\":{\"text\":\"Probability of Default\"}},\"yaxis2\":{\"anchor\":\"x\",\"overlaying\":\"y\",\"side\":\"right\"},\"title\":{\"text\":\"Title:2 Methods vs BAAFFM\"},\"barmode\":\"relative\",\"showlegend\":true},                        {\"responsive\": true}                    ).then(function(){\n",
       "                            \n",
       "var gd = document.getElementById('cab4fd68-6aca-455b-963a-412c0d095153');\n",
       "var x = new MutationObserver(function (mutations, observer) {{\n",
       "        var display = window.getComputedStyle(gd).display;\n",
       "        if (!display || display === 'none') {{\n",
       "            console.log([gd, 'removed!']);\n",
       "            Plotly.purge(gd);\n",
       "            observer.disconnect();\n",
       "        }}\n",
       "}});\n",
       "\n",
       "// Listen for the removal of the full notebook cells\n",
       "var notebookContainer = gd.closest('#notebook-container');\n",
       "if (notebookContainer) {{\n",
       "    x.observe(notebookContainer, {childList: true});\n",
       "}}\n",
       "\n",
       "// Listen for the clearing of the current output cell\n",
       "var outputEl = gd.closest('.output');\n",
       "if (outputEl) {{\n",
       "    x.observe(outputEl, {childList: true});\n",
       "}}\n",
       "\n",
       "                        })                };                });            </script>        </div>"
      ]
     },
     "metadata": {},
     "output_type": "display_data"
    },
    {
     "data": {
      "application/vnd.plotly.v1+json": {
       "config": {
        "plotlyServerURL": "https://plot.ly"
       },
       "data": [
        {
         "name": "pd_naive_0.05_0.25_mean",
         "type": "scatter",
         "x": [
          1971,
          1972,
          1973,
          1974,
          1975,
          1976,
          1977,
          1978,
          1979,
          1980,
          1981,
          1982,
          1983,
          1984,
          1985,
          1986,
          1987,
          1988,
          1989,
          1990,
          1991,
          1992,
          1993,
          1994,
          1995,
          1996,
          1997,
          1998,
          1999,
          2000,
          2001,
          2002,
          2003,
          2004,
          2005,
          2006,
          2007,
          2008,
          2009,
          2010,
          2011,
          2012,
          2013,
          2014,
          2015,
          2016,
          2017,
          2018,
          2019,
          2020
         ],
         "xaxis": "x",
         "y": [
          0.35490506657794535,
          0.37157535012857934,
          0.3149919774896243,
          0.31297775774009234,
          0.352063834573166,
          0.3851726776884225,
          0.37812070599748104,
          0.3138302421447268,
          0.26364841663860267,
          0.20767929755045422,
          0.19011666173927533,
          0.22006510485039696,
          0.2882855996694874,
          0.2526865270512431,
          0.28159544555636723,
          0.3123069155024722,
          0.34682144910716395,
          0.40809462871579305,
          0.34064272506854093,
          0.3447712734557184,
          0.39583501457013975,
          0.43382259841233484,
          0.4539525372252281,
          0.4470965573865166,
          0.3957517457656331,
          0.39555289749447964,
          0.39279979508087115,
          0.39370982946430005,
          0.42430348412426117,
          0.39968419032540103,
          0.4182325198169806,
          0.4745599992186198,
          0.47847357852219424,
          0.455648885021958,
          0.4129111522141456,
          0.35523386258260614,
          0.32519309481196385,
          0.3895426719435786,
          0.5087569616150917,
          0.5066609420309105,
          0.4726883183262071,
          0.4799543353690769,
          0.46903247153490996,
          0.46110836570554636,
          0.4719477984225415,
          0.48515410156062283,
          0.4790861225200176,
          0.43904628541799584,
          0.42304759975535056,
          0.44469041548689653
         ],
         "yaxis": "y"
        },
        {
         "name": "pd_naive_0.05_0.5_mean",
         "type": "scatter",
         "x": [
          1971,
          1972,
          1973,
          1974,
          1975,
          1976,
          1977,
          1978,
          1979,
          1980,
          1981,
          1982,
          1983,
          1984,
          1985,
          1986,
          1987,
          1988,
          1989,
          1990,
          1991,
          1992,
          1993,
          1994,
          1995,
          1996,
          1997,
          1998,
          1999,
          2000,
          2001,
          2002,
          2003,
          2004,
          2005,
          2006,
          2007,
          2008,
          2009,
          2010,
          2011,
          2012,
          2013,
          2014,
          2015,
          2016,
          2017,
          2018,
          2019,
          2020
         ],
         "xaxis": "x",
         "y": [
          0.42988095648927027,
          0.4341897020187115,
          0.38956313405352866,
          0.4058180743663179,
          0.4419741918624336,
          0.462574769782831,
          0.4483540800794165,
          0.39723722369464226,
          0.3678143568393752,
          0.32182713419635944,
          0.3139477084478793,
          0.33120719822170536,
          0.38433445222020785,
          0.3529736230093248,
          0.3749462095289734,
          0.40430414265284503,
          0.4312773614707082,
          0.49567360718295,
          0.4408103067935459,
          0.4408559678620168,
          0.4856421893516876,
          0.509079491324675,
          0.5263966510255208,
          0.5165138093099364,
          0.47934445394427305,
          0.4762690489838378,
          0.47401203660503305,
          0.4749789623049884,
          0.5001102575348685,
          0.48053678628822816,
          0.5028965756123305,
          0.529562975208343,
          0.527140918751863,
          0.4986645319711877,
          0.4687259447168352,
          0.42489087347455384,
          0.4005261285824598,
          0.45027020375768956,
          0.5539002852157956,
          0.5506432012284544,
          0.5083319763794025,
          0.5160077684691228,
          0.5035747888414625,
          0.4963646142708083,
          0.5040892034560787,
          0.5200172327187705,
          0.5181468302397271,
          0.48337635250857625,
          0.4768202495153575,
          0.49460839636682785
         ],
         "yaxis": "y"
        },
        {
         "name": "pd_naive_0_0.25_mean",
         "type": "scatter",
         "x": [
          1971,
          1972,
          1973,
          1974,
          1975,
          1976,
          1977,
          1978,
          1979,
          1980,
          1981,
          1982,
          1983,
          1984,
          1985,
          1986,
          1987,
          1988,
          1989,
          1990,
          1991,
          1992,
          1993,
          1994,
          1995,
          1996,
          1997,
          1998,
          1999,
          2000,
          2001,
          2002,
          2003,
          2004,
          2005,
          2006,
          2007,
          2008,
          2009,
          2010,
          2011,
          2012,
          2013,
          2014,
          2015,
          2016,
          2017,
          2018,
          2019,
          2020
         ],
         "xaxis": "x",
         "y": [
          0.25958537080070765,
          0.27185747738018623,
          0.19475598228116855,
          0.21399792266605663,
          0.26801283277657106,
          0.3040720494414848,
          0.28099275540179086,
          0.18868766352300437,
          0.15714742739959991,
          0.11202890929176407,
          0.10524500339895103,
          0.1245463171771926,
          0.18850466775268224,
          0.15807636070871542,
          0.18437127129446623,
          0.21245661638078894,
          0.2739208183510222,
          0.36227255987903184,
          0.2730840725169305,
          0.2750844712721467,
          0.3417648793470503,
          0.3919933421664867,
          0.4158912374741807,
          0.4063416223532727,
          0.33640819723250065,
          0.33313946528604804,
          0.32737141141796783,
          0.3298575325311629,
          0.37573002010843637,
          0.34311859043672105,
          0.3691614220789625,
          0.4427831782978619,
          0.44809939741879246,
          0.41903507149925173,
          0.34789541279439945,
          0.26536423746885013,
          0.2214141486444676,
          0.3207224661804273,
          0.4935016399565367,
          0.48734619219527703,
          0.44266485179526627,
          0.4574455374815508,
          0.4407343192208937,
          0.43154722041605154,
          0.4461967319957858,
          0.45924657087875087,
          0.44833992861874045,
          0.3821607195174208,
          0.36327920256941876,
          0.39292939832826534
         ],
         "yaxis": "y"
        },
        {
         "name": "pd_method_2_mean",
         "type": "scatter",
         "x": [
          1971,
          1972,
          1973,
          1974,
          1975,
          1976,
          1977,
          1978,
          1979,
          1980,
          1981,
          1982,
          1983,
          1984,
          1985,
          1986,
          1987,
          1988,
          1989,
          1990,
          1991,
          1992,
          1993,
          1994,
          1995,
          1996,
          1997,
          1998,
          1999,
          2000,
          2001,
          2002,
          2003,
          2004,
          2005,
          2006,
          2007,
          2008,
          2009,
          2010,
          2011,
          2012,
          2013,
          2014,
          2015,
          2016,
          2017,
          2018,
          2019,
          2020
         ],
         "xaxis": "x",
         "y": [
          0.04534536824990028,
          0.017804027191112973,
          0.04076918790399936,
          0.14557682687842774,
          0.19504734598955556,
          0.11974539775333248,
          0.07869066160607735,
          0.06575549686289311,
          0.1492150525554082,
          0.22809955245077082,
          0.2653388702251512,
          0.22167732272073795,
          0.11371551991791082,
          0.09777336654159806,
          0.10397780286072852,
          0.12232684290673504,
          0.09649525995757828,
          0.21091427280480285,
          0.18594779889543261,
          0.18344757683332769,
          0.25911744378598284,
          0.2297703257955053,
          0.24109017892595294,
          0.21116765873039642,
          0.20616404745015973,
          0.1889527489634825,
          0.176960311617884,
          0.15043292858854934,
          0.20170960578819766,
          0.22643778036946927,
          0.29013993529237697,
          0.22624516340951847,
          0.2404696056552978,
          0.2497053764801075,
          0.12527193911702666,
          0.0582473563819442,
          0.05439272963186461,
          0.09823959576543834,
          0.32849730174919084,
          0.3930519405499861,
          0.37038625328577834,
          0.34646019653011834,
          0.36025944025889534,
          0.3774630563670733,
          0.34929121364834137,
          0.34164254535083205,
          0.30771561938810077,
          0.23555271736484484,
          0.12884376040224974,
          0.21754669115181788
         ],
         "yaxis": "y"
        },
        {
         "name": "BAAFFM",
         "type": "scatter",
         "x": [
          1971,
          1972,
          1973,
          1974,
          1975,
          1976,
          1977,
          1978,
          1979,
          1980,
          1981,
          1982,
          1983,
          1984,
          1985,
          1986,
          1987,
          1988,
          1989,
          1990,
          1991,
          1992,
          1993,
          1994,
          1995,
          1996,
          1997,
          1998,
          1999,
          2000,
          2001,
          2002,
          2003,
          2004,
          2005,
          2006,
          2007,
          2008,
          2009,
          2010,
          2011,
          2012,
          2013,
          2014,
          2015,
          2016,
          2017,
          2018,
          2019,
          2020
         ],
         "xaxis": "x",
         "y": [
          3.9025000000000003,
          3.724166666666667,
          -0.4866666666666668,
          -1.0058333333333331,
          4.785833333333333,
          4.701666666666667,
          3.4316666666666666,
          1.5574999999999999,
          -0.5041666666666667,
          0.31249999999999994,
          -0.3341666666666668,
          3.855,
          4.4675,
          3.965,
          4.614166666666667,
          3.5858333333333334,
          3.918333333333333,
          3.2616666666666667,
          0.9608333333333334,
          2.2558333333333334,
          4.114166666666667,
          5.454999999999999,
          4.9075,
          4.4208333333333325,
          2.3641666666666663,
          2.7558333333333334,
          2.4025000000000003,
          1.8675,
          2.9008333333333334,
          2.1283333333333334,
          4.06,
          6.134999999999999,
          5.638333333333333,
          5.0441666666666665,
          2.8508333333333327,
          1.515,
          1.4633333333333336,
          5.519166666666667,
          7.135833333333334,
          5.863333333333333,
          5.5625,
          4.795000000000001,
          4.994166666666667,
          4.765,
          4.866666666666667,
          4.322499999999999,
          3.438333333333334,
          2.9683333333333333,
          2.2175,
          3.2291666666666665
         ],
         "yaxis": "y2"
        }
       ],
       "layout": {
        "barmode": "relative",
        "showlegend": true,
        "template": {
         "data": {
          "bar": [
           {
            "error_x": {
             "color": "#2a3f5f"
            },
            "error_y": {
             "color": "#2a3f5f"
            },
            "marker": {
             "line": {
              "color": "#E5ECF6",
              "width": 0.5
             },
             "pattern": {
              "fillmode": "overlay",
              "size": 10,
              "solidity": 0.2
             }
            },
            "type": "bar"
           }
          ],
          "barpolar": [
           {
            "marker": {
             "line": {
              "color": "#E5ECF6",
              "width": 0.5
             },
             "pattern": {
              "fillmode": "overlay",
              "size": 10,
              "solidity": 0.2
             }
            },
            "type": "barpolar"
           }
          ],
          "carpet": [
           {
            "aaxis": {
             "endlinecolor": "#2a3f5f",
             "gridcolor": "white",
             "linecolor": "white",
             "minorgridcolor": "white",
             "startlinecolor": "#2a3f5f"
            },
            "baxis": {
             "endlinecolor": "#2a3f5f",
             "gridcolor": "white",
             "linecolor": "white",
             "minorgridcolor": "white",
             "startlinecolor": "#2a3f5f"
            },
            "type": "carpet"
           }
          ],
          "choropleth": [
           {
            "colorbar": {
             "outlinewidth": 0,
             "ticks": ""
            },
            "type": "choropleth"
           }
          ],
          "contour": [
           {
            "colorbar": {
             "outlinewidth": 0,
             "ticks": ""
            },
            "colorscale": [
             [
              0,
              "#0d0887"
             ],
             [
              0.1111111111111111,
              "#46039f"
             ],
             [
              0.2222222222222222,
              "#7201a8"
             ],
             [
              0.3333333333333333,
              "#9c179e"
             ],
             [
              0.4444444444444444,
              "#bd3786"
             ],
             [
              0.5555555555555556,
              "#d8576b"
             ],
             [
              0.6666666666666666,
              "#ed7953"
             ],
             [
              0.7777777777777778,
              "#fb9f3a"
             ],
             [
              0.8888888888888888,
              "#fdca26"
             ],
             [
              1,
              "#f0f921"
             ]
            ],
            "type": "contour"
           }
          ],
          "contourcarpet": [
           {
            "colorbar": {
             "outlinewidth": 0,
             "ticks": ""
            },
            "type": "contourcarpet"
           }
          ],
          "heatmap": [
           {
            "colorbar": {
             "outlinewidth": 0,
             "ticks": ""
            },
            "colorscale": [
             [
              0,
              "#0d0887"
             ],
             [
              0.1111111111111111,
              "#46039f"
             ],
             [
              0.2222222222222222,
              "#7201a8"
             ],
             [
              0.3333333333333333,
              "#9c179e"
             ],
             [
              0.4444444444444444,
              "#bd3786"
             ],
             [
              0.5555555555555556,
              "#d8576b"
             ],
             [
              0.6666666666666666,
              "#ed7953"
             ],
             [
              0.7777777777777778,
              "#fb9f3a"
             ],
             [
              0.8888888888888888,
              "#fdca26"
             ],
             [
              1,
              "#f0f921"
             ]
            ],
            "type": "heatmap"
           }
          ],
          "heatmapgl": [
           {
            "colorbar": {
             "outlinewidth": 0,
             "ticks": ""
            },
            "colorscale": [
             [
              0,
              "#0d0887"
             ],
             [
              0.1111111111111111,
              "#46039f"
             ],
             [
              0.2222222222222222,
              "#7201a8"
             ],
             [
              0.3333333333333333,
              "#9c179e"
             ],
             [
              0.4444444444444444,
              "#bd3786"
             ],
             [
              0.5555555555555556,
              "#d8576b"
             ],
             [
              0.6666666666666666,
              "#ed7953"
             ],
             [
              0.7777777777777778,
              "#fb9f3a"
             ],
             [
              0.8888888888888888,
              "#fdca26"
             ],
             [
              1,
              "#f0f921"
             ]
            ],
            "type": "heatmapgl"
           }
          ],
          "histogram": [
           {
            "marker": {
             "pattern": {
              "fillmode": "overlay",
              "size": 10,
              "solidity": 0.2
             }
            },
            "type": "histogram"
           }
          ],
          "histogram2d": [
           {
            "colorbar": {
             "outlinewidth": 0,
             "ticks": ""
            },
            "colorscale": [
             [
              0,
              "#0d0887"
             ],
             [
              0.1111111111111111,
              "#46039f"
             ],
             [
              0.2222222222222222,
              "#7201a8"
             ],
             [
              0.3333333333333333,
              "#9c179e"
             ],
             [
              0.4444444444444444,
              "#bd3786"
             ],
             [
              0.5555555555555556,
              "#d8576b"
             ],
             [
              0.6666666666666666,
              "#ed7953"
             ],
             [
              0.7777777777777778,
              "#fb9f3a"
             ],
             [
              0.8888888888888888,
              "#fdca26"
             ],
             [
              1,
              "#f0f921"
             ]
            ],
            "type": "histogram2d"
           }
          ],
          "histogram2dcontour": [
           {
            "colorbar": {
             "outlinewidth": 0,
             "ticks": ""
            },
            "colorscale": [
             [
              0,
              "#0d0887"
             ],
             [
              0.1111111111111111,
              "#46039f"
             ],
             [
              0.2222222222222222,
              "#7201a8"
             ],
             [
              0.3333333333333333,
              "#9c179e"
             ],
             [
              0.4444444444444444,
              "#bd3786"
             ],
             [
              0.5555555555555556,
              "#d8576b"
             ],
             [
              0.6666666666666666,
              "#ed7953"
             ],
             [
              0.7777777777777778,
              "#fb9f3a"
             ],
             [
              0.8888888888888888,
              "#fdca26"
             ],
             [
              1,
              "#f0f921"
             ]
            ],
            "type": "histogram2dcontour"
           }
          ],
          "mesh3d": [
           {
            "colorbar": {
             "outlinewidth": 0,
             "ticks": ""
            },
            "type": "mesh3d"
           }
          ],
          "parcoords": [
           {
            "line": {
             "colorbar": {
              "outlinewidth": 0,
              "ticks": ""
             }
            },
            "type": "parcoords"
           }
          ],
          "pie": [
           {
            "automargin": true,
            "type": "pie"
           }
          ],
          "scatter": [
           {
            "marker": {
             "colorbar": {
              "outlinewidth": 0,
              "ticks": ""
             }
            },
            "type": "scatter"
           }
          ],
          "scatter3d": [
           {
            "line": {
             "colorbar": {
              "outlinewidth": 0,
              "ticks": ""
             }
            },
            "marker": {
             "colorbar": {
              "outlinewidth": 0,
              "ticks": ""
             }
            },
            "type": "scatter3d"
           }
          ],
          "scattercarpet": [
           {
            "marker": {
             "colorbar": {
              "outlinewidth": 0,
              "ticks": ""
             }
            },
            "type": "scattercarpet"
           }
          ],
          "scattergeo": [
           {
            "marker": {
             "colorbar": {
              "outlinewidth": 0,
              "ticks": ""
             }
            },
            "type": "scattergeo"
           }
          ],
          "scattergl": [
           {
            "marker": {
             "colorbar": {
              "outlinewidth": 0,
              "ticks": ""
             }
            },
            "type": "scattergl"
           }
          ],
          "scattermapbox": [
           {
            "marker": {
             "colorbar": {
              "outlinewidth": 0,
              "ticks": ""
             }
            },
            "type": "scattermapbox"
           }
          ],
          "scatterpolar": [
           {
            "marker": {
             "colorbar": {
              "outlinewidth": 0,
              "ticks": ""
             }
            },
            "type": "scatterpolar"
           }
          ],
          "scatterpolargl": [
           {
            "marker": {
             "colorbar": {
              "outlinewidth": 0,
              "ticks": ""
             }
            },
            "type": "scatterpolargl"
           }
          ],
          "scatterternary": [
           {
            "marker": {
             "colorbar": {
              "outlinewidth": 0,
              "ticks": ""
             }
            },
            "type": "scatterternary"
           }
          ],
          "surface": [
           {
            "colorbar": {
             "outlinewidth": 0,
             "ticks": ""
            },
            "colorscale": [
             [
              0,
              "#0d0887"
             ],
             [
              0.1111111111111111,
              "#46039f"
             ],
             [
              0.2222222222222222,
              "#7201a8"
             ],
             [
              0.3333333333333333,
              "#9c179e"
             ],
             [
              0.4444444444444444,
              "#bd3786"
             ],
             [
              0.5555555555555556,
              "#d8576b"
             ],
             [
              0.6666666666666666,
              "#ed7953"
             ],
             [
              0.7777777777777778,
              "#fb9f3a"
             ],
             [
              0.8888888888888888,
              "#fdca26"
             ],
             [
              1,
              "#f0f921"
             ]
            ],
            "type": "surface"
           }
          ],
          "table": [
           {
            "cells": {
             "fill": {
              "color": "#EBF0F8"
             },
             "line": {
              "color": "white"
             }
            },
            "header": {
             "fill": {
              "color": "#C8D4E3"
             },
             "line": {
              "color": "white"
             }
            },
            "type": "table"
           }
          ]
         },
         "layout": {
          "annotationdefaults": {
           "arrowcolor": "#2a3f5f",
           "arrowhead": 0,
           "arrowwidth": 1
          },
          "autotypenumbers": "strict",
          "coloraxis": {
           "colorbar": {
            "outlinewidth": 0,
            "ticks": ""
           }
          },
          "colorscale": {
           "diverging": [
            [
             0,
             "#8e0152"
            ],
            [
             0.1,
             "#c51b7d"
            ],
            [
             0.2,
             "#de77ae"
            ],
            [
             0.3,
             "#f1b6da"
            ],
            [
             0.4,
             "#fde0ef"
            ],
            [
             0.5,
             "#f7f7f7"
            ],
            [
             0.6,
             "#e6f5d0"
            ],
            [
             0.7,
             "#b8e186"
            ],
            [
             0.8,
             "#7fbc41"
            ],
            [
             0.9,
             "#4d9221"
            ],
            [
             1,
             "#276419"
            ]
           ],
           "sequential": [
            [
             0,
             "#0d0887"
            ],
            [
             0.1111111111111111,
             "#46039f"
            ],
            [
             0.2222222222222222,
             "#7201a8"
            ],
            [
             0.3333333333333333,
             "#9c179e"
            ],
            [
             0.4444444444444444,
             "#bd3786"
            ],
            [
             0.5555555555555556,
             "#d8576b"
            ],
            [
             0.6666666666666666,
             "#ed7953"
            ],
            [
             0.7777777777777778,
             "#fb9f3a"
            ],
            [
             0.8888888888888888,
             "#fdca26"
            ],
            [
             1,
             "#f0f921"
            ]
           ],
           "sequentialminus": [
            [
             0,
             "#0d0887"
            ],
            [
             0.1111111111111111,
             "#46039f"
            ],
            [
             0.2222222222222222,
             "#7201a8"
            ],
            [
             0.3333333333333333,
             "#9c179e"
            ],
            [
             0.4444444444444444,
             "#bd3786"
            ],
            [
             0.5555555555555556,
             "#d8576b"
            ],
            [
             0.6666666666666666,
             "#ed7953"
            ],
            [
             0.7777777777777778,
             "#fb9f3a"
            ],
            [
             0.8888888888888888,
             "#fdca26"
            ],
            [
             1,
             "#f0f921"
            ]
           ]
          },
          "colorway": [
           "#636efa",
           "#EF553B",
           "#00cc96",
           "#ab63fa",
           "#FFA15A",
           "#19d3f3",
           "#FF6692",
           "#B6E880",
           "#FF97FF",
           "#FECB52"
          ],
          "font": {
           "color": "#2a3f5f"
          },
          "geo": {
           "bgcolor": "white",
           "lakecolor": "white",
           "landcolor": "#E5ECF6",
           "showlakes": true,
           "showland": true,
           "subunitcolor": "white"
          },
          "hoverlabel": {
           "align": "left"
          },
          "hovermode": "closest",
          "mapbox": {
           "style": "light"
          },
          "paper_bgcolor": "white",
          "plot_bgcolor": "#E5ECF6",
          "polar": {
           "angularaxis": {
            "gridcolor": "white",
            "linecolor": "white",
            "ticks": ""
           },
           "bgcolor": "#E5ECF6",
           "radialaxis": {
            "gridcolor": "white",
            "linecolor": "white",
            "ticks": ""
           }
          },
          "scene": {
           "xaxis": {
            "backgroundcolor": "#E5ECF6",
            "gridcolor": "white",
            "gridwidth": 2,
            "linecolor": "white",
            "showbackground": true,
            "ticks": "",
            "zerolinecolor": "white"
           },
           "yaxis": {
            "backgroundcolor": "#E5ECF6",
            "gridcolor": "white",
            "gridwidth": 2,
            "linecolor": "white",
            "showbackground": true,
            "ticks": "",
            "zerolinecolor": "white"
           },
           "zaxis": {
            "backgroundcolor": "#E5ECF6",
            "gridcolor": "white",
            "gridwidth": 2,
            "linecolor": "white",
            "showbackground": true,
            "ticks": "",
            "zerolinecolor": "white"
           }
          },
          "shapedefaults": {
           "line": {
            "color": "#2a3f5f"
           }
          },
          "ternary": {
           "aaxis": {
            "gridcolor": "white",
            "linecolor": "white",
            "ticks": ""
           },
           "baxis": {
            "gridcolor": "white",
            "linecolor": "white",
            "ticks": ""
           },
           "bgcolor": "#E5ECF6",
           "caxis": {
            "gridcolor": "white",
            "linecolor": "white",
            "ticks": ""
           }
          },
          "title": {
           "x": 0.05
          },
          "xaxis": {
           "automargin": true,
           "gridcolor": "white",
           "linecolor": "white",
           "ticks": "",
           "title": {
            "standoff": 15
           },
           "zerolinecolor": "white",
           "zerolinewidth": 2
          },
          "yaxis": {
           "automargin": true,
           "gridcolor": "white",
           "linecolor": "white",
           "ticks": "",
           "title": {
            "standoff": 15
           },
           "zerolinecolor": "white",
           "zerolinewidth": 2
          }
         }
        },
        "title": {
         "text": "Title:2 Methods vs BAAFFM"
        },
        "xaxis": {
         "anchor": "y",
         "domain": [
          0,
          0.94
         ]
        },
        "yaxis": {
         "anchor": "x",
         "domain": [
          0,
          1
         ],
         "title": {
          "text": "Probability of Default"
         }
        },
        "yaxis2": {
         "anchor": "x",
         "overlaying": "y",
         "side": "right",
         "title": {
          "text": "Economic Indicator in %"
         }
        }
       }
      },
      "text/html": [
       "<div>                            <div id=\"eecfef87-f175-4c42-934e-749c30722d33\" class=\"plotly-graph-div\" style=\"height:525px; width:100%;\"></div>            <script type=\"text/javascript\">                require([\"plotly\"], function(Plotly) {                    window.PLOTLYENV=window.PLOTLYENV || {};                                    if (document.getElementById(\"eecfef87-f175-4c42-934e-749c30722d33\")) {                    Plotly.newPlot(                        \"eecfef87-f175-4c42-934e-749c30722d33\",                        [{\"name\":\"pd_naive_0.05_0.25_mean\",\"x\":[1971,1972,1973,1974,1975,1976,1977,1978,1979,1980,1981,1982,1983,1984,1985,1986,1987,1988,1989,1990,1991,1992,1993,1994,1995,1996,1997,1998,1999,2000,2001,2002,2003,2004,2005,2006,2007,2008,2009,2010,2011,2012,2013,2014,2015,2016,2017,2018,2019,2020],\"y\":[0.35490506657794535,0.37157535012857934,0.3149919774896243,0.31297775774009234,0.352063834573166,0.3851726776884225,0.37812070599748104,0.3138302421447268,0.26364841663860267,0.20767929755045422,0.19011666173927533,0.22006510485039696,0.2882855996694874,0.2526865270512431,0.28159544555636723,0.3123069155024722,0.34682144910716395,0.40809462871579305,0.34064272506854093,0.3447712734557184,0.39583501457013975,0.43382259841233484,0.4539525372252281,0.4470965573865166,0.3957517457656331,0.39555289749447964,0.39279979508087115,0.39370982946430005,0.42430348412426117,0.39968419032540103,0.4182325198169806,0.4745599992186198,0.47847357852219424,0.455648885021958,0.4129111522141456,0.35523386258260614,0.32519309481196385,0.3895426719435786,0.5087569616150917,0.5066609420309105,0.4726883183262071,0.4799543353690769,0.46903247153490996,0.46110836570554636,0.4719477984225415,0.48515410156062283,0.4790861225200176,0.43904628541799584,0.42304759975535056,0.44469041548689653],\"type\":\"scatter\",\"xaxis\":\"x\",\"yaxis\":\"y\"},{\"name\":\"pd_naive_0.05_0.5_mean\",\"x\":[1971,1972,1973,1974,1975,1976,1977,1978,1979,1980,1981,1982,1983,1984,1985,1986,1987,1988,1989,1990,1991,1992,1993,1994,1995,1996,1997,1998,1999,2000,2001,2002,2003,2004,2005,2006,2007,2008,2009,2010,2011,2012,2013,2014,2015,2016,2017,2018,2019,2020],\"y\":[0.42988095648927027,0.4341897020187115,0.38956313405352866,0.4058180743663179,0.4419741918624336,0.462574769782831,0.4483540800794165,0.39723722369464226,0.3678143568393752,0.32182713419635944,0.3139477084478793,0.33120719822170536,0.38433445222020785,0.3529736230093248,0.3749462095289734,0.40430414265284503,0.4312773614707082,0.49567360718295,0.4408103067935459,0.4408559678620168,0.4856421893516876,0.509079491324675,0.5263966510255208,0.5165138093099364,0.47934445394427305,0.4762690489838378,0.47401203660503305,0.4749789623049884,0.5001102575348685,0.48053678628822816,0.5028965756123305,0.529562975208343,0.527140918751863,0.4986645319711877,0.4687259447168352,0.42489087347455384,0.4005261285824598,0.45027020375768956,0.5539002852157956,0.5506432012284544,0.5083319763794025,0.5160077684691228,0.5035747888414625,0.4963646142708083,0.5040892034560787,0.5200172327187705,0.5181468302397271,0.48337635250857625,0.4768202495153575,0.49460839636682785],\"type\":\"scatter\",\"xaxis\":\"x\",\"yaxis\":\"y\"},{\"name\":\"pd_naive_0_0.25_mean\",\"x\":[1971,1972,1973,1974,1975,1976,1977,1978,1979,1980,1981,1982,1983,1984,1985,1986,1987,1988,1989,1990,1991,1992,1993,1994,1995,1996,1997,1998,1999,2000,2001,2002,2003,2004,2005,2006,2007,2008,2009,2010,2011,2012,2013,2014,2015,2016,2017,2018,2019,2020],\"y\":[0.25958537080070765,0.27185747738018623,0.19475598228116855,0.21399792266605663,0.26801283277657106,0.3040720494414848,0.28099275540179086,0.18868766352300437,0.15714742739959991,0.11202890929176407,0.10524500339895103,0.1245463171771926,0.18850466775268224,0.15807636070871542,0.18437127129446623,0.21245661638078894,0.2739208183510222,0.36227255987903184,0.2730840725169305,0.2750844712721467,0.3417648793470503,0.3919933421664867,0.4158912374741807,0.4063416223532727,0.33640819723250065,0.33313946528604804,0.32737141141796783,0.3298575325311629,0.37573002010843637,0.34311859043672105,0.3691614220789625,0.4427831782978619,0.44809939741879246,0.41903507149925173,0.34789541279439945,0.26536423746885013,0.2214141486444676,0.3207224661804273,0.4935016399565367,0.48734619219527703,0.44266485179526627,0.4574455374815508,0.4407343192208937,0.43154722041605154,0.4461967319957858,0.45924657087875087,0.44833992861874045,0.3821607195174208,0.36327920256941876,0.39292939832826534],\"type\":\"scatter\",\"xaxis\":\"x\",\"yaxis\":\"y\"},{\"name\":\"pd_method_2_mean\",\"x\":[1971,1972,1973,1974,1975,1976,1977,1978,1979,1980,1981,1982,1983,1984,1985,1986,1987,1988,1989,1990,1991,1992,1993,1994,1995,1996,1997,1998,1999,2000,2001,2002,2003,2004,2005,2006,2007,2008,2009,2010,2011,2012,2013,2014,2015,2016,2017,2018,2019,2020],\"y\":[0.04534536824990028,0.017804027191112973,0.04076918790399936,0.14557682687842774,0.19504734598955556,0.11974539775333248,0.07869066160607735,0.06575549686289311,0.1492150525554082,0.22809955245077082,0.2653388702251512,0.22167732272073795,0.11371551991791082,0.09777336654159806,0.10397780286072852,0.12232684290673504,0.09649525995757828,0.21091427280480285,0.18594779889543261,0.18344757683332769,0.25911744378598284,0.2297703257955053,0.24109017892595294,0.21116765873039642,0.20616404745015973,0.1889527489634825,0.176960311617884,0.15043292858854934,0.20170960578819766,0.22643778036946927,0.29013993529237697,0.22624516340951847,0.2404696056552978,0.2497053764801075,0.12527193911702666,0.0582473563819442,0.05439272963186461,0.09823959576543834,0.32849730174919084,0.3930519405499861,0.37038625328577834,0.34646019653011834,0.36025944025889534,0.3774630563670733,0.34929121364834137,0.34164254535083205,0.30771561938810077,0.23555271736484484,0.12884376040224974,0.21754669115181788],\"type\":\"scatter\",\"xaxis\":\"x\",\"yaxis\":\"y\"},{\"name\":\"BAAFFM\",\"x\":[1971,1972,1973,1974,1975,1976,1977,1978,1979,1980,1981,1982,1983,1984,1985,1986,1987,1988,1989,1990,1991,1992,1993,1994,1995,1996,1997,1998,1999,2000,2001,2002,2003,2004,2005,2006,2007,2008,2009,2010,2011,2012,2013,2014,2015,2016,2017,2018,2019,2020],\"y\":[3.9025000000000003,3.724166666666667,-0.4866666666666668,-1.0058333333333331,4.785833333333333,4.701666666666667,3.4316666666666666,1.5574999999999999,-0.5041666666666667,0.31249999999999994,-0.3341666666666668,3.855,4.4675,3.965,4.614166666666667,3.5858333333333334,3.918333333333333,3.2616666666666667,0.9608333333333334,2.2558333333333334,4.114166666666667,5.454999999999999,4.9075,4.4208333333333325,2.3641666666666663,2.7558333333333334,2.4025000000000003,1.8675,2.9008333333333334,2.1283333333333334,4.06,6.134999999999999,5.638333333333333,5.0441666666666665,2.8508333333333327,1.515,1.4633333333333336,5.519166666666667,7.135833333333334,5.863333333333333,5.5625,4.795000000000001,4.994166666666667,4.765,4.866666666666667,4.322499999999999,3.438333333333334,2.9683333333333333,2.2175,3.2291666666666665],\"type\":\"scatter\",\"xaxis\":\"x\",\"yaxis\":\"y2\"}],                        {\"template\":{\"data\":{\"bar\":[{\"error_x\":{\"color\":\"#2a3f5f\"},\"error_y\":{\"color\":\"#2a3f5f\"},\"marker\":{\"line\":{\"color\":\"#E5ECF6\",\"width\":0.5},\"pattern\":{\"fillmode\":\"overlay\",\"size\":10,\"solidity\":0.2}},\"type\":\"bar\"}],\"barpolar\":[{\"marker\":{\"line\":{\"color\":\"#E5ECF6\",\"width\":0.5},\"pattern\":{\"fillmode\":\"overlay\",\"size\":10,\"solidity\":0.2}},\"type\":\"barpolar\"}],\"carpet\":[{\"aaxis\":{\"endlinecolor\":\"#2a3f5f\",\"gridcolor\":\"white\",\"linecolor\":\"white\",\"minorgridcolor\":\"white\",\"startlinecolor\":\"#2a3f5f\"},\"baxis\":{\"endlinecolor\":\"#2a3f5f\",\"gridcolor\":\"white\",\"linecolor\":\"white\",\"minorgridcolor\":\"white\",\"startlinecolor\":\"#2a3f5f\"},\"type\":\"carpet\"}],\"choropleth\":[{\"colorbar\":{\"outlinewidth\":0,\"ticks\":\"\"},\"type\":\"choropleth\"}],\"contour\":[{\"colorbar\":{\"outlinewidth\":0,\"ticks\":\"\"},\"colorscale\":[[0.0,\"#0d0887\"],[0.1111111111111111,\"#46039f\"],[0.2222222222222222,\"#7201a8\"],[0.3333333333333333,\"#9c179e\"],[0.4444444444444444,\"#bd3786\"],[0.5555555555555556,\"#d8576b\"],[0.6666666666666666,\"#ed7953\"],[0.7777777777777778,\"#fb9f3a\"],[0.8888888888888888,\"#fdca26\"],[1.0,\"#f0f921\"]],\"type\":\"contour\"}],\"contourcarpet\":[{\"colorbar\":{\"outlinewidth\":0,\"ticks\":\"\"},\"type\":\"contourcarpet\"}],\"heatmap\":[{\"colorbar\":{\"outlinewidth\":0,\"ticks\":\"\"},\"colorscale\":[[0.0,\"#0d0887\"],[0.1111111111111111,\"#46039f\"],[0.2222222222222222,\"#7201a8\"],[0.3333333333333333,\"#9c179e\"],[0.4444444444444444,\"#bd3786\"],[0.5555555555555556,\"#d8576b\"],[0.6666666666666666,\"#ed7953\"],[0.7777777777777778,\"#fb9f3a\"],[0.8888888888888888,\"#fdca26\"],[1.0,\"#f0f921\"]],\"type\":\"heatmap\"}],\"heatmapgl\":[{\"colorbar\":{\"outlinewidth\":0,\"ticks\":\"\"},\"colorscale\":[[0.0,\"#0d0887\"],[0.1111111111111111,\"#46039f\"],[0.2222222222222222,\"#7201a8\"],[0.3333333333333333,\"#9c179e\"],[0.4444444444444444,\"#bd3786\"],[0.5555555555555556,\"#d8576b\"],[0.6666666666666666,\"#ed7953\"],[0.7777777777777778,\"#fb9f3a\"],[0.8888888888888888,\"#fdca26\"],[1.0,\"#f0f921\"]],\"type\":\"heatmapgl\"}],\"histogram\":[{\"marker\":{\"pattern\":{\"fillmode\":\"overlay\",\"size\":10,\"solidity\":0.2}},\"type\":\"histogram\"}],\"histogram2d\":[{\"colorbar\":{\"outlinewidth\":0,\"ticks\":\"\"},\"colorscale\":[[0.0,\"#0d0887\"],[0.1111111111111111,\"#46039f\"],[0.2222222222222222,\"#7201a8\"],[0.3333333333333333,\"#9c179e\"],[0.4444444444444444,\"#bd3786\"],[0.5555555555555556,\"#d8576b\"],[0.6666666666666666,\"#ed7953\"],[0.7777777777777778,\"#fb9f3a\"],[0.8888888888888888,\"#fdca26\"],[1.0,\"#f0f921\"]],\"type\":\"histogram2d\"}],\"histogram2dcontour\":[{\"colorbar\":{\"outlinewidth\":0,\"ticks\":\"\"},\"colorscale\":[[0.0,\"#0d0887\"],[0.1111111111111111,\"#46039f\"],[0.2222222222222222,\"#7201a8\"],[0.3333333333333333,\"#9c179e\"],[0.4444444444444444,\"#bd3786\"],[0.5555555555555556,\"#d8576b\"],[0.6666666666666666,\"#ed7953\"],[0.7777777777777778,\"#fb9f3a\"],[0.8888888888888888,\"#fdca26\"],[1.0,\"#f0f921\"]],\"type\":\"histogram2dcontour\"}],\"mesh3d\":[{\"colorbar\":{\"outlinewidth\":0,\"ticks\":\"\"},\"type\":\"mesh3d\"}],\"parcoords\":[{\"line\":{\"colorbar\":{\"outlinewidth\":0,\"ticks\":\"\"}},\"type\":\"parcoords\"}],\"pie\":[{\"automargin\":true,\"type\":\"pie\"}],\"scatter\":[{\"marker\":{\"colorbar\":{\"outlinewidth\":0,\"ticks\":\"\"}},\"type\":\"scatter\"}],\"scatter3d\":[{\"line\":{\"colorbar\":{\"outlinewidth\":0,\"ticks\":\"\"}},\"marker\":{\"colorbar\":{\"outlinewidth\":0,\"ticks\":\"\"}},\"type\":\"scatter3d\"}],\"scattercarpet\":[{\"marker\":{\"colorbar\":{\"outlinewidth\":0,\"ticks\":\"\"}},\"type\":\"scattercarpet\"}],\"scattergeo\":[{\"marker\":{\"colorbar\":{\"outlinewidth\":0,\"ticks\":\"\"}},\"type\":\"scattergeo\"}],\"scattergl\":[{\"marker\":{\"colorbar\":{\"outlinewidth\":0,\"ticks\":\"\"}},\"type\":\"scattergl\"}],\"scattermapbox\":[{\"marker\":{\"colorbar\":{\"outlinewidth\":0,\"ticks\":\"\"}},\"type\":\"scattermapbox\"}],\"scatterpolar\":[{\"marker\":{\"colorbar\":{\"outlinewidth\":0,\"ticks\":\"\"}},\"type\":\"scatterpolar\"}],\"scatterpolargl\":[{\"marker\":{\"colorbar\":{\"outlinewidth\":0,\"ticks\":\"\"}},\"type\":\"scatterpolargl\"}],\"scatterternary\":[{\"marker\":{\"colorbar\":{\"outlinewidth\":0,\"ticks\":\"\"}},\"type\":\"scatterternary\"}],\"surface\":[{\"colorbar\":{\"outlinewidth\":0,\"ticks\":\"\"},\"colorscale\":[[0.0,\"#0d0887\"],[0.1111111111111111,\"#46039f\"],[0.2222222222222222,\"#7201a8\"],[0.3333333333333333,\"#9c179e\"],[0.4444444444444444,\"#bd3786\"],[0.5555555555555556,\"#d8576b\"],[0.6666666666666666,\"#ed7953\"],[0.7777777777777778,\"#fb9f3a\"],[0.8888888888888888,\"#fdca26\"],[1.0,\"#f0f921\"]],\"type\":\"surface\"}],\"table\":[{\"cells\":{\"fill\":{\"color\":\"#EBF0F8\"},\"line\":{\"color\":\"white\"}},\"header\":{\"fill\":{\"color\":\"#C8D4E3\"},\"line\":{\"color\":\"white\"}},\"type\":\"table\"}]},\"layout\":{\"annotationdefaults\":{\"arrowcolor\":\"#2a3f5f\",\"arrowhead\":0,\"arrowwidth\":1},\"autotypenumbers\":\"strict\",\"coloraxis\":{\"colorbar\":{\"outlinewidth\":0,\"ticks\":\"\"}},\"colorscale\":{\"diverging\":[[0,\"#8e0152\"],[0.1,\"#c51b7d\"],[0.2,\"#de77ae\"],[0.3,\"#f1b6da\"],[0.4,\"#fde0ef\"],[0.5,\"#f7f7f7\"],[0.6,\"#e6f5d0\"],[0.7,\"#b8e186\"],[0.8,\"#7fbc41\"],[0.9,\"#4d9221\"],[1,\"#276419\"]],\"sequential\":[[0.0,\"#0d0887\"],[0.1111111111111111,\"#46039f\"],[0.2222222222222222,\"#7201a8\"],[0.3333333333333333,\"#9c179e\"],[0.4444444444444444,\"#bd3786\"],[0.5555555555555556,\"#d8576b\"],[0.6666666666666666,\"#ed7953\"],[0.7777777777777778,\"#fb9f3a\"],[0.8888888888888888,\"#fdca26\"],[1.0,\"#f0f921\"]],\"sequentialminus\":[[0.0,\"#0d0887\"],[0.1111111111111111,\"#46039f\"],[0.2222222222222222,\"#7201a8\"],[0.3333333333333333,\"#9c179e\"],[0.4444444444444444,\"#bd3786\"],[0.5555555555555556,\"#d8576b\"],[0.6666666666666666,\"#ed7953\"],[0.7777777777777778,\"#fb9f3a\"],[0.8888888888888888,\"#fdca26\"],[1.0,\"#f0f921\"]]},\"colorway\":[\"#636efa\",\"#EF553B\",\"#00cc96\",\"#ab63fa\",\"#FFA15A\",\"#19d3f3\",\"#FF6692\",\"#B6E880\",\"#FF97FF\",\"#FECB52\"],\"font\":{\"color\":\"#2a3f5f\"},\"geo\":{\"bgcolor\":\"white\",\"lakecolor\":\"white\",\"landcolor\":\"#E5ECF6\",\"showlakes\":true,\"showland\":true,\"subunitcolor\":\"white\"},\"hoverlabel\":{\"align\":\"left\"},\"hovermode\":\"closest\",\"mapbox\":{\"style\":\"light\"},\"paper_bgcolor\":\"white\",\"plot_bgcolor\":\"#E5ECF6\",\"polar\":{\"angularaxis\":{\"gridcolor\":\"white\",\"linecolor\":\"white\",\"ticks\":\"\"},\"bgcolor\":\"#E5ECF6\",\"radialaxis\":{\"gridcolor\":\"white\",\"linecolor\":\"white\",\"ticks\":\"\"}},\"scene\":{\"xaxis\":{\"backgroundcolor\":\"#E5ECF6\",\"gridcolor\":\"white\",\"gridwidth\":2,\"linecolor\":\"white\",\"showbackground\":true,\"ticks\":\"\",\"zerolinecolor\":\"white\"},\"yaxis\":{\"backgroundcolor\":\"#E5ECF6\",\"gridcolor\":\"white\",\"gridwidth\":2,\"linecolor\":\"white\",\"showbackground\":true,\"ticks\":\"\",\"zerolinecolor\":\"white\"},\"zaxis\":{\"backgroundcolor\":\"#E5ECF6\",\"gridcolor\":\"white\",\"gridwidth\":2,\"linecolor\":\"white\",\"showbackground\":true,\"ticks\":\"\",\"zerolinecolor\":\"white\"}},\"shapedefaults\":{\"line\":{\"color\":\"#2a3f5f\"}},\"ternary\":{\"aaxis\":{\"gridcolor\":\"white\",\"linecolor\":\"white\",\"ticks\":\"\"},\"baxis\":{\"gridcolor\":\"white\",\"linecolor\":\"white\",\"ticks\":\"\"},\"bgcolor\":\"#E5ECF6\",\"caxis\":{\"gridcolor\":\"white\",\"linecolor\":\"white\",\"ticks\":\"\"}},\"title\":{\"x\":0.05},\"xaxis\":{\"automargin\":true,\"gridcolor\":\"white\",\"linecolor\":\"white\",\"ticks\":\"\",\"title\":{\"standoff\":15},\"zerolinecolor\":\"white\",\"zerolinewidth\":2},\"yaxis\":{\"automargin\":true,\"gridcolor\":\"white\",\"linecolor\":\"white\",\"ticks\":\"\",\"title\":{\"standoff\":15},\"zerolinecolor\":\"white\",\"zerolinewidth\":2}}},\"xaxis\":{\"anchor\":\"y\",\"domain\":[0.0,0.94]},\"yaxis\":{\"anchor\":\"x\",\"domain\":[0.0,1.0],\"title\":{\"text\":\"Probability of Default\"}},\"yaxis2\":{\"anchor\":\"x\",\"overlaying\":\"y\",\"side\":\"right\",\"title\":{\"text\":\"Economic Indicator in %\"}},\"title\":{\"text\":\"Title:2 Methods vs BAAFFM\"},\"barmode\":\"relative\",\"showlegend\":true},                        {\"responsive\": true}                    ).then(function(){\n",
       "                            \n",
       "var gd = document.getElementById('eecfef87-f175-4c42-934e-749c30722d33');\n",
       "var x = new MutationObserver(function (mutations, observer) {{\n",
       "        var display = window.getComputedStyle(gd).display;\n",
       "        if (!display || display === 'none') {{\n",
       "            console.log([gd, 'removed!']);\n",
       "            Plotly.purge(gd);\n",
       "            observer.disconnect();\n",
       "        }}\n",
       "}});\n",
       "\n",
       "// Listen for the removal of the full notebook cells\n",
       "var notebookContainer = gd.closest('#notebook-container');\n",
       "if (notebookContainer) {{\n",
       "    x.observe(notebookContainer, {childList: true});\n",
       "}}\n",
       "\n",
       "// Listen for the clearing of the current output cell\n",
       "var outputEl = gd.closest('.output');\n",
       "if (outputEl) {{\n",
       "    x.observe(outputEl, {childList: true});\n",
       "}}\n",
       "\n",
       "                        })                };                });            </script>        </div>"
      ]
     },
     "metadata": {},
     "output_type": "display_data"
    }
   ],
   "source": [
    "mean_pd_all_columns = [\"fyear\",\"pd_naive_0.05_0.25_mean\",\"pd_naive_0.05_0.5_mean\",\"pd_naive_0_0.25_mean\",\"pd_method_2_mean\"]\n",
    "mean_pd_all_methods = descriptive_stats_across_time[mean_pd_all_columns]\n",
    "plot_chart(mean_pd_all_methods,\"2 Methods vs BAAFFM\",\"Probability of Default\", \"fyear\")\n",
    "\n",
    "mean_pd_plot = pd.merge(mean_pd_all_methods,fred_baaffm,on=\"fyear\",how=\"inner\")\n",
    "plot_chart_with_macro(mean_pd_plot,\"2 Methods vs BAAFFM\",\"Probability of Default\", \"fyear\")"
   ]
  },
  {
   "cell_type": "markdown",
   "metadata": {},
   "source": [
    "### Median DD 2 methods vs CF Stress Index"
   ]
  },
  {
   "cell_type": "code",
   "execution_count": 220,
   "metadata": {},
   "outputs": [
    {
     "data": {
      "application/vnd.plotly.v1+json": {
       "config": {
        "plotlyServerURL": "https://plot.ly"
       },
       "data": [
        {
         "name": "dd_naive_0.05_0.25_50%",
         "type": "scatter",
         "x": [
          2011,
          2012,
          2013,
          2014,
          2015,
          2016
         ],
         "xaxis": "x",
         "y": [
          -0.013734777256378693,
          -0.044967627935942674,
          -0.0197126600344075,
          -0.00978315427935646,
          -0.025199672550510813,
          -0.01903036021143518
         ],
         "yaxis": "y"
        },
        {
         "name": "dd_naive_0.05_0.5_50%",
         "type": "scatter",
         "x": [
          2011,
          2012,
          2013,
          2014,
          2015,
          2016
         ],
         "xaxis": "x",
         "y": [
          -0.07035001790878209,
          -0.10551838694444102,
          -0.06686023790548055,
          -0.05925891575215557,
          -0.0707843973636802,
          -0.07302880129726878
         ],
         "yaxis": "y"
        },
        {
         "name": "dd_naive_0_0.25_50%",
         "type": "scatter",
         "x": [
          2011,
          2012,
          2013,
          2014,
          2015,
          2016
         ],
         "xaxis": "x",
         "y": [
          0.047560491728374246,
          -0.0051531644679111135,
          0.03417932284325222,
          0.05191888206702933,
          0.02425100910271555,
          0.03408609048908393
         ],
         "yaxis": "y"
        },
        {
         "name": "dd_method_2_50%",
         "type": "scatter",
         "x": [
          2011,
          2012,
          2013,
          2014,
          2015,
          2016
         ],
         "xaxis": "x",
         "y": [
          0.9222579170979224,
          0.6235641060839132,
          0.8684503999593304,
          0.7823483749073311,
          0.9593136725664378,
          0.7034752262126885
         ],
         "yaxis": "y"
        },
        {
         "name": "CFSI",
         "type": "scatter",
         "x": [
          2011,
          2012,
          2013,
          2014,
          2015,
          2016
         ],
         "xaxis": "x",
         "y": [
          1.2569709543568472,
          0.9601912568306017,
          -0.6497260273972605,
          -0.9894520547945209,
          0.17345205479452053,
          1.3861904761904764
         ],
         "yaxis": "y2"
        }
       ],
       "layout": {
        "barmode": "relative",
        "showlegend": true,
        "template": {
         "data": {
          "bar": [
           {
            "error_x": {
             "color": "#2a3f5f"
            },
            "error_y": {
             "color": "#2a3f5f"
            },
            "marker": {
             "line": {
              "color": "#E5ECF6",
              "width": 0.5
             },
             "pattern": {
              "fillmode": "overlay",
              "size": 10,
              "solidity": 0.2
             }
            },
            "type": "bar"
           }
          ],
          "barpolar": [
           {
            "marker": {
             "line": {
              "color": "#E5ECF6",
              "width": 0.5
             },
             "pattern": {
              "fillmode": "overlay",
              "size": 10,
              "solidity": 0.2
             }
            },
            "type": "barpolar"
           }
          ],
          "carpet": [
           {
            "aaxis": {
             "endlinecolor": "#2a3f5f",
             "gridcolor": "white",
             "linecolor": "white",
             "minorgridcolor": "white",
             "startlinecolor": "#2a3f5f"
            },
            "baxis": {
             "endlinecolor": "#2a3f5f",
             "gridcolor": "white",
             "linecolor": "white",
             "minorgridcolor": "white",
             "startlinecolor": "#2a3f5f"
            },
            "type": "carpet"
           }
          ],
          "choropleth": [
           {
            "colorbar": {
             "outlinewidth": 0,
             "ticks": ""
            },
            "type": "choropleth"
           }
          ],
          "contour": [
           {
            "colorbar": {
             "outlinewidth": 0,
             "ticks": ""
            },
            "colorscale": [
             [
              0,
              "#0d0887"
             ],
             [
              0.1111111111111111,
              "#46039f"
             ],
             [
              0.2222222222222222,
              "#7201a8"
             ],
             [
              0.3333333333333333,
              "#9c179e"
             ],
             [
              0.4444444444444444,
              "#bd3786"
             ],
             [
              0.5555555555555556,
              "#d8576b"
             ],
             [
              0.6666666666666666,
              "#ed7953"
             ],
             [
              0.7777777777777778,
              "#fb9f3a"
             ],
             [
              0.8888888888888888,
              "#fdca26"
             ],
             [
              1,
              "#f0f921"
             ]
            ],
            "type": "contour"
           }
          ],
          "contourcarpet": [
           {
            "colorbar": {
             "outlinewidth": 0,
             "ticks": ""
            },
            "type": "contourcarpet"
           }
          ],
          "heatmap": [
           {
            "colorbar": {
             "outlinewidth": 0,
             "ticks": ""
            },
            "colorscale": [
             [
              0,
              "#0d0887"
             ],
             [
              0.1111111111111111,
              "#46039f"
             ],
             [
              0.2222222222222222,
              "#7201a8"
             ],
             [
              0.3333333333333333,
              "#9c179e"
             ],
             [
              0.4444444444444444,
              "#bd3786"
             ],
             [
              0.5555555555555556,
              "#d8576b"
             ],
             [
              0.6666666666666666,
              "#ed7953"
             ],
             [
              0.7777777777777778,
              "#fb9f3a"
             ],
             [
              0.8888888888888888,
              "#fdca26"
             ],
             [
              1,
              "#f0f921"
             ]
            ],
            "type": "heatmap"
           }
          ],
          "heatmapgl": [
           {
            "colorbar": {
             "outlinewidth": 0,
             "ticks": ""
            },
            "colorscale": [
             [
              0,
              "#0d0887"
             ],
             [
              0.1111111111111111,
              "#46039f"
             ],
             [
              0.2222222222222222,
              "#7201a8"
             ],
             [
              0.3333333333333333,
              "#9c179e"
             ],
             [
              0.4444444444444444,
              "#bd3786"
             ],
             [
              0.5555555555555556,
              "#d8576b"
             ],
             [
              0.6666666666666666,
              "#ed7953"
             ],
             [
              0.7777777777777778,
              "#fb9f3a"
             ],
             [
              0.8888888888888888,
              "#fdca26"
             ],
             [
              1,
              "#f0f921"
             ]
            ],
            "type": "heatmapgl"
           }
          ],
          "histogram": [
           {
            "marker": {
             "pattern": {
              "fillmode": "overlay",
              "size": 10,
              "solidity": 0.2
             }
            },
            "type": "histogram"
           }
          ],
          "histogram2d": [
           {
            "colorbar": {
             "outlinewidth": 0,
             "ticks": ""
            },
            "colorscale": [
             [
              0,
              "#0d0887"
             ],
             [
              0.1111111111111111,
              "#46039f"
             ],
             [
              0.2222222222222222,
              "#7201a8"
             ],
             [
              0.3333333333333333,
              "#9c179e"
             ],
             [
              0.4444444444444444,
              "#bd3786"
             ],
             [
              0.5555555555555556,
              "#d8576b"
             ],
             [
              0.6666666666666666,
              "#ed7953"
             ],
             [
              0.7777777777777778,
              "#fb9f3a"
             ],
             [
              0.8888888888888888,
              "#fdca26"
             ],
             [
              1,
              "#f0f921"
             ]
            ],
            "type": "histogram2d"
           }
          ],
          "histogram2dcontour": [
           {
            "colorbar": {
             "outlinewidth": 0,
             "ticks": ""
            },
            "colorscale": [
             [
              0,
              "#0d0887"
             ],
             [
              0.1111111111111111,
              "#46039f"
             ],
             [
              0.2222222222222222,
              "#7201a8"
             ],
             [
              0.3333333333333333,
              "#9c179e"
             ],
             [
              0.4444444444444444,
              "#bd3786"
             ],
             [
              0.5555555555555556,
              "#d8576b"
             ],
             [
              0.6666666666666666,
              "#ed7953"
             ],
             [
              0.7777777777777778,
              "#fb9f3a"
             ],
             [
              0.8888888888888888,
              "#fdca26"
             ],
             [
              1,
              "#f0f921"
             ]
            ],
            "type": "histogram2dcontour"
           }
          ],
          "mesh3d": [
           {
            "colorbar": {
             "outlinewidth": 0,
             "ticks": ""
            },
            "type": "mesh3d"
           }
          ],
          "parcoords": [
           {
            "line": {
             "colorbar": {
              "outlinewidth": 0,
              "ticks": ""
             }
            },
            "type": "parcoords"
           }
          ],
          "pie": [
           {
            "automargin": true,
            "type": "pie"
           }
          ],
          "scatter": [
           {
            "marker": {
             "colorbar": {
              "outlinewidth": 0,
              "ticks": ""
             }
            },
            "type": "scatter"
           }
          ],
          "scatter3d": [
           {
            "line": {
             "colorbar": {
              "outlinewidth": 0,
              "ticks": ""
             }
            },
            "marker": {
             "colorbar": {
              "outlinewidth": 0,
              "ticks": ""
             }
            },
            "type": "scatter3d"
           }
          ],
          "scattercarpet": [
           {
            "marker": {
             "colorbar": {
              "outlinewidth": 0,
              "ticks": ""
             }
            },
            "type": "scattercarpet"
           }
          ],
          "scattergeo": [
           {
            "marker": {
             "colorbar": {
              "outlinewidth": 0,
              "ticks": ""
             }
            },
            "type": "scattergeo"
           }
          ],
          "scattergl": [
           {
            "marker": {
             "colorbar": {
              "outlinewidth": 0,
              "ticks": ""
             }
            },
            "type": "scattergl"
           }
          ],
          "scattermapbox": [
           {
            "marker": {
             "colorbar": {
              "outlinewidth": 0,
              "ticks": ""
             }
            },
            "type": "scattermapbox"
           }
          ],
          "scatterpolar": [
           {
            "marker": {
             "colorbar": {
              "outlinewidth": 0,
              "ticks": ""
             }
            },
            "type": "scatterpolar"
           }
          ],
          "scatterpolargl": [
           {
            "marker": {
             "colorbar": {
              "outlinewidth": 0,
              "ticks": ""
             }
            },
            "type": "scatterpolargl"
           }
          ],
          "scatterternary": [
           {
            "marker": {
             "colorbar": {
              "outlinewidth": 0,
              "ticks": ""
             }
            },
            "type": "scatterternary"
           }
          ],
          "surface": [
           {
            "colorbar": {
             "outlinewidth": 0,
             "ticks": ""
            },
            "colorscale": [
             [
              0,
              "#0d0887"
             ],
             [
              0.1111111111111111,
              "#46039f"
             ],
             [
              0.2222222222222222,
              "#7201a8"
             ],
             [
              0.3333333333333333,
              "#9c179e"
             ],
             [
              0.4444444444444444,
              "#bd3786"
             ],
             [
              0.5555555555555556,
              "#d8576b"
             ],
             [
              0.6666666666666666,
              "#ed7953"
             ],
             [
              0.7777777777777778,
              "#fb9f3a"
             ],
             [
              0.8888888888888888,
              "#fdca26"
             ],
             [
              1,
              "#f0f921"
             ]
            ],
            "type": "surface"
           }
          ],
          "table": [
           {
            "cells": {
             "fill": {
              "color": "#EBF0F8"
             },
             "line": {
              "color": "white"
             }
            },
            "header": {
             "fill": {
              "color": "#C8D4E3"
             },
             "line": {
              "color": "white"
             }
            },
            "type": "table"
           }
          ]
         },
         "layout": {
          "annotationdefaults": {
           "arrowcolor": "#2a3f5f",
           "arrowhead": 0,
           "arrowwidth": 1
          },
          "autotypenumbers": "strict",
          "coloraxis": {
           "colorbar": {
            "outlinewidth": 0,
            "ticks": ""
           }
          },
          "colorscale": {
           "diverging": [
            [
             0,
             "#8e0152"
            ],
            [
             0.1,
             "#c51b7d"
            ],
            [
             0.2,
             "#de77ae"
            ],
            [
             0.3,
             "#f1b6da"
            ],
            [
             0.4,
             "#fde0ef"
            ],
            [
             0.5,
             "#f7f7f7"
            ],
            [
             0.6,
             "#e6f5d0"
            ],
            [
             0.7,
             "#b8e186"
            ],
            [
             0.8,
             "#7fbc41"
            ],
            [
             0.9,
             "#4d9221"
            ],
            [
             1,
             "#276419"
            ]
           ],
           "sequential": [
            [
             0,
             "#0d0887"
            ],
            [
             0.1111111111111111,
             "#46039f"
            ],
            [
             0.2222222222222222,
             "#7201a8"
            ],
            [
             0.3333333333333333,
             "#9c179e"
            ],
            [
             0.4444444444444444,
             "#bd3786"
            ],
            [
             0.5555555555555556,
             "#d8576b"
            ],
            [
             0.6666666666666666,
             "#ed7953"
            ],
            [
             0.7777777777777778,
             "#fb9f3a"
            ],
            [
             0.8888888888888888,
             "#fdca26"
            ],
            [
             1,
             "#f0f921"
            ]
           ],
           "sequentialminus": [
            [
             0,
             "#0d0887"
            ],
            [
             0.1111111111111111,
             "#46039f"
            ],
            [
             0.2222222222222222,
             "#7201a8"
            ],
            [
             0.3333333333333333,
             "#9c179e"
            ],
            [
             0.4444444444444444,
             "#bd3786"
            ],
            [
             0.5555555555555556,
             "#d8576b"
            ],
            [
             0.6666666666666666,
             "#ed7953"
            ],
            [
             0.7777777777777778,
             "#fb9f3a"
            ],
            [
             0.8888888888888888,
             "#fdca26"
            ],
            [
             1,
             "#f0f921"
            ]
           ]
          },
          "colorway": [
           "#636efa",
           "#EF553B",
           "#00cc96",
           "#ab63fa",
           "#FFA15A",
           "#19d3f3",
           "#FF6692",
           "#B6E880",
           "#FF97FF",
           "#FECB52"
          ],
          "font": {
           "color": "#2a3f5f"
          },
          "geo": {
           "bgcolor": "white",
           "lakecolor": "white",
           "landcolor": "#E5ECF6",
           "showlakes": true,
           "showland": true,
           "subunitcolor": "white"
          },
          "hoverlabel": {
           "align": "left"
          },
          "hovermode": "closest",
          "mapbox": {
           "style": "light"
          },
          "paper_bgcolor": "white",
          "plot_bgcolor": "#E5ECF6",
          "polar": {
           "angularaxis": {
            "gridcolor": "white",
            "linecolor": "white",
            "ticks": ""
           },
           "bgcolor": "#E5ECF6",
           "radialaxis": {
            "gridcolor": "white",
            "linecolor": "white",
            "ticks": ""
           }
          },
          "scene": {
           "xaxis": {
            "backgroundcolor": "#E5ECF6",
            "gridcolor": "white",
            "gridwidth": 2,
            "linecolor": "white",
            "showbackground": true,
            "ticks": "",
            "zerolinecolor": "white"
           },
           "yaxis": {
            "backgroundcolor": "#E5ECF6",
            "gridcolor": "white",
            "gridwidth": 2,
            "linecolor": "white",
            "showbackground": true,
            "ticks": "",
            "zerolinecolor": "white"
           },
           "zaxis": {
            "backgroundcolor": "#E5ECF6",
            "gridcolor": "white",
            "gridwidth": 2,
            "linecolor": "white",
            "showbackground": true,
            "ticks": "",
            "zerolinecolor": "white"
           }
          },
          "shapedefaults": {
           "line": {
            "color": "#2a3f5f"
           }
          },
          "ternary": {
           "aaxis": {
            "gridcolor": "white",
            "linecolor": "white",
            "ticks": ""
           },
           "baxis": {
            "gridcolor": "white",
            "linecolor": "white",
            "ticks": ""
           },
           "bgcolor": "#E5ECF6",
           "caxis": {
            "gridcolor": "white",
            "linecolor": "white",
            "ticks": ""
           }
          },
          "title": {
           "x": 0.05
          },
          "xaxis": {
           "automargin": true,
           "gridcolor": "white",
           "linecolor": "white",
           "ticks": "",
           "title": {
            "standoff": 15
           },
           "zerolinecolor": "white",
           "zerolinewidth": 2
          },
          "yaxis": {
           "automargin": true,
           "gridcolor": "white",
           "linecolor": "white",
           "ticks": "",
           "title": {
            "standoff": 15
           },
           "zerolinecolor": "white",
           "zerolinewidth": 2
          }
         }
        },
        "title": {
         "text": "Title:Results vs CF Stress Index"
        },
        "xaxis": {
         "anchor": "y",
         "domain": [
          0,
          0.94
         ]
        },
        "yaxis": {
         "anchor": "x",
         "domain": [
          0,
          1
         ],
         "title": {
          "text": "DD in Years"
         }
        },
        "yaxis2": {
         "anchor": "x",
         "overlaying": "y",
         "side": "right",
         "title": {
          "text": "Economic Indicator in %"
         }
        }
       }
      },
      "text/html": [
       "<div>                            <div id=\"0d4b7bac-3b9e-46c3-9193-9696b1d518d7\" class=\"plotly-graph-div\" style=\"height:525px; width:100%;\"></div>            <script type=\"text/javascript\">                require([\"plotly\"], function(Plotly) {                    window.PLOTLYENV=window.PLOTLYENV || {};                                    if (document.getElementById(\"0d4b7bac-3b9e-46c3-9193-9696b1d518d7\")) {                    Plotly.newPlot(                        \"0d4b7bac-3b9e-46c3-9193-9696b1d518d7\",                        [{\"name\":\"dd_naive_0.05_0.25_50%\",\"x\":[2011,2012,2013,2014,2015,2016],\"y\":[-0.013734777256378693,-0.044967627935942674,-0.0197126600344075,-0.00978315427935646,-0.025199672550510813,-0.01903036021143518],\"type\":\"scatter\",\"xaxis\":\"x\",\"yaxis\":\"y\"},{\"name\":\"dd_naive_0.05_0.5_50%\",\"x\":[2011,2012,2013,2014,2015,2016],\"y\":[-0.07035001790878209,-0.10551838694444102,-0.06686023790548055,-0.05925891575215557,-0.0707843973636802,-0.07302880129726878],\"type\":\"scatter\",\"xaxis\":\"x\",\"yaxis\":\"y\"},{\"name\":\"dd_naive_0_0.25_50%\",\"x\":[2011,2012,2013,2014,2015,2016],\"y\":[0.047560491728374246,-0.0051531644679111135,0.03417932284325222,0.05191888206702933,0.02425100910271555,0.03408609048908393],\"type\":\"scatter\",\"xaxis\":\"x\",\"yaxis\":\"y\"},{\"name\":\"dd_method_2_50%\",\"x\":[2011,2012,2013,2014,2015,2016],\"y\":[0.9222579170979224,0.6235641060839132,0.8684503999593304,0.7823483749073311,0.9593136725664378,0.7034752262126885],\"type\":\"scatter\",\"xaxis\":\"x\",\"yaxis\":\"y\"},{\"name\":\"CFSI\",\"x\":[2011,2012,2013,2014,2015,2016],\"y\":[1.2569709543568472,0.9601912568306017,-0.6497260273972605,-0.9894520547945209,0.17345205479452053,1.3861904761904764],\"type\":\"scatter\",\"xaxis\":\"x\",\"yaxis\":\"y2\"}],                        {\"template\":{\"data\":{\"bar\":[{\"error_x\":{\"color\":\"#2a3f5f\"},\"error_y\":{\"color\":\"#2a3f5f\"},\"marker\":{\"line\":{\"color\":\"#E5ECF6\",\"width\":0.5},\"pattern\":{\"fillmode\":\"overlay\",\"size\":10,\"solidity\":0.2}},\"type\":\"bar\"}],\"barpolar\":[{\"marker\":{\"line\":{\"color\":\"#E5ECF6\",\"width\":0.5},\"pattern\":{\"fillmode\":\"overlay\",\"size\":10,\"solidity\":0.2}},\"type\":\"barpolar\"}],\"carpet\":[{\"aaxis\":{\"endlinecolor\":\"#2a3f5f\",\"gridcolor\":\"white\",\"linecolor\":\"white\",\"minorgridcolor\":\"white\",\"startlinecolor\":\"#2a3f5f\"},\"baxis\":{\"endlinecolor\":\"#2a3f5f\",\"gridcolor\":\"white\",\"linecolor\":\"white\",\"minorgridcolor\":\"white\",\"startlinecolor\":\"#2a3f5f\"},\"type\":\"carpet\"}],\"choropleth\":[{\"colorbar\":{\"outlinewidth\":0,\"ticks\":\"\"},\"type\":\"choropleth\"}],\"contour\":[{\"colorbar\":{\"outlinewidth\":0,\"ticks\":\"\"},\"colorscale\":[[0.0,\"#0d0887\"],[0.1111111111111111,\"#46039f\"],[0.2222222222222222,\"#7201a8\"],[0.3333333333333333,\"#9c179e\"],[0.4444444444444444,\"#bd3786\"],[0.5555555555555556,\"#d8576b\"],[0.6666666666666666,\"#ed7953\"],[0.7777777777777778,\"#fb9f3a\"],[0.8888888888888888,\"#fdca26\"],[1.0,\"#f0f921\"]],\"type\":\"contour\"}],\"contourcarpet\":[{\"colorbar\":{\"outlinewidth\":0,\"ticks\":\"\"},\"type\":\"contourcarpet\"}],\"heatmap\":[{\"colorbar\":{\"outlinewidth\":0,\"ticks\":\"\"},\"colorscale\":[[0.0,\"#0d0887\"],[0.1111111111111111,\"#46039f\"],[0.2222222222222222,\"#7201a8\"],[0.3333333333333333,\"#9c179e\"],[0.4444444444444444,\"#bd3786\"],[0.5555555555555556,\"#d8576b\"],[0.6666666666666666,\"#ed7953\"],[0.7777777777777778,\"#fb9f3a\"],[0.8888888888888888,\"#fdca26\"],[1.0,\"#f0f921\"]],\"type\":\"heatmap\"}],\"heatmapgl\":[{\"colorbar\":{\"outlinewidth\":0,\"ticks\":\"\"},\"colorscale\":[[0.0,\"#0d0887\"],[0.1111111111111111,\"#46039f\"],[0.2222222222222222,\"#7201a8\"],[0.3333333333333333,\"#9c179e\"],[0.4444444444444444,\"#bd3786\"],[0.5555555555555556,\"#d8576b\"],[0.6666666666666666,\"#ed7953\"],[0.7777777777777778,\"#fb9f3a\"],[0.8888888888888888,\"#fdca26\"],[1.0,\"#f0f921\"]],\"type\":\"heatmapgl\"}],\"histogram\":[{\"marker\":{\"pattern\":{\"fillmode\":\"overlay\",\"size\":10,\"solidity\":0.2}},\"type\":\"histogram\"}],\"histogram2d\":[{\"colorbar\":{\"outlinewidth\":0,\"ticks\":\"\"},\"colorscale\":[[0.0,\"#0d0887\"],[0.1111111111111111,\"#46039f\"],[0.2222222222222222,\"#7201a8\"],[0.3333333333333333,\"#9c179e\"],[0.4444444444444444,\"#bd3786\"],[0.5555555555555556,\"#d8576b\"],[0.6666666666666666,\"#ed7953\"],[0.7777777777777778,\"#fb9f3a\"],[0.8888888888888888,\"#fdca26\"],[1.0,\"#f0f921\"]],\"type\":\"histogram2d\"}],\"histogram2dcontour\":[{\"colorbar\":{\"outlinewidth\":0,\"ticks\":\"\"},\"colorscale\":[[0.0,\"#0d0887\"],[0.1111111111111111,\"#46039f\"],[0.2222222222222222,\"#7201a8\"],[0.3333333333333333,\"#9c179e\"],[0.4444444444444444,\"#bd3786\"],[0.5555555555555556,\"#d8576b\"],[0.6666666666666666,\"#ed7953\"],[0.7777777777777778,\"#fb9f3a\"],[0.8888888888888888,\"#fdca26\"],[1.0,\"#f0f921\"]],\"type\":\"histogram2dcontour\"}],\"mesh3d\":[{\"colorbar\":{\"outlinewidth\":0,\"ticks\":\"\"},\"type\":\"mesh3d\"}],\"parcoords\":[{\"line\":{\"colorbar\":{\"outlinewidth\":0,\"ticks\":\"\"}},\"type\":\"parcoords\"}],\"pie\":[{\"automargin\":true,\"type\":\"pie\"}],\"scatter\":[{\"marker\":{\"colorbar\":{\"outlinewidth\":0,\"ticks\":\"\"}},\"type\":\"scatter\"}],\"scatter3d\":[{\"line\":{\"colorbar\":{\"outlinewidth\":0,\"ticks\":\"\"}},\"marker\":{\"colorbar\":{\"outlinewidth\":0,\"ticks\":\"\"}},\"type\":\"scatter3d\"}],\"scattercarpet\":[{\"marker\":{\"colorbar\":{\"outlinewidth\":0,\"ticks\":\"\"}},\"type\":\"scattercarpet\"}],\"scattergeo\":[{\"marker\":{\"colorbar\":{\"outlinewidth\":0,\"ticks\":\"\"}},\"type\":\"scattergeo\"}],\"scattergl\":[{\"marker\":{\"colorbar\":{\"outlinewidth\":0,\"ticks\":\"\"}},\"type\":\"scattergl\"}],\"scattermapbox\":[{\"marker\":{\"colorbar\":{\"outlinewidth\":0,\"ticks\":\"\"}},\"type\":\"scattermapbox\"}],\"scatterpolar\":[{\"marker\":{\"colorbar\":{\"outlinewidth\":0,\"ticks\":\"\"}},\"type\":\"scatterpolar\"}],\"scatterpolargl\":[{\"marker\":{\"colorbar\":{\"outlinewidth\":0,\"ticks\":\"\"}},\"type\":\"scatterpolargl\"}],\"scatterternary\":[{\"marker\":{\"colorbar\":{\"outlinewidth\":0,\"ticks\":\"\"}},\"type\":\"scatterternary\"}],\"surface\":[{\"colorbar\":{\"outlinewidth\":0,\"ticks\":\"\"},\"colorscale\":[[0.0,\"#0d0887\"],[0.1111111111111111,\"#46039f\"],[0.2222222222222222,\"#7201a8\"],[0.3333333333333333,\"#9c179e\"],[0.4444444444444444,\"#bd3786\"],[0.5555555555555556,\"#d8576b\"],[0.6666666666666666,\"#ed7953\"],[0.7777777777777778,\"#fb9f3a\"],[0.8888888888888888,\"#fdca26\"],[1.0,\"#f0f921\"]],\"type\":\"surface\"}],\"table\":[{\"cells\":{\"fill\":{\"color\":\"#EBF0F8\"},\"line\":{\"color\":\"white\"}},\"header\":{\"fill\":{\"color\":\"#C8D4E3\"},\"line\":{\"color\":\"white\"}},\"type\":\"table\"}]},\"layout\":{\"annotationdefaults\":{\"arrowcolor\":\"#2a3f5f\",\"arrowhead\":0,\"arrowwidth\":1},\"autotypenumbers\":\"strict\",\"coloraxis\":{\"colorbar\":{\"outlinewidth\":0,\"ticks\":\"\"}},\"colorscale\":{\"diverging\":[[0,\"#8e0152\"],[0.1,\"#c51b7d\"],[0.2,\"#de77ae\"],[0.3,\"#f1b6da\"],[0.4,\"#fde0ef\"],[0.5,\"#f7f7f7\"],[0.6,\"#e6f5d0\"],[0.7,\"#b8e186\"],[0.8,\"#7fbc41\"],[0.9,\"#4d9221\"],[1,\"#276419\"]],\"sequential\":[[0.0,\"#0d0887\"],[0.1111111111111111,\"#46039f\"],[0.2222222222222222,\"#7201a8\"],[0.3333333333333333,\"#9c179e\"],[0.4444444444444444,\"#bd3786\"],[0.5555555555555556,\"#d8576b\"],[0.6666666666666666,\"#ed7953\"],[0.7777777777777778,\"#fb9f3a\"],[0.8888888888888888,\"#fdca26\"],[1.0,\"#f0f921\"]],\"sequentialminus\":[[0.0,\"#0d0887\"],[0.1111111111111111,\"#46039f\"],[0.2222222222222222,\"#7201a8\"],[0.3333333333333333,\"#9c179e\"],[0.4444444444444444,\"#bd3786\"],[0.5555555555555556,\"#d8576b\"],[0.6666666666666666,\"#ed7953\"],[0.7777777777777778,\"#fb9f3a\"],[0.8888888888888888,\"#fdca26\"],[1.0,\"#f0f921\"]]},\"colorway\":[\"#636efa\",\"#EF553B\",\"#00cc96\",\"#ab63fa\",\"#FFA15A\",\"#19d3f3\",\"#FF6692\",\"#B6E880\",\"#FF97FF\",\"#FECB52\"],\"font\":{\"color\":\"#2a3f5f\"},\"geo\":{\"bgcolor\":\"white\",\"lakecolor\":\"white\",\"landcolor\":\"#E5ECF6\",\"showlakes\":true,\"showland\":true,\"subunitcolor\":\"white\"},\"hoverlabel\":{\"align\":\"left\"},\"hovermode\":\"closest\",\"mapbox\":{\"style\":\"light\"},\"paper_bgcolor\":\"white\",\"plot_bgcolor\":\"#E5ECF6\",\"polar\":{\"angularaxis\":{\"gridcolor\":\"white\",\"linecolor\":\"white\",\"ticks\":\"\"},\"bgcolor\":\"#E5ECF6\",\"radialaxis\":{\"gridcolor\":\"white\",\"linecolor\":\"white\",\"ticks\":\"\"}},\"scene\":{\"xaxis\":{\"backgroundcolor\":\"#E5ECF6\",\"gridcolor\":\"white\",\"gridwidth\":2,\"linecolor\":\"white\",\"showbackground\":true,\"ticks\":\"\",\"zerolinecolor\":\"white\"},\"yaxis\":{\"backgroundcolor\":\"#E5ECF6\",\"gridcolor\":\"white\",\"gridwidth\":2,\"linecolor\":\"white\",\"showbackground\":true,\"ticks\":\"\",\"zerolinecolor\":\"white\"},\"zaxis\":{\"backgroundcolor\":\"#E5ECF6\",\"gridcolor\":\"white\",\"gridwidth\":2,\"linecolor\":\"white\",\"showbackground\":true,\"ticks\":\"\",\"zerolinecolor\":\"white\"}},\"shapedefaults\":{\"line\":{\"color\":\"#2a3f5f\"}},\"ternary\":{\"aaxis\":{\"gridcolor\":\"white\",\"linecolor\":\"white\",\"ticks\":\"\"},\"baxis\":{\"gridcolor\":\"white\",\"linecolor\":\"white\",\"ticks\":\"\"},\"bgcolor\":\"#E5ECF6\",\"caxis\":{\"gridcolor\":\"white\",\"linecolor\":\"white\",\"ticks\":\"\"}},\"title\":{\"x\":0.05},\"xaxis\":{\"automargin\":true,\"gridcolor\":\"white\",\"linecolor\":\"white\",\"ticks\":\"\",\"title\":{\"standoff\":15},\"zerolinecolor\":\"white\",\"zerolinewidth\":2},\"yaxis\":{\"automargin\":true,\"gridcolor\":\"white\",\"linecolor\":\"white\",\"ticks\":\"\",\"title\":{\"standoff\":15},\"zerolinecolor\":\"white\",\"zerolinewidth\":2}}},\"xaxis\":{\"anchor\":\"y\",\"domain\":[0.0,0.94]},\"yaxis\":{\"anchor\":\"x\",\"domain\":[0.0,1.0],\"title\":{\"text\":\"DD in Years\"}},\"yaxis2\":{\"anchor\":\"x\",\"overlaying\":\"y\",\"side\":\"right\",\"title\":{\"text\":\"Economic Indicator in %\"}},\"title\":{\"text\":\"Title:Results vs CF Stress Index\"},\"barmode\":\"relative\",\"showlegend\":true},                        {\"responsive\": true}                    ).then(function(){\n",
       "                            \n",
       "var gd = document.getElementById('0d4b7bac-3b9e-46c3-9193-9696b1d518d7');\n",
       "var x = new MutationObserver(function (mutations, observer) {{\n",
       "        var display = window.getComputedStyle(gd).display;\n",
       "        if (!display || display === 'none') {{\n",
       "            console.log([gd, 'removed!']);\n",
       "            Plotly.purge(gd);\n",
       "            observer.disconnect();\n",
       "        }}\n",
       "}});\n",
       "\n",
       "// Listen for the removal of the full notebook cells\n",
       "var notebookContainer = gd.closest('#notebook-container');\n",
       "if (notebookContainer) {{\n",
       "    x.observe(notebookContainer, {childList: true});\n",
       "}}\n",
       "\n",
       "// Listen for the clearing of the current output cell\n",
       "var outputEl = gd.closest('.output');\n",
       "if (outputEl) {{\n",
       "    x.observe(outputEl, {childList: true});\n",
       "}}\n",
       "\n",
       "                        })                };                });            </script>        </div>"
      ]
     },
     "metadata": {},
     "output_type": "display_data"
    }
   ],
   "source": [
    "p50_all_columns = [\"fyear\",\"dd_naive_0.05_0.25_50%\", \"dd_naive_0.05_0.5_50%\", \"dd_naive_0_0.25_50%\",\"dd_method_2_50%\"]\n",
    "p50_all_methods = descriptive_stats_across_time[p50_all_columns]\n",
    "\n",
    "to_plot = pd.merge(p50_all_methods,fred_cfsi,on=\"fyear\",how=\"inner\")\n",
    "plot_chart_with_macro(to_plot,\"Results vs CF Stress Index\",\"DD in Years\", \"fyear\")"
   ]
  },
  {
   "cell_type": "markdown",
   "metadata": {},
   "source": [
    "### Median PD all methods vs BAAFM"
   ]
  },
  {
   "cell_type": "code",
   "execution_count": 217,
   "metadata": {},
   "outputs": [
    {
     "data": {
      "application/vnd.plotly.v1+json": {
       "config": {
        "plotlyServerURL": "https://plot.ly"
       },
       "data": [
        {
         "name": "pd_naive_0.05_0.25_50%",
         "type": "scatter",
         "x": [
          1972,
          1976,
          1979,
          1980,
          1981,
          1982,
          1983,
          1985,
          1987,
          1989,
          1992,
          1993,
          1994,
          1995,
          1996,
          1997,
          2000,
          2002,
          2005,
          2008,
          2009,
          2013,
          2014,
          2015,
          2016,
          2017,
          2018,
          2019,
          2020
         ],
         "xaxis": "x",
         "y": [
          0.33995214406460755,
          0.36377233153705896,
          0.23783912376283295,
          0.2779835082383225,
          0.19735857949492502,
          0.1824856513632201,
          0.3203749385292073,
          0.21213729943858178,
          0.4528993134164696,
          0.36348593140579805,
          0.4939026178960659,
          0.5239555696001733,
          0.4401347633725542,
          0.337556026371326,
          0.40051540974264005,
          0.460065724888783,
          0.4614992519556444,
          0.46386219169043996,
          0.4433051543357809,
          0.40737098398121974,
          4.012988979206367e-07,
          0.48436777501693185,
          0.5450299422220561,
          0.5136718060435056,
          0.4999301789593216,
          0.49001345873625674,
          0.480620655016851,
          0.4578376770870288,
          0.45081012378110236
         ],
         "yaxis": "y"
        },
        {
         "name": "pd_naive_0.05_0.5_50%",
         "type": "scatter",
         "x": [
          1972,
          1976,
          1979,
          1980,
          1981,
          1982,
          1983,
          1985,
          1987,
          1989,
          1992,
          1993,
          1994,
          1995,
          1996,
          1997,
          2000,
          2002,
          2005,
          2008,
          2009,
          2013,
          2014,
          2015,
          2016,
          2017,
          2018,
          2019,
          2020
         ],
         "xaxis": "x",
         "y": [
          0.3938223769112583,
          0.448772548951937,
          0.34637159337746487,
          0.4026435004181119,
          0.33073875454401946,
          0.30572785441533323,
          0.41842765945560556,
          0.31339950199160144,
          0.5341495760350603,
          0.4772601118872648,
          0.5625418220906564,
          0.5969453895979198,
          0.5263464238568528,
          0.41829553269748154,
          0.4757047221260531,
          0.5357635944654962,
          0.574922416622229,
          0.5239660943580461,
          0.48515825833157455,
          0.47240476065827247,
          5.818710054218163e-07,
          0.5207498077898101,
          0.582058641659308,
          0.5225792787409562,
          0.5152885096058318,
          0.5200864751610246,
          0.523061126114715,
          0.5111134006930367,
          0.4847496849308572
         ],
         "yaxis": "y"
        },
        {
         "name": "pd_naive_0_0.25_50%",
         "type": "scatter",
         "x": [
          1972,
          1976,
          1979,
          1980,
          1981,
          1982,
          1983,
          1985,
          1987,
          1989,
          1992,
          1993,
          1994,
          1995,
          1996,
          1997,
          2000,
          2002,
          2005,
          2008,
          2009,
          2013,
          2014,
          2015,
          2016,
          2017,
          2018,
          2019,
          2020
         ],
         "xaxis": "x",
         "y": [
          0.1264998383591882,
          0.286581377103049,
          0.09921675642021327,
          0.1897873853315955,
          0.09614582435447987,
          0.06943613957992098,
          0.2204450932354679,
          0.1352622581675975,
          0.4193631729343326,
          0.31978931770850505,
          0.4702677061195787,
          0.5066030008514231,
          0.3831104765207924,
          0.22049964981566705,
          0.33658008908418496,
          0.4274035218515408,
          0.42853996115322435,
          0.4302737946904376,
          0.3745557289171354,
          0.3392872085982817,
          3.524167175489592e-07,
          0.4526479172944631,
          0.5346591158185865,
          0.49852740446006266,
          0.4692690747818609,
          0.459243327795181,
          0.4479268770024473,
          0.4166325138596362,
          0.37722158159534647
         ],
         "yaxis": "y"
        },
        {
         "name": "pd_method_2_50%",
         "type": "scatter",
         "x": [
          1972,
          1976,
          1979,
          1980,
          1981,
          1982,
          1983,
          1985,
          1987,
          1989,
          1992,
          1993,
          1994,
          1995,
          1996,
          1997,
          2000,
          2002,
          2005,
          2008,
          2009,
          2013,
          2014,
          2015,
          2016,
          2017,
          2018,
          2019,
          2020
         ],
         "xaxis": "x",
         "y": [
          2.829749852076488e-15,
          0.008728677141061993,
          0.00016543050733399566,
          0.02638440112249579,
          0.21836684072666568,
          0.0008752930245574761,
          0.004612174196934256,
          0.012884960197548985,
          0.16258379536547285,
          0.17039306678262645,
          0.21077915790828478,
          0.39235668117662603,
          0.34003547544953305,
          0.0002541965486509207,
          0.014104386283609455,
          0.14193115478051932,
          0.4999561397142188,
          0.053676824101829154,
          0.45703359336530724,
          0.0037681170905382072,
          2.3856569051075656e-07,
          0.5029457687362721,
          0.7292745898400336,
          4.762955255759243e-11,
          2.5831141613556766e-08,
          0.0011122645291450565,
          0.011971010029263957,
          0.016052878429937512,
          1.9693768645674557e-05
         ],
         "yaxis": "y"
        },
        {
         "name": "pd_method_3_50%",
         "type": "scatter",
         "x": [
          1972,
          1976,
          1979,
          1980,
          1981,
          1982,
          1983,
          1985,
          1987,
          1989,
          1992,
          1993,
          1994,
          1995,
          1996,
          1997,
          2000,
          2002,
          2005,
          2008,
          2009,
          2013,
          2014,
          2015,
          2016,
          2017,
          2018,
          2019,
          2020
         ],
         "xaxis": "x",
         "y": [
          1.6118865359553924e-35,
          2.1615850927561698e-11,
          8.606817922636306e-21,
          3.022965479509293e-05,
          0.007960725643995201,
          8.882417811090942e-31,
          2.4518332209726694e-09,
          3.7570948773864317e-19,
          0.030806856138706238,
          9.557601744697612e-06,
          0.0014712441588197887,
          2.2240887687025395e-05,
          0.07137195093156384,
          3.9545013719333217e-16,
          8.402881441872197e-12,
          0.000267184421183513,
          0.17652319995162755,
          1.2522666372054664e-09,
          3.9236023970485915e-24,
          6.085779572852263e-16,
          1.7442154452856077e-100,
          1.0308455764971724e-16,
          0.007028264523530014,
          1.1411418209410715e-34,
          3.5530755268691456e-58,
          6.542769718377011e-15,
          4.17747513321222e-23,
          5.50187241364403e-08,
          6.787608810298645e-17
         ],
         "yaxis": "y"
        },
        {
         "name": "BAAFFM",
         "type": "scatter",
         "x": [
          1972,
          1976,
          1979,
          1980,
          1981,
          1982,
          1983,
          1985,
          1987,
          1989,
          1992,
          1993,
          1994,
          1995,
          1996,
          1997,
          2000,
          2002,
          2005,
          2008,
          2009,
          2013,
          2014,
          2015,
          2016,
          2017,
          2018,
          2019,
          2020
         ],
         "xaxis": "x",
         "y": [
          3.724166666666667,
          4.701666666666667,
          -0.5041666666666667,
          0.31249999999999994,
          -0.3341666666666668,
          3.855,
          4.4675,
          4.614166666666667,
          3.918333333333333,
          0.9608333333333334,
          5.454999999999999,
          4.9075,
          4.4208333333333325,
          2.3641666666666663,
          2.7558333333333334,
          2.4025000000000003,
          2.1283333333333334,
          6.134999999999999,
          2.8508333333333327,
          5.519166666666667,
          7.135833333333334,
          4.994166666666667,
          4.765,
          4.866666666666667,
          4.322499999999999,
          3.438333333333334,
          2.9683333333333333,
          2.2175,
          3.2291666666666665
         ],
         "yaxis": "y2"
        }
       ],
       "layout": {
        "barmode": "relative",
        "showlegend": true,
        "template": {
         "data": {
          "bar": [
           {
            "error_x": {
             "color": "#2a3f5f"
            },
            "error_y": {
             "color": "#2a3f5f"
            },
            "marker": {
             "line": {
              "color": "#E5ECF6",
              "width": 0.5
             },
             "pattern": {
              "fillmode": "overlay",
              "size": 10,
              "solidity": 0.2
             }
            },
            "type": "bar"
           }
          ],
          "barpolar": [
           {
            "marker": {
             "line": {
              "color": "#E5ECF6",
              "width": 0.5
             },
             "pattern": {
              "fillmode": "overlay",
              "size": 10,
              "solidity": 0.2
             }
            },
            "type": "barpolar"
           }
          ],
          "carpet": [
           {
            "aaxis": {
             "endlinecolor": "#2a3f5f",
             "gridcolor": "white",
             "linecolor": "white",
             "minorgridcolor": "white",
             "startlinecolor": "#2a3f5f"
            },
            "baxis": {
             "endlinecolor": "#2a3f5f",
             "gridcolor": "white",
             "linecolor": "white",
             "minorgridcolor": "white",
             "startlinecolor": "#2a3f5f"
            },
            "type": "carpet"
           }
          ],
          "choropleth": [
           {
            "colorbar": {
             "outlinewidth": 0,
             "ticks": ""
            },
            "type": "choropleth"
           }
          ],
          "contour": [
           {
            "colorbar": {
             "outlinewidth": 0,
             "ticks": ""
            },
            "colorscale": [
             [
              0,
              "#0d0887"
             ],
             [
              0.1111111111111111,
              "#46039f"
             ],
             [
              0.2222222222222222,
              "#7201a8"
             ],
             [
              0.3333333333333333,
              "#9c179e"
             ],
             [
              0.4444444444444444,
              "#bd3786"
             ],
             [
              0.5555555555555556,
              "#d8576b"
             ],
             [
              0.6666666666666666,
              "#ed7953"
             ],
             [
              0.7777777777777778,
              "#fb9f3a"
             ],
             [
              0.8888888888888888,
              "#fdca26"
             ],
             [
              1,
              "#f0f921"
             ]
            ],
            "type": "contour"
           }
          ],
          "contourcarpet": [
           {
            "colorbar": {
             "outlinewidth": 0,
             "ticks": ""
            },
            "type": "contourcarpet"
           }
          ],
          "heatmap": [
           {
            "colorbar": {
             "outlinewidth": 0,
             "ticks": ""
            },
            "colorscale": [
             [
              0,
              "#0d0887"
             ],
             [
              0.1111111111111111,
              "#46039f"
             ],
             [
              0.2222222222222222,
              "#7201a8"
             ],
             [
              0.3333333333333333,
              "#9c179e"
             ],
             [
              0.4444444444444444,
              "#bd3786"
             ],
             [
              0.5555555555555556,
              "#d8576b"
             ],
             [
              0.6666666666666666,
              "#ed7953"
             ],
             [
              0.7777777777777778,
              "#fb9f3a"
             ],
             [
              0.8888888888888888,
              "#fdca26"
             ],
             [
              1,
              "#f0f921"
             ]
            ],
            "type": "heatmap"
           }
          ],
          "heatmapgl": [
           {
            "colorbar": {
             "outlinewidth": 0,
             "ticks": ""
            },
            "colorscale": [
             [
              0,
              "#0d0887"
             ],
             [
              0.1111111111111111,
              "#46039f"
             ],
             [
              0.2222222222222222,
              "#7201a8"
             ],
             [
              0.3333333333333333,
              "#9c179e"
             ],
             [
              0.4444444444444444,
              "#bd3786"
             ],
             [
              0.5555555555555556,
              "#d8576b"
             ],
             [
              0.6666666666666666,
              "#ed7953"
             ],
             [
              0.7777777777777778,
              "#fb9f3a"
             ],
             [
              0.8888888888888888,
              "#fdca26"
             ],
             [
              1,
              "#f0f921"
             ]
            ],
            "type": "heatmapgl"
           }
          ],
          "histogram": [
           {
            "marker": {
             "pattern": {
              "fillmode": "overlay",
              "size": 10,
              "solidity": 0.2
             }
            },
            "type": "histogram"
           }
          ],
          "histogram2d": [
           {
            "colorbar": {
             "outlinewidth": 0,
             "ticks": ""
            },
            "colorscale": [
             [
              0,
              "#0d0887"
             ],
             [
              0.1111111111111111,
              "#46039f"
             ],
             [
              0.2222222222222222,
              "#7201a8"
             ],
             [
              0.3333333333333333,
              "#9c179e"
             ],
             [
              0.4444444444444444,
              "#bd3786"
             ],
             [
              0.5555555555555556,
              "#d8576b"
             ],
             [
              0.6666666666666666,
              "#ed7953"
             ],
             [
              0.7777777777777778,
              "#fb9f3a"
             ],
             [
              0.8888888888888888,
              "#fdca26"
             ],
             [
              1,
              "#f0f921"
             ]
            ],
            "type": "histogram2d"
           }
          ],
          "histogram2dcontour": [
           {
            "colorbar": {
             "outlinewidth": 0,
             "ticks": ""
            },
            "colorscale": [
             [
              0,
              "#0d0887"
             ],
             [
              0.1111111111111111,
              "#46039f"
             ],
             [
              0.2222222222222222,
              "#7201a8"
             ],
             [
              0.3333333333333333,
              "#9c179e"
             ],
             [
              0.4444444444444444,
              "#bd3786"
             ],
             [
              0.5555555555555556,
              "#d8576b"
             ],
             [
              0.6666666666666666,
              "#ed7953"
             ],
             [
              0.7777777777777778,
              "#fb9f3a"
             ],
             [
              0.8888888888888888,
              "#fdca26"
             ],
             [
              1,
              "#f0f921"
             ]
            ],
            "type": "histogram2dcontour"
           }
          ],
          "mesh3d": [
           {
            "colorbar": {
             "outlinewidth": 0,
             "ticks": ""
            },
            "type": "mesh3d"
           }
          ],
          "parcoords": [
           {
            "line": {
             "colorbar": {
              "outlinewidth": 0,
              "ticks": ""
             }
            },
            "type": "parcoords"
           }
          ],
          "pie": [
           {
            "automargin": true,
            "type": "pie"
           }
          ],
          "scatter": [
           {
            "marker": {
             "colorbar": {
              "outlinewidth": 0,
              "ticks": ""
             }
            },
            "type": "scatter"
           }
          ],
          "scatter3d": [
           {
            "line": {
             "colorbar": {
              "outlinewidth": 0,
              "ticks": ""
             }
            },
            "marker": {
             "colorbar": {
              "outlinewidth": 0,
              "ticks": ""
             }
            },
            "type": "scatter3d"
           }
          ],
          "scattercarpet": [
           {
            "marker": {
             "colorbar": {
              "outlinewidth": 0,
              "ticks": ""
             }
            },
            "type": "scattercarpet"
           }
          ],
          "scattergeo": [
           {
            "marker": {
             "colorbar": {
              "outlinewidth": 0,
              "ticks": ""
             }
            },
            "type": "scattergeo"
           }
          ],
          "scattergl": [
           {
            "marker": {
             "colorbar": {
              "outlinewidth": 0,
              "ticks": ""
             }
            },
            "type": "scattergl"
           }
          ],
          "scattermapbox": [
           {
            "marker": {
             "colorbar": {
              "outlinewidth": 0,
              "ticks": ""
             }
            },
            "type": "scattermapbox"
           }
          ],
          "scatterpolar": [
           {
            "marker": {
             "colorbar": {
              "outlinewidth": 0,
              "ticks": ""
             }
            },
            "type": "scatterpolar"
           }
          ],
          "scatterpolargl": [
           {
            "marker": {
             "colorbar": {
              "outlinewidth": 0,
              "ticks": ""
             }
            },
            "type": "scatterpolargl"
           }
          ],
          "scatterternary": [
           {
            "marker": {
             "colorbar": {
              "outlinewidth": 0,
              "ticks": ""
             }
            },
            "type": "scatterternary"
           }
          ],
          "surface": [
           {
            "colorbar": {
             "outlinewidth": 0,
             "ticks": ""
            },
            "colorscale": [
             [
              0,
              "#0d0887"
             ],
             [
              0.1111111111111111,
              "#46039f"
             ],
             [
              0.2222222222222222,
              "#7201a8"
             ],
             [
              0.3333333333333333,
              "#9c179e"
             ],
             [
              0.4444444444444444,
              "#bd3786"
             ],
             [
              0.5555555555555556,
              "#d8576b"
             ],
             [
              0.6666666666666666,
              "#ed7953"
             ],
             [
              0.7777777777777778,
              "#fb9f3a"
             ],
             [
              0.8888888888888888,
              "#fdca26"
             ],
             [
              1,
              "#f0f921"
             ]
            ],
            "type": "surface"
           }
          ],
          "table": [
           {
            "cells": {
             "fill": {
              "color": "#EBF0F8"
             },
             "line": {
              "color": "white"
             }
            },
            "header": {
             "fill": {
              "color": "#C8D4E3"
             },
             "line": {
              "color": "white"
             }
            },
            "type": "table"
           }
          ]
         },
         "layout": {
          "annotationdefaults": {
           "arrowcolor": "#2a3f5f",
           "arrowhead": 0,
           "arrowwidth": 1
          },
          "autotypenumbers": "strict",
          "coloraxis": {
           "colorbar": {
            "outlinewidth": 0,
            "ticks": ""
           }
          },
          "colorscale": {
           "diverging": [
            [
             0,
             "#8e0152"
            ],
            [
             0.1,
             "#c51b7d"
            ],
            [
             0.2,
             "#de77ae"
            ],
            [
             0.3,
             "#f1b6da"
            ],
            [
             0.4,
             "#fde0ef"
            ],
            [
             0.5,
             "#f7f7f7"
            ],
            [
             0.6,
             "#e6f5d0"
            ],
            [
             0.7,
             "#b8e186"
            ],
            [
             0.8,
             "#7fbc41"
            ],
            [
             0.9,
             "#4d9221"
            ],
            [
             1,
             "#276419"
            ]
           ],
           "sequential": [
            [
             0,
             "#0d0887"
            ],
            [
             0.1111111111111111,
             "#46039f"
            ],
            [
             0.2222222222222222,
             "#7201a8"
            ],
            [
             0.3333333333333333,
             "#9c179e"
            ],
            [
             0.4444444444444444,
             "#bd3786"
            ],
            [
             0.5555555555555556,
             "#d8576b"
            ],
            [
             0.6666666666666666,
             "#ed7953"
            ],
            [
             0.7777777777777778,
             "#fb9f3a"
            ],
            [
             0.8888888888888888,
             "#fdca26"
            ],
            [
             1,
             "#f0f921"
            ]
           ],
           "sequentialminus": [
            [
             0,
             "#0d0887"
            ],
            [
             0.1111111111111111,
             "#46039f"
            ],
            [
             0.2222222222222222,
             "#7201a8"
            ],
            [
             0.3333333333333333,
             "#9c179e"
            ],
            [
             0.4444444444444444,
             "#bd3786"
            ],
            [
             0.5555555555555556,
             "#d8576b"
            ],
            [
             0.6666666666666666,
             "#ed7953"
            ],
            [
             0.7777777777777778,
             "#fb9f3a"
            ],
            [
             0.8888888888888888,
             "#fdca26"
            ],
            [
             1,
             "#f0f921"
            ]
           ]
          },
          "colorway": [
           "#636efa",
           "#EF553B",
           "#00cc96",
           "#ab63fa",
           "#FFA15A",
           "#19d3f3",
           "#FF6692",
           "#B6E880",
           "#FF97FF",
           "#FECB52"
          ],
          "font": {
           "color": "#2a3f5f"
          },
          "geo": {
           "bgcolor": "white",
           "lakecolor": "white",
           "landcolor": "#E5ECF6",
           "showlakes": true,
           "showland": true,
           "subunitcolor": "white"
          },
          "hoverlabel": {
           "align": "left"
          },
          "hovermode": "closest",
          "mapbox": {
           "style": "light"
          },
          "paper_bgcolor": "white",
          "plot_bgcolor": "#E5ECF6",
          "polar": {
           "angularaxis": {
            "gridcolor": "white",
            "linecolor": "white",
            "ticks": ""
           },
           "bgcolor": "#E5ECF6",
           "radialaxis": {
            "gridcolor": "white",
            "linecolor": "white",
            "ticks": ""
           }
          },
          "scene": {
           "xaxis": {
            "backgroundcolor": "#E5ECF6",
            "gridcolor": "white",
            "gridwidth": 2,
            "linecolor": "white",
            "showbackground": true,
            "ticks": "",
            "zerolinecolor": "white"
           },
           "yaxis": {
            "backgroundcolor": "#E5ECF6",
            "gridcolor": "white",
            "gridwidth": 2,
            "linecolor": "white",
            "showbackground": true,
            "ticks": "",
            "zerolinecolor": "white"
           },
           "zaxis": {
            "backgroundcolor": "#E5ECF6",
            "gridcolor": "white",
            "gridwidth": 2,
            "linecolor": "white",
            "showbackground": true,
            "ticks": "",
            "zerolinecolor": "white"
           }
          },
          "shapedefaults": {
           "line": {
            "color": "#2a3f5f"
           }
          },
          "ternary": {
           "aaxis": {
            "gridcolor": "white",
            "linecolor": "white",
            "ticks": ""
           },
           "baxis": {
            "gridcolor": "white",
            "linecolor": "white",
            "ticks": ""
           },
           "bgcolor": "#E5ECF6",
           "caxis": {
            "gridcolor": "white",
            "linecolor": "white",
            "ticks": ""
           }
          },
          "title": {
           "x": 0.05
          },
          "xaxis": {
           "automargin": true,
           "gridcolor": "white",
           "linecolor": "white",
           "ticks": "",
           "title": {
            "standoff": 15
           },
           "zerolinecolor": "white",
           "zerolinewidth": 2
          },
          "yaxis": {
           "automargin": true,
           "gridcolor": "white",
           "linecolor": "white",
           "ticks": "",
           "title": {
            "standoff": 15
           },
           "zerolinecolor": "white",
           "zerolinewidth": 2
          }
         }
        },
        "title": {
         "text": "Title:All methods vs BAAFFM"
        },
        "xaxis": {
         "anchor": "y",
         "domain": [
          0,
          0.94
         ]
        },
        "yaxis": {
         "anchor": "x",
         "domain": [
          0,
          1
         ],
         "title": {
          "text": "Probability of Default"
         }
        },
        "yaxis2": {
         "anchor": "x",
         "overlaying": "y",
         "side": "right",
         "title": {
          "text": "Economic Indicator in %"
         }
        }
       }
      },
      "text/html": [
       "<div>                            <div id=\"cc3e0f89-b4f9-4252-9aa9-d7bb397fb91d\" class=\"plotly-graph-div\" style=\"height:525px; width:100%;\"></div>            <script type=\"text/javascript\">                require([\"plotly\"], function(Plotly) {                    window.PLOTLYENV=window.PLOTLYENV || {};                                    if (document.getElementById(\"cc3e0f89-b4f9-4252-9aa9-d7bb397fb91d\")) {                    Plotly.newPlot(                        \"cc3e0f89-b4f9-4252-9aa9-d7bb397fb91d\",                        [{\"name\":\"pd_naive_0.05_0.25_50%\",\"x\":[1972.0,1976.0,1979.0,1980.0,1981.0,1982.0,1983.0,1985.0,1987.0,1989.0,1992.0,1993.0,1994.0,1995.0,1996.0,1997.0,2000.0,2002.0,2005.0,2008.0,2009.0,2013.0,2014.0,2015.0,2016.0,2017.0,2018.0,2019.0,2020.0],\"y\":[0.33995214406460755,0.36377233153705896,0.23783912376283295,0.2779835082383225,0.19735857949492502,0.1824856513632201,0.3203749385292073,0.21213729943858178,0.4528993134164696,0.36348593140579805,0.4939026178960659,0.5239555696001733,0.4401347633725542,0.337556026371326,0.40051540974264005,0.460065724888783,0.4614992519556444,0.46386219169043996,0.4433051543357809,0.40737098398121974,4.012988979206367e-07,0.48436777501693185,0.5450299422220561,0.5136718060435056,0.4999301789593216,0.49001345873625674,0.480620655016851,0.4578376770870288,0.45081012378110236],\"type\":\"scatter\",\"xaxis\":\"x\",\"yaxis\":\"y\"},{\"name\":\"pd_naive_0.05_0.5_50%\",\"x\":[1972.0,1976.0,1979.0,1980.0,1981.0,1982.0,1983.0,1985.0,1987.0,1989.0,1992.0,1993.0,1994.0,1995.0,1996.0,1997.0,2000.0,2002.0,2005.0,2008.0,2009.0,2013.0,2014.0,2015.0,2016.0,2017.0,2018.0,2019.0,2020.0],\"y\":[0.3938223769112583,0.448772548951937,0.34637159337746487,0.4026435004181119,0.33073875454401946,0.30572785441533323,0.41842765945560556,0.31339950199160144,0.5341495760350603,0.4772601118872648,0.5625418220906564,0.5969453895979198,0.5263464238568528,0.41829553269748154,0.4757047221260531,0.5357635944654962,0.574922416622229,0.5239660943580461,0.48515825833157455,0.47240476065827247,5.818710054218163e-07,0.5207498077898101,0.582058641659308,0.5225792787409562,0.5152885096058318,0.5200864751610246,0.523061126114715,0.5111134006930367,0.4847496849308572],\"type\":\"scatter\",\"xaxis\":\"x\",\"yaxis\":\"y\"},{\"name\":\"pd_naive_0_0.25_50%\",\"x\":[1972.0,1976.0,1979.0,1980.0,1981.0,1982.0,1983.0,1985.0,1987.0,1989.0,1992.0,1993.0,1994.0,1995.0,1996.0,1997.0,2000.0,2002.0,2005.0,2008.0,2009.0,2013.0,2014.0,2015.0,2016.0,2017.0,2018.0,2019.0,2020.0],\"y\":[0.1264998383591882,0.286581377103049,0.09921675642021327,0.1897873853315955,0.09614582435447987,0.06943613957992098,0.2204450932354679,0.1352622581675975,0.4193631729343326,0.31978931770850505,0.4702677061195787,0.5066030008514231,0.3831104765207924,0.22049964981566705,0.33658008908418496,0.4274035218515408,0.42853996115322435,0.4302737946904376,0.3745557289171354,0.3392872085982817,3.524167175489592e-07,0.4526479172944631,0.5346591158185865,0.49852740446006266,0.4692690747818609,0.459243327795181,0.4479268770024473,0.4166325138596362,0.37722158159534647],\"type\":\"scatter\",\"xaxis\":\"x\",\"yaxis\":\"y\"},{\"name\":\"pd_method_2_50%\",\"x\":[1972.0,1976.0,1979.0,1980.0,1981.0,1982.0,1983.0,1985.0,1987.0,1989.0,1992.0,1993.0,1994.0,1995.0,1996.0,1997.0,2000.0,2002.0,2005.0,2008.0,2009.0,2013.0,2014.0,2015.0,2016.0,2017.0,2018.0,2019.0,2020.0],\"y\":[2.829749852076488e-15,0.008728677141061993,0.00016543050733399566,0.02638440112249579,0.21836684072666568,0.0008752930245574761,0.004612174196934256,0.012884960197548985,0.16258379536547285,0.17039306678262645,0.21077915790828478,0.39235668117662603,0.34003547544953305,0.0002541965486509207,0.014104386283609455,0.14193115478051932,0.4999561397142188,0.053676824101829154,0.45703359336530724,0.0037681170905382072,2.3856569051075656e-07,0.5029457687362721,0.7292745898400336,4.762955255759243e-11,2.5831141613556766e-08,0.0011122645291450565,0.011971010029263957,0.016052878429937512,1.9693768645674557e-05],\"type\":\"scatter\",\"xaxis\":\"x\",\"yaxis\":\"y\"},{\"name\":\"pd_method_3_50%\",\"x\":[1972.0,1976.0,1979.0,1980.0,1981.0,1982.0,1983.0,1985.0,1987.0,1989.0,1992.0,1993.0,1994.0,1995.0,1996.0,1997.0,2000.0,2002.0,2005.0,2008.0,2009.0,2013.0,2014.0,2015.0,2016.0,2017.0,2018.0,2019.0,2020.0],\"y\":[1.6118865359553924e-35,2.1615850927561698e-11,8.606817922636306e-21,3.022965479509293e-05,0.007960725643995201,8.882417811090942e-31,2.4518332209726694e-09,3.7570948773864317e-19,0.030806856138706238,9.557601744697612e-06,0.0014712441588197887,2.2240887687025395e-05,0.07137195093156384,3.9545013719333217e-16,8.402881441872197e-12,0.000267184421183513,0.17652319995162755,1.2522666372054664e-09,3.9236023970485915e-24,6.085779572852263e-16,1.7442154452856077e-100,1.0308455764971724e-16,0.007028264523530014,1.1411418209410715e-34,3.5530755268691456e-58,6.542769718377011e-15,4.17747513321222e-23,5.50187241364403e-08,6.787608810298645e-17],\"type\":\"scatter\",\"xaxis\":\"x\",\"yaxis\":\"y\"},{\"name\":\"BAAFFM\",\"x\":[1972.0,1976.0,1979.0,1980.0,1981.0,1982.0,1983.0,1985.0,1987.0,1989.0,1992.0,1993.0,1994.0,1995.0,1996.0,1997.0,2000.0,2002.0,2005.0,2008.0,2009.0,2013.0,2014.0,2015.0,2016.0,2017.0,2018.0,2019.0,2020.0],\"y\":[3.724166666666667,4.701666666666667,-0.5041666666666667,0.31249999999999994,-0.3341666666666668,3.855,4.4675,4.614166666666667,3.918333333333333,0.9608333333333334,5.454999999999999,4.9075,4.4208333333333325,2.3641666666666663,2.7558333333333334,2.4025000000000003,2.1283333333333334,6.134999999999999,2.8508333333333327,5.519166666666667,7.135833333333334,4.994166666666667,4.765,4.866666666666667,4.322499999999999,3.438333333333334,2.9683333333333333,2.2175,3.2291666666666665],\"type\":\"scatter\",\"xaxis\":\"x\",\"yaxis\":\"y2\"}],                        {\"template\":{\"data\":{\"bar\":[{\"error_x\":{\"color\":\"#2a3f5f\"},\"error_y\":{\"color\":\"#2a3f5f\"},\"marker\":{\"line\":{\"color\":\"#E5ECF6\",\"width\":0.5},\"pattern\":{\"fillmode\":\"overlay\",\"size\":10,\"solidity\":0.2}},\"type\":\"bar\"}],\"barpolar\":[{\"marker\":{\"line\":{\"color\":\"#E5ECF6\",\"width\":0.5},\"pattern\":{\"fillmode\":\"overlay\",\"size\":10,\"solidity\":0.2}},\"type\":\"barpolar\"}],\"carpet\":[{\"aaxis\":{\"endlinecolor\":\"#2a3f5f\",\"gridcolor\":\"white\",\"linecolor\":\"white\",\"minorgridcolor\":\"white\",\"startlinecolor\":\"#2a3f5f\"},\"baxis\":{\"endlinecolor\":\"#2a3f5f\",\"gridcolor\":\"white\",\"linecolor\":\"white\",\"minorgridcolor\":\"white\",\"startlinecolor\":\"#2a3f5f\"},\"type\":\"carpet\"}],\"choropleth\":[{\"colorbar\":{\"outlinewidth\":0,\"ticks\":\"\"},\"type\":\"choropleth\"}],\"contour\":[{\"colorbar\":{\"outlinewidth\":0,\"ticks\":\"\"},\"colorscale\":[[0.0,\"#0d0887\"],[0.1111111111111111,\"#46039f\"],[0.2222222222222222,\"#7201a8\"],[0.3333333333333333,\"#9c179e\"],[0.4444444444444444,\"#bd3786\"],[0.5555555555555556,\"#d8576b\"],[0.6666666666666666,\"#ed7953\"],[0.7777777777777778,\"#fb9f3a\"],[0.8888888888888888,\"#fdca26\"],[1.0,\"#f0f921\"]],\"type\":\"contour\"}],\"contourcarpet\":[{\"colorbar\":{\"outlinewidth\":0,\"ticks\":\"\"},\"type\":\"contourcarpet\"}],\"heatmap\":[{\"colorbar\":{\"outlinewidth\":0,\"ticks\":\"\"},\"colorscale\":[[0.0,\"#0d0887\"],[0.1111111111111111,\"#46039f\"],[0.2222222222222222,\"#7201a8\"],[0.3333333333333333,\"#9c179e\"],[0.4444444444444444,\"#bd3786\"],[0.5555555555555556,\"#d8576b\"],[0.6666666666666666,\"#ed7953\"],[0.7777777777777778,\"#fb9f3a\"],[0.8888888888888888,\"#fdca26\"],[1.0,\"#f0f921\"]],\"type\":\"heatmap\"}],\"heatmapgl\":[{\"colorbar\":{\"outlinewidth\":0,\"ticks\":\"\"},\"colorscale\":[[0.0,\"#0d0887\"],[0.1111111111111111,\"#46039f\"],[0.2222222222222222,\"#7201a8\"],[0.3333333333333333,\"#9c179e\"],[0.4444444444444444,\"#bd3786\"],[0.5555555555555556,\"#d8576b\"],[0.6666666666666666,\"#ed7953\"],[0.7777777777777778,\"#fb9f3a\"],[0.8888888888888888,\"#fdca26\"],[1.0,\"#f0f921\"]],\"type\":\"heatmapgl\"}],\"histogram\":[{\"marker\":{\"pattern\":{\"fillmode\":\"overlay\",\"size\":10,\"solidity\":0.2}},\"type\":\"histogram\"}],\"histogram2d\":[{\"colorbar\":{\"outlinewidth\":0,\"ticks\":\"\"},\"colorscale\":[[0.0,\"#0d0887\"],[0.1111111111111111,\"#46039f\"],[0.2222222222222222,\"#7201a8\"],[0.3333333333333333,\"#9c179e\"],[0.4444444444444444,\"#bd3786\"],[0.5555555555555556,\"#d8576b\"],[0.6666666666666666,\"#ed7953\"],[0.7777777777777778,\"#fb9f3a\"],[0.8888888888888888,\"#fdca26\"],[1.0,\"#f0f921\"]],\"type\":\"histogram2d\"}],\"histogram2dcontour\":[{\"colorbar\":{\"outlinewidth\":0,\"ticks\":\"\"},\"colorscale\":[[0.0,\"#0d0887\"],[0.1111111111111111,\"#46039f\"],[0.2222222222222222,\"#7201a8\"],[0.3333333333333333,\"#9c179e\"],[0.4444444444444444,\"#bd3786\"],[0.5555555555555556,\"#d8576b\"],[0.6666666666666666,\"#ed7953\"],[0.7777777777777778,\"#fb9f3a\"],[0.8888888888888888,\"#fdca26\"],[1.0,\"#f0f921\"]],\"type\":\"histogram2dcontour\"}],\"mesh3d\":[{\"colorbar\":{\"outlinewidth\":0,\"ticks\":\"\"},\"type\":\"mesh3d\"}],\"parcoords\":[{\"line\":{\"colorbar\":{\"outlinewidth\":0,\"ticks\":\"\"}},\"type\":\"parcoords\"}],\"pie\":[{\"automargin\":true,\"type\":\"pie\"}],\"scatter\":[{\"marker\":{\"colorbar\":{\"outlinewidth\":0,\"ticks\":\"\"}},\"type\":\"scatter\"}],\"scatter3d\":[{\"line\":{\"colorbar\":{\"outlinewidth\":0,\"ticks\":\"\"}},\"marker\":{\"colorbar\":{\"outlinewidth\":0,\"ticks\":\"\"}},\"type\":\"scatter3d\"}],\"scattercarpet\":[{\"marker\":{\"colorbar\":{\"outlinewidth\":0,\"ticks\":\"\"}},\"type\":\"scattercarpet\"}],\"scattergeo\":[{\"marker\":{\"colorbar\":{\"outlinewidth\":0,\"ticks\":\"\"}},\"type\":\"scattergeo\"}],\"scattergl\":[{\"marker\":{\"colorbar\":{\"outlinewidth\":0,\"ticks\":\"\"}},\"type\":\"scattergl\"}],\"scattermapbox\":[{\"marker\":{\"colorbar\":{\"outlinewidth\":0,\"ticks\":\"\"}},\"type\":\"scattermapbox\"}],\"scatterpolar\":[{\"marker\":{\"colorbar\":{\"outlinewidth\":0,\"ticks\":\"\"}},\"type\":\"scatterpolar\"}],\"scatterpolargl\":[{\"marker\":{\"colorbar\":{\"outlinewidth\":0,\"ticks\":\"\"}},\"type\":\"scatterpolargl\"}],\"scatterternary\":[{\"marker\":{\"colorbar\":{\"outlinewidth\":0,\"ticks\":\"\"}},\"type\":\"scatterternary\"}],\"surface\":[{\"colorbar\":{\"outlinewidth\":0,\"ticks\":\"\"},\"colorscale\":[[0.0,\"#0d0887\"],[0.1111111111111111,\"#46039f\"],[0.2222222222222222,\"#7201a8\"],[0.3333333333333333,\"#9c179e\"],[0.4444444444444444,\"#bd3786\"],[0.5555555555555556,\"#d8576b\"],[0.6666666666666666,\"#ed7953\"],[0.7777777777777778,\"#fb9f3a\"],[0.8888888888888888,\"#fdca26\"],[1.0,\"#f0f921\"]],\"type\":\"surface\"}],\"table\":[{\"cells\":{\"fill\":{\"color\":\"#EBF0F8\"},\"line\":{\"color\":\"white\"}},\"header\":{\"fill\":{\"color\":\"#C8D4E3\"},\"line\":{\"color\":\"white\"}},\"type\":\"table\"}]},\"layout\":{\"annotationdefaults\":{\"arrowcolor\":\"#2a3f5f\",\"arrowhead\":0,\"arrowwidth\":1},\"autotypenumbers\":\"strict\",\"coloraxis\":{\"colorbar\":{\"outlinewidth\":0,\"ticks\":\"\"}},\"colorscale\":{\"diverging\":[[0,\"#8e0152\"],[0.1,\"#c51b7d\"],[0.2,\"#de77ae\"],[0.3,\"#f1b6da\"],[0.4,\"#fde0ef\"],[0.5,\"#f7f7f7\"],[0.6,\"#e6f5d0\"],[0.7,\"#b8e186\"],[0.8,\"#7fbc41\"],[0.9,\"#4d9221\"],[1,\"#276419\"]],\"sequential\":[[0.0,\"#0d0887\"],[0.1111111111111111,\"#46039f\"],[0.2222222222222222,\"#7201a8\"],[0.3333333333333333,\"#9c179e\"],[0.4444444444444444,\"#bd3786\"],[0.5555555555555556,\"#d8576b\"],[0.6666666666666666,\"#ed7953\"],[0.7777777777777778,\"#fb9f3a\"],[0.8888888888888888,\"#fdca26\"],[1.0,\"#f0f921\"]],\"sequentialminus\":[[0.0,\"#0d0887\"],[0.1111111111111111,\"#46039f\"],[0.2222222222222222,\"#7201a8\"],[0.3333333333333333,\"#9c179e\"],[0.4444444444444444,\"#bd3786\"],[0.5555555555555556,\"#d8576b\"],[0.6666666666666666,\"#ed7953\"],[0.7777777777777778,\"#fb9f3a\"],[0.8888888888888888,\"#fdca26\"],[1.0,\"#f0f921\"]]},\"colorway\":[\"#636efa\",\"#EF553B\",\"#00cc96\",\"#ab63fa\",\"#FFA15A\",\"#19d3f3\",\"#FF6692\",\"#B6E880\",\"#FF97FF\",\"#FECB52\"],\"font\":{\"color\":\"#2a3f5f\"},\"geo\":{\"bgcolor\":\"white\",\"lakecolor\":\"white\",\"landcolor\":\"#E5ECF6\",\"showlakes\":true,\"showland\":true,\"subunitcolor\":\"white\"},\"hoverlabel\":{\"align\":\"left\"},\"hovermode\":\"closest\",\"mapbox\":{\"style\":\"light\"},\"paper_bgcolor\":\"white\",\"plot_bgcolor\":\"#E5ECF6\",\"polar\":{\"angularaxis\":{\"gridcolor\":\"white\",\"linecolor\":\"white\",\"ticks\":\"\"},\"bgcolor\":\"#E5ECF6\",\"radialaxis\":{\"gridcolor\":\"white\",\"linecolor\":\"white\",\"ticks\":\"\"}},\"scene\":{\"xaxis\":{\"backgroundcolor\":\"#E5ECF6\",\"gridcolor\":\"white\",\"gridwidth\":2,\"linecolor\":\"white\",\"showbackground\":true,\"ticks\":\"\",\"zerolinecolor\":\"white\"},\"yaxis\":{\"backgroundcolor\":\"#E5ECF6\",\"gridcolor\":\"white\",\"gridwidth\":2,\"linecolor\":\"white\",\"showbackground\":true,\"ticks\":\"\",\"zerolinecolor\":\"white\"},\"zaxis\":{\"backgroundcolor\":\"#E5ECF6\",\"gridcolor\":\"white\",\"gridwidth\":2,\"linecolor\":\"white\",\"showbackground\":true,\"ticks\":\"\",\"zerolinecolor\":\"white\"}},\"shapedefaults\":{\"line\":{\"color\":\"#2a3f5f\"}},\"ternary\":{\"aaxis\":{\"gridcolor\":\"white\",\"linecolor\":\"white\",\"ticks\":\"\"},\"baxis\":{\"gridcolor\":\"white\",\"linecolor\":\"white\",\"ticks\":\"\"},\"bgcolor\":\"#E5ECF6\",\"caxis\":{\"gridcolor\":\"white\",\"linecolor\":\"white\",\"ticks\":\"\"}},\"title\":{\"x\":0.05},\"xaxis\":{\"automargin\":true,\"gridcolor\":\"white\",\"linecolor\":\"white\",\"ticks\":\"\",\"title\":{\"standoff\":15},\"zerolinecolor\":\"white\",\"zerolinewidth\":2},\"yaxis\":{\"automargin\":true,\"gridcolor\":\"white\",\"linecolor\":\"white\",\"ticks\":\"\",\"title\":{\"standoff\":15},\"zerolinecolor\":\"white\",\"zerolinewidth\":2}}},\"xaxis\":{\"anchor\":\"y\",\"domain\":[0.0,0.94]},\"yaxis\":{\"anchor\":\"x\",\"domain\":[0.0,1.0],\"title\":{\"text\":\"Probability of Default\"}},\"yaxis2\":{\"anchor\":\"x\",\"overlaying\":\"y\",\"side\":\"right\",\"title\":{\"text\":\"Economic Indicator in %\"}},\"title\":{\"text\":\"Title:All methods vs BAAFFM\"},\"barmode\":\"relative\",\"showlegend\":true},                        {\"responsive\": true}                    ).then(function(){\n",
       "                            \n",
       "var gd = document.getElementById('cc3e0f89-b4f9-4252-9aa9-d7bb397fb91d');\n",
       "var x = new MutationObserver(function (mutations, observer) {{\n",
       "        var display = window.getComputedStyle(gd).display;\n",
       "        if (!display || display === 'none') {{\n",
       "            console.log([gd, 'removed!']);\n",
       "            Plotly.purge(gd);\n",
       "            observer.disconnect();\n",
       "        }}\n",
       "}});\n",
       "\n",
       "// Listen for the removal of the full notebook cells\n",
       "var notebookContainer = gd.closest('#notebook-container');\n",
       "if (notebookContainer) {{\n",
       "    x.observe(notebookContainer, {childList: true});\n",
       "}}\n",
       "\n",
       "// Listen for the clearing of the current output cell\n",
       "var outputEl = gd.closest('.output');\n",
       "if (outputEl) {{\n",
       "    x.observe(outputEl, {childList: true});\n",
       "}}\n",
       "\n",
       "                        })                };                });            </script>        </div>"
      ]
     },
     "metadata": {},
     "output_type": "display_data"
    }
   ],
   "source": [
    "p50_250_columns = [\"fyear\",\"pd_naive_0.05_0.25_50%\", \"pd_naive_0.05_0.5_50%\", \"pd_naive_0_0.25_50%\",\"pd_method_2_50%\",\"pd_method_3_50%\"]\n",
    "p50_250_methods = descriptive_stats_across_time_250[p50_250_columns]\n",
    "\n",
    "to_plot = pd.merge(p50_250_methods,fred_baaffm,on=\"fyear\",how=\"inner\")\n",
    "plot_chart_with_macro(to_plot,\"All methods vs BAAFFM\",\"Probability of Default\", \"fyear\")"
   ]
  },
  {
   "cell_type": "markdown",
   "metadata": {},
   "source": [
    "### p25 DD 2 methods"
   ]
  },
  {
   "cell_type": "code",
   "execution_count": 222,
   "metadata": {},
   "outputs": [
    {
     "data": {
      "application/vnd.plotly.v1+json": {
       "config": {
        "plotlyServerURL": "https://plot.ly"
       },
       "data": [
        {
         "name": "dd_naive_0.05_0.25_25%",
         "type": "scatter",
         "x": [
          1971,
          1972,
          1973,
          1974,
          1975,
          1976,
          1977,
          1978,
          1979,
          1980,
          1981,
          1982,
          1983,
          1984,
          1985,
          1986,
          1987,
          1988,
          1989,
          1990,
          1991,
          1992,
          1993,
          1994,
          1995,
          1996,
          1997,
          1998,
          1999,
          2000,
          2001,
          2002,
          2003,
          2004,
          2005,
          2006,
          2007,
          2008,
          2009,
          2010,
          2011,
          2012,
          2013,
          2014,
          2015,
          2016,
          2017,
          2018,
          2019,
          2020
         ],
         "xaxis": "x",
         "y": [
          0.2658808851709,
          0.21992462356002712,
          0.3462249438056522,
          0.3439087315903683,
          0.2834308426739627,
          0.16499927836419948,
          0.16408858950236588,
          0.33812223516548856,
          0.4202563560046226,
          0.5961323904423945,
          0.6979431113518275,
          0.5571966108951474,
          0.3921473489146018,
          0.4481102475836194,
          0.37466936143213936,
          0.3063019175219852,
          0.2065266440283464,
          0.09326516994375891,
          0.23246588563765508,
          0.21845221844037033,
          0.1119927661816183,
          0.016429303187944264,
          -0.010910127181976067,
          0.0038340516176307666,
          0.11939233821934712,
          0.10166903566410625,
          0.1163776715275549,
          0.12513809644517163,
          0.057537558144496084,
          0.11085346759077741,
          0.07816338323563521,
          -0.03921704896676456,
          -0.04785871830683834,
          -0.0015698289207536635,
          0.10694186828792579,
          0.2241996222378426,
          0.3056144301783405,
          0.1508744717726987,
          -0.1247450790349976,
          -0.12022231682052475,
          -0.05142530176937826,
          -0.07044155565054452,
          -0.04778782485067032,
          -0.041788641174847735,
          -0.0524713445135262,
          -0.05027725836950722,
          -0.036447828109961944,
          0.04269301665585253,
          0.08103176337099574,
          0.025411218092997078
         ],
         "yaxis": "y"
        },
        {
         "name": "dd_naive_0.05_0.5_25%",
         "type": "scatter",
         "x": [
          1971,
          1972,
          1973,
          1974,
          1975,
          1976,
          1977,
          1978,
          1979,
          1980,
          1981,
          1982,
          1983,
          1984,
          1985,
          1986,
          1987,
          1988,
          1989,
          1990,
          1991,
          1992,
          1993,
          1994,
          1995,
          1996,
          1997,
          1998,
          1999,
          2000,
          2001,
          2002,
          2003,
          2004,
          2005,
          2006,
          2007,
          2008,
          2009,
          2010,
          2011,
          2012,
          2013,
          2014,
          2015,
          2016,
          2017,
          2018,
          2019,
          2020
         ],
         "xaxis": "x",
         "y": [
          0.07559313154468442,
          0.06518594472402546,
          0.1476344664473877,
          0.10541106583634686,
          0.06210855721938007,
          -0.021194049058211296,
          -0.009279650812877986,
          0.12307862453799565,
          0.14091047155407166,
          0.24875023658574275,
          0.30841382635367387,
          0.23278601315315925,
          0.141762456760182,
          0.1619847654912749,
          0.11689987937229632,
          0.06654794561181483,
          0.0027610122553171,
          -0.12427920389443163,
          -0.014639767571380954,
          -0.02079763431391884,
          -0.10560437588148053,
          -0.1674382877385323,
          -0.192528506426289,
          -0.1629243594548902,
          -0.08588326743563114,
          -0.09379863156172832,
          -0.0801505557943025,
          -0.07134893113891017,
          -0.1287655605369081,
          -0.09182377757498195,
          -0.13120938988190395,
          -0.18287679663529782,
          -0.1661042915160157,
          -0.10046320257006422,
          -0.018953317794692177,
          0.05403790270459967,
          0.11094372116518733,
          0.006968246475056044,
          -0.24265477049052242,
          -0.23591084937428464,
          -0.11824373222123884,
          -0.1454946428597355,
          -0.10842088886339181,
          -0.09710028584086096,
          -0.11087472032584869,
          -0.12931736190992615,
          -0.13015989029344083,
          -0.05825941103443087,
          -0.04304091869318526,
          -0.0905709309088402
         ],
         "yaxis": "y"
        },
        {
         "name": "dd_naive_0_0.25_25%",
         "type": "scatter",
         "x": [
          1971,
          1972,
          1973,
          1974,
          1975,
          1976,
          1977,
          1978,
          1979,
          1980,
          1981,
          1982,
          1983,
          1984,
          1985,
          1986,
          1987,
          1988,
          1989,
          1990,
          1991,
          1992,
          1993,
          1994,
          1995,
          1996,
          1997,
          1998,
          1999,
          2000,
          2001,
          2002,
          2003,
          2004,
          2005,
          2006,
          2007,
          2008,
          2009,
          2010,
          2011,
          2012,
          2013,
          2014,
          2015,
          2016,
          2017,
          2018,
          2019,
          2020
         ],
         "xaxis": "x",
         "y": [
          0.4503094822811189,
          0.4084937672473845,
          0.619698602908933,
          0.5448131060184924,
          0.45194395293700673,
          0.27891674220779467,
          0.28193014754189727,
          0.566823414253621,
          0.6368849142028877,
          0.8820673737126195,
          1.0035134717005019,
          0.848847939899836,
          0.6191062604150716,
          0.6762304529502867,
          0.564178590125911,
          0.4705391521727372,
          0.33129796741037304,
          0.167106201063362,
          0.3505132492670727,
          0.33281788621516506,
          0.19214602728410424,
          0.07459693576267244,
          0.03970901743883182,
          0.05960657388057346,
          0.20680735751838653,
          0.1808161290827933,
          0.1991282028297578,
          0.2125795320703194,
          0.12847250138205124,
          0.19713389499675205,
          0.14803366380876448,
          0.006965917222434512,
          -0.00449186414366611,
          0.05794432539711015,
          0.21203780008124212,
          0.39044257272690785,
          0.5258059218702316,
          0.2827622029935871,
          -0.0971469590210286,
          -0.09311274257446231,
          -0.014845011965189937,
          -0.03958971558818457,
          -0.01286242570712983,
          -0.0030494088142838586,
          -0.018553184285872847,
          -0.012290422013249678,
          0.008671697244356145,
          0.1288327815528767,
          0.18027005163772428,
          0.09109740642570255
         ],
         "yaxis": "y"
        },
        {
         "name": "dd_method_2_25%",
         "type": "scatter",
         "x": [
          1971,
          1972,
          1973,
          1974,
          1975,
          1976,
          1977,
          1978,
          1979,
          1980,
          1981,
          1982,
          1983,
          1984,
          1985,
          1986,
          1987,
          1988,
          1989,
          1990,
          1991,
          1992,
          1993,
          1994,
          1995,
          1996,
          1997,
          1998,
          1999,
          2000,
          2001,
          2002,
          2003,
          2004,
          2005,
          2006,
          2007,
          2008,
          2009,
          2010,
          2011,
          2012,
          2013,
          2014,
          2015,
          2016,
          2017,
          2018,
          2019,
          2020
         ],
         "xaxis": "x",
         "y": [
          2.168726115762268,
          2.713318949461148,
          2.6793654074596702,
          0.8742625461300193,
          0.49703944014536827,
          0.9615897232670866,
          1.4986077197300367,
          1.7892029262462694,
          0.6567958337455209,
          -0.032693988940132784,
          0.08545342784842301,
          0.10189799740924232,
          1.1889650148553113,
          1.3159508844267715,
          1.3686950103320223,
          1.1411350338456705,
          1.3010693345375237,
          0.4556562821079233,
          0.590469842824318,
          0.6312748734887126,
          0.04882816596963445,
          0.4064478049754249,
          0.34225342343994797,
          0.45823090679517814,
          0.5169543605007536,
          0.5877170090225651,
          0.6734331008320804,
          0.8544643061072856,
          0.4902424427895759,
          0.22210725739042256,
          -0.0683897600691419,
          0.3842105423830344,
          0.21838293326465008,
          0.28051785886181696,
          1.2699438560524876,
          1.8334302607254194,
          2.2229062957483796,
          1.4906087880203065,
          -0.003622185344926865,
          -0.3492034692197241,
          -0.6354098345054723,
          -0.09068842785789362,
          -0.5763528916929364,
          -0.9867492913957646,
          -0.23544725202785033,
          -0.11630233571171142,
          0.01831401147476902,
          0.34958986541551623,
          1.1517435000868292,
          0.4380322007884833
         ],
         "yaxis": "y"
        }
       ],
       "layout": {
        "barmode": "relative",
        "showlegend": true,
        "template": {
         "data": {
          "bar": [
           {
            "error_x": {
             "color": "#2a3f5f"
            },
            "error_y": {
             "color": "#2a3f5f"
            },
            "marker": {
             "line": {
              "color": "#E5ECF6",
              "width": 0.5
             },
             "pattern": {
              "fillmode": "overlay",
              "size": 10,
              "solidity": 0.2
             }
            },
            "type": "bar"
           }
          ],
          "barpolar": [
           {
            "marker": {
             "line": {
              "color": "#E5ECF6",
              "width": 0.5
             },
             "pattern": {
              "fillmode": "overlay",
              "size": 10,
              "solidity": 0.2
             }
            },
            "type": "barpolar"
           }
          ],
          "carpet": [
           {
            "aaxis": {
             "endlinecolor": "#2a3f5f",
             "gridcolor": "white",
             "linecolor": "white",
             "minorgridcolor": "white",
             "startlinecolor": "#2a3f5f"
            },
            "baxis": {
             "endlinecolor": "#2a3f5f",
             "gridcolor": "white",
             "linecolor": "white",
             "minorgridcolor": "white",
             "startlinecolor": "#2a3f5f"
            },
            "type": "carpet"
           }
          ],
          "choropleth": [
           {
            "colorbar": {
             "outlinewidth": 0,
             "ticks": ""
            },
            "type": "choropleth"
           }
          ],
          "contour": [
           {
            "colorbar": {
             "outlinewidth": 0,
             "ticks": ""
            },
            "colorscale": [
             [
              0,
              "#0d0887"
             ],
             [
              0.1111111111111111,
              "#46039f"
             ],
             [
              0.2222222222222222,
              "#7201a8"
             ],
             [
              0.3333333333333333,
              "#9c179e"
             ],
             [
              0.4444444444444444,
              "#bd3786"
             ],
             [
              0.5555555555555556,
              "#d8576b"
             ],
             [
              0.6666666666666666,
              "#ed7953"
             ],
             [
              0.7777777777777778,
              "#fb9f3a"
             ],
             [
              0.8888888888888888,
              "#fdca26"
             ],
             [
              1,
              "#f0f921"
             ]
            ],
            "type": "contour"
           }
          ],
          "contourcarpet": [
           {
            "colorbar": {
             "outlinewidth": 0,
             "ticks": ""
            },
            "type": "contourcarpet"
           }
          ],
          "heatmap": [
           {
            "colorbar": {
             "outlinewidth": 0,
             "ticks": ""
            },
            "colorscale": [
             [
              0,
              "#0d0887"
             ],
             [
              0.1111111111111111,
              "#46039f"
             ],
             [
              0.2222222222222222,
              "#7201a8"
             ],
             [
              0.3333333333333333,
              "#9c179e"
             ],
             [
              0.4444444444444444,
              "#bd3786"
             ],
             [
              0.5555555555555556,
              "#d8576b"
             ],
             [
              0.6666666666666666,
              "#ed7953"
             ],
             [
              0.7777777777777778,
              "#fb9f3a"
             ],
             [
              0.8888888888888888,
              "#fdca26"
             ],
             [
              1,
              "#f0f921"
             ]
            ],
            "type": "heatmap"
           }
          ],
          "heatmapgl": [
           {
            "colorbar": {
             "outlinewidth": 0,
             "ticks": ""
            },
            "colorscale": [
             [
              0,
              "#0d0887"
             ],
             [
              0.1111111111111111,
              "#46039f"
             ],
             [
              0.2222222222222222,
              "#7201a8"
             ],
             [
              0.3333333333333333,
              "#9c179e"
             ],
             [
              0.4444444444444444,
              "#bd3786"
             ],
             [
              0.5555555555555556,
              "#d8576b"
             ],
             [
              0.6666666666666666,
              "#ed7953"
             ],
             [
              0.7777777777777778,
              "#fb9f3a"
             ],
             [
              0.8888888888888888,
              "#fdca26"
             ],
             [
              1,
              "#f0f921"
             ]
            ],
            "type": "heatmapgl"
           }
          ],
          "histogram": [
           {
            "marker": {
             "pattern": {
              "fillmode": "overlay",
              "size": 10,
              "solidity": 0.2
             }
            },
            "type": "histogram"
           }
          ],
          "histogram2d": [
           {
            "colorbar": {
             "outlinewidth": 0,
             "ticks": ""
            },
            "colorscale": [
             [
              0,
              "#0d0887"
             ],
             [
              0.1111111111111111,
              "#46039f"
             ],
             [
              0.2222222222222222,
              "#7201a8"
             ],
             [
              0.3333333333333333,
              "#9c179e"
             ],
             [
              0.4444444444444444,
              "#bd3786"
             ],
             [
              0.5555555555555556,
              "#d8576b"
             ],
             [
              0.6666666666666666,
              "#ed7953"
             ],
             [
              0.7777777777777778,
              "#fb9f3a"
             ],
             [
              0.8888888888888888,
              "#fdca26"
             ],
             [
              1,
              "#f0f921"
             ]
            ],
            "type": "histogram2d"
           }
          ],
          "histogram2dcontour": [
           {
            "colorbar": {
             "outlinewidth": 0,
             "ticks": ""
            },
            "colorscale": [
             [
              0,
              "#0d0887"
             ],
             [
              0.1111111111111111,
              "#46039f"
             ],
             [
              0.2222222222222222,
              "#7201a8"
             ],
             [
              0.3333333333333333,
              "#9c179e"
             ],
             [
              0.4444444444444444,
              "#bd3786"
             ],
             [
              0.5555555555555556,
              "#d8576b"
             ],
             [
              0.6666666666666666,
              "#ed7953"
             ],
             [
              0.7777777777777778,
              "#fb9f3a"
             ],
             [
              0.8888888888888888,
              "#fdca26"
             ],
             [
              1,
              "#f0f921"
             ]
            ],
            "type": "histogram2dcontour"
           }
          ],
          "mesh3d": [
           {
            "colorbar": {
             "outlinewidth": 0,
             "ticks": ""
            },
            "type": "mesh3d"
           }
          ],
          "parcoords": [
           {
            "line": {
             "colorbar": {
              "outlinewidth": 0,
              "ticks": ""
             }
            },
            "type": "parcoords"
           }
          ],
          "pie": [
           {
            "automargin": true,
            "type": "pie"
           }
          ],
          "scatter": [
           {
            "marker": {
             "colorbar": {
              "outlinewidth": 0,
              "ticks": ""
             }
            },
            "type": "scatter"
           }
          ],
          "scatter3d": [
           {
            "line": {
             "colorbar": {
              "outlinewidth": 0,
              "ticks": ""
             }
            },
            "marker": {
             "colorbar": {
              "outlinewidth": 0,
              "ticks": ""
             }
            },
            "type": "scatter3d"
           }
          ],
          "scattercarpet": [
           {
            "marker": {
             "colorbar": {
              "outlinewidth": 0,
              "ticks": ""
             }
            },
            "type": "scattercarpet"
           }
          ],
          "scattergeo": [
           {
            "marker": {
             "colorbar": {
              "outlinewidth": 0,
              "ticks": ""
             }
            },
            "type": "scattergeo"
           }
          ],
          "scattergl": [
           {
            "marker": {
             "colorbar": {
              "outlinewidth": 0,
              "ticks": ""
             }
            },
            "type": "scattergl"
           }
          ],
          "scattermapbox": [
           {
            "marker": {
             "colorbar": {
              "outlinewidth": 0,
              "ticks": ""
             }
            },
            "type": "scattermapbox"
           }
          ],
          "scatterpolar": [
           {
            "marker": {
             "colorbar": {
              "outlinewidth": 0,
              "ticks": ""
             }
            },
            "type": "scatterpolar"
           }
          ],
          "scatterpolargl": [
           {
            "marker": {
             "colorbar": {
              "outlinewidth": 0,
              "ticks": ""
             }
            },
            "type": "scatterpolargl"
           }
          ],
          "scatterternary": [
           {
            "marker": {
             "colorbar": {
              "outlinewidth": 0,
              "ticks": ""
             }
            },
            "type": "scatterternary"
           }
          ],
          "surface": [
           {
            "colorbar": {
             "outlinewidth": 0,
             "ticks": ""
            },
            "colorscale": [
             [
              0,
              "#0d0887"
             ],
             [
              0.1111111111111111,
              "#46039f"
             ],
             [
              0.2222222222222222,
              "#7201a8"
             ],
             [
              0.3333333333333333,
              "#9c179e"
             ],
             [
              0.4444444444444444,
              "#bd3786"
             ],
             [
              0.5555555555555556,
              "#d8576b"
             ],
             [
              0.6666666666666666,
              "#ed7953"
             ],
             [
              0.7777777777777778,
              "#fb9f3a"
             ],
             [
              0.8888888888888888,
              "#fdca26"
             ],
             [
              1,
              "#f0f921"
             ]
            ],
            "type": "surface"
           }
          ],
          "table": [
           {
            "cells": {
             "fill": {
              "color": "#EBF0F8"
             },
             "line": {
              "color": "white"
             }
            },
            "header": {
             "fill": {
              "color": "#C8D4E3"
             },
             "line": {
              "color": "white"
             }
            },
            "type": "table"
           }
          ]
         },
         "layout": {
          "annotationdefaults": {
           "arrowcolor": "#2a3f5f",
           "arrowhead": 0,
           "arrowwidth": 1
          },
          "autotypenumbers": "strict",
          "coloraxis": {
           "colorbar": {
            "outlinewidth": 0,
            "ticks": ""
           }
          },
          "colorscale": {
           "diverging": [
            [
             0,
             "#8e0152"
            ],
            [
             0.1,
             "#c51b7d"
            ],
            [
             0.2,
             "#de77ae"
            ],
            [
             0.3,
             "#f1b6da"
            ],
            [
             0.4,
             "#fde0ef"
            ],
            [
             0.5,
             "#f7f7f7"
            ],
            [
             0.6,
             "#e6f5d0"
            ],
            [
             0.7,
             "#b8e186"
            ],
            [
             0.8,
             "#7fbc41"
            ],
            [
             0.9,
             "#4d9221"
            ],
            [
             1,
             "#276419"
            ]
           ],
           "sequential": [
            [
             0,
             "#0d0887"
            ],
            [
             0.1111111111111111,
             "#46039f"
            ],
            [
             0.2222222222222222,
             "#7201a8"
            ],
            [
             0.3333333333333333,
             "#9c179e"
            ],
            [
             0.4444444444444444,
             "#bd3786"
            ],
            [
             0.5555555555555556,
             "#d8576b"
            ],
            [
             0.6666666666666666,
             "#ed7953"
            ],
            [
             0.7777777777777778,
             "#fb9f3a"
            ],
            [
             0.8888888888888888,
             "#fdca26"
            ],
            [
             1,
             "#f0f921"
            ]
           ],
           "sequentialminus": [
            [
             0,
             "#0d0887"
            ],
            [
             0.1111111111111111,
             "#46039f"
            ],
            [
             0.2222222222222222,
             "#7201a8"
            ],
            [
             0.3333333333333333,
             "#9c179e"
            ],
            [
             0.4444444444444444,
             "#bd3786"
            ],
            [
             0.5555555555555556,
             "#d8576b"
            ],
            [
             0.6666666666666666,
             "#ed7953"
            ],
            [
             0.7777777777777778,
             "#fb9f3a"
            ],
            [
             0.8888888888888888,
             "#fdca26"
            ],
            [
             1,
             "#f0f921"
            ]
           ]
          },
          "colorway": [
           "#636efa",
           "#EF553B",
           "#00cc96",
           "#ab63fa",
           "#FFA15A",
           "#19d3f3",
           "#FF6692",
           "#B6E880",
           "#FF97FF",
           "#FECB52"
          ],
          "font": {
           "color": "#2a3f5f"
          },
          "geo": {
           "bgcolor": "white",
           "lakecolor": "white",
           "landcolor": "#E5ECF6",
           "showlakes": true,
           "showland": true,
           "subunitcolor": "white"
          },
          "hoverlabel": {
           "align": "left"
          },
          "hovermode": "closest",
          "mapbox": {
           "style": "light"
          },
          "paper_bgcolor": "white",
          "plot_bgcolor": "#E5ECF6",
          "polar": {
           "angularaxis": {
            "gridcolor": "white",
            "linecolor": "white",
            "ticks": ""
           },
           "bgcolor": "#E5ECF6",
           "radialaxis": {
            "gridcolor": "white",
            "linecolor": "white",
            "ticks": ""
           }
          },
          "scene": {
           "xaxis": {
            "backgroundcolor": "#E5ECF6",
            "gridcolor": "white",
            "gridwidth": 2,
            "linecolor": "white",
            "showbackground": true,
            "ticks": "",
            "zerolinecolor": "white"
           },
           "yaxis": {
            "backgroundcolor": "#E5ECF6",
            "gridcolor": "white",
            "gridwidth": 2,
            "linecolor": "white",
            "showbackground": true,
            "ticks": "",
            "zerolinecolor": "white"
           },
           "zaxis": {
            "backgroundcolor": "#E5ECF6",
            "gridcolor": "white",
            "gridwidth": 2,
            "linecolor": "white",
            "showbackground": true,
            "ticks": "",
            "zerolinecolor": "white"
           }
          },
          "shapedefaults": {
           "line": {
            "color": "#2a3f5f"
           }
          },
          "ternary": {
           "aaxis": {
            "gridcolor": "white",
            "linecolor": "white",
            "ticks": ""
           },
           "baxis": {
            "gridcolor": "white",
            "linecolor": "white",
            "ticks": ""
           },
           "bgcolor": "#E5ECF6",
           "caxis": {
            "gridcolor": "white",
            "linecolor": "white",
            "ticks": ""
           }
          },
          "title": {
           "x": 0.05
          },
          "xaxis": {
           "automargin": true,
           "gridcolor": "white",
           "linecolor": "white",
           "ticks": "",
           "title": {
            "standoff": 15
           },
           "zerolinecolor": "white",
           "zerolinewidth": 2
          },
          "yaxis": {
           "automargin": true,
           "gridcolor": "white",
           "linecolor": "white",
           "ticks": "",
           "title": {
            "standoff": 15
           },
           "zerolinecolor": "white",
           "zerolinewidth": 2
          }
         }
        },
        "title": {
         "text": "Title:Naive Method vs BAAFFM"
        },
        "xaxis": {
         "anchor": "y",
         "domain": [
          0,
          0.94
         ]
        },
        "yaxis": {
         "anchor": "x",
         "domain": [
          0,
          1
         ],
         "title": {
          "text": "DD in Years"
         }
        },
        "yaxis2": {
         "anchor": "x",
         "overlaying": "y",
         "side": "right"
        }
       }
      },
      "text/html": [
       "<div>                            <div id=\"da9a9c90-13f4-4534-9b98-b2c744475831\" class=\"plotly-graph-div\" style=\"height:525px; width:100%;\"></div>            <script type=\"text/javascript\">                require([\"plotly\"], function(Plotly) {                    window.PLOTLYENV=window.PLOTLYENV || {};                                    if (document.getElementById(\"da9a9c90-13f4-4534-9b98-b2c744475831\")) {                    Plotly.newPlot(                        \"da9a9c90-13f4-4534-9b98-b2c744475831\",                        [{\"name\":\"dd_naive_0.05_0.25_25%\",\"x\":[1971,1972,1973,1974,1975,1976,1977,1978,1979,1980,1981,1982,1983,1984,1985,1986,1987,1988,1989,1990,1991,1992,1993,1994,1995,1996,1997,1998,1999,2000,2001,2002,2003,2004,2005,2006,2007,2008,2009,2010,2011,2012,2013,2014,2015,2016,2017,2018,2019,2020],\"y\":[0.2658808851709,0.21992462356002712,0.3462249438056522,0.3439087315903683,0.2834308426739627,0.16499927836419948,0.16408858950236588,0.33812223516548856,0.4202563560046226,0.5961323904423945,0.6979431113518275,0.5571966108951474,0.3921473489146018,0.4481102475836194,0.37466936143213936,0.3063019175219852,0.2065266440283464,0.09326516994375891,0.23246588563765508,0.21845221844037033,0.1119927661816183,0.016429303187944264,-0.010910127181976067,0.0038340516176307666,0.11939233821934712,0.10166903566410625,0.1163776715275549,0.12513809644517163,0.057537558144496084,0.11085346759077741,0.07816338323563521,-0.03921704896676456,-0.04785871830683834,-0.0015698289207536635,0.10694186828792579,0.2241996222378426,0.3056144301783405,0.1508744717726987,-0.1247450790349976,-0.12022231682052475,-0.05142530176937826,-0.07044155565054452,-0.04778782485067032,-0.041788641174847735,-0.0524713445135262,-0.05027725836950722,-0.036447828109961944,0.04269301665585253,0.08103176337099574,0.025411218092997078],\"type\":\"scatter\",\"xaxis\":\"x\",\"yaxis\":\"y\"},{\"name\":\"dd_naive_0.05_0.5_25%\",\"x\":[1971,1972,1973,1974,1975,1976,1977,1978,1979,1980,1981,1982,1983,1984,1985,1986,1987,1988,1989,1990,1991,1992,1993,1994,1995,1996,1997,1998,1999,2000,2001,2002,2003,2004,2005,2006,2007,2008,2009,2010,2011,2012,2013,2014,2015,2016,2017,2018,2019,2020],\"y\":[0.07559313154468442,0.06518594472402546,0.1476344664473877,0.10541106583634686,0.06210855721938007,-0.021194049058211296,-0.009279650812877986,0.12307862453799565,0.14091047155407166,0.24875023658574275,0.30841382635367387,0.23278601315315925,0.141762456760182,0.1619847654912749,0.11689987937229632,0.06654794561181483,0.0027610122553171,-0.12427920389443163,-0.014639767571380954,-0.02079763431391884,-0.10560437588148053,-0.1674382877385323,-0.192528506426289,-0.1629243594548902,-0.08588326743563114,-0.09379863156172832,-0.0801505557943025,-0.07134893113891017,-0.1287655605369081,-0.09182377757498195,-0.13120938988190395,-0.18287679663529782,-0.1661042915160157,-0.10046320257006422,-0.018953317794692177,0.05403790270459967,0.11094372116518733,0.006968246475056044,-0.24265477049052242,-0.23591084937428464,-0.11824373222123884,-0.1454946428597355,-0.10842088886339181,-0.09710028584086096,-0.11087472032584869,-0.12931736190992615,-0.13015989029344083,-0.05825941103443087,-0.04304091869318526,-0.0905709309088402],\"type\":\"scatter\",\"xaxis\":\"x\",\"yaxis\":\"y\"},{\"name\":\"dd_naive_0_0.25_25%\",\"x\":[1971,1972,1973,1974,1975,1976,1977,1978,1979,1980,1981,1982,1983,1984,1985,1986,1987,1988,1989,1990,1991,1992,1993,1994,1995,1996,1997,1998,1999,2000,2001,2002,2003,2004,2005,2006,2007,2008,2009,2010,2011,2012,2013,2014,2015,2016,2017,2018,2019,2020],\"y\":[0.4503094822811189,0.4084937672473845,0.619698602908933,0.5448131060184924,0.45194395293700673,0.27891674220779467,0.28193014754189727,0.566823414253621,0.6368849142028877,0.8820673737126195,1.0035134717005019,0.848847939899836,0.6191062604150716,0.6762304529502867,0.564178590125911,0.4705391521727372,0.33129796741037304,0.167106201063362,0.3505132492670727,0.33281788621516506,0.19214602728410424,0.07459693576267244,0.03970901743883182,0.05960657388057346,0.20680735751838653,0.1808161290827933,0.1991282028297578,0.2125795320703194,0.12847250138205124,0.19713389499675205,0.14803366380876448,0.006965917222434512,-0.00449186414366611,0.05794432539711015,0.21203780008124212,0.39044257272690785,0.5258059218702316,0.2827622029935871,-0.0971469590210286,-0.09311274257446231,-0.014845011965189937,-0.03958971558818457,-0.01286242570712983,-0.0030494088142838586,-0.018553184285872847,-0.012290422013249678,0.008671697244356145,0.1288327815528767,0.18027005163772428,0.09109740642570255],\"type\":\"scatter\",\"xaxis\":\"x\",\"yaxis\":\"y\"},{\"name\":\"dd_method_2_25%\",\"x\":[1971,1972,1973,1974,1975,1976,1977,1978,1979,1980,1981,1982,1983,1984,1985,1986,1987,1988,1989,1990,1991,1992,1993,1994,1995,1996,1997,1998,1999,2000,2001,2002,2003,2004,2005,2006,2007,2008,2009,2010,2011,2012,2013,2014,2015,2016,2017,2018,2019,2020],\"y\":[2.168726115762268,2.713318949461148,2.6793654074596702,0.8742625461300193,0.49703944014536827,0.9615897232670866,1.4986077197300367,1.7892029262462694,0.6567958337455209,-0.032693988940132784,0.08545342784842301,0.10189799740924232,1.1889650148553113,1.3159508844267715,1.3686950103320223,1.1411350338456705,1.3010693345375237,0.4556562821079233,0.590469842824318,0.6312748734887126,0.04882816596963445,0.4064478049754249,0.34225342343994797,0.45823090679517814,0.5169543605007536,0.5877170090225651,0.6734331008320804,0.8544643061072856,0.4902424427895759,0.22210725739042256,-0.0683897600691419,0.3842105423830344,0.21838293326465008,0.28051785886181696,1.2699438560524876,1.8334302607254194,2.2229062957483796,1.4906087880203065,-0.003622185344926865,-0.3492034692197241,-0.6354098345054723,-0.09068842785789362,-0.5763528916929364,-0.9867492913957646,-0.23544725202785033,-0.11630233571171142,0.01831401147476902,0.34958986541551623,1.1517435000868292,0.4380322007884833],\"type\":\"scatter\",\"xaxis\":\"x\",\"yaxis\":\"y\"}],                        {\"template\":{\"data\":{\"bar\":[{\"error_x\":{\"color\":\"#2a3f5f\"},\"error_y\":{\"color\":\"#2a3f5f\"},\"marker\":{\"line\":{\"color\":\"#E5ECF6\",\"width\":0.5},\"pattern\":{\"fillmode\":\"overlay\",\"size\":10,\"solidity\":0.2}},\"type\":\"bar\"}],\"barpolar\":[{\"marker\":{\"line\":{\"color\":\"#E5ECF6\",\"width\":0.5},\"pattern\":{\"fillmode\":\"overlay\",\"size\":10,\"solidity\":0.2}},\"type\":\"barpolar\"}],\"carpet\":[{\"aaxis\":{\"endlinecolor\":\"#2a3f5f\",\"gridcolor\":\"white\",\"linecolor\":\"white\",\"minorgridcolor\":\"white\",\"startlinecolor\":\"#2a3f5f\"},\"baxis\":{\"endlinecolor\":\"#2a3f5f\",\"gridcolor\":\"white\",\"linecolor\":\"white\",\"minorgridcolor\":\"white\",\"startlinecolor\":\"#2a3f5f\"},\"type\":\"carpet\"}],\"choropleth\":[{\"colorbar\":{\"outlinewidth\":0,\"ticks\":\"\"},\"type\":\"choropleth\"}],\"contour\":[{\"colorbar\":{\"outlinewidth\":0,\"ticks\":\"\"},\"colorscale\":[[0.0,\"#0d0887\"],[0.1111111111111111,\"#46039f\"],[0.2222222222222222,\"#7201a8\"],[0.3333333333333333,\"#9c179e\"],[0.4444444444444444,\"#bd3786\"],[0.5555555555555556,\"#d8576b\"],[0.6666666666666666,\"#ed7953\"],[0.7777777777777778,\"#fb9f3a\"],[0.8888888888888888,\"#fdca26\"],[1.0,\"#f0f921\"]],\"type\":\"contour\"}],\"contourcarpet\":[{\"colorbar\":{\"outlinewidth\":0,\"ticks\":\"\"},\"type\":\"contourcarpet\"}],\"heatmap\":[{\"colorbar\":{\"outlinewidth\":0,\"ticks\":\"\"},\"colorscale\":[[0.0,\"#0d0887\"],[0.1111111111111111,\"#46039f\"],[0.2222222222222222,\"#7201a8\"],[0.3333333333333333,\"#9c179e\"],[0.4444444444444444,\"#bd3786\"],[0.5555555555555556,\"#d8576b\"],[0.6666666666666666,\"#ed7953\"],[0.7777777777777778,\"#fb9f3a\"],[0.8888888888888888,\"#fdca26\"],[1.0,\"#f0f921\"]],\"type\":\"heatmap\"}],\"heatmapgl\":[{\"colorbar\":{\"outlinewidth\":0,\"ticks\":\"\"},\"colorscale\":[[0.0,\"#0d0887\"],[0.1111111111111111,\"#46039f\"],[0.2222222222222222,\"#7201a8\"],[0.3333333333333333,\"#9c179e\"],[0.4444444444444444,\"#bd3786\"],[0.5555555555555556,\"#d8576b\"],[0.6666666666666666,\"#ed7953\"],[0.7777777777777778,\"#fb9f3a\"],[0.8888888888888888,\"#fdca26\"],[1.0,\"#f0f921\"]],\"type\":\"heatmapgl\"}],\"histogram\":[{\"marker\":{\"pattern\":{\"fillmode\":\"overlay\",\"size\":10,\"solidity\":0.2}},\"type\":\"histogram\"}],\"histogram2d\":[{\"colorbar\":{\"outlinewidth\":0,\"ticks\":\"\"},\"colorscale\":[[0.0,\"#0d0887\"],[0.1111111111111111,\"#46039f\"],[0.2222222222222222,\"#7201a8\"],[0.3333333333333333,\"#9c179e\"],[0.4444444444444444,\"#bd3786\"],[0.5555555555555556,\"#d8576b\"],[0.6666666666666666,\"#ed7953\"],[0.7777777777777778,\"#fb9f3a\"],[0.8888888888888888,\"#fdca26\"],[1.0,\"#f0f921\"]],\"type\":\"histogram2d\"}],\"histogram2dcontour\":[{\"colorbar\":{\"outlinewidth\":0,\"ticks\":\"\"},\"colorscale\":[[0.0,\"#0d0887\"],[0.1111111111111111,\"#46039f\"],[0.2222222222222222,\"#7201a8\"],[0.3333333333333333,\"#9c179e\"],[0.4444444444444444,\"#bd3786\"],[0.5555555555555556,\"#d8576b\"],[0.6666666666666666,\"#ed7953\"],[0.7777777777777778,\"#fb9f3a\"],[0.8888888888888888,\"#fdca26\"],[1.0,\"#f0f921\"]],\"type\":\"histogram2dcontour\"}],\"mesh3d\":[{\"colorbar\":{\"outlinewidth\":0,\"ticks\":\"\"},\"type\":\"mesh3d\"}],\"parcoords\":[{\"line\":{\"colorbar\":{\"outlinewidth\":0,\"ticks\":\"\"}},\"type\":\"parcoords\"}],\"pie\":[{\"automargin\":true,\"type\":\"pie\"}],\"scatter\":[{\"marker\":{\"colorbar\":{\"outlinewidth\":0,\"ticks\":\"\"}},\"type\":\"scatter\"}],\"scatter3d\":[{\"line\":{\"colorbar\":{\"outlinewidth\":0,\"ticks\":\"\"}},\"marker\":{\"colorbar\":{\"outlinewidth\":0,\"ticks\":\"\"}},\"type\":\"scatter3d\"}],\"scattercarpet\":[{\"marker\":{\"colorbar\":{\"outlinewidth\":0,\"ticks\":\"\"}},\"type\":\"scattercarpet\"}],\"scattergeo\":[{\"marker\":{\"colorbar\":{\"outlinewidth\":0,\"ticks\":\"\"}},\"type\":\"scattergeo\"}],\"scattergl\":[{\"marker\":{\"colorbar\":{\"outlinewidth\":0,\"ticks\":\"\"}},\"type\":\"scattergl\"}],\"scattermapbox\":[{\"marker\":{\"colorbar\":{\"outlinewidth\":0,\"ticks\":\"\"}},\"type\":\"scattermapbox\"}],\"scatterpolar\":[{\"marker\":{\"colorbar\":{\"outlinewidth\":0,\"ticks\":\"\"}},\"type\":\"scatterpolar\"}],\"scatterpolargl\":[{\"marker\":{\"colorbar\":{\"outlinewidth\":0,\"ticks\":\"\"}},\"type\":\"scatterpolargl\"}],\"scatterternary\":[{\"marker\":{\"colorbar\":{\"outlinewidth\":0,\"ticks\":\"\"}},\"type\":\"scatterternary\"}],\"surface\":[{\"colorbar\":{\"outlinewidth\":0,\"ticks\":\"\"},\"colorscale\":[[0.0,\"#0d0887\"],[0.1111111111111111,\"#46039f\"],[0.2222222222222222,\"#7201a8\"],[0.3333333333333333,\"#9c179e\"],[0.4444444444444444,\"#bd3786\"],[0.5555555555555556,\"#d8576b\"],[0.6666666666666666,\"#ed7953\"],[0.7777777777777778,\"#fb9f3a\"],[0.8888888888888888,\"#fdca26\"],[1.0,\"#f0f921\"]],\"type\":\"surface\"}],\"table\":[{\"cells\":{\"fill\":{\"color\":\"#EBF0F8\"},\"line\":{\"color\":\"white\"}},\"header\":{\"fill\":{\"color\":\"#C8D4E3\"},\"line\":{\"color\":\"white\"}},\"type\":\"table\"}]},\"layout\":{\"annotationdefaults\":{\"arrowcolor\":\"#2a3f5f\",\"arrowhead\":0,\"arrowwidth\":1},\"autotypenumbers\":\"strict\",\"coloraxis\":{\"colorbar\":{\"outlinewidth\":0,\"ticks\":\"\"}},\"colorscale\":{\"diverging\":[[0,\"#8e0152\"],[0.1,\"#c51b7d\"],[0.2,\"#de77ae\"],[0.3,\"#f1b6da\"],[0.4,\"#fde0ef\"],[0.5,\"#f7f7f7\"],[0.6,\"#e6f5d0\"],[0.7,\"#b8e186\"],[0.8,\"#7fbc41\"],[0.9,\"#4d9221\"],[1,\"#276419\"]],\"sequential\":[[0.0,\"#0d0887\"],[0.1111111111111111,\"#46039f\"],[0.2222222222222222,\"#7201a8\"],[0.3333333333333333,\"#9c179e\"],[0.4444444444444444,\"#bd3786\"],[0.5555555555555556,\"#d8576b\"],[0.6666666666666666,\"#ed7953\"],[0.7777777777777778,\"#fb9f3a\"],[0.8888888888888888,\"#fdca26\"],[1.0,\"#f0f921\"]],\"sequentialminus\":[[0.0,\"#0d0887\"],[0.1111111111111111,\"#46039f\"],[0.2222222222222222,\"#7201a8\"],[0.3333333333333333,\"#9c179e\"],[0.4444444444444444,\"#bd3786\"],[0.5555555555555556,\"#d8576b\"],[0.6666666666666666,\"#ed7953\"],[0.7777777777777778,\"#fb9f3a\"],[0.8888888888888888,\"#fdca26\"],[1.0,\"#f0f921\"]]},\"colorway\":[\"#636efa\",\"#EF553B\",\"#00cc96\",\"#ab63fa\",\"#FFA15A\",\"#19d3f3\",\"#FF6692\",\"#B6E880\",\"#FF97FF\",\"#FECB52\"],\"font\":{\"color\":\"#2a3f5f\"},\"geo\":{\"bgcolor\":\"white\",\"lakecolor\":\"white\",\"landcolor\":\"#E5ECF6\",\"showlakes\":true,\"showland\":true,\"subunitcolor\":\"white\"},\"hoverlabel\":{\"align\":\"left\"},\"hovermode\":\"closest\",\"mapbox\":{\"style\":\"light\"},\"paper_bgcolor\":\"white\",\"plot_bgcolor\":\"#E5ECF6\",\"polar\":{\"angularaxis\":{\"gridcolor\":\"white\",\"linecolor\":\"white\",\"ticks\":\"\"},\"bgcolor\":\"#E5ECF6\",\"radialaxis\":{\"gridcolor\":\"white\",\"linecolor\":\"white\",\"ticks\":\"\"}},\"scene\":{\"xaxis\":{\"backgroundcolor\":\"#E5ECF6\",\"gridcolor\":\"white\",\"gridwidth\":2,\"linecolor\":\"white\",\"showbackground\":true,\"ticks\":\"\",\"zerolinecolor\":\"white\"},\"yaxis\":{\"backgroundcolor\":\"#E5ECF6\",\"gridcolor\":\"white\",\"gridwidth\":2,\"linecolor\":\"white\",\"showbackground\":true,\"ticks\":\"\",\"zerolinecolor\":\"white\"},\"zaxis\":{\"backgroundcolor\":\"#E5ECF6\",\"gridcolor\":\"white\",\"gridwidth\":2,\"linecolor\":\"white\",\"showbackground\":true,\"ticks\":\"\",\"zerolinecolor\":\"white\"}},\"shapedefaults\":{\"line\":{\"color\":\"#2a3f5f\"}},\"ternary\":{\"aaxis\":{\"gridcolor\":\"white\",\"linecolor\":\"white\",\"ticks\":\"\"},\"baxis\":{\"gridcolor\":\"white\",\"linecolor\":\"white\",\"ticks\":\"\"},\"bgcolor\":\"#E5ECF6\",\"caxis\":{\"gridcolor\":\"white\",\"linecolor\":\"white\",\"ticks\":\"\"}},\"title\":{\"x\":0.05},\"xaxis\":{\"automargin\":true,\"gridcolor\":\"white\",\"linecolor\":\"white\",\"ticks\":\"\",\"title\":{\"standoff\":15},\"zerolinecolor\":\"white\",\"zerolinewidth\":2},\"yaxis\":{\"automargin\":true,\"gridcolor\":\"white\",\"linecolor\":\"white\",\"ticks\":\"\",\"title\":{\"standoff\":15},\"zerolinecolor\":\"white\",\"zerolinewidth\":2}}},\"xaxis\":{\"anchor\":\"y\",\"domain\":[0.0,0.94]},\"yaxis\":{\"anchor\":\"x\",\"domain\":[0.0,1.0],\"title\":{\"text\":\"DD in Years\"}},\"yaxis2\":{\"anchor\":\"x\",\"overlaying\":\"y\",\"side\":\"right\"},\"title\":{\"text\":\"Title:Naive Method vs BAAFFM\"},\"barmode\":\"relative\",\"showlegend\":true},                        {\"responsive\": true}                    ).then(function(){\n",
       "                            \n",
       "var gd = document.getElementById('da9a9c90-13f4-4534-9b98-b2c744475831');\n",
       "var x = new MutationObserver(function (mutations, observer) {{\n",
       "        var display = window.getComputedStyle(gd).display;\n",
       "        if (!display || display === 'none') {{\n",
       "            console.log([gd, 'removed!']);\n",
       "            Plotly.purge(gd);\n",
       "            observer.disconnect();\n",
       "        }}\n",
       "}});\n",
       "\n",
       "// Listen for the removal of the full notebook cells\n",
       "var notebookContainer = gd.closest('#notebook-container');\n",
       "if (notebookContainer) {{\n",
       "    x.observe(notebookContainer, {childList: true});\n",
       "}}\n",
       "\n",
       "// Listen for the clearing of the current output cell\n",
       "var outputEl = gd.closest('.output');\n",
       "if (outputEl) {{\n",
       "    x.observe(outputEl, {childList: true});\n",
       "}}\n",
       "\n",
       "                        })                };                });            </script>        </div>"
      ]
     },
     "metadata": {},
     "output_type": "display_data"
    },
    {
     "data": {
      "application/vnd.plotly.v1+json": {
       "config": {
        "plotlyServerURL": "https://plot.ly"
       },
       "data": [
        {
         "name": "dd_naive_0.05_0.25_25%",
         "type": "scatter",
         "x": [
          1971,
          1972,
          1973,
          1974,
          1975,
          1976,
          1977,
          1978,
          1979,
          1980,
          1981,
          1982,
          1983,
          1984,
          1985,
          1986,
          1987,
          1988,
          1989,
          1990,
          1991,
          1992,
          1993,
          1994,
          1995,
          1996,
          1997,
          1998,
          1999,
          2000,
          2001,
          2002,
          2003,
          2004,
          2005,
          2006,
          2007,
          2008,
          2009,
          2010,
          2011,
          2012,
          2013,
          2014,
          2015,
          2016,
          2017,
          2018,
          2019,
          2020
         ],
         "xaxis": "x",
         "y": [
          0.2658808851709,
          0.21992462356002712,
          0.3462249438056522,
          0.3439087315903683,
          0.2834308426739627,
          0.16499927836419948,
          0.16408858950236588,
          0.33812223516548856,
          0.4202563560046226,
          0.5961323904423945,
          0.6979431113518275,
          0.5571966108951474,
          0.3921473489146018,
          0.4481102475836194,
          0.37466936143213936,
          0.3063019175219852,
          0.2065266440283464,
          0.09326516994375891,
          0.23246588563765508,
          0.21845221844037033,
          0.1119927661816183,
          0.016429303187944264,
          -0.010910127181976067,
          0.0038340516176307666,
          0.11939233821934712,
          0.10166903566410625,
          0.1163776715275549,
          0.12513809644517163,
          0.057537558144496084,
          0.11085346759077741,
          0.07816338323563521,
          -0.03921704896676456,
          -0.04785871830683834,
          -0.0015698289207536635,
          0.10694186828792579,
          0.2241996222378426,
          0.3056144301783405,
          0.1508744717726987,
          -0.1247450790349976,
          -0.12022231682052475,
          -0.05142530176937826,
          -0.07044155565054452,
          -0.04778782485067032,
          -0.041788641174847735,
          -0.0524713445135262,
          -0.05027725836950722,
          -0.036447828109961944,
          0.04269301665585253,
          0.08103176337099574,
          0.025411218092997078
         ],
         "yaxis": "y"
        },
        {
         "name": "dd_naive_0.05_0.5_25%",
         "type": "scatter",
         "x": [
          1971,
          1972,
          1973,
          1974,
          1975,
          1976,
          1977,
          1978,
          1979,
          1980,
          1981,
          1982,
          1983,
          1984,
          1985,
          1986,
          1987,
          1988,
          1989,
          1990,
          1991,
          1992,
          1993,
          1994,
          1995,
          1996,
          1997,
          1998,
          1999,
          2000,
          2001,
          2002,
          2003,
          2004,
          2005,
          2006,
          2007,
          2008,
          2009,
          2010,
          2011,
          2012,
          2013,
          2014,
          2015,
          2016,
          2017,
          2018,
          2019,
          2020
         ],
         "xaxis": "x",
         "y": [
          0.07559313154468442,
          0.06518594472402546,
          0.1476344664473877,
          0.10541106583634686,
          0.06210855721938007,
          -0.021194049058211296,
          -0.009279650812877986,
          0.12307862453799565,
          0.14091047155407166,
          0.24875023658574275,
          0.30841382635367387,
          0.23278601315315925,
          0.141762456760182,
          0.1619847654912749,
          0.11689987937229632,
          0.06654794561181483,
          0.0027610122553171,
          -0.12427920389443163,
          -0.014639767571380954,
          -0.02079763431391884,
          -0.10560437588148053,
          -0.1674382877385323,
          -0.192528506426289,
          -0.1629243594548902,
          -0.08588326743563114,
          -0.09379863156172832,
          -0.0801505557943025,
          -0.07134893113891017,
          -0.1287655605369081,
          -0.09182377757498195,
          -0.13120938988190395,
          -0.18287679663529782,
          -0.1661042915160157,
          -0.10046320257006422,
          -0.018953317794692177,
          0.05403790270459967,
          0.11094372116518733,
          0.006968246475056044,
          -0.24265477049052242,
          -0.23591084937428464,
          -0.11824373222123884,
          -0.1454946428597355,
          -0.10842088886339181,
          -0.09710028584086096,
          -0.11087472032584869,
          -0.12931736190992615,
          -0.13015989029344083,
          -0.05825941103443087,
          -0.04304091869318526,
          -0.0905709309088402
         ],
         "yaxis": "y"
        },
        {
         "name": "dd_naive_0_0.25_25%",
         "type": "scatter",
         "x": [
          1971,
          1972,
          1973,
          1974,
          1975,
          1976,
          1977,
          1978,
          1979,
          1980,
          1981,
          1982,
          1983,
          1984,
          1985,
          1986,
          1987,
          1988,
          1989,
          1990,
          1991,
          1992,
          1993,
          1994,
          1995,
          1996,
          1997,
          1998,
          1999,
          2000,
          2001,
          2002,
          2003,
          2004,
          2005,
          2006,
          2007,
          2008,
          2009,
          2010,
          2011,
          2012,
          2013,
          2014,
          2015,
          2016,
          2017,
          2018,
          2019,
          2020
         ],
         "xaxis": "x",
         "y": [
          0.4503094822811189,
          0.4084937672473845,
          0.619698602908933,
          0.5448131060184924,
          0.45194395293700673,
          0.27891674220779467,
          0.28193014754189727,
          0.566823414253621,
          0.6368849142028877,
          0.8820673737126195,
          1.0035134717005019,
          0.848847939899836,
          0.6191062604150716,
          0.6762304529502867,
          0.564178590125911,
          0.4705391521727372,
          0.33129796741037304,
          0.167106201063362,
          0.3505132492670727,
          0.33281788621516506,
          0.19214602728410424,
          0.07459693576267244,
          0.03970901743883182,
          0.05960657388057346,
          0.20680735751838653,
          0.1808161290827933,
          0.1991282028297578,
          0.2125795320703194,
          0.12847250138205124,
          0.19713389499675205,
          0.14803366380876448,
          0.006965917222434512,
          -0.00449186414366611,
          0.05794432539711015,
          0.21203780008124212,
          0.39044257272690785,
          0.5258059218702316,
          0.2827622029935871,
          -0.0971469590210286,
          -0.09311274257446231,
          -0.014845011965189937,
          -0.03958971558818457,
          -0.01286242570712983,
          -0.0030494088142838586,
          -0.018553184285872847,
          -0.012290422013249678,
          0.008671697244356145,
          0.1288327815528767,
          0.18027005163772428,
          0.09109740642570255
         ],
         "yaxis": "y"
        },
        {
         "name": "dd_method_2_25%",
         "type": "scatter",
         "x": [
          1971,
          1972,
          1973,
          1974,
          1975,
          1976,
          1977,
          1978,
          1979,
          1980,
          1981,
          1982,
          1983,
          1984,
          1985,
          1986,
          1987,
          1988,
          1989,
          1990,
          1991,
          1992,
          1993,
          1994,
          1995,
          1996,
          1997,
          1998,
          1999,
          2000,
          2001,
          2002,
          2003,
          2004,
          2005,
          2006,
          2007,
          2008,
          2009,
          2010,
          2011,
          2012,
          2013,
          2014,
          2015,
          2016,
          2017,
          2018,
          2019,
          2020
         ],
         "xaxis": "x",
         "y": [
          2.168726115762268,
          2.713318949461148,
          2.6793654074596702,
          0.8742625461300193,
          0.49703944014536827,
          0.9615897232670866,
          1.4986077197300367,
          1.7892029262462694,
          0.6567958337455209,
          -0.032693988940132784,
          0.08545342784842301,
          0.10189799740924232,
          1.1889650148553113,
          1.3159508844267715,
          1.3686950103320223,
          1.1411350338456705,
          1.3010693345375237,
          0.4556562821079233,
          0.590469842824318,
          0.6312748734887126,
          0.04882816596963445,
          0.4064478049754249,
          0.34225342343994797,
          0.45823090679517814,
          0.5169543605007536,
          0.5877170090225651,
          0.6734331008320804,
          0.8544643061072856,
          0.4902424427895759,
          0.22210725739042256,
          -0.0683897600691419,
          0.3842105423830344,
          0.21838293326465008,
          0.28051785886181696,
          1.2699438560524876,
          1.8334302607254194,
          2.2229062957483796,
          1.4906087880203065,
          -0.003622185344926865,
          -0.3492034692197241,
          -0.6354098345054723,
          -0.09068842785789362,
          -0.5763528916929364,
          -0.9867492913957646,
          -0.23544725202785033,
          -0.11630233571171142,
          0.01831401147476902,
          0.34958986541551623,
          1.1517435000868292,
          0.4380322007884833
         ],
         "yaxis": "y"
        },
        {
         "name": "BAAFFM",
         "type": "scatter",
         "x": [
          1971,
          1972,
          1973,
          1974,
          1975,
          1976,
          1977,
          1978,
          1979,
          1980,
          1981,
          1982,
          1983,
          1984,
          1985,
          1986,
          1987,
          1988,
          1989,
          1990,
          1991,
          1992,
          1993,
          1994,
          1995,
          1996,
          1997,
          1998,
          1999,
          2000,
          2001,
          2002,
          2003,
          2004,
          2005,
          2006,
          2007,
          2008,
          2009,
          2010,
          2011,
          2012,
          2013,
          2014,
          2015,
          2016,
          2017,
          2018,
          2019,
          2020
         ],
         "xaxis": "x",
         "y": [
          3.9025000000000003,
          3.724166666666667,
          -0.4866666666666668,
          -1.0058333333333331,
          4.785833333333333,
          4.701666666666667,
          3.4316666666666666,
          1.5574999999999999,
          -0.5041666666666667,
          0.31249999999999994,
          -0.3341666666666668,
          3.855,
          4.4675,
          3.965,
          4.614166666666667,
          3.5858333333333334,
          3.918333333333333,
          3.2616666666666667,
          0.9608333333333334,
          2.2558333333333334,
          4.114166666666667,
          5.454999999999999,
          4.9075,
          4.4208333333333325,
          2.3641666666666663,
          2.7558333333333334,
          2.4025000000000003,
          1.8675,
          2.9008333333333334,
          2.1283333333333334,
          4.06,
          6.134999999999999,
          5.638333333333333,
          5.0441666666666665,
          2.8508333333333327,
          1.515,
          1.4633333333333336,
          5.519166666666667,
          7.135833333333334,
          5.863333333333333,
          5.5625,
          4.795000000000001,
          4.994166666666667,
          4.765,
          4.866666666666667,
          4.322499999999999,
          3.438333333333334,
          2.9683333333333333,
          2.2175,
          3.2291666666666665
         ],
         "yaxis": "y2"
        }
       ],
       "layout": {
        "barmode": "relative",
        "showlegend": true,
        "template": {
         "data": {
          "bar": [
           {
            "error_x": {
             "color": "#2a3f5f"
            },
            "error_y": {
             "color": "#2a3f5f"
            },
            "marker": {
             "line": {
              "color": "#E5ECF6",
              "width": 0.5
             },
             "pattern": {
              "fillmode": "overlay",
              "size": 10,
              "solidity": 0.2
             }
            },
            "type": "bar"
           }
          ],
          "barpolar": [
           {
            "marker": {
             "line": {
              "color": "#E5ECF6",
              "width": 0.5
             },
             "pattern": {
              "fillmode": "overlay",
              "size": 10,
              "solidity": 0.2
             }
            },
            "type": "barpolar"
           }
          ],
          "carpet": [
           {
            "aaxis": {
             "endlinecolor": "#2a3f5f",
             "gridcolor": "white",
             "linecolor": "white",
             "minorgridcolor": "white",
             "startlinecolor": "#2a3f5f"
            },
            "baxis": {
             "endlinecolor": "#2a3f5f",
             "gridcolor": "white",
             "linecolor": "white",
             "minorgridcolor": "white",
             "startlinecolor": "#2a3f5f"
            },
            "type": "carpet"
           }
          ],
          "choropleth": [
           {
            "colorbar": {
             "outlinewidth": 0,
             "ticks": ""
            },
            "type": "choropleth"
           }
          ],
          "contour": [
           {
            "colorbar": {
             "outlinewidth": 0,
             "ticks": ""
            },
            "colorscale": [
             [
              0,
              "#0d0887"
             ],
             [
              0.1111111111111111,
              "#46039f"
             ],
             [
              0.2222222222222222,
              "#7201a8"
             ],
             [
              0.3333333333333333,
              "#9c179e"
             ],
             [
              0.4444444444444444,
              "#bd3786"
             ],
             [
              0.5555555555555556,
              "#d8576b"
             ],
             [
              0.6666666666666666,
              "#ed7953"
             ],
             [
              0.7777777777777778,
              "#fb9f3a"
             ],
             [
              0.8888888888888888,
              "#fdca26"
             ],
             [
              1,
              "#f0f921"
             ]
            ],
            "type": "contour"
           }
          ],
          "contourcarpet": [
           {
            "colorbar": {
             "outlinewidth": 0,
             "ticks": ""
            },
            "type": "contourcarpet"
           }
          ],
          "heatmap": [
           {
            "colorbar": {
             "outlinewidth": 0,
             "ticks": ""
            },
            "colorscale": [
             [
              0,
              "#0d0887"
             ],
             [
              0.1111111111111111,
              "#46039f"
             ],
             [
              0.2222222222222222,
              "#7201a8"
             ],
             [
              0.3333333333333333,
              "#9c179e"
             ],
             [
              0.4444444444444444,
              "#bd3786"
             ],
             [
              0.5555555555555556,
              "#d8576b"
             ],
             [
              0.6666666666666666,
              "#ed7953"
             ],
             [
              0.7777777777777778,
              "#fb9f3a"
             ],
             [
              0.8888888888888888,
              "#fdca26"
             ],
             [
              1,
              "#f0f921"
             ]
            ],
            "type": "heatmap"
           }
          ],
          "heatmapgl": [
           {
            "colorbar": {
             "outlinewidth": 0,
             "ticks": ""
            },
            "colorscale": [
             [
              0,
              "#0d0887"
             ],
             [
              0.1111111111111111,
              "#46039f"
             ],
             [
              0.2222222222222222,
              "#7201a8"
             ],
             [
              0.3333333333333333,
              "#9c179e"
             ],
             [
              0.4444444444444444,
              "#bd3786"
             ],
             [
              0.5555555555555556,
              "#d8576b"
             ],
             [
              0.6666666666666666,
              "#ed7953"
             ],
             [
              0.7777777777777778,
              "#fb9f3a"
             ],
             [
              0.8888888888888888,
              "#fdca26"
             ],
             [
              1,
              "#f0f921"
             ]
            ],
            "type": "heatmapgl"
           }
          ],
          "histogram": [
           {
            "marker": {
             "pattern": {
              "fillmode": "overlay",
              "size": 10,
              "solidity": 0.2
             }
            },
            "type": "histogram"
           }
          ],
          "histogram2d": [
           {
            "colorbar": {
             "outlinewidth": 0,
             "ticks": ""
            },
            "colorscale": [
             [
              0,
              "#0d0887"
             ],
             [
              0.1111111111111111,
              "#46039f"
             ],
             [
              0.2222222222222222,
              "#7201a8"
             ],
             [
              0.3333333333333333,
              "#9c179e"
             ],
             [
              0.4444444444444444,
              "#bd3786"
             ],
             [
              0.5555555555555556,
              "#d8576b"
             ],
             [
              0.6666666666666666,
              "#ed7953"
             ],
             [
              0.7777777777777778,
              "#fb9f3a"
             ],
             [
              0.8888888888888888,
              "#fdca26"
             ],
             [
              1,
              "#f0f921"
             ]
            ],
            "type": "histogram2d"
           }
          ],
          "histogram2dcontour": [
           {
            "colorbar": {
             "outlinewidth": 0,
             "ticks": ""
            },
            "colorscale": [
             [
              0,
              "#0d0887"
             ],
             [
              0.1111111111111111,
              "#46039f"
             ],
             [
              0.2222222222222222,
              "#7201a8"
             ],
             [
              0.3333333333333333,
              "#9c179e"
             ],
             [
              0.4444444444444444,
              "#bd3786"
             ],
             [
              0.5555555555555556,
              "#d8576b"
             ],
             [
              0.6666666666666666,
              "#ed7953"
             ],
             [
              0.7777777777777778,
              "#fb9f3a"
             ],
             [
              0.8888888888888888,
              "#fdca26"
             ],
             [
              1,
              "#f0f921"
             ]
            ],
            "type": "histogram2dcontour"
           }
          ],
          "mesh3d": [
           {
            "colorbar": {
             "outlinewidth": 0,
             "ticks": ""
            },
            "type": "mesh3d"
           }
          ],
          "parcoords": [
           {
            "line": {
             "colorbar": {
              "outlinewidth": 0,
              "ticks": ""
             }
            },
            "type": "parcoords"
           }
          ],
          "pie": [
           {
            "automargin": true,
            "type": "pie"
           }
          ],
          "scatter": [
           {
            "marker": {
             "colorbar": {
              "outlinewidth": 0,
              "ticks": ""
             }
            },
            "type": "scatter"
           }
          ],
          "scatter3d": [
           {
            "line": {
             "colorbar": {
              "outlinewidth": 0,
              "ticks": ""
             }
            },
            "marker": {
             "colorbar": {
              "outlinewidth": 0,
              "ticks": ""
             }
            },
            "type": "scatter3d"
           }
          ],
          "scattercarpet": [
           {
            "marker": {
             "colorbar": {
              "outlinewidth": 0,
              "ticks": ""
             }
            },
            "type": "scattercarpet"
           }
          ],
          "scattergeo": [
           {
            "marker": {
             "colorbar": {
              "outlinewidth": 0,
              "ticks": ""
             }
            },
            "type": "scattergeo"
           }
          ],
          "scattergl": [
           {
            "marker": {
             "colorbar": {
              "outlinewidth": 0,
              "ticks": ""
             }
            },
            "type": "scattergl"
           }
          ],
          "scattermapbox": [
           {
            "marker": {
             "colorbar": {
              "outlinewidth": 0,
              "ticks": ""
             }
            },
            "type": "scattermapbox"
           }
          ],
          "scatterpolar": [
           {
            "marker": {
             "colorbar": {
              "outlinewidth": 0,
              "ticks": ""
             }
            },
            "type": "scatterpolar"
           }
          ],
          "scatterpolargl": [
           {
            "marker": {
             "colorbar": {
              "outlinewidth": 0,
              "ticks": ""
             }
            },
            "type": "scatterpolargl"
           }
          ],
          "scatterternary": [
           {
            "marker": {
             "colorbar": {
              "outlinewidth": 0,
              "ticks": ""
             }
            },
            "type": "scatterternary"
           }
          ],
          "surface": [
           {
            "colorbar": {
             "outlinewidth": 0,
             "ticks": ""
            },
            "colorscale": [
             [
              0,
              "#0d0887"
             ],
             [
              0.1111111111111111,
              "#46039f"
             ],
             [
              0.2222222222222222,
              "#7201a8"
             ],
             [
              0.3333333333333333,
              "#9c179e"
             ],
             [
              0.4444444444444444,
              "#bd3786"
             ],
             [
              0.5555555555555556,
              "#d8576b"
             ],
             [
              0.6666666666666666,
              "#ed7953"
             ],
             [
              0.7777777777777778,
              "#fb9f3a"
             ],
             [
              0.8888888888888888,
              "#fdca26"
             ],
             [
              1,
              "#f0f921"
             ]
            ],
            "type": "surface"
           }
          ],
          "table": [
           {
            "cells": {
             "fill": {
              "color": "#EBF0F8"
             },
             "line": {
              "color": "white"
             }
            },
            "header": {
             "fill": {
              "color": "#C8D4E3"
             },
             "line": {
              "color": "white"
             }
            },
            "type": "table"
           }
          ]
         },
         "layout": {
          "annotationdefaults": {
           "arrowcolor": "#2a3f5f",
           "arrowhead": 0,
           "arrowwidth": 1
          },
          "autotypenumbers": "strict",
          "coloraxis": {
           "colorbar": {
            "outlinewidth": 0,
            "ticks": ""
           }
          },
          "colorscale": {
           "diverging": [
            [
             0,
             "#8e0152"
            ],
            [
             0.1,
             "#c51b7d"
            ],
            [
             0.2,
             "#de77ae"
            ],
            [
             0.3,
             "#f1b6da"
            ],
            [
             0.4,
             "#fde0ef"
            ],
            [
             0.5,
             "#f7f7f7"
            ],
            [
             0.6,
             "#e6f5d0"
            ],
            [
             0.7,
             "#b8e186"
            ],
            [
             0.8,
             "#7fbc41"
            ],
            [
             0.9,
             "#4d9221"
            ],
            [
             1,
             "#276419"
            ]
           ],
           "sequential": [
            [
             0,
             "#0d0887"
            ],
            [
             0.1111111111111111,
             "#46039f"
            ],
            [
             0.2222222222222222,
             "#7201a8"
            ],
            [
             0.3333333333333333,
             "#9c179e"
            ],
            [
             0.4444444444444444,
             "#bd3786"
            ],
            [
             0.5555555555555556,
             "#d8576b"
            ],
            [
             0.6666666666666666,
             "#ed7953"
            ],
            [
             0.7777777777777778,
             "#fb9f3a"
            ],
            [
             0.8888888888888888,
             "#fdca26"
            ],
            [
             1,
             "#f0f921"
            ]
           ],
           "sequentialminus": [
            [
             0,
             "#0d0887"
            ],
            [
             0.1111111111111111,
             "#46039f"
            ],
            [
             0.2222222222222222,
             "#7201a8"
            ],
            [
             0.3333333333333333,
             "#9c179e"
            ],
            [
             0.4444444444444444,
             "#bd3786"
            ],
            [
             0.5555555555555556,
             "#d8576b"
            ],
            [
             0.6666666666666666,
             "#ed7953"
            ],
            [
             0.7777777777777778,
             "#fb9f3a"
            ],
            [
             0.8888888888888888,
             "#fdca26"
            ],
            [
             1,
             "#f0f921"
            ]
           ]
          },
          "colorway": [
           "#636efa",
           "#EF553B",
           "#00cc96",
           "#ab63fa",
           "#FFA15A",
           "#19d3f3",
           "#FF6692",
           "#B6E880",
           "#FF97FF",
           "#FECB52"
          ],
          "font": {
           "color": "#2a3f5f"
          },
          "geo": {
           "bgcolor": "white",
           "lakecolor": "white",
           "landcolor": "#E5ECF6",
           "showlakes": true,
           "showland": true,
           "subunitcolor": "white"
          },
          "hoverlabel": {
           "align": "left"
          },
          "hovermode": "closest",
          "mapbox": {
           "style": "light"
          },
          "paper_bgcolor": "white",
          "plot_bgcolor": "#E5ECF6",
          "polar": {
           "angularaxis": {
            "gridcolor": "white",
            "linecolor": "white",
            "ticks": ""
           },
           "bgcolor": "#E5ECF6",
           "radialaxis": {
            "gridcolor": "white",
            "linecolor": "white",
            "ticks": ""
           }
          },
          "scene": {
           "xaxis": {
            "backgroundcolor": "#E5ECF6",
            "gridcolor": "white",
            "gridwidth": 2,
            "linecolor": "white",
            "showbackground": true,
            "ticks": "",
            "zerolinecolor": "white"
           },
           "yaxis": {
            "backgroundcolor": "#E5ECF6",
            "gridcolor": "white",
            "gridwidth": 2,
            "linecolor": "white",
            "showbackground": true,
            "ticks": "",
            "zerolinecolor": "white"
           },
           "zaxis": {
            "backgroundcolor": "#E5ECF6",
            "gridcolor": "white",
            "gridwidth": 2,
            "linecolor": "white",
            "showbackground": true,
            "ticks": "",
            "zerolinecolor": "white"
           }
          },
          "shapedefaults": {
           "line": {
            "color": "#2a3f5f"
           }
          },
          "ternary": {
           "aaxis": {
            "gridcolor": "white",
            "linecolor": "white",
            "ticks": ""
           },
           "baxis": {
            "gridcolor": "white",
            "linecolor": "white",
            "ticks": ""
           },
           "bgcolor": "#E5ECF6",
           "caxis": {
            "gridcolor": "white",
            "linecolor": "white",
            "ticks": ""
           }
          },
          "title": {
           "x": 0.05
          },
          "xaxis": {
           "automargin": true,
           "gridcolor": "white",
           "linecolor": "white",
           "ticks": "",
           "title": {
            "standoff": 15
           },
           "zerolinecolor": "white",
           "zerolinewidth": 2
          },
          "yaxis": {
           "automargin": true,
           "gridcolor": "white",
           "linecolor": "white",
           "ticks": "",
           "title": {
            "standoff": 15
           },
           "zerolinecolor": "white",
           "zerolinewidth": 2
          }
         }
        },
        "title": {
         "text": "Title:Naive Method vs BAAFFM"
        },
        "xaxis": {
         "anchor": "y",
         "domain": [
          0,
          0.94
         ]
        },
        "yaxis": {
         "anchor": "x",
         "domain": [
          0,
          1
         ],
         "title": {
          "text": "DD in Years"
         }
        },
        "yaxis2": {
         "anchor": "x",
         "overlaying": "y",
         "side": "right",
         "title": {
          "text": "Economic Indicator in %"
         }
        }
       }
      },
      "text/html": [
       "<div>                            <div id=\"bdf6b6d6-3f15-453d-a884-850635f667bb\" class=\"plotly-graph-div\" style=\"height:525px; width:100%;\"></div>            <script type=\"text/javascript\">                require([\"plotly\"], function(Plotly) {                    window.PLOTLYENV=window.PLOTLYENV || {};                                    if (document.getElementById(\"bdf6b6d6-3f15-453d-a884-850635f667bb\")) {                    Plotly.newPlot(                        \"bdf6b6d6-3f15-453d-a884-850635f667bb\",                        [{\"name\":\"dd_naive_0.05_0.25_25%\",\"x\":[1971,1972,1973,1974,1975,1976,1977,1978,1979,1980,1981,1982,1983,1984,1985,1986,1987,1988,1989,1990,1991,1992,1993,1994,1995,1996,1997,1998,1999,2000,2001,2002,2003,2004,2005,2006,2007,2008,2009,2010,2011,2012,2013,2014,2015,2016,2017,2018,2019,2020],\"y\":[0.2658808851709,0.21992462356002712,0.3462249438056522,0.3439087315903683,0.2834308426739627,0.16499927836419948,0.16408858950236588,0.33812223516548856,0.4202563560046226,0.5961323904423945,0.6979431113518275,0.5571966108951474,0.3921473489146018,0.4481102475836194,0.37466936143213936,0.3063019175219852,0.2065266440283464,0.09326516994375891,0.23246588563765508,0.21845221844037033,0.1119927661816183,0.016429303187944264,-0.010910127181976067,0.0038340516176307666,0.11939233821934712,0.10166903566410625,0.1163776715275549,0.12513809644517163,0.057537558144496084,0.11085346759077741,0.07816338323563521,-0.03921704896676456,-0.04785871830683834,-0.0015698289207536635,0.10694186828792579,0.2241996222378426,0.3056144301783405,0.1508744717726987,-0.1247450790349976,-0.12022231682052475,-0.05142530176937826,-0.07044155565054452,-0.04778782485067032,-0.041788641174847735,-0.0524713445135262,-0.05027725836950722,-0.036447828109961944,0.04269301665585253,0.08103176337099574,0.025411218092997078],\"type\":\"scatter\",\"xaxis\":\"x\",\"yaxis\":\"y\"},{\"name\":\"dd_naive_0.05_0.5_25%\",\"x\":[1971,1972,1973,1974,1975,1976,1977,1978,1979,1980,1981,1982,1983,1984,1985,1986,1987,1988,1989,1990,1991,1992,1993,1994,1995,1996,1997,1998,1999,2000,2001,2002,2003,2004,2005,2006,2007,2008,2009,2010,2011,2012,2013,2014,2015,2016,2017,2018,2019,2020],\"y\":[0.07559313154468442,0.06518594472402546,0.1476344664473877,0.10541106583634686,0.06210855721938007,-0.021194049058211296,-0.009279650812877986,0.12307862453799565,0.14091047155407166,0.24875023658574275,0.30841382635367387,0.23278601315315925,0.141762456760182,0.1619847654912749,0.11689987937229632,0.06654794561181483,0.0027610122553171,-0.12427920389443163,-0.014639767571380954,-0.02079763431391884,-0.10560437588148053,-0.1674382877385323,-0.192528506426289,-0.1629243594548902,-0.08588326743563114,-0.09379863156172832,-0.0801505557943025,-0.07134893113891017,-0.1287655605369081,-0.09182377757498195,-0.13120938988190395,-0.18287679663529782,-0.1661042915160157,-0.10046320257006422,-0.018953317794692177,0.05403790270459967,0.11094372116518733,0.006968246475056044,-0.24265477049052242,-0.23591084937428464,-0.11824373222123884,-0.1454946428597355,-0.10842088886339181,-0.09710028584086096,-0.11087472032584869,-0.12931736190992615,-0.13015989029344083,-0.05825941103443087,-0.04304091869318526,-0.0905709309088402],\"type\":\"scatter\",\"xaxis\":\"x\",\"yaxis\":\"y\"},{\"name\":\"dd_naive_0_0.25_25%\",\"x\":[1971,1972,1973,1974,1975,1976,1977,1978,1979,1980,1981,1982,1983,1984,1985,1986,1987,1988,1989,1990,1991,1992,1993,1994,1995,1996,1997,1998,1999,2000,2001,2002,2003,2004,2005,2006,2007,2008,2009,2010,2011,2012,2013,2014,2015,2016,2017,2018,2019,2020],\"y\":[0.4503094822811189,0.4084937672473845,0.619698602908933,0.5448131060184924,0.45194395293700673,0.27891674220779467,0.28193014754189727,0.566823414253621,0.6368849142028877,0.8820673737126195,1.0035134717005019,0.848847939899836,0.6191062604150716,0.6762304529502867,0.564178590125911,0.4705391521727372,0.33129796741037304,0.167106201063362,0.3505132492670727,0.33281788621516506,0.19214602728410424,0.07459693576267244,0.03970901743883182,0.05960657388057346,0.20680735751838653,0.1808161290827933,0.1991282028297578,0.2125795320703194,0.12847250138205124,0.19713389499675205,0.14803366380876448,0.006965917222434512,-0.00449186414366611,0.05794432539711015,0.21203780008124212,0.39044257272690785,0.5258059218702316,0.2827622029935871,-0.0971469590210286,-0.09311274257446231,-0.014845011965189937,-0.03958971558818457,-0.01286242570712983,-0.0030494088142838586,-0.018553184285872847,-0.012290422013249678,0.008671697244356145,0.1288327815528767,0.18027005163772428,0.09109740642570255],\"type\":\"scatter\",\"xaxis\":\"x\",\"yaxis\":\"y\"},{\"name\":\"dd_method_2_25%\",\"x\":[1971,1972,1973,1974,1975,1976,1977,1978,1979,1980,1981,1982,1983,1984,1985,1986,1987,1988,1989,1990,1991,1992,1993,1994,1995,1996,1997,1998,1999,2000,2001,2002,2003,2004,2005,2006,2007,2008,2009,2010,2011,2012,2013,2014,2015,2016,2017,2018,2019,2020],\"y\":[2.168726115762268,2.713318949461148,2.6793654074596702,0.8742625461300193,0.49703944014536827,0.9615897232670866,1.4986077197300367,1.7892029262462694,0.6567958337455209,-0.032693988940132784,0.08545342784842301,0.10189799740924232,1.1889650148553113,1.3159508844267715,1.3686950103320223,1.1411350338456705,1.3010693345375237,0.4556562821079233,0.590469842824318,0.6312748734887126,0.04882816596963445,0.4064478049754249,0.34225342343994797,0.45823090679517814,0.5169543605007536,0.5877170090225651,0.6734331008320804,0.8544643061072856,0.4902424427895759,0.22210725739042256,-0.0683897600691419,0.3842105423830344,0.21838293326465008,0.28051785886181696,1.2699438560524876,1.8334302607254194,2.2229062957483796,1.4906087880203065,-0.003622185344926865,-0.3492034692197241,-0.6354098345054723,-0.09068842785789362,-0.5763528916929364,-0.9867492913957646,-0.23544725202785033,-0.11630233571171142,0.01831401147476902,0.34958986541551623,1.1517435000868292,0.4380322007884833],\"type\":\"scatter\",\"xaxis\":\"x\",\"yaxis\":\"y\"},{\"name\":\"BAAFFM\",\"x\":[1971,1972,1973,1974,1975,1976,1977,1978,1979,1980,1981,1982,1983,1984,1985,1986,1987,1988,1989,1990,1991,1992,1993,1994,1995,1996,1997,1998,1999,2000,2001,2002,2003,2004,2005,2006,2007,2008,2009,2010,2011,2012,2013,2014,2015,2016,2017,2018,2019,2020],\"y\":[3.9025000000000003,3.724166666666667,-0.4866666666666668,-1.0058333333333331,4.785833333333333,4.701666666666667,3.4316666666666666,1.5574999999999999,-0.5041666666666667,0.31249999999999994,-0.3341666666666668,3.855,4.4675,3.965,4.614166666666667,3.5858333333333334,3.918333333333333,3.2616666666666667,0.9608333333333334,2.2558333333333334,4.114166666666667,5.454999999999999,4.9075,4.4208333333333325,2.3641666666666663,2.7558333333333334,2.4025000000000003,1.8675,2.9008333333333334,2.1283333333333334,4.06,6.134999999999999,5.638333333333333,5.0441666666666665,2.8508333333333327,1.515,1.4633333333333336,5.519166666666667,7.135833333333334,5.863333333333333,5.5625,4.795000000000001,4.994166666666667,4.765,4.866666666666667,4.322499999999999,3.438333333333334,2.9683333333333333,2.2175,3.2291666666666665],\"type\":\"scatter\",\"xaxis\":\"x\",\"yaxis\":\"y2\"}],                        {\"template\":{\"data\":{\"bar\":[{\"error_x\":{\"color\":\"#2a3f5f\"},\"error_y\":{\"color\":\"#2a3f5f\"},\"marker\":{\"line\":{\"color\":\"#E5ECF6\",\"width\":0.5},\"pattern\":{\"fillmode\":\"overlay\",\"size\":10,\"solidity\":0.2}},\"type\":\"bar\"}],\"barpolar\":[{\"marker\":{\"line\":{\"color\":\"#E5ECF6\",\"width\":0.5},\"pattern\":{\"fillmode\":\"overlay\",\"size\":10,\"solidity\":0.2}},\"type\":\"barpolar\"}],\"carpet\":[{\"aaxis\":{\"endlinecolor\":\"#2a3f5f\",\"gridcolor\":\"white\",\"linecolor\":\"white\",\"minorgridcolor\":\"white\",\"startlinecolor\":\"#2a3f5f\"},\"baxis\":{\"endlinecolor\":\"#2a3f5f\",\"gridcolor\":\"white\",\"linecolor\":\"white\",\"minorgridcolor\":\"white\",\"startlinecolor\":\"#2a3f5f\"},\"type\":\"carpet\"}],\"choropleth\":[{\"colorbar\":{\"outlinewidth\":0,\"ticks\":\"\"},\"type\":\"choropleth\"}],\"contour\":[{\"colorbar\":{\"outlinewidth\":0,\"ticks\":\"\"},\"colorscale\":[[0.0,\"#0d0887\"],[0.1111111111111111,\"#46039f\"],[0.2222222222222222,\"#7201a8\"],[0.3333333333333333,\"#9c179e\"],[0.4444444444444444,\"#bd3786\"],[0.5555555555555556,\"#d8576b\"],[0.6666666666666666,\"#ed7953\"],[0.7777777777777778,\"#fb9f3a\"],[0.8888888888888888,\"#fdca26\"],[1.0,\"#f0f921\"]],\"type\":\"contour\"}],\"contourcarpet\":[{\"colorbar\":{\"outlinewidth\":0,\"ticks\":\"\"},\"type\":\"contourcarpet\"}],\"heatmap\":[{\"colorbar\":{\"outlinewidth\":0,\"ticks\":\"\"},\"colorscale\":[[0.0,\"#0d0887\"],[0.1111111111111111,\"#46039f\"],[0.2222222222222222,\"#7201a8\"],[0.3333333333333333,\"#9c179e\"],[0.4444444444444444,\"#bd3786\"],[0.5555555555555556,\"#d8576b\"],[0.6666666666666666,\"#ed7953\"],[0.7777777777777778,\"#fb9f3a\"],[0.8888888888888888,\"#fdca26\"],[1.0,\"#f0f921\"]],\"type\":\"heatmap\"}],\"heatmapgl\":[{\"colorbar\":{\"outlinewidth\":0,\"ticks\":\"\"},\"colorscale\":[[0.0,\"#0d0887\"],[0.1111111111111111,\"#46039f\"],[0.2222222222222222,\"#7201a8\"],[0.3333333333333333,\"#9c179e\"],[0.4444444444444444,\"#bd3786\"],[0.5555555555555556,\"#d8576b\"],[0.6666666666666666,\"#ed7953\"],[0.7777777777777778,\"#fb9f3a\"],[0.8888888888888888,\"#fdca26\"],[1.0,\"#f0f921\"]],\"type\":\"heatmapgl\"}],\"histogram\":[{\"marker\":{\"pattern\":{\"fillmode\":\"overlay\",\"size\":10,\"solidity\":0.2}},\"type\":\"histogram\"}],\"histogram2d\":[{\"colorbar\":{\"outlinewidth\":0,\"ticks\":\"\"},\"colorscale\":[[0.0,\"#0d0887\"],[0.1111111111111111,\"#46039f\"],[0.2222222222222222,\"#7201a8\"],[0.3333333333333333,\"#9c179e\"],[0.4444444444444444,\"#bd3786\"],[0.5555555555555556,\"#d8576b\"],[0.6666666666666666,\"#ed7953\"],[0.7777777777777778,\"#fb9f3a\"],[0.8888888888888888,\"#fdca26\"],[1.0,\"#f0f921\"]],\"type\":\"histogram2d\"}],\"histogram2dcontour\":[{\"colorbar\":{\"outlinewidth\":0,\"ticks\":\"\"},\"colorscale\":[[0.0,\"#0d0887\"],[0.1111111111111111,\"#46039f\"],[0.2222222222222222,\"#7201a8\"],[0.3333333333333333,\"#9c179e\"],[0.4444444444444444,\"#bd3786\"],[0.5555555555555556,\"#d8576b\"],[0.6666666666666666,\"#ed7953\"],[0.7777777777777778,\"#fb9f3a\"],[0.8888888888888888,\"#fdca26\"],[1.0,\"#f0f921\"]],\"type\":\"histogram2dcontour\"}],\"mesh3d\":[{\"colorbar\":{\"outlinewidth\":0,\"ticks\":\"\"},\"type\":\"mesh3d\"}],\"parcoords\":[{\"line\":{\"colorbar\":{\"outlinewidth\":0,\"ticks\":\"\"}},\"type\":\"parcoords\"}],\"pie\":[{\"automargin\":true,\"type\":\"pie\"}],\"scatter\":[{\"marker\":{\"colorbar\":{\"outlinewidth\":0,\"ticks\":\"\"}},\"type\":\"scatter\"}],\"scatter3d\":[{\"line\":{\"colorbar\":{\"outlinewidth\":0,\"ticks\":\"\"}},\"marker\":{\"colorbar\":{\"outlinewidth\":0,\"ticks\":\"\"}},\"type\":\"scatter3d\"}],\"scattercarpet\":[{\"marker\":{\"colorbar\":{\"outlinewidth\":0,\"ticks\":\"\"}},\"type\":\"scattercarpet\"}],\"scattergeo\":[{\"marker\":{\"colorbar\":{\"outlinewidth\":0,\"ticks\":\"\"}},\"type\":\"scattergeo\"}],\"scattergl\":[{\"marker\":{\"colorbar\":{\"outlinewidth\":0,\"ticks\":\"\"}},\"type\":\"scattergl\"}],\"scattermapbox\":[{\"marker\":{\"colorbar\":{\"outlinewidth\":0,\"ticks\":\"\"}},\"type\":\"scattermapbox\"}],\"scatterpolar\":[{\"marker\":{\"colorbar\":{\"outlinewidth\":0,\"ticks\":\"\"}},\"type\":\"scatterpolar\"}],\"scatterpolargl\":[{\"marker\":{\"colorbar\":{\"outlinewidth\":0,\"ticks\":\"\"}},\"type\":\"scatterpolargl\"}],\"scatterternary\":[{\"marker\":{\"colorbar\":{\"outlinewidth\":0,\"ticks\":\"\"}},\"type\":\"scatterternary\"}],\"surface\":[{\"colorbar\":{\"outlinewidth\":0,\"ticks\":\"\"},\"colorscale\":[[0.0,\"#0d0887\"],[0.1111111111111111,\"#46039f\"],[0.2222222222222222,\"#7201a8\"],[0.3333333333333333,\"#9c179e\"],[0.4444444444444444,\"#bd3786\"],[0.5555555555555556,\"#d8576b\"],[0.6666666666666666,\"#ed7953\"],[0.7777777777777778,\"#fb9f3a\"],[0.8888888888888888,\"#fdca26\"],[1.0,\"#f0f921\"]],\"type\":\"surface\"}],\"table\":[{\"cells\":{\"fill\":{\"color\":\"#EBF0F8\"},\"line\":{\"color\":\"white\"}},\"header\":{\"fill\":{\"color\":\"#C8D4E3\"},\"line\":{\"color\":\"white\"}},\"type\":\"table\"}]},\"layout\":{\"annotationdefaults\":{\"arrowcolor\":\"#2a3f5f\",\"arrowhead\":0,\"arrowwidth\":1},\"autotypenumbers\":\"strict\",\"coloraxis\":{\"colorbar\":{\"outlinewidth\":0,\"ticks\":\"\"}},\"colorscale\":{\"diverging\":[[0,\"#8e0152\"],[0.1,\"#c51b7d\"],[0.2,\"#de77ae\"],[0.3,\"#f1b6da\"],[0.4,\"#fde0ef\"],[0.5,\"#f7f7f7\"],[0.6,\"#e6f5d0\"],[0.7,\"#b8e186\"],[0.8,\"#7fbc41\"],[0.9,\"#4d9221\"],[1,\"#276419\"]],\"sequential\":[[0.0,\"#0d0887\"],[0.1111111111111111,\"#46039f\"],[0.2222222222222222,\"#7201a8\"],[0.3333333333333333,\"#9c179e\"],[0.4444444444444444,\"#bd3786\"],[0.5555555555555556,\"#d8576b\"],[0.6666666666666666,\"#ed7953\"],[0.7777777777777778,\"#fb9f3a\"],[0.8888888888888888,\"#fdca26\"],[1.0,\"#f0f921\"]],\"sequentialminus\":[[0.0,\"#0d0887\"],[0.1111111111111111,\"#46039f\"],[0.2222222222222222,\"#7201a8\"],[0.3333333333333333,\"#9c179e\"],[0.4444444444444444,\"#bd3786\"],[0.5555555555555556,\"#d8576b\"],[0.6666666666666666,\"#ed7953\"],[0.7777777777777778,\"#fb9f3a\"],[0.8888888888888888,\"#fdca26\"],[1.0,\"#f0f921\"]]},\"colorway\":[\"#636efa\",\"#EF553B\",\"#00cc96\",\"#ab63fa\",\"#FFA15A\",\"#19d3f3\",\"#FF6692\",\"#B6E880\",\"#FF97FF\",\"#FECB52\"],\"font\":{\"color\":\"#2a3f5f\"},\"geo\":{\"bgcolor\":\"white\",\"lakecolor\":\"white\",\"landcolor\":\"#E5ECF6\",\"showlakes\":true,\"showland\":true,\"subunitcolor\":\"white\"},\"hoverlabel\":{\"align\":\"left\"},\"hovermode\":\"closest\",\"mapbox\":{\"style\":\"light\"},\"paper_bgcolor\":\"white\",\"plot_bgcolor\":\"#E5ECF6\",\"polar\":{\"angularaxis\":{\"gridcolor\":\"white\",\"linecolor\":\"white\",\"ticks\":\"\"},\"bgcolor\":\"#E5ECF6\",\"radialaxis\":{\"gridcolor\":\"white\",\"linecolor\":\"white\",\"ticks\":\"\"}},\"scene\":{\"xaxis\":{\"backgroundcolor\":\"#E5ECF6\",\"gridcolor\":\"white\",\"gridwidth\":2,\"linecolor\":\"white\",\"showbackground\":true,\"ticks\":\"\",\"zerolinecolor\":\"white\"},\"yaxis\":{\"backgroundcolor\":\"#E5ECF6\",\"gridcolor\":\"white\",\"gridwidth\":2,\"linecolor\":\"white\",\"showbackground\":true,\"ticks\":\"\",\"zerolinecolor\":\"white\"},\"zaxis\":{\"backgroundcolor\":\"#E5ECF6\",\"gridcolor\":\"white\",\"gridwidth\":2,\"linecolor\":\"white\",\"showbackground\":true,\"ticks\":\"\",\"zerolinecolor\":\"white\"}},\"shapedefaults\":{\"line\":{\"color\":\"#2a3f5f\"}},\"ternary\":{\"aaxis\":{\"gridcolor\":\"white\",\"linecolor\":\"white\",\"ticks\":\"\"},\"baxis\":{\"gridcolor\":\"white\",\"linecolor\":\"white\",\"ticks\":\"\"},\"bgcolor\":\"#E5ECF6\",\"caxis\":{\"gridcolor\":\"white\",\"linecolor\":\"white\",\"ticks\":\"\"}},\"title\":{\"x\":0.05},\"xaxis\":{\"automargin\":true,\"gridcolor\":\"white\",\"linecolor\":\"white\",\"ticks\":\"\",\"title\":{\"standoff\":15},\"zerolinecolor\":\"white\",\"zerolinewidth\":2},\"yaxis\":{\"automargin\":true,\"gridcolor\":\"white\",\"linecolor\":\"white\",\"ticks\":\"\",\"title\":{\"standoff\":15},\"zerolinecolor\":\"white\",\"zerolinewidth\":2}}},\"xaxis\":{\"anchor\":\"y\",\"domain\":[0.0,0.94]},\"yaxis\":{\"anchor\":\"x\",\"domain\":[0.0,1.0],\"title\":{\"text\":\"DD in Years\"}},\"yaxis2\":{\"anchor\":\"x\",\"overlaying\":\"y\",\"side\":\"right\",\"title\":{\"text\":\"Economic Indicator in %\"}},\"title\":{\"text\":\"Title:Naive Method vs BAAFFM\"},\"barmode\":\"relative\",\"showlegend\":true},                        {\"responsive\": true}                    ).then(function(){\n",
       "                            \n",
       "var gd = document.getElementById('bdf6b6d6-3f15-453d-a884-850635f667bb');\n",
       "var x = new MutationObserver(function (mutations, observer) {{\n",
       "        var display = window.getComputedStyle(gd).display;\n",
       "        if (!display || display === 'none') {{\n",
       "            console.log([gd, 'removed!']);\n",
       "            Plotly.purge(gd);\n",
       "            observer.disconnect();\n",
       "        }}\n",
       "}});\n",
       "\n",
       "// Listen for the removal of the full notebook cells\n",
       "var notebookContainer = gd.closest('#notebook-container');\n",
       "if (notebookContainer) {{\n",
       "    x.observe(notebookContainer, {childList: true});\n",
       "}}\n",
       "\n",
       "// Listen for the clearing of the current output cell\n",
       "var outputEl = gd.closest('.output');\n",
       "if (outputEl) {{\n",
       "    x.observe(outputEl, {childList: true});\n",
       "}}\n",
       "\n",
       "                        })                };                });            </script>        </div>"
      ]
     },
     "metadata": {},
     "output_type": "display_data"
    }
   ],
   "source": [
    "p25_all_columns = [\"fyear\",\"dd_naive_0.05_0.25_25%\", \"dd_naive_0.05_0.5_25%\", \"dd_naive_0_0.25_25%\",\"dd_method_2_25%\"]\n",
    "p25_all_methods = descriptive_stats_across_time[p25_all_columns]\n",
    "plot_chart(p25_all_methods,\"Naive Method vs BAAFFM\",\"DD in Years\", \"fyear\")\n",
    "\n",
    "p25_plot = pd.merge(p25_all_methods,fred_baaffm,on=\"fyear\",how=\"inner\")\n",
    "plot_chart_with_macro(p25_plot,\"Naive Method vs BAAFFM\",\"DD in Years\", \"fyear\")"
   ]
  },
  {
   "cell_type": "markdown",
   "metadata": {},
   "source": [
    "### p50 of all methods "
   ]
  },
  {
   "cell_type": "code",
   "execution_count": 221,
   "metadata": {},
   "outputs": [
    {
     "data": {
      "application/vnd.plotly.v1+json": {
       "config": {
        "plotlyServerURL": "https://plot.ly"
       },
       "data": [
        {
         "name": "dd_naive_0.05_0.25_50%",
         "type": "scatter",
         "x": [
          1971,
          1972,
          1973,
          1974,
          1975,
          1976,
          1977,
          1978,
          1979,
          1980,
          1981,
          1982,
          1983,
          1984,
          1985,
          1986,
          1987,
          1988,
          1989,
          1990,
          1991,
          1992,
          1993,
          1994,
          1995,
          1996,
          1997,
          1998,
          1999,
          2000,
          2001,
          2002,
          2003,
          2004,
          2005,
          2006,
          2007,
          2008,
          2009,
          2010,
          2011,
          2012,
          2013,
          2014,
          2015,
          2016,
          2017,
          2018,
          2019,
          2020
         ],
         "xaxis": "x",
         "y": [
          0.34961993205586495,
          0.2913790352098916,
          0.4364408263749228,
          0.47622522971615033,
          0.36952227582508446,
          0.2994661677562548,
          0.3158594969701294,
          0.5064587504250277,
          0.6709902552143107,
          0.8983132656927721,
          0.934752423499647,
          0.8036775224577539,
          0.5553052557691538,
          0.6439397427214824,
          0.5632925431813733,
          0.5004418086420326,
          0.3382383254504751,
          0.18298546290340623,
          0.37572670997481006,
          0.3659500128742453,
          0.23522987081073607,
          0.11197067480565134,
          0.06908022463959425,
          0.09715496882796279,
          0.2407894816857137,
          0.24534339061802196,
          0.2474631711145144,
          0.24892285392011015,
          0.16802878301116525,
          0.22215070561487826,
          0.19308542749338709,
          0.03451048138603936,
          0.015898967577520802,
          0.03517673381059662,
          0.1610019730220793,
          0.3172022581163484,
          0.40540962332230446,
          0.20235739217822424,
          -0.09218333665078815,
          -0.074409351944398,
          -0.013734777256378693,
          -0.044967627935942674,
          -0.0197126600344075,
          -0.00978315427935646,
          -0.025199672550510813,
          -0.01903036021143518,
          0.004963868699051563,
          0.09721939967237153,
          0.15916201971731775,
          0.0991416099795179
         ],
         "yaxis": "y"
        },
        {
         "name": "dd_naive_0.05_0.5_50%",
         "type": "scatter",
         "x": [
          1971,
          1972,
          1973,
          1974,
          1975,
          1976,
          1977,
          1978,
          1979,
          1980,
          1981,
          1982,
          1983,
          1984,
          1985,
          1986,
          1987,
          1988,
          1989,
          1990,
          1991,
          1992,
          1993,
          1994,
          1995,
          1996,
          1997,
          1998,
          1999,
          2000,
          2001,
          2002,
          2003,
          2004,
          2005,
          2006,
          2007,
          2008,
          2009,
          2010,
          2011,
          2012,
          2013,
          2014,
          2015,
          2016,
          2017,
          2018,
          2019,
          2020
         ],
         "xaxis": "x",
         "y": [
          0.15551055130045233,
          0.13560757550254549,
          0.2329509126945887,
          0.22188367038707407,
          0.13147317281626414,
          0.10430983303130618,
          0.1360650086424282,
          0.27831495368862763,
          0.3570211476928567,
          0.5007030428686089,
          0.4990041193305602,
          0.43875297183587214,
          0.2773939139225825,
          0.337872995073639,
          0.28669370225277035,
          0.24415596702492207,
          0.11802518796222844,
          -0.03006051347936488,
          0.11642690359469973,
          0.11064469695601084,
          0.009491402223910844,
          -0.059699190113681765,
          -0.08678486951516465,
          -0.05932987416913429,
          0.039652398920240334,
          0.04740928967620951,
          0.05031966100610612,
          0.055970001199574265,
          -0.008860145003941203,
          0.02213654106967569,
          -0.013339543529072764,
          -0.08293416213932675,
          -0.0803952019550312,
          -0.044990248888164455,
          0.05059598281652182,
          0.1423858267615302,
          0.19834000924635148,
          0.05596862112199366,
          -0.1820734667243073,
          -0.15774386105904958,
          -0.07035001790878209,
          -0.10551838694444102,
          -0.06686023790548055,
          -0.05925891575215557,
          -0.0707843973636802,
          -0.07302880129726878,
          -0.06326585064979823,
          0.010447631046438565,
          0.03241580073451549,
          0.003920863716927979
         ],
         "yaxis": "y"
        },
        {
         "name": "dd_naive_0_0.25_50%",
         "type": "scatter",
         "x": [
          1971,
          1972,
          1973,
          1974,
          1975,
          1976,
          1977,
          1978,
          1979,
          1980,
          1981,
          1982,
          1983,
          1984,
          1985,
          1986,
          1987,
          1988,
          1989,
          1990,
          1991,
          1992,
          1993,
          1994,
          1995,
          1996,
          1997,
          1998,
          1999,
          2000,
          2001,
          2002,
          2003,
          2004,
          2005,
          2006,
          2007,
          2008,
          2009,
          2010,
          2011,
          2012,
          2013,
          2014,
          2015,
          2016,
          2017,
          2018,
          2019,
          2020
         ],
         "xaxis": "x",
         "y": [
          0.6345030914232476,
          0.5878981369317964,
          0.8559237203162289,
          0.8137800758433232,
          0.5926386014988188,
          0.5148889125332159,
          0.5834589686439036,
          0.9734429184938016,
          1.1645364674283862,
          1.5182422326475418,
          1.4640258153113972,
          1.3622108439532368,
          0.9132269688347163,
          1.1058216825272273,
          0.9697394166121933,
          0.8502535381733787,
          0.545208420580424,
          0.2890600376693277,
          0.572917275769601,
          0.5528227692111223,
          0.3614694057997538,
          0.20569299148166736,
          0.14767093675871423,
          0.1864625099614412,
          0.3914785611914078,
          0.3960706396840241,
          0.40261258545174805,
          0.41303997043857577,
          0.28587354245613245,
          0.3583556529019865,
          0.309619187839429,
          0.10635523891728912,
          0.08647442998352615,
          0.12592129866224974,
          0.3555518265267129,
          0.5995891811792019,
          0.7443734778187192,
          0.3839787277592922,
          -0.06306224218099674,
          -0.04180088569219721,
          0.047560491728374246,
          -0.0051531644679111135,
          0.03417932284325222,
          0.05191888206702933,
          0.02425100910271555,
          0.03408609048908393,
          0.07502299399442505,
          0.24394724002458956,
          0.318938058448541,
          0.23298912350833467
         ],
         "yaxis": "y"
        },
        {
         "name": "dd_method_2_50%",
         "type": "scatter",
         "x": [
          1971,
          1972,
          1973,
          1974,
          1975,
          1976,
          1977,
          1978,
          1979,
          1980,
          1981,
          1982,
          1983,
          1984,
          1985,
          1986,
          1987,
          1988,
          1989,
          1990,
          1991,
          1992,
          1993,
          1994,
          1995,
          1996,
          1997,
          1998,
          1999,
          2000,
          2001,
          2002,
          2003,
          2004,
          2005,
          2006,
          2007,
          2008,
          2009,
          2010,
          2011,
          2012,
          2013,
          2014,
          2015,
          2016,
          2017,
          2018,
          2019,
          2020
         ],
         "xaxis": "x",
         "y": [
          3.000467349030856,
          3.587799187043143,
          3.776690700633237,
          2.133179758731436,
          1.8409809962563806,
          2.1826330997394465,
          3.085456050448297,
          3.394077710128121,
          2.068428333986785,
          1.7143842746008942,
          0.7441350809565315,
          1.9809421707101382,
          2.49794751801641,
          2.4728059461419987,
          2.542626843177627,
          2.222697953922589,
          2.0229890003779216,
          1.1047268038163776,
          1.3916892378299137,
          1.5293817836707906,
          1.1336554008674233,
          1.205149495548985,
          1.0786944582192546,
          1.3691112001165975,
          1.4567012827201828,
          1.5854068107178905,
          1.6384942545162557,
          1.7109840785262693,
          1.3803815889508106,
          1.2662539567842244,
          0.901691323390245,
          1.300282455874487,
          1.2804161763595063,
          1.3275780200054565,
          2.509767674930117,
          2.8137600983263726,
          3.036721653987684,
          2.4553419661094704,
          0.5738176806279156,
          0.4414890240504139,
          0.9222579170979224,
          0.6235641060839132,
          0.8684503999593304,
          0.7823483749073311,
          0.9593136725664378,
          0.7034752262126885,
          0.9724916142605083,
          1.8938045796245608,
          2.4146298628034923,
          1.8349127976896389
         ],
         "yaxis": "y"
        }
       ],
       "layout": {
        "barmode": "relative",
        "showlegend": true,
        "template": {
         "data": {
          "bar": [
           {
            "error_x": {
             "color": "#2a3f5f"
            },
            "error_y": {
             "color": "#2a3f5f"
            },
            "marker": {
             "line": {
              "color": "#E5ECF6",
              "width": 0.5
             },
             "pattern": {
              "fillmode": "overlay",
              "size": 10,
              "solidity": 0.2
             }
            },
            "type": "bar"
           }
          ],
          "barpolar": [
           {
            "marker": {
             "line": {
              "color": "#E5ECF6",
              "width": 0.5
             },
             "pattern": {
              "fillmode": "overlay",
              "size": 10,
              "solidity": 0.2
             }
            },
            "type": "barpolar"
           }
          ],
          "carpet": [
           {
            "aaxis": {
             "endlinecolor": "#2a3f5f",
             "gridcolor": "white",
             "linecolor": "white",
             "minorgridcolor": "white",
             "startlinecolor": "#2a3f5f"
            },
            "baxis": {
             "endlinecolor": "#2a3f5f",
             "gridcolor": "white",
             "linecolor": "white",
             "minorgridcolor": "white",
             "startlinecolor": "#2a3f5f"
            },
            "type": "carpet"
           }
          ],
          "choropleth": [
           {
            "colorbar": {
             "outlinewidth": 0,
             "ticks": ""
            },
            "type": "choropleth"
           }
          ],
          "contour": [
           {
            "colorbar": {
             "outlinewidth": 0,
             "ticks": ""
            },
            "colorscale": [
             [
              0,
              "#0d0887"
             ],
             [
              0.1111111111111111,
              "#46039f"
             ],
             [
              0.2222222222222222,
              "#7201a8"
             ],
             [
              0.3333333333333333,
              "#9c179e"
             ],
             [
              0.4444444444444444,
              "#bd3786"
             ],
             [
              0.5555555555555556,
              "#d8576b"
             ],
             [
              0.6666666666666666,
              "#ed7953"
             ],
             [
              0.7777777777777778,
              "#fb9f3a"
             ],
             [
              0.8888888888888888,
              "#fdca26"
             ],
             [
              1,
              "#f0f921"
             ]
            ],
            "type": "contour"
           }
          ],
          "contourcarpet": [
           {
            "colorbar": {
             "outlinewidth": 0,
             "ticks": ""
            },
            "type": "contourcarpet"
           }
          ],
          "heatmap": [
           {
            "colorbar": {
             "outlinewidth": 0,
             "ticks": ""
            },
            "colorscale": [
             [
              0,
              "#0d0887"
             ],
             [
              0.1111111111111111,
              "#46039f"
             ],
             [
              0.2222222222222222,
              "#7201a8"
             ],
             [
              0.3333333333333333,
              "#9c179e"
             ],
             [
              0.4444444444444444,
              "#bd3786"
             ],
             [
              0.5555555555555556,
              "#d8576b"
             ],
             [
              0.6666666666666666,
              "#ed7953"
             ],
             [
              0.7777777777777778,
              "#fb9f3a"
             ],
             [
              0.8888888888888888,
              "#fdca26"
             ],
             [
              1,
              "#f0f921"
             ]
            ],
            "type": "heatmap"
           }
          ],
          "heatmapgl": [
           {
            "colorbar": {
             "outlinewidth": 0,
             "ticks": ""
            },
            "colorscale": [
             [
              0,
              "#0d0887"
             ],
             [
              0.1111111111111111,
              "#46039f"
             ],
             [
              0.2222222222222222,
              "#7201a8"
             ],
             [
              0.3333333333333333,
              "#9c179e"
             ],
             [
              0.4444444444444444,
              "#bd3786"
             ],
             [
              0.5555555555555556,
              "#d8576b"
             ],
             [
              0.6666666666666666,
              "#ed7953"
             ],
             [
              0.7777777777777778,
              "#fb9f3a"
             ],
             [
              0.8888888888888888,
              "#fdca26"
             ],
             [
              1,
              "#f0f921"
             ]
            ],
            "type": "heatmapgl"
           }
          ],
          "histogram": [
           {
            "marker": {
             "pattern": {
              "fillmode": "overlay",
              "size": 10,
              "solidity": 0.2
             }
            },
            "type": "histogram"
           }
          ],
          "histogram2d": [
           {
            "colorbar": {
             "outlinewidth": 0,
             "ticks": ""
            },
            "colorscale": [
             [
              0,
              "#0d0887"
             ],
             [
              0.1111111111111111,
              "#46039f"
             ],
             [
              0.2222222222222222,
              "#7201a8"
             ],
             [
              0.3333333333333333,
              "#9c179e"
             ],
             [
              0.4444444444444444,
              "#bd3786"
             ],
             [
              0.5555555555555556,
              "#d8576b"
             ],
             [
              0.6666666666666666,
              "#ed7953"
             ],
             [
              0.7777777777777778,
              "#fb9f3a"
             ],
             [
              0.8888888888888888,
              "#fdca26"
             ],
             [
              1,
              "#f0f921"
             ]
            ],
            "type": "histogram2d"
           }
          ],
          "histogram2dcontour": [
           {
            "colorbar": {
             "outlinewidth": 0,
             "ticks": ""
            },
            "colorscale": [
             [
              0,
              "#0d0887"
             ],
             [
              0.1111111111111111,
              "#46039f"
             ],
             [
              0.2222222222222222,
              "#7201a8"
             ],
             [
              0.3333333333333333,
              "#9c179e"
             ],
             [
              0.4444444444444444,
              "#bd3786"
             ],
             [
              0.5555555555555556,
              "#d8576b"
             ],
             [
              0.6666666666666666,
              "#ed7953"
             ],
             [
              0.7777777777777778,
              "#fb9f3a"
             ],
             [
              0.8888888888888888,
              "#fdca26"
             ],
             [
              1,
              "#f0f921"
             ]
            ],
            "type": "histogram2dcontour"
           }
          ],
          "mesh3d": [
           {
            "colorbar": {
             "outlinewidth": 0,
             "ticks": ""
            },
            "type": "mesh3d"
           }
          ],
          "parcoords": [
           {
            "line": {
             "colorbar": {
              "outlinewidth": 0,
              "ticks": ""
             }
            },
            "type": "parcoords"
           }
          ],
          "pie": [
           {
            "automargin": true,
            "type": "pie"
           }
          ],
          "scatter": [
           {
            "marker": {
             "colorbar": {
              "outlinewidth": 0,
              "ticks": ""
             }
            },
            "type": "scatter"
           }
          ],
          "scatter3d": [
           {
            "line": {
             "colorbar": {
              "outlinewidth": 0,
              "ticks": ""
             }
            },
            "marker": {
             "colorbar": {
              "outlinewidth": 0,
              "ticks": ""
             }
            },
            "type": "scatter3d"
           }
          ],
          "scattercarpet": [
           {
            "marker": {
             "colorbar": {
              "outlinewidth": 0,
              "ticks": ""
             }
            },
            "type": "scattercarpet"
           }
          ],
          "scattergeo": [
           {
            "marker": {
             "colorbar": {
              "outlinewidth": 0,
              "ticks": ""
             }
            },
            "type": "scattergeo"
           }
          ],
          "scattergl": [
           {
            "marker": {
             "colorbar": {
              "outlinewidth": 0,
              "ticks": ""
             }
            },
            "type": "scattergl"
           }
          ],
          "scattermapbox": [
           {
            "marker": {
             "colorbar": {
              "outlinewidth": 0,
              "ticks": ""
             }
            },
            "type": "scattermapbox"
           }
          ],
          "scatterpolar": [
           {
            "marker": {
             "colorbar": {
              "outlinewidth": 0,
              "ticks": ""
             }
            },
            "type": "scatterpolar"
           }
          ],
          "scatterpolargl": [
           {
            "marker": {
             "colorbar": {
              "outlinewidth": 0,
              "ticks": ""
             }
            },
            "type": "scatterpolargl"
           }
          ],
          "scatterternary": [
           {
            "marker": {
             "colorbar": {
              "outlinewidth": 0,
              "ticks": ""
             }
            },
            "type": "scatterternary"
           }
          ],
          "surface": [
           {
            "colorbar": {
             "outlinewidth": 0,
             "ticks": ""
            },
            "colorscale": [
             [
              0,
              "#0d0887"
             ],
             [
              0.1111111111111111,
              "#46039f"
             ],
             [
              0.2222222222222222,
              "#7201a8"
             ],
             [
              0.3333333333333333,
              "#9c179e"
             ],
             [
              0.4444444444444444,
              "#bd3786"
             ],
             [
              0.5555555555555556,
              "#d8576b"
             ],
             [
              0.6666666666666666,
              "#ed7953"
             ],
             [
              0.7777777777777778,
              "#fb9f3a"
             ],
             [
              0.8888888888888888,
              "#fdca26"
             ],
             [
              1,
              "#f0f921"
             ]
            ],
            "type": "surface"
           }
          ],
          "table": [
           {
            "cells": {
             "fill": {
              "color": "#EBF0F8"
             },
             "line": {
              "color": "white"
             }
            },
            "header": {
             "fill": {
              "color": "#C8D4E3"
             },
             "line": {
              "color": "white"
             }
            },
            "type": "table"
           }
          ]
         },
         "layout": {
          "annotationdefaults": {
           "arrowcolor": "#2a3f5f",
           "arrowhead": 0,
           "arrowwidth": 1
          },
          "autotypenumbers": "strict",
          "coloraxis": {
           "colorbar": {
            "outlinewidth": 0,
            "ticks": ""
           }
          },
          "colorscale": {
           "diverging": [
            [
             0,
             "#8e0152"
            ],
            [
             0.1,
             "#c51b7d"
            ],
            [
             0.2,
             "#de77ae"
            ],
            [
             0.3,
             "#f1b6da"
            ],
            [
             0.4,
             "#fde0ef"
            ],
            [
             0.5,
             "#f7f7f7"
            ],
            [
             0.6,
             "#e6f5d0"
            ],
            [
             0.7,
             "#b8e186"
            ],
            [
             0.8,
             "#7fbc41"
            ],
            [
             0.9,
             "#4d9221"
            ],
            [
             1,
             "#276419"
            ]
           ],
           "sequential": [
            [
             0,
             "#0d0887"
            ],
            [
             0.1111111111111111,
             "#46039f"
            ],
            [
             0.2222222222222222,
             "#7201a8"
            ],
            [
             0.3333333333333333,
             "#9c179e"
            ],
            [
             0.4444444444444444,
             "#bd3786"
            ],
            [
             0.5555555555555556,
             "#d8576b"
            ],
            [
             0.6666666666666666,
             "#ed7953"
            ],
            [
             0.7777777777777778,
             "#fb9f3a"
            ],
            [
             0.8888888888888888,
             "#fdca26"
            ],
            [
             1,
             "#f0f921"
            ]
           ],
           "sequentialminus": [
            [
             0,
             "#0d0887"
            ],
            [
             0.1111111111111111,
             "#46039f"
            ],
            [
             0.2222222222222222,
             "#7201a8"
            ],
            [
             0.3333333333333333,
             "#9c179e"
            ],
            [
             0.4444444444444444,
             "#bd3786"
            ],
            [
             0.5555555555555556,
             "#d8576b"
            ],
            [
             0.6666666666666666,
             "#ed7953"
            ],
            [
             0.7777777777777778,
             "#fb9f3a"
            ],
            [
             0.8888888888888888,
             "#fdca26"
            ],
            [
             1,
             "#f0f921"
            ]
           ]
          },
          "colorway": [
           "#636efa",
           "#EF553B",
           "#00cc96",
           "#ab63fa",
           "#FFA15A",
           "#19d3f3",
           "#FF6692",
           "#B6E880",
           "#FF97FF",
           "#FECB52"
          ],
          "font": {
           "color": "#2a3f5f"
          },
          "geo": {
           "bgcolor": "white",
           "lakecolor": "white",
           "landcolor": "#E5ECF6",
           "showlakes": true,
           "showland": true,
           "subunitcolor": "white"
          },
          "hoverlabel": {
           "align": "left"
          },
          "hovermode": "closest",
          "mapbox": {
           "style": "light"
          },
          "paper_bgcolor": "white",
          "plot_bgcolor": "#E5ECF6",
          "polar": {
           "angularaxis": {
            "gridcolor": "white",
            "linecolor": "white",
            "ticks": ""
           },
           "bgcolor": "#E5ECF6",
           "radialaxis": {
            "gridcolor": "white",
            "linecolor": "white",
            "ticks": ""
           }
          },
          "scene": {
           "xaxis": {
            "backgroundcolor": "#E5ECF6",
            "gridcolor": "white",
            "gridwidth": 2,
            "linecolor": "white",
            "showbackground": true,
            "ticks": "",
            "zerolinecolor": "white"
           },
           "yaxis": {
            "backgroundcolor": "#E5ECF6",
            "gridcolor": "white",
            "gridwidth": 2,
            "linecolor": "white",
            "showbackground": true,
            "ticks": "",
            "zerolinecolor": "white"
           },
           "zaxis": {
            "backgroundcolor": "#E5ECF6",
            "gridcolor": "white",
            "gridwidth": 2,
            "linecolor": "white",
            "showbackground": true,
            "ticks": "",
            "zerolinecolor": "white"
           }
          },
          "shapedefaults": {
           "line": {
            "color": "#2a3f5f"
           }
          },
          "ternary": {
           "aaxis": {
            "gridcolor": "white",
            "linecolor": "white",
            "ticks": ""
           },
           "baxis": {
            "gridcolor": "white",
            "linecolor": "white",
            "ticks": ""
           },
           "bgcolor": "#E5ECF6",
           "caxis": {
            "gridcolor": "white",
            "linecolor": "white",
            "ticks": ""
           }
          },
          "title": {
           "x": 0.05
          },
          "xaxis": {
           "automargin": true,
           "gridcolor": "white",
           "linecolor": "white",
           "ticks": "",
           "title": {
            "standoff": 15
           },
           "zerolinecolor": "white",
           "zerolinewidth": 2
          },
          "yaxis": {
           "automargin": true,
           "gridcolor": "white",
           "linecolor": "white",
           "ticks": "",
           "title": {
            "standoff": 15
           },
           "zerolinecolor": "white",
           "zerolinewidth": 2
          }
         }
        },
        "title": {
         "text": "Title:Naive Method vs BAAFFM"
        },
        "xaxis": {
         "anchor": "y",
         "domain": [
          0,
          0.94
         ]
        },
        "yaxis": {
         "anchor": "x",
         "domain": [
          0,
          1
         ],
         "title": {
          "text": "DD in Years"
         }
        },
        "yaxis2": {
         "anchor": "x",
         "overlaying": "y",
         "side": "right"
        }
       }
      },
      "text/html": [
       "<div>                            <div id=\"fa6c3ec8-3433-4d92-8e7e-164fb347bf3f\" class=\"plotly-graph-div\" style=\"height:525px; width:100%;\"></div>            <script type=\"text/javascript\">                require([\"plotly\"], function(Plotly) {                    window.PLOTLYENV=window.PLOTLYENV || {};                                    if (document.getElementById(\"fa6c3ec8-3433-4d92-8e7e-164fb347bf3f\")) {                    Plotly.newPlot(                        \"fa6c3ec8-3433-4d92-8e7e-164fb347bf3f\",                        [{\"name\":\"dd_naive_0.05_0.25_50%\",\"x\":[1971,1972,1973,1974,1975,1976,1977,1978,1979,1980,1981,1982,1983,1984,1985,1986,1987,1988,1989,1990,1991,1992,1993,1994,1995,1996,1997,1998,1999,2000,2001,2002,2003,2004,2005,2006,2007,2008,2009,2010,2011,2012,2013,2014,2015,2016,2017,2018,2019,2020],\"y\":[0.34961993205586495,0.2913790352098916,0.4364408263749228,0.47622522971615033,0.36952227582508446,0.2994661677562548,0.3158594969701294,0.5064587504250277,0.6709902552143107,0.8983132656927721,0.934752423499647,0.8036775224577539,0.5553052557691538,0.6439397427214824,0.5632925431813733,0.5004418086420326,0.3382383254504751,0.18298546290340623,0.37572670997481006,0.3659500128742453,0.23522987081073607,0.11197067480565134,0.06908022463959425,0.09715496882796279,0.2407894816857137,0.24534339061802196,0.2474631711145144,0.24892285392011015,0.16802878301116525,0.22215070561487826,0.19308542749338709,0.03451048138603936,0.015898967577520802,0.03517673381059662,0.1610019730220793,0.3172022581163484,0.40540962332230446,0.20235739217822424,-0.09218333665078815,-0.074409351944398,-0.013734777256378693,-0.044967627935942674,-0.0197126600344075,-0.00978315427935646,-0.025199672550510813,-0.01903036021143518,0.004963868699051563,0.09721939967237153,0.15916201971731775,0.0991416099795179],\"type\":\"scatter\",\"xaxis\":\"x\",\"yaxis\":\"y\"},{\"name\":\"dd_naive_0.05_0.5_50%\",\"x\":[1971,1972,1973,1974,1975,1976,1977,1978,1979,1980,1981,1982,1983,1984,1985,1986,1987,1988,1989,1990,1991,1992,1993,1994,1995,1996,1997,1998,1999,2000,2001,2002,2003,2004,2005,2006,2007,2008,2009,2010,2011,2012,2013,2014,2015,2016,2017,2018,2019,2020],\"y\":[0.15551055130045233,0.13560757550254549,0.2329509126945887,0.22188367038707407,0.13147317281626414,0.10430983303130618,0.1360650086424282,0.27831495368862763,0.3570211476928567,0.5007030428686089,0.4990041193305602,0.43875297183587214,0.2773939139225825,0.337872995073639,0.28669370225277035,0.24415596702492207,0.11802518796222844,-0.03006051347936488,0.11642690359469973,0.11064469695601084,0.009491402223910844,-0.059699190113681765,-0.08678486951516465,-0.05932987416913429,0.039652398920240334,0.04740928967620951,0.05031966100610612,0.055970001199574265,-0.008860145003941203,0.02213654106967569,-0.013339543529072764,-0.08293416213932675,-0.0803952019550312,-0.044990248888164455,0.05059598281652182,0.1423858267615302,0.19834000924635148,0.05596862112199366,-0.1820734667243073,-0.15774386105904958,-0.07035001790878209,-0.10551838694444102,-0.06686023790548055,-0.05925891575215557,-0.0707843973636802,-0.07302880129726878,-0.06326585064979823,0.010447631046438565,0.03241580073451549,0.003920863716927979],\"type\":\"scatter\",\"xaxis\":\"x\",\"yaxis\":\"y\"},{\"name\":\"dd_naive_0_0.25_50%\",\"x\":[1971,1972,1973,1974,1975,1976,1977,1978,1979,1980,1981,1982,1983,1984,1985,1986,1987,1988,1989,1990,1991,1992,1993,1994,1995,1996,1997,1998,1999,2000,2001,2002,2003,2004,2005,2006,2007,2008,2009,2010,2011,2012,2013,2014,2015,2016,2017,2018,2019,2020],\"y\":[0.6345030914232476,0.5878981369317964,0.8559237203162289,0.8137800758433232,0.5926386014988188,0.5148889125332159,0.5834589686439036,0.9734429184938016,1.1645364674283862,1.5182422326475418,1.4640258153113972,1.3622108439532368,0.9132269688347163,1.1058216825272273,0.9697394166121933,0.8502535381733787,0.545208420580424,0.2890600376693277,0.572917275769601,0.5528227692111223,0.3614694057997538,0.20569299148166736,0.14767093675871423,0.1864625099614412,0.3914785611914078,0.3960706396840241,0.40261258545174805,0.41303997043857577,0.28587354245613245,0.3583556529019865,0.309619187839429,0.10635523891728912,0.08647442998352615,0.12592129866224974,0.3555518265267129,0.5995891811792019,0.7443734778187192,0.3839787277592922,-0.06306224218099674,-0.04180088569219721,0.047560491728374246,-0.0051531644679111135,0.03417932284325222,0.05191888206702933,0.02425100910271555,0.03408609048908393,0.07502299399442505,0.24394724002458956,0.318938058448541,0.23298912350833467],\"type\":\"scatter\",\"xaxis\":\"x\",\"yaxis\":\"y\"},{\"name\":\"dd_method_2_50%\",\"x\":[1971,1972,1973,1974,1975,1976,1977,1978,1979,1980,1981,1982,1983,1984,1985,1986,1987,1988,1989,1990,1991,1992,1993,1994,1995,1996,1997,1998,1999,2000,2001,2002,2003,2004,2005,2006,2007,2008,2009,2010,2011,2012,2013,2014,2015,2016,2017,2018,2019,2020],\"y\":[3.000467349030856,3.587799187043143,3.776690700633237,2.133179758731436,1.8409809962563806,2.1826330997394465,3.085456050448297,3.394077710128121,2.068428333986785,1.7143842746008942,0.7441350809565315,1.9809421707101382,2.49794751801641,2.4728059461419987,2.542626843177627,2.222697953922589,2.0229890003779216,1.1047268038163776,1.3916892378299137,1.5293817836707906,1.1336554008674233,1.205149495548985,1.0786944582192546,1.3691112001165975,1.4567012827201828,1.5854068107178905,1.6384942545162557,1.7109840785262693,1.3803815889508106,1.2662539567842244,0.901691323390245,1.300282455874487,1.2804161763595063,1.3275780200054565,2.509767674930117,2.8137600983263726,3.036721653987684,2.4553419661094704,0.5738176806279156,0.4414890240504139,0.9222579170979224,0.6235641060839132,0.8684503999593304,0.7823483749073311,0.9593136725664378,0.7034752262126885,0.9724916142605083,1.8938045796245608,2.4146298628034923,1.8349127976896389],\"type\":\"scatter\",\"xaxis\":\"x\",\"yaxis\":\"y\"}],                        {\"template\":{\"data\":{\"bar\":[{\"error_x\":{\"color\":\"#2a3f5f\"},\"error_y\":{\"color\":\"#2a3f5f\"},\"marker\":{\"line\":{\"color\":\"#E5ECF6\",\"width\":0.5},\"pattern\":{\"fillmode\":\"overlay\",\"size\":10,\"solidity\":0.2}},\"type\":\"bar\"}],\"barpolar\":[{\"marker\":{\"line\":{\"color\":\"#E5ECF6\",\"width\":0.5},\"pattern\":{\"fillmode\":\"overlay\",\"size\":10,\"solidity\":0.2}},\"type\":\"barpolar\"}],\"carpet\":[{\"aaxis\":{\"endlinecolor\":\"#2a3f5f\",\"gridcolor\":\"white\",\"linecolor\":\"white\",\"minorgridcolor\":\"white\",\"startlinecolor\":\"#2a3f5f\"},\"baxis\":{\"endlinecolor\":\"#2a3f5f\",\"gridcolor\":\"white\",\"linecolor\":\"white\",\"minorgridcolor\":\"white\",\"startlinecolor\":\"#2a3f5f\"},\"type\":\"carpet\"}],\"choropleth\":[{\"colorbar\":{\"outlinewidth\":0,\"ticks\":\"\"},\"type\":\"choropleth\"}],\"contour\":[{\"colorbar\":{\"outlinewidth\":0,\"ticks\":\"\"},\"colorscale\":[[0.0,\"#0d0887\"],[0.1111111111111111,\"#46039f\"],[0.2222222222222222,\"#7201a8\"],[0.3333333333333333,\"#9c179e\"],[0.4444444444444444,\"#bd3786\"],[0.5555555555555556,\"#d8576b\"],[0.6666666666666666,\"#ed7953\"],[0.7777777777777778,\"#fb9f3a\"],[0.8888888888888888,\"#fdca26\"],[1.0,\"#f0f921\"]],\"type\":\"contour\"}],\"contourcarpet\":[{\"colorbar\":{\"outlinewidth\":0,\"ticks\":\"\"},\"type\":\"contourcarpet\"}],\"heatmap\":[{\"colorbar\":{\"outlinewidth\":0,\"ticks\":\"\"},\"colorscale\":[[0.0,\"#0d0887\"],[0.1111111111111111,\"#46039f\"],[0.2222222222222222,\"#7201a8\"],[0.3333333333333333,\"#9c179e\"],[0.4444444444444444,\"#bd3786\"],[0.5555555555555556,\"#d8576b\"],[0.6666666666666666,\"#ed7953\"],[0.7777777777777778,\"#fb9f3a\"],[0.8888888888888888,\"#fdca26\"],[1.0,\"#f0f921\"]],\"type\":\"heatmap\"}],\"heatmapgl\":[{\"colorbar\":{\"outlinewidth\":0,\"ticks\":\"\"},\"colorscale\":[[0.0,\"#0d0887\"],[0.1111111111111111,\"#46039f\"],[0.2222222222222222,\"#7201a8\"],[0.3333333333333333,\"#9c179e\"],[0.4444444444444444,\"#bd3786\"],[0.5555555555555556,\"#d8576b\"],[0.6666666666666666,\"#ed7953\"],[0.7777777777777778,\"#fb9f3a\"],[0.8888888888888888,\"#fdca26\"],[1.0,\"#f0f921\"]],\"type\":\"heatmapgl\"}],\"histogram\":[{\"marker\":{\"pattern\":{\"fillmode\":\"overlay\",\"size\":10,\"solidity\":0.2}},\"type\":\"histogram\"}],\"histogram2d\":[{\"colorbar\":{\"outlinewidth\":0,\"ticks\":\"\"},\"colorscale\":[[0.0,\"#0d0887\"],[0.1111111111111111,\"#46039f\"],[0.2222222222222222,\"#7201a8\"],[0.3333333333333333,\"#9c179e\"],[0.4444444444444444,\"#bd3786\"],[0.5555555555555556,\"#d8576b\"],[0.6666666666666666,\"#ed7953\"],[0.7777777777777778,\"#fb9f3a\"],[0.8888888888888888,\"#fdca26\"],[1.0,\"#f0f921\"]],\"type\":\"histogram2d\"}],\"histogram2dcontour\":[{\"colorbar\":{\"outlinewidth\":0,\"ticks\":\"\"},\"colorscale\":[[0.0,\"#0d0887\"],[0.1111111111111111,\"#46039f\"],[0.2222222222222222,\"#7201a8\"],[0.3333333333333333,\"#9c179e\"],[0.4444444444444444,\"#bd3786\"],[0.5555555555555556,\"#d8576b\"],[0.6666666666666666,\"#ed7953\"],[0.7777777777777778,\"#fb9f3a\"],[0.8888888888888888,\"#fdca26\"],[1.0,\"#f0f921\"]],\"type\":\"histogram2dcontour\"}],\"mesh3d\":[{\"colorbar\":{\"outlinewidth\":0,\"ticks\":\"\"},\"type\":\"mesh3d\"}],\"parcoords\":[{\"line\":{\"colorbar\":{\"outlinewidth\":0,\"ticks\":\"\"}},\"type\":\"parcoords\"}],\"pie\":[{\"automargin\":true,\"type\":\"pie\"}],\"scatter\":[{\"marker\":{\"colorbar\":{\"outlinewidth\":0,\"ticks\":\"\"}},\"type\":\"scatter\"}],\"scatter3d\":[{\"line\":{\"colorbar\":{\"outlinewidth\":0,\"ticks\":\"\"}},\"marker\":{\"colorbar\":{\"outlinewidth\":0,\"ticks\":\"\"}},\"type\":\"scatter3d\"}],\"scattercarpet\":[{\"marker\":{\"colorbar\":{\"outlinewidth\":0,\"ticks\":\"\"}},\"type\":\"scattercarpet\"}],\"scattergeo\":[{\"marker\":{\"colorbar\":{\"outlinewidth\":0,\"ticks\":\"\"}},\"type\":\"scattergeo\"}],\"scattergl\":[{\"marker\":{\"colorbar\":{\"outlinewidth\":0,\"ticks\":\"\"}},\"type\":\"scattergl\"}],\"scattermapbox\":[{\"marker\":{\"colorbar\":{\"outlinewidth\":0,\"ticks\":\"\"}},\"type\":\"scattermapbox\"}],\"scatterpolar\":[{\"marker\":{\"colorbar\":{\"outlinewidth\":0,\"ticks\":\"\"}},\"type\":\"scatterpolar\"}],\"scatterpolargl\":[{\"marker\":{\"colorbar\":{\"outlinewidth\":0,\"ticks\":\"\"}},\"type\":\"scatterpolargl\"}],\"scatterternary\":[{\"marker\":{\"colorbar\":{\"outlinewidth\":0,\"ticks\":\"\"}},\"type\":\"scatterternary\"}],\"surface\":[{\"colorbar\":{\"outlinewidth\":0,\"ticks\":\"\"},\"colorscale\":[[0.0,\"#0d0887\"],[0.1111111111111111,\"#46039f\"],[0.2222222222222222,\"#7201a8\"],[0.3333333333333333,\"#9c179e\"],[0.4444444444444444,\"#bd3786\"],[0.5555555555555556,\"#d8576b\"],[0.6666666666666666,\"#ed7953\"],[0.7777777777777778,\"#fb9f3a\"],[0.8888888888888888,\"#fdca26\"],[1.0,\"#f0f921\"]],\"type\":\"surface\"}],\"table\":[{\"cells\":{\"fill\":{\"color\":\"#EBF0F8\"},\"line\":{\"color\":\"white\"}},\"header\":{\"fill\":{\"color\":\"#C8D4E3\"},\"line\":{\"color\":\"white\"}},\"type\":\"table\"}]},\"layout\":{\"annotationdefaults\":{\"arrowcolor\":\"#2a3f5f\",\"arrowhead\":0,\"arrowwidth\":1},\"autotypenumbers\":\"strict\",\"coloraxis\":{\"colorbar\":{\"outlinewidth\":0,\"ticks\":\"\"}},\"colorscale\":{\"diverging\":[[0,\"#8e0152\"],[0.1,\"#c51b7d\"],[0.2,\"#de77ae\"],[0.3,\"#f1b6da\"],[0.4,\"#fde0ef\"],[0.5,\"#f7f7f7\"],[0.6,\"#e6f5d0\"],[0.7,\"#b8e186\"],[0.8,\"#7fbc41\"],[0.9,\"#4d9221\"],[1,\"#276419\"]],\"sequential\":[[0.0,\"#0d0887\"],[0.1111111111111111,\"#46039f\"],[0.2222222222222222,\"#7201a8\"],[0.3333333333333333,\"#9c179e\"],[0.4444444444444444,\"#bd3786\"],[0.5555555555555556,\"#d8576b\"],[0.6666666666666666,\"#ed7953\"],[0.7777777777777778,\"#fb9f3a\"],[0.8888888888888888,\"#fdca26\"],[1.0,\"#f0f921\"]],\"sequentialminus\":[[0.0,\"#0d0887\"],[0.1111111111111111,\"#46039f\"],[0.2222222222222222,\"#7201a8\"],[0.3333333333333333,\"#9c179e\"],[0.4444444444444444,\"#bd3786\"],[0.5555555555555556,\"#d8576b\"],[0.6666666666666666,\"#ed7953\"],[0.7777777777777778,\"#fb9f3a\"],[0.8888888888888888,\"#fdca26\"],[1.0,\"#f0f921\"]]},\"colorway\":[\"#636efa\",\"#EF553B\",\"#00cc96\",\"#ab63fa\",\"#FFA15A\",\"#19d3f3\",\"#FF6692\",\"#B6E880\",\"#FF97FF\",\"#FECB52\"],\"font\":{\"color\":\"#2a3f5f\"},\"geo\":{\"bgcolor\":\"white\",\"lakecolor\":\"white\",\"landcolor\":\"#E5ECF6\",\"showlakes\":true,\"showland\":true,\"subunitcolor\":\"white\"},\"hoverlabel\":{\"align\":\"left\"},\"hovermode\":\"closest\",\"mapbox\":{\"style\":\"light\"},\"paper_bgcolor\":\"white\",\"plot_bgcolor\":\"#E5ECF6\",\"polar\":{\"angularaxis\":{\"gridcolor\":\"white\",\"linecolor\":\"white\",\"ticks\":\"\"},\"bgcolor\":\"#E5ECF6\",\"radialaxis\":{\"gridcolor\":\"white\",\"linecolor\":\"white\",\"ticks\":\"\"}},\"scene\":{\"xaxis\":{\"backgroundcolor\":\"#E5ECF6\",\"gridcolor\":\"white\",\"gridwidth\":2,\"linecolor\":\"white\",\"showbackground\":true,\"ticks\":\"\",\"zerolinecolor\":\"white\"},\"yaxis\":{\"backgroundcolor\":\"#E5ECF6\",\"gridcolor\":\"white\",\"gridwidth\":2,\"linecolor\":\"white\",\"showbackground\":true,\"ticks\":\"\",\"zerolinecolor\":\"white\"},\"zaxis\":{\"backgroundcolor\":\"#E5ECF6\",\"gridcolor\":\"white\",\"gridwidth\":2,\"linecolor\":\"white\",\"showbackground\":true,\"ticks\":\"\",\"zerolinecolor\":\"white\"}},\"shapedefaults\":{\"line\":{\"color\":\"#2a3f5f\"}},\"ternary\":{\"aaxis\":{\"gridcolor\":\"white\",\"linecolor\":\"white\",\"ticks\":\"\"},\"baxis\":{\"gridcolor\":\"white\",\"linecolor\":\"white\",\"ticks\":\"\"},\"bgcolor\":\"#E5ECF6\",\"caxis\":{\"gridcolor\":\"white\",\"linecolor\":\"white\",\"ticks\":\"\"}},\"title\":{\"x\":0.05},\"xaxis\":{\"automargin\":true,\"gridcolor\":\"white\",\"linecolor\":\"white\",\"ticks\":\"\",\"title\":{\"standoff\":15},\"zerolinecolor\":\"white\",\"zerolinewidth\":2},\"yaxis\":{\"automargin\":true,\"gridcolor\":\"white\",\"linecolor\":\"white\",\"ticks\":\"\",\"title\":{\"standoff\":15},\"zerolinecolor\":\"white\",\"zerolinewidth\":2}}},\"xaxis\":{\"anchor\":\"y\",\"domain\":[0.0,0.94]},\"yaxis\":{\"anchor\":\"x\",\"domain\":[0.0,1.0],\"title\":{\"text\":\"DD in Years\"}},\"yaxis2\":{\"anchor\":\"x\",\"overlaying\":\"y\",\"side\":\"right\"},\"title\":{\"text\":\"Title:Naive Method vs BAAFFM\"},\"barmode\":\"relative\",\"showlegend\":true},                        {\"responsive\": true}                    ).then(function(){\n",
       "                            \n",
       "var gd = document.getElementById('fa6c3ec8-3433-4d92-8e7e-164fb347bf3f');\n",
       "var x = new MutationObserver(function (mutations, observer) {{\n",
       "        var display = window.getComputedStyle(gd).display;\n",
       "        if (!display || display === 'none') {{\n",
       "            console.log([gd, 'removed!']);\n",
       "            Plotly.purge(gd);\n",
       "            observer.disconnect();\n",
       "        }}\n",
       "}});\n",
       "\n",
       "// Listen for the removal of the full notebook cells\n",
       "var notebookContainer = gd.closest('#notebook-container');\n",
       "if (notebookContainer) {{\n",
       "    x.observe(notebookContainer, {childList: true});\n",
       "}}\n",
       "\n",
       "// Listen for the clearing of the current output cell\n",
       "var outputEl = gd.closest('.output');\n",
       "if (outputEl) {{\n",
       "    x.observe(outputEl, {childList: true});\n",
       "}}\n",
       "\n",
       "                        })                };                });            </script>        </div>"
      ]
     },
     "metadata": {},
     "output_type": "display_data"
    },
    {
     "data": {
      "application/vnd.plotly.v1+json": {
       "config": {
        "plotlyServerURL": "https://plot.ly"
       },
       "data": [
        {
         "name": "dd_naive_0.05_0.25_50%",
         "type": "scatter",
         "x": [
          1971,
          1972,
          1973,
          1974,
          1975,
          1976,
          1977,
          1978,
          1979,
          1980,
          1981,
          1982,
          1983,
          1984,
          1985,
          1986,
          1987,
          1988,
          1989,
          1990,
          1991,
          1992,
          1993,
          1994,
          1995,
          1996,
          1997,
          1998,
          1999,
          2000,
          2001,
          2002,
          2003,
          2004,
          2005,
          2006,
          2007,
          2008,
          2009,
          2010,
          2011,
          2012,
          2013,
          2014,
          2015,
          2016,
          2017,
          2018,
          2019,
          2020
         ],
         "xaxis": "x",
         "y": [
          0.34961993205586495,
          0.2913790352098916,
          0.4364408263749228,
          0.47622522971615033,
          0.36952227582508446,
          0.2994661677562548,
          0.3158594969701294,
          0.5064587504250277,
          0.6709902552143107,
          0.8983132656927721,
          0.934752423499647,
          0.8036775224577539,
          0.5553052557691538,
          0.6439397427214824,
          0.5632925431813733,
          0.5004418086420326,
          0.3382383254504751,
          0.18298546290340623,
          0.37572670997481006,
          0.3659500128742453,
          0.23522987081073607,
          0.11197067480565134,
          0.06908022463959425,
          0.09715496882796279,
          0.2407894816857137,
          0.24534339061802196,
          0.2474631711145144,
          0.24892285392011015,
          0.16802878301116525,
          0.22215070561487826,
          0.19308542749338709,
          0.03451048138603936,
          0.015898967577520802,
          0.03517673381059662,
          0.1610019730220793,
          0.3172022581163484,
          0.40540962332230446,
          0.20235739217822424,
          -0.09218333665078815,
          -0.074409351944398,
          -0.013734777256378693,
          -0.044967627935942674,
          -0.0197126600344075,
          -0.00978315427935646,
          -0.025199672550510813,
          -0.01903036021143518,
          0.004963868699051563,
          0.09721939967237153,
          0.15916201971731775,
          0.0991416099795179
         ],
         "yaxis": "y"
        },
        {
         "name": "dd_naive_0.05_0.5_50%",
         "type": "scatter",
         "x": [
          1971,
          1972,
          1973,
          1974,
          1975,
          1976,
          1977,
          1978,
          1979,
          1980,
          1981,
          1982,
          1983,
          1984,
          1985,
          1986,
          1987,
          1988,
          1989,
          1990,
          1991,
          1992,
          1993,
          1994,
          1995,
          1996,
          1997,
          1998,
          1999,
          2000,
          2001,
          2002,
          2003,
          2004,
          2005,
          2006,
          2007,
          2008,
          2009,
          2010,
          2011,
          2012,
          2013,
          2014,
          2015,
          2016,
          2017,
          2018,
          2019,
          2020
         ],
         "xaxis": "x",
         "y": [
          0.15551055130045233,
          0.13560757550254549,
          0.2329509126945887,
          0.22188367038707407,
          0.13147317281626414,
          0.10430983303130618,
          0.1360650086424282,
          0.27831495368862763,
          0.3570211476928567,
          0.5007030428686089,
          0.4990041193305602,
          0.43875297183587214,
          0.2773939139225825,
          0.337872995073639,
          0.28669370225277035,
          0.24415596702492207,
          0.11802518796222844,
          -0.03006051347936488,
          0.11642690359469973,
          0.11064469695601084,
          0.009491402223910844,
          -0.059699190113681765,
          -0.08678486951516465,
          -0.05932987416913429,
          0.039652398920240334,
          0.04740928967620951,
          0.05031966100610612,
          0.055970001199574265,
          -0.008860145003941203,
          0.02213654106967569,
          -0.013339543529072764,
          -0.08293416213932675,
          -0.0803952019550312,
          -0.044990248888164455,
          0.05059598281652182,
          0.1423858267615302,
          0.19834000924635148,
          0.05596862112199366,
          -0.1820734667243073,
          -0.15774386105904958,
          -0.07035001790878209,
          -0.10551838694444102,
          -0.06686023790548055,
          -0.05925891575215557,
          -0.0707843973636802,
          -0.07302880129726878,
          -0.06326585064979823,
          0.010447631046438565,
          0.03241580073451549,
          0.003920863716927979
         ],
         "yaxis": "y"
        },
        {
         "name": "dd_naive_0_0.25_50%",
         "type": "scatter",
         "x": [
          1971,
          1972,
          1973,
          1974,
          1975,
          1976,
          1977,
          1978,
          1979,
          1980,
          1981,
          1982,
          1983,
          1984,
          1985,
          1986,
          1987,
          1988,
          1989,
          1990,
          1991,
          1992,
          1993,
          1994,
          1995,
          1996,
          1997,
          1998,
          1999,
          2000,
          2001,
          2002,
          2003,
          2004,
          2005,
          2006,
          2007,
          2008,
          2009,
          2010,
          2011,
          2012,
          2013,
          2014,
          2015,
          2016,
          2017,
          2018,
          2019,
          2020
         ],
         "xaxis": "x",
         "y": [
          0.6345030914232476,
          0.5878981369317964,
          0.8559237203162289,
          0.8137800758433232,
          0.5926386014988188,
          0.5148889125332159,
          0.5834589686439036,
          0.9734429184938016,
          1.1645364674283862,
          1.5182422326475418,
          1.4640258153113972,
          1.3622108439532368,
          0.9132269688347163,
          1.1058216825272273,
          0.9697394166121933,
          0.8502535381733787,
          0.545208420580424,
          0.2890600376693277,
          0.572917275769601,
          0.5528227692111223,
          0.3614694057997538,
          0.20569299148166736,
          0.14767093675871423,
          0.1864625099614412,
          0.3914785611914078,
          0.3960706396840241,
          0.40261258545174805,
          0.41303997043857577,
          0.28587354245613245,
          0.3583556529019865,
          0.309619187839429,
          0.10635523891728912,
          0.08647442998352615,
          0.12592129866224974,
          0.3555518265267129,
          0.5995891811792019,
          0.7443734778187192,
          0.3839787277592922,
          -0.06306224218099674,
          -0.04180088569219721,
          0.047560491728374246,
          -0.0051531644679111135,
          0.03417932284325222,
          0.05191888206702933,
          0.02425100910271555,
          0.03408609048908393,
          0.07502299399442505,
          0.24394724002458956,
          0.318938058448541,
          0.23298912350833467
         ],
         "yaxis": "y"
        },
        {
         "name": "dd_method_2_50%",
         "type": "scatter",
         "x": [
          1971,
          1972,
          1973,
          1974,
          1975,
          1976,
          1977,
          1978,
          1979,
          1980,
          1981,
          1982,
          1983,
          1984,
          1985,
          1986,
          1987,
          1988,
          1989,
          1990,
          1991,
          1992,
          1993,
          1994,
          1995,
          1996,
          1997,
          1998,
          1999,
          2000,
          2001,
          2002,
          2003,
          2004,
          2005,
          2006,
          2007,
          2008,
          2009,
          2010,
          2011,
          2012,
          2013,
          2014,
          2015,
          2016,
          2017,
          2018,
          2019,
          2020
         ],
         "xaxis": "x",
         "y": [
          3.000467349030856,
          3.587799187043143,
          3.776690700633237,
          2.133179758731436,
          1.8409809962563806,
          2.1826330997394465,
          3.085456050448297,
          3.394077710128121,
          2.068428333986785,
          1.7143842746008942,
          0.7441350809565315,
          1.9809421707101382,
          2.49794751801641,
          2.4728059461419987,
          2.542626843177627,
          2.222697953922589,
          2.0229890003779216,
          1.1047268038163776,
          1.3916892378299137,
          1.5293817836707906,
          1.1336554008674233,
          1.205149495548985,
          1.0786944582192546,
          1.3691112001165975,
          1.4567012827201828,
          1.5854068107178905,
          1.6384942545162557,
          1.7109840785262693,
          1.3803815889508106,
          1.2662539567842244,
          0.901691323390245,
          1.300282455874487,
          1.2804161763595063,
          1.3275780200054565,
          2.509767674930117,
          2.8137600983263726,
          3.036721653987684,
          2.4553419661094704,
          0.5738176806279156,
          0.4414890240504139,
          0.9222579170979224,
          0.6235641060839132,
          0.8684503999593304,
          0.7823483749073311,
          0.9593136725664378,
          0.7034752262126885,
          0.9724916142605083,
          1.8938045796245608,
          2.4146298628034923,
          1.8349127976896389
         ],
         "yaxis": "y"
        },
        {
         "name": "BAAFFM",
         "type": "scatter",
         "x": [
          1971,
          1972,
          1973,
          1974,
          1975,
          1976,
          1977,
          1978,
          1979,
          1980,
          1981,
          1982,
          1983,
          1984,
          1985,
          1986,
          1987,
          1988,
          1989,
          1990,
          1991,
          1992,
          1993,
          1994,
          1995,
          1996,
          1997,
          1998,
          1999,
          2000,
          2001,
          2002,
          2003,
          2004,
          2005,
          2006,
          2007,
          2008,
          2009,
          2010,
          2011,
          2012,
          2013,
          2014,
          2015,
          2016,
          2017,
          2018,
          2019,
          2020
         ],
         "xaxis": "x",
         "y": [
          3.9025000000000003,
          3.724166666666667,
          -0.4866666666666668,
          -1.0058333333333331,
          4.785833333333333,
          4.701666666666667,
          3.4316666666666666,
          1.5574999999999999,
          -0.5041666666666667,
          0.31249999999999994,
          -0.3341666666666668,
          3.855,
          4.4675,
          3.965,
          4.614166666666667,
          3.5858333333333334,
          3.918333333333333,
          3.2616666666666667,
          0.9608333333333334,
          2.2558333333333334,
          4.114166666666667,
          5.454999999999999,
          4.9075,
          4.4208333333333325,
          2.3641666666666663,
          2.7558333333333334,
          2.4025000000000003,
          1.8675,
          2.9008333333333334,
          2.1283333333333334,
          4.06,
          6.134999999999999,
          5.638333333333333,
          5.0441666666666665,
          2.8508333333333327,
          1.515,
          1.4633333333333336,
          5.519166666666667,
          7.135833333333334,
          5.863333333333333,
          5.5625,
          4.795000000000001,
          4.994166666666667,
          4.765,
          4.866666666666667,
          4.322499999999999,
          3.438333333333334,
          2.9683333333333333,
          2.2175,
          3.2291666666666665
         ],
         "yaxis": "y2"
        }
       ],
       "layout": {
        "barmode": "relative",
        "showlegend": true,
        "template": {
         "data": {
          "bar": [
           {
            "error_x": {
             "color": "#2a3f5f"
            },
            "error_y": {
             "color": "#2a3f5f"
            },
            "marker": {
             "line": {
              "color": "#E5ECF6",
              "width": 0.5
             },
             "pattern": {
              "fillmode": "overlay",
              "size": 10,
              "solidity": 0.2
             }
            },
            "type": "bar"
           }
          ],
          "barpolar": [
           {
            "marker": {
             "line": {
              "color": "#E5ECF6",
              "width": 0.5
             },
             "pattern": {
              "fillmode": "overlay",
              "size": 10,
              "solidity": 0.2
             }
            },
            "type": "barpolar"
           }
          ],
          "carpet": [
           {
            "aaxis": {
             "endlinecolor": "#2a3f5f",
             "gridcolor": "white",
             "linecolor": "white",
             "minorgridcolor": "white",
             "startlinecolor": "#2a3f5f"
            },
            "baxis": {
             "endlinecolor": "#2a3f5f",
             "gridcolor": "white",
             "linecolor": "white",
             "minorgridcolor": "white",
             "startlinecolor": "#2a3f5f"
            },
            "type": "carpet"
           }
          ],
          "choropleth": [
           {
            "colorbar": {
             "outlinewidth": 0,
             "ticks": ""
            },
            "type": "choropleth"
           }
          ],
          "contour": [
           {
            "colorbar": {
             "outlinewidth": 0,
             "ticks": ""
            },
            "colorscale": [
             [
              0,
              "#0d0887"
             ],
             [
              0.1111111111111111,
              "#46039f"
             ],
             [
              0.2222222222222222,
              "#7201a8"
             ],
             [
              0.3333333333333333,
              "#9c179e"
             ],
             [
              0.4444444444444444,
              "#bd3786"
             ],
             [
              0.5555555555555556,
              "#d8576b"
             ],
             [
              0.6666666666666666,
              "#ed7953"
             ],
             [
              0.7777777777777778,
              "#fb9f3a"
             ],
             [
              0.8888888888888888,
              "#fdca26"
             ],
             [
              1,
              "#f0f921"
             ]
            ],
            "type": "contour"
           }
          ],
          "contourcarpet": [
           {
            "colorbar": {
             "outlinewidth": 0,
             "ticks": ""
            },
            "type": "contourcarpet"
           }
          ],
          "heatmap": [
           {
            "colorbar": {
             "outlinewidth": 0,
             "ticks": ""
            },
            "colorscale": [
             [
              0,
              "#0d0887"
             ],
             [
              0.1111111111111111,
              "#46039f"
             ],
             [
              0.2222222222222222,
              "#7201a8"
             ],
             [
              0.3333333333333333,
              "#9c179e"
             ],
             [
              0.4444444444444444,
              "#bd3786"
             ],
             [
              0.5555555555555556,
              "#d8576b"
             ],
             [
              0.6666666666666666,
              "#ed7953"
             ],
             [
              0.7777777777777778,
              "#fb9f3a"
             ],
             [
              0.8888888888888888,
              "#fdca26"
             ],
             [
              1,
              "#f0f921"
             ]
            ],
            "type": "heatmap"
           }
          ],
          "heatmapgl": [
           {
            "colorbar": {
             "outlinewidth": 0,
             "ticks": ""
            },
            "colorscale": [
             [
              0,
              "#0d0887"
             ],
             [
              0.1111111111111111,
              "#46039f"
             ],
             [
              0.2222222222222222,
              "#7201a8"
             ],
             [
              0.3333333333333333,
              "#9c179e"
             ],
             [
              0.4444444444444444,
              "#bd3786"
             ],
             [
              0.5555555555555556,
              "#d8576b"
             ],
             [
              0.6666666666666666,
              "#ed7953"
             ],
             [
              0.7777777777777778,
              "#fb9f3a"
             ],
             [
              0.8888888888888888,
              "#fdca26"
             ],
             [
              1,
              "#f0f921"
             ]
            ],
            "type": "heatmapgl"
           }
          ],
          "histogram": [
           {
            "marker": {
             "pattern": {
              "fillmode": "overlay",
              "size": 10,
              "solidity": 0.2
             }
            },
            "type": "histogram"
           }
          ],
          "histogram2d": [
           {
            "colorbar": {
             "outlinewidth": 0,
             "ticks": ""
            },
            "colorscale": [
             [
              0,
              "#0d0887"
             ],
             [
              0.1111111111111111,
              "#46039f"
             ],
             [
              0.2222222222222222,
              "#7201a8"
             ],
             [
              0.3333333333333333,
              "#9c179e"
             ],
             [
              0.4444444444444444,
              "#bd3786"
             ],
             [
              0.5555555555555556,
              "#d8576b"
             ],
             [
              0.6666666666666666,
              "#ed7953"
             ],
             [
              0.7777777777777778,
              "#fb9f3a"
             ],
             [
              0.8888888888888888,
              "#fdca26"
             ],
             [
              1,
              "#f0f921"
             ]
            ],
            "type": "histogram2d"
           }
          ],
          "histogram2dcontour": [
           {
            "colorbar": {
             "outlinewidth": 0,
             "ticks": ""
            },
            "colorscale": [
             [
              0,
              "#0d0887"
             ],
             [
              0.1111111111111111,
              "#46039f"
             ],
             [
              0.2222222222222222,
              "#7201a8"
             ],
             [
              0.3333333333333333,
              "#9c179e"
             ],
             [
              0.4444444444444444,
              "#bd3786"
             ],
             [
              0.5555555555555556,
              "#d8576b"
             ],
             [
              0.6666666666666666,
              "#ed7953"
             ],
             [
              0.7777777777777778,
              "#fb9f3a"
             ],
             [
              0.8888888888888888,
              "#fdca26"
             ],
             [
              1,
              "#f0f921"
             ]
            ],
            "type": "histogram2dcontour"
           }
          ],
          "mesh3d": [
           {
            "colorbar": {
             "outlinewidth": 0,
             "ticks": ""
            },
            "type": "mesh3d"
           }
          ],
          "parcoords": [
           {
            "line": {
             "colorbar": {
              "outlinewidth": 0,
              "ticks": ""
             }
            },
            "type": "parcoords"
           }
          ],
          "pie": [
           {
            "automargin": true,
            "type": "pie"
           }
          ],
          "scatter": [
           {
            "marker": {
             "colorbar": {
              "outlinewidth": 0,
              "ticks": ""
             }
            },
            "type": "scatter"
           }
          ],
          "scatter3d": [
           {
            "line": {
             "colorbar": {
              "outlinewidth": 0,
              "ticks": ""
             }
            },
            "marker": {
             "colorbar": {
              "outlinewidth": 0,
              "ticks": ""
             }
            },
            "type": "scatter3d"
           }
          ],
          "scattercarpet": [
           {
            "marker": {
             "colorbar": {
              "outlinewidth": 0,
              "ticks": ""
             }
            },
            "type": "scattercarpet"
           }
          ],
          "scattergeo": [
           {
            "marker": {
             "colorbar": {
              "outlinewidth": 0,
              "ticks": ""
             }
            },
            "type": "scattergeo"
           }
          ],
          "scattergl": [
           {
            "marker": {
             "colorbar": {
              "outlinewidth": 0,
              "ticks": ""
             }
            },
            "type": "scattergl"
           }
          ],
          "scattermapbox": [
           {
            "marker": {
             "colorbar": {
              "outlinewidth": 0,
              "ticks": ""
             }
            },
            "type": "scattermapbox"
           }
          ],
          "scatterpolar": [
           {
            "marker": {
             "colorbar": {
              "outlinewidth": 0,
              "ticks": ""
             }
            },
            "type": "scatterpolar"
           }
          ],
          "scatterpolargl": [
           {
            "marker": {
             "colorbar": {
              "outlinewidth": 0,
              "ticks": ""
             }
            },
            "type": "scatterpolargl"
           }
          ],
          "scatterternary": [
           {
            "marker": {
             "colorbar": {
              "outlinewidth": 0,
              "ticks": ""
             }
            },
            "type": "scatterternary"
           }
          ],
          "surface": [
           {
            "colorbar": {
             "outlinewidth": 0,
             "ticks": ""
            },
            "colorscale": [
             [
              0,
              "#0d0887"
             ],
             [
              0.1111111111111111,
              "#46039f"
             ],
             [
              0.2222222222222222,
              "#7201a8"
             ],
             [
              0.3333333333333333,
              "#9c179e"
             ],
             [
              0.4444444444444444,
              "#bd3786"
             ],
             [
              0.5555555555555556,
              "#d8576b"
             ],
             [
              0.6666666666666666,
              "#ed7953"
             ],
             [
              0.7777777777777778,
              "#fb9f3a"
             ],
             [
              0.8888888888888888,
              "#fdca26"
             ],
             [
              1,
              "#f0f921"
             ]
            ],
            "type": "surface"
           }
          ],
          "table": [
           {
            "cells": {
             "fill": {
              "color": "#EBF0F8"
             },
             "line": {
              "color": "white"
             }
            },
            "header": {
             "fill": {
              "color": "#C8D4E3"
             },
             "line": {
              "color": "white"
             }
            },
            "type": "table"
           }
          ]
         },
         "layout": {
          "annotationdefaults": {
           "arrowcolor": "#2a3f5f",
           "arrowhead": 0,
           "arrowwidth": 1
          },
          "autotypenumbers": "strict",
          "coloraxis": {
           "colorbar": {
            "outlinewidth": 0,
            "ticks": ""
           }
          },
          "colorscale": {
           "diverging": [
            [
             0,
             "#8e0152"
            ],
            [
             0.1,
             "#c51b7d"
            ],
            [
             0.2,
             "#de77ae"
            ],
            [
             0.3,
             "#f1b6da"
            ],
            [
             0.4,
             "#fde0ef"
            ],
            [
             0.5,
             "#f7f7f7"
            ],
            [
             0.6,
             "#e6f5d0"
            ],
            [
             0.7,
             "#b8e186"
            ],
            [
             0.8,
             "#7fbc41"
            ],
            [
             0.9,
             "#4d9221"
            ],
            [
             1,
             "#276419"
            ]
           ],
           "sequential": [
            [
             0,
             "#0d0887"
            ],
            [
             0.1111111111111111,
             "#46039f"
            ],
            [
             0.2222222222222222,
             "#7201a8"
            ],
            [
             0.3333333333333333,
             "#9c179e"
            ],
            [
             0.4444444444444444,
             "#bd3786"
            ],
            [
             0.5555555555555556,
             "#d8576b"
            ],
            [
             0.6666666666666666,
             "#ed7953"
            ],
            [
             0.7777777777777778,
             "#fb9f3a"
            ],
            [
             0.8888888888888888,
             "#fdca26"
            ],
            [
             1,
             "#f0f921"
            ]
           ],
           "sequentialminus": [
            [
             0,
             "#0d0887"
            ],
            [
             0.1111111111111111,
             "#46039f"
            ],
            [
             0.2222222222222222,
             "#7201a8"
            ],
            [
             0.3333333333333333,
             "#9c179e"
            ],
            [
             0.4444444444444444,
             "#bd3786"
            ],
            [
             0.5555555555555556,
             "#d8576b"
            ],
            [
             0.6666666666666666,
             "#ed7953"
            ],
            [
             0.7777777777777778,
             "#fb9f3a"
            ],
            [
             0.8888888888888888,
             "#fdca26"
            ],
            [
             1,
             "#f0f921"
            ]
           ]
          },
          "colorway": [
           "#636efa",
           "#EF553B",
           "#00cc96",
           "#ab63fa",
           "#FFA15A",
           "#19d3f3",
           "#FF6692",
           "#B6E880",
           "#FF97FF",
           "#FECB52"
          ],
          "font": {
           "color": "#2a3f5f"
          },
          "geo": {
           "bgcolor": "white",
           "lakecolor": "white",
           "landcolor": "#E5ECF6",
           "showlakes": true,
           "showland": true,
           "subunitcolor": "white"
          },
          "hoverlabel": {
           "align": "left"
          },
          "hovermode": "closest",
          "mapbox": {
           "style": "light"
          },
          "paper_bgcolor": "white",
          "plot_bgcolor": "#E5ECF6",
          "polar": {
           "angularaxis": {
            "gridcolor": "white",
            "linecolor": "white",
            "ticks": ""
           },
           "bgcolor": "#E5ECF6",
           "radialaxis": {
            "gridcolor": "white",
            "linecolor": "white",
            "ticks": ""
           }
          },
          "scene": {
           "xaxis": {
            "backgroundcolor": "#E5ECF6",
            "gridcolor": "white",
            "gridwidth": 2,
            "linecolor": "white",
            "showbackground": true,
            "ticks": "",
            "zerolinecolor": "white"
           },
           "yaxis": {
            "backgroundcolor": "#E5ECF6",
            "gridcolor": "white",
            "gridwidth": 2,
            "linecolor": "white",
            "showbackground": true,
            "ticks": "",
            "zerolinecolor": "white"
           },
           "zaxis": {
            "backgroundcolor": "#E5ECF6",
            "gridcolor": "white",
            "gridwidth": 2,
            "linecolor": "white",
            "showbackground": true,
            "ticks": "",
            "zerolinecolor": "white"
           }
          },
          "shapedefaults": {
           "line": {
            "color": "#2a3f5f"
           }
          },
          "ternary": {
           "aaxis": {
            "gridcolor": "white",
            "linecolor": "white",
            "ticks": ""
           },
           "baxis": {
            "gridcolor": "white",
            "linecolor": "white",
            "ticks": ""
           },
           "bgcolor": "#E5ECF6",
           "caxis": {
            "gridcolor": "white",
            "linecolor": "white",
            "ticks": ""
           }
          },
          "title": {
           "x": 0.05
          },
          "xaxis": {
           "automargin": true,
           "gridcolor": "white",
           "linecolor": "white",
           "ticks": "",
           "title": {
            "standoff": 15
           },
           "zerolinecolor": "white",
           "zerolinewidth": 2
          },
          "yaxis": {
           "automargin": true,
           "gridcolor": "white",
           "linecolor": "white",
           "ticks": "",
           "title": {
            "standoff": 15
           },
           "zerolinecolor": "white",
           "zerolinewidth": 2
          }
         }
        },
        "title": {
         "text": "Title:Naive Method vs BAAFFM"
        },
        "xaxis": {
         "anchor": "y",
         "domain": [
          0,
          0.94
         ]
        },
        "yaxis": {
         "anchor": "x",
         "domain": [
          0,
          1
         ],
         "title": {
          "text": "DD in Years"
         }
        },
        "yaxis2": {
         "anchor": "x",
         "overlaying": "y",
         "side": "right",
         "title": {
          "text": "Economic Indicator in %"
         }
        }
       }
      },
      "text/html": [
       "<div>                            <div id=\"59db1c0f-e13b-4961-b770-bd617ee568a5\" class=\"plotly-graph-div\" style=\"height:525px; width:100%;\"></div>            <script type=\"text/javascript\">                require([\"plotly\"], function(Plotly) {                    window.PLOTLYENV=window.PLOTLYENV || {};                                    if (document.getElementById(\"59db1c0f-e13b-4961-b770-bd617ee568a5\")) {                    Plotly.newPlot(                        \"59db1c0f-e13b-4961-b770-bd617ee568a5\",                        [{\"name\":\"dd_naive_0.05_0.25_50%\",\"x\":[1971,1972,1973,1974,1975,1976,1977,1978,1979,1980,1981,1982,1983,1984,1985,1986,1987,1988,1989,1990,1991,1992,1993,1994,1995,1996,1997,1998,1999,2000,2001,2002,2003,2004,2005,2006,2007,2008,2009,2010,2011,2012,2013,2014,2015,2016,2017,2018,2019,2020],\"y\":[0.34961993205586495,0.2913790352098916,0.4364408263749228,0.47622522971615033,0.36952227582508446,0.2994661677562548,0.3158594969701294,0.5064587504250277,0.6709902552143107,0.8983132656927721,0.934752423499647,0.8036775224577539,0.5553052557691538,0.6439397427214824,0.5632925431813733,0.5004418086420326,0.3382383254504751,0.18298546290340623,0.37572670997481006,0.3659500128742453,0.23522987081073607,0.11197067480565134,0.06908022463959425,0.09715496882796279,0.2407894816857137,0.24534339061802196,0.2474631711145144,0.24892285392011015,0.16802878301116525,0.22215070561487826,0.19308542749338709,0.03451048138603936,0.015898967577520802,0.03517673381059662,0.1610019730220793,0.3172022581163484,0.40540962332230446,0.20235739217822424,-0.09218333665078815,-0.074409351944398,-0.013734777256378693,-0.044967627935942674,-0.0197126600344075,-0.00978315427935646,-0.025199672550510813,-0.01903036021143518,0.004963868699051563,0.09721939967237153,0.15916201971731775,0.0991416099795179],\"type\":\"scatter\",\"xaxis\":\"x\",\"yaxis\":\"y\"},{\"name\":\"dd_naive_0.05_0.5_50%\",\"x\":[1971,1972,1973,1974,1975,1976,1977,1978,1979,1980,1981,1982,1983,1984,1985,1986,1987,1988,1989,1990,1991,1992,1993,1994,1995,1996,1997,1998,1999,2000,2001,2002,2003,2004,2005,2006,2007,2008,2009,2010,2011,2012,2013,2014,2015,2016,2017,2018,2019,2020],\"y\":[0.15551055130045233,0.13560757550254549,0.2329509126945887,0.22188367038707407,0.13147317281626414,0.10430983303130618,0.1360650086424282,0.27831495368862763,0.3570211476928567,0.5007030428686089,0.4990041193305602,0.43875297183587214,0.2773939139225825,0.337872995073639,0.28669370225277035,0.24415596702492207,0.11802518796222844,-0.03006051347936488,0.11642690359469973,0.11064469695601084,0.009491402223910844,-0.059699190113681765,-0.08678486951516465,-0.05932987416913429,0.039652398920240334,0.04740928967620951,0.05031966100610612,0.055970001199574265,-0.008860145003941203,0.02213654106967569,-0.013339543529072764,-0.08293416213932675,-0.0803952019550312,-0.044990248888164455,0.05059598281652182,0.1423858267615302,0.19834000924635148,0.05596862112199366,-0.1820734667243073,-0.15774386105904958,-0.07035001790878209,-0.10551838694444102,-0.06686023790548055,-0.05925891575215557,-0.0707843973636802,-0.07302880129726878,-0.06326585064979823,0.010447631046438565,0.03241580073451549,0.003920863716927979],\"type\":\"scatter\",\"xaxis\":\"x\",\"yaxis\":\"y\"},{\"name\":\"dd_naive_0_0.25_50%\",\"x\":[1971,1972,1973,1974,1975,1976,1977,1978,1979,1980,1981,1982,1983,1984,1985,1986,1987,1988,1989,1990,1991,1992,1993,1994,1995,1996,1997,1998,1999,2000,2001,2002,2003,2004,2005,2006,2007,2008,2009,2010,2011,2012,2013,2014,2015,2016,2017,2018,2019,2020],\"y\":[0.6345030914232476,0.5878981369317964,0.8559237203162289,0.8137800758433232,0.5926386014988188,0.5148889125332159,0.5834589686439036,0.9734429184938016,1.1645364674283862,1.5182422326475418,1.4640258153113972,1.3622108439532368,0.9132269688347163,1.1058216825272273,0.9697394166121933,0.8502535381733787,0.545208420580424,0.2890600376693277,0.572917275769601,0.5528227692111223,0.3614694057997538,0.20569299148166736,0.14767093675871423,0.1864625099614412,0.3914785611914078,0.3960706396840241,0.40261258545174805,0.41303997043857577,0.28587354245613245,0.3583556529019865,0.309619187839429,0.10635523891728912,0.08647442998352615,0.12592129866224974,0.3555518265267129,0.5995891811792019,0.7443734778187192,0.3839787277592922,-0.06306224218099674,-0.04180088569219721,0.047560491728374246,-0.0051531644679111135,0.03417932284325222,0.05191888206702933,0.02425100910271555,0.03408609048908393,0.07502299399442505,0.24394724002458956,0.318938058448541,0.23298912350833467],\"type\":\"scatter\",\"xaxis\":\"x\",\"yaxis\":\"y\"},{\"name\":\"dd_method_2_50%\",\"x\":[1971,1972,1973,1974,1975,1976,1977,1978,1979,1980,1981,1982,1983,1984,1985,1986,1987,1988,1989,1990,1991,1992,1993,1994,1995,1996,1997,1998,1999,2000,2001,2002,2003,2004,2005,2006,2007,2008,2009,2010,2011,2012,2013,2014,2015,2016,2017,2018,2019,2020],\"y\":[3.000467349030856,3.587799187043143,3.776690700633237,2.133179758731436,1.8409809962563806,2.1826330997394465,3.085456050448297,3.394077710128121,2.068428333986785,1.7143842746008942,0.7441350809565315,1.9809421707101382,2.49794751801641,2.4728059461419987,2.542626843177627,2.222697953922589,2.0229890003779216,1.1047268038163776,1.3916892378299137,1.5293817836707906,1.1336554008674233,1.205149495548985,1.0786944582192546,1.3691112001165975,1.4567012827201828,1.5854068107178905,1.6384942545162557,1.7109840785262693,1.3803815889508106,1.2662539567842244,0.901691323390245,1.300282455874487,1.2804161763595063,1.3275780200054565,2.509767674930117,2.8137600983263726,3.036721653987684,2.4553419661094704,0.5738176806279156,0.4414890240504139,0.9222579170979224,0.6235641060839132,0.8684503999593304,0.7823483749073311,0.9593136725664378,0.7034752262126885,0.9724916142605083,1.8938045796245608,2.4146298628034923,1.8349127976896389],\"type\":\"scatter\",\"xaxis\":\"x\",\"yaxis\":\"y\"},{\"name\":\"BAAFFM\",\"x\":[1971,1972,1973,1974,1975,1976,1977,1978,1979,1980,1981,1982,1983,1984,1985,1986,1987,1988,1989,1990,1991,1992,1993,1994,1995,1996,1997,1998,1999,2000,2001,2002,2003,2004,2005,2006,2007,2008,2009,2010,2011,2012,2013,2014,2015,2016,2017,2018,2019,2020],\"y\":[3.9025000000000003,3.724166666666667,-0.4866666666666668,-1.0058333333333331,4.785833333333333,4.701666666666667,3.4316666666666666,1.5574999999999999,-0.5041666666666667,0.31249999999999994,-0.3341666666666668,3.855,4.4675,3.965,4.614166666666667,3.5858333333333334,3.918333333333333,3.2616666666666667,0.9608333333333334,2.2558333333333334,4.114166666666667,5.454999999999999,4.9075,4.4208333333333325,2.3641666666666663,2.7558333333333334,2.4025000000000003,1.8675,2.9008333333333334,2.1283333333333334,4.06,6.134999999999999,5.638333333333333,5.0441666666666665,2.8508333333333327,1.515,1.4633333333333336,5.519166666666667,7.135833333333334,5.863333333333333,5.5625,4.795000000000001,4.994166666666667,4.765,4.866666666666667,4.322499999999999,3.438333333333334,2.9683333333333333,2.2175,3.2291666666666665],\"type\":\"scatter\",\"xaxis\":\"x\",\"yaxis\":\"y2\"}],                        {\"template\":{\"data\":{\"bar\":[{\"error_x\":{\"color\":\"#2a3f5f\"},\"error_y\":{\"color\":\"#2a3f5f\"},\"marker\":{\"line\":{\"color\":\"#E5ECF6\",\"width\":0.5},\"pattern\":{\"fillmode\":\"overlay\",\"size\":10,\"solidity\":0.2}},\"type\":\"bar\"}],\"barpolar\":[{\"marker\":{\"line\":{\"color\":\"#E5ECF6\",\"width\":0.5},\"pattern\":{\"fillmode\":\"overlay\",\"size\":10,\"solidity\":0.2}},\"type\":\"barpolar\"}],\"carpet\":[{\"aaxis\":{\"endlinecolor\":\"#2a3f5f\",\"gridcolor\":\"white\",\"linecolor\":\"white\",\"minorgridcolor\":\"white\",\"startlinecolor\":\"#2a3f5f\"},\"baxis\":{\"endlinecolor\":\"#2a3f5f\",\"gridcolor\":\"white\",\"linecolor\":\"white\",\"minorgridcolor\":\"white\",\"startlinecolor\":\"#2a3f5f\"},\"type\":\"carpet\"}],\"choropleth\":[{\"colorbar\":{\"outlinewidth\":0,\"ticks\":\"\"},\"type\":\"choropleth\"}],\"contour\":[{\"colorbar\":{\"outlinewidth\":0,\"ticks\":\"\"},\"colorscale\":[[0.0,\"#0d0887\"],[0.1111111111111111,\"#46039f\"],[0.2222222222222222,\"#7201a8\"],[0.3333333333333333,\"#9c179e\"],[0.4444444444444444,\"#bd3786\"],[0.5555555555555556,\"#d8576b\"],[0.6666666666666666,\"#ed7953\"],[0.7777777777777778,\"#fb9f3a\"],[0.8888888888888888,\"#fdca26\"],[1.0,\"#f0f921\"]],\"type\":\"contour\"}],\"contourcarpet\":[{\"colorbar\":{\"outlinewidth\":0,\"ticks\":\"\"},\"type\":\"contourcarpet\"}],\"heatmap\":[{\"colorbar\":{\"outlinewidth\":0,\"ticks\":\"\"},\"colorscale\":[[0.0,\"#0d0887\"],[0.1111111111111111,\"#46039f\"],[0.2222222222222222,\"#7201a8\"],[0.3333333333333333,\"#9c179e\"],[0.4444444444444444,\"#bd3786\"],[0.5555555555555556,\"#d8576b\"],[0.6666666666666666,\"#ed7953\"],[0.7777777777777778,\"#fb9f3a\"],[0.8888888888888888,\"#fdca26\"],[1.0,\"#f0f921\"]],\"type\":\"heatmap\"}],\"heatmapgl\":[{\"colorbar\":{\"outlinewidth\":0,\"ticks\":\"\"},\"colorscale\":[[0.0,\"#0d0887\"],[0.1111111111111111,\"#46039f\"],[0.2222222222222222,\"#7201a8\"],[0.3333333333333333,\"#9c179e\"],[0.4444444444444444,\"#bd3786\"],[0.5555555555555556,\"#d8576b\"],[0.6666666666666666,\"#ed7953\"],[0.7777777777777778,\"#fb9f3a\"],[0.8888888888888888,\"#fdca26\"],[1.0,\"#f0f921\"]],\"type\":\"heatmapgl\"}],\"histogram\":[{\"marker\":{\"pattern\":{\"fillmode\":\"overlay\",\"size\":10,\"solidity\":0.2}},\"type\":\"histogram\"}],\"histogram2d\":[{\"colorbar\":{\"outlinewidth\":0,\"ticks\":\"\"},\"colorscale\":[[0.0,\"#0d0887\"],[0.1111111111111111,\"#46039f\"],[0.2222222222222222,\"#7201a8\"],[0.3333333333333333,\"#9c179e\"],[0.4444444444444444,\"#bd3786\"],[0.5555555555555556,\"#d8576b\"],[0.6666666666666666,\"#ed7953\"],[0.7777777777777778,\"#fb9f3a\"],[0.8888888888888888,\"#fdca26\"],[1.0,\"#f0f921\"]],\"type\":\"histogram2d\"}],\"histogram2dcontour\":[{\"colorbar\":{\"outlinewidth\":0,\"ticks\":\"\"},\"colorscale\":[[0.0,\"#0d0887\"],[0.1111111111111111,\"#46039f\"],[0.2222222222222222,\"#7201a8\"],[0.3333333333333333,\"#9c179e\"],[0.4444444444444444,\"#bd3786\"],[0.5555555555555556,\"#d8576b\"],[0.6666666666666666,\"#ed7953\"],[0.7777777777777778,\"#fb9f3a\"],[0.8888888888888888,\"#fdca26\"],[1.0,\"#f0f921\"]],\"type\":\"histogram2dcontour\"}],\"mesh3d\":[{\"colorbar\":{\"outlinewidth\":0,\"ticks\":\"\"},\"type\":\"mesh3d\"}],\"parcoords\":[{\"line\":{\"colorbar\":{\"outlinewidth\":0,\"ticks\":\"\"}},\"type\":\"parcoords\"}],\"pie\":[{\"automargin\":true,\"type\":\"pie\"}],\"scatter\":[{\"marker\":{\"colorbar\":{\"outlinewidth\":0,\"ticks\":\"\"}},\"type\":\"scatter\"}],\"scatter3d\":[{\"line\":{\"colorbar\":{\"outlinewidth\":0,\"ticks\":\"\"}},\"marker\":{\"colorbar\":{\"outlinewidth\":0,\"ticks\":\"\"}},\"type\":\"scatter3d\"}],\"scattercarpet\":[{\"marker\":{\"colorbar\":{\"outlinewidth\":0,\"ticks\":\"\"}},\"type\":\"scattercarpet\"}],\"scattergeo\":[{\"marker\":{\"colorbar\":{\"outlinewidth\":0,\"ticks\":\"\"}},\"type\":\"scattergeo\"}],\"scattergl\":[{\"marker\":{\"colorbar\":{\"outlinewidth\":0,\"ticks\":\"\"}},\"type\":\"scattergl\"}],\"scattermapbox\":[{\"marker\":{\"colorbar\":{\"outlinewidth\":0,\"ticks\":\"\"}},\"type\":\"scattermapbox\"}],\"scatterpolar\":[{\"marker\":{\"colorbar\":{\"outlinewidth\":0,\"ticks\":\"\"}},\"type\":\"scatterpolar\"}],\"scatterpolargl\":[{\"marker\":{\"colorbar\":{\"outlinewidth\":0,\"ticks\":\"\"}},\"type\":\"scatterpolargl\"}],\"scatterternary\":[{\"marker\":{\"colorbar\":{\"outlinewidth\":0,\"ticks\":\"\"}},\"type\":\"scatterternary\"}],\"surface\":[{\"colorbar\":{\"outlinewidth\":0,\"ticks\":\"\"},\"colorscale\":[[0.0,\"#0d0887\"],[0.1111111111111111,\"#46039f\"],[0.2222222222222222,\"#7201a8\"],[0.3333333333333333,\"#9c179e\"],[0.4444444444444444,\"#bd3786\"],[0.5555555555555556,\"#d8576b\"],[0.6666666666666666,\"#ed7953\"],[0.7777777777777778,\"#fb9f3a\"],[0.8888888888888888,\"#fdca26\"],[1.0,\"#f0f921\"]],\"type\":\"surface\"}],\"table\":[{\"cells\":{\"fill\":{\"color\":\"#EBF0F8\"},\"line\":{\"color\":\"white\"}},\"header\":{\"fill\":{\"color\":\"#C8D4E3\"},\"line\":{\"color\":\"white\"}},\"type\":\"table\"}]},\"layout\":{\"annotationdefaults\":{\"arrowcolor\":\"#2a3f5f\",\"arrowhead\":0,\"arrowwidth\":1},\"autotypenumbers\":\"strict\",\"coloraxis\":{\"colorbar\":{\"outlinewidth\":0,\"ticks\":\"\"}},\"colorscale\":{\"diverging\":[[0,\"#8e0152\"],[0.1,\"#c51b7d\"],[0.2,\"#de77ae\"],[0.3,\"#f1b6da\"],[0.4,\"#fde0ef\"],[0.5,\"#f7f7f7\"],[0.6,\"#e6f5d0\"],[0.7,\"#b8e186\"],[0.8,\"#7fbc41\"],[0.9,\"#4d9221\"],[1,\"#276419\"]],\"sequential\":[[0.0,\"#0d0887\"],[0.1111111111111111,\"#46039f\"],[0.2222222222222222,\"#7201a8\"],[0.3333333333333333,\"#9c179e\"],[0.4444444444444444,\"#bd3786\"],[0.5555555555555556,\"#d8576b\"],[0.6666666666666666,\"#ed7953\"],[0.7777777777777778,\"#fb9f3a\"],[0.8888888888888888,\"#fdca26\"],[1.0,\"#f0f921\"]],\"sequentialminus\":[[0.0,\"#0d0887\"],[0.1111111111111111,\"#46039f\"],[0.2222222222222222,\"#7201a8\"],[0.3333333333333333,\"#9c179e\"],[0.4444444444444444,\"#bd3786\"],[0.5555555555555556,\"#d8576b\"],[0.6666666666666666,\"#ed7953\"],[0.7777777777777778,\"#fb9f3a\"],[0.8888888888888888,\"#fdca26\"],[1.0,\"#f0f921\"]]},\"colorway\":[\"#636efa\",\"#EF553B\",\"#00cc96\",\"#ab63fa\",\"#FFA15A\",\"#19d3f3\",\"#FF6692\",\"#B6E880\",\"#FF97FF\",\"#FECB52\"],\"font\":{\"color\":\"#2a3f5f\"},\"geo\":{\"bgcolor\":\"white\",\"lakecolor\":\"white\",\"landcolor\":\"#E5ECF6\",\"showlakes\":true,\"showland\":true,\"subunitcolor\":\"white\"},\"hoverlabel\":{\"align\":\"left\"},\"hovermode\":\"closest\",\"mapbox\":{\"style\":\"light\"},\"paper_bgcolor\":\"white\",\"plot_bgcolor\":\"#E5ECF6\",\"polar\":{\"angularaxis\":{\"gridcolor\":\"white\",\"linecolor\":\"white\",\"ticks\":\"\"},\"bgcolor\":\"#E5ECF6\",\"radialaxis\":{\"gridcolor\":\"white\",\"linecolor\":\"white\",\"ticks\":\"\"}},\"scene\":{\"xaxis\":{\"backgroundcolor\":\"#E5ECF6\",\"gridcolor\":\"white\",\"gridwidth\":2,\"linecolor\":\"white\",\"showbackground\":true,\"ticks\":\"\",\"zerolinecolor\":\"white\"},\"yaxis\":{\"backgroundcolor\":\"#E5ECF6\",\"gridcolor\":\"white\",\"gridwidth\":2,\"linecolor\":\"white\",\"showbackground\":true,\"ticks\":\"\",\"zerolinecolor\":\"white\"},\"zaxis\":{\"backgroundcolor\":\"#E5ECF6\",\"gridcolor\":\"white\",\"gridwidth\":2,\"linecolor\":\"white\",\"showbackground\":true,\"ticks\":\"\",\"zerolinecolor\":\"white\"}},\"shapedefaults\":{\"line\":{\"color\":\"#2a3f5f\"}},\"ternary\":{\"aaxis\":{\"gridcolor\":\"white\",\"linecolor\":\"white\",\"ticks\":\"\"},\"baxis\":{\"gridcolor\":\"white\",\"linecolor\":\"white\",\"ticks\":\"\"},\"bgcolor\":\"#E5ECF6\",\"caxis\":{\"gridcolor\":\"white\",\"linecolor\":\"white\",\"ticks\":\"\"}},\"title\":{\"x\":0.05},\"xaxis\":{\"automargin\":true,\"gridcolor\":\"white\",\"linecolor\":\"white\",\"ticks\":\"\",\"title\":{\"standoff\":15},\"zerolinecolor\":\"white\",\"zerolinewidth\":2},\"yaxis\":{\"automargin\":true,\"gridcolor\":\"white\",\"linecolor\":\"white\",\"ticks\":\"\",\"title\":{\"standoff\":15},\"zerolinecolor\":\"white\",\"zerolinewidth\":2}}},\"xaxis\":{\"anchor\":\"y\",\"domain\":[0.0,0.94]},\"yaxis\":{\"anchor\":\"x\",\"domain\":[0.0,1.0],\"title\":{\"text\":\"DD in Years\"}},\"yaxis2\":{\"anchor\":\"x\",\"overlaying\":\"y\",\"side\":\"right\",\"title\":{\"text\":\"Economic Indicator in %\"}},\"title\":{\"text\":\"Title:Naive Method vs BAAFFM\"},\"barmode\":\"relative\",\"showlegend\":true},                        {\"responsive\": true}                    ).then(function(){\n",
       "                            \n",
       "var gd = document.getElementById('59db1c0f-e13b-4961-b770-bd617ee568a5');\n",
       "var x = new MutationObserver(function (mutations, observer) {{\n",
       "        var display = window.getComputedStyle(gd).display;\n",
       "        if (!display || display === 'none') {{\n",
       "            console.log([gd, 'removed!']);\n",
       "            Plotly.purge(gd);\n",
       "            observer.disconnect();\n",
       "        }}\n",
       "}});\n",
       "\n",
       "// Listen for the removal of the full notebook cells\n",
       "var notebookContainer = gd.closest('#notebook-container');\n",
       "if (notebookContainer) {{\n",
       "    x.observe(notebookContainer, {childList: true});\n",
       "}}\n",
       "\n",
       "// Listen for the clearing of the current output cell\n",
       "var outputEl = gd.closest('.output');\n",
       "if (outputEl) {{\n",
       "    x.observe(outputEl, {childList: true});\n",
       "}}\n",
       "\n",
       "                        })                };                });            </script>        </div>"
      ]
     },
     "metadata": {},
     "output_type": "display_data"
    }
   ],
   "source": [
    "p50_all_columns = [\"fyear\",\"dd_naive_0.05_0.25_50%\", \"dd_naive_0.05_0.5_50%\", \"dd_naive_0_0.25_50%\",\"dd_method_2_50%\"]\n",
    "p50_all_methods = descriptive_stats_across_time[p50_all_columns]\n",
    "plot_chart(p50_all_methods,\"Naive Method vs BAAFFM\",\"DD in Years\", \"fyear\")\n",
    "\n",
    "to_plot = pd.merge(p50_all_methods,fred_baaffm,on=\"fyear\",how=\"inner\")\n",
    "plot_chart_with_macro(to_plot,\"Naive Method vs BAAFFM\",\"DD in Years\", \"fyear\")"
   ]
  },
  {
   "cell_type": "markdown",
   "metadata": {},
   "source": [
    "### p75 of all methods "
   ]
  },
  {
   "cell_type": "code",
   "execution_count": 223,
   "metadata": {},
   "outputs": [
    {
     "data": {
      "application/vnd.plotly.v1+json": {
       "config": {
        "plotlyServerURL": "https://plot.ly"
       },
       "data": [
        {
         "name": "dd_naive_0.05_0.25_75%",
         "type": "scatter",
         "x": [
          1971,
          1972,
          1973,
          1974,
          1975,
          1976,
          1977,
          1978,
          1979,
          1980,
          1981,
          1982,
          1983,
          1984,
          1985,
          1986,
          1987,
          1988,
          1989,
          1990,
          1991,
          1992,
          1993,
          1994,
          1995,
          1996,
          1997,
          1998,
          1999,
          2000,
          2001,
          2002,
          2003,
          2004,
          2005,
          2006,
          2007,
          2008,
          2009,
          2010,
          2011,
          2012,
          2013,
          2014,
          2015,
          2016,
          2017,
          2018,
          2019,
          2020
         ],
         "xaxis": "x",
         "y": [
          0.42099928784767404,
          0.35481427272001187,
          0.5530062856745313,
          0.5937532279379057,
          0.46356080982929004,
          0.391179011198754,
          0.41898192585477856,
          0.6156058208686586,
          0.8569215412253737,
          1.1256367790320132,
          1.1710413963157755,
          0.9987245535738932,
          0.7138601273158551,
          0.8792255519635988,
          0.7326746685163772,
          0.6566012460803393,
          0.5137961759523458,
          0.313670310400813,
          0.5632051874544124,
          0.5326404944856639,
          0.36878433272387323,
          0.24299116026526651,
          0.19073273315185238,
          0.1898937369393071,
          0.3554112584953962,
          0.36060583383702394,
          0.39087951957616907,
          0.37890641238190315,
          0.25951580342139413,
          0.34983261685923167,
          0.2981156500974087,
          0.09057867023122068,
          0.06879914525093392,
          0.08964266516000295,
          0.25466192482849376,
          0.42204645765222465,
          0.5226881189274737,
          0.2889442195410624,
          -0.039874808862208726,
          -0.0069481446671745975,
          0.07701186911014293,
          0.024390869053762334,
          0.049153941790324764,
          0.06350459560638079,
          0.03305005795873797,
          0.023084308750687316,
          0.04600252361667966,
          0.1596613762511622,
          0.21122519680335192,
          0.16016086803202217
         ],
         "yaxis": "y"
        },
        {
         "name": "dd_naive_0.05_0.5_75%",
         "type": "scatter",
         "x": [
          1971,
          1972,
          1973,
          1974,
          1975,
          1976,
          1977,
          1978,
          1979,
          1980,
          1981,
          1982,
          1983,
          1984,
          1985,
          1986,
          1987,
          1988,
          1989,
          1990,
          1991,
          1992,
          1993,
          1994,
          1995,
          1996,
          1997,
          1998,
          1999,
          2000,
          2001,
          2002,
          2003,
          2004,
          2005,
          2006,
          2007,
          2008,
          2009,
          2010,
          2011,
          2012,
          2013,
          2014,
          2015,
          2016,
          2017,
          2018,
          2019,
          2020
         ],
         "xaxis": "x",
         "y": [
          0.22322876867138147,
          0.19678523963497885,
          0.34749436304062287,
          0.3246398367765289,
          0.2211327580154859,
          0.1885775299396285,
          0.2332645414624543,
          0.3840708757212285,
          0.5220584212096366,
          0.7074251306001327,
          0.7055385342347136,
          0.6110186378256178,
          0.4260838428350141,
          0.5215750358712198,
          0.4286481692186289,
          0.38845413127973377,
          0.26866721306599783,
          0.08589563969889716,
          0.27086177972156683,
          0.2554761563281191,
          0.13199966947900826,
          0.0693880687316736,
          0.02374063199302214,
          0.034941011715762714,
          0.1380001034392366,
          0.15640839171561705,
          0.17379421267517467,
          0.1664479111291627,
          0.0775372116013914,
          0.14474680949278992,
          0.08485270261689494,
          -0.016426879488512226,
          -0.016387732592962806,
          -0.005235934614159232,
          0.11055395889889844,
          0.22982371022571266,
          0.30423134639839944,
          0.13258979505401183,
          -0.12362290245670897,
          -0.09026065211295473,
          -0.009532741186069083,
          -0.05462516988095316,
          -0.025282381693287,
          -0.014324190389291324,
          -0.03306152635504953,
          -0.040140770326323336,
          -0.023248589710266436,
          0.06321877532989852,
          0.08679470704765704,
          0.05929022966480694
         ],
         "yaxis": "y"
        },
        {
         "name": "dd_naive_0_0.25_75%",
         "type": "scatter",
         "x": [
          1971,
          1972,
          1973,
          1974,
          1975,
          1976,
          1977,
          1978,
          1979,
          1980,
          1981,
          1982,
          1983,
          1984,
          1985,
          1986,
          1987,
          1988,
          1989,
          1990,
          1991,
          1992,
          1993,
          1994,
          1995,
          1996,
          1997,
          1998,
          1999,
          2000,
          2001,
          2002,
          2003,
          2004,
          2005,
          2006,
          2007,
          2008,
          2009,
          2010,
          2011,
          2012,
          2013,
          2014,
          2015,
          2016,
          2017,
          2018,
          2019,
          2020
         ],
         "xaxis": "x",
         "y": [
          0.7991895072892162,
          0.765680710076317,
          1.2581131765606397,
          1.0844291754114987,
          0.812850569778547,
          0.7289438840209117,
          0.8841200949780634,
          1.3514587443284718,
          1.7284359723836467,
          2.256744784383633,
          2.0633798335584386,
          1.9577509536121904,
          1.3620214860523587,
          1.5763461830531718,
          1.4379799587625341,
          1.281062598374186,
          0.8939470406778841,
          0.4846781729203703,
          0.8877992831468071,
          0.8788940726513667,
          0.5854074534083155,
          0.4272312096010726,
          0.3349441876025677,
          0.34546878993721974,
          0.5894123061402712,
          0.6325436810867845,
          0.6697681283325981,
          0.6423955866729372,
          0.44552766747245703,
          0.5955133160050716,
          0.47917242837798263,
          0.21131394569289003,
          0.1806753298686817,
          0.20897646645399995,
          0.5057131014382931,
          0.8453343906669332,
          1.0864776973580075,
          0.577630806159268,
          0.0009428036332977444,
          0.04583555630683203,
          0.20367044626259193,
          0.1004517006031702,
          0.14824824625318303,
          0.181299158630016,
          0.12823898076786103,
          0.1034617514181901,
          0.14981095234866054,
          0.3886356576958736,
          0.4536612672910136,
          0.3836030347056349
         ],
         "yaxis": "y"
        },
        {
         "name": "dd_method_2_75%",
         "type": "scatter",
         "x": [
          1971,
          1972,
          1973,
          1974,
          1975,
          1976,
          1977,
          1978,
          1979,
          1980,
          1981,
          1982,
          1983,
          1984,
          1985,
          1986,
          1987,
          1988,
          1989,
          1990,
          1991,
          1992,
          1993,
          1994,
          1995,
          1996,
          1997,
          1998,
          1999,
          2000,
          2001,
          2002,
          2003,
          2004,
          2005,
          2006,
          2007,
          2008,
          2009,
          2010,
          2011,
          2012,
          2013,
          2014,
          2015,
          2016,
          2017,
          2018,
          2019,
          2020
         ],
         "xaxis": "x",
         "y": [
          3.9069356813258898,
          4.569497811806809,
          5.056610161985411,
          3.3272451058611403,
          2.731013188650737,
          3.3082758297068313,
          4.571241847564681,
          5.093327314037266,
          3.7473548130828815,
          3.7796071972146015,
          2.5770278974312557,
          3.494558906627318,
          3.6402534888649463,
          3.749441963185753,
          4.069562265057812,
          3.951190753366713,
          2.988572986750862,
          1.7769396385672844,
          2.306084720353433,
          2.370127244518359,
          1.887847177038533,
          1.9387841472635303,
          1.8005576683143312,
          2.1269967219688297,
          2.3131815413616095,
          2.5155132454223827,
          2.7086514088139784,
          2.698097811738366,
          2.1995233551211273,
          2.190769117802258,
          1.7260100217347805,
          2.0874995073008202,
          2.1398089839328596,
          2.652728697473373,
          3.5287975713053332,
          3.857259552113585,
          4.312859458164699,
          3.2892322760045953,
          1.3917805056421177,
          1.371113616899416,
          2.320973533716151,
          1.9235716047913982,
          2.4573040139679585,
          2.473543993460394,
          2.436241543308779,
          2.3171286401669904,
          2.393361848200601,
          3.5405634257641037,
          3.655053678738407,
          3.309974983581575
         ],
         "yaxis": "y"
        }
       ],
       "layout": {
        "barmode": "relative",
        "showlegend": true,
        "template": {
         "data": {
          "bar": [
           {
            "error_x": {
             "color": "#2a3f5f"
            },
            "error_y": {
             "color": "#2a3f5f"
            },
            "marker": {
             "line": {
              "color": "#E5ECF6",
              "width": 0.5
             },
             "pattern": {
              "fillmode": "overlay",
              "size": 10,
              "solidity": 0.2
             }
            },
            "type": "bar"
           }
          ],
          "barpolar": [
           {
            "marker": {
             "line": {
              "color": "#E5ECF6",
              "width": 0.5
             },
             "pattern": {
              "fillmode": "overlay",
              "size": 10,
              "solidity": 0.2
             }
            },
            "type": "barpolar"
           }
          ],
          "carpet": [
           {
            "aaxis": {
             "endlinecolor": "#2a3f5f",
             "gridcolor": "white",
             "linecolor": "white",
             "minorgridcolor": "white",
             "startlinecolor": "#2a3f5f"
            },
            "baxis": {
             "endlinecolor": "#2a3f5f",
             "gridcolor": "white",
             "linecolor": "white",
             "minorgridcolor": "white",
             "startlinecolor": "#2a3f5f"
            },
            "type": "carpet"
           }
          ],
          "choropleth": [
           {
            "colorbar": {
             "outlinewidth": 0,
             "ticks": ""
            },
            "type": "choropleth"
           }
          ],
          "contour": [
           {
            "colorbar": {
             "outlinewidth": 0,
             "ticks": ""
            },
            "colorscale": [
             [
              0,
              "#0d0887"
             ],
             [
              0.1111111111111111,
              "#46039f"
             ],
             [
              0.2222222222222222,
              "#7201a8"
             ],
             [
              0.3333333333333333,
              "#9c179e"
             ],
             [
              0.4444444444444444,
              "#bd3786"
             ],
             [
              0.5555555555555556,
              "#d8576b"
             ],
             [
              0.6666666666666666,
              "#ed7953"
             ],
             [
              0.7777777777777778,
              "#fb9f3a"
             ],
             [
              0.8888888888888888,
              "#fdca26"
             ],
             [
              1,
              "#f0f921"
             ]
            ],
            "type": "contour"
           }
          ],
          "contourcarpet": [
           {
            "colorbar": {
             "outlinewidth": 0,
             "ticks": ""
            },
            "type": "contourcarpet"
           }
          ],
          "heatmap": [
           {
            "colorbar": {
             "outlinewidth": 0,
             "ticks": ""
            },
            "colorscale": [
             [
              0,
              "#0d0887"
             ],
             [
              0.1111111111111111,
              "#46039f"
             ],
             [
              0.2222222222222222,
              "#7201a8"
             ],
             [
              0.3333333333333333,
              "#9c179e"
             ],
             [
              0.4444444444444444,
              "#bd3786"
             ],
             [
              0.5555555555555556,
              "#d8576b"
             ],
             [
              0.6666666666666666,
              "#ed7953"
             ],
             [
              0.7777777777777778,
              "#fb9f3a"
             ],
             [
              0.8888888888888888,
              "#fdca26"
             ],
             [
              1,
              "#f0f921"
             ]
            ],
            "type": "heatmap"
           }
          ],
          "heatmapgl": [
           {
            "colorbar": {
             "outlinewidth": 0,
             "ticks": ""
            },
            "colorscale": [
             [
              0,
              "#0d0887"
             ],
             [
              0.1111111111111111,
              "#46039f"
             ],
             [
              0.2222222222222222,
              "#7201a8"
             ],
             [
              0.3333333333333333,
              "#9c179e"
             ],
             [
              0.4444444444444444,
              "#bd3786"
             ],
             [
              0.5555555555555556,
              "#d8576b"
             ],
             [
              0.6666666666666666,
              "#ed7953"
             ],
             [
              0.7777777777777778,
              "#fb9f3a"
             ],
             [
              0.8888888888888888,
              "#fdca26"
             ],
             [
              1,
              "#f0f921"
             ]
            ],
            "type": "heatmapgl"
           }
          ],
          "histogram": [
           {
            "marker": {
             "pattern": {
              "fillmode": "overlay",
              "size": 10,
              "solidity": 0.2
             }
            },
            "type": "histogram"
           }
          ],
          "histogram2d": [
           {
            "colorbar": {
             "outlinewidth": 0,
             "ticks": ""
            },
            "colorscale": [
             [
              0,
              "#0d0887"
             ],
             [
              0.1111111111111111,
              "#46039f"
             ],
             [
              0.2222222222222222,
              "#7201a8"
             ],
             [
              0.3333333333333333,
              "#9c179e"
             ],
             [
              0.4444444444444444,
              "#bd3786"
             ],
             [
              0.5555555555555556,
              "#d8576b"
             ],
             [
              0.6666666666666666,
              "#ed7953"
             ],
             [
              0.7777777777777778,
              "#fb9f3a"
             ],
             [
              0.8888888888888888,
              "#fdca26"
             ],
             [
              1,
              "#f0f921"
             ]
            ],
            "type": "histogram2d"
           }
          ],
          "histogram2dcontour": [
           {
            "colorbar": {
             "outlinewidth": 0,
             "ticks": ""
            },
            "colorscale": [
             [
              0,
              "#0d0887"
             ],
             [
              0.1111111111111111,
              "#46039f"
             ],
             [
              0.2222222222222222,
              "#7201a8"
             ],
             [
              0.3333333333333333,
              "#9c179e"
             ],
             [
              0.4444444444444444,
              "#bd3786"
             ],
             [
              0.5555555555555556,
              "#d8576b"
             ],
             [
              0.6666666666666666,
              "#ed7953"
             ],
             [
              0.7777777777777778,
              "#fb9f3a"
             ],
             [
              0.8888888888888888,
              "#fdca26"
             ],
             [
              1,
              "#f0f921"
             ]
            ],
            "type": "histogram2dcontour"
           }
          ],
          "mesh3d": [
           {
            "colorbar": {
             "outlinewidth": 0,
             "ticks": ""
            },
            "type": "mesh3d"
           }
          ],
          "parcoords": [
           {
            "line": {
             "colorbar": {
              "outlinewidth": 0,
              "ticks": ""
             }
            },
            "type": "parcoords"
           }
          ],
          "pie": [
           {
            "automargin": true,
            "type": "pie"
           }
          ],
          "scatter": [
           {
            "marker": {
             "colorbar": {
              "outlinewidth": 0,
              "ticks": ""
             }
            },
            "type": "scatter"
           }
          ],
          "scatter3d": [
           {
            "line": {
             "colorbar": {
              "outlinewidth": 0,
              "ticks": ""
             }
            },
            "marker": {
             "colorbar": {
              "outlinewidth": 0,
              "ticks": ""
             }
            },
            "type": "scatter3d"
           }
          ],
          "scattercarpet": [
           {
            "marker": {
             "colorbar": {
              "outlinewidth": 0,
              "ticks": ""
             }
            },
            "type": "scattercarpet"
           }
          ],
          "scattergeo": [
           {
            "marker": {
             "colorbar": {
              "outlinewidth": 0,
              "ticks": ""
             }
            },
            "type": "scattergeo"
           }
          ],
          "scattergl": [
           {
            "marker": {
             "colorbar": {
              "outlinewidth": 0,
              "ticks": ""
             }
            },
            "type": "scattergl"
           }
          ],
          "scattermapbox": [
           {
            "marker": {
             "colorbar": {
              "outlinewidth": 0,
              "ticks": ""
             }
            },
            "type": "scattermapbox"
           }
          ],
          "scatterpolar": [
           {
            "marker": {
             "colorbar": {
              "outlinewidth": 0,
              "ticks": ""
             }
            },
            "type": "scatterpolar"
           }
          ],
          "scatterpolargl": [
           {
            "marker": {
             "colorbar": {
              "outlinewidth": 0,
              "ticks": ""
             }
            },
            "type": "scatterpolargl"
           }
          ],
          "scatterternary": [
           {
            "marker": {
             "colorbar": {
              "outlinewidth": 0,
              "ticks": ""
             }
            },
            "type": "scatterternary"
           }
          ],
          "surface": [
           {
            "colorbar": {
             "outlinewidth": 0,
             "ticks": ""
            },
            "colorscale": [
             [
              0,
              "#0d0887"
             ],
             [
              0.1111111111111111,
              "#46039f"
             ],
             [
              0.2222222222222222,
              "#7201a8"
             ],
             [
              0.3333333333333333,
              "#9c179e"
             ],
             [
              0.4444444444444444,
              "#bd3786"
             ],
             [
              0.5555555555555556,
              "#d8576b"
             ],
             [
              0.6666666666666666,
              "#ed7953"
             ],
             [
              0.7777777777777778,
              "#fb9f3a"
             ],
             [
              0.8888888888888888,
              "#fdca26"
             ],
             [
              1,
              "#f0f921"
             ]
            ],
            "type": "surface"
           }
          ],
          "table": [
           {
            "cells": {
             "fill": {
              "color": "#EBF0F8"
             },
             "line": {
              "color": "white"
             }
            },
            "header": {
             "fill": {
              "color": "#C8D4E3"
             },
             "line": {
              "color": "white"
             }
            },
            "type": "table"
           }
          ]
         },
         "layout": {
          "annotationdefaults": {
           "arrowcolor": "#2a3f5f",
           "arrowhead": 0,
           "arrowwidth": 1
          },
          "autotypenumbers": "strict",
          "coloraxis": {
           "colorbar": {
            "outlinewidth": 0,
            "ticks": ""
           }
          },
          "colorscale": {
           "diverging": [
            [
             0,
             "#8e0152"
            ],
            [
             0.1,
             "#c51b7d"
            ],
            [
             0.2,
             "#de77ae"
            ],
            [
             0.3,
             "#f1b6da"
            ],
            [
             0.4,
             "#fde0ef"
            ],
            [
             0.5,
             "#f7f7f7"
            ],
            [
             0.6,
             "#e6f5d0"
            ],
            [
             0.7,
             "#b8e186"
            ],
            [
             0.8,
             "#7fbc41"
            ],
            [
             0.9,
             "#4d9221"
            ],
            [
             1,
             "#276419"
            ]
           ],
           "sequential": [
            [
             0,
             "#0d0887"
            ],
            [
             0.1111111111111111,
             "#46039f"
            ],
            [
             0.2222222222222222,
             "#7201a8"
            ],
            [
             0.3333333333333333,
             "#9c179e"
            ],
            [
             0.4444444444444444,
             "#bd3786"
            ],
            [
             0.5555555555555556,
             "#d8576b"
            ],
            [
             0.6666666666666666,
             "#ed7953"
            ],
            [
             0.7777777777777778,
             "#fb9f3a"
            ],
            [
             0.8888888888888888,
             "#fdca26"
            ],
            [
             1,
             "#f0f921"
            ]
           ],
           "sequentialminus": [
            [
             0,
             "#0d0887"
            ],
            [
             0.1111111111111111,
             "#46039f"
            ],
            [
             0.2222222222222222,
             "#7201a8"
            ],
            [
             0.3333333333333333,
             "#9c179e"
            ],
            [
             0.4444444444444444,
             "#bd3786"
            ],
            [
             0.5555555555555556,
             "#d8576b"
            ],
            [
             0.6666666666666666,
             "#ed7953"
            ],
            [
             0.7777777777777778,
             "#fb9f3a"
            ],
            [
             0.8888888888888888,
             "#fdca26"
            ],
            [
             1,
             "#f0f921"
            ]
           ]
          },
          "colorway": [
           "#636efa",
           "#EF553B",
           "#00cc96",
           "#ab63fa",
           "#FFA15A",
           "#19d3f3",
           "#FF6692",
           "#B6E880",
           "#FF97FF",
           "#FECB52"
          ],
          "font": {
           "color": "#2a3f5f"
          },
          "geo": {
           "bgcolor": "white",
           "lakecolor": "white",
           "landcolor": "#E5ECF6",
           "showlakes": true,
           "showland": true,
           "subunitcolor": "white"
          },
          "hoverlabel": {
           "align": "left"
          },
          "hovermode": "closest",
          "mapbox": {
           "style": "light"
          },
          "paper_bgcolor": "white",
          "plot_bgcolor": "#E5ECF6",
          "polar": {
           "angularaxis": {
            "gridcolor": "white",
            "linecolor": "white",
            "ticks": ""
           },
           "bgcolor": "#E5ECF6",
           "radialaxis": {
            "gridcolor": "white",
            "linecolor": "white",
            "ticks": ""
           }
          },
          "scene": {
           "xaxis": {
            "backgroundcolor": "#E5ECF6",
            "gridcolor": "white",
            "gridwidth": 2,
            "linecolor": "white",
            "showbackground": true,
            "ticks": "",
            "zerolinecolor": "white"
           },
           "yaxis": {
            "backgroundcolor": "#E5ECF6",
            "gridcolor": "white",
            "gridwidth": 2,
            "linecolor": "white",
            "showbackground": true,
            "ticks": "",
            "zerolinecolor": "white"
           },
           "zaxis": {
            "backgroundcolor": "#E5ECF6",
            "gridcolor": "white",
            "gridwidth": 2,
            "linecolor": "white",
            "showbackground": true,
            "ticks": "",
            "zerolinecolor": "white"
           }
          },
          "shapedefaults": {
           "line": {
            "color": "#2a3f5f"
           }
          },
          "ternary": {
           "aaxis": {
            "gridcolor": "white",
            "linecolor": "white",
            "ticks": ""
           },
           "baxis": {
            "gridcolor": "white",
            "linecolor": "white",
            "ticks": ""
           },
           "bgcolor": "#E5ECF6",
           "caxis": {
            "gridcolor": "white",
            "linecolor": "white",
            "ticks": ""
           }
          },
          "title": {
           "x": 0.05
          },
          "xaxis": {
           "automargin": true,
           "gridcolor": "white",
           "linecolor": "white",
           "ticks": "",
           "title": {
            "standoff": 15
           },
           "zerolinecolor": "white",
           "zerolinewidth": 2
          },
          "yaxis": {
           "automargin": true,
           "gridcolor": "white",
           "linecolor": "white",
           "ticks": "",
           "title": {
            "standoff": 15
           },
           "zerolinecolor": "white",
           "zerolinewidth": 2
          }
         }
        },
        "title": {
         "text": "Title:Naive Method vs BAAFFM"
        },
        "xaxis": {
         "anchor": "y",
         "domain": [
          0,
          0.94
         ]
        },
        "yaxis": {
         "anchor": "x",
         "domain": [
          0,
          1
         ],
         "title": {
          "text": "DD in Years"
         }
        },
        "yaxis2": {
         "anchor": "x",
         "overlaying": "y",
         "side": "right"
        }
       }
      },
      "text/html": [
       "<div>                            <div id=\"6db37ee8-9984-409b-9615-d1ebd1096c9a\" class=\"plotly-graph-div\" style=\"height:525px; width:100%;\"></div>            <script type=\"text/javascript\">                require([\"plotly\"], function(Plotly) {                    window.PLOTLYENV=window.PLOTLYENV || {};                                    if (document.getElementById(\"6db37ee8-9984-409b-9615-d1ebd1096c9a\")) {                    Plotly.newPlot(                        \"6db37ee8-9984-409b-9615-d1ebd1096c9a\",                        [{\"name\":\"dd_naive_0.05_0.25_75%\",\"x\":[1971,1972,1973,1974,1975,1976,1977,1978,1979,1980,1981,1982,1983,1984,1985,1986,1987,1988,1989,1990,1991,1992,1993,1994,1995,1996,1997,1998,1999,2000,2001,2002,2003,2004,2005,2006,2007,2008,2009,2010,2011,2012,2013,2014,2015,2016,2017,2018,2019,2020],\"y\":[0.42099928784767404,0.35481427272001187,0.5530062856745313,0.5937532279379057,0.46356080982929004,0.391179011198754,0.41898192585477856,0.6156058208686586,0.8569215412253737,1.1256367790320132,1.1710413963157755,0.9987245535738932,0.7138601273158551,0.8792255519635988,0.7326746685163772,0.6566012460803393,0.5137961759523458,0.313670310400813,0.5632051874544124,0.5326404944856639,0.36878433272387323,0.24299116026526651,0.19073273315185238,0.1898937369393071,0.3554112584953962,0.36060583383702394,0.39087951957616907,0.37890641238190315,0.25951580342139413,0.34983261685923167,0.2981156500974087,0.09057867023122068,0.06879914525093392,0.08964266516000295,0.25466192482849376,0.42204645765222465,0.5226881189274737,0.2889442195410624,-0.039874808862208726,-0.0069481446671745975,0.07701186911014293,0.024390869053762334,0.049153941790324764,0.06350459560638079,0.03305005795873797,0.023084308750687316,0.04600252361667966,0.1596613762511622,0.21122519680335192,0.16016086803202217],\"type\":\"scatter\",\"xaxis\":\"x\",\"yaxis\":\"y\"},{\"name\":\"dd_naive_0.05_0.5_75%\",\"x\":[1971,1972,1973,1974,1975,1976,1977,1978,1979,1980,1981,1982,1983,1984,1985,1986,1987,1988,1989,1990,1991,1992,1993,1994,1995,1996,1997,1998,1999,2000,2001,2002,2003,2004,2005,2006,2007,2008,2009,2010,2011,2012,2013,2014,2015,2016,2017,2018,2019,2020],\"y\":[0.22322876867138147,0.19678523963497885,0.34749436304062287,0.3246398367765289,0.2211327580154859,0.1885775299396285,0.2332645414624543,0.3840708757212285,0.5220584212096366,0.7074251306001327,0.7055385342347136,0.6110186378256178,0.4260838428350141,0.5215750358712198,0.4286481692186289,0.38845413127973377,0.26866721306599783,0.08589563969889716,0.27086177972156683,0.2554761563281191,0.13199966947900826,0.0693880687316736,0.02374063199302214,0.034941011715762714,0.1380001034392366,0.15640839171561705,0.17379421267517467,0.1664479111291627,0.0775372116013914,0.14474680949278992,0.08485270261689494,-0.016426879488512226,-0.016387732592962806,-0.005235934614159232,0.11055395889889844,0.22982371022571266,0.30423134639839944,0.13258979505401183,-0.12362290245670897,-0.09026065211295473,-0.009532741186069083,-0.05462516988095316,-0.025282381693287,-0.014324190389291324,-0.03306152635504953,-0.040140770326323336,-0.023248589710266436,0.06321877532989852,0.08679470704765704,0.05929022966480694],\"type\":\"scatter\",\"xaxis\":\"x\",\"yaxis\":\"y\"},{\"name\":\"dd_naive_0_0.25_75%\",\"x\":[1971,1972,1973,1974,1975,1976,1977,1978,1979,1980,1981,1982,1983,1984,1985,1986,1987,1988,1989,1990,1991,1992,1993,1994,1995,1996,1997,1998,1999,2000,2001,2002,2003,2004,2005,2006,2007,2008,2009,2010,2011,2012,2013,2014,2015,2016,2017,2018,2019,2020],\"y\":[0.7991895072892162,0.765680710076317,1.2581131765606397,1.0844291754114987,0.812850569778547,0.7289438840209117,0.8841200949780634,1.3514587443284718,1.7284359723836467,2.256744784383633,2.0633798335584386,1.9577509536121904,1.3620214860523587,1.5763461830531718,1.4379799587625341,1.281062598374186,0.8939470406778841,0.4846781729203703,0.8877992831468071,0.8788940726513667,0.5854074534083155,0.4272312096010726,0.3349441876025677,0.34546878993721974,0.5894123061402712,0.6325436810867845,0.6697681283325981,0.6423955866729372,0.44552766747245703,0.5955133160050716,0.47917242837798263,0.21131394569289003,0.1806753298686817,0.20897646645399995,0.5057131014382931,0.8453343906669332,1.0864776973580075,0.577630806159268,0.0009428036332977444,0.04583555630683203,0.20367044626259193,0.1004517006031702,0.14824824625318303,0.181299158630016,0.12823898076786103,0.1034617514181901,0.14981095234866054,0.3886356576958736,0.4536612672910136,0.3836030347056349],\"type\":\"scatter\",\"xaxis\":\"x\",\"yaxis\":\"y\"},{\"name\":\"dd_method_2_75%\",\"x\":[1971,1972,1973,1974,1975,1976,1977,1978,1979,1980,1981,1982,1983,1984,1985,1986,1987,1988,1989,1990,1991,1992,1993,1994,1995,1996,1997,1998,1999,2000,2001,2002,2003,2004,2005,2006,2007,2008,2009,2010,2011,2012,2013,2014,2015,2016,2017,2018,2019,2020],\"y\":[3.9069356813258898,4.569497811806809,5.056610161985411,3.3272451058611403,2.731013188650737,3.3082758297068313,4.571241847564681,5.093327314037266,3.7473548130828815,3.7796071972146015,2.5770278974312557,3.494558906627318,3.6402534888649463,3.749441963185753,4.069562265057812,3.951190753366713,2.988572986750862,1.7769396385672844,2.306084720353433,2.370127244518359,1.887847177038533,1.9387841472635303,1.8005576683143312,2.1269967219688297,2.3131815413616095,2.5155132454223827,2.7086514088139784,2.698097811738366,2.1995233551211273,2.190769117802258,1.7260100217347805,2.0874995073008202,2.1398089839328596,2.652728697473373,3.5287975713053332,3.857259552113585,4.312859458164699,3.2892322760045953,1.3917805056421177,1.371113616899416,2.320973533716151,1.9235716047913982,2.4573040139679585,2.473543993460394,2.436241543308779,2.3171286401669904,2.393361848200601,3.5405634257641037,3.655053678738407,3.309974983581575],\"type\":\"scatter\",\"xaxis\":\"x\",\"yaxis\":\"y\"}],                        {\"template\":{\"data\":{\"bar\":[{\"error_x\":{\"color\":\"#2a3f5f\"},\"error_y\":{\"color\":\"#2a3f5f\"},\"marker\":{\"line\":{\"color\":\"#E5ECF6\",\"width\":0.5},\"pattern\":{\"fillmode\":\"overlay\",\"size\":10,\"solidity\":0.2}},\"type\":\"bar\"}],\"barpolar\":[{\"marker\":{\"line\":{\"color\":\"#E5ECF6\",\"width\":0.5},\"pattern\":{\"fillmode\":\"overlay\",\"size\":10,\"solidity\":0.2}},\"type\":\"barpolar\"}],\"carpet\":[{\"aaxis\":{\"endlinecolor\":\"#2a3f5f\",\"gridcolor\":\"white\",\"linecolor\":\"white\",\"minorgridcolor\":\"white\",\"startlinecolor\":\"#2a3f5f\"},\"baxis\":{\"endlinecolor\":\"#2a3f5f\",\"gridcolor\":\"white\",\"linecolor\":\"white\",\"minorgridcolor\":\"white\",\"startlinecolor\":\"#2a3f5f\"},\"type\":\"carpet\"}],\"choropleth\":[{\"colorbar\":{\"outlinewidth\":0,\"ticks\":\"\"},\"type\":\"choropleth\"}],\"contour\":[{\"colorbar\":{\"outlinewidth\":0,\"ticks\":\"\"},\"colorscale\":[[0.0,\"#0d0887\"],[0.1111111111111111,\"#46039f\"],[0.2222222222222222,\"#7201a8\"],[0.3333333333333333,\"#9c179e\"],[0.4444444444444444,\"#bd3786\"],[0.5555555555555556,\"#d8576b\"],[0.6666666666666666,\"#ed7953\"],[0.7777777777777778,\"#fb9f3a\"],[0.8888888888888888,\"#fdca26\"],[1.0,\"#f0f921\"]],\"type\":\"contour\"}],\"contourcarpet\":[{\"colorbar\":{\"outlinewidth\":0,\"ticks\":\"\"},\"type\":\"contourcarpet\"}],\"heatmap\":[{\"colorbar\":{\"outlinewidth\":0,\"ticks\":\"\"},\"colorscale\":[[0.0,\"#0d0887\"],[0.1111111111111111,\"#46039f\"],[0.2222222222222222,\"#7201a8\"],[0.3333333333333333,\"#9c179e\"],[0.4444444444444444,\"#bd3786\"],[0.5555555555555556,\"#d8576b\"],[0.6666666666666666,\"#ed7953\"],[0.7777777777777778,\"#fb9f3a\"],[0.8888888888888888,\"#fdca26\"],[1.0,\"#f0f921\"]],\"type\":\"heatmap\"}],\"heatmapgl\":[{\"colorbar\":{\"outlinewidth\":0,\"ticks\":\"\"},\"colorscale\":[[0.0,\"#0d0887\"],[0.1111111111111111,\"#46039f\"],[0.2222222222222222,\"#7201a8\"],[0.3333333333333333,\"#9c179e\"],[0.4444444444444444,\"#bd3786\"],[0.5555555555555556,\"#d8576b\"],[0.6666666666666666,\"#ed7953\"],[0.7777777777777778,\"#fb9f3a\"],[0.8888888888888888,\"#fdca26\"],[1.0,\"#f0f921\"]],\"type\":\"heatmapgl\"}],\"histogram\":[{\"marker\":{\"pattern\":{\"fillmode\":\"overlay\",\"size\":10,\"solidity\":0.2}},\"type\":\"histogram\"}],\"histogram2d\":[{\"colorbar\":{\"outlinewidth\":0,\"ticks\":\"\"},\"colorscale\":[[0.0,\"#0d0887\"],[0.1111111111111111,\"#46039f\"],[0.2222222222222222,\"#7201a8\"],[0.3333333333333333,\"#9c179e\"],[0.4444444444444444,\"#bd3786\"],[0.5555555555555556,\"#d8576b\"],[0.6666666666666666,\"#ed7953\"],[0.7777777777777778,\"#fb9f3a\"],[0.8888888888888888,\"#fdca26\"],[1.0,\"#f0f921\"]],\"type\":\"histogram2d\"}],\"histogram2dcontour\":[{\"colorbar\":{\"outlinewidth\":0,\"ticks\":\"\"},\"colorscale\":[[0.0,\"#0d0887\"],[0.1111111111111111,\"#46039f\"],[0.2222222222222222,\"#7201a8\"],[0.3333333333333333,\"#9c179e\"],[0.4444444444444444,\"#bd3786\"],[0.5555555555555556,\"#d8576b\"],[0.6666666666666666,\"#ed7953\"],[0.7777777777777778,\"#fb9f3a\"],[0.8888888888888888,\"#fdca26\"],[1.0,\"#f0f921\"]],\"type\":\"histogram2dcontour\"}],\"mesh3d\":[{\"colorbar\":{\"outlinewidth\":0,\"ticks\":\"\"},\"type\":\"mesh3d\"}],\"parcoords\":[{\"line\":{\"colorbar\":{\"outlinewidth\":0,\"ticks\":\"\"}},\"type\":\"parcoords\"}],\"pie\":[{\"automargin\":true,\"type\":\"pie\"}],\"scatter\":[{\"marker\":{\"colorbar\":{\"outlinewidth\":0,\"ticks\":\"\"}},\"type\":\"scatter\"}],\"scatter3d\":[{\"line\":{\"colorbar\":{\"outlinewidth\":0,\"ticks\":\"\"}},\"marker\":{\"colorbar\":{\"outlinewidth\":0,\"ticks\":\"\"}},\"type\":\"scatter3d\"}],\"scattercarpet\":[{\"marker\":{\"colorbar\":{\"outlinewidth\":0,\"ticks\":\"\"}},\"type\":\"scattercarpet\"}],\"scattergeo\":[{\"marker\":{\"colorbar\":{\"outlinewidth\":0,\"ticks\":\"\"}},\"type\":\"scattergeo\"}],\"scattergl\":[{\"marker\":{\"colorbar\":{\"outlinewidth\":0,\"ticks\":\"\"}},\"type\":\"scattergl\"}],\"scattermapbox\":[{\"marker\":{\"colorbar\":{\"outlinewidth\":0,\"ticks\":\"\"}},\"type\":\"scattermapbox\"}],\"scatterpolar\":[{\"marker\":{\"colorbar\":{\"outlinewidth\":0,\"ticks\":\"\"}},\"type\":\"scatterpolar\"}],\"scatterpolargl\":[{\"marker\":{\"colorbar\":{\"outlinewidth\":0,\"ticks\":\"\"}},\"type\":\"scatterpolargl\"}],\"scatterternary\":[{\"marker\":{\"colorbar\":{\"outlinewidth\":0,\"ticks\":\"\"}},\"type\":\"scatterternary\"}],\"surface\":[{\"colorbar\":{\"outlinewidth\":0,\"ticks\":\"\"},\"colorscale\":[[0.0,\"#0d0887\"],[0.1111111111111111,\"#46039f\"],[0.2222222222222222,\"#7201a8\"],[0.3333333333333333,\"#9c179e\"],[0.4444444444444444,\"#bd3786\"],[0.5555555555555556,\"#d8576b\"],[0.6666666666666666,\"#ed7953\"],[0.7777777777777778,\"#fb9f3a\"],[0.8888888888888888,\"#fdca26\"],[1.0,\"#f0f921\"]],\"type\":\"surface\"}],\"table\":[{\"cells\":{\"fill\":{\"color\":\"#EBF0F8\"},\"line\":{\"color\":\"white\"}},\"header\":{\"fill\":{\"color\":\"#C8D4E3\"},\"line\":{\"color\":\"white\"}},\"type\":\"table\"}]},\"layout\":{\"annotationdefaults\":{\"arrowcolor\":\"#2a3f5f\",\"arrowhead\":0,\"arrowwidth\":1},\"autotypenumbers\":\"strict\",\"coloraxis\":{\"colorbar\":{\"outlinewidth\":0,\"ticks\":\"\"}},\"colorscale\":{\"diverging\":[[0,\"#8e0152\"],[0.1,\"#c51b7d\"],[0.2,\"#de77ae\"],[0.3,\"#f1b6da\"],[0.4,\"#fde0ef\"],[0.5,\"#f7f7f7\"],[0.6,\"#e6f5d0\"],[0.7,\"#b8e186\"],[0.8,\"#7fbc41\"],[0.9,\"#4d9221\"],[1,\"#276419\"]],\"sequential\":[[0.0,\"#0d0887\"],[0.1111111111111111,\"#46039f\"],[0.2222222222222222,\"#7201a8\"],[0.3333333333333333,\"#9c179e\"],[0.4444444444444444,\"#bd3786\"],[0.5555555555555556,\"#d8576b\"],[0.6666666666666666,\"#ed7953\"],[0.7777777777777778,\"#fb9f3a\"],[0.8888888888888888,\"#fdca26\"],[1.0,\"#f0f921\"]],\"sequentialminus\":[[0.0,\"#0d0887\"],[0.1111111111111111,\"#46039f\"],[0.2222222222222222,\"#7201a8\"],[0.3333333333333333,\"#9c179e\"],[0.4444444444444444,\"#bd3786\"],[0.5555555555555556,\"#d8576b\"],[0.6666666666666666,\"#ed7953\"],[0.7777777777777778,\"#fb9f3a\"],[0.8888888888888888,\"#fdca26\"],[1.0,\"#f0f921\"]]},\"colorway\":[\"#636efa\",\"#EF553B\",\"#00cc96\",\"#ab63fa\",\"#FFA15A\",\"#19d3f3\",\"#FF6692\",\"#B6E880\",\"#FF97FF\",\"#FECB52\"],\"font\":{\"color\":\"#2a3f5f\"},\"geo\":{\"bgcolor\":\"white\",\"lakecolor\":\"white\",\"landcolor\":\"#E5ECF6\",\"showlakes\":true,\"showland\":true,\"subunitcolor\":\"white\"},\"hoverlabel\":{\"align\":\"left\"},\"hovermode\":\"closest\",\"mapbox\":{\"style\":\"light\"},\"paper_bgcolor\":\"white\",\"plot_bgcolor\":\"#E5ECF6\",\"polar\":{\"angularaxis\":{\"gridcolor\":\"white\",\"linecolor\":\"white\",\"ticks\":\"\"},\"bgcolor\":\"#E5ECF6\",\"radialaxis\":{\"gridcolor\":\"white\",\"linecolor\":\"white\",\"ticks\":\"\"}},\"scene\":{\"xaxis\":{\"backgroundcolor\":\"#E5ECF6\",\"gridcolor\":\"white\",\"gridwidth\":2,\"linecolor\":\"white\",\"showbackground\":true,\"ticks\":\"\",\"zerolinecolor\":\"white\"},\"yaxis\":{\"backgroundcolor\":\"#E5ECF6\",\"gridcolor\":\"white\",\"gridwidth\":2,\"linecolor\":\"white\",\"showbackground\":true,\"ticks\":\"\",\"zerolinecolor\":\"white\"},\"zaxis\":{\"backgroundcolor\":\"#E5ECF6\",\"gridcolor\":\"white\",\"gridwidth\":2,\"linecolor\":\"white\",\"showbackground\":true,\"ticks\":\"\",\"zerolinecolor\":\"white\"}},\"shapedefaults\":{\"line\":{\"color\":\"#2a3f5f\"}},\"ternary\":{\"aaxis\":{\"gridcolor\":\"white\",\"linecolor\":\"white\",\"ticks\":\"\"},\"baxis\":{\"gridcolor\":\"white\",\"linecolor\":\"white\",\"ticks\":\"\"},\"bgcolor\":\"#E5ECF6\",\"caxis\":{\"gridcolor\":\"white\",\"linecolor\":\"white\",\"ticks\":\"\"}},\"title\":{\"x\":0.05},\"xaxis\":{\"automargin\":true,\"gridcolor\":\"white\",\"linecolor\":\"white\",\"ticks\":\"\",\"title\":{\"standoff\":15},\"zerolinecolor\":\"white\",\"zerolinewidth\":2},\"yaxis\":{\"automargin\":true,\"gridcolor\":\"white\",\"linecolor\":\"white\",\"ticks\":\"\",\"title\":{\"standoff\":15},\"zerolinecolor\":\"white\",\"zerolinewidth\":2}}},\"xaxis\":{\"anchor\":\"y\",\"domain\":[0.0,0.94]},\"yaxis\":{\"anchor\":\"x\",\"domain\":[0.0,1.0],\"title\":{\"text\":\"DD in Years\"}},\"yaxis2\":{\"anchor\":\"x\",\"overlaying\":\"y\",\"side\":\"right\"},\"title\":{\"text\":\"Title:Naive Method vs BAAFFM\"},\"barmode\":\"relative\",\"showlegend\":true},                        {\"responsive\": true}                    ).then(function(){\n",
       "                            \n",
       "var gd = document.getElementById('6db37ee8-9984-409b-9615-d1ebd1096c9a');\n",
       "var x = new MutationObserver(function (mutations, observer) {{\n",
       "        var display = window.getComputedStyle(gd).display;\n",
       "        if (!display || display === 'none') {{\n",
       "            console.log([gd, 'removed!']);\n",
       "            Plotly.purge(gd);\n",
       "            observer.disconnect();\n",
       "        }}\n",
       "}});\n",
       "\n",
       "// Listen for the removal of the full notebook cells\n",
       "var notebookContainer = gd.closest('#notebook-container');\n",
       "if (notebookContainer) {{\n",
       "    x.observe(notebookContainer, {childList: true});\n",
       "}}\n",
       "\n",
       "// Listen for the clearing of the current output cell\n",
       "var outputEl = gd.closest('.output');\n",
       "if (outputEl) {{\n",
       "    x.observe(outputEl, {childList: true});\n",
       "}}\n",
       "\n",
       "                        })                };                });            </script>        </div>"
      ]
     },
     "metadata": {},
     "output_type": "display_data"
    },
    {
     "data": {
      "application/vnd.plotly.v1+json": {
       "config": {
        "plotlyServerURL": "https://plot.ly"
       },
       "data": [
        {
         "name": "dd_naive_0.05_0.25_75%",
         "type": "scatter",
         "x": [
          1971,
          1972,
          1973,
          1974,
          1975,
          1976,
          1977,
          1978,
          1979,
          1980,
          1981,
          1982,
          1983,
          1984,
          1985,
          1986,
          1987,
          1988,
          1989,
          1990,
          1991,
          1992,
          1993,
          1994,
          1995,
          1996,
          1997,
          1998,
          1999,
          2000,
          2001,
          2002,
          2003,
          2004,
          2005,
          2006,
          2007,
          2008,
          2009,
          2010,
          2011,
          2012,
          2013,
          2014,
          2015,
          2016,
          2017,
          2018,
          2019,
          2020
         ],
         "xaxis": "x",
         "y": [
          0.42099928784767404,
          0.35481427272001187,
          0.5530062856745313,
          0.5937532279379057,
          0.46356080982929004,
          0.391179011198754,
          0.41898192585477856,
          0.6156058208686586,
          0.8569215412253737,
          1.1256367790320132,
          1.1710413963157755,
          0.9987245535738932,
          0.7138601273158551,
          0.8792255519635988,
          0.7326746685163772,
          0.6566012460803393,
          0.5137961759523458,
          0.313670310400813,
          0.5632051874544124,
          0.5326404944856639,
          0.36878433272387323,
          0.24299116026526651,
          0.19073273315185238,
          0.1898937369393071,
          0.3554112584953962,
          0.36060583383702394,
          0.39087951957616907,
          0.37890641238190315,
          0.25951580342139413,
          0.34983261685923167,
          0.2981156500974087,
          0.09057867023122068,
          0.06879914525093392,
          0.08964266516000295,
          0.25466192482849376,
          0.42204645765222465,
          0.5226881189274737,
          0.2889442195410624,
          -0.039874808862208726,
          -0.0069481446671745975,
          0.07701186911014293,
          0.024390869053762334,
          0.049153941790324764,
          0.06350459560638079,
          0.03305005795873797,
          0.023084308750687316,
          0.04600252361667966,
          0.1596613762511622,
          0.21122519680335192,
          0.16016086803202217
         ],
         "yaxis": "y"
        },
        {
         "name": "dd_naive_0.05_0.5_75%",
         "type": "scatter",
         "x": [
          1971,
          1972,
          1973,
          1974,
          1975,
          1976,
          1977,
          1978,
          1979,
          1980,
          1981,
          1982,
          1983,
          1984,
          1985,
          1986,
          1987,
          1988,
          1989,
          1990,
          1991,
          1992,
          1993,
          1994,
          1995,
          1996,
          1997,
          1998,
          1999,
          2000,
          2001,
          2002,
          2003,
          2004,
          2005,
          2006,
          2007,
          2008,
          2009,
          2010,
          2011,
          2012,
          2013,
          2014,
          2015,
          2016,
          2017,
          2018,
          2019,
          2020
         ],
         "xaxis": "x",
         "y": [
          0.22322876867138147,
          0.19678523963497885,
          0.34749436304062287,
          0.3246398367765289,
          0.2211327580154859,
          0.1885775299396285,
          0.2332645414624543,
          0.3840708757212285,
          0.5220584212096366,
          0.7074251306001327,
          0.7055385342347136,
          0.6110186378256178,
          0.4260838428350141,
          0.5215750358712198,
          0.4286481692186289,
          0.38845413127973377,
          0.26866721306599783,
          0.08589563969889716,
          0.27086177972156683,
          0.2554761563281191,
          0.13199966947900826,
          0.0693880687316736,
          0.02374063199302214,
          0.034941011715762714,
          0.1380001034392366,
          0.15640839171561705,
          0.17379421267517467,
          0.1664479111291627,
          0.0775372116013914,
          0.14474680949278992,
          0.08485270261689494,
          -0.016426879488512226,
          -0.016387732592962806,
          -0.005235934614159232,
          0.11055395889889844,
          0.22982371022571266,
          0.30423134639839944,
          0.13258979505401183,
          -0.12362290245670897,
          -0.09026065211295473,
          -0.009532741186069083,
          -0.05462516988095316,
          -0.025282381693287,
          -0.014324190389291324,
          -0.03306152635504953,
          -0.040140770326323336,
          -0.023248589710266436,
          0.06321877532989852,
          0.08679470704765704,
          0.05929022966480694
         ],
         "yaxis": "y"
        },
        {
         "name": "dd_naive_0_0.25_75%",
         "type": "scatter",
         "x": [
          1971,
          1972,
          1973,
          1974,
          1975,
          1976,
          1977,
          1978,
          1979,
          1980,
          1981,
          1982,
          1983,
          1984,
          1985,
          1986,
          1987,
          1988,
          1989,
          1990,
          1991,
          1992,
          1993,
          1994,
          1995,
          1996,
          1997,
          1998,
          1999,
          2000,
          2001,
          2002,
          2003,
          2004,
          2005,
          2006,
          2007,
          2008,
          2009,
          2010,
          2011,
          2012,
          2013,
          2014,
          2015,
          2016,
          2017,
          2018,
          2019,
          2020
         ],
         "xaxis": "x",
         "y": [
          0.7991895072892162,
          0.765680710076317,
          1.2581131765606397,
          1.0844291754114987,
          0.812850569778547,
          0.7289438840209117,
          0.8841200949780634,
          1.3514587443284718,
          1.7284359723836467,
          2.256744784383633,
          2.0633798335584386,
          1.9577509536121904,
          1.3620214860523587,
          1.5763461830531718,
          1.4379799587625341,
          1.281062598374186,
          0.8939470406778841,
          0.4846781729203703,
          0.8877992831468071,
          0.8788940726513667,
          0.5854074534083155,
          0.4272312096010726,
          0.3349441876025677,
          0.34546878993721974,
          0.5894123061402712,
          0.6325436810867845,
          0.6697681283325981,
          0.6423955866729372,
          0.44552766747245703,
          0.5955133160050716,
          0.47917242837798263,
          0.21131394569289003,
          0.1806753298686817,
          0.20897646645399995,
          0.5057131014382931,
          0.8453343906669332,
          1.0864776973580075,
          0.577630806159268,
          0.0009428036332977444,
          0.04583555630683203,
          0.20367044626259193,
          0.1004517006031702,
          0.14824824625318303,
          0.181299158630016,
          0.12823898076786103,
          0.1034617514181901,
          0.14981095234866054,
          0.3886356576958736,
          0.4536612672910136,
          0.3836030347056349
         ],
         "yaxis": "y"
        },
        {
         "name": "dd_method_2_75%",
         "type": "scatter",
         "x": [
          1971,
          1972,
          1973,
          1974,
          1975,
          1976,
          1977,
          1978,
          1979,
          1980,
          1981,
          1982,
          1983,
          1984,
          1985,
          1986,
          1987,
          1988,
          1989,
          1990,
          1991,
          1992,
          1993,
          1994,
          1995,
          1996,
          1997,
          1998,
          1999,
          2000,
          2001,
          2002,
          2003,
          2004,
          2005,
          2006,
          2007,
          2008,
          2009,
          2010,
          2011,
          2012,
          2013,
          2014,
          2015,
          2016,
          2017,
          2018,
          2019,
          2020
         ],
         "xaxis": "x",
         "y": [
          3.9069356813258898,
          4.569497811806809,
          5.056610161985411,
          3.3272451058611403,
          2.731013188650737,
          3.3082758297068313,
          4.571241847564681,
          5.093327314037266,
          3.7473548130828815,
          3.7796071972146015,
          2.5770278974312557,
          3.494558906627318,
          3.6402534888649463,
          3.749441963185753,
          4.069562265057812,
          3.951190753366713,
          2.988572986750862,
          1.7769396385672844,
          2.306084720353433,
          2.370127244518359,
          1.887847177038533,
          1.9387841472635303,
          1.8005576683143312,
          2.1269967219688297,
          2.3131815413616095,
          2.5155132454223827,
          2.7086514088139784,
          2.698097811738366,
          2.1995233551211273,
          2.190769117802258,
          1.7260100217347805,
          2.0874995073008202,
          2.1398089839328596,
          2.652728697473373,
          3.5287975713053332,
          3.857259552113585,
          4.312859458164699,
          3.2892322760045953,
          1.3917805056421177,
          1.371113616899416,
          2.320973533716151,
          1.9235716047913982,
          2.4573040139679585,
          2.473543993460394,
          2.436241543308779,
          2.3171286401669904,
          2.393361848200601,
          3.5405634257641037,
          3.655053678738407,
          3.309974983581575
         ],
         "yaxis": "y"
        },
        {
         "name": "BAAFFM",
         "type": "scatter",
         "x": [
          1971,
          1972,
          1973,
          1974,
          1975,
          1976,
          1977,
          1978,
          1979,
          1980,
          1981,
          1982,
          1983,
          1984,
          1985,
          1986,
          1987,
          1988,
          1989,
          1990,
          1991,
          1992,
          1993,
          1994,
          1995,
          1996,
          1997,
          1998,
          1999,
          2000,
          2001,
          2002,
          2003,
          2004,
          2005,
          2006,
          2007,
          2008,
          2009,
          2010,
          2011,
          2012,
          2013,
          2014,
          2015,
          2016,
          2017,
          2018,
          2019,
          2020
         ],
         "xaxis": "x",
         "y": [
          3.9025000000000003,
          3.724166666666667,
          -0.4866666666666668,
          -1.0058333333333331,
          4.785833333333333,
          4.701666666666667,
          3.4316666666666666,
          1.5574999999999999,
          -0.5041666666666667,
          0.31249999999999994,
          -0.3341666666666668,
          3.855,
          4.4675,
          3.965,
          4.614166666666667,
          3.5858333333333334,
          3.918333333333333,
          3.2616666666666667,
          0.9608333333333334,
          2.2558333333333334,
          4.114166666666667,
          5.454999999999999,
          4.9075,
          4.4208333333333325,
          2.3641666666666663,
          2.7558333333333334,
          2.4025000000000003,
          1.8675,
          2.9008333333333334,
          2.1283333333333334,
          4.06,
          6.134999999999999,
          5.638333333333333,
          5.0441666666666665,
          2.8508333333333327,
          1.515,
          1.4633333333333336,
          5.519166666666667,
          7.135833333333334,
          5.863333333333333,
          5.5625,
          4.795000000000001,
          4.994166666666667,
          4.765,
          4.866666666666667,
          4.322499999999999,
          3.438333333333334,
          2.9683333333333333,
          2.2175,
          3.2291666666666665
         ],
         "yaxis": "y2"
        }
       ],
       "layout": {
        "barmode": "relative",
        "showlegend": true,
        "template": {
         "data": {
          "bar": [
           {
            "error_x": {
             "color": "#2a3f5f"
            },
            "error_y": {
             "color": "#2a3f5f"
            },
            "marker": {
             "line": {
              "color": "#E5ECF6",
              "width": 0.5
             },
             "pattern": {
              "fillmode": "overlay",
              "size": 10,
              "solidity": 0.2
             }
            },
            "type": "bar"
           }
          ],
          "barpolar": [
           {
            "marker": {
             "line": {
              "color": "#E5ECF6",
              "width": 0.5
             },
             "pattern": {
              "fillmode": "overlay",
              "size": 10,
              "solidity": 0.2
             }
            },
            "type": "barpolar"
           }
          ],
          "carpet": [
           {
            "aaxis": {
             "endlinecolor": "#2a3f5f",
             "gridcolor": "white",
             "linecolor": "white",
             "minorgridcolor": "white",
             "startlinecolor": "#2a3f5f"
            },
            "baxis": {
             "endlinecolor": "#2a3f5f",
             "gridcolor": "white",
             "linecolor": "white",
             "minorgridcolor": "white",
             "startlinecolor": "#2a3f5f"
            },
            "type": "carpet"
           }
          ],
          "choropleth": [
           {
            "colorbar": {
             "outlinewidth": 0,
             "ticks": ""
            },
            "type": "choropleth"
           }
          ],
          "contour": [
           {
            "colorbar": {
             "outlinewidth": 0,
             "ticks": ""
            },
            "colorscale": [
             [
              0,
              "#0d0887"
             ],
             [
              0.1111111111111111,
              "#46039f"
             ],
             [
              0.2222222222222222,
              "#7201a8"
             ],
             [
              0.3333333333333333,
              "#9c179e"
             ],
             [
              0.4444444444444444,
              "#bd3786"
             ],
             [
              0.5555555555555556,
              "#d8576b"
             ],
             [
              0.6666666666666666,
              "#ed7953"
             ],
             [
              0.7777777777777778,
              "#fb9f3a"
             ],
             [
              0.8888888888888888,
              "#fdca26"
             ],
             [
              1,
              "#f0f921"
             ]
            ],
            "type": "contour"
           }
          ],
          "contourcarpet": [
           {
            "colorbar": {
             "outlinewidth": 0,
             "ticks": ""
            },
            "type": "contourcarpet"
           }
          ],
          "heatmap": [
           {
            "colorbar": {
             "outlinewidth": 0,
             "ticks": ""
            },
            "colorscale": [
             [
              0,
              "#0d0887"
             ],
             [
              0.1111111111111111,
              "#46039f"
             ],
             [
              0.2222222222222222,
              "#7201a8"
             ],
             [
              0.3333333333333333,
              "#9c179e"
             ],
             [
              0.4444444444444444,
              "#bd3786"
             ],
             [
              0.5555555555555556,
              "#d8576b"
             ],
             [
              0.6666666666666666,
              "#ed7953"
             ],
             [
              0.7777777777777778,
              "#fb9f3a"
             ],
             [
              0.8888888888888888,
              "#fdca26"
             ],
             [
              1,
              "#f0f921"
             ]
            ],
            "type": "heatmap"
           }
          ],
          "heatmapgl": [
           {
            "colorbar": {
             "outlinewidth": 0,
             "ticks": ""
            },
            "colorscale": [
             [
              0,
              "#0d0887"
             ],
             [
              0.1111111111111111,
              "#46039f"
             ],
             [
              0.2222222222222222,
              "#7201a8"
             ],
             [
              0.3333333333333333,
              "#9c179e"
             ],
             [
              0.4444444444444444,
              "#bd3786"
             ],
             [
              0.5555555555555556,
              "#d8576b"
             ],
             [
              0.6666666666666666,
              "#ed7953"
             ],
             [
              0.7777777777777778,
              "#fb9f3a"
             ],
             [
              0.8888888888888888,
              "#fdca26"
             ],
             [
              1,
              "#f0f921"
             ]
            ],
            "type": "heatmapgl"
           }
          ],
          "histogram": [
           {
            "marker": {
             "pattern": {
              "fillmode": "overlay",
              "size": 10,
              "solidity": 0.2
             }
            },
            "type": "histogram"
           }
          ],
          "histogram2d": [
           {
            "colorbar": {
             "outlinewidth": 0,
             "ticks": ""
            },
            "colorscale": [
             [
              0,
              "#0d0887"
             ],
             [
              0.1111111111111111,
              "#46039f"
             ],
             [
              0.2222222222222222,
              "#7201a8"
             ],
             [
              0.3333333333333333,
              "#9c179e"
             ],
             [
              0.4444444444444444,
              "#bd3786"
             ],
             [
              0.5555555555555556,
              "#d8576b"
             ],
             [
              0.6666666666666666,
              "#ed7953"
             ],
             [
              0.7777777777777778,
              "#fb9f3a"
             ],
             [
              0.8888888888888888,
              "#fdca26"
             ],
             [
              1,
              "#f0f921"
             ]
            ],
            "type": "histogram2d"
           }
          ],
          "histogram2dcontour": [
           {
            "colorbar": {
             "outlinewidth": 0,
             "ticks": ""
            },
            "colorscale": [
             [
              0,
              "#0d0887"
             ],
             [
              0.1111111111111111,
              "#46039f"
             ],
             [
              0.2222222222222222,
              "#7201a8"
             ],
             [
              0.3333333333333333,
              "#9c179e"
             ],
             [
              0.4444444444444444,
              "#bd3786"
             ],
             [
              0.5555555555555556,
              "#d8576b"
             ],
             [
              0.6666666666666666,
              "#ed7953"
             ],
             [
              0.7777777777777778,
              "#fb9f3a"
             ],
             [
              0.8888888888888888,
              "#fdca26"
             ],
             [
              1,
              "#f0f921"
             ]
            ],
            "type": "histogram2dcontour"
           }
          ],
          "mesh3d": [
           {
            "colorbar": {
             "outlinewidth": 0,
             "ticks": ""
            },
            "type": "mesh3d"
           }
          ],
          "parcoords": [
           {
            "line": {
             "colorbar": {
              "outlinewidth": 0,
              "ticks": ""
             }
            },
            "type": "parcoords"
           }
          ],
          "pie": [
           {
            "automargin": true,
            "type": "pie"
           }
          ],
          "scatter": [
           {
            "marker": {
             "colorbar": {
              "outlinewidth": 0,
              "ticks": ""
             }
            },
            "type": "scatter"
           }
          ],
          "scatter3d": [
           {
            "line": {
             "colorbar": {
              "outlinewidth": 0,
              "ticks": ""
             }
            },
            "marker": {
             "colorbar": {
              "outlinewidth": 0,
              "ticks": ""
             }
            },
            "type": "scatter3d"
           }
          ],
          "scattercarpet": [
           {
            "marker": {
             "colorbar": {
              "outlinewidth": 0,
              "ticks": ""
             }
            },
            "type": "scattercarpet"
           }
          ],
          "scattergeo": [
           {
            "marker": {
             "colorbar": {
              "outlinewidth": 0,
              "ticks": ""
             }
            },
            "type": "scattergeo"
           }
          ],
          "scattergl": [
           {
            "marker": {
             "colorbar": {
              "outlinewidth": 0,
              "ticks": ""
             }
            },
            "type": "scattergl"
           }
          ],
          "scattermapbox": [
           {
            "marker": {
             "colorbar": {
              "outlinewidth": 0,
              "ticks": ""
             }
            },
            "type": "scattermapbox"
           }
          ],
          "scatterpolar": [
           {
            "marker": {
             "colorbar": {
              "outlinewidth": 0,
              "ticks": ""
             }
            },
            "type": "scatterpolar"
           }
          ],
          "scatterpolargl": [
           {
            "marker": {
             "colorbar": {
              "outlinewidth": 0,
              "ticks": ""
             }
            },
            "type": "scatterpolargl"
           }
          ],
          "scatterternary": [
           {
            "marker": {
             "colorbar": {
              "outlinewidth": 0,
              "ticks": ""
             }
            },
            "type": "scatterternary"
           }
          ],
          "surface": [
           {
            "colorbar": {
             "outlinewidth": 0,
             "ticks": ""
            },
            "colorscale": [
             [
              0,
              "#0d0887"
             ],
             [
              0.1111111111111111,
              "#46039f"
             ],
             [
              0.2222222222222222,
              "#7201a8"
             ],
             [
              0.3333333333333333,
              "#9c179e"
             ],
             [
              0.4444444444444444,
              "#bd3786"
             ],
             [
              0.5555555555555556,
              "#d8576b"
             ],
             [
              0.6666666666666666,
              "#ed7953"
             ],
             [
              0.7777777777777778,
              "#fb9f3a"
             ],
             [
              0.8888888888888888,
              "#fdca26"
             ],
             [
              1,
              "#f0f921"
             ]
            ],
            "type": "surface"
           }
          ],
          "table": [
           {
            "cells": {
             "fill": {
              "color": "#EBF0F8"
             },
             "line": {
              "color": "white"
             }
            },
            "header": {
             "fill": {
              "color": "#C8D4E3"
             },
             "line": {
              "color": "white"
             }
            },
            "type": "table"
           }
          ]
         },
         "layout": {
          "annotationdefaults": {
           "arrowcolor": "#2a3f5f",
           "arrowhead": 0,
           "arrowwidth": 1
          },
          "autotypenumbers": "strict",
          "coloraxis": {
           "colorbar": {
            "outlinewidth": 0,
            "ticks": ""
           }
          },
          "colorscale": {
           "diverging": [
            [
             0,
             "#8e0152"
            ],
            [
             0.1,
             "#c51b7d"
            ],
            [
             0.2,
             "#de77ae"
            ],
            [
             0.3,
             "#f1b6da"
            ],
            [
             0.4,
             "#fde0ef"
            ],
            [
             0.5,
             "#f7f7f7"
            ],
            [
             0.6,
             "#e6f5d0"
            ],
            [
             0.7,
             "#b8e186"
            ],
            [
             0.8,
             "#7fbc41"
            ],
            [
             0.9,
             "#4d9221"
            ],
            [
             1,
             "#276419"
            ]
           ],
           "sequential": [
            [
             0,
             "#0d0887"
            ],
            [
             0.1111111111111111,
             "#46039f"
            ],
            [
             0.2222222222222222,
             "#7201a8"
            ],
            [
             0.3333333333333333,
             "#9c179e"
            ],
            [
             0.4444444444444444,
             "#bd3786"
            ],
            [
             0.5555555555555556,
             "#d8576b"
            ],
            [
             0.6666666666666666,
             "#ed7953"
            ],
            [
             0.7777777777777778,
             "#fb9f3a"
            ],
            [
             0.8888888888888888,
             "#fdca26"
            ],
            [
             1,
             "#f0f921"
            ]
           ],
           "sequentialminus": [
            [
             0,
             "#0d0887"
            ],
            [
             0.1111111111111111,
             "#46039f"
            ],
            [
             0.2222222222222222,
             "#7201a8"
            ],
            [
             0.3333333333333333,
             "#9c179e"
            ],
            [
             0.4444444444444444,
             "#bd3786"
            ],
            [
             0.5555555555555556,
             "#d8576b"
            ],
            [
             0.6666666666666666,
             "#ed7953"
            ],
            [
             0.7777777777777778,
             "#fb9f3a"
            ],
            [
             0.8888888888888888,
             "#fdca26"
            ],
            [
             1,
             "#f0f921"
            ]
           ]
          },
          "colorway": [
           "#636efa",
           "#EF553B",
           "#00cc96",
           "#ab63fa",
           "#FFA15A",
           "#19d3f3",
           "#FF6692",
           "#B6E880",
           "#FF97FF",
           "#FECB52"
          ],
          "font": {
           "color": "#2a3f5f"
          },
          "geo": {
           "bgcolor": "white",
           "lakecolor": "white",
           "landcolor": "#E5ECF6",
           "showlakes": true,
           "showland": true,
           "subunitcolor": "white"
          },
          "hoverlabel": {
           "align": "left"
          },
          "hovermode": "closest",
          "mapbox": {
           "style": "light"
          },
          "paper_bgcolor": "white",
          "plot_bgcolor": "#E5ECF6",
          "polar": {
           "angularaxis": {
            "gridcolor": "white",
            "linecolor": "white",
            "ticks": ""
           },
           "bgcolor": "#E5ECF6",
           "radialaxis": {
            "gridcolor": "white",
            "linecolor": "white",
            "ticks": ""
           }
          },
          "scene": {
           "xaxis": {
            "backgroundcolor": "#E5ECF6",
            "gridcolor": "white",
            "gridwidth": 2,
            "linecolor": "white",
            "showbackground": true,
            "ticks": "",
            "zerolinecolor": "white"
           },
           "yaxis": {
            "backgroundcolor": "#E5ECF6",
            "gridcolor": "white",
            "gridwidth": 2,
            "linecolor": "white",
            "showbackground": true,
            "ticks": "",
            "zerolinecolor": "white"
           },
           "zaxis": {
            "backgroundcolor": "#E5ECF6",
            "gridcolor": "white",
            "gridwidth": 2,
            "linecolor": "white",
            "showbackground": true,
            "ticks": "",
            "zerolinecolor": "white"
           }
          },
          "shapedefaults": {
           "line": {
            "color": "#2a3f5f"
           }
          },
          "ternary": {
           "aaxis": {
            "gridcolor": "white",
            "linecolor": "white",
            "ticks": ""
           },
           "baxis": {
            "gridcolor": "white",
            "linecolor": "white",
            "ticks": ""
           },
           "bgcolor": "#E5ECF6",
           "caxis": {
            "gridcolor": "white",
            "linecolor": "white",
            "ticks": ""
           }
          },
          "title": {
           "x": 0.05
          },
          "xaxis": {
           "automargin": true,
           "gridcolor": "white",
           "linecolor": "white",
           "ticks": "",
           "title": {
            "standoff": 15
           },
           "zerolinecolor": "white",
           "zerolinewidth": 2
          },
          "yaxis": {
           "automargin": true,
           "gridcolor": "white",
           "linecolor": "white",
           "ticks": "",
           "title": {
            "standoff": 15
           },
           "zerolinecolor": "white",
           "zerolinewidth": 2
          }
         }
        },
        "title": {
         "text": "Title:Naive Method vs BAAFFM"
        },
        "xaxis": {
         "anchor": "y",
         "domain": [
          0,
          0.94
         ]
        },
        "yaxis": {
         "anchor": "x",
         "domain": [
          0,
          1
         ],
         "title": {
          "text": "DD in Years"
         }
        },
        "yaxis2": {
         "anchor": "x",
         "overlaying": "y",
         "side": "right",
         "title": {
          "text": "Economic Indicator in %"
         }
        }
       }
      },
      "text/html": [
       "<div>                            <div id=\"805e0333-e96d-4818-84bb-f585d95e2b76\" class=\"plotly-graph-div\" style=\"height:525px; width:100%;\"></div>            <script type=\"text/javascript\">                require([\"plotly\"], function(Plotly) {                    window.PLOTLYENV=window.PLOTLYENV || {};                                    if (document.getElementById(\"805e0333-e96d-4818-84bb-f585d95e2b76\")) {                    Plotly.newPlot(                        \"805e0333-e96d-4818-84bb-f585d95e2b76\",                        [{\"name\":\"dd_naive_0.05_0.25_75%\",\"x\":[1971,1972,1973,1974,1975,1976,1977,1978,1979,1980,1981,1982,1983,1984,1985,1986,1987,1988,1989,1990,1991,1992,1993,1994,1995,1996,1997,1998,1999,2000,2001,2002,2003,2004,2005,2006,2007,2008,2009,2010,2011,2012,2013,2014,2015,2016,2017,2018,2019,2020],\"y\":[0.42099928784767404,0.35481427272001187,0.5530062856745313,0.5937532279379057,0.46356080982929004,0.391179011198754,0.41898192585477856,0.6156058208686586,0.8569215412253737,1.1256367790320132,1.1710413963157755,0.9987245535738932,0.7138601273158551,0.8792255519635988,0.7326746685163772,0.6566012460803393,0.5137961759523458,0.313670310400813,0.5632051874544124,0.5326404944856639,0.36878433272387323,0.24299116026526651,0.19073273315185238,0.1898937369393071,0.3554112584953962,0.36060583383702394,0.39087951957616907,0.37890641238190315,0.25951580342139413,0.34983261685923167,0.2981156500974087,0.09057867023122068,0.06879914525093392,0.08964266516000295,0.25466192482849376,0.42204645765222465,0.5226881189274737,0.2889442195410624,-0.039874808862208726,-0.0069481446671745975,0.07701186911014293,0.024390869053762334,0.049153941790324764,0.06350459560638079,0.03305005795873797,0.023084308750687316,0.04600252361667966,0.1596613762511622,0.21122519680335192,0.16016086803202217],\"type\":\"scatter\",\"xaxis\":\"x\",\"yaxis\":\"y\"},{\"name\":\"dd_naive_0.05_0.5_75%\",\"x\":[1971,1972,1973,1974,1975,1976,1977,1978,1979,1980,1981,1982,1983,1984,1985,1986,1987,1988,1989,1990,1991,1992,1993,1994,1995,1996,1997,1998,1999,2000,2001,2002,2003,2004,2005,2006,2007,2008,2009,2010,2011,2012,2013,2014,2015,2016,2017,2018,2019,2020],\"y\":[0.22322876867138147,0.19678523963497885,0.34749436304062287,0.3246398367765289,0.2211327580154859,0.1885775299396285,0.2332645414624543,0.3840708757212285,0.5220584212096366,0.7074251306001327,0.7055385342347136,0.6110186378256178,0.4260838428350141,0.5215750358712198,0.4286481692186289,0.38845413127973377,0.26866721306599783,0.08589563969889716,0.27086177972156683,0.2554761563281191,0.13199966947900826,0.0693880687316736,0.02374063199302214,0.034941011715762714,0.1380001034392366,0.15640839171561705,0.17379421267517467,0.1664479111291627,0.0775372116013914,0.14474680949278992,0.08485270261689494,-0.016426879488512226,-0.016387732592962806,-0.005235934614159232,0.11055395889889844,0.22982371022571266,0.30423134639839944,0.13258979505401183,-0.12362290245670897,-0.09026065211295473,-0.009532741186069083,-0.05462516988095316,-0.025282381693287,-0.014324190389291324,-0.03306152635504953,-0.040140770326323336,-0.023248589710266436,0.06321877532989852,0.08679470704765704,0.05929022966480694],\"type\":\"scatter\",\"xaxis\":\"x\",\"yaxis\":\"y\"},{\"name\":\"dd_naive_0_0.25_75%\",\"x\":[1971,1972,1973,1974,1975,1976,1977,1978,1979,1980,1981,1982,1983,1984,1985,1986,1987,1988,1989,1990,1991,1992,1993,1994,1995,1996,1997,1998,1999,2000,2001,2002,2003,2004,2005,2006,2007,2008,2009,2010,2011,2012,2013,2014,2015,2016,2017,2018,2019,2020],\"y\":[0.7991895072892162,0.765680710076317,1.2581131765606397,1.0844291754114987,0.812850569778547,0.7289438840209117,0.8841200949780634,1.3514587443284718,1.7284359723836467,2.256744784383633,2.0633798335584386,1.9577509536121904,1.3620214860523587,1.5763461830531718,1.4379799587625341,1.281062598374186,0.8939470406778841,0.4846781729203703,0.8877992831468071,0.8788940726513667,0.5854074534083155,0.4272312096010726,0.3349441876025677,0.34546878993721974,0.5894123061402712,0.6325436810867845,0.6697681283325981,0.6423955866729372,0.44552766747245703,0.5955133160050716,0.47917242837798263,0.21131394569289003,0.1806753298686817,0.20897646645399995,0.5057131014382931,0.8453343906669332,1.0864776973580075,0.577630806159268,0.0009428036332977444,0.04583555630683203,0.20367044626259193,0.1004517006031702,0.14824824625318303,0.181299158630016,0.12823898076786103,0.1034617514181901,0.14981095234866054,0.3886356576958736,0.4536612672910136,0.3836030347056349],\"type\":\"scatter\",\"xaxis\":\"x\",\"yaxis\":\"y\"},{\"name\":\"dd_method_2_75%\",\"x\":[1971,1972,1973,1974,1975,1976,1977,1978,1979,1980,1981,1982,1983,1984,1985,1986,1987,1988,1989,1990,1991,1992,1993,1994,1995,1996,1997,1998,1999,2000,2001,2002,2003,2004,2005,2006,2007,2008,2009,2010,2011,2012,2013,2014,2015,2016,2017,2018,2019,2020],\"y\":[3.9069356813258898,4.569497811806809,5.056610161985411,3.3272451058611403,2.731013188650737,3.3082758297068313,4.571241847564681,5.093327314037266,3.7473548130828815,3.7796071972146015,2.5770278974312557,3.494558906627318,3.6402534888649463,3.749441963185753,4.069562265057812,3.951190753366713,2.988572986750862,1.7769396385672844,2.306084720353433,2.370127244518359,1.887847177038533,1.9387841472635303,1.8005576683143312,2.1269967219688297,2.3131815413616095,2.5155132454223827,2.7086514088139784,2.698097811738366,2.1995233551211273,2.190769117802258,1.7260100217347805,2.0874995073008202,2.1398089839328596,2.652728697473373,3.5287975713053332,3.857259552113585,4.312859458164699,3.2892322760045953,1.3917805056421177,1.371113616899416,2.320973533716151,1.9235716047913982,2.4573040139679585,2.473543993460394,2.436241543308779,2.3171286401669904,2.393361848200601,3.5405634257641037,3.655053678738407,3.309974983581575],\"type\":\"scatter\",\"xaxis\":\"x\",\"yaxis\":\"y\"},{\"name\":\"BAAFFM\",\"x\":[1971,1972,1973,1974,1975,1976,1977,1978,1979,1980,1981,1982,1983,1984,1985,1986,1987,1988,1989,1990,1991,1992,1993,1994,1995,1996,1997,1998,1999,2000,2001,2002,2003,2004,2005,2006,2007,2008,2009,2010,2011,2012,2013,2014,2015,2016,2017,2018,2019,2020],\"y\":[3.9025000000000003,3.724166666666667,-0.4866666666666668,-1.0058333333333331,4.785833333333333,4.701666666666667,3.4316666666666666,1.5574999999999999,-0.5041666666666667,0.31249999999999994,-0.3341666666666668,3.855,4.4675,3.965,4.614166666666667,3.5858333333333334,3.918333333333333,3.2616666666666667,0.9608333333333334,2.2558333333333334,4.114166666666667,5.454999999999999,4.9075,4.4208333333333325,2.3641666666666663,2.7558333333333334,2.4025000000000003,1.8675,2.9008333333333334,2.1283333333333334,4.06,6.134999999999999,5.638333333333333,5.0441666666666665,2.8508333333333327,1.515,1.4633333333333336,5.519166666666667,7.135833333333334,5.863333333333333,5.5625,4.795000000000001,4.994166666666667,4.765,4.866666666666667,4.322499999999999,3.438333333333334,2.9683333333333333,2.2175,3.2291666666666665],\"type\":\"scatter\",\"xaxis\":\"x\",\"yaxis\":\"y2\"}],                        {\"template\":{\"data\":{\"bar\":[{\"error_x\":{\"color\":\"#2a3f5f\"},\"error_y\":{\"color\":\"#2a3f5f\"},\"marker\":{\"line\":{\"color\":\"#E5ECF6\",\"width\":0.5},\"pattern\":{\"fillmode\":\"overlay\",\"size\":10,\"solidity\":0.2}},\"type\":\"bar\"}],\"barpolar\":[{\"marker\":{\"line\":{\"color\":\"#E5ECF6\",\"width\":0.5},\"pattern\":{\"fillmode\":\"overlay\",\"size\":10,\"solidity\":0.2}},\"type\":\"barpolar\"}],\"carpet\":[{\"aaxis\":{\"endlinecolor\":\"#2a3f5f\",\"gridcolor\":\"white\",\"linecolor\":\"white\",\"minorgridcolor\":\"white\",\"startlinecolor\":\"#2a3f5f\"},\"baxis\":{\"endlinecolor\":\"#2a3f5f\",\"gridcolor\":\"white\",\"linecolor\":\"white\",\"minorgridcolor\":\"white\",\"startlinecolor\":\"#2a3f5f\"},\"type\":\"carpet\"}],\"choropleth\":[{\"colorbar\":{\"outlinewidth\":0,\"ticks\":\"\"},\"type\":\"choropleth\"}],\"contour\":[{\"colorbar\":{\"outlinewidth\":0,\"ticks\":\"\"},\"colorscale\":[[0.0,\"#0d0887\"],[0.1111111111111111,\"#46039f\"],[0.2222222222222222,\"#7201a8\"],[0.3333333333333333,\"#9c179e\"],[0.4444444444444444,\"#bd3786\"],[0.5555555555555556,\"#d8576b\"],[0.6666666666666666,\"#ed7953\"],[0.7777777777777778,\"#fb9f3a\"],[0.8888888888888888,\"#fdca26\"],[1.0,\"#f0f921\"]],\"type\":\"contour\"}],\"contourcarpet\":[{\"colorbar\":{\"outlinewidth\":0,\"ticks\":\"\"},\"type\":\"contourcarpet\"}],\"heatmap\":[{\"colorbar\":{\"outlinewidth\":0,\"ticks\":\"\"},\"colorscale\":[[0.0,\"#0d0887\"],[0.1111111111111111,\"#46039f\"],[0.2222222222222222,\"#7201a8\"],[0.3333333333333333,\"#9c179e\"],[0.4444444444444444,\"#bd3786\"],[0.5555555555555556,\"#d8576b\"],[0.6666666666666666,\"#ed7953\"],[0.7777777777777778,\"#fb9f3a\"],[0.8888888888888888,\"#fdca26\"],[1.0,\"#f0f921\"]],\"type\":\"heatmap\"}],\"heatmapgl\":[{\"colorbar\":{\"outlinewidth\":0,\"ticks\":\"\"},\"colorscale\":[[0.0,\"#0d0887\"],[0.1111111111111111,\"#46039f\"],[0.2222222222222222,\"#7201a8\"],[0.3333333333333333,\"#9c179e\"],[0.4444444444444444,\"#bd3786\"],[0.5555555555555556,\"#d8576b\"],[0.6666666666666666,\"#ed7953\"],[0.7777777777777778,\"#fb9f3a\"],[0.8888888888888888,\"#fdca26\"],[1.0,\"#f0f921\"]],\"type\":\"heatmapgl\"}],\"histogram\":[{\"marker\":{\"pattern\":{\"fillmode\":\"overlay\",\"size\":10,\"solidity\":0.2}},\"type\":\"histogram\"}],\"histogram2d\":[{\"colorbar\":{\"outlinewidth\":0,\"ticks\":\"\"},\"colorscale\":[[0.0,\"#0d0887\"],[0.1111111111111111,\"#46039f\"],[0.2222222222222222,\"#7201a8\"],[0.3333333333333333,\"#9c179e\"],[0.4444444444444444,\"#bd3786\"],[0.5555555555555556,\"#d8576b\"],[0.6666666666666666,\"#ed7953\"],[0.7777777777777778,\"#fb9f3a\"],[0.8888888888888888,\"#fdca26\"],[1.0,\"#f0f921\"]],\"type\":\"histogram2d\"}],\"histogram2dcontour\":[{\"colorbar\":{\"outlinewidth\":0,\"ticks\":\"\"},\"colorscale\":[[0.0,\"#0d0887\"],[0.1111111111111111,\"#46039f\"],[0.2222222222222222,\"#7201a8\"],[0.3333333333333333,\"#9c179e\"],[0.4444444444444444,\"#bd3786\"],[0.5555555555555556,\"#d8576b\"],[0.6666666666666666,\"#ed7953\"],[0.7777777777777778,\"#fb9f3a\"],[0.8888888888888888,\"#fdca26\"],[1.0,\"#f0f921\"]],\"type\":\"histogram2dcontour\"}],\"mesh3d\":[{\"colorbar\":{\"outlinewidth\":0,\"ticks\":\"\"},\"type\":\"mesh3d\"}],\"parcoords\":[{\"line\":{\"colorbar\":{\"outlinewidth\":0,\"ticks\":\"\"}},\"type\":\"parcoords\"}],\"pie\":[{\"automargin\":true,\"type\":\"pie\"}],\"scatter\":[{\"marker\":{\"colorbar\":{\"outlinewidth\":0,\"ticks\":\"\"}},\"type\":\"scatter\"}],\"scatter3d\":[{\"line\":{\"colorbar\":{\"outlinewidth\":0,\"ticks\":\"\"}},\"marker\":{\"colorbar\":{\"outlinewidth\":0,\"ticks\":\"\"}},\"type\":\"scatter3d\"}],\"scattercarpet\":[{\"marker\":{\"colorbar\":{\"outlinewidth\":0,\"ticks\":\"\"}},\"type\":\"scattercarpet\"}],\"scattergeo\":[{\"marker\":{\"colorbar\":{\"outlinewidth\":0,\"ticks\":\"\"}},\"type\":\"scattergeo\"}],\"scattergl\":[{\"marker\":{\"colorbar\":{\"outlinewidth\":0,\"ticks\":\"\"}},\"type\":\"scattergl\"}],\"scattermapbox\":[{\"marker\":{\"colorbar\":{\"outlinewidth\":0,\"ticks\":\"\"}},\"type\":\"scattermapbox\"}],\"scatterpolar\":[{\"marker\":{\"colorbar\":{\"outlinewidth\":0,\"ticks\":\"\"}},\"type\":\"scatterpolar\"}],\"scatterpolargl\":[{\"marker\":{\"colorbar\":{\"outlinewidth\":0,\"ticks\":\"\"}},\"type\":\"scatterpolargl\"}],\"scatterternary\":[{\"marker\":{\"colorbar\":{\"outlinewidth\":0,\"ticks\":\"\"}},\"type\":\"scatterternary\"}],\"surface\":[{\"colorbar\":{\"outlinewidth\":0,\"ticks\":\"\"},\"colorscale\":[[0.0,\"#0d0887\"],[0.1111111111111111,\"#46039f\"],[0.2222222222222222,\"#7201a8\"],[0.3333333333333333,\"#9c179e\"],[0.4444444444444444,\"#bd3786\"],[0.5555555555555556,\"#d8576b\"],[0.6666666666666666,\"#ed7953\"],[0.7777777777777778,\"#fb9f3a\"],[0.8888888888888888,\"#fdca26\"],[1.0,\"#f0f921\"]],\"type\":\"surface\"}],\"table\":[{\"cells\":{\"fill\":{\"color\":\"#EBF0F8\"},\"line\":{\"color\":\"white\"}},\"header\":{\"fill\":{\"color\":\"#C8D4E3\"},\"line\":{\"color\":\"white\"}},\"type\":\"table\"}]},\"layout\":{\"annotationdefaults\":{\"arrowcolor\":\"#2a3f5f\",\"arrowhead\":0,\"arrowwidth\":1},\"autotypenumbers\":\"strict\",\"coloraxis\":{\"colorbar\":{\"outlinewidth\":0,\"ticks\":\"\"}},\"colorscale\":{\"diverging\":[[0,\"#8e0152\"],[0.1,\"#c51b7d\"],[0.2,\"#de77ae\"],[0.3,\"#f1b6da\"],[0.4,\"#fde0ef\"],[0.5,\"#f7f7f7\"],[0.6,\"#e6f5d0\"],[0.7,\"#b8e186\"],[0.8,\"#7fbc41\"],[0.9,\"#4d9221\"],[1,\"#276419\"]],\"sequential\":[[0.0,\"#0d0887\"],[0.1111111111111111,\"#46039f\"],[0.2222222222222222,\"#7201a8\"],[0.3333333333333333,\"#9c179e\"],[0.4444444444444444,\"#bd3786\"],[0.5555555555555556,\"#d8576b\"],[0.6666666666666666,\"#ed7953\"],[0.7777777777777778,\"#fb9f3a\"],[0.8888888888888888,\"#fdca26\"],[1.0,\"#f0f921\"]],\"sequentialminus\":[[0.0,\"#0d0887\"],[0.1111111111111111,\"#46039f\"],[0.2222222222222222,\"#7201a8\"],[0.3333333333333333,\"#9c179e\"],[0.4444444444444444,\"#bd3786\"],[0.5555555555555556,\"#d8576b\"],[0.6666666666666666,\"#ed7953\"],[0.7777777777777778,\"#fb9f3a\"],[0.8888888888888888,\"#fdca26\"],[1.0,\"#f0f921\"]]},\"colorway\":[\"#636efa\",\"#EF553B\",\"#00cc96\",\"#ab63fa\",\"#FFA15A\",\"#19d3f3\",\"#FF6692\",\"#B6E880\",\"#FF97FF\",\"#FECB52\"],\"font\":{\"color\":\"#2a3f5f\"},\"geo\":{\"bgcolor\":\"white\",\"lakecolor\":\"white\",\"landcolor\":\"#E5ECF6\",\"showlakes\":true,\"showland\":true,\"subunitcolor\":\"white\"},\"hoverlabel\":{\"align\":\"left\"},\"hovermode\":\"closest\",\"mapbox\":{\"style\":\"light\"},\"paper_bgcolor\":\"white\",\"plot_bgcolor\":\"#E5ECF6\",\"polar\":{\"angularaxis\":{\"gridcolor\":\"white\",\"linecolor\":\"white\",\"ticks\":\"\"},\"bgcolor\":\"#E5ECF6\",\"radialaxis\":{\"gridcolor\":\"white\",\"linecolor\":\"white\",\"ticks\":\"\"}},\"scene\":{\"xaxis\":{\"backgroundcolor\":\"#E5ECF6\",\"gridcolor\":\"white\",\"gridwidth\":2,\"linecolor\":\"white\",\"showbackground\":true,\"ticks\":\"\",\"zerolinecolor\":\"white\"},\"yaxis\":{\"backgroundcolor\":\"#E5ECF6\",\"gridcolor\":\"white\",\"gridwidth\":2,\"linecolor\":\"white\",\"showbackground\":true,\"ticks\":\"\",\"zerolinecolor\":\"white\"},\"zaxis\":{\"backgroundcolor\":\"#E5ECF6\",\"gridcolor\":\"white\",\"gridwidth\":2,\"linecolor\":\"white\",\"showbackground\":true,\"ticks\":\"\",\"zerolinecolor\":\"white\"}},\"shapedefaults\":{\"line\":{\"color\":\"#2a3f5f\"}},\"ternary\":{\"aaxis\":{\"gridcolor\":\"white\",\"linecolor\":\"white\",\"ticks\":\"\"},\"baxis\":{\"gridcolor\":\"white\",\"linecolor\":\"white\",\"ticks\":\"\"},\"bgcolor\":\"#E5ECF6\",\"caxis\":{\"gridcolor\":\"white\",\"linecolor\":\"white\",\"ticks\":\"\"}},\"title\":{\"x\":0.05},\"xaxis\":{\"automargin\":true,\"gridcolor\":\"white\",\"linecolor\":\"white\",\"ticks\":\"\",\"title\":{\"standoff\":15},\"zerolinecolor\":\"white\",\"zerolinewidth\":2},\"yaxis\":{\"automargin\":true,\"gridcolor\":\"white\",\"linecolor\":\"white\",\"ticks\":\"\",\"title\":{\"standoff\":15},\"zerolinecolor\":\"white\",\"zerolinewidth\":2}}},\"xaxis\":{\"anchor\":\"y\",\"domain\":[0.0,0.94]},\"yaxis\":{\"anchor\":\"x\",\"domain\":[0.0,1.0],\"title\":{\"text\":\"DD in Years\"}},\"yaxis2\":{\"anchor\":\"x\",\"overlaying\":\"y\",\"side\":\"right\",\"title\":{\"text\":\"Economic Indicator in %\"}},\"title\":{\"text\":\"Title:Naive Method vs BAAFFM\"},\"barmode\":\"relative\",\"showlegend\":true},                        {\"responsive\": true}                    ).then(function(){\n",
       "                            \n",
       "var gd = document.getElementById('805e0333-e96d-4818-84bb-f585d95e2b76');\n",
       "var x = new MutationObserver(function (mutations, observer) {{\n",
       "        var display = window.getComputedStyle(gd).display;\n",
       "        if (!display || display === 'none') {{\n",
       "            console.log([gd, 'removed!']);\n",
       "            Plotly.purge(gd);\n",
       "            observer.disconnect();\n",
       "        }}\n",
       "}});\n",
       "\n",
       "// Listen for the removal of the full notebook cells\n",
       "var notebookContainer = gd.closest('#notebook-container');\n",
       "if (notebookContainer) {{\n",
       "    x.observe(notebookContainer, {childList: true});\n",
       "}}\n",
       "\n",
       "// Listen for the clearing of the current output cell\n",
       "var outputEl = gd.closest('.output');\n",
       "if (outputEl) {{\n",
       "    x.observe(outputEl, {childList: true});\n",
       "}}\n",
       "\n",
       "                        })                };                });            </script>        </div>"
      ]
     },
     "metadata": {},
     "output_type": "display_data"
    }
   ],
   "source": [
    "p75_all_columns = [\"fyear\",\"dd_naive_0.05_0.25_75%\", \"dd_naive_0.05_0.5_75%\", \"dd_naive_0_0.25_75%\",\"dd_method_2_75%\"]\n",
    "p75_all_methods = descriptive_stats_across_time[p75_all_columns]\n",
    "plot_chart(p75_all_methods,\"Naive Method vs BAAFFM\",\"DD in Years\", \"fyear\")\n",
    "\n",
    "to_plot = pd.merge(p75_all_methods,fred_baaffm,on=\"fyear\",how=\"inner\")\n",
    "plot_chart_with_macro(to_plot,\"Naive Method vs BAAFFM\",\"DD in Years\", \"fyear\")"
   ]
  },
  {
   "cell_type": "markdown",
   "metadata": {},
   "source": [
    "### Plotting DD wtih NBER Recession Data"
   ]
  },
  {
   "cell_type": "code",
   "execution_count": 225,
   "metadata": {},
   "outputs": [
    {
     "data": {
      "application/vnd.plotly.v1+json": {
       "config": {
        "plotlyServerURL": "https://plot.ly"
       },
       "data": [
        {
         "name": "dd_naive_0.05_0.25_50%",
         "type": "scatter",
         "x": [
          1971,
          1972,
          1973,
          1974,
          1975,
          1976,
          1977,
          1978,
          1979,
          1980,
          1981,
          1982,
          1983,
          1984,
          1985,
          1986,
          1987,
          1988,
          1989,
          1990,
          1991,
          1992,
          1993,
          1994,
          1995,
          1996,
          1997,
          1998,
          1999,
          2000,
          2001,
          2002,
          2003,
          2004,
          2005,
          2006,
          2007,
          2008,
          2009,
          2010,
          2011,
          2012,
          2013,
          2014,
          2015,
          2016,
          2017,
          2018,
          2019,
          2020
         ],
         "xaxis": "x",
         "y": [
          0.34961993205586495,
          0.2913790352098916,
          0.4364408263749228,
          0.47622522971615033,
          0.36952227582508446,
          0.2994661677562548,
          0.3158594969701294,
          0.5064587504250277,
          0.6709902552143107,
          0.8983132656927721,
          0.934752423499647,
          0.8036775224577539,
          0.5553052557691538,
          0.6439397427214824,
          0.5632925431813733,
          0.5004418086420326,
          0.3382383254504751,
          0.18298546290340623,
          0.37572670997481006,
          0.3659500128742453,
          0.23522987081073607,
          0.11197067480565134,
          0.06908022463959425,
          0.09715496882796279,
          0.2407894816857137,
          0.24534339061802196,
          0.2474631711145144,
          0.24892285392011015,
          0.16802878301116525,
          0.22215070561487826,
          0.19308542749338709,
          0.03451048138603936,
          0.015898967577520802,
          0.03517673381059662,
          0.1610019730220793,
          0.3172022581163484,
          0.40540962332230446,
          0.20235739217822424,
          -0.09218333665078815,
          -0.074409351944398,
          -0.013734777256378693,
          -0.044967627935942674,
          -0.0197126600344075,
          -0.00978315427935646,
          -0.025199672550510813,
          -0.01903036021143518,
          0.004963868699051563,
          0.09721939967237153,
          0.15916201971731775,
          0.0991416099795179
         ],
         "yaxis": "y"
        },
        {
         "name": "dd_naive_0.05_0.5_50%",
         "type": "scatter",
         "x": [
          1971,
          1972,
          1973,
          1974,
          1975,
          1976,
          1977,
          1978,
          1979,
          1980,
          1981,
          1982,
          1983,
          1984,
          1985,
          1986,
          1987,
          1988,
          1989,
          1990,
          1991,
          1992,
          1993,
          1994,
          1995,
          1996,
          1997,
          1998,
          1999,
          2000,
          2001,
          2002,
          2003,
          2004,
          2005,
          2006,
          2007,
          2008,
          2009,
          2010,
          2011,
          2012,
          2013,
          2014,
          2015,
          2016,
          2017,
          2018,
          2019,
          2020
         ],
         "xaxis": "x",
         "y": [
          0.15551055130045233,
          0.13560757550254549,
          0.2329509126945887,
          0.22188367038707407,
          0.13147317281626414,
          0.10430983303130618,
          0.1360650086424282,
          0.27831495368862763,
          0.3570211476928567,
          0.5007030428686089,
          0.4990041193305602,
          0.43875297183587214,
          0.2773939139225825,
          0.337872995073639,
          0.28669370225277035,
          0.24415596702492207,
          0.11802518796222844,
          -0.03006051347936488,
          0.11642690359469973,
          0.11064469695601084,
          0.009491402223910844,
          -0.059699190113681765,
          -0.08678486951516465,
          -0.05932987416913429,
          0.039652398920240334,
          0.04740928967620951,
          0.05031966100610612,
          0.055970001199574265,
          -0.008860145003941203,
          0.02213654106967569,
          -0.013339543529072764,
          -0.08293416213932675,
          -0.0803952019550312,
          -0.044990248888164455,
          0.05059598281652182,
          0.1423858267615302,
          0.19834000924635148,
          0.05596862112199366,
          -0.1820734667243073,
          -0.15774386105904958,
          -0.07035001790878209,
          -0.10551838694444102,
          -0.06686023790548055,
          -0.05925891575215557,
          -0.0707843973636802,
          -0.07302880129726878,
          -0.06326585064979823,
          0.010447631046438565,
          0.03241580073451549,
          0.003920863716927979
         ],
         "yaxis": "y"
        },
        {
         "name": "dd_naive_0_0.25_50%",
         "type": "scatter",
         "x": [
          1971,
          1972,
          1973,
          1974,
          1975,
          1976,
          1977,
          1978,
          1979,
          1980,
          1981,
          1982,
          1983,
          1984,
          1985,
          1986,
          1987,
          1988,
          1989,
          1990,
          1991,
          1992,
          1993,
          1994,
          1995,
          1996,
          1997,
          1998,
          1999,
          2000,
          2001,
          2002,
          2003,
          2004,
          2005,
          2006,
          2007,
          2008,
          2009,
          2010,
          2011,
          2012,
          2013,
          2014,
          2015,
          2016,
          2017,
          2018,
          2019,
          2020
         ],
         "xaxis": "x",
         "y": [
          0.6345030914232476,
          0.5878981369317964,
          0.8559237203162289,
          0.8137800758433232,
          0.5926386014988188,
          0.5148889125332159,
          0.5834589686439036,
          0.9734429184938016,
          1.1645364674283862,
          1.5182422326475418,
          1.4640258153113972,
          1.3622108439532368,
          0.9132269688347163,
          1.1058216825272273,
          0.9697394166121933,
          0.8502535381733787,
          0.545208420580424,
          0.2890600376693277,
          0.572917275769601,
          0.5528227692111223,
          0.3614694057997538,
          0.20569299148166736,
          0.14767093675871423,
          0.1864625099614412,
          0.3914785611914078,
          0.3960706396840241,
          0.40261258545174805,
          0.41303997043857577,
          0.28587354245613245,
          0.3583556529019865,
          0.309619187839429,
          0.10635523891728912,
          0.08647442998352615,
          0.12592129866224974,
          0.3555518265267129,
          0.5995891811792019,
          0.7443734778187192,
          0.3839787277592922,
          -0.06306224218099674,
          -0.04180088569219721,
          0.047560491728374246,
          -0.0051531644679111135,
          0.03417932284325222,
          0.05191888206702933,
          0.02425100910271555,
          0.03408609048908393,
          0.07502299399442505,
          0.24394724002458956,
          0.318938058448541,
          0.23298912350833467
         ],
         "yaxis": "y"
        },
        {
         "name": "dd_method_2_50%",
         "type": "scatter",
         "x": [
          1971,
          1972,
          1973,
          1974,
          1975,
          1976,
          1977,
          1978,
          1979,
          1980,
          1981,
          1982,
          1983,
          1984,
          1985,
          1986,
          1987,
          1988,
          1989,
          1990,
          1991,
          1992,
          1993,
          1994,
          1995,
          1996,
          1997,
          1998,
          1999,
          2000,
          2001,
          2002,
          2003,
          2004,
          2005,
          2006,
          2007,
          2008,
          2009,
          2010,
          2011,
          2012,
          2013,
          2014,
          2015,
          2016,
          2017,
          2018,
          2019,
          2020
         ],
         "xaxis": "x",
         "y": [
          3.000467349030856,
          3.587799187043143,
          3.776690700633237,
          2.133179758731436,
          1.8409809962563806,
          2.1826330997394465,
          3.085456050448297,
          3.394077710128121,
          2.068428333986785,
          1.7143842746008942,
          0.7441350809565315,
          1.9809421707101382,
          2.49794751801641,
          2.4728059461419987,
          2.542626843177627,
          2.222697953922589,
          2.0229890003779216,
          1.1047268038163776,
          1.3916892378299137,
          1.5293817836707906,
          1.1336554008674233,
          1.205149495548985,
          1.0786944582192546,
          1.3691112001165975,
          1.4567012827201828,
          1.5854068107178905,
          1.6384942545162557,
          1.7109840785262693,
          1.3803815889508106,
          1.2662539567842244,
          0.901691323390245,
          1.300282455874487,
          1.2804161763595063,
          1.3275780200054565,
          2.509767674930117,
          2.8137600983263726,
          3.036721653987684,
          2.4553419661094704,
          0.5738176806279156,
          0.4414890240504139,
          0.9222579170979224,
          0.6235641060839132,
          0.8684503999593304,
          0.7823483749073311,
          0.9593136725664378,
          0.7034752262126885,
          0.9724916142605083,
          1.8938045796245608,
          2.4146298628034923,
          1.8349127976896389
         ],
         "yaxis": "y"
        },
        {
         "name": "USREC",
         "type": "scatter",
         "x": [
          1971,
          1972,
          1973,
          1974,
          1975,
          1976,
          1977,
          1978,
          1979,
          1980,
          1981,
          1982,
          1983,
          1984,
          1985,
          1986,
          1987,
          1988,
          1989,
          1990,
          1991,
          1992,
          1993,
          1994,
          1995,
          1996,
          1997,
          1998,
          1999,
          2000,
          2001,
          2002,
          2003,
          2004,
          2005,
          2006,
          2007,
          2008,
          2009,
          2010,
          2011,
          2012,
          2013,
          2014,
          2015,
          2016,
          2017,
          2018,
          2019,
          2020
         ],
         "xaxis": "x",
         "y": [
          0,
          0,
          0,
          1,
          0,
          0,
          0,
          0,
          0,
          0,
          0,
          1,
          0,
          0,
          0,
          0,
          0,
          0,
          0,
          0,
          0,
          0,
          0,
          0,
          0,
          0,
          0,
          0,
          0,
          0,
          1,
          0,
          0,
          0,
          0,
          0,
          0,
          1,
          0,
          0,
          0,
          0,
          0,
          0,
          0,
          0,
          0,
          0,
          0,
          0
         ],
         "yaxis": "y2"
        }
       ],
       "layout": {
        "barmode": "relative",
        "showlegend": true,
        "template": {
         "data": {
          "bar": [
           {
            "error_x": {
             "color": "#2a3f5f"
            },
            "error_y": {
             "color": "#2a3f5f"
            },
            "marker": {
             "line": {
              "color": "#E5ECF6",
              "width": 0.5
             },
             "pattern": {
              "fillmode": "overlay",
              "size": 10,
              "solidity": 0.2
             }
            },
            "type": "bar"
           }
          ],
          "barpolar": [
           {
            "marker": {
             "line": {
              "color": "#E5ECF6",
              "width": 0.5
             },
             "pattern": {
              "fillmode": "overlay",
              "size": 10,
              "solidity": 0.2
             }
            },
            "type": "barpolar"
           }
          ],
          "carpet": [
           {
            "aaxis": {
             "endlinecolor": "#2a3f5f",
             "gridcolor": "white",
             "linecolor": "white",
             "minorgridcolor": "white",
             "startlinecolor": "#2a3f5f"
            },
            "baxis": {
             "endlinecolor": "#2a3f5f",
             "gridcolor": "white",
             "linecolor": "white",
             "minorgridcolor": "white",
             "startlinecolor": "#2a3f5f"
            },
            "type": "carpet"
           }
          ],
          "choropleth": [
           {
            "colorbar": {
             "outlinewidth": 0,
             "ticks": ""
            },
            "type": "choropleth"
           }
          ],
          "contour": [
           {
            "colorbar": {
             "outlinewidth": 0,
             "ticks": ""
            },
            "colorscale": [
             [
              0,
              "#0d0887"
             ],
             [
              0.1111111111111111,
              "#46039f"
             ],
             [
              0.2222222222222222,
              "#7201a8"
             ],
             [
              0.3333333333333333,
              "#9c179e"
             ],
             [
              0.4444444444444444,
              "#bd3786"
             ],
             [
              0.5555555555555556,
              "#d8576b"
             ],
             [
              0.6666666666666666,
              "#ed7953"
             ],
             [
              0.7777777777777778,
              "#fb9f3a"
             ],
             [
              0.8888888888888888,
              "#fdca26"
             ],
             [
              1,
              "#f0f921"
             ]
            ],
            "type": "contour"
           }
          ],
          "contourcarpet": [
           {
            "colorbar": {
             "outlinewidth": 0,
             "ticks": ""
            },
            "type": "contourcarpet"
           }
          ],
          "heatmap": [
           {
            "colorbar": {
             "outlinewidth": 0,
             "ticks": ""
            },
            "colorscale": [
             [
              0,
              "#0d0887"
             ],
             [
              0.1111111111111111,
              "#46039f"
             ],
             [
              0.2222222222222222,
              "#7201a8"
             ],
             [
              0.3333333333333333,
              "#9c179e"
             ],
             [
              0.4444444444444444,
              "#bd3786"
             ],
             [
              0.5555555555555556,
              "#d8576b"
             ],
             [
              0.6666666666666666,
              "#ed7953"
             ],
             [
              0.7777777777777778,
              "#fb9f3a"
             ],
             [
              0.8888888888888888,
              "#fdca26"
             ],
             [
              1,
              "#f0f921"
             ]
            ],
            "type": "heatmap"
           }
          ],
          "heatmapgl": [
           {
            "colorbar": {
             "outlinewidth": 0,
             "ticks": ""
            },
            "colorscale": [
             [
              0,
              "#0d0887"
             ],
             [
              0.1111111111111111,
              "#46039f"
             ],
             [
              0.2222222222222222,
              "#7201a8"
             ],
             [
              0.3333333333333333,
              "#9c179e"
             ],
             [
              0.4444444444444444,
              "#bd3786"
             ],
             [
              0.5555555555555556,
              "#d8576b"
             ],
             [
              0.6666666666666666,
              "#ed7953"
             ],
             [
              0.7777777777777778,
              "#fb9f3a"
             ],
             [
              0.8888888888888888,
              "#fdca26"
             ],
             [
              1,
              "#f0f921"
             ]
            ],
            "type": "heatmapgl"
           }
          ],
          "histogram": [
           {
            "marker": {
             "pattern": {
              "fillmode": "overlay",
              "size": 10,
              "solidity": 0.2
             }
            },
            "type": "histogram"
           }
          ],
          "histogram2d": [
           {
            "colorbar": {
             "outlinewidth": 0,
             "ticks": ""
            },
            "colorscale": [
             [
              0,
              "#0d0887"
             ],
             [
              0.1111111111111111,
              "#46039f"
             ],
             [
              0.2222222222222222,
              "#7201a8"
             ],
             [
              0.3333333333333333,
              "#9c179e"
             ],
             [
              0.4444444444444444,
              "#bd3786"
             ],
             [
              0.5555555555555556,
              "#d8576b"
             ],
             [
              0.6666666666666666,
              "#ed7953"
             ],
             [
              0.7777777777777778,
              "#fb9f3a"
             ],
             [
              0.8888888888888888,
              "#fdca26"
             ],
             [
              1,
              "#f0f921"
             ]
            ],
            "type": "histogram2d"
           }
          ],
          "histogram2dcontour": [
           {
            "colorbar": {
             "outlinewidth": 0,
             "ticks": ""
            },
            "colorscale": [
             [
              0,
              "#0d0887"
             ],
             [
              0.1111111111111111,
              "#46039f"
             ],
             [
              0.2222222222222222,
              "#7201a8"
             ],
             [
              0.3333333333333333,
              "#9c179e"
             ],
             [
              0.4444444444444444,
              "#bd3786"
             ],
             [
              0.5555555555555556,
              "#d8576b"
             ],
             [
              0.6666666666666666,
              "#ed7953"
             ],
             [
              0.7777777777777778,
              "#fb9f3a"
             ],
             [
              0.8888888888888888,
              "#fdca26"
             ],
             [
              1,
              "#f0f921"
             ]
            ],
            "type": "histogram2dcontour"
           }
          ],
          "mesh3d": [
           {
            "colorbar": {
             "outlinewidth": 0,
             "ticks": ""
            },
            "type": "mesh3d"
           }
          ],
          "parcoords": [
           {
            "line": {
             "colorbar": {
              "outlinewidth": 0,
              "ticks": ""
             }
            },
            "type": "parcoords"
           }
          ],
          "pie": [
           {
            "automargin": true,
            "type": "pie"
           }
          ],
          "scatter": [
           {
            "marker": {
             "colorbar": {
              "outlinewidth": 0,
              "ticks": ""
             }
            },
            "type": "scatter"
           }
          ],
          "scatter3d": [
           {
            "line": {
             "colorbar": {
              "outlinewidth": 0,
              "ticks": ""
             }
            },
            "marker": {
             "colorbar": {
              "outlinewidth": 0,
              "ticks": ""
             }
            },
            "type": "scatter3d"
           }
          ],
          "scattercarpet": [
           {
            "marker": {
             "colorbar": {
              "outlinewidth": 0,
              "ticks": ""
             }
            },
            "type": "scattercarpet"
           }
          ],
          "scattergeo": [
           {
            "marker": {
             "colorbar": {
              "outlinewidth": 0,
              "ticks": ""
             }
            },
            "type": "scattergeo"
           }
          ],
          "scattergl": [
           {
            "marker": {
             "colorbar": {
              "outlinewidth": 0,
              "ticks": ""
             }
            },
            "type": "scattergl"
           }
          ],
          "scattermapbox": [
           {
            "marker": {
             "colorbar": {
              "outlinewidth": 0,
              "ticks": ""
             }
            },
            "type": "scattermapbox"
           }
          ],
          "scatterpolar": [
           {
            "marker": {
             "colorbar": {
              "outlinewidth": 0,
              "ticks": ""
             }
            },
            "type": "scatterpolar"
           }
          ],
          "scatterpolargl": [
           {
            "marker": {
             "colorbar": {
              "outlinewidth": 0,
              "ticks": ""
             }
            },
            "type": "scatterpolargl"
           }
          ],
          "scatterternary": [
           {
            "marker": {
             "colorbar": {
              "outlinewidth": 0,
              "ticks": ""
             }
            },
            "type": "scatterternary"
           }
          ],
          "surface": [
           {
            "colorbar": {
             "outlinewidth": 0,
             "ticks": ""
            },
            "colorscale": [
             [
              0,
              "#0d0887"
             ],
             [
              0.1111111111111111,
              "#46039f"
             ],
             [
              0.2222222222222222,
              "#7201a8"
             ],
             [
              0.3333333333333333,
              "#9c179e"
             ],
             [
              0.4444444444444444,
              "#bd3786"
             ],
             [
              0.5555555555555556,
              "#d8576b"
             ],
             [
              0.6666666666666666,
              "#ed7953"
             ],
             [
              0.7777777777777778,
              "#fb9f3a"
             ],
             [
              0.8888888888888888,
              "#fdca26"
             ],
             [
              1,
              "#f0f921"
             ]
            ],
            "type": "surface"
           }
          ],
          "table": [
           {
            "cells": {
             "fill": {
              "color": "#EBF0F8"
             },
             "line": {
              "color": "white"
             }
            },
            "header": {
             "fill": {
              "color": "#C8D4E3"
             },
             "line": {
              "color": "white"
             }
            },
            "type": "table"
           }
          ]
         },
         "layout": {
          "annotationdefaults": {
           "arrowcolor": "#2a3f5f",
           "arrowhead": 0,
           "arrowwidth": 1
          },
          "autotypenumbers": "strict",
          "coloraxis": {
           "colorbar": {
            "outlinewidth": 0,
            "ticks": ""
           }
          },
          "colorscale": {
           "diverging": [
            [
             0,
             "#8e0152"
            ],
            [
             0.1,
             "#c51b7d"
            ],
            [
             0.2,
             "#de77ae"
            ],
            [
             0.3,
             "#f1b6da"
            ],
            [
             0.4,
             "#fde0ef"
            ],
            [
             0.5,
             "#f7f7f7"
            ],
            [
             0.6,
             "#e6f5d0"
            ],
            [
             0.7,
             "#b8e186"
            ],
            [
             0.8,
             "#7fbc41"
            ],
            [
             0.9,
             "#4d9221"
            ],
            [
             1,
             "#276419"
            ]
           ],
           "sequential": [
            [
             0,
             "#0d0887"
            ],
            [
             0.1111111111111111,
             "#46039f"
            ],
            [
             0.2222222222222222,
             "#7201a8"
            ],
            [
             0.3333333333333333,
             "#9c179e"
            ],
            [
             0.4444444444444444,
             "#bd3786"
            ],
            [
             0.5555555555555556,
             "#d8576b"
            ],
            [
             0.6666666666666666,
             "#ed7953"
            ],
            [
             0.7777777777777778,
             "#fb9f3a"
            ],
            [
             0.8888888888888888,
             "#fdca26"
            ],
            [
             1,
             "#f0f921"
            ]
           ],
           "sequentialminus": [
            [
             0,
             "#0d0887"
            ],
            [
             0.1111111111111111,
             "#46039f"
            ],
            [
             0.2222222222222222,
             "#7201a8"
            ],
            [
             0.3333333333333333,
             "#9c179e"
            ],
            [
             0.4444444444444444,
             "#bd3786"
            ],
            [
             0.5555555555555556,
             "#d8576b"
            ],
            [
             0.6666666666666666,
             "#ed7953"
            ],
            [
             0.7777777777777778,
             "#fb9f3a"
            ],
            [
             0.8888888888888888,
             "#fdca26"
            ],
            [
             1,
             "#f0f921"
            ]
           ]
          },
          "colorway": [
           "#636efa",
           "#EF553B",
           "#00cc96",
           "#ab63fa",
           "#FFA15A",
           "#19d3f3",
           "#FF6692",
           "#B6E880",
           "#FF97FF",
           "#FECB52"
          ],
          "font": {
           "color": "#2a3f5f"
          },
          "geo": {
           "bgcolor": "white",
           "lakecolor": "white",
           "landcolor": "#E5ECF6",
           "showlakes": true,
           "showland": true,
           "subunitcolor": "white"
          },
          "hoverlabel": {
           "align": "left"
          },
          "hovermode": "closest",
          "mapbox": {
           "style": "light"
          },
          "paper_bgcolor": "white",
          "plot_bgcolor": "#E5ECF6",
          "polar": {
           "angularaxis": {
            "gridcolor": "white",
            "linecolor": "white",
            "ticks": ""
           },
           "bgcolor": "#E5ECF6",
           "radialaxis": {
            "gridcolor": "white",
            "linecolor": "white",
            "ticks": ""
           }
          },
          "scene": {
           "xaxis": {
            "backgroundcolor": "#E5ECF6",
            "gridcolor": "white",
            "gridwidth": 2,
            "linecolor": "white",
            "showbackground": true,
            "ticks": "",
            "zerolinecolor": "white"
           },
           "yaxis": {
            "backgroundcolor": "#E5ECF6",
            "gridcolor": "white",
            "gridwidth": 2,
            "linecolor": "white",
            "showbackground": true,
            "ticks": "",
            "zerolinecolor": "white"
           },
           "zaxis": {
            "backgroundcolor": "#E5ECF6",
            "gridcolor": "white",
            "gridwidth": 2,
            "linecolor": "white",
            "showbackground": true,
            "ticks": "",
            "zerolinecolor": "white"
           }
          },
          "shapedefaults": {
           "line": {
            "color": "#2a3f5f"
           }
          },
          "ternary": {
           "aaxis": {
            "gridcolor": "white",
            "linecolor": "white",
            "ticks": ""
           },
           "baxis": {
            "gridcolor": "white",
            "linecolor": "white",
            "ticks": ""
           },
           "bgcolor": "#E5ECF6",
           "caxis": {
            "gridcolor": "white",
            "linecolor": "white",
            "ticks": ""
           }
          },
          "title": {
           "x": 0.05
          },
          "xaxis": {
           "automargin": true,
           "gridcolor": "white",
           "linecolor": "white",
           "ticks": "",
           "title": {
            "standoff": 15
           },
           "zerolinecolor": "white",
           "zerolinewidth": 2
          },
          "yaxis": {
           "automargin": true,
           "gridcolor": "white",
           "linecolor": "white",
           "ticks": "",
           "title": {
            "standoff": 15
           },
           "zerolinecolor": "white",
           "zerolinewidth": 2
          }
         }
        },
        "title": {
         "text": "Title:Results vs NBER Recession Data"
        },
        "xaxis": {
         "anchor": "y",
         "domain": [
          0,
          0.94
         ]
        },
        "yaxis": {
         "anchor": "x",
         "domain": [
          0,
          1
         ],
         "title": {
          "text": "DD in Years"
         }
        },
        "yaxis2": {
         "anchor": "x",
         "overlaying": "y",
         "side": "right",
         "title": {
          "text": "Economic Indicator in %"
         }
        }
       }
      },
      "text/html": [
       "<div>                            <div id=\"65df6013-f79a-4466-9f36-a9cc55a70070\" class=\"plotly-graph-div\" style=\"height:525px; width:100%;\"></div>            <script type=\"text/javascript\">                require([\"plotly\"], function(Plotly) {                    window.PLOTLYENV=window.PLOTLYENV || {};                                    if (document.getElementById(\"65df6013-f79a-4466-9f36-a9cc55a70070\")) {                    Plotly.newPlot(                        \"65df6013-f79a-4466-9f36-a9cc55a70070\",                        [{\"name\":\"dd_naive_0.05_0.25_50%\",\"x\":[1971,1972,1973,1974,1975,1976,1977,1978,1979,1980,1981,1982,1983,1984,1985,1986,1987,1988,1989,1990,1991,1992,1993,1994,1995,1996,1997,1998,1999,2000,2001,2002,2003,2004,2005,2006,2007,2008,2009,2010,2011,2012,2013,2014,2015,2016,2017,2018,2019,2020],\"y\":[0.34961993205586495,0.2913790352098916,0.4364408263749228,0.47622522971615033,0.36952227582508446,0.2994661677562548,0.3158594969701294,0.5064587504250277,0.6709902552143107,0.8983132656927721,0.934752423499647,0.8036775224577539,0.5553052557691538,0.6439397427214824,0.5632925431813733,0.5004418086420326,0.3382383254504751,0.18298546290340623,0.37572670997481006,0.3659500128742453,0.23522987081073607,0.11197067480565134,0.06908022463959425,0.09715496882796279,0.2407894816857137,0.24534339061802196,0.2474631711145144,0.24892285392011015,0.16802878301116525,0.22215070561487826,0.19308542749338709,0.03451048138603936,0.015898967577520802,0.03517673381059662,0.1610019730220793,0.3172022581163484,0.40540962332230446,0.20235739217822424,-0.09218333665078815,-0.074409351944398,-0.013734777256378693,-0.044967627935942674,-0.0197126600344075,-0.00978315427935646,-0.025199672550510813,-0.01903036021143518,0.004963868699051563,0.09721939967237153,0.15916201971731775,0.0991416099795179],\"type\":\"scatter\",\"xaxis\":\"x\",\"yaxis\":\"y\"},{\"name\":\"dd_naive_0.05_0.5_50%\",\"x\":[1971,1972,1973,1974,1975,1976,1977,1978,1979,1980,1981,1982,1983,1984,1985,1986,1987,1988,1989,1990,1991,1992,1993,1994,1995,1996,1997,1998,1999,2000,2001,2002,2003,2004,2005,2006,2007,2008,2009,2010,2011,2012,2013,2014,2015,2016,2017,2018,2019,2020],\"y\":[0.15551055130045233,0.13560757550254549,0.2329509126945887,0.22188367038707407,0.13147317281626414,0.10430983303130618,0.1360650086424282,0.27831495368862763,0.3570211476928567,0.5007030428686089,0.4990041193305602,0.43875297183587214,0.2773939139225825,0.337872995073639,0.28669370225277035,0.24415596702492207,0.11802518796222844,-0.03006051347936488,0.11642690359469973,0.11064469695601084,0.009491402223910844,-0.059699190113681765,-0.08678486951516465,-0.05932987416913429,0.039652398920240334,0.04740928967620951,0.05031966100610612,0.055970001199574265,-0.008860145003941203,0.02213654106967569,-0.013339543529072764,-0.08293416213932675,-0.0803952019550312,-0.044990248888164455,0.05059598281652182,0.1423858267615302,0.19834000924635148,0.05596862112199366,-0.1820734667243073,-0.15774386105904958,-0.07035001790878209,-0.10551838694444102,-0.06686023790548055,-0.05925891575215557,-0.0707843973636802,-0.07302880129726878,-0.06326585064979823,0.010447631046438565,0.03241580073451549,0.003920863716927979],\"type\":\"scatter\",\"xaxis\":\"x\",\"yaxis\":\"y\"},{\"name\":\"dd_naive_0_0.25_50%\",\"x\":[1971,1972,1973,1974,1975,1976,1977,1978,1979,1980,1981,1982,1983,1984,1985,1986,1987,1988,1989,1990,1991,1992,1993,1994,1995,1996,1997,1998,1999,2000,2001,2002,2003,2004,2005,2006,2007,2008,2009,2010,2011,2012,2013,2014,2015,2016,2017,2018,2019,2020],\"y\":[0.6345030914232476,0.5878981369317964,0.8559237203162289,0.8137800758433232,0.5926386014988188,0.5148889125332159,0.5834589686439036,0.9734429184938016,1.1645364674283862,1.5182422326475418,1.4640258153113972,1.3622108439532368,0.9132269688347163,1.1058216825272273,0.9697394166121933,0.8502535381733787,0.545208420580424,0.2890600376693277,0.572917275769601,0.5528227692111223,0.3614694057997538,0.20569299148166736,0.14767093675871423,0.1864625099614412,0.3914785611914078,0.3960706396840241,0.40261258545174805,0.41303997043857577,0.28587354245613245,0.3583556529019865,0.309619187839429,0.10635523891728912,0.08647442998352615,0.12592129866224974,0.3555518265267129,0.5995891811792019,0.7443734778187192,0.3839787277592922,-0.06306224218099674,-0.04180088569219721,0.047560491728374246,-0.0051531644679111135,0.03417932284325222,0.05191888206702933,0.02425100910271555,0.03408609048908393,0.07502299399442505,0.24394724002458956,0.318938058448541,0.23298912350833467],\"type\":\"scatter\",\"xaxis\":\"x\",\"yaxis\":\"y\"},{\"name\":\"dd_method_2_50%\",\"x\":[1971,1972,1973,1974,1975,1976,1977,1978,1979,1980,1981,1982,1983,1984,1985,1986,1987,1988,1989,1990,1991,1992,1993,1994,1995,1996,1997,1998,1999,2000,2001,2002,2003,2004,2005,2006,2007,2008,2009,2010,2011,2012,2013,2014,2015,2016,2017,2018,2019,2020],\"y\":[3.000467349030856,3.587799187043143,3.776690700633237,2.133179758731436,1.8409809962563806,2.1826330997394465,3.085456050448297,3.394077710128121,2.068428333986785,1.7143842746008942,0.7441350809565315,1.9809421707101382,2.49794751801641,2.4728059461419987,2.542626843177627,2.222697953922589,2.0229890003779216,1.1047268038163776,1.3916892378299137,1.5293817836707906,1.1336554008674233,1.205149495548985,1.0786944582192546,1.3691112001165975,1.4567012827201828,1.5854068107178905,1.6384942545162557,1.7109840785262693,1.3803815889508106,1.2662539567842244,0.901691323390245,1.300282455874487,1.2804161763595063,1.3275780200054565,2.509767674930117,2.8137600983263726,3.036721653987684,2.4553419661094704,0.5738176806279156,0.4414890240504139,0.9222579170979224,0.6235641060839132,0.8684503999593304,0.7823483749073311,0.9593136725664378,0.7034752262126885,0.9724916142605083,1.8938045796245608,2.4146298628034923,1.8349127976896389],\"type\":\"scatter\",\"xaxis\":\"x\",\"yaxis\":\"y\"},{\"name\":\"USREC\",\"x\":[1971,1972,1973,1974,1975,1976,1977,1978,1979,1980,1981,1982,1983,1984,1985,1986,1987,1988,1989,1990,1991,1992,1993,1994,1995,1996,1997,1998,1999,2000,2001,2002,2003,2004,2005,2006,2007,2008,2009,2010,2011,2012,2013,2014,2015,2016,2017,2018,2019,2020],\"y\":[0.0,0.0,0.0,1.0,0.0,0.0,0.0,0.0,0.0,0.0,0.0,1.0,0.0,0.0,0.0,0.0,0.0,0.0,0.0,0.0,0.0,0.0,0.0,0.0,0.0,0.0,0.0,0.0,0.0,0.0,1.0,0.0,0.0,0.0,0.0,0.0,0.0,1.0,0.0,0.0,0.0,0.0,0.0,0.0,0.0,0.0,0.0,0.0,0.0,0.0],\"type\":\"scatter\",\"xaxis\":\"x\",\"yaxis\":\"y2\"}],                        {\"template\":{\"data\":{\"bar\":[{\"error_x\":{\"color\":\"#2a3f5f\"},\"error_y\":{\"color\":\"#2a3f5f\"},\"marker\":{\"line\":{\"color\":\"#E5ECF6\",\"width\":0.5},\"pattern\":{\"fillmode\":\"overlay\",\"size\":10,\"solidity\":0.2}},\"type\":\"bar\"}],\"barpolar\":[{\"marker\":{\"line\":{\"color\":\"#E5ECF6\",\"width\":0.5},\"pattern\":{\"fillmode\":\"overlay\",\"size\":10,\"solidity\":0.2}},\"type\":\"barpolar\"}],\"carpet\":[{\"aaxis\":{\"endlinecolor\":\"#2a3f5f\",\"gridcolor\":\"white\",\"linecolor\":\"white\",\"minorgridcolor\":\"white\",\"startlinecolor\":\"#2a3f5f\"},\"baxis\":{\"endlinecolor\":\"#2a3f5f\",\"gridcolor\":\"white\",\"linecolor\":\"white\",\"minorgridcolor\":\"white\",\"startlinecolor\":\"#2a3f5f\"},\"type\":\"carpet\"}],\"choropleth\":[{\"colorbar\":{\"outlinewidth\":0,\"ticks\":\"\"},\"type\":\"choropleth\"}],\"contour\":[{\"colorbar\":{\"outlinewidth\":0,\"ticks\":\"\"},\"colorscale\":[[0.0,\"#0d0887\"],[0.1111111111111111,\"#46039f\"],[0.2222222222222222,\"#7201a8\"],[0.3333333333333333,\"#9c179e\"],[0.4444444444444444,\"#bd3786\"],[0.5555555555555556,\"#d8576b\"],[0.6666666666666666,\"#ed7953\"],[0.7777777777777778,\"#fb9f3a\"],[0.8888888888888888,\"#fdca26\"],[1.0,\"#f0f921\"]],\"type\":\"contour\"}],\"contourcarpet\":[{\"colorbar\":{\"outlinewidth\":0,\"ticks\":\"\"},\"type\":\"contourcarpet\"}],\"heatmap\":[{\"colorbar\":{\"outlinewidth\":0,\"ticks\":\"\"},\"colorscale\":[[0.0,\"#0d0887\"],[0.1111111111111111,\"#46039f\"],[0.2222222222222222,\"#7201a8\"],[0.3333333333333333,\"#9c179e\"],[0.4444444444444444,\"#bd3786\"],[0.5555555555555556,\"#d8576b\"],[0.6666666666666666,\"#ed7953\"],[0.7777777777777778,\"#fb9f3a\"],[0.8888888888888888,\"#fdca26\"],[1.0,\"#f0f921\"]],\"type\":\"heatmap\"}],\"heatmapgl\":[{\"colorbar\":{\"outlinewidth\":0,\"ticks\":\"\"},\"colorscale\":[[0.0,\"#0d0887\"],[0.1111111111111111,\"#46039f\"],[0.2222222222222222,\"#7201a8\"],[0.3333333333333333,\"#9c179e\"],[0.4444444444444444,\"#bd3786\"],[0.5555555555555556,\"#d8576b\"],[0.6666666666666666,\"#ed7953\"],[0.7777777777777778,\"#fb9f3a\"],[0.8888888888888888,\"#fdca26\"],[1.0,\"#f0f921\"]],\"type\":\"heatmapgl\"}],\"histogram\":[{\"marker\":{\"pattern\":{\"fillmode\":\"overlay\",\"size\":10,\"solidity\":0.2}},\"type\":\"histogram\"}],\"histogram2d\":[{\"colorbar\":{\"outlinewidth\":0,\"ticks\":\"\"},\"colorscale\":[[0.0,\"#0d0887\"],[0.1111111111111111,\"#46039f\"],[0.2222222222222222,\"#7201a8\"],[0.3333333333333333,\"#9c179e\"],[0.4444444444444444,\"#bd3786\"],[0.5555555555555556,\"#d8576b\"],[0.6666666666666666,\"#ed7953\"],[0.7777777777777778,\"#fb9f3a\"],[0.8888888888888888,\"#fdca26\"],[1.0,\"#f0f921\"]],\"type\":\"histogram2d\"}],\"histogram2dcontour\":[{\"colorbar\":{\"outlinewidth\":0,\"ticks\":\"\"},\"colorscale\":[[0.0,\"#0d0887\"],[0.1111111111111111,\"#46039f\"],[0.2222222222222222,\"#7201a8\"],[0.3333333333333333,\"#9c179e\"],[0.4444444444444444,\"#bd3786\"],[0.5555555555555556,\"#d8576b\"],[0.6666666666666666,\"#ed7953\"],[0.7777777777777778,\"#fb9f3a\"],[0.8888888888888888,\"#fdca26\"],[1.0,\"#f0f921\"]],\"type\":\"histogram2dcontour\"}],\"mesh3d\":[{\"colorbar\":{\"outlinewidth\":0,\"ticks\":\"\"},\"type\":\"mesh3d\"}],\"parcoords\":[{\"line\":{\"colorbar\":{\"outlinewidth\":0,\"ticks\":\"\"}},\"type\":\"parcoords\"}],\"pie\":[{\"automargin\":true,\"type\":\"pie\"}],\"scatter\":[{\"marker\":{\"colorbar\":{\"outlinewidth\":0,\"ticks\":\"\"}},\"type\":\"scatter\"}],\"scatter3d\":[{\"line\":{\"colorbar\":{\"outlinewidth\":0,\"ticks\":\"\"}},\"marker\":{\"colorbar\":{\"outlinewidth\":0,\"ticks\":\"\"}},\"type\":\"scatter3d\"}],\"scattercarpet\":[{\"marker\":{\"colorbar\":{\"outlinewidth\":0,\"ticks\":\"\"}},\"type\":\"scattercarpet\"}],\"scattergeo\":[{\"marker\":{\"colorbar\":{\"outlinewidth\":0,\"ticks\":\"\"}},\"type\":\"scattergeo\"}],\"scattergl\":[{\"marker\":{\"colorbar\":{\"outlinewidth\":0,\"ticks\":\"\"}},\"type\":\"scattergl\"}],\"scattermapbox\":[{\"marker\":{\"colorbar\":{\"outlinewidth\":0,\"ticks\":\"\"}},\"type\":\"scattermapbox\"}],\"scatterpolar\":[{\"marker\":{\"colorbar\":{\"outlinewidth\":0,\"ticks\":\"\"}},\"type\":\"scatterpolar\"}],\"scatterpolargl\":[{\"marker\":{\"colorbar\":{\"outlinewidth\":0,\"ticks\":\"\"}},\"type\":\"scatterpolargl\"}],\"scatterternary\":[{\"marker\":{\"colorbar\":{\"outlinewidth\":0,\"ticks\":\"\"}},\"type\":\"scatterternary\"}],\"surface\":[{\"colorbar\":{\"outlinewidth\":0,\"ticks\":\"\"},\"colorscale\":[[0.0,\"#0d0887\"],[0.1111111111111111,\"#46039f\"],[0.2222222222222222,\"#7201a8\"],[0.3333333333333333,\"#9c179e\"],[0.4444444444444444,\"#bd3786\"],[0.5555555555555556,\"#d8576b\"],[0.6666666666666666,\"#ed7953\"],[0.7777777777777778,\"#fb9f3a\"],[0.8888888888888888,\"#fdca26\"],[1.0,\"#f0f921\"]],\"type\":\"surface\"}],\"table\":[{\"cells\":{\"fill\":{\"color\":\"#EBF0F8\"},\"line\":{\"color\":\"white\"}},\"header\":{\"fill\":{\"color\":\"#C8D4E3\"},\"line\":{\"color\":\"white\"}},\"type\":\"table\"}]},\"layout\":{\"annotationdefaults\":{\"arrowcolor\":\"#2a3f5f\",\"arrowhead\":0,\"arrowwidth\":1},\"autotypenumbers\":\"strict\",\"coloraxis\":{\"colorbar\":{\"outlinewidth\":0,\"ticks\":\"\"}},\"colorscale\":{\"diverging\":[[0,\"#8e0152\"],[0.1,\"#c51b7d\"],[0.2,\"#de77ae\"],[0.3,\"#f1b6da\"],[0.4,\"#fde0ef\"],[0.5,\"#f7f7f7\"],[0.6,\"#e6f5d0\"],[0.7,\"#b8e186\"],[0.8,\"#7fbc41\"],[0.9,\"#4d9221\"],[1,\"#276419\"]],\"sequential\":[[0.0,\"#0d0887\"],[0.1111111111111111,\"#46039f\"],[0.2222222222222222,\"#7201a8\"],[0.3333333333333333,\"#9c179e\"],[0.4444444444444444,\"#bd3786\"],[0.5555555555555556,\"#d8576b\"],[0.6666666666666666,\"#ed7953\"],[0.7777777777777778,\"#fb9f3a\"],[0.8888888888888888,\"#fdca26\"],[1.0,\"#f0f921\"]],\"sequentialminus\":[[0.0,\"#0d0887\"],[0.1111111111111111,\"#46039f\"],[0.2222222222222222,\"#7201a8\"],[0.3333333333333333,\"#9c179e\"],[0.4444444444444444,\"#bd3786\"],[0.5555555555555556,\"#d8576b\"],[0.6666666666666666,\"#ed7953\"],[0.7777777777777778,\"#fb9f3a\"],[0.8888888888888888,\"#fdca26\"],[1.0,\"#f0f921\"]]},\"colorway\":[\"#636efa\",\"#EF553B\",\"#00cc96\",\"#ab63fa\",\"#FFA15A\",\"#19d3f3\",\"#FF6692\",\"#B6E880\",\"#FF97FF\",\"#FECB52\"],\"font\":{\"color\":\"#2a3f5f\"},\"geo\":{\"bgcolor\":\"white\",\"lakecolor\":\"white\",\"landcolor\":\"#E5ECF6\",\"showlakes\":true,\"showland\":true,\"subunitcolor\":\"white\"},\"hoverlabel\":{\"align\":\"left\"},\"hovermode\":\"closest\",\"mapbox\":{\"style\":\"light\"},\"paper_bgcolor\":\"white\",\"plot_bgcolor\":\"#E5ECF6\",\"polar\":{\"angularaxis\":{\"gridcolor\":\"white\",\"linecolor\":\"white\",\"ticks\":\"\"},\"bgcolor\":\"#E5ECF6\",\"radialaxis\":{\"gridcolor\":\"white\",\"linecolor\":\"white\",\"ticks\":\"\"}},\"scene\":{\"xaxis\":{\"backgroundcolor\":\"#E5ECF6\",\"gridcolor\":\"white\",\"gridwidth\":2,\"linecolor\":\"white\",\"showbackground\":true,\"ticks\":\"\",\"zerolinecolor\":\"white\"},\"yaxis\":{\"backgroundcolor\":\"#E5ECF6\",\"gridcolor\":\"white\",\"gridwidth\":2,\"linecolor\":\"white\",\"showbackground\":true,\"ticks\":\"\",\"zerolinecolor\":\"white\"},\"zaxis\":{\"backgroundcolor\":\"#E5ECF6\",\"gridcolor\":\"white\",\"gridwidth\":2,\"linecolor\":\"white\",\"showbackground\":true,\"ticks\":\"\",\"zerolinecolor\":\"white\"}},\"shapedefaults\":{\"line\":{\"color\":\"#2a3f5f\"}},\"ternary\":{\"aaxis\":{\"gridcolor\":\"white\",\"linecolor\":\"white\",\"ticks\":\"\"},\"baxis\":{\"gridcolor\":\"white\",\"linecolor\":\"white\",\"ticks\":\"\"},\"bgcolor\":\"#E5ECF6\",\"caxis\":{\"gridcolor\":\"white\",\"linecolor\":\"white\",\"ticks\":\"\"}},\"title\":{\"x\":0.05},\"xaxis\":{\"automargin\":true,\"gridcolor\":\"white\",\"linecolor\":\"white\",\"ticks\":\"\",\"title\":{\"standoff\":15},\"zerolinecolor\":\"white\",\"zerolinewidth\":2},\"yaxis\":{\"automargin\":true,\"gridcolor\":\"white\",\"linecolor\":\"white\",\"ticks\":\"\",\"title\":{\"standoff\":15},\"zerolinecolor\":\"white\",\"zerolinewidth\":2}}},\"xaxis\":{\"anchor\":\"y\",\"domain\":[0.0,0.94]},\"yaxis\":{\"anchor\":\"x\",\"domain\":[0.0,1.0],\"title\":{\"text\":\"DD in Years\"}},\"yaxis2\":{\"anchor\":\"x\",\"overlaying\":\"y\",\"side\":\"right\",\"title\":{\"text\":\"Economic Indicator in %\"}},\"title\":{\"text\":\"Title:Results vs NBER Recession Data\"},\"barmode\":\"relative\",\"showlegend\":true},                        {\"responsive\": true}                    ).then(function(){\n",
       "                            \n",
       "var gd = document.getElementById('65df6013-f79a-4466-9f36-a9cc55a70070');\n",
       "var x = new MutationObserver(function (mutations, observer) {{\n",
       "        var display = window.getComputedStyle(gd).display;\n",
       "        if (!display || display === 'none') {{\n",
       "            console.log([gd, 'removed!']);\n",
       "            Plotly.purge(gd);\n",
       "            observer.disconnect();\n",
       "        }}\n",
       "}});\n",
       "\n",
       "// Listen for the removal of the full notebook cells\n",
       "var notebookContainer = gd.closest('#notebook-container');\n",
       "if (notebookContainer) {{\n",
       "    x.observe(notebookContainer, {childList: true});\n",
       "}}\n",
       "\n",
       "// Listen for the clearing of the current output cell\n",
       "var outputEl = gd.closest('.output');\n",
       "if (outputEl) {{\n",
       "    x.observe(outputEl, {childList: true});\n",
       "}}\n",
       "\n",
       "                        })                };                });            </script>        </div>"
      ]
     },
     "metadata": {},
     "output_type": "display_data"
    }
   ],
   "source": [
    "mean_nber = pd.merge(p50_all_methods,nber_approx,on=\"fyear\",how=\"inner\")\n",
    "plot_chart_with_macro(mean_nber,\"Results vs NBER Recession Data\",\"DD in Years\", \"fyear\")"
   ]
  },
  {
   "cell_type": "markdown",
   "metadata": {},
   "source": [
    "#### Descriptive Stats for Recession Years"
   ]
  },
  {
   "cell_type": "code",
   "execution_count": 75,
   "metadata": {},
   "outputs": [
    {
     "data": {
      "text/html": [
       "<div>\n",
       "<style scoped>\n",
       "    .dataframe tbody tr th:only-of-type {\n",
       "        vertical-align: middle;\n",
       "    }\n",
       "\n",
       "    .dataframe tbody tr th {\n",
       "        vertical-align: top;\n",
       "    }\n",
       "\n",
       "    .dataframe thead th {\n",
       "        text-align: right;\n",
       "    }\n",
       "</style>\n",
       "<table border=\"1\" class=\"dataframe\">\n",
       "  <thead>\n",
       "    <tr style=\"text-align: right;\">\n",
       "      <th></th>\n",
       "      <th>fyear</th>\n",
       "      <th>dd_naive_0.05_0.25_count</th>\n",
       "      <th>dd_naive_0.05_0.25_mean</th>\n",
       "      <th>dd_naive_0.05_0.25_std</th>\n",
       "      <th>dd_naive_0.05_0.25_min</th>\n",
       "      <th>dd_naive_0.05_0.25_25%</th>\n",
       "      <th>dd_naive_0.05_0.25_50%</th>\n",
       "      <th>dd_naive_0.05_0.25_75%</th>\n",
       "      <th>dd_naive_0.05_0.25_max</th>\n",
       "      <th>dd_naive_0.05_0.5_count</th>\n",
       "      <th>...</th>\n",
       "      <th>pd_method_2_75%</th>\n",
       "      <th>pd_method_2_max</th>\n",
       "      <th>USREC_count</th>\n",
       "      <th>USREC_mean</th>\n",
       "      <th>USREC_std</th>\n",
       "      <th>USREC_min</th>\n",
       "      <th>USREC_25%</th>\n",
       "      <th>USREC_50%</th>\n",
       "      <th>USREC_75%</th>\n",
       "      <th>USREC_max</th>\n",
       "    </tr>\n",
       "  </thead>\n",
       "  <tbody>\n",
       "    <tr>\n",
       "      <th>0</th>\n",
       "      <td>1974</td>\n",
       "      <td>145.0</td>\n",
       "      <td>0.546656</td>\n",
       "      <td>0.498469</td>\n",
       "      <td>-0.036926</td>\n",
       "      <td>0.343909</td>\n",
       "      <td>0.476225</td>\n",
       "      <td>0.593753</td>\n",
       "      <td>3.816224</td>\n",
       "      <td>145.0</td>\n",
       "      <td>...</td>\n",
       "      <td>0.190988</td>\n",
       "      <td>0.800534</td>\n",
       "      <td>145.0</td>\n",
       "      <td>1.0</td>\n",
       "      <td>0.0</td>\n",
       "      <td>1.0</td>\n",
       "      <td>1.0</td>\n",
       "      <td>1.0</td>\n",
       "      <td>1.0</td>\n",
       "      <td>1.0</td>\n",
       "    </tr>\n",
       "    <tr>\n",
       "      <th>1</th>\n",
       "      <td>1982</td>\n",
       "      <td>161.0</td>\n",
       "      <td>0.871824</td>\n",
       "      <td>0.584186</td>\n",
       "      <td>-0.030187</td>\n",
       "      <td>0.557197</td>\n",
       "      <td>0.803678</td>\n",
       "      <td>0.998725</td>\n",
       "      <td>5.002421</td>\n",
       "      <td>161.0</td>\n",
       "      <td>...</td>\n",
       "      <td>0.459419</td>\n",
       "      <td>0.921969</td>\n",
       "      <td>161.0</td>\n",
       "      <td>1.0</td>\n",
       "      <td>0.0</td>\n",
       "      <td>1.0</td>\n",
       "      <td>1.0</td>\n",
       "      <td>1.0</td>\n",
       "      <td>1.0</td>\n",
       "      <td>1.0</td>\n",
       "    </tr>\n",
       "    <tr>\n",
       "      <th>2</th>\n",
       "      <td>2001</td>\n",
       "      <td>349.0</td>\n",
       "      <td>0.235219</td>\n",
       "      <td>0.398349</td>\n",
       "      <td>-0.442222</td>\n",
       "      <td>0.078163</td>\n",
       "      <td>0.193085</td>\n",
       "      <td>0.298116</td>\n",
       "      <td>4.478097</td>\n",
       "      <td>349.0</td>\n",
       "      <td>...</td>\n",
       "      <td>0.527262</td>\n",
       "      <td>0.976519</td>\n",
       "      <td>349.0</td>\n",
       "      <td>1.0</td>\n",
       "      <td>0.0</td>\n",
       "      <td>1.0</td>\n",
       "      <td>1.0</td>\n",
       "      <td>1.0</td>\n",
       "      <td>1.0</td>\n",
       "      <td>1.0</td>\n",
       "    </tr>\n",
       "    <tr>\n",
       "      <th>3</th>\n",
       "      <td>2008</td>\n",
       "      <td>214.0</td>\n",
       "      <td>0.389198</td>\n",
       "      <td>0.852075</td>\n",
       "      <td>-0.145351</td>\n",
       "      <td>0.150874</td>\n",
       "      <td>0.202357</td>\n",
       "      <td>0.288944</td>\n",
       "      <td>9.628432</td>\n",
       "      <td>214.0</td>\n",
       "      <td>...</td>\n",
       "      <td>0.068134</td>\n",
       "      <td>1.000000</td>\n",
       "      <td>214.0</td>\n",
       "      <td>1.0</td>\n",
       "      <td>0.0</td>\n",
       "      <td>1.0</td>\n",
       "      <td>1.0</td>\n",
       "      <td>1.0</td>\n",
       "      <td>1.0</td>\n",
       "      <td>1.0</td>\n",
       "    </tr>\n",
       "  </tbody>\n",
       "</table>\n",
       "<p>4 rows × 73 columns</p>\n",
       "</div>"
      ],
      "text/plain": [
       "   fyear  dd_naive_0.05_0.25_count  dd_naive_0.05_0.25_mean  \\\n",
       "0   1974                     145.0                 0.546656   \n",
       "1   1982                     161.0                 0.871824   \n",
       "2   2001                     349.0                 0.235219   \n",
       "3   2008                     214.0                 0.389198   \n",
       "\n",
       "   dd_naive_0.05_0.25_std  dd_naive_0.05_0.25_min  dd_naive_0.05_0.25_25%  \\\n",
       "0                0.498469               -0.036926                0.343909   \n",
       "1                0.584186               -0.030187                0.557197   \n",
       "2                0.398349               -0.442222                0.078163   \n",
       "3                0.852075               -0.145351                0.150874   \n",
       "\n",
       "   dd_naive_0.05_0.25_50%  dd_naive_0.05_0.25_75%  dd_naive_0.05_0.25_max  \\\n",
       "0                0.476225                0.593753                3.816224   \n",
       "1                0.803678                0.998725                5.002421   \n",
       "2                0.193085                0.298116                4.478097   \n",
       "3                0.202357                0.288944                9.628432   \n",
       "\n",
       "   dd_naive_0.05_0.5_count  ...  pd_method_2_75%  pd_method_2_max  \\\n",
       "0                    145.0  ...         0.190988         0.800534   \n",
       "1                    161.0  ...         0.459419         0.921969   \n",
       "2                    349.0  ...         0.527262         0.976519   \n",
       "3                    214.0  ...         0.068134         1.000000   \n",
       "\n",
       "   USREC_count  USREC_mean  USREC_std  USREC_min  USREC_25%  USREC_50%  \\\n",
       "0        145.0         1.0        0.0        1.0        1.0        1.0   \n",
       "1        161.0         1.0        0.0        1.0        1.0        1.0   \n",
       "2        349.0         1.0        0.0        1.0        1.0        1.0   \n",
       "3        214.0         1.0        0.0        1.0        1.0        1.0   \n",
       "\n",
       "   USREC_75%  USREC_max  \n",
       "0        1.0        1.0  \n",
       "1        1.0        1.0  \n",
       "2        1.0        1.0  \n",
       "3        1.0        1.0  \n",
       "\n",
       "[4 rows x 73 columns]"
      ]
     },
     "execution_count": 75,
     "metadata": {},
     "output_type": "execute_result"
    }
   ],
   "source": [
    "non_recession_years = nber_approx[nber_approx['USREC']==0]\n",
    "recession_years = nber_approx[nber_approx['USREC']==1]\n",
    "\n",
    "final_recession_years = pd.merge(final[[\"fyear\"]+all_results],recession_years,on=\"fyear\",how=\"inner\")\n",
    "descriptive_stats_recession_years = final_recession_years.groupby(\"fyear\").describe()\n",
    "descriptive_stats_recession_years.columns = descriptive_stats_recession_years.columns.map('{0[0]}_{0[1]}'.format)\n",
    "descriptive_stats_recession_years = descriptive_stats_recession_years.reset_index()\n",
    "descriptive_stats_recession_years"
   ]
  },
  {
   "cell_type": "markdown",
   "metadata": {},
   "source": [
    "#### Descriptive Stats for Non Recession Years"
   ]
  },
  {
   "cell_type": "code",
   "execution_count": 77,
   "metadata": {},
   "outputs": [
    {
     "data": {
      "text/html": [
       "<div>\n",
       "<style scoped>\n",
       "    .dataframe tbody tr th:only-of-type {\n",
       "        vertical-align: middle;\n",
       "    }\n",
       "\n",
       "    .dataframe tbody tr th {\n",
       "        vertical-align: top;\n",
       "    }\n",
       "\n",
       "    .dataframe thead th {\n",
       "        text-align: right;\n",
       "    }\n",
       "</style>\n",
       "<table border=\"1\" class=\"dataframe\">\n",
       "  <thead>\n",
       "    <tr style=\"text-align: right;\">\n",
       "      <th></th>\n",
       "      <th>fyear</th>\n",
       "      <th>dd_naive_0.05_0.25_count</th>\n",
       "      <th>dd_naive_0.05_0.25_mean</th>\n",
       "      <th>dd_naive_0.05_0.25_std</th>\n",
       "      <th>dd_naive_0.05_0.25_min</th>\n",
       "      <th>dd_naive_0.05_0.25_25%</th>\n",
       "      <th>dd_naive_0.05_0.25_50%</th>\n",
       "      <th>dd_naive_0.05_0.25_75%</th>\n",
       "      <th>dd_naive_0.05_0.25_max</th>\n",
       "      <th>dd_naive_0.05_0.5_count</th>\n",
       "      <th>...</th>\n",
       "      <th>pd_method_2_75%</th>\n",
       "      <th>pd_method_2_max</th>\n",
       "      <th>USREC_count</th>\n",
       "      <th>USREC_mean</th>\n",
       "      <th>USREC_std</th>\n",
       "      <th>USREC_min</th>\n",
       "      <th>USREC_25%</th>\n",
       "      <th>USREC_50%</th>\n",
       "      <th>USREC_75%</th>\n",
       "      <th>USREC_max</th>\n",
       "    </tr>\n",
       "  </thead>\n",
       "  <tbody>\n",
       "    <tr>\n",
       "      <th>36</th>\n",
       "      <td>2011</td>\n",
       "      <td>240.0</td>\n",
       "      <td>0.113531</td>\n",
       "      <td>0.517695</td>\n",
       "      <td>-0.198325</td>\n",
       "      <td>-0.051425</td>\n",
       "      <td>-0.013735</td>\n",
       "      <td>0.077012</td>\n",
       "      <td>5.380599</td>\n",
       "      <td>240.0</td>\n",
       "      <td>...</td>\n",
       "      <td>0.736055</td>\n",
       "      <td>1.0</td>\n",
       "      <td>240.0</td>\n",
       "      <td>0.0</td>\n",
       "      <td>0.0</td>\n",
       "      <td>0.0</td>\n",
       "      <td>0.0</td>\n",
       "      <td>0.0</td>\n",
       "      <td>0.0</td>\n",
       "      <td>0.0</td>\n",
       "    </tr>\n",
       "    <tr>\n",
       "      <th>37</th>\n",
       "      <td>2012</td>\n",
       "      <td>337.0</td>\n",
       "      <td>0.136919</td>\n",
       "      <td>0.809678</td>\n",
       "      <td>-0.242440</td>\n",
       "      <td>-0.070442</td>\n",
       "      <td>-0.044968</td>\n",
       "      <td>0.024391</td>\n",
       "      <td>10.334314</td>\n",
       "      <td>337.0</td>\n",
       "      <td>...</td>\n",
       "      <td>0.536130</td>\n",
       "      <td>1.0</td>\n",
       "      <td>337.0</td>\n",
       "      <td>0.0</td>\n",
       "      <td>0.0</td>\n",
       "      <td>0.0</td>\n",
       "      <td>0.0</td>\n",
       "      <td>0.0</td>\n",
       "      <td>0.0</td>\n",
       "      <td>0.0</td>\n",
       "    </tr>\n",
       "    <tr>\n",
       "      <th>38</th>\n",
       "      <td>2013</td>\n",
       "      <td>445.0</td>\n",
       "      <td>0.153109</td>\n",
       "      <td>0.722260</td>\n",
       "      <td>-0.545031</td>\n",
       "      <td>-0.047788</td>\n",
       "      <td>-0.019713</td>\n",
       "      <td>0.049154</td>\n",
       "      <td>8.036456</td>\n",
       "      <td>445.0</td>\n",
       "      <td>...</td>\n",
       "      <td>0.717812</td>\n",
       "      <td>1.0</td>\n",
       "      <td>445.0</td>\n",
       "      <td>0.0</td>\n",
       "      <td>0.0</td>\n",
       "      <td>0.0</td>\n",
       "      <td>0.0</td>\n",
       "      <td>0.0</td>\n",
       "      <td>0.0</td>\n",
       "      <td>0.0</td>\n",
       "    </tr>\n",
       "    <tr>\n",
       "      <th>39</th>\n",
       "      <td>2014</td>\n",
       "      <td>624.0</td>\n",
       "      <td>0.173846</td>\n",
       "      <td>0.735511</td>\n",
       "      <td>-0.910587</td>\n",
       "      <td>-0.041789</td>\n",
       "      <td>-0.009783</td>\n",
       "      <td>0.063505</td>\n",
       "      <td>11.556776</td>\n",
       "      <td>624.0</td>\n",
       "      <td>...</td>\n",
       "      <td>0.838110</td>\n",
       "      <td>1.0</td>\n",
       "      <td>624.0</td>\n",
       "      <td>0.0</td>\n",
       "      <td>0.0</td>\n",
       "      <td>0.0</td>\n",
       "      <td>0.0</td>\n",
       "      <td>0.0</td>\n",
       "      <td>0.0</td>\n",
       "      <td>0.0</td>\n",
       "    </tr>\n",
       "    <tr>\n",
       "      <th>40</th>\n",
       "      <td>2015</td>\n",
       "      <td>709.0</td>\n",
       "      <td>0.158086</td>\n",
       "      <td>0.788941</td>\n",
       "      <td>-0.765232</td>\n",
       "      <td>-0.052471</td>\n",
       "      <td>-0.025200</td>\n",
       "      <td>0.033050</td>\n",
       "      <td>10.869925</td>\n",
       "      <td>709.0</td>\n",
       "      <td>...</td>\n",
       "      <td>0.593069</td>\n",
       "      <td>1.0</td>\n",
       "      <td>709.0</td>\n",
       "      <td>0.0</td>\n",
       "      <td>0.0</td>\n",
       "      <td>0.0</td>\n",
       "      <td>0.0</td>\n",
       "      <td>0.0</td>\n",
       "      <td>0.0</td>\n",
       "      <td>0.0</td>\n",
       "    </tr>\n",
       "    <tr>\n",
       "      <th>41</th>\n",
       "      <td>2016</td>\n",
       "      <td>671.0</td>\n",
       "      <td>0.086423</td>\n",
       "      <td>0.565923</td>\n",
       "      <td>-1.706348</td>\n",
       "      <td>-0.050277</td>\n",
       "      <td>-0.019030</td>\n",
       "      <td>0.023084</td>\n",
       "      <td>5.975354</td>\n",
       "      <td>671.0</td>\n",
       "      <td>...</td>\n",
       "      <td>0.546293</td>\n",
       "      <td>1.0</td>\n",
       "      <td>671.0</td>\n",
       "      <td>0.0</td>\n",
       "      <td>0.0</td>\n",
       "      <td>0.0</td>\n",
       "      <td>0.0</td>\n",
       "      <td>0.0</td>\n",
       "      <td>0.0</td>\n",
       "      <td>0.0</td>\n",
       "    </tr>\n",
       "    <tr>\n",
       "      <th>42</th>\n",
       "      <td>2017</td>\n",
       "      <td>615.0</td>\n",
       "      <td>0.115048</td>\n",
       "      <td>0.709227</td>\n",
       "      <td>-0.503426</td>\n",
       "      <td>-0.036448</td>\n",
       "      <td>0.004964</td>\n",
       "      <td>0.046003</td>\n",
       "      <td>8.291220</td>\n",
       "      <td>615.0</td>\n",
       "      <td>...</td>\n",
       "      <td>0.492694</td>\n",
       "      <td>1.0</td>\n",
       "      <td>615.0</td>\n",
       "      <td>0.0</td>\n",
       "      <td>0.0</td>\n",
       "      <td>0.0</td>\n",
       "      <td>0.0</td>\n",
       "      <td>0.0</td>\n",
       "      <td>0.0</td>\n",
       "      <td>0.0</td>\n",
       "    </tr>\n",
       "    <tr>\n",
       "      <th>43</th>\n",
       "      <td>2018</td>\n",
       "      <td>574.0</td>\n",
       "      <td>0.268095</td>\n",
       "      <td>1.064354</td>\n",
       "      <td>-0.411284</td>\n",
       "      <td>0.042693</td>\n",
       "      <td>0.097219</td>\n",
       "      <td>0.159661</td>\n",
       "      <td>15.725713</td>\n",
       "      <td>574.0</td>\n",
       "      <td>...</td>\n",
       "      <td>0.363326</td>\n",
       "      <td>1.0</td>\n",
       "      <td>574.0</td>\n",
       "      <td>0.0</td>\n",
       "      <td>0.0</td>\n",
       "      <td>0.0</td>\n",
       "      <td>0.0</td>\n",
       "      <td>0.0</td>\n",
       "      <td>0.0</td>\n",
       "      <td>0.0</td>\n",
       "    </tr>\n",
       "    <tr>\n",
       "      <th>44</th>\n",
       "      <td>2019</td>\n",
       "      <td>549.0</td>\n",
       "      <td>0.258673</td>\n",
       "      <td>0.611606</td>\n",
       "      <td>-0.847152</td>\n",
       "      <td>0.081032</td>\n",
       "      <td>0.159162</td>\n",
       "      <td>0.211225</td>\n",
       "      <td>8.184791</td>\n",
       "      <td>549.0</td>\n",
       "      <td>...</td>\n",
       "      <td>0.124713</td>\n",
       "      <td>1.0</td>\n",
       "      <td>549.0</td>\n",
       "      <td>0.0</td>\n",
       "      <td>0.0</td>\n",
       "      <td>0.0</td>\n",
       "      <td>0.0</td>\n",
       "      <td>0.0</td>\n",
       "      <td>0.0</td>\n",
       "      <td>0.0</td>\n",
       "    </tr>\n",
       "    <tr>\n",
       "      <th>45</th>\n",
       "      <td>2020</td>\n",
       "      <td>590.0</td>\n",
       "      <td>0.193230</td>\n",
       "      <td>0.622358</td>\n",
       "      <td>-0.682902</td>\n",
       "      <td>0.025411</td>\n",
       "      <td>0.099142</td>\n",
       "      <td>0.160161</td>\n",
       "      <td>7.803129</td>\n",
       "      <td>590.0</td>\n",
       "      <td>...</td>\n",
       "      <td>0.330682</td>\n",
       "      <td>1.0</td>\n",
       "      <td>590.0</td>\n",
       "      <td>0.0</td>\n",
       "      <td>0.0</td>\n",
       "      <td>0.0</td>\n",
       "      <td>0.0</td>\n",
       "      <td>0.0</td>\n",
       "      <td>0.0</td>\n",
       "      <td>0.0</td>\n",
       "    </tr>\n",
       "  </tbody>\n",
       "</table>\n",
       "<p>10 rows × 73 columns</p>\n",
       "</div>"
      ],
      "text/plain": [
       "    fyear  dd_naive_0.05_0.25_count  dd_naive_0.05_0.25_mean  \\\n",
       "36   2011                     240.0                 0.113531   \n",
       "37   2012                     337.0                 0.136919   \n",
       "38   2013                     445.0                 0.153109   \n",
       "39   2014                     624.0                 0.173846   \n",
       "40   2015                     709.0                 0.158086   \n",
       "41   2016                     671.0                 0.086423   \n",
       "42   2017                     615.0                 0.115048   \n",
       "43   2018                     574.0                 0.268095   \n",
       "44   2019                     549.0                 0.258673   \n",
       "45   2020                     590.0                 0.193230   \n",
       "\n",
       "    dd_naive_0.05_0.25_std  dd_naive_0.05_0.25_min  dd_naive_0.05_0.25_25%  \\\n",
       "36                0.517695               -0.198325               -0.051425   \n",
       "37                0.809678               -0.242440               -0.070442   \n",
       "38                0.722260               -0.545031               -0.047788   \n",
       "39                0.735511               -0.910587               -0.041789   \n",
       "40                0.788941               -0.765232               -0.052471   \n",
       "41                0.565923               -1.706348               -0.050277   \n",
       "42                0.709227               -0.503426               -0.036448   \n",
       "43                1.064354               -0.411284                0.042693   \n",
       "44                0.611606               -0.847152                0.081032   \n",
       "45                0.622358               -0.682902                0.025411   \n",
       "\n",
       "    dd_naive_0.05_0.25_50%  dd_naive_0.05_0.25_75%  dd_naive_0.05_0.25_max  \\\n",
       "36               -0.013735                0.077012                5.380599   \n",
       "37               -0.044968                0.024391               10.334314   \n",
       "38               -0.019713                0.049154                8.036456   \n",
       "39               -0.009783                0.063505               11.556776   \n",
       "40               -0.025200                0.033050               10.869925   \n",
       "41               -0.019030                0.023084                5.975354   \n",
       "42                0.004964                0.046003                8.291220   \n",
       "43                0.097219                0.159661               15.725713   \n",
       "44                0.159162                0.211225                8.184791   \n",
       "45                0.099142                0.160161                7.803129   \n",
       "\n",
       "    dd_naive_0.05_0.5_count  ...  pd_method_2_75%  pd_method_2_max  \\\n",
       "36                    240.0  ...         0.736055              1.0   \n",
       "37                    337.0  ...         0.536130              1.0   \n",
       "38                    445.0  ...         0.717812              1.0   \n",
       "39                    624.0  ...         0.838110              1.0   \n",
       "40                    709.0  ...         0.593069              1.0   \n",
       "41                    671.0  ...         0.546293              1.0   \n",
       "42                    615.0  ...         0.492694              1.0   \n",
       "43                    574.0  ...         0.363326              1.0   \n",
       "44                    549.0  ...         0.124713              1.0   \n",
       "45                    590.0  ...         0.330682              1.0   \n",
       "\n",
       "    USREC_count  USREC_mean  USREC_std  USREC_min  USREC_25%  USREC_50%  \\\n",
       "36        240.0         0.0        0.0        0.0        0.0        0.0   \n",
       "37        337.0         0.0        0.0        0.0        0.0        0.0   \n",
       "38        445.0         0.0        0.0        0.0        0.0        0.0   \n",
       "39        624.0         0.0        0.0        0.0        0.0        0.0   \n",
       "40        709.0         0.0        0.0        0.0        0.0        0.0   \n",
       "41        671.0         0.0        0.0        0.0        0.0        0.0   \n",
       "42        615.0         0.0        0.0        0.0        0.0        0.0   \n",
       "43        574.0         0.0        0.0        0.0        0.0        0.0   \n",
       "44        549.0         0.0        0.0        0.0        0.0        0.0   \n",
       "45        590.0         0.0        0.0        0.0        0.0        0.0   \n",
       "\n",
       "    USREC_75%  USREC_max  \n",
       "36        0.0        0.0  \n",
       "37        0.0        0.0  \n",
       "38        0.0        0.0  \n",
       "39        0.0        0.0  \n",
       "40        0.0        0.0  \n",
       "41        0.0        0.0  \n",
       "42        0.0        0.0  \n",
       "43        0.0        0.0  \n",
       "44        0.0        0.0  \n",
       "45        0.0        0.0  \n",
       "\n",
       "[10 rows x 73 columns]"
      ]
     },
     "execution_count": 77,
     "metadata": {},
     "output_type": "execute_result"
    }
   ],
   "source": [
    "final_non_recession_years = pd.merge(final[[\"fyear\"]+all_results],non_recession_years,on=\"fyear\",how=\"inner\")\n",
    "descriptive_stats_non_recession_years = final_non_recession_years.groupby(\"fyear\").describe()\n",
    "descriptive_stats_non_recession_years.columns = descriptive_stats_non_recession_years.columns.map('{0[0]}_{0[1]}'.format)\n",
    "descriptive_stats_non_recession_years = descriptive_stats_non_recession_years.reset_index()\n",
    "descriptive_stats_non_recession_years.tail(10)"
   ]
  }
 ],
 "metadata": {
  "kernelspec": {
   "display_name": "Python 3",
   "language": "python",
   "name": "python3"
  },
  "language_info": {
   "codemirror_mode": {
    "name": "ipython",
    "version": 3
   },
   "file_extension": ".py",
   "mimetype": "text/x-python",
   "name": "python",
   "nbconvert_exporter": "python",
   "pygments_lexer": "ipython3",
   "version": "3.6.5"
  }
 },
 "nbformat": 4,
 "nbformat_minor": 2
}
